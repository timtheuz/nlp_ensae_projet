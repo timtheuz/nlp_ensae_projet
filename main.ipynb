{
 "cells": [
  {
   "cell_type": "markdown",
   "source": [
    "# Project"
   ],
   "metadata": {
    "collapsed": false
   }
  },
  {
   "cell_type": "markdown",
   "source": [
    "__[Project Page](https://notes.teklia.com/s/AU3AEfOBr#)__"
   ],
   "metadata": {
    "collapsed": false
   }
  },
  {
   "cell_type": "code",
   "execution_count": 3,
   "metadata": {
    "collapsed": true
   },
   "outputs": [],
   "source": [
    "import pandas as pd\n",
    "import matplotlib.pyplot as plt\n",
    "from sklearn.feature_extraction.text import TfidfVectorizer, CountVectorizer\n",
    "from sklearn.model_selection import train_test_split"
   ]
  },
  {
   "cell_type": "markdown",
   "source": [],
   "metadata": {
    "collapsed": false
   }
  },
  {
   "cell_type": "code",
   "execution_count": 4,
   "outputs": [],
   "source": [
    "firstname_with_sex = pd.read_csv('firstname_with_sex.csv', sep=';')\n",
    "transcriptions_with_sex = pd.read_csv('transcriptions_with_sex.csv', sep=',')\n",
    "#transcriptions_with_sex = pd.read_csv('transcriptions_with_sex.csv', sep=';|:')"
   ],
   "metadata": {
    "collapsed": false
   }
  },
  {
   "cell_type": "code",
   "execution_count": 5,
   "outputs": [
    {
     "data": {
      "text/plain": "     firstname     male   female\n0        marie    10145  2390322\n1         jean  1869615     6476\n2       pierre  1475841     5047\n3       jeanne     1765  1097397\n4     françois  1089009     5951\n...        ...      ...      ...\n6941   winnocq       10        0\n6942     xyste        9        1\n6943      zara        0       10\n6944  zéraphin       10        0\n6945     zimle        0       10\n\n[6946 rows x 3 columns]",
      "text/html": "<div>\n<style scoped>\n    .dataframe tbody tr th:only-of-type {\n        vertical-align: middle;\n    }\n\n    .dataframe tbody tr th {\n        vertical-align: top;\n    }\n\n    .dataframe thead th {\n        text-align: right;\n    }\n</style>\n<table border=\"1\" class=\"dataframe\">\n  <thead>\n    <tr style=\"text-align: right;\">\n      <th></th>\n      <th>firstname</th>\n      <th>male</th>\n      <th>female</th>\n    </tr>\n  </thead>\n  <tbody>\n    <tr>\n      <th>0</th>\n      <td>marie</td>\n      <td>10145</td>\n      <td>2390322</td>\n    </tr>\n    <tr>\n      <th>1</th>\n      <td>jean</td>\n      <td>1869615</td>\n      <td>6476</td>\n    </tr>\n    <tr>\n      <th>2</th>\n      <td>pierre</td>\n      <td>1475841</td>\n      <td>5047</td>\n    </tr>\n    <tr>\n      <th>3</th>\n      <td>jeanne</td>\n      <td>1765</td>\n      <td>1097397</td>\n    </tr>\n    <tr>\n      <th>4</th>\n      <td>françois</td>\n      <td>1089009</td>\n      <td>5951</td>\n    </tr>\n    <tr>\n      <th>...</th>\n      <td>...</td>\n      <td>...</td>\n      <td>...</td>\n    </tr>\n    <tr>\n      <th>6941</th>\n      <td>winnocq</td>\n      <td>10</td>\n      <td>0</td>\n    </tr>\n    <tr>\n      <th>6942</th>\n      <td>xyste</td>\n      <td>9</td>\n      <td>1</td>\n    </tr>\n    <tr>\n      <th>6943</th>\n      <td>zara</td>\n      <td>0</td>\n      <td>10</td>\n    </tr>\n    <tr>\n      <th>6944</th>\n      <td>zéraphin</td>\n      <td>10</td>\n      <td>0</td>\n    </tr>\n    <tr>\n      <th>6945</th>\n      <td>zimle</td>\n      <td>0</td>\n      <td>10</td>\n    </tr>\n  </tbody>\n</table>\n<p>6946 rows × 3 columns</p>\n</div>"
     },
     "execution_count": 5,
     "metadata": {},
     "output_type": "execute_result"
    }
   ],
   "source": [
    "firstname_with_sex"
   ],
   "metadata": {
    "collapsed": false
   }
  },
  {
   "cell_type": "code",
   "execution_count": 6,
   "outputs": [
    {
     "name": "stdout",
     "output_type": "stream",
     "text": [
      "<class 'pandas.core.frame.DataFrame'>\n",
      "RangeIndex: 6946 entries, 0 to 6945\n",
      "Data columns (total 3 columns):\n",
      " #   Column     Non-Null Count  Dtype \n",
      "---  ------     --------------  ----- \n",
      " 0   firstname  6946 non-null   object\n",
      " 1   male       6946 non-null   int64 \n",
      " 2   female     6946 non-null   int64 \n",
      "dtypes: int64(2), object(1)\n",
      "memory usage: 162.9+ KB\n"
     ]
    }
   ],
   "source": [
    "firstname_with_sex.info()"
   ],
   "metadata": {
    "collapsed": false
   }
  },
  {
   "cell_type": "code",
   "execution_count": 7,
   "outputs": [],
   "source": [
    "# A ratio closer to 1 means a name more used by males\n",
    "firstname_with_sex['ratio'] = firstname_with_sex['male'] / (firstname_with_sex['male'] + firstname_with_sex['female'])"
   ],
   "metadata": {
    "collapsed": false
   }
  },
  {
   "cell_type": "code",
   "execution_count": 8,
   "outputs": [
    {
     "data": {
      "text/plain": "  firstname     male   female     ratio\n0     marie    10145  2390322  0.004226\n1      jean  1869615     6476  0.996548\n2    pierre  1475841     5047  0.996592\n3    jeanne     1765  1097397  0.001606\n4  françois  1089009     5951  0.994565",
      "text/html": "<div>\n<style scoped>\n    .dataframe tbody tr th:only-of-type {\n        vertical-align: middle;\n    }\n\n    .dataframe tbody tr th {\n        vertical-align: top;\n    }\n\n    .dataframe thead th {\n        text-align: right;\n    }\n</style>\n<table border=\"1\" class=\"dataframe\">\n  <thead>\n    <tr style=\"text-align: right;\">\n      <th></th>\n      <th>firstname</th>\n      <th>male</th>\n      <th>female</th>\n      <th>ratio</th>\n    </tr>\n  </thead>\n  <tbody>\n    <tr>\n      <th>0</th>\n      <td>marie</td>\n      <td>10145</td>\n      <td>2390322</td>\n      <td>0.004226</td>\n    </tr>\n    <tr>\n      <th>1</th>\n      <td>jean</td>\n      <td>1869615</td>\n      <td>6476</td>\n      <td>0.996548</td>\n    </tr>\n    <tr>\n      <th>2</th>\n      <td>pierre</td>\n      <td>1475841</td>\n      <td>5047</td>\n      <td>0.996592</td>\n    </tr>\n    <tr>\n      <th>3</th>\n      <td>jeanne</td>\n      <td>1765</td>\n      <td>1097397</td>\n      <td>0.001606</td>\n    </tr>\n    <tr>\n      <th>4</th>\n      <td>françois</td>\n      <td>1089009</td>\n      <td>5951</td>\n      <td>0.994565</td>\n    </tr>\n  </tbody>\n</table>\n</div>"
     },
     "execution_count": 8,
     "metadata": {},
     "output_type": "execute_result"
    }
   ],
   "source": [
    "firstname_with_sex.head()"
   ],
   "metadata": {
    "collapsed": false
   }
  },
  {
   "cell_type": "markdown",
   "source": [
    "### Descriptive Statistics"
   ],
   "metadata": {
    "collapsed": false
   }
  },
  {
   "cell_type": "code",
   "execution_count": 9,
   "outputs": [
    {
     "data": {
      "text/plain": "<AxesSubplot:>"
     },
     "execution_count": 9,
     "metadata": {},
     "output_type": "execute_result"
    },
    {
     "data": {
      "text/plain": "<Figure size 432x288 with 2 Axes>",
      "image/png": "[encoded data removed]"
     },
     "metadata": {
      "needs_background": "light"
     },
     "output_type": "display_data"
    }
   ],
   "source": [
    "fig, ax = plt.subplots(1, 2, sharey=False, tight_layout=True)\n",
    "\n",
    "ax[0].hist(firstname_with_sex['ratio'], bins=20)\n",
    "ax[1].hist(firstname_with_sex['ratio'], bins=20, range=(0.05, 0.95))\n",
    "ax[0]"
   ],
   "metadata": {
    "collapsed": false
   }
  },
  {
   "cell_type": "code",
   "execution_count": 10,
   "outputs": [
    {
     "data": {
      "text/plain": "<AxesSubplot:>"
     },
     "execution_count": 10,
     "metadata": {},
     "output_type": "execute_result"
    },
    {
     "data": {
      "text/plain": "<Figure size 432x288 with 1 Axes>",
      "image/png": "[encoded data removed]"
     },
     "metadata": {
      "needs_background": "light"
     },
     "output_type": "display_data"
    }
   ],
   "source": [
    "firstname_with_sex['ratio'].hist(bins=20, range=(0.05, 0.95),log=False)"
   ],
   "metadata": {
    "collapsed": false
   }
  },
  {
   "cell_type": "code",
   "execution_count": 11,
   "outputs": [
    {
     "data": {
      "text/plain": "                             subject_line  \\\n236  1d92738a-cffe-4aee-ab10-db04c37f7405   \n237  09440055-7972-4135-a537-e6c5a1f2aeb2   \n238  4d387278-12c3-410c-bdf0-c5c603479764   \n239  623b95de-f87c-4844-a7f7-361088eed83a   \n240  26d7839c-16a1-486e-9736-83e500fb72e5   \n\n                                           groundtruth  \\\n236  surname: Burlurut firstname: Pétronille occupa...   \n237  surname: Combey firstname: Alexandre occupatio...   \n238  surname: Collin firstname: Marguerite occupati...   \n239  surname: Dumont firstname: Etienne link: fils ...   \n240  surname: Renaut firstname: Antoinette link: be...   \n\n                                            prediction    sex  \n236  nom: Burlurut prénom: Gihromille date_naissanc...  femme  \n237  nom: Comberf prénom: Alexandre date_naissance:...  homme  \n238  nom: Collin prénom: Marguerite date_naissance:...  femme  \n239  nom: Dumont prénom: Etienne date_naissance: 19...  homme  \n240  nom: Renaut prénom: Antoinette date_naissance:...  femme  ",
      "text/html": "<div>\n<style scoped>\n    .dataframe tbody tr th:only-of-type {\n        vertical-align: middle;\n    }\n\n    .dataframe tbody tr th {\n        vertical-align: top;\n    }\n\n    .dataframe thead th {\n        text-align: right;\n    }\n</style>\n<table border=\"1\" class=\"dataframe\">\n  <thead>\n    <tr style=\"text-align: right;\">\n      <th></th>\n      <th>subject_line</th>\n      <th>groundtruth</th>\n      <th>prediction</th>\n      <th>sex</th>\n    </tr>\n  </thead>\n  <tbody>\n    <tr>\n      <th>236</th>\n      <td>1d92738a-cffe-4aee-ab10-db04c37f7405</td>\n      <td>surname: Burlurut firstname: Pétronille occupa...</td>\n      <td>nom: Burlurut prénom: Gihromille date_naissanc...</td>\n      <td>femme</td>\n    </tr>\n    <tr>\n      <th>237</th>\n      <td>09440055-7972-4135-a537-e6c5a1f2aeb2</td>\n      <td>surname: Combey firstname: Alexandre occupatio...</td>\n      <td>nom: Comberf prénom: Alexandre date_naissance:...</td>\n      <td>homme</td>\n    </tr>\n    <tr>\n      <th>238</th>\n      <td>4d387278-12c3-410c-bdf0-c5c603479764</td>\n      <td>surname: Collin firstname: Marguerite occupati...</td>\n      <td>nom: Collin prénom: Marguerite date_naissance:...</td>\n      <td>femme</td>\n    </tr>\n    <tr>\n      <th>239</th>\n      <td>623b95de-f87c-4844-a7f7-361088eed83a</td>\n      <td>surname: Dumont firstname: Etienne link: fils ...</td>\n      <td>nom: Dumont prénom: Etienne date_naissance: 19...</td>\n      <td>homme</td>\n    </tr>\n    <tr>\n      <th>240</th>\n      <td>26d7839c-16a1-486e-9736-83e500fb72e5</td>\n      <td>surname: Renaut firstname: Antoinette link: be...</td>\n      <td>nom: Renaut prénom: Antoinette date_naissance:...</td>\n      <td>femme</td>\n    </tr>\n  </tbody>\n</table>\n</div>"
     },
     "execution_count": 11,
     "metadata": {},
     "output_type": "execute_result"
    }
   ],
   "source": [
    "transcriptions_with_sex.tail()"
   ],
   "metadata": {
    "collapsed": false
   }
  },
  {
   "cell_type": "code",
   "execution_count": 67,
   "outputs": [
    {
     "name": "stdout",
     "output_type": "stream",
     "text": [
      "<class 'pandas.core.frame.DataFrame'>\n",
      "RangeIndex: 241 entries, 0 to 240\n",
      "Data columns (total 4 columns):\n",
      " #   Column        Non-Null Count  Dtype \n",
      "---  ------        --------------  ----- \n",
      " 0   subject_line  241 non-null    object\n",
      " 1   groundtruth   241 non-null    object\n",
      " 2   prediction    241 non-null    object\n",
      " 3   sex           241 non-null    object\n",
      "dtypes: object(4)\n",
      "memory usage: 7.7+ KB\n"
     ]
    }
   ],
   "source": [
    "transcriptions_with_sex.info()"
   ],
   "metadata": {
    "collapsed": false
   }
  },
  {
   "cell_type": "code",
   "execution_count": 32,
   "outputs": [
    {
     "name": "stdout",
     "output_type": "stream",
     "text": [
      "['nom', 'prénom', 'date_naissance', 'lieux_naissance', '\"', 'employeur', 'ahef', 'relation', 'd', 'profession', \"''\", 'métro', 'F', 'id', '18374', 'P', '1834', 'état_civil', 'femme', 'Su', 'chef', 'Chef', 'ch', 'prof', 'aa', 'Domistique', 'patron', 'ep', 'enfant', 'Crousier', '?2136', 'fils', 'f', 'Ep', 'fosgeron', 'ouvaie', 'Ch', 'néant', '21399', 'd°', \"'\", 'epre', 'patron!18371', 'Machelo', 'argentière', '\"\\'', 'Ed', 'fille', 'p', 'fimme', 'Niant', 'Maronnier', 'ferma', 'sp', 'fonmer', 'enttinateur', 'reaix', 'Cheus)', '!21399', 'io', 'foume', 'sormerce', 'S', 'Creyre', 'professeur', 'noant', 'Crousiere', 'a', 'Enfant', 'M', 'Par', 'Bonnechon', 'brue', 'Plive', 'pof', 'Genrie', 'Lefebvre', 'sans', 'Labrye', 'pe', 'D', 'oabrienson', 'enf', 'patissier', 'par', '1opne', 'mère', 'éducation', 'Gre', 'bessinateur', 'Lameau', 'Lansait', 'emllisat', 'Vitant', 'camprof', 'Margottad', 'métag', 'repasseuse', 'pla', 'famille', 'cultinière', 'euregestrement', '\"d', '155a', 'chausne', 'Bru', 'fomme', 'S°', 'inf', 'cuisinière', 'Somastique', 'noraise', 'por', '\"h', 'B', 'lavane', 'éprest', 'Debon?', 'eublinateur', 'Savo', 'C', '\"O', 'couturière', 'sourand', 'Niaore', 'employée', 's', 'profevitaire', 'href', 'Cubsinière', 'pr', 'eublinat', 'mof']\n"
     ]
    }
   ],
   "source": [
    "result = []\n",
    "\n",
    "def get_attributes(string):\n",
    "    # Iteriere durch jeden Teil des gesplitteten Strings\n",
    "    parts = string.split(':')\n",
    "    for part in parts:\n",
    "        # Extrahiere das erste Wort des aktuellen Teils und füge es zur Ergebnisliste hinzu\n",
    "        #print(\"Teil: \", part)\n",
    "        first_word = part.split()\n",
    "        result.append(first_word[len(first_word)-1])\n",
    "\n",
    "for groundtruth in transcriptions_with_sex.prediction:\n",
    "    get_attributes(groundtruth)\n",
    "\n",
    "mylist = result\n",
    "mylist = list(dict.fromkeys(mylist))\n",
    "print(mylist)"
   ],
   "metadata": {
    "collapsed": false
   }
  },
  {
   "cell_type": "code",
   "execution_count": 29,
   "outputs": [],
   "source": [
    "attributes_list = ['surname', 'firstname', 'occupation', 'link', 'age', 'civil_status', 'birth_date', 'observation', 'employer']\n",
    "attributes_list_doublepoint = ['surname:', 'firstname:', 'occupation:', 'link:', 'age:', 'civil_status:', 'birth_date:', 'observation:', 'employer:', 'lob:']"
   ],
   "metadata": {
    "collapsed": false
   }
  },
  {
   "cell_type": "code",
   "execution_count": 35,
   "outputs": [
    {
     "name": "stdout",
     "output_type": "stream",
     "text": [
      "{'surname': 'Burlurut', 'firstname': 'Pétronille', 'occupation': 'sans profession', 'link': 'épouse', 'age': '61 an'}\n"
     ]
    }
   ],
   "source": [
    "import re\n",
    "\n",
    "# Sample data\n",
    "data = \"surname: Burlurut firstname: Pétronille occupation: sans profession link: épouse age: 61 ans\"\n",
    "attributes = ['surname:', 'firstname:', 'occupation:', 'link:', 'age:', 'civil_status:', 'birth_date:', 'observation:', 'employer:']\n",
    "\n",
    "# Initialize a dictionary to store the extracted values\n",
    "extracted_values = {}\n",
    "\n",
    "# Iterate through each attribute\n",
    "for attribute in attributes:\n",
    "    # Find the index of the attribute in the data\n",
    "    start_index = data.find(attribute)\n",
    "    if start_index != -1:  # If attribute is found\n",
    "        # Find the end index of the value (next attribute or end of string)\n",
    "        end_index = data.find(attributes[attributes.index(attribute) + 1]) if attributes.index(attribute) + 1 < len(attributes) else len(data)\n",
    "        # Extract the value using regular expression\n",
    "        value = re.search(rf\"{re.escape(attribute)}\\s*(.*?)(?=\\s*{re.escape(attributes[attributes.index(attribute) + 1])}|$)\", data[start_index:end_index])\n",
    "        if value:\n",
    "            extracted_values[attribute.strip(':')] = value.group(1).strip()\n",
    "\n",
    "# Print the extracted values\n",
    "print(extracted_values)\n"
   ],
   "metadata": {
    "collapsed": false
   }
  },
  {
   "cell_type": "code",
   "execution_count": 42,
   "outputs": [
    {
     "data": {
      "text/plain": "                  0           1                2       3      4\nAttribute   surname   firstname       occupation    link    age\nValue      Burlurut  Pétronille  sans profession  épouse  61 an",
      "text/html": "<div>\n<style scoped>\n    .dataframe tbody tr th:only-of-type {\n        vertical-align: middle;\n    }\n\n    .dataframe tbody tr th {\n        vertical-align: top;\n    }\n\n    .dataframe thead th {\n        text-align: right;\n    }\n</style>\n<table border=\"1\" class=\"dataframe\">\n  <thead>\n    <tr style=\"text-align: right;\">\n      <th></th>\n      <th>0</th>\n      <th>1</th>\n      <th>2</th>\n      <th>3</th>\n      <th>4</th>\n    </tr>\n  </thead>\n  <tbody>\n    <tr>\n      <th>Attribute</th>\n      <td>surname</td>\n      <td>firstname</td>\n      <td>occupation</td>\n      <td>link</td>\n      <td>age</td>\n    </tr>\n    <tr>\n      <th>Value</th>\n      <td>Burlurut</td>\n      <td>Pétronille</td>\n      <td>sans profession</td>\n      <td>épouse</td>\n      <td>61 an</td>\n    </tr>\n  </tbody>\n</table>\n</div>"
     },
     "execution_count": 42,
     "metadata": {},
     "output_type": "execute_result"
    }
   ],
   "source": [
    "df = pd.DataFrame([extracted_values])\n",
    "\n",
    "# Transpose the DataFrame to have attributes as columns\n",
    "df = df.transpose().reset_index()\n",
    "df.columns = ['Attribute', 'Value']\n",
    "df.transpose().head()"
   ],
   "metadata": {
    "collapsed": false
   }
  },
  {
   "cell_type": "code",
   "execution_count": 61,
   "outputs": [
    {
     "data": {
      "text/plain": "['surname: Chardon firstname: Marie occupation: idem link: fille age: 30 ',\n 'surname: Lhopital firstname: Louis-Jean occupation: sp link: chef age: 67 ',\n 'surname: Papin firstname: Marie occupation: idem link: idem employer: idem age: 15 ',\n 'surname: Lavocat firstname: Marie link: femme birth_date: 1875 lob: Rigny ',\n 'surname: Benne firstname: Marguerite age: 78 ',\n 'surname: Roy firstname: Antoine occupation: Métayer patron link: chef de ménage age: 51 ans ',\n 'surname: Bizet firstname: Louis link: idem age: 9 ',\n 'surname: Garitat firstname: Jules link: fils age: 12 ',\n 'surname: Souche firstname: Maria occupation: idem link: idem age: 4 mois ',\n 'surname: Guichou firstname: Elisabeth occupation: néant link: femme age: 28 ',\n 'surname: Copain firstname: Jacques occupation: idem link: idem age: 12 ',\n 'surname: Aubouer firstname: Ernestine occupation: néant link: enfant age: 13 ans ',\n 'surname: Raduron firstname: Anne link: Sa femme age: 51 birth_date: 1835 ',\n 'surname: Benne firstname: Annette link: femme age: 46 ',\n 'surname: Parrot firstname: Jean occupation: journalier link: chef age: 33 ',\n 'surname: Berger firstname: Gilbert occupation: cantonnier link: chef age: 72 ',\n 'surname: Cluzel firstname: Marie link: enf age: 22 ',\n 'surname: Daniel firstname: Claude occupation: journalier link: chef age: 33 ',\n 'surname: Vivier firstname: Antoine occupation: Cultivateur link: Chef age: 45 birth_date: 1841 ',\n 'surname: Apied firstname: Madeleine link: femme age: 53 ',\n 'surname: Charrier firstname: Marguerite occupation: sans prof link: épouse age: 31 ',\n 'surname: Martin firstname: Louis occupation: néant link: enfant employer: néant age: 6 ',\n 'surname: Mayeur firstname: Marguerite occupation: idem link: idem employer: idem birth_date: 1896 lob: Paris ',\n 'surname: Daniel firstname: Marguerite occupation: domestique age: 15 ',\n 'surname: Debouesse firstname: Alexandre occupation: couvreur link: chef employer: patron age: 42 ',\n 'surname: Martin firstname: Marguerite occupation: idem link: épouse employer: idem age: 30 ',\n 'surname: Quillery firstname: Auguste occupation: roulier link: chef employer: patron age: 62 civil_status: Homme marié ',\n 'surname: Lacroix firstname: Rose occupation: s.p link: enfant age: 17 ',\n 'surname: Schwartz firstname: Jean occupation: cultivateur link: domestique employer: Troussière birth_date: 1885 lob: Paris ',\n 'surname: Grillé firstname: Antoine occupation: garde part. link: chef employer: Bruel age: 46 ',\n 'surname: Berthon firstname: Nicolas occupation: idem link: fils age: 11 mois ',\n 'surname: idem firstname: Geneviève occupation: journalière link: chef age: 51 ',\n 'surname: Sauvoisin firstname: Gilbert occupation: journalier link: chef age: 60 ',\n 'surname: Thévenin firstname: Jean occupation: manoeuvre link: idem age: 24 ',\n 'surname: Aumaitre firstname: Virginie link: ép birth_date: 1852 lob: Saint-Avit Puy-De-Dome ',\n 'surname: Ursat firstname: Jean occupation: forgeron link: père de famille age: 61 ',\n 'surname: Philippon firstname: Louis occupation: ouvrier link: chef age: 29 ',\n 'surname: Châtel firstname: Jeanne occupation: propriétaire link: chef age: 52 ans ',\n 'surname: Taravaud firstname: André occupation: néant link: enfant age: 9 ans ',\n 'surname: Bonnet firstname: Rose occupation: néant link: mère age: 66 ans ',\n 'surname: Thomas firstname: Rose occupation: domestique link: domestique employer: Gouvernaire age: 56 ',\n 'surname: Sudrot firstname: Eugènie occupation: idem link: idem age: 17 ',\n 'surname: Mazerat firstname: Maria link: femme age: 32 ',\n 'surname: Glache firstname: Joseph link: enfant age: 19 ',\n 'surname: Dumont firstname: Etienne occupation: cultivateur link: chef employer: patron birth_date: 1861 lob: Coulanges ',\n 'surname: Virmot firstname: Jeanne occupation: Domestique link: Domestique employer: Choussy age: 36 ',\n 'surname: Roy firstname: Pierre occupation: idem link: idem employer: idem age: 14 ',\n 'surname: Giron firstname: Marie occupation: sans profession link: belle-mère age: 74 ',\n 'surname: Mallet firstname: Josèphine occupation: argentière birth_date: 1904 lob: Loire ',\n 'surname: Coq firstname: Louis occupation: idem link: idem employer: idem age: 9 ',\n 'surname: Pailleret firstname: Paul occupation: voiturier link: chef employer: patron age: 60 ',\n 'surname: Dumont firstname: Jeanne link: femme birth_date: 1862 lob: Monétay ',\n 'surname: Lognon firstname: Anroine occupation: idem link: Fils age: 8 ',\n 'surname: Vichard firstname: Marie occupation: idem link: fille age: 4 ',\n 'surname: Dumont firstname: Marie link: fille birth_date: 1892 lob: idem ',\n 'surname: Richard firstname: Justine occupation: s.p. link: femme age: 33 ',\n 'surname: Vazelle firstname: Madeleine occupation: sp link: femme age: 63 ',\n 'surname: Mangeret firstname: Juliette occupation: néant link: mère de famille age: 32 ',\n 'surname: Chapelier firstname: Jean occupation: jardinier link: père age: 64 ',\n 'surname: Gorbinet firstname: Jeanne occupation: idem link: chef age: 66 ',\n 'surname: Grette firstname: Clément occupation: domestique de ferme age: 15 ',\n 'surname: Ursat firstname: Jeanne occupation: idem link: petite-fille age: 5 ',\n 'surname: Daviot firstname: Jean-Marie occupation: domestique de ferme link: domestique de ferme age: 25 ',\n 'surname: Lacroix firstname: Pierre occupation: cult eur fermier link: chef age: 53 ',\n 'surname: idem firstname: Léonie occupation: sp link: fille birth_date: 1899 lob: a ',\n 'surname: Fleury firstname: Antoine link: idem age: 7 ans ',\n 'surname: Bonnichon firstname: Rosalie occupation: sans profession link: chef age: 58 ',\n 'surname: Bonnetot firstname: Claudia occupation: idem link: fille age: 6 ',\n 'surname: Glachet firstname: Jeanne link: sa femme age: 54 ans ',\n 'surname: Pénot firstname: François occupation: métayer link: chef age: 39 ',\n 'surname: Grandchamp firstname: Gabriel occupation: cultivateur fermier link: chef age: 56 ',\n 'surname: Joyoz firstname: Suzanne occupation: néant link: mère employer: néant age: 72 ',\n 'surname: Paturet firstname: Jean occupation: cultivateur link: chef age: 54 ans ',\n 'surname: Laurent firstname: Jacques occupation: métayer link: chef age: 27 ',\n 'surname: Lasue firstname: Madeleine occupation: femme de chambre link: femme de chambre employer: Chabet birth_date: 1909 lob: Cher ',\n 'surname: Vivier firstname: Claude link: Leur fils age: 9 birth_date: 1877 civil_status: Garçon ',\n 'surname: Guyon firstname: Achille occupation: idem link: petit-fils age: 7 jours ',\n 'surname: Péronnet firstname: Marie link: Sa femme age: 39 birth_date: 1847 ',\n 'surname: Matichard firstname: Claudine occupation: s.p link: épouse age: 22 ',\n 'surname: Simonin firstname: Eugènie occupation: s.p link: idem age: 5 ',\n 'surname: Forestier firstname: Marthe occupation: idem link: fille age: 5 ',\n 'surname: Roumeaux firstname: Marie occupation: sans prof. link: bru age: 25 ',\n 'surname: Brun firstname: Jacques occupation: garde-champêtre link: chef age: 50 ans ',\n 'surname: Régerat firstname: Frédéric occupation: domestique link: domestique age: 13 ',\n 'surname: Touzelet firstname: Louis occupation: idem link: pensionnaire age: 10 ',\n 'surname: Rougeron firstname: Louis link: fils de la bonne employer: horticulteur birth_date: 1906 lob: Lunéville ',\n 'surname: Bouculat firstname: Marie age: 16 ',\n 'surname: Décharne firstname: Madeleine occupation: sans profession link: épouse age: 57 ans ',\n 'surname: Chapelier firstname: Victor occupation: idem link: fils age: 8 ',\n 'surname: Dumas firstname: Hélène occupation: néant link: enfant age: 3 ',\n 'surname: Dumont firstname: François occupation: cultivateur link: fils employer: Troussière birth_date: 1894 lob: Coulanges ',\n 'surname: Lécornet firstname: Jean link: idem age: 12 ',\n 'surname: Mallet firstname: Henri occupation: s.p link: enfant age: 2 ',\n 'surname: Caillot firstname: Marie occupation: sp link: ép e birth_date: 1896 ',\n 'surname: Roumeau firstname: Claude occupation: cultivateur link: chef age: 30 ans ',\n 'surname: Nuret firstname: Albert occupation: idem link: fils age: 3 ',\n 'surname: Grobost firstname: Joseph link: leur fils age: 30 ',\n 'surname: Demay firstname: Joséphine occupation: néant link: mére de famille age: 27 ',\n 'surname: Parent firstname: Alphonse occupation: s.p link: enfant age: 2 ',\n 'surname: Reynot firstname: Marie occupation: idem link: idem employer: idem birth_date: 1888 lob: Molines ',\n 'surname: idem firstname: Henri occupation: idem link: idem age: 5 mois ',\n 'surname: Prunier firstname: Jean occupation: domestique age: 17 ans ',\n 'surname: Vichard firstname: Jean-Marie occupation: idem link: fils age: 5 ',\n 'surname: Valnaud firstname: Marie occupation: s.p link: femme age: 64 ',\n 'surname: Pégand firstname: Gilbert occupation: culivateur link: chef employer: patron age: 55 ',\n 'surname: Jean firstname: Jean occupation: cult eur link: enfant age: 20 ',\n 'surname: Goudin firstname: Maria occupation: boulanger link: femme birth_date: 1883 ',\n 'surname: Fayrolle firstname: Gabriel occupation: buraliste link: chef employer: patron age: 60 ',\n 'surname: Picot firstname: Claudine occupation: sans p. link: fille age: 11 ',\n 'surname: Rollin firstname: Marguerite link: Chef age: 75 ',\n 'surname: Péron firstname: François link: fils birth_date: 1907 lob: Coulanges ',\n 'surname: Décluse firstname: Jean occupation: clerc de nptaire link: chef employer: Bonnichou age: 41 ans ',\n 'surname: idem firstname: Roger link: fils birth_date: 1922 lob: m ',\n 'surname: Thibaut firstname: Marie occupation: sp link: femme age: 54 ',\n 'surname: Fabre firstname: Marie occupation: quincaillier link: sa brue age: 28 ans ',\n 'surname: Aillot firstname: Simon occupation: charcutier link: chef employer: Chene birth_date: 1854 ',\n 'surname: Parrot firstname: Jean occupation: idem link: idem age: 15 jours ',\n 'surname: Faure firstname: Marie occupation: sans prof. link: épouse age: 52 ',\n 'surname: Brouant firstname: Louis occupation: domestique link: assisté employer: Goudier birth_date: 1895 lob: Paris ',\n 'surname: Barbier firstname: Joseph occupation: sellier link: ouvrier employer: Lefebure birth_date: 1892 ',\n 'surname: Lahaie firstname: Antoinette occupation: Sans p link: épouse age: 27 ',\n 'surname: Kaermazek firstname: Branislav occupation: manoeuvre link: frère employer: Labage birth_date: 1908 lob: Wlanica Pologne ',\n 'surname: Lecornet firstname: Marguerite occupation: sans p link: épouse age: 30 ',\n 'surname: Chardon firstname: Marie occupation: idem link: chef age: 84 ans ',\n 'surname: Grillé firstname: Emile occupation: idem link: idem employer: idem age: 2 ',\n 'surname: Dumont firstname: François link: fils birth_date: 1897 lob: Coulanges ',\n 'surname: Ouverkierviez firstname: Stanislas link: fils birth_date: 1924 lob: Cerny-lès-Bucy ',\n 'surname: Joubert firstname: Gervais occupation: manoeuvre link: chef employer: Dubuisson birth_date: 1891 ',\n 'surname: Glomot firstname: Louis occupation: sp link: idem age: 14 ',\n 'surname: idem occupation: imprimeur link: enfant age: 27 ',\n 'surname: Martin firstname: Marie occupation: idem link: idem age: 45 ',\n 'surname: Coulon firstname: Louis occupation: idem link: idem age: 5 ',\n 'surname: Cussinet firstname: Madeleine link: sa femme age: 50 ans ',\n 'surname: Le Bihan firstname: Joseph occupation: patissier birth_date: 1908 lob: Morbihan ',\n 'surname: Couyat firstname: Amélie occupation: sans prof. link: épouse age: 51 ans ',\n 'surname: Gaulme firstname: Françoise occupation: cullotière link: Schouer age: 41 ',\n 'surname: Beraud firstname: Pierre occupation: employé link: chef age: 49 ',\n 'surname: GAUDIAT firstname: Elisabeth occupation: blanchiseuse link: chef age: 28 ',\n 'surname: Ducher firstname: Etiennette occupation: s p link: épouse age: 35 ',\n 'surname: Le Blanc firstname: Rolland occupation: nourrisson link: assisté de la S. age: 1 ',\n 'surname: Baron firstname: Auguste link: leur fils age: 15 ans ',\n 'surname: Colas firstname: Marie occupation: s.p link: belle-mère age: 72 ',\n 'surname: Portier firstname: Antoine link: Son fils age: 12 ',\n 'surname: Desphelippon firstname: Hippolyte occupation: employé link: ch. m employer: Cie f re birth_date: 1887 lob: Bourbon-Larchambaud  Allier ',\n 'surname: Retord firstname: Joseph link: fils employer: idem age: 26 ',\n 'surname: Mathion firstname: Pierre occupation: journalier terrassier link: chef age: 49 ',\n 'surname: Tessin firstname: Marie occupation: cultivatrice link: domestique employer: Lavocat birth_date: 1891 lob: Coulanges ',\n 'surname: Lavocat firstname: Claude occupation: cultivateur link: frère employer: Lavocat birth_date: 1890 lob: Coulanges ',\n 'surname: Villeneuve firstname: Louise occupation: cultivat link: bru age: 37 ',\n 'surname: Pasquier firstname: Augustine occupation: néant link: femme age: 28 ',\n 'surname: Bourdu firstname: Louise occupation: sans prof. link: épouse age: 44 ',\n 'surname: Gay firstname: Marie occupation: s p link: épouse age: 36 ',\n 'surname: Vizier firstname: Jacques occupation: charretier link: chef employer: Margottas birth_date: 1897 lob: idem ',\n 'surname: Jean firstname: Jean occupation: métayer link: chef age: 54 ',\n 'surname: Derroziers firstname: Léonie occupation: rentière link: chef age: 55 ',\n 'surname: Lacroix firstname: Eugène occupation: s.p link: enfant age: 12 ',\n 'surname: Bonnin firstname: Jean occupation: métayer link: chef employer: patron age: 29 ',\n 'surname: Frétier firstname: Thérèse occupation: repasseuse link: ép birth_date: 1898 lob: Paris ',\n 'surname: Péron firstname: Pierre occupation: cultivateur link: chef employer: patron birth_date: 1879 lob: Saint Pourçain-Sur-Besbre ',\n 'surname: Carte firstname: Gilbert link: son fils age: 32 ',\n 'surname: Triboulet firstname: Jean occupation: forgeron link: chef de famille age: 55 ',\n 'surname: Lamouche firstname: Jean occupation: cultivateur link: chef employer: patron age: 25 ',\n 'surname: Decressol firstname: Marie occupation: idem link: sa femme age: 56 ',\n 'surname: Houdes firstname: Jeanne occupation: sp link: femme age: 68 ',\n 'surname: Millereux firstname: Jean occupation: idem link: fils age: 11 ',\n 'surname: Gaudet firstname: Marie link: leur fille age: 2 ans ',\n 'firstname: Clémence link: fille birth_date: 1917 ',\n 'surname: Bauchard firstname: Joseph occupation: receveur enregistrement link: chef birth_date: 1863 lob: Cher ',\n 'surname: Débousset firstname: Marie occupation: idem link: fille age: 4 mois ',\n 'surname: Lavadoune firstname: Anne occupation: idem link: épouse age: 45 ',\n 'surname: Lognon firstname: Jean occupation: idem link: fils age: 1 ',\n 'surname: Fleury firstname: Simon occupation: idem link: leur fils age: 9 ',\n 'surname: Truffaut firstname: Pierre occupation: Garde particulier link: Chef employer: Choussy age: 72 ',\n 'surname: Terrenoire firstname: Maria occupation: s p link: bru age: 21 ',\n 'surname: Souche firstname: René occupation: idem link: idem age: 4 ',\n 'surname: Journey firstname: Colette occupation: domestique link: idem employer: idem birth_date: 1896 lob: La Chapelle ',\n 'surname: Lartigaud firstname: Antoinette occupation: idem link: enfant age: 2 ',\n 'surname: Tourret firstname: Virginie occupation: idem link: enfant age: 6 ',\n 'surname: Vaclser firstname: Marguerite occupation: idem link: sa femme age: 28 ',\n 'surname: Loyer firstname: Georges occupation: idem link: idem age: 17 ',\n 'surname: Mallais firstname: Pierre occupation: ouvrier meunier link: chef age: 31 ',\n 'surname: Bardot firstname: Gabrielle occupation: sans p. link: épouse age: 27 ',\n 'surname: Dumont firstname: Jeanne link: femme birth_date: 1877 lob: Saint Didier en Donjon ',\n 'surname: Cotte firstname: Jeanne occupation: sans profession link: épouse age: 59 ans ',\n 'surname: Bodard firstname: Mariette occupation: sp link: femme age: 40 ',\n 'surname: Cluzel firstname: Joseph link: enfant age: 18 civil_status: Garçon ',\n 'surname: Ursat firstname: Françoise occupation: néant link: fille age: 17 ',\n 'surname: Bordet firstname: Louise occupation: idem link: enfant age: 23 ',\n 'surname: Glachet firstname: Pierre link: leur fils age: 18 ans ',\n 'surname: Roy firstname: Joseph occupation: idem link: idem age: 21 ',\n 'surname: Dey firstname: Marie occupation: domestique age: 19 ',\n 'surname: Lécluse firstname: Marie occupation: néant link: enfant age: 15 ',\n 'surname: Germain firstname: Antoine occupation: s.p. link: enfant age: 11 ',\n 'surname: Débousset firstname: Marthe occupation: idem link: fille age: 9 mois ',\n 'surname: Alvire firstname: Ernest occupation: idem age: 13 ',\n 'surname: Aubouër firstname: Alix occupation: néant link: enfant age: 20 ',\n 'surname: Pénot firstname: Claude occupation: s.p link: enfant age: 13 ',\n 'surname: Boutot firstname: Françoise occupation: domest. link: domest. employer: Lavany age: 16 ',\n 'surname: Mathion firstname: Eugène occupation: idem link: enfant age: 13 ',\n 'surname: Déchery firstname: Jean occupation: sp link: enfant age: 11 ',\n 'surname: Mély firstname: François Antoine occupation: menuisier link: ch. m employer: Debord birth_date: 1898 lob: Vichy ',\n 'surname: Thévenin firstname: Arthur occupation: sp link: idem age: 9 ',\n 'surname: Diry firstname: Jacques occupation: cultivateur link: chef age: 35 ',\n 'surname: Laurent firstname: Claude occupation: métayer link: chef age: 57 ',\n 'surname: Coq firstname: Antonie occupation: idem link: idem employer: idem age: 16 ',\n 'surname: Foury firstname: Jean-Baptiste occupation: tourneur link: chef employer: chemin de fer age: 26 ',\n 'surname: Brulier firstname: Denis occupation: agent de police link: chef age: 50 ',\n 'surname: Lescure firstname: Jacques occupation: idem link: chef age: 55 a ',\n 'surname: Aubouër firstname: Claudine occupation: néant link: enfant age: 16 ',\n 'surname: Gollet firstname: Anne occupation: s.p link: femme age: 21 ',\n 'surname: Haininger firstname: Marie occupation: idem link: fille age: 23 ',\n 'surname: Thély firstname: Jean-Claude occupation: idem link: idem employer: idem birth_date: 1892 lob: Coulanges ',\n 'surname: Grobost firstname: Auguste link: leur fils age: 7 ans ',\n 'surname: Guignard firstname: Marie occupation: couturière link: femme age: 39 ',\n 'surname: Belin firstname: Marguerite occupation: déposit de journaux link: chef employer: patron age: 47 ',\n 'surname: Auroir firstname: Jacques occupation: tisserand link: chef de ménage age: 65 ans ',\n 'surname: Rouchon firstname: Victor occupation: idem link: idem employer: idem age: 17 ',\n 'surname: Bazilique firstname: Madeleine occupation: néant link: mère de famille age: 38 ',\n 'surname: Cognet firstname: Jean Raymond occupation: manoeuvre link: ch. m employer: Labage birth_date: 1901 lob: St Priest ',\n 'surname: Souche firstname: France occupation: idem link: idem age: 2 ',\n 'surname: Aufauvre firstname: Jean birth_date: 1912 ',\n 'surname: Hameau firstname: Célina occupation: employée birth_date: 1887 ',\n 'surname: Mimerel firstname: Pierre link: fils age: 8 ',\n 'surname: Marmion firstname: Charles occupation: sans prof. link: petit-fils age: 12 ',\n 'surname: Choussy firstname: Albert occupation: Propriétaire link: fils age: 37 ',\n 'surname: Dumont firstname: Blaise occupation: cultivateur link: chef employer: patron birth_date: 1857 lob: idem ',\n 'surname: Simonin firstname: Baptiste occupation: cult eur fermier link: chef age: 35 ',\n 'surname: Autissier firstname: Antoine occupation: manoeuvre link: chef age: 45 ',\n 'surname: Carton firstname: Simon occupation: cultivateur link: fils age: 30 ',\n 'surname: RIBET firstname: Marie-Louise occupation: idem link: fille age: 5 ',\n 'surname: Clayeux firstname: Claude occupation: idem link: idem employer: idem age: 13 ',\n 'surname: Pingeon firstname: Madeleine occupation: s.p. link: femme age: 64 ',\n 'surname: Guillaumin firstname: Théodore occupation: coiffeur link: enfant age: 20 ',\n 'surname: Conte firstname: Barthélémy occupation: cultivateur link: chef age: 65 ans ',\n 'surname: Cognet firstname: François occupation: cultiv eur fermier link: chef age: 53 observation: x ',\n 'surname: Poussange firstname: Catherine link: femme age: 72 ',\n 'surname: Burlurut firstname: Pétronille occupation: sans profession link: épouse age: 61 ans ',\n 'surname: Combey firstname: Alexandre occupation: idem link: son fils age: 39 ',\n 'surname: Collin firstname: Marguerite occupation: idem link: épouse employer: idem age: 38 ',\n 'surname: Dumont firstname: Etienne link: fils birth_date: 1900 lob: idem ',\n 'surname: Renaut firstname: Antoinette link: belle-mère birth_date: 1849 lob: Rigny ']"
     },
     "execution_count": 61,
     "metadata": {},
     "output_type": "execute_result"
    }
   ],
   "source": [
    "groundtruth_list = transcriptions_with_sex.groundtruth.tolist()\n",
    "groundtruth_list"
   ],
   "metadata": {
    "collapsed": false
   }
  },
  {
   "cell_type": "code",
   "execution_count": 75,
   "outputs": [
    {
     "data": {
      "text/plain": "                                     attributes_column\n0    surname: Chardon firstname: Marie occupation: ...\n1    surname: Lhopital firstname: Louis-Jean occupa...\n2    surname: Papin firstname: Marie occupation: id...\n3    surname: Lavocat firstname: Marie link: femme ...\n4        surname: Benne firstname: Marguerite age: 78 \n..                                                 ...\n236  surname: Burlurut firstname: Pétronille occupa...\n237  surname: Combey firstname: Alexandre occupatio...\n238  surname: Collin firstname: Marguerite occupati...\n239  surname: Dumont firstname: Etienne link: fils ...\n240  surname: Renaut firstname: Antoinette link: be...\n\n[241 rows x 1 columns]",
      "text/html": "<div>\n<style scoped>\n    .dataframe tbody tr th:only-of-type {\n        vertical-align: middle;\n    }\n\n    .dataframe tbody tr th {\n        vertical-align: top;\n    }\n\n    .dataframe thead th {\n        text-align: right;\n    }\n</style>\n<table border=\"1\" class=\"dataframe\">\n  <thead>\n    <tr style=\"text-align: right;\">\n      <th></th>\n      <th>attributes_column</th>\n    </tr>\n  </thead>\n  <tbody>\n    <tr>\n      <th>0</th>\n      <td>surname: Chardon firstname: Marie occupation: ...</td>\n    </tr>\n    <tr>\n      <th>1</th>\n      <td>surname: Lhopital firstname: Louis-Jean occupa...</td>\n    </tr>\n    <tr>\n      <th>2</th>\n      <td>surname: Papin firstname: Marie occupation: id...</td>\n    </tr>\n    <tr>\n      <th>3</th>\n      <td>surname: Lavocat firstname: Marie link: femme ...</td>\n    </tr>\n    <tr>\n      <th>4</th>\n      <td>surname: Benne firstname: Marguerite age: 78</td>\n    </tr>\n    <tr>\n      <th>...</th>\n      <td>...</td>\n    </tr>\n    <tr>\n      <th>236</th>\n      <td>surname: Burlurut firstname: Pétronille occupa...</td>\n    </tr>\n    <tr>\n      <th>237</th>\n      <td>surname: Combey firstname: Alexandre occupatio...</td>\n    </tr>\n    <tr>\n      <th>238</th>\n      <td>surname: Collin firstname: Marguerite occupati...</td>\n    </tr>\n    <tr>\n      <th>239</th>\n      <td>surname: Dumont firstname: Etienne link: fils ...</td>\n    </tr>\n    <tr>\n      <th>240</th>\n      <td>surname: Renaut firstname: Antoinette link: be...</td>\n    </tr>\n  </tbody>\n</table>\n<p>241 rows × 1 columns</p>\n</div>"
     },
     "execution_count": 75,
     "metadata": {},
     "output_type": "execute_result"
    }
   ],
   "source": [
    "data = {\n",
    "    'attributes_column': groundtruth_list\n",
    "}\n",
    "df = pd.DataFrame(data)\n",
    "df"
   ],
   "metadata": {
    "collapsed": false
   }
  },
  {
   "cell_type": "code",
   "execution_count": 94,
   "outputs": [
    {
     "name": "stdout",
     "output_type": "stream",
     "text": [
      "0\n",
      "1\n",
      "2\n",
      "3\n",
      "4\n",
      "5\n",
      "6\n",
      "7\n",
      "8\n",
      "9\n",
      "10\n",
      "11\n",
      "12\n",
      "13\n",
      "14\n",
      "15\n",
      "16\n",
      "17\n",
      "18\n",
      "19\n"
     ]
    },
    {
     "name": "stderr",
     "output_type": "stream",
     "text": [
      "/var/folders/n_/mj2qn5sd20lb04k5gcvn8fbr0000gn/T/ipykernel_21919/3261572402.py:40: FutureWarning: The frame.append method is deprecated and will be removed from pandas in a future version. Use pandas.concat instead.\n",
      "  result_df = result_df.append(extracted_values, ignore_index=True)\n",
      "/var/folders/n_/mj2qn5sd20lb04k5gcvn8fbr0000gn/T/ipykernel_21919/3261572402.py:40: FutureWarning: The frame.append method is deprecated and will be removed from pandas in a future version. Use pandas.concat instead.\n",
      "  result_df = result_df.append(extracted_values, ignore_index=True)\n",
      "/var/folders/n_/mj2qn5sd20lb04k5gcvn8fbr0000gn/T/ipykernel_21919/3261572402.py:40: FutureWarning: The frame.append method is deprecated and will be removed from pandas in a future version. Use pandas.concat instead.\n",
      "  result_df = result_df.append(extracted_values, ignore_index=True)\n",
      "/var/folders/n_/mj2qn5sd20lb04k5gcvn8fbr0000gn/T/ipykernel_21919/3261572402.py:40: FutureWarning: The frame.append method is deprecated and will be removed from pandas in a future version. Use pandas.concat instead.\n",
      "  result_df = result_df.append(extracted_values, ignore_index=True)\n"
     ]
    },
    {
     "data": {
      "text/plain": "  surname: firstname: occupation: link: age: civil_status: birth_date:  \\\n0      NaN        NaN         NaN   NaN  NaN           NaN         NaN   \n1      NaN        NaN         NaN   NaN  NaN           NaN         NaN   \n2      NaN        NaN         NaN   NaN  NaN           NaN         NaN   \n3      NaN        NaN         NaN   NaN  NaN           NaN         NaN   \n\n  observation: employer: lob:   age birth_date civil_status      employer  \\\n0          NaN       NaN  NaN    30       None         None          None   \n1          NaN       NaN  NaN    67       None         None          None   \n2          NaN       NaN  NaN    15       None         None  idem age: 15   \n3          NaN       NaN  NaN  None        NaN         None           NaN   \n\n                                       firstname  \\\n0                                          Marie   \n1                                     Louis-Jean   \n2                                          Marie   \n3  Marie link: femme birth_date: 1875 lob: Rigny   \n\n                                link   lob observation occupation   surname  \n0                              fille  None        None       idem   Chardon  \n1                               chef  None        None         sp  Lhopital  \n2                idem employer: idem  None        None       idem     Papin  \n3  femme birth_date: 1875 lob: Rigny   NaN         NaN       None   Lavocat  ",
      "text/html": "<div>\n<style scoped>\n    .dataframe tbody tr th:only-of-type {\n        vertical-align: middle;\n    }\n\n    .dataframe tbody tr th {\n        vertical-align: top;\n    }\n\n    .dataframe thead th {\n        text-align: right;\n    }\n</style>\n<table border=\"1\" class=\"dataframe\">\n  <thead>\n    <tr style=\"text-align: right;\">\n      <th></th>\n      <th>surname:</th>\n      <th>firstname:</th>\n      <th>occupation:</th>\n      <th>link:</th>\n      <th>age:</th>\n      <th>civil_status:</th>\n      <th>birth_date:</th>\n      <th>observation:</th>\n      <th>employer:</th>\n      <th>lob:</th>\n      <th>age</th>\n      <th>birth_date</th>\n      <th>civil_status</th>\n      <th>employer</th>\n      <th>firstname</th>\n      <th>link</th>\n      <th>lob</th>\n      <th>observation</th>\n      <th>occupation</th>\n      <th>surname</th>\n    </tr>\n  </thead>\n  <tbody>\n    <tr>\n      <th>0</th>\n      <td>NaN</td>\n      <td>NaN</td>\n      <td>NaN</td>\n      <td>NaN</td>\n      <td>NaN</td>\n      <td>NaN</td>\n      <td>NaN</td>\n      <td>NaN</td>\n      <td>NaN</td>\n      <td>NaN</td>\n      <td>30</td>\n      <td>None</td>\n      <td>None</td>\n      <td>None</td>\n      <td>Marie</td>\n      <td>fille</td>\n      <td>None</td>\n      <td>None</td>\n      <td>idem</td>\n      <td>Chardon</td>\n    </tr>\n    <tr>\n      <th>1</th>\n      <td>NaN</td>\n      <td>NaN</td>\n      <td>NaN</td>\n      <td>NaN</td>\n      <td>NaN</td>\n      <td>NaN</td>\n      <td>NaN</td>\n      <td>NaN</td>\n      <td>NaN</td>\n      <td>NaN</td>\n      <td>67</td>\n      <td>None</td>\n      <td>None</td>\n      <td>None</td>\n      <td>Louis-Jean</td>\n      <td>chef</td>\n      <td>None</td>\n      <td>None</td>\n      <td>sp</td>\n      <td>Lhopital</td>\n    </tr>\n    <tr>\n      <th>2</th>\n      <td>NaN</td>\n      <td>NaN</td>\n      <td>NaN</td>\n      <td>NaN</td>\n      <td>NaN</td>\n      <td>NaN</td>\n      <td>NaN</td>\n      <td>NaN</td>\n      <td>NaN</td>\n      <td>NaN</td>\n      <td>15</td>\n      <td>None</td>\n      <td>None</td>\n      <td>idem age: 15</td>\n      <td>Marie</td>\n      <td>idem employer: idem</td>\n      <td>None</td>\n      <td>None</td>\n      <td>idem</td>\n      <td>Papin</td>\n    </tr>\n    <tr>\n      <th>3</th>\n      <td>NaN</td>\n      <td>NaN</td>\n      <td>NaN</td>\n      <td>NaN</td>\n      <td>NaN</td>\n      <td>NaN</td>\n      <td>NaN</td>\n      <td>NaN</td>\n      <td>NaN</td>\n      <td>NaN</td>\n      <td>None</td>\n      <td>NaN</td>\n      <td>None</td>\n      <td>NaN</td>\n      <td>Marie link: femme birth_date: 1875 lob: Rigny</td>\n      <td>femme birth_date: 1875 lob: Rigny</td>\n      <td>NaN</td>\n      <td>NaN</td>\n      <td>None</td>\n      <td>Lavocat</td>\n    </tr>\n  </tbody>\n</table>\n</div>"
     },
     "execution_count": 94,
     "metadata": {},
     "output_type": "execute_result"
    }
   ],
   "source": [
    "import pandas as pd\n",
    "import re\n",
    "\n",
    "# Sample DataFrame\n",
    "data = {\n",
    "    'attributes_column': groundtruth_list\n",
    "}\n",
    "df = pd.DataFrame(data)\n",
    "\n",
    "# Attributes list\n",
    "attributes = ['surname:', 'firstname:', 'occupation:', 'link:', 'age:', 'civil_status:', 'birth_date:', 'observation:', 'employer:', 'lob:']\n",
    "\n",
    "# Initialize an empty DataFrame to store the results\n",
    "result_df = pd.DataFrame(columns=attributes)\n",
    "i = 0\n",
    "\n",
    "# Iterate over each row in the DataFrame\n",
    "for index, row in df.iterrows():\n",
    "    # Initialize a dictionary to store the extracted values for the current row\n",
    "    extracted_values = {}\n",
    "    # Extract values for each attribute\n",
    "    for attribute in attributes:\n",
    "        # Find the index of the attribute in the current row's string\n",
    "        start_index = row['attributes_column'].find(attribute)\n",
    "        if start_index != -1:  # If attribute is found\n",
    "            # Find the end index of the value (next attribute or end of string)\n",
    "            end_index = row['attributes_column'].find(attributes[attributes.index(attribute) + 1]) if attributes.index(attribute) + 1 < len(attributes) else len(row['attributes_column'])\n",
    "            # Extract the value using regular expression\n",
    "            print(i)\n",
    "            i += 1\n",
    "            if i == 20:\n",
    "                break\n",
    "            value = re.search(rf\"{re.escape(attribute)}\\s*(.*?)(?=\\s*{re.escape(attributes[attributes.index(attribute) + 1])}|$)\", row['attributes_column'][start_index:end_index])\n",
    "            if value:\n",
    "                extracted_values[attribute.strip(':')] = value.group(1).strip()\n",
    "        else:\n",
    "            # If attribute is not found, set the value as None\n",
    "            extracted_values[attribute.strip(':')] = None\n",
    "    # Append the extracted values for the current row to the result DataFrame\n",
    "    result_df = result_df.append(extracted_values, ignore_index=True)\n",
    "    if i == 20:\n",
    "        break\n",
    "\n",
    "result_df"
   ],
   "metadata": {
    "collapsed": false
   }
  },
  {
   "cell_type": "code",
   "execution_count": 91,
   "outputs": [
    {
     "data": {
      "text/plain": "  surname: firstname: occupation: link: age: civil_status: birth_date:  \\\n0      NaN        NaN         NaN   NaN  NaN           NaN         NaN   \n1      NaN        NaN         NaN   NaN  NaN           NaN         NaN   \n2      NaN        NaN         NaN   NaN  NaN           NaN         NaN   \n\n  observation: employer: lob: age birth_date civil_status      employer  \\\n0          NaN       NaN  NaN  30       None         None          None   \n1          NaN       NaN  NaN  67       None         None          None   \n2          NaN       NaN  NaN  15       None         None  idem age: 15   \n\n    firstname                 link   lob observation occupation   surname  \n0       Marie                fille  None        None       idem   Chardon  \n1  Louis-Jean                 chef  None        None         sp  Lhopital  \n2       Marie  idem employer: idem  None        None       idem     Papin  ",
      "text/html": "<div>\n<style scoped>\n    .dataframe tbody tr th:only-of-type {\n        vertical-align: middle;\n    }\n\n    .dataframe tbody tr th {\n        vertical-align: top;\n    }\n\n    .dataframe thead th {\n        text-align: right;\n    }\n</style>\n<table border=\"1\" class=\"dataframe\">\n  <thead>\n    <tr style=\"text-align: right;\">\n      <th></th>\n      <th>surname:</th>\n      <th>firstname:</th>\n      <th>occupation:</th>\n      <th>link:</th>\n      <th>age:</th>\n      <th>civil_status:</th>\n      <th>birth_date:</th>\n      <th>observation:</th>\n      <th>employer:</th>\n      <th>lob:</th>\n      <th>age</th>\n      <th>birth_date</th>\n      <th>civil_status</th>\n      <th>employer</th>\n      <th>firstname</th>\n      <th>link</th>\n      <th>lob</th>\n      <th>observation</th>\n      <th>occupation</th>\n      <th>surname</th>\n    </tr>\n  </thead>\n  <tbody>\n    <tr>\n      <th>0</th>\n      <td>NaN</td>\n      <td>NaN</td>\n      <td>NaN</td>\n      <td>NaN</td>\n      <td>NaN</td>\n      <td>NaN</td>\n      <td>NaN</td>\n      <td>NaN</td>\n      <td>NaN</td>\n      <td>NaN</td>\n      <td>30</td>\n      <td>None</td>\n      <td>None</td>\n      <td>None</td>\n      <td>Marie</td>\n      <td>fille</td>\n      <td>None</td>\n      <td>None</td>\n      <td>idem</td>\n      <td>Chardon</td>\n    </tr>\n    <tr>\n      <th>1</th>\n      <td>NaN</td>\n      <td>NaN</td>\n      <td>NaN</td>\n      <td>NaN</td>\n      <td>NaN</td>\n      <td>NaN</td>\n      <td>NaN</td>\n      <td>NaN</td>\n      <td>NaN</td>\n      <td>NaN</td>\n      <td>67</td>\n      <td>None</td>\n      <td>None</td>\n      <td>None</td>\n      <td>Louis-Jean</td>\n      <td>chef</td>\n      <td>None</td>\n      <td>None</td>\n      <td>sp</td>\n      <td>Lhopital</td>\n    </tr>\n    <tr>\n      <th>2</th>\n      <td>NaN</td>\n      <td>NaN</td>\n      <td>NaN</td>\n      <td>NaN</td>\n      <td>NaN</td>\n      <td>NaN</td>\n      <td>NaN</td>\n      <td>NaN</td>\n      <td>NaN</td>\n      <td>NaN</td>\n      <td>15</td>\n      <td>None</td>\n      <td>None</td>\n      <td>idem age: 15</td>\n      <td>Marie</td>\n      <td>idem employer: idem</td>\n      <td>None</td>\n      <td>None</td>\n      <td>idem</td>\n      <td>Papin</td>\n    </tr>\n  </tbody>\n</table>\n</div>"
     },
     "execution_count": 91,
     "metadata": {},
     "output_type": "execute_result"
    }
   ],
   "source": [
    "result_df"
   ],
   "metadata": {
    "collapsed": false
   }
  },
  {
   "cell_type": "code",
   "execution_count": 59,
   "outputs": [
    {
     "data": {
      "text/plain": "  surname: firstname: occupation: link: age: civil_status: birth_date:  \\\n0      NaN        NaN         NaN   NaN  NaN           NaN         NaN   \n1      NaN        NaN         NaN   NaN  NaN           NaN         NaN   \n\n  observation: employer:      age birth_date civil_status employer  \\\n0          NaN       NaN    61 an       None         None     None   \n1          NaN       NaN  35 year       None         None     None   \n\n    firstname    link observation       occupation   surname  \n0  Pétronille  épouse        None  sans profession  Burlurut  \n1        John  spouse        None         engineer       Doe  ",
      "text/html": "<div>\n<style scoped>\n    .dataframe tbody tr th:only-of-type {\n        vertical-align: middle;\n    }\n\n    .dataframe tbody tr th {\n        vertical-align: top;\n    }\n\n    .dataframe thead th {\n        text-align: right;\n    }\n</style>\n<table border=\"1\" class=\"dataframe\">\n  <thead>\n    <tr style=\"text-align: right;\">\n      <th></th>\n      <th>surname:</th>\n      <th>firstname:</th>\n      <th>occupation:</th>\n      <th>link:</th>\n      <th>age:</th>\n      <th>civil_status:</th>\n      <th>birth_date:</th>\n      <th>observation:</th>\n      <th>employer:</th>\n      <th>age</th>\n      <th>birth_date</th>\n      <th>civil_status</th>\n      <th>employer</th>\n      <th>firstname</th>\n      <th>link</th>\n      <th>observation</th>\n      <th>occupation</th>\n      <th>surname</th>\n    </tr>\n  </thead>\n  <tbody>\n    <tr>\n      <th>0</th>\n      <td>NaN</td>\n      <td>NaN</td>\n      <td>NaN</td>\n      <td>NaN</td>\n      <td>NaN</td>\n      <td>NaN</td>\n      <td>NaN</td>\n      <td>NaN</td>\n      <td>NaN</td>\n      <td>61 an</td>\n      <td>None</td>\n      <td>None</td>\n      <td>None</td>\n      <td>Pétronille</td>\n      <td>épouse</td>\n      <td>None</td>\n      <td>sans profession</td>\n      <td>Burlurut</td>\n    </tr>\n    <tr>\n      <th>1</th>\n      <td>NaN</td>\n      <td>NaN</td>\n      <td>NaN</td>\n      <td>NaN</td>\n      <td>NaN</td>\n      <td>NaN</td>\n      <td>NaN</td>\n      <td>NaN</td>\n      <td>NaN</td>\n      <td>35 year</td>\n      <td>None</td>\n      <td>None</td>\n      <td>None</td>\n      <td>John</td>\n      <td>spouse</td>\n      <td>None</td>\n      <td>engineer</td>\n      <td>Doe</td>\n    </tr>\n  </tbody>\n</table>\n</div>"
     },
     "execution_count": 59,
     "metadata": {},
     "output_type": "execute_result"
    }
   ],
   "source": [
    "result_df"
   ],
   "metadata": {
    "collapsed": false
   }
  },
  {
   "cell_type": "code",
   "execution_count": 95,
   "outputs": [
    {
     "name": "stderr",
     "output_type": "stream",
     "text": [
      "/var/folders/n_/mj2qn5sd20lb04k5gcvn8fbr0000gn/T/ipykernel_21919/30212549.py:52: FutureWarning: The frame.append method is deprecated and will be removed from pandas in a future version. Use pandas.concat instead.\n",
      "  result_df = result_df.append(extracted_values, ignore_index=True)\n",
      "/var/folders/n_/mj2qn5sd20lb04k5gcvn8fbr0000gn/T/ipykernel_21919/30212549.py:52: FutureWarning: The frame.append method is deprecated and will be removed from pandas in a future version. Use pandas.concat instead.\n",
      "  result_df = result_df.append(extracted_values, ignore_index=True)\n",
      "/var/folders/n_/mj2qn5sd20lb04k5gcvn8fbr0000gn/T/ipykernel_21919/30212549.py:52: FutureWarning: The frame.append method is deprecated and will be removed from pandas in a future version. Use pandas.concat instead.\n",
      "  result_df = result_df.append(extracted_values, ignore_index=True)\n",
      "/var/folders/n_/mj2qn5sd20lb04k5gcvn8fbr0000gn/T/ipykernel_21919/30212549.py:52: FutureWarning: The frame.append method is deprecated and will be removed from pandas in a future version. Use pandas.concat instead.\n",
      "  result_df = result_df.append(extracted_values, ignore_index=True)\n",
      "/var/folders/n_/mj2qn5sd20lb04k5gcvn8fbr0000gn/T/ipykernel_21919/30212549.py:52: FutureWarning: The frame.append method is deprecated and will be removed from pandas in a future version. Use pandas.concat instead.\n",
      "  result_df = result_df.append(extracted_values, ignore_index=True)\n",
      "/var/folders/n_/mj2qn5sd20lb04k5gcvn8fbr0000gn/T/ipykernel_21919/30212549.py:52: FutureWarning: The frame.append method is deprecated and will be removed from pandas in a future version. Use pandas.concat instead.\n",
      "  result_df = result_df.append(extracted_values, ignore_index=True)\n",
      "/var/folders/n_/mj2qn5sd20lb04k5gcvn8fbr0000gn/T/ipykernel_21919/30212549.py:52: FutureWarning: The frame.append method is deprecated and will be removed from pandas in a future version. Use pandas.concat instead.\n",
      "  result_df = result_df.append(extracted_values, ignore_index=True)\n"
     ]
    },
    {
     "data": {
      "text/plain": "  surname: firstname: occupation: link: age: civil_status: birth_date:  \\\n0      NaN        NaN         NaN   NaN  NaN           NaN         NaN   \n1      NaN        NaN         NaN   NaN  NaN           NaN         NaN   \n2      NaN        NaN         NaN   NaN  NaN           NaN         NaN   \n3      NaN        NaN         NaN   NaN  NaN           NaN         NaN   \n4      NaN        NaN         NaN   NaN  NaN           NaN         NaN   \n5      NaN        NaN         NaN   NaN  NaN           NaN         NaN   \n6      NaN        NaN         NaN   NaN  NaN           NaN         NaN   \n\n  observation: employer:      age birth_date civil_status employer  \\\n0          NaN       NaN    61 an       None         None     None   \n1          NaN       NaN  35 year       None         None     None   \n2          NaN       NaN        3       None         None     None   \n3          NaN       NaN    51 an       None         None     None   \n4          NaN       NaN        3       None         None     None   \n5          NaN       NaN        1       None         None     None   \n6          NaN       NaN        4       None         None     None   \n\n                    firstname            link observation         occupation  \\\n0                  Pétronille          épouse        None    sans profession   \n1                        John          spouse        None           engineer   \n2                  Marguerite          épouse        None          sans prof   \n3                     Antoine  chef de ménage        None     Métayer patron   \n4                        Jean            chef        None         journalier   \n5                  Marguerite            None        None  domestique age: 1   \n6  Annette link: femme age: 4           femme        None               None   \n\n    surname  \n0  Burlurut  \n1       Doe  \n2  Charrier  \n3       Roy  \n4    Parrot  \n5    Daniel  \n6     Benne  ",
      "text/html": "<div>\n<style scoped>\n    .dataframe tbody tr th:only-of-type {\n        vertical-align: middle;\n    }\n\n    .dataframe tbody tr th {\n        vertical-align: top;\n    }\n\n    .dataframe thead th {\n        text-align: right;\n    }\n</style>\n<table border=\"1\" class=\"dataframe\">\n  <thead>\n    <tr style=\"text-align: right;\">\n      <th></th>\n      <th>surname:</th>\n      <th>firstname:</th>\n      <th>occupation:</th>\n      <th>link:</th>\n      <th>age:</th>\n      <th>civil_status:</th>\n      <th>birth_date:</th>\n      <th>observation:</th>\n      <th>employer:</th>\n      <th>age</th>\n      <th>birth_date</th>\n      <th>civil_status</th>\n      <th>employer</th>\n      <th>firstname</th>\n      <th>link</th>\n      <th>observation</th>\n      <th>occupation</th>\n      <th>surname</th>\n    </tr>\n  </thead>\n  <tbody>\n    <tr>\n      <th>0</th>\n      <td>NaN</td>\n      <td>NaN</td>\n      <td>NaN</td>\n      <td>NaN</td>\n      <td>NaN</td>\n      <td>NaN</td>\n      <td>NaN</td>\n      <td>NaN</td>\n      <td>NaN</td>\n      <td>61 an</td>\n      <td>None</td>\n      <td>None</td>\n      <td>None</td>\n      <td>Pétronille</td>\n      <td>épouse</td>\n      <td>None</td>\n      <td>sans profession</td>\n      <td>Burlurut</td>\n    </tr>\n    <tr>\n      <th>1</th>\n      <td>NaN</td>\n      <td>NaN</td>\n      <td>NaN</td>\n      <td>NaN</td>\n      <td>NaN</td>\n      <td>NaN</td>\n      <td>NaN</td>\n      <td>NaN</td>\n      <td>NaN</td>\n      <td>35 year</td>\n      <td>None</td>\n      <td>None</td>\n      <td>None</td>\n      <td>John</td>\n      <td>spouse</td>\n      <td>None</td>\n      <td>engineer</td>\n      <td>Doe</td>\n    </tr>\n    <tr>\n      <th>2</th>\n      <td>NaN</td>\n      <td>NaN</td>\n      <td>NaN</td>\n      <td>NaN</td>\n      <td>NaN</td>\n      <td>NaN</td>\n      <td>NaN</td>\n      <td>NaN</td>\n      <td>NaN</td>\n      <td>3</td>\n      <td>None</td>\n      <td>None</td>\n      <td>None</td>\n      <td>Marguerite</td>\n      <td>épouse</td>\n      <td>None</td>\n      <td>sans prof</td>\n      <td>Charrier</td>\n    </tr>\n    <tr>\n      <th>3</th>\n      <td>NaN</td>\n      <td>NaN</td>\n      <td>NaN</td>\n      <td>NaN</td>\n      <td>NaN</td>\n      <td>NaN</td>\n      <td>NaN</td>\n      <td>NaN</td>\n      <td>NaN</td>\n      <td>51 an</td>\n      <td>None</td>\n      <td>None</td>\n      <td>None</td>\n      <td>Antoine</td>\n      <td>chef de ménage</td>\n      <td>None</td>\n      <td>Métayer patron</td>\n      <td>Roy</td>\n    </tr>\n    <tr>\n      <th>4</th>\n      <td>NaN</td>\n      <td>NaN</td>\n      <td>NaN</td>\n      <td>NaN</td>\n      <td>NaN</td>\n      <td>NaN</td>\n      <td>NaN</td>\n      <td>NaN</td>\n      <td>NaN</td>\n      <td>3</td>\n      <td>None</td>\n      <td>None</td>\n      <td>None</td>\n      <td>Jean</td>\n      <td>chef</td>\n      <td>None</td>\n      <td>journalier</td>\n      <td>Parrot</td>\n    </tr>\n    <tr>\n      <th>5</th>\n      <td>NaN</td>\n      <td>NaN</td>\n      <td>NaN</td>\n      <td>NaN</td>\n      <td>NaN</td>\n      <td>NaN</td>\n      <td>NaN</td>\n      <td>NaN</td>\n      <td>NaN</td>\n      <td>1</td>\n      <td>None</td>\n      <td>None</td>\n      <td>None</td>\n      <td>Marguerite</td>\n      <td>None</td>\n      <td>None</td>\n      <td>domestique age: 1</td>\n      <td>Daniel</td>\n    </tr>\n    <tr>\n      <th>6</th>\n      <td>NaN</td>\n      <td>NaN</td>\n      <td>NaN</td>\n      <td>NaN</td>\n      <td>NaN</td>\n      <td>NaN</td>\n      <td>NaN</td>\n      <td>NaN</td>\n      <td>NaN</td>\n      <td>4</td>\n      <td>None</td>\n      <td>None</td>\n      <td>None</td>\n      <td>Annette link: femme age: 4</td>\n      <td>femme</td>\n      <td>None</td>\n      <td>None</td>\n      <td>Benne</td>\n    </tr>\n  </tbody>\n</table>\n</div>"
     },
     "execution_count": 95,
     "metadata": {},
     "output_type": "execute_result"
    }
   ],
   "source": [
    "import pandas as pd\n",
    "import re\n",
    "\n",
    "# Sample DataFrame\n",
    "\n",
    "data = {\n",
    "    'attributes_column': [\n",
    "        \"surname: Burlurut firstname: Pétronille occupation: sans profession link: épouse age: 61 ans\",\n",
    "        \"surname: Doe firstname: John occupation: engineer link: spouse age: 35 years\",\n",
    "        \"surname: Charrier firstname: Marguerite occupation: sans prof link: épouse age: 31\",\n",
    "        \"surname: Roy firstname: Antoine occupation: Métayer patron link: chef de ménage age: 51 ans\",\n",
    "        \"surname: Parrot firstname: Jean occupation: journalier link: chef age: 33\",\n",
    "        \"surname: Daniel firstname: Marguerite occupation: domestique age: 15\",\n",
    "        \"surname: Benne firstname: Annette link: femme age: 46\"\n",
    "#        \"surname: Martin firstname: Marguerite occupation: idem link: épouse employer: idem age: 30\",\n",
    "#        \"surname: Debouesse firstname: Alexandre occupation: couvreur link: chef employer: patron age: 42\"\n",
    "#        \"surname: Martin firstname: Louis occupation: néant link: enfant employer: néant age: 6\"\n",
    "    ]\n",
    "}\n",
    "\n",
    "df = pd.DataFrame(data)\n",
    "\n",
    "# Attributes list\n",
    "attributes = ['surname:', 'firstname:', 'occupation:', 'link:', 'age:', 'civil_status:', 'birth_date:', 'observation:', 'employer:']\n",
    "\n",
    "# Initialize an empty DataFrame to store the results\n",
    "result_df = pd.DataFrame(columns=attributes)\n",
    "\n",
    "# Iterate over each row in the DataFrame\n",
    "for index, row in df.iterrows():\n",
    "    # Initialize a dictionary to store the extracted values for the current row\n",
    "    extracted_values = {}\n",
    "    # Extract values for each attribute\n",
    "    for attribute in attributes:\n",
    "        # Find the index of the attribute in the current row's string\n",
    "        start_index = row['attributes_column'].find(attribute)\n",
    "        if start_index != -1:  # If attribute is found\n",
    "            # Find the end index of the value (next attribute or end of string)\n",
    "            next_attribute_index = attributes.index(attribute) + 1\n",
    "            if next_attribute_index < len(attributes):\n",
    "                end_index = row['attributes_column'].find(attributes[next_attribute_index])\n",
    "            else:\n",
    "                end_index = len(row['attributes_column'])\n",
    "            # Extract the value using regular expression\n",
    "            value = re.search(rf\"{re.escape(attribute)}\\s*(.*?)(?=\\s*{re.escape(attributes[next_attribute_index])}|$)\", row['attributes_column'][start_index:end_index])\n",
    "            if value:\n",
    "                extracted_values[attribute.strip(':')] = value.group(1).strip()\n",
    "        else:\n",
    "            # If attribute is not found, set the value as None\n",
    "            extracted_values[attribute.strip(':')] = None\n",
    "    # Append the extracted values for the current row to the result DataFrame\n",
    "    result_df = result_df.append(extracted_values, ignore_index=True)\n",
    "\n",
    "result_df"
   ],
   "metadata": {
    "collapsed": false
   }
  },
  {
   "cell_type": "code",
   "execution_count": null,
   "outputs": [],
   "source": [],
   "metadata": {
    "collapsed": false
   }
  },
  {
   "cell_type": "markdown",
   "source": [
    "## Bruteforce data split"
   ],
   "metadata": {
    "collapsed": false
   }
  },
  {
   "cell_type": "code",
   "execution_count": 99,
   "outputs": [
    {
     "data": {
      "text/plain": "0      surname: Chardon firstname: Marie occupation: ...\n1      surname: Lhopital firstname: Louis-Jean occupa...\n2      surname: Papin firstname: Marie occupation: id...\n3      surname: Lavocat firstname: Marie link: femme ...\n4          surname: Benne firstname: Marguerite age: 78 \n                             ...                        \n236    surname: Burlurut firstname: Pétronille occupa...\n237    surname: Combey firstname: Alexandre occupatio...\n238    surname: Collin firstname: Marguerite occupati...\n239    surname: Dumont firstname: Etienne link: fils ...\n240    surname: Renaut firstname: Antoinette link: be...\nName: groundtruth, Length: 241, dtype: object"
     },
     "execution_count": 99,
     "metadata": {},
     "output_type": "execute_result"
    }
   ],
   "source": [
    "groundtruth = transcriptions_with_sex.groundtruth\n",
    "groundtruth"
   ],
   "metadata": {
    "collapsed": false
   }
  },
  {
   "cell_type": "code",
   "execution_count": 100,
   "outputs": [
    {
     "name": "stdout",
     "output_type": "stream",
     "text": [
      "['surname:', 'Chardon', 'firstname:', 'Marie', 'occupation:', 'idem', 'link:', 'fille', 'age:', '30', '']\n"
     ]
    }
   ],
   "source": [
    "print(groundtruth[0].split(' '))"
   ],
   "metadata": {
    "collapsed": false
   }
  },
  {
   "cell_type": "code",
   "execution_count": 102,
   "outputs": [
    {
     "name": "stdout",
     "output_type": "stream",
     "text": [
      "['surname:Chardon', 'firstname:Marie', 'occupation:idem', 'link:fille', 'age:30']\n"
     ]
    }
   ],
   "source": [
    "print(combine_strings(groundtruth[0].split(' ')))"
   ],
   "metadata": {
    "collapsed": false
   }
  },
  {
   "cell_type": "code",
   "execution_count": 103,
   "outputs": [],
   "source": [
    "list = []\n",
    "for data in groundtruth:\n",
    "    list.append(combine_strings(data.split(' ')))"
   ],
   "metadata": {
    "collapsed": false
   }
  },
  {
   "cell_type": "code",
   "execution_count": 104,
   "outputs": [
    {
     "data": {
      "text/plain": "[['surname:Chardon',\n  'firstname:Marie',\n  'occupation:idem',\n  'link:fille',\n  'age:30'],\n ['surname:Lhopital',\n  'firstname:Louis-Jean',\n  'occupation:sp',\n  'link:chef',\n  'age:67'],\n ['surname:Papin',\n  'firstname:Marie',\n  'occupation:idem',\n  'link:idem',\n  'employer:idem',\n  'age:15'],\n ['surname:Lavocat',\n  'firstname:Marie',\n  'link:femme',\n  'birth_date:1875',\n  'lob:Rigny'],\n ['surname:Benne', 'firstname:Marguerite', 'age:78'],\n ['surname:Roy',\n  'firstname:Antoine',\n  'occupation:Métayerpatron',\n  'link:chefdeménage',\n  'age:51ans'],\n ['surname:Bizet', 'firstname:Louis', 'link:idem', 'age:9'],\n ['surname:Garitat', 'firstname:Jules', 'link:fils', 'age:12'],\n ['surname:Souche',\n  'firstname:Maria',\n  'occupation:idem',\n  'link:idem',\n  'age:4mois'],\n ['surname:Guichou',\n  'firstname:Elisabeth',\n  'occupation:néant',\n  'link:femme',\n  'age:28'],\n ['surname:Copain',\n  'firstname:Jacques',\n  'occupation:idem',\n  'link:idem',\n  'age:12'],\n ['surname:Aubouer',\n  'firstname:Ernestine',\n  'occupation:néant',\n  'link:enfant',\n  'age:13ans'],\n ['surname:Raduron',\n  'firstname:Anne',\n  'link:Safemme',\n  'age:51',\n  'birth_date:1835'],\n ['surname:Benne', 'firstname:Annette', 'link:femme', 'age:46'],\n ['surname:Parrot',\n  'firstname:Jean',\n  'occupation:journalier',\n  'link:chef',\n  'age:33'],\n ['surname:Berger',\n  'firstname:Gilbert',\n  'occupation:cantonnier',\n  'link:chef',\n  'age:72'],\n ['surname:Cluzel', 'firstname:Marie', 'link:enf', 'age:22'],\n ['surname:Daniel',\n  'firstname:Claude',\n  'occupation:journalier',\n  'link:chef',\n  'age:33'],\n ['surname:Vivier',\n  'firstname:Antoine',\n  'occupation:Cultivateur',\n  'link:Chef',\n  'age:45',\n  'birth_date:1841'],\n ['surname:Apied', 'firstname:Madeleine', 'link:femme', 'age:53'],\n ['surname:Charrier',\n  'firstname:Marguerite',\n  'occupation:sansprof',\n  'link:épouse',\n  'age:31'],\n ['surname:Martin',\n  'firstname:Louis',\n  'occupation:néant',\n  'link:enfant',\n  'employer:néant',\n  'age:6'],\n ['surname:Mayeur',\n  'firstname:Marguerite',\n  'occupation:idem',\n  'link:idem',\n  'employer:idem',\n  'birth_date:1896',\n  'lob:Paris'],\n ['surname:Daniel', 'firstname:Marguerite', 'occupation:domestique', 'age:15'],\n ['surname:Debouesse',\n  'firstname:Alexandre',\n  'occupation:couvreur',\n  'link:chef',\n  'employer:patron',\n  'age:42'],\n ['surname:Martin',\n  'firstname:Marguerite',\n  'occupation:idem',\n  'link:épouse',\n  'employer:idem',\n  'age:30'],\n ['surname:Quillery',\n  'firstname:Auguste',\n  'occupation:roulier',\n  'link:chef',\n  'employer:patron',\n  'age:62',\n  'civil_status:Hommemarié'],\n ['surname:Lacroix',\n  'firstname:Rose',\n  'occupation:s.p',\n  'link:enfant',\n  'age:17'],\n ['surname:Schwartz',\n  'firstname:Jean',\n  'occupation:cultivateur',\n  'link:domestique',\n  'employer:Troussière',\n  'birth_date:1885',\n  'lob:Paris'],\n ['surname:Grillé',\n  'firstname:Antoine',\n  'occupation:gardepart.',\n  'link:chef',\n  'employer:Bruel',\n  'age:46'],\n ['surname:Berthon',\n  'firstname:Nicolas',\n  'occupation:idem',\n  'link:fils',\n  'age:11mois'],\n ['surname:idem',\n  'firstname:Geneviève',\n  'occupation:journalière',\n  'link:chef',\n  'age:51'],\n ['surname:Sauvoisin',\n  'firstname:Gilbert',\n  'occupation:journalier',\n  'link:chef',\n  'age:60'],\n ['surname:Thévenin',\n  'firstname:Jean',\n  'occupation:manoeuvre',\n  'link:idem',\n  'age:24'],\n ['surname:Aumaitre',\n  'firstname:Virginie',\n  'link:ép',\n  'birth_date:1852',\n  'lob:Saint-AvitPuy-De-Dome'],\n ['surname:Ursat',\n  'firstname:Jean',\n  'occupation:forgeron',\n  'link:pèredefamille',\n  'age:61'],\n ['surname:Philippon',\n  'firstname:Louis',\n  'occupation:ouvrier',\n  'link:chef',\n  'age:29'],\n ['surname:Châtel',\n  'firstname:Jeanne',\n  'occupation:propriétaire',\n  'link:chef',\n  'age:52ans'],\n ['surname:Taravaud',\n  'firstname:André',\n  'occupation:néant',\n  'link:enfant',\n  'age:9ans'],\n ['surname:Bonnet',\n  'firstname:Rose',\n  'occupation:néant',\n  'link:mère',\n  'age:66ans'],\n ['surname:Thomas',\n  'firstname:Rose',\n  'occupation:domestique',\n  'link:domestique',\n  'employer:Gouvernaire',\n  'age:56'],\n ['surname:Sudrot',\n  'firstname:Eugènie',\n  'occupation:idem',\n  'link:idem',\n  'age:17'],\n ['surname:Mazerat', 'firstname:Maria', 'link:femme', 'age:32'],\n ['surname:Glache', 'firstname:Joseph', 'link:enfant', 'age:19'],\n ['surname:Dumont',\n  'firstname:Etienne',\n  'occupation:cultivateur',\n  'link:chef',\n  'employer:patron',\n  'birth_date:1861',\n  'lob:Coulanges'],\n ['surname:Virmot',\n  'firstname:Jeanne',\n  'occupation:Domestique',\n  'link:Domestique',\n  'employer:Choussy',\n  'age:36'],\n ['surname:Roy',\n  'firstname:Pierre',\n  'occupation:idem',\n  'link:idem',\n  'employer:idem',\n  'age:14'],\n ['surname:Giron',\n  'firstname:Marie',\n  'occupation:sansprofession',\n  'link:belle-mère',\n  'age:74'],\n ['surname:Mallet',\n  'firstname:Josèphine',\n  'occupation:argentière',\n  'birth_date:1904',\n  'lob:Loire'],\n ['surname:Coq',\n  'firstname:Louis',\n  'occupation:idem',\n  'link:idem',\n  'employer:idem',\n  'age:9'],\n ['surname:Pailleret',\n  'firstname:Paul',\n  'occupation:voiturier',\n  'link:chef',\n  'employer:patron',\n  'age:60'],\n ['surname:Dumont',\n  'firstname:Jeanne',\n  'link:femme',\n  'birth_date:1862',\n  'lob:Monétay'],\n ['surname:Lognon',\n  'firstname:Anroine',\n  'occupation:idem',\n  'link:Fils',\n  'age:8'],\n ['surname:Vichard',\n  'firstname:Marie',\n  'occupation:idem',\n  'link:fille',\n  'age:4'],\n ['surname:Dumont',\n  'firstname:Marie',\n  'link:fille',\n  'birth_date:1892',\n  'lob:idem'],\n ['surname:Richard',\n  'firstname:Justine',\n  'occupation:s.p.',\n  'link:femme',\n  'age:33'],\n ['surname:Vazelle',\n  'firstname:Madeleine',\n  'occupation:sp',\n  'link:femme',\n  'age:63'],\n ['surname:Mangeret',\n  'firstname:Juliette',\n  'occupation:néant',\n  'link:mèredefamille',\n  'age:32'],\n ['surname:Chapelier',\n  'firstname:Jean',\n  'occupation:jardinier',\n  'link:père',\n  'age:64'],\n ['surname:Gorbinet',\n  'firstname:Jeanne',\n  'occupation:idem',\n  'link:chef',\n  'age:66'],\n ['surname:Grette',\n  'firstname:Clément',\n  'occupation:domestiquedeferme',\n  'age:15'],\n ['surname:Ursat',\n  'firstname:Jeanne',\n  'occupation:idem',\n  'link:petite-fille',\n  'age:5'],\n ['surname:Daviot',\n  'firstname:Jean-Marie',\n  'occupation:domestiquedeferme',\n  'link:domestiquedeferme',\n  'age:25'],\n ['surname:Lacroix',\n  'firstname:Pierre',\n  'occupation:culteurfermier',\n  'link:chef',\n  'age:53'],\n ['surname:idem',\n  'firstname:Léonie',\n  'occupation:sp',\n  'link:fille',\n  'birth_date:1899',\n  'lob:a'],\n ['surname:Fleury', 'firstname:Antoine', 'link:idem', 'age:7ans'],\n ['surname:Bonnichon',\n  'firstname:Rosalie',\n  'occupation:sansprofession',\n  'link:chef',\n  'age:58'],\n ['surname:Bonnetot',\n  'firstname:Claudia',\n  'occupation:idem',\n  'link:fille',\n  'age:6'],\n ['surname:Glachet', 'firstname:Jeanne', 'link:safemme', 'age:54ans'],\n ['surname:Pénot',\n  'firstname:François',\n  'occupation:métayer',\n  'link:chef',\n  'age:39'],\n ['surname:Grandchamp',\n  'firstname:Gabriel',\n  'occupation:cultivateurfermier',\n  'link:chef',\n  'age:56'],\n ['surname:Joyoz',\n  'firstname:Suzanne',\n  'occupation:néant',\n  'link:mère',\n  'employer:néant',\n  'age:72'],\n ['surname:Paturet',\n  'firstname:Jean',\n  'occupation:cultivateur',\n  'link:chef',\n  'age:54ans'],\n ['surname:Laurent',\n  'firstname:Jacques',\n  'occupation:métayer',\n  'link:chef',\n  'age:27'],\n ['surname:Lasue',\n  'firstname:Madeleine',\n  'occupation:femmedechambre',\n  'link:femmedechambre',\n  'employer:Chabet',\n  'birth_date:1909',\n  'lob:Cher'],\n ['surname:Vivier',\n  'firstname:Claude',\n  'link:Leurfils',\n  'age:9',\n  'birth_date:1877',\n  'civil_status:Garçon'],\n ['surname:Guyon',\n  'firstname:Achille',\n  'occupation:idem',\n  'link:petit-fils',\n  'age:7jours'],\n ['surname:Péronnet',\n  'firstname:Marie',\n  'link:Safemme',\n  'age:39',\n  'birth_date:1847'],\n ['surname:Matichard',\n  'firstname:Claudine',\n  'occupation:s.p',\n  'link:épouse',\n  'age:22'],\n ['surname:Simonin',\n  'firstname:Eugènie',\n  'occupation:s.p',\n  'link:idem',\n  'age:5'],\n ['surname:Forestier',\n  'firstname:Marthe',\n  'occupation:idem',\n  'link:fille',\n  'age:5'],\n ['surname:Roumeaux',\n  'firstname:Marie',\n  'occupation:sansprof.',\n  'link:bru',\n  'age:25'],\n ['surname:Brun',\n  'firstname:Jacques',\n  'occupation:garde-champêtre',\n  'link:chef',\n  'age:50ans'],\n ['surname:Régerat',\n  'firstname:Frédéric',\n  'occupation:domestique',\n  'link:domestique',\n  'age:13'],\n ['surname:Touzelet',\n  'firstname:Louis',\n  'occupation:idem',\n  'link:pensionnaire',\n  'age:10'],\n ['surname:Rougeron',\n  'firstname:Louis',\n  'link:filsdelabonne',\n  'employer:horticulteur',\n  'birth_date:1906',\n  'lob:Lunéville'],\n ['surname:Bouculat', 'firstname:Marie', 'age:16'],\n ['surname:Décharne',\n  'firstname:Madeleine',\n  'occupation:sansprofession',\n  'link:épouse',\n  'age:57ans'],\n ['surname:Chapelier',\n  'firstname:Victor',\n  'occupation:idem',\n  'link:fils',\n  'age:8'],\n ['surname:Dumas',\n  'firstname:Hélène',\n  'occupation:néant',\n  'link:enfant',\n  'age:3'],\n ['surname:Dumont',\n  'firstname:François',\n  'occupation:cultivateur',\n  'link:fils',\n  'employer:Troussière',\n  'birth_date:1894',\n  'lob:Coulanges'],\n ['surname:Lécornet', 'firstname:Jean', 'link:idem', 'age:12'],\n ['surname:Mallet',\n  'firstname:Henri',\n  'occupation:s.p',\n  'link:enfant',\n  'age:2'],\n ['surname:Caillot',\n  'firstname:Marie',\n  'occupation:sp',\n  'link:épe',\n  'birth_date:1896'],\n ['surname:Roumeau',\n  'firstname:Claude',\n  'occupation:cultivateur',\n  'link:chef',\n  'age:30ans'],\n ['surname:Nuret',\n  'firstname:Albert',\n  'occupation:idem',\n  'link:fils',\n  'age:3'],\n ['surname:Grobost', 'firstname:Joseph', 'link:leurfils', 'age:30'],\n ['surname:Demay',\n  'firstname:Joséphine',\n  'occupation:néant',\n  'link:méredefamille',\n  'age:27'],\n ['surname:Parent',\n  'firstname:Alphonse',\n  'occupation:s.p',\n  'link:enfant',\n  'age:2'],\n ['surname:Reynot',\n  'firstname:Marie',\n  'occupation:idem',\n  'link:idem',\n  'employer:idem',\n  'birth_date:1888',\n  'lob:Molines'],\n ['surname:idem',\n  'firstname:Henri',\n  'occupation:idem',\n  'link:idem',\n  'age:5mois'],\n ['surname:Prunier', 'firstname:Jean', 'occupation:domestique', 'age:17ans'],\n ['surname:Vichard',\n  'firstname:Jean-Marie',\n  'occupation:idem',\n  'link:fils',\n  'age:5'],\n ['surname:Valnaud',\n  'firstname:Marie',\n  'occupation:s.p',\n  'link:femme',\n  'age:64'],\n ['surname:Pégand',\n  'firstname:Gilbert',\n  'occupation:culivateur',\n  'link:chef',\n  'employer:patron',\n  'age:55'],\n ['surname:Jean',\n  'firstname:Jean',\n  'occupation:culteur',\n  'link:enfant',\n  'age:20'],\n ['surname:Goudin',\n  'firstname:Maria',\n  'occupation:boulanger',\n  'link:femme',\n  'birth_date:1883'],\n ['surname:Fayrolle',\n  'firstname:Gabriel',\n  'occupation:buraliste',\n  'link:chef',\n  'employer:patron',\n  'age:60'],\n ['surname:Picot',\n  'firstname:Claudine',\n  'occupation:sansp.',\n  'link:fille',\n  'age:11'],\n ['surname:Rollin', 'firstname:Marguerite', 'link:Chef', 'age:75'],\n ['surname:Péron',\n  'firstname:François',\n  'link:fils',\n  'birth_date:1907',\n  'lob:Coulanges'],\n ['surname:Décluse',\n  'firstname:Jean',\n  'occupation:clercdenptaire',\n  'link:chef',\n  'employer:Bonnichou',\n  'age:41ans'],\n ['surname:idem', 'firstname:Roger', 'link:fils', 'birth_date:1922', 'lob:m'],\n ['surname:Thibaut',\n  'firstname:Marie',\n  'occupation:sp',\n  'link:femme',\n  'age:54'],\n ['surname:Fabre',\n  'firstname:Marie',\n  'occupation:quincaillier',\n  'link:sabrue',\n  'age:28ans'],\n ['surname:Aillot',\n  'firstname:Simon',\n  'occupation:charcutier',\n  'link:chef',\n  'employer:Chene',\n  'birth_date:1854'],\n ['surname:Parrot',\n  'firstname:Jean',\n  'occupation:idem',\n  'link:idem',\n  'age:15jours'],\n ['surname:Faure',\n  'firstname:Marie',\n  'occupation:sansprof.',\n  'link:épouse',\n  'age:52'],\n ['surname:Brouant',\n  'firstname:Louis',\n  'occupation:domestique',\n  'link:assisté',\n  'employer:Goudier',\n  'birth_date:1895',\n  'lob:Paris'],\n ['surname:Barbier',\n  'firstname:Joseph',\n  'occupation:sellier',\n  'link:ouvrier',\n  'employer:Lefebure',\n  'birth_date:1892'],\n ['surname:Lahaie',\n  'firstname:Antoinette',\n  'occupation:Sansp',\n  'link:épouse',\n  'age:27'],\n ['surname:Kaermazek',\n  'firstname:Branislav',\n  'occupation:manoeuvre',\n  'link:frère',\n  'employer:Labage',\n  'birth_date:1908',\n  'lob:WlanicaPologne'],\n ['surname:Lecornet',\n  'firstname:Marguerite',\n  'occupation:sansp',\n  'link:épouse',\n  'age:30'],\n ['surname:Chardon',\n  'firstname:Marie',\n  'occupation:idem',\n  'link:chef',\n  'age:84ans'],\n ['surname:Grillé',\n  'firstname:Emile',\n  'occupation:idem',\n  'link:idem',\n  'employer:idem',\n  'age:2'],\n ['surname:Dumont',\n  'firstname:François',\n  'link:fils',\n  'birth_date:1897',\n  'lob:Coulanges'],\n ['surname:Ouverkierviez',\n  'firstname:Stanislas',\n  'link:fils',\n  'birth_date:1924',\n  'lob:Cerny-lès-Bucy'],\n ['surname:Joubert',\n  'firstname:Gervais',\n  'occupation:manoeuvre',\n  'link:chef',\n  'employer:Dubuisson',\n  'birth_date:1891'],\n ['surname:Glomot', 'firstname:Louis', 'occupation:sp', 'link:idem', 'age:14'],\n ['surname:idem', 'occupation:imprimeur', 'link:enfant', 'age:27'],\n ['surname:Martin',\n  'firstname:Marie',\n  'occupation:idem',\n  'link:idem',\n  'age:45'],\n ['surname:Coulon',\n  'firstname:Louis',\n  'occupation:idem',\n  'link:idem',\n  'age:5'],\n ['surname:Cussinet', 'firstname:Madeleine', 'link:safemme', 'age:50ans'],\n ['surname:LeBihan',\n  'firstname:Joseph',\n  'occupation:patissier',\n  'birth_date:1908',\n  'lob:Morbihan'],\n ['surname:Couyat',\n  'firstname:Amélie',\n  'occupation:sansprof.',\n  'link:épouse',\n  'age:51ans'],\n ['surname:Gaulme',\n  'firstname:Françoise',\n  'occupation:cullotière',\n  'link:Schouer',\n  'age:41'],\n ['surname:Beraud',\n  'firstname:Pierre',\n  'occupation:employé',\n  'link:chef',\n  'age:49'],\n ['surname:GAUDIAT',\n  'firstname:Elisabeth',\n  'occupation:blanchiseuse',\n  'link:chef',\n  'age:28'],\n ['surname:Ducher',\n  'firstname:Etiennette',\n  'occupation:sp',\n  'link:épouse',\n  'age:35'],\n ['surname:LeBlanc',\n  'firstname:Rolland',\n  'occupation:nourrisson',\n  'link:assistédelaS.',\n  'age:1'],\n ['surname:Baron', 'firstname:Auguste', 'link:leurfils', 'age:15ans'],\n ['surname:Colas',\n  'firstname:Marie',\n  'occupation:s.p',\n  'link:belle-mère',\n  'age:72'],\n ['surname:Portier', 'firstname:Antoine', 'link:Sonfils', 'age:12'],\n ['surname:Desphelippon',\n  'firstname:Hippolyte',\n  'occupation:employé',\n  'link:ch.m',\n  'employer:Ciefre',\n  'birth_date:1887',\n  'lob:Bourbon-LarchambaudAllier'],\n ['surname:Retord',\n  'firstname:Joseph',\n  'link:fils',\n  'employer:idem',\n  'age:26'],\n ['surname:Mathion',\n  'firstname:Pierre',\n  'occupation:journalierterrassier',\n  'link:chef',\n  'age:49'],\n ['surname:Tessin',\n  'firstname:Marie',\n  'occupation:cultivatrice',\n  'link:domestique',\n  'employer:Lavocat',\n  'birth_date:1891',\n  'lob:Coulanges'],\n ['surname:Lavocat',\n  'firstname:Claude',\n  'occupation:cultivateur',\n  'link:frère',\n  'employer:Lavocat',\n  'birth_date:1890',\n  'lob:Coulanges'],\n ['surname:Villeneuve',\n  'firstname:Louise',\n  'occupation:cultivat',\n  'link:bru',\n  'age:37'],\n ['surname:Pasquier',\n  'firstname:Augustine',\n  'occupation:néant',\n  'link:femme',\n  'age:28'],\n ['surname:Bourdu',\n  'firstname:Louise',\n  'occupation:sansprof.',\n  'link:épouse',\n  'age:44'],\n ['surname:Gay', 'firstname:Marie', 'occupation:sp', 'link:épouse', 'age:36'],\n ['surname:Vizier',\n  'firstname:Jacques',\n  'occupation:charretier',\n  'link:chef',\n  'employer:Margottas',\n  'birth_date:1897',\n  'lob:idem'],\n ['surname:Jean',\n  'firstname:Jean',\n  'occupation:métayer',\n  'link:chef',\n  'age:54'],\n ['surname:Derroziers',\n  'firstname:Léonie',\n  'occupation:rentière',\n  'link:chef',\n  'age:55'],\n ['surname:Lacroix',\n  'firstname:Eugène',\n  'occupation:s.p',\n  'link:enfant',\n  'age:12'],\n ['surname:Bonnin',\n  'firstname:Jean',\n  'occupation:métayer',\n  'link:chef',\n  'employer:patron',\n  'age:29'],\n ['surname:Frétier',\n  'firstname:Thérèse',\n  'occupation:repasseuse',\n  'link:ép',\n  'birth_date:1898',\n  'lob:Paris'],\n ['surname:Péron',\n  'firstname:Pierre',\n  'occupation:cultivateur',\n  'link:chef',\n  'employer:patron',\n  'birth_date:1879',\n  'lob:SaintPourçain-Sur-Besbre'],\n ['surname:Carte', 'firstname:Gilbert', 'link:sonfils', 'age:32'],\n ['surname:Triboulet',\n  'firstname:Jean',\n  'occupation:forgeron',\n  'link:chefdefamille',\n  'age:55'],\n ['surname:Lamouche',\n  'firstname:Jean',\n  'occupation:cultivateur',\n  'link:chef',\n  'employer:patron',\n  'age:25'],\n ['surname:Decressol',\n  'firstname:Marie',\n  'occupation:idem',\n  'link:safemme',\n  'age:56'],\n ['surname:Houdes',\n  'firstname:Jeanne',\n  'occupation:sp',\n  'link:femme',\n  'age:68'],\n ['surname:Millereux',\n  'firstname:Jean',\n  'occupation:idem',\n  'link:fils',\n  'age:11'],\n ['surname:Gaudet', 'firstname:Marie', 'link:leurfille', 'age:2ans'],\n ['firstname:Clémence', 'link:fille', 'birth_date:1917'],\n ['surname:Bauchard',\n  'firstname:Joseph',\n  'occupation:receveurenregistrement',\n  'link:chef',\n  'birth_date:1863',\n  'lob:Cher'],\n ['surname:Débousset',\n  'firstname:Marie',\n  'occupation:idem',\n  'link:fille',\n  'age:4mois'],\n ['surname:Lavadoune',\n  'firstname:Anne',\n  'occupation:idem',\n  'link:épouse',\n  'age:45'],\n ['surname:Lognon', 'firstname:Jean', 'occupation:idem', 'link:fils', 'age:1'],\n ['surname:Fleury',\n  'firstname:Simon',\n  'occupation:idem',\n  'link:leurfils',\n  'age:9'],\n ['surname:Truffaut',\n  'firstname:Pierre',\n  'occupation:Gardeparticulier',\n  'link:Chef',\n  'employer:Choussy',\n  'age:72'],\n ['surname:Terrenoire',\n  'firstname:Maria',\n  'occupation:sp',\n  'link:bru',\n  'age:21'],\n ['surname:Souche', 'firstname:René', 'occupation:idem', 'link:idem', 'age:4'],\n ['surname:Journey',\n  'firstname:Colette',\n  'occupation:domestique',\n  'link:idem',\n  'employer:idem',\n  'birth_date:1896',\n  'lob:LaChapelle'],\n ['surname:Lartigaud',\n  'firstname:Antoinette',\n  'occupation:idem',\n  'link:enfant',\n  'age:2'],\n ['surname:Tourret',\n  'firstname:Virginie',\n  'occupation:idem',\n  'link:enfant',\n  'age:6'],\n ['surname:Vaclser',\n  'firstname:Marguerite',\n  'occupation:idem',\n  'link:safemme',\n  'age:28'],\n ['surname:Loyer',\n  'firstname:Georges',\n  'occupation:idem',\n  'link:idem',\n  'age:17'],\n ['surname:Mallais',\n  'firstname:Pierre',\n  'occupation:ouvriermeunier',\n  'link:chef',\n  'age:31'],\n ['surname:Bardot',\n  'firstname:Gabrielle',\n  'occupation:sansp.',\n  'link:épouse',\n  'age:27'],\n ['surname:Dumont',\n  'firstname:Jeanne',\n  'link:femme',\n  'birth_date:1877',\n  'lob:SaintDidierenDonjon'],\n ['surname:Cotte',\n  'firstname:Jeanne',\n  'occupation:sansprofession',\n  'link:épouse',\n  'age:59ans'],\n ['surname:Bodard',\n  'firstname:Mariette',\n  'occupation:sp',\n  'link:femme',\n  'age:40'],\n ['surname:Cluzel',\n  'firstname:Joseph',\n  'link:enfant',\n  'age:18',\n  'civil_status:Garçon'],\n ['surname:Ursat',\n  'firstname:Françoise',\n  'occupation:néant',\n  'link:fille',\n  'age:17'],\n ['surname:Bordet',\n  'firstname:Louise',\n  'occupation:idem',\n  'link:enfant',\n  'age:23'],\n ['surname:Glachet', 'firstname:Pierre', 'link:leurfils', 'age:18ans'],\n ['surname:Roy', 'firstname:Joseph', 'occupation:idem', 'link:idem', 'age:21'],\n ['surname:Dey', 'firstname:Marie', 'occupation:domestique', 'age:19'],\n ['surname:Lécluse',\n  'firstname:Marie',\n  'occupation:néant',\n  'link:enfant',\n  'age:15'],\n ['surname:Germain',\n  'firstname:Antoine',\n  'occupation:s.p.',\n  'link:enfant',\n  'age:11'],\n ['surname:Débousset',\n  'firstname:Marthe',\n  'occupation:idem',\n  'link:fille',\n  'age:9mois'],\n ['surname:Alvire', 'firstname:Ernest', 'occupation:idem', 'age:13'],\n ['surname:Aubouër',\n  'firstname:Alix',\n  'occupation:néant',\n  'link:enfant',\n  'age:20'],\n ['surname:Pénot',\n  'firstname:Claude',\n  'occupation:s.p',\n  'link:enfant',\n  'age:13'],\n ['surname:Boutot',\n  'firstname:Françoise',\n  'occupation:domest.',\n  'link:domest.',\n  'employer:Lavany',\n  'age:16'],\n ['surname:Mathion',\n  'firstname:Eugène',\n  'occupation:idem',\n  'link:enfant',\n  'age:13'],\n ['surname:Déchery',\n  'firstname:Jean',\n  'occupation:sp',\n  'link:enfant',\n  'age:11'],\n ['surname:Mély',\n  'firstname:FrançoisAntoine',\n  'occupation:menuisier',\n  'link:ch.m',\n  'employer:Debord',\n  'birth_date:1898',\n  'lob:Vichy'],\n ['surname:Thévenin',\n  'firstname:Arthur',\n  'occupation:sp',\n  'link:idem',\n  'age:9'],\n ['surname:Diry',\n  'firstname:Jacques',\n  'occupation:cultivateur',\n  'link:chef',\n  'age:35'],\n ['surname:Laurent',\n  'firstname:Claude',\n  'occupation:métayer',\n  'link:chef',\n  'age:57'],\n ['surname:Coq',\n  'firstname:Antonie',\n  'occupation:idem',\n  'link:idem',\n  'employer:idem',\n  'age:16'],\n ['surname:Foury',\n  'firstname:Jean-Baptiste',\n  'occupation:tourneur',\n  'link:chef',\n  'employer:chemindefer',\n  'age:26'],\n ['surname:Brulier',\n  'firstname:Denis',\n  'occupation:agentdepolice',\n  'link:chef',\n  'age:50'],\n ['surname:Lescure',\n  'firstname:Jacques',\n  'occupation:idem',\n  'link:chef',\n  'age:55a'],\n ['surname:Aubouër',\n  'firstname:Claudine',\n  'occupation:néant',\n  'link:enfant',\n  'age:16'],\n ['surname:Gollet',\n  'firstname:Anne',\n  'occupation:s.p',\n  'link:femme',\n  'age:21'],\n ['surname:Haininger',\n  'firstname:Marie',\n  'occupation:idem',\n  'link:fille',\n  'age:23'],\n ['surname:Thély',\n  'firstname:Jean-Claude',\n  'occupation:idem',\n  'link:idem',\n  'employer:idem',\n  'birth_date:1892',\n  'lob:Coulanges'],\n ['surname:Grobost', 'firstname:Auguste', 'link:leurfils', 'age:7ans'],\n ['surname:Guignard',\n  'firstname:Marie',\n  'occupation:couturière',\n  'link:femme',\n  'age:39'],\n ['surname:Belin',\n  'firstname:Marguerite',\n  'occupation:dépositdejournaux',\n  'link:chef',\n  'employer:patron',\n  'age:47'],\n ['surname:Auroir',\n  'firstname:Jacques',\n  'occupation:tisserand',\n  'link:chefdeménage',\n  'age:65ans'],\n ['surname:Rouchon',\n  'firstname:Victor',\n  'occupation:idem',\n  'link:idem',\n  'employer:idem',\n  'age:17'],\n ['surname:Bazilique',\n  'firstname:Madeleine',\n  'occupation:néant',\n  'link:mèredefamille',\n  'age:38'],\n ['surname:Cognet',\n  'firstname:JeanRaymond',\n  'occupation:manoeuvre',\n  'link:ch.m',\n  'employer:Labage',\n  'birth_date:1901',\n  'lob:StPriest'],\n ['surname:Souche',\n  'firstname:France',\n  'occupation:idem',\n  'link:idem',\n  'age:2'],\n ['surname:Aufauvre', 'firstname:Jean', 'birth_date:1912'],\n ['surname:Hameau',\n  'firstname:Célina',\n  'occupation:employée',\n  'birth_date:1887'],\n ['surname:Mimerel', 'firstname:Pierre', 'link:fils', 'age:8'],\n ['surname:Marmion',\n  'firstname:Charles',\n  'occupation:sansprof.',\n  'link:petit-fils',\n  'age:12'],\n ['surname:Choussy',\n  'firstname:Albert',\n  'occupation:Propriétaire',\n  'link:fils',\n  'age:37'],\n ['surname:Dumont',\n  'firstname:Blaise',\n  'occupation:cultivateur',\n  'link:chef',\n  'employer:patron',\n  'birth_date:1857',\n  'lob:idem'],\n ['surname:Simonin',\n  'firstname:Baptiste',\n  'occupation:culteurfermier',\n  'link:chef',\n  'age:35'],\n ['surname:Autissier',\n  'firstname:Antoine',\n  'occupation:manoeuvre',\n  'link:chef',\n  'age:45'],\n ['surname:Carton',\n  'firstname:Simon',\n  'occupation:cultivateur',\n  'link:fils',\n  'age:30'],\n ['surname:RIBET',\n  'firstname:Marie-Louise',\n  'occupation:idem',\n  'link:fille',\n  'age:5'],\n ['surname:Clayeux',\n  'firstname:Claude',\n  'occupation:idem',\n  'link:idem',\n  'employer:idem',\n  'age:13'],\n ['surname:Pingeon',\n  'firstname:Madeleine',\n  'occupation:s.p.',\n  'link:femme',\n  'age:64'],\n ['surname:Guillaumin',\n  'firstname:Théodore',\n  'occupation:coiffeur',\n  'link:enfant',\n  'age:20'],\n ['surname:Conte',\n  'firstname:Barthélémy',\n  'occupation:cultivateur',\n  'link:chef',\n  'age:65ans'],\n ['surname:Cognet',\n  'firstname:François',\n  'occupation:cultiveurfermier',\n  'link:chef',\n  'age:53',\n  'observation:x'],\n ['surname:Poussange', 'firstname:Catherine', 'link:femme', 'age:72'],\n ['surname:Burlurut',\n  'firstname:Pétronille',\n  'occupation:sansprofession',\n  'link:épouse',\n  'age:61ans'],\n ['surname:Combey',\n  'firstname:Alexandre',\n  'occupation:idem',\n  'link:sonfils',\n  'age:39'],\n ['surname:Collin',\n  'firstname:Marguerite',\n  'occupation:idem',\n  'link:épouse',\n  'employer:idem',\n  'age:38'],\n ['surname:Dumont',\n  'firstname:Etienne',\n  'link:fils',\n  'birth_date:1900',\n  'lob:idem'],\n ['surname:Renaut',\n  'firstname:Antoinette',\n  'link:belle-mère',\n  'birth_date:1849',\n  'lob:Rigny']]"
     },
     "execution_count": 104,
     "metadata": {},
     "output_type": "execute_result"
    }
   ],
   "source": [
    "list"
   ],
   "metadata": {
    "collapsed": false
   }
  },
  {
   "cell_type": "code",
   "execution_count": 106,
   "outputs": [
    {
     "data": {
      "text/plain": "                                                   col\n0    [surname:Chardon, firstname:Marie, occupation:...\n1    [surname:Lhopital, firstname:Louis-Jean, occup...\n2    [surname:Papin, firstname:Marie, occupation:id...\n3    [surname:Lavocat, firstname:Marie, link:femme,...\n4        [surname:Benne, firstname:Marguerite, age:78]\n..                                                 ...\n236  [surname:Burlurut, firstname:Pétronille, occup...\n237  [surname:Combey, firstname:Alexandre, occupati...\n238  [surname:Collin, firstname:Marguerite, occupat...\n239  [surname:Dumont, firstname:Etienne, link:fils,...\n240  [surname:Renaut, firstname:Antoinette, link:be...\n\n[241 rows x 1 columns]",
      "text/html": "<div>\n<style scoped>\n    .dataframe tbody tr th:only-of-type {\n        vertical-align: middle;\n    }\n\n    .dataframe tbody tr th {\n        vertical-align: top;\n    }\n\n    .dataframe thead th {\n        text-align: right;\n    }\n</style>\n<table border=\"1\" class=\"dataframe\">\n  <thead>\n    <tr style=\"text-align: right;\">\n      <th></th>\n      <th>col</th>\n    </tr>\n  </thead>\n  <tbody>\n    <tr>\n      <th>0</th>\n      <td>[surname:Chardon, firstname:Marie, occupation:...</td>\n    </tr>\n    <tr>\n      <th>1</th>\n      <td>[surname:Lhopital, firstname:Louis-Jean, occup...</td>\n    </tr>\n    <tr>\n      <th>2</th>\n      <td>[surname:Papin, firstname:Marie, occupation:id...</td>\n    </tr>\n    <tr>\n      <th>3</th>\n      <td>[surname:Lavocat, firstname:Marie, link:femme,...</td>\n    </tr>\n    <tr>\n      <th>4</th>\n      <td>[surname:Benne, firstname:Marguerite, age:78]</td>\n    </tr>\n    <tr>\n      <th>...</th>\n      <td>...</td>\n    </tr>\n    <tr>\n      <th>236</th>\n      <td>[surname:Burlurut, firstname:Pétronille, occup...</td>\n    </tr>\n    <tr>\n      <th>237</th>\n      <td>[surname:Combey, firstname:Alexandre, occupati...</td>\n    </tr>\n    <tr>\n      <th>238</th>\n      <td>[surname:Collin, firstname:Marguerite, occupat...</td>\n    </tr>\n    <tr>\n      <th>239</th>\n      <td>[surname:Dumont, firstname:Etienne, link:fils,...</td>\n    </tr>\n    <tr>\n      <th>240</th>\n      <td>[surname:Renaut, firstname:Antoinette, link:be...</td>\n    </tr>\n  </tbody>\n</table>\n<p>241 rows × 1 columns</p>\n</div>"
     },
     "execution_count": 106,
     "metadata": {},
     "output_type": "execute_result"
    }
   ],
   "source": [
    "df = pd.DataFrame({'col':list})\n",
    "df"
   ],
   "metadata": {
    "collapsed": false
   }
  },
  {
   "cell_type": "code",
   "execution_count": 107,
   "outputs": [],
   "source": [
    "def combine_strings(lst):\n",
    "    combined_list = []\n",
    "    i = 0\n",
    "    while i < len(lst):\n",
    "        if lst[i].endswith(':'):\n",
    "            combined_string = lst[i]\n",
    "            i += 1\n",
    "            while i < len(lst) and not lst[i].endswith(':'):\n",
    "                combined_string += lst[i]\n",
    "                i += 1\n",
    "            combined_list.append(combined_string)\n",
    "        else:\n",
    "            combined_list.append(lst[i])\n",
    "            i += 1\n",
    "    return combined_list"
   ],
   "metadata": {
    "collapsed": false
   }
  },
  {
   "cell_type": "code",
   "execution_count": 111,
   "outputs": [
    {
     "data": {
      "text/plain": "      surname   firstname     occupation          link    age employer  \\\n0     Chardon       Marie           idem         fille     30     idem   \n1    Lhopital  Louis-Jean             sp          chef     67    néant   \n2       Papin       Marie           idem          idem     15     idem   \n3     Lavocat       Marie  Métayerpatron         femme     78   patron   \n4       Benne  Marguerite           idem  chefdeménage  51ans     idem   \n..        ...         ...            ...           ...    ...      ...   \n235  Burlurut  Pétronille           None          None   None     None   \n236    Combey   Alexandre           None          None   None     None   \n237    Collin  Marguerite           None          None   None     None   \n238    Dumont     Etienne           None          None   None     None   \n239    Renaut  Antoinette           None          None   None     None   \n\n    birth_date                    lob civil_status observation  \n0         1875                  Rigny   Hommemarié           x  \n1         1835                  Paris       Garçon        None  \n2         1841                  Paris       Garçon        None  \n3         1896  Saint-AvitPuy-De-Dome         None        None  \n4         1885              Coulanges         None        None  \n..         ...                    ...          ...         ...  \n235       None                   None         None        None  \n236       None                   None         None        None  \n237       None                   None         None        None  \n238       None                   None         None        None  \n239       None                   None         None        None  \n\n[240 rows x 10 columns]",
      "text/html": "<div>\n<style scoped>\n    .dataframe tbody tr th:only-of-type {\n        vertical-align: middle;\n    }\n\n    .dataframe tbody tr th {\n        vertical-align: top;\n    }\n\n    .dataframe thead th {\n        text-align: right;\n    }\n</style>\n<table border=\"1\" class=\"dataframe\">\n  <thead>\n    <tr style=\"text-align: right;\">\n      <th></th>\n      <th>surname</th>\n      <th>firstname</th>\n      <th>occupation</th>\n      <th>link</th>\n      <th>age</th>\n      <th>employer</th>\n      <th>birth_date</th>\n      <th>lob</th>\n      <th>civil_status</th>\n      <th>observation</th>\n    </tr>\n  </thead>\n  <tbody>\n    <tr>\n      <th>0</th>\n      <td>Chardon</td>\n      <td>Marie</td>\n      <td>idem</td>\n      <td>fille</td>\n      <td>30</td>\n      <td>idem</td>\n      <td>1875</td>\n      <td>Rigny</td>\n      <td>Hommemarié</td>\n      <td>x</td>\n    </tr>\n    <tr>\n      <th>1</th>\n      <td>Lhopital</td>\n      <td>Louis-Jean</td>\n      <td>sp</td>\n      <td>chef</td>\n      <td>67</td>\n      <td>néant</td>\n      <td>1835</td>\n      <td>Paris</td>\n      <td>Garçon</td>\n      <td>None</td>\n    </tr>\n    <tr>\n      <th>2</th>\n      <td>Papin</td>\n      <td>Marie</td>\n      <td>idem</td>\n      <td>idem</td>\n      <td>15</td>\n      <td>idem</td>\n      <td>1841</td>\n      <td>Paris</td>\n      <td>Garçon</td>\n      <td>None</td>\n    </tr>\n    <tr>\n      <th>3</th>\n      <td>Lavocat</td>\n      <td>Marie</td>\n      <td>Métayerpatron</td>\n      <td>femme</td>\n      <td>78</td>\n      <td>patron</td>\n      <td>1896</td>\n      <td>Saint-AvitPuy-De-Dome</td>\n      <td>None</td>\n      <td>None</td>\n    </tr>\n    <tr>\n      <th>4</th>\n      <td>Benne</td>\n      <td>Marguerite</td>\n      <td>idem</td>\n      <td>chefdeménage</td>\n      <td>51ans</td>\n      <td>idem</td>\n      <td>1885</td>\n      <td>Coulanges</td>\n      <td>None</td>\n      <td>None</td>\n    </tr>\n    <tr>\n      <th>...</th>\n      <td>...</td>\n      <td>...</td>\n      <td>...</td>\n      <td>...</td>\n      <td>...</td>\n      <td>...</td>\n      <td>...</td>\n      <td>...</td>\n      <td>...</td>\n      <td>...</td>\n    </tr>\n    <tr>\n      <th>235</th>\n      <td>Burlurut</td>\n      <td>Pétronille</td>\n      <td>None</td>\n      <td>None</td>\n      <td>None</td>\n      <td>None</td>\n      <td>None</td>\n      <td>None</td>\n      <td>None</td>\n      <td>None</td>\n    </tr>\n    <tr>\n      <th>236</th>\n      <td>Combey</td>\n      <td>Alexandre</td>\n      <td>None</td>\n      <td>None</td>\n      <td>None</td>\n      <td>None</td>\n      <td>None</td>\n      <td>None</td>\n      <td>None</td>\n      <td>None</td>\n    </tr>\n    <tr>\n      <th>237</th>\n      <td>Collin</td>\n      <td>Marguerite</td>\n      <td>None</td>\n      <td>None</td>\n      <td>None</td>\n      <td>None</td>\n      <td>None</td>\n      <td>None</td>\n      <td>None</td>\n      <td>None</td>\n    </tr>\n    <tr>\n      <th>238</th>\n      <td>Dumont</td>\n      <td>Etienne</td>\n      <td>None</td>\n      <td>None</td>\n      <td>None</td>\n      <td>None</td>\n      <td>None</td>\n      <td>None</td>\n      <td>None</td>\n      <td>None</td>\n    </tr>\n    <tr>\n      <th>239</th>\n      <td>Renaut</td>\n      <td>Antoinette</td>\n      <td>None</td>\n      <td>None</td>\n      <td>None</td>\n      <td>None</td>\n      <td>None</td>\n      <td>None</td>\n      <td>None</td>\n      <td>None</td>\n    </tr>\n  </tbody>\n</table>\n<p>240 rows × 10 columns</p>\n</div>"
     },
     "execution_count": 111,
     "metadata": {},
     "output_type": "execute_result"
    }
   ],
   "source": [
    "# Define an empty dictionary to hold the key-value pairs\n",
    "dict_data = {}\n",
    "\n",
    "# Iterate through each sublist in data\n",
    "for sublist in list:\n",
    "    # Iterate through each key-value pair in the sublist\n",
    "    for item in sublist:\n",
    "        # Split the key-value pair by \":\"\n",
    "        key, value = item.split(\":\")\n",
    "        # If the key already exists in the dictionary, append the value to the existing list\n",
    "        if key in dict_data:\n",
    "            dict_data[key].append(value)\n",
    "        # If the key doesn't exist, create a new list with the value\n",
    "        else:\n",
    "            dict_data[key] = [value]\n",
    "\n",
    "# Determine the maximum length of the lists\n",
    "max_length = max(len(lst) for lst in dict_data.values())\n",
    "\n",
    "# Pad the lists with None values to make them all the same length\n",
    "for key in dict_data:\n",
    "    dict_data[key] += [None] * (max_length - len(dict_data[key]))\n",
    "\n",
    "# Convert the dictionary to a DataFrame\n",
    "df_dict = pd.DataFrame(dict_data)\n",
    "df_dict"
   ],
   "metadata": {
    "collapsed": false
   }
  },
  {
   "cell_type": "code",
   "execution_count": 112,
   "outputs": [],
   "source": [
    "df_groundtruth = df_dict"
   ],
   "metadata": {
    "collapsed": false
   }
  },
  {
   "cell_type": "code",
   "execution_count": 114,
   "outputs": [
    {
     "data": {
      "text/plain": "      surname   firstname     occupation          link    age employer  \\\n0     Chardon       Marie           idem         fille     30     idem   \n1    Lhopital  Louis-Jean             sp          chef     67    néant   \n2       Papin       Marie           idem          idem     15     idem   \n3     Lavocat       Marie  Métayerpatron         femme     78   patron   \n4       Benne  Marguerite           idem  chefdeménage  51ans     idem   \n..        ...         ...            ...           ...    ...      ...   \n235  Burlurut  Pétronille           None          None   None     None   \n236    Combey   Alexandre           None          None   None     None   \n237    Collin  Marguerite           None          None   None     None   \n238    Dumont     Etienne           None          None   None     None   \n239    Renaut  Antoinette           None          None   None     None   \n\n    birth_date                    lob civil_status observation    sex  \n0         1875                  Rigny   Hommemarié           x  femme  \n1         1835                  Paris       Garçon        None  homme  \n2         1841                  Paris       Garçon        None  femme  \n3         1896  Saint-AvitPuy-De-Dome         None        None  femme  \n4         1885              Coulanges         None        None  femme  \n..         ...                    ...          ...         ...    ...  \n235       None                   None         None        None  femme  \n236       None                   None         None        None  femme  \n237       None                   None         None        None  homme  \n238       None                   None         None        None  femme  \n239       None                   None         None        None  homme  \n\n[240 rows x 11 columns]",
      "text/html": "<div>\n<style scoped>\n    .dataframe tbody tr th:only-of-type {\n        vertical-align: middle;\n    }\n\n    .dataframe tbody tr th {\n        vertical-align: top;\n    }\n\n    .dataframe thead th {\n        text-align: right;\n    }\n</style>\n<table border=\"1\" class=\"dataframe\">\n  <thead>\n    <tr style=\"text-align: right;\">\n      <th></th>\n      <th>surname</th>\n      <th>firstname</th>\n      <th>occupation</th>\n      <th>link</th>\n      <th>age</th>\n      <th>employer</th>\n      <th>birth_date</th>\n      <th>lob</th>\n      <th>civil_status</th>\n      <th>observation</th>\n      <th>sex</th>\n    </tr>\n  </thead>\n  <tbody>\n    <tr>\n      <th>0</th>\n      <td>Chardon</td>\n      <td>Marie</td>\n      <td>idem</td>\n      <td>fille</td>\n      <td>30</td>\n      <td>idem</td>\n      <td>1875</td>\n      <td>Rigny</td>\n      <td>Hommemarié</td>\n      <td>x</td>\n      <td>femme</td>\n    </tr>\n    <tr>\n      <th>1</th>\n      <td>Lhopital</td>\n      <td>Louis-Jean</td>\n      <td>sp</td>\n      <td>chef</td>\n      <td>67</td>\n      <td>néant</td>\n      <td>1835</td>\n      <td>Paris</td>\n      <td>Garçon</td>\n      <td>None</td>\n      <td>homme</td>\n    </tr>\n    <tr>\n      <th>2</th>\n      <td>Papin</td>\n      <td>Marie</td>\n      <td>idem</td>\n      <td>idem</td>\n      <td>15</td>\n      <td>idem</td>\n      <td>1841</td>\n      <td>Paris</td>\n      <td>Garçon</td>\n      <td>None</td>\n      <td>femme</td>\n    </tr>\n    <tr>\n      <th>3</th>\n      <td>Lavocat</td>\n      <td>Marie</td>\n      <td>Métayerpatron</td>\n      <td>femme</td>\n      <td>78</td>\n      <td>patron</td>\n      <td>1896</td>\n      <td>Saint-AvitPuy-De-Dome</td>\n      <td>None</td>\n      <td>None</td>\n      <td>femme</td>\n    </tr>\n    <tr>\n      <th>4</th>\n      <td>Benne</td>\n      <td>Marguerite</td>\n      <td>idem</td>\n      <td>chefdeménage</td>\n      <td>51ans</td>\n      <td>idem</td>\n      <td>1885</td>\n      <td>Coulanges</td>\n      <td>None</td>\n      <td>None</td>\n      <td>femme</td>\n    </tr>\n    <tr>\n      <th>...</th>\n      <td>...</td>\n      <td>...</td>\n      <td>...</td>\n      <td>...</td>\n      <td>...</td>\n      <td>...</td>\n      <td>...</td>\n      <td>...</td>\n      <td>...</td>\n      <td>...</td>\n      <td>...</td>\n    </tr>\n    <tr>\n      <th>235</th>\n      <td>Burlurut</td>\n      <td>Pétronille</td>\n      <td>None</td>\n      <td>None</td>\n      <td>None</td>\n      <td>None</td>\n      <td>None</td>\n      <td>None</td>\n      <td>None</td>\n      <td>None</td>\n      <td>femme</td>\n    </tr>\n    <tr>\n      <th>236</th>\n      <td>Combey</td>\n      <td>Alexandre</td>\n      <td>None</td>\n      <td>None</td>\n      <td>None</td>\n      <td>None</td>\n      <td>None</td>\n      <td>None</td>\n      <td>None</td>\n      <td>None</td>\n      <td>femme</td>\n    </tr>\n    <tr>\n      <th>237</th>\n      <td>Collin</td>\n      <td>Marguerite</td>\n      <td>None</td>\n      <td>None</td>\n      <td>None</td>\n      <td>None</td>\n      <td>None</td>\n      <td>None</td>\n      <td>None</td>\n      <td>None</td>\n      <td>homme</td>\n    </tr>\n    <tr>\n      <th>238</th>\n      <td>Dumont</td>\n      <td>Etienne</td>\n      <td>None</td>\n      <td>None</td>\n      <td>None</td>\n      <td>None</td>\n      <td>None</td>\n      <td>None</td>\n      <td>None</td>\n      <td>None</td>\n      <td>femme</td>\n    </tr>\n    <tr>\n      <th>239</th>\n      <td>Renaut</td>\n      <td>Antoinette</td>\n      <td>None</td>\n      <td>None</td>\n      <td>None</td>\n      <td>None</td>\n      <td>None</td>\n      <td>None</td>\n      <td>None</td>\n      <td>None</td>\n      <td>homme</td>\n    </tr>\n  </tbody>\n</table>\n<p>240 rows × 11 columns</p>\n</div>"
     },
     "execution_count": 114,
     "metadata": {},
     "output_type": "execute_result"
    }
   ],
   "source": [
    "df_groundtruth['sex'] = transcriptions_with_sex.sex\n",
    "df_groundtruth"
   ],
   "metadata": {
    "collapsed": false
   }
  },
  {
   "cell_type": "code",
   "execution_count": 115,
   "outputs": [
    {
     "data": {
      "text/plain": "                             subject_line  \\\n0    ebb26ada-044c-4c62-9dbc-a9c8d505d31c   \n1    338496f5-e4ca-43ac-aa5c-429cb3f6ac00   \n2    e6a279da-9b6f-4f49-b498-64857bc50d1e   \n3    7534deca-39e8-4f00-be17-c12460015de1   \n4    ef334a66-a504-418a-9872-e7c9db923488   \n..                                    ...   \n236  1d92738a-cffe-4aee-ab10-db04c37f7405   \n237  09440055-7972-4135-a537-e6c5a1f2aeb2   \n238  4d387278-12c3-410c-bdf0-c5c603479764   \n239  623b95de-f87c-4844-a7f7-361088eed83a   \n240  26d7839c-16a1-486e-9736-83e500fb72e5   \n\n                                           groundtruth  \\\n0    surname: Chardon firstname: Marie occupation: ...   \n1    surname: Lhopital firstname: Louis-Jean occupa...   \n2    surname: Papin firstname: Marie occupation: id...   \n3    surname: Lavocat firstname: Marie link: femme ...   \n4        surname: Benne firstname: Marguerite age: 78    \n..                                                 ...   \n236  surname: Burlurut firstname: Pétronille occupa...   \n237  surname: Combey firstname: Alexandre occupatio...   \n238  surname: Collin firstname: Marguerite occupati...   \n239  surname: Dumont firstname: Etienne link: fils ...   \n240  surname: Renaut firstname: Antoinette link: be...   \n\n                                            prediction    sex  \n0    nom: Chardon prénom: Marie date_naissance: 30 ...  femme  \n1    nom: Lhopital prénom: Louis Jean date_naissanc...  homme  \n2    nom: Pyrin prénom: Marie date_naissance: 55 re...  femme  \n3    nom: Lavocat prénom: Marie date_naissance: 187...  femme  \n4    nom: Benne prénom: Marguerite date_naissance: ...  femme  \n..                                                 ...    ...  \n236  nom: Burlurut prénom: Gihromille date_naissanc...  femme  \n237  nom: Comberf prénom: Alexandre date_naissance:...  homme  \n238  nom: Collin prénom: Marguerite date_naissance:...  femme  \n239  nom: Dumont prénom: Etienne date_naissance: 19...  homme  \n240  nom: Renaut prénom: Antoinette date_naissance:...  femme  \n\n[241 rows x 4 columns]",
      "text/html": "<div>\n<style scoped>\n    .dataframe tbody tr th:only-of-type {\n        vertical-align: middle;\n    }\n\n    .dataframe tbody tr th {\n        vertical-align: top;\n    }\n\n    .dataframe thead th {\n        text-align: right;\n    }\n</style>\n<table border=\"1\" class=\"dataframe\">\n  <thead>\n    <tr style=\"text-align: right;\">\n      <th></th>\n      <th>subject_line</th>\n      <th>groundtruth</th>\n      <th>prediction</th>\n      <th>sex</th>\n    </tr>\n  </thead>\n  <tbody>\n    <tr>\n      <th>0</th>\n      <td>ebb26ada-044c-4c62-9dbc-a9c8d505d31c</td>\n      <td>surname: Chardon firstname: Marie occupation: ...</td>\n      <td>nom: Chardon prénom: Marie date_naissance: 30 ...</td>\n      <td>femme</td>\n    </tr>\n    <tr>\n      <th>1</th>\n      <td>338496f5-e4ca-43ac-aa5c-429cb3f6ac00</td>\n      <td>surname: Lhopital firstname: Louis-Jean occupa...</td>\n      <td>nom: Lhopital prénom: Louis Jean date_naissanc...</td>\n      <td>homme</td>\n    </tr>\n    <tr>\n      <th>2</th>\n      <td>e6a279da-9b6f-4f49-b498-64857bc50d1e</td>\n      <td>surname: Papin firstname: Marie occupation: id...</td>\n      <td>nom: Pyrin prénom: Marie date_naissance: 55 re...</td>\n      <td>femme</td>\n    </tr>\n    <tr>\n      <th>3</th>\n      <td>7534deca-39e8-4f00-be17-c12460015de1</td>\n      <td>surname: Lavocat firstname: Marie link: femme ...</td>\n      <td>nom: Lavocat prénom: Marie date_naissance: 187...</td>\n      <td>femme</td>\n    </tr>\n    <tr>\n      <th>4</th>\n      <td>ef334a66-a504-418a-9872-e7c9db923488</td>\n      <td>surname: Benne firstname: Marguerite age: 78</td>\n      <td>nom: Benne prénom: Marguerite date_naissance: ...</td>\n      <td>femme</td>\n    </tr>\n    <tr>\n      <th>...</th>\n      <td>...</td>\n      <td>...</td>\n      <td>...</td>\n      <td>...</td>\n    </tr>\n    <tr>\n      <th>236</th>\n      <td>1d92738a-cffe-4aee-ab10-db04c37f7405</td>\n      <td>surname: Burlurut firstname: Pétronille occupa...</td>\n      <td>nom: Burlurut prénom: Gihromille date_naissanc...</td>\n      <td>femme</td>\n    </tr>\n    <tr>\n      <th>237</th>\n      <td>09440055-7972-4135-a537-e6c5a1f2aeb2</td>\n      <td>surname: Combey firstname: Alexandre occupatio...</td>\n      <td>nom: Comberf prénom: Alexandre date_naissance:...</td>\n      <td>homme</td>\n    </tr>\n    <tr>\n      <th>238</th>\n      <td>4d387278-12c3-410c-bdf0-c5c603479764</td>\n      <td>surname: Collin firstname: Marguerite occupati...</td>\n      <td>nom: Collin prénom: Marguerite date_naissance:...</td>\n      <td>femme</td>\n    </tr>\n    <tr>\n      <th>239</th>\n      <td>623b95de-f87c-4844-a7f7-361088eed83a</td>\n      <td>surname: Dumont firstname: Etienne link: fils ...</td>\n      <td>nom: Dumont prénom: Etienne date_naissance: 19...</td>\n      <td>homme</td>\n    </tr>\n    <tr>\n      <th>240</th>\n      <td>26d7839c-16a1-486e-9736-83e500fb72e5</td>\n      <td>surname: Renaut firstname: Antoinette link: be...</td>\n      <td>nom: Renaut prénom: Antoinette date_naissance:...</td>\n      <td>femme</td>\n    </tr>\n  </tbody>\n</table>\n<p>241 rows × 4 columns</p>\n</div>"
     },
     "execution_count": 115,
     "metadata": {},
     "output_type": "execute_result"
    }
   ],
   "source": [
    "transcriptions_with_sex"
   ],
   "metadata": {
    "collapsed": false
   }
  },
  {
   "cell_type": "code",
   "execution_count": 163,
   "outputs": [
    {
     "data": {
      "text/plain": "      surname   firstname       occupation        link     age employer  \\\n0     Chardon       Marie             idem       fille      30      NaN   \n1    Lhopital  Louis-Jean               sp        chef      67      NaN   \n2       Papin       Marie             idem        idem      15     idem   \n3     Lavocat       Marie              NaN       femme     NaN      NaN   \n4       Benne  Marguerite              NaN         NaN      78      NaN   \n..        ...         ...              ...         ...     ...      ...   \n236  Burlurut  Pétronille  sans profession      épouse  61 ans      NaN   \n237    Combey   Alexandre             idem    son fils      39      NaN   \n238    Collin  Marguerite             idem      épouse      38     idem   \n239    Dumont     Etienne              NaN        fils     NaN      NaN   \n240    Renaut  Antoinette              NaN  belle-mère     NaN      NaN   \n\n    birth_date    lob civil_status observation  \n0          NaN    NaN          NaN         NaN  \n1          NaN    NaN          NaN         NaN  \n2          NaN    NaN          NaN         NaN  \n3         1875  Rigny          NaN         NaN  \n4          NaN    NaN          NaN         NaN  \n..         ...    ...          ...         ...  \n236        NaN    NaN          NaN         NaN  \n237        NaN    NaN          NaN         NaN  \n238        NaN    NaN          NaN         NaN  \n239       1900   idem          NaN         NaN  \n240       1849  Rigny          NaN         NaN  \n\n[241 rows x 10 columns]",
      "text/html": "<div>\n<style scoped>\n    .dataframe tbody tr th:only-of-type {\n        vertical-align: middle;\n    }\n\n    .dataframe tbody tr th {\n        vertical-align: top;\n    }\n\n    .dataframe thead th {\n        text-align: right;\n    }\n</style>\n<table border=\"1\" class=\"dataframe\">\n  <thead>\n    <tr style=\"text-align: right;\">\n      <th></th>\n      <th>surname</th>\n      <th>firstname</th>\n      <th>occupation</th>\n      <th>link</th>\n      <th>age</th>\n      <th>employer</th>\n      <th>birth_date</th>\n      <th>lob</th>\n      <th>civil_status</th>\n      <th>observation</th>\n    </tr>\n  </thead>\n  <tbody>\n    <tr>\n      <th>0</th>\n      <td>Chardon</td>\n      <td>Marie</td>\n      <td>idem</td>\n      <td>fille</td>\n      <td>30</td>\n      <td>NaN</td>\n      <td>NaN</td>\n      <td>NaN</td>\n      <td>NaN</td>\n      <td>NaN</td>\n    </tr>\n    <tr>\n      <th>1</th>\n      <td>Lhopital</td>\n      <td>Louis-Jean</td>\n      <td>sp</td>\n      <td>chef</td>\n      <td>67</td>\n      <td>NaN</td>\n      <td>NaN</td>\n      <td>NaN</td>\n      <td>NaN</td>\n      <td>NaN</td>\n    </tr>\n    <tr>\n      <th>2</th>\n      <td>Papin</td>\n      <td>Marie</td>\n      <td>idem</td>\n      <td>idem</td>\n      <td>15</td>\n      <td>idem</td>\n      <td>NaN</td>\n      <td>NaN</td>\n      <td>NaN</td>\n      <td>NaN</td>\n    </tr>\n    <tr>\n      <th>3</th>\n      <td>Lavocat</td>\n      <td>Marie</td>\n      <td>NaN</td>\n      <td>femme</td>\n      <td>NaN</td>\n      <td>NaN</td>\n      <td>1875</td>\n      <td>Rigny</td>\n      <td>NaN</td>\n      <td>NaN</td>\n    </tr>\n    <tr>\n      <th>4</th>\n      <td>Benne</td>\n      <td>Marguerite</td>\n      <td>NaN</td>\n      <td>NaN</td>\n      <td>78</td>\n      <td>NaN</td>\n      <td>NaN</td>\n      <td>NaN</td>\n      <td>NaN</td>\n      <td>NaN</td>\n    </tr>\n    <tr>\n      <th>...</th>\n      <td>...</td>\n      <td>...</td>\n      <td>...</td>\n      <td>...</td>\n      <td>...</td>\n      <td>...</td>\n      <td>...</td>\n      <td>...</td>\n      <td>...</td>\n      <td>...</td>\n    </tr>\n    <tr>\n      <th>236</th>\n      <td>Burlurut</td>\n      <td>Pétronille</td>\n      <td>sans profession</td>\n      <td>épouse</td>\n      <td>61 ans</td>\n      <td>NaN</td>\n      <td>NaN</td>\n      <td>NaN</td>\n      <td>NaN</td>\n      <td>NaN</td>\n    </tr>\n    <tr>\n      <th>237</th>\n      <td>Combey</td>\n      <td>Alexandre</td>\n      <td>idem</td>\n      <td>son fils</td>\n      <td>39</td>\n      <td>NaN</td>\n      <td>NaN</td>\n      <td>NaN</td>\n      <td>NaN</td>\n      <td>NaN</td>\n    </tr>\n    <tr>\n      <th>238</th>\n      <td>Collin</td>\n      <td>Marguerite</td>\n      <td>idem</td>\n      <td>épouse</td>\n      <td>38</td>\n      <td>idem</td>\n      <td>NaN</td>\n      <td>NaN</td>\n      <td>NaN</td>\n      <td>NaN</td>\n    </tr>\n    <tr>\n      <th>239</th>\n      <td>Dumont</td>\n      <td>Etienne</td>\n      <td>NaN</td>\n      <td>fils</td>\n      <td>NaN</td>\n      <td>NaN</td>\n      <td>1900</td>\n      <td>idem</td>\n      <td>NaN</td>\n      <td>NaN</td>\n    </tr>\n    <tr>\n      <th>240</th>\n      <td>Renaut</td>\n      <td>Antoinette</td>\n      <td>NaN</td>\n      <td>belle-mère</td>\n      <td>NaN</td>\n      <td>NaN</td>\n      <td>1849</td>\n      <td>Rigny</td>\n      <td>NaN</td>\n      <td>NaN</td>\n    </tr>\n  </tbody>\n</table>\n<p>241 rows × 10 columns</p>\n</div>"
     },
     "execution_count": 163,
     "metadata": {},
     "output_type": "execute_result"
    }
   ],
   "source": [
    "strings = [\n",
    "    \"surname: Chardon firstname: Marie occupation: idem link: fille age: 30\",\n",
    "    \"surname: Lhopital firstname: Louis Jean occupation: sp link: chef age: 67\",\n",
    "    \"surname: Lavocat firstname: Marie link: femme birth_date: 1875 lob: Rigny\",\n",
    "]\n",
    "\n",
    "def key_value(s):\n",
    "    key = None\n",
    "    value = []\n",
    "    for token in s.split():\n",
    "        if token[-1] == \":\":\n",
    "            if key is not None:\n",
    "                yield key, \" \".join(value)\n",
    "            key = token[:-1]\n",
    "            value = []\n",
    "        else:\n",
    "            value.append(token)\n",
    "    if key is not None:\n",
    "        yield key, \" \".join(value)"
   ],
   "metadata": {
    "collapsed": false
   }
  },
  {
   "cell_type": "code",
   "execution_count": 164,
   "outputs": [],
   "source": [
    "DataFrame({key: value for key, value in key_value(string)} for string in transcriptions_with_sex.groundtruth).to_csv('groundtruth.csv', index = False)\n",
    "df = DataFrame({key: value for key, value in key_value(string)} for string in transcriptions_with_sex.prediction).to_csv('prediction.csv', index = False)\n",
    "df"
   ],
   "metadata": {
    "collapsed": false
   }
  },
  {
   "cell_type": "code",
   "execution_count": 166,
   "outputs": [
    {
     "data": {
      "text/plain": "      surname   firstname       occupation        link     age employer  \\\n0     Chardon       Marie             idem       fille      30      NaN   \n1    Lhopital  Louis-Jean               sp        chef      67      NaN   \n2       Papin       Marie             idem        idem      15     idem   \n3     Lavocat       Marie              NaN       femme     NaN      NaN   \n4       Benne  Marguerite              NaN         NaN      78      NaN   \n..        ...         ...              ...         ...     ...      ...   \n236  Burlurut  Pétronille  sans profession      épouse  61 ans      NaN   \n237    Combey   Alexandre             idem    son fils      39      NaN   \n238    Collin  Marguerite             idem      épouse      38     idem   \n239    Dumont     Etienne              NaN        fils     NaN      NaN   \n240    Renaut  Antoinette              NaN  belle-mère     NaN      NaN   \n\n    birth_date    lob civil_status observation  \n0          NaN    NaN          NaN         NaN  \n1          NaN    NaN          NaN         NaN  \n2          NaN    NaN          NaN         NaN  \n3         1875  Rigny          NaN         NaN  \n4          NaN    NaN          NaN         NaN  \n..         ...    ...          ...         ...  \n236        NaN    NaN          NaN         NaN  \n237        NaN    NaN          NaN         NaN  \n238        NaN    NaN          NaN         NaN  \n239       1900   idem          NaN         NaN  \n240       1849  Rigny          NaN         NaN  \n\n[241 rows x 10 columns]",
      "text/html": "<div>\n<style scoped>\n    .dataframe tbody tr th:only-of-type {\n        vertical-align: middle;\n    }\n\n    .dataframe tbody tr th {\n        vertical-align: top;\n    }\n\n    .dataframe thead th {\n        text-align: right;\n    }\n</style>\n<table border=\"1\" class=\"dataframe\">\n  <thead>\n    <tr style=\"text-align: right;\">\n      <th></th>\n      <th>surname</th>\n      <th>firstname</th>\n      <th>occupation</th>\n      <th>link</th>\n      <th>age</th>\n      <th>employer</th>\n      <th>birth_date</th>\n      <th>lob</th>\n      <th>civil_status</th>\n      <th>observation</th>\n    </tr>\n  </thead>\n  <tbody>\n    <tr>\n      <th>0</th>\n      <td>Chardon</td>\n      <td>Marie</td>\n      <td>idem</td>\n      <td>fille</td>\n      <td>30</td>\n      <td>NaN</td>\n      <td>NaN</td>\n      <td>NaN</td>\n      <td>NaN</td>\n      <td>NaN</td>\n    </tr>\n    <tr>\n      <th>1</th>\n      <td>Lhopital</td>\n      <td>Louis-Jean</td>\n      <td>sp</td>\n      <td>chef</td>\n      <td>67</td>\n      <td>NaN</td>\n      <td>NaN</td>\n      <td>NaN</td>\n      <td>NaN</td>\n      <td>NaN</td>\n    </tr>\n    <tr>\n      <th>2</th>\n      <td>Papin</td>\n      <td>Marie</td>\n      <td>idem</td>\n      <td>idem</td>\n      <td>15</td>\n      <td>idem</td>\n      <td>NaN</td>\n      <td>NaN</td>\n      <td>NaN</td>\n      <td>NaN</td>\n    </tr>\n    <tr>\n      <th>3</th>\n      <td>Lavocat</td>\n      <td>Marie</td>\n      <td>NaN</td>\n      <td>femme</td>\n      <td>NaN</td>\n      <td>NaN</td>\n      <td>1875</td>\n      <td>Rigny</td>\n      <td>NaN</td>\n      <td>NaN</td>\n    </tr>\n    <tr>\n      <th>4</th>\n      <td>Benne</td>\n      <td>Marguerite</td>\n      <td>NaN</td>\n      <td>NaN</td>\n      <td>78</td>\n      <td>NaN</td>\n      <td>NaN</td>\n      <td>NaN</td>\n      <td>NaN</td>\n      <td>NaN</td>\n    </tr>\n    <tr>\n      <th>...</th>\n      <td>...</td>\n      <td>...</td>\n      <td>...</td>\n      <td>...</td>\n      <td>...</td>\n      <td>...</td>\n      <td>...</td>\n      <td>...</td>\n      <td>...</td>\n      <td>...</td>\n    </tr>\n    <tr>\n      <th>236</th>\n      <td>Burlurut</td>\n      <td>Pétronille</td>\n      <td>sans profession</td>\n      <td>épouse</td>\n      <td>61 ans</td>\n      <td>NaN</td>\n      <td>NaN</td>\n      <td>NaN</td>\n      <td>NaN</td>\n      <td>NaN</td>\n    </tr>\n    <tr>\n      <th>237</th>\n      <td>Combey</td>\n      <td>Alexandre</td>\n      <td>idem</td>\n      <td>son fils</td>\n      <td>39</td>\n      <td>NaN</td>\n      <td>NaN</td>\n      <td>NaN</td>\n      <td>NaN</td>\n      <td>NaN</td>\n    </tr>\n    <tr>\n      <th>238</th>\n      <td>Collin</td>\n      <td>Marguerite</td>\n      <td>idem</td>\n      <td>épouse</td>\n      <td>38</td>\n      <td>idem</td>\n      <td>NaN</td>\n      <td>NaN</td>\n      <td>NaN</td>\n      <td>NaN</td>\n    </tr>\n    <tr>\n      <th>239</th>\n      <td>Dumont</td>\n      <td>Etienne</td>\n      <td>NaN</td>\n      <td>fils</td>\n      <td>NaN</td>\n      <td>NaN</td>\n      <td>1900</td>\n      <td>idem</td>\n      <td>NaN</td>\n      <td>NaN</td>\n    </tr>\n    <tr>\n      <th>240</th>\n      <td>Renaut</td>\n      <td>Antoinette</td>\n      <td>NaN</td>\n      <td>belle-mère</td>\n      <td>NaN</td>\n      <td>NaN</td>\n      <td>1849</td>\n      <td>Rigny</td>\n      <td>NaN</td>\n      <td>NaN</td>\n    </tr>\n  </tbody>\n</table>\n<p>241 rows × 10 columns</p>\n</div>"
     },
     "execution_count": 166,
     "metadata": {},
     "output_type": "execute_result"
    }
   ],
   "source": [
    "df = DataFrame({key: value for key, value in key_value(string)} for string in transcriptions_with_sex.groundtruth)\n",
    "df"
   ],
   "metadata": {
    "collapsed": false
   }
  },
  {
   "cell_type": "code",
   "execution_count": null,
   "outputs": [],
   "source": [],
   "metadata": {
    "collapsed": false
   }
  },
  {
   "cell_type": "code",
   "execution_count": null,
   "outputs": [],
   "source": [],
   "metadata": {
    "collapsed": false
   }
  },
  {
   "cell_type": "markdown",
   "source": [
    "### First models"
   ],
   "metadata": {
    "collapsed": false
   }
  },
  {
   "cell_type": "code",
   "execution_count": 139,
   "outputs": [],
   "source": [
    "def train_test(input, target, test_size):\n",
    "    X = input\n",
    "    le = LabelEncoder()\n",
    "    y = le.fit_transform(target)\n",
    "    X_train, X_test, y_train, y_test = train_test_split(X, y, test_size=test_size, random_state=42)\n",
    "    return X_train, X_test, y_train, y_test"
   ],
   "metadata": {
    "collapsed": false
   }
  },
  {
   "cell_type": "markdown",
   "source": [
    "#### Vectorizer"
   ],
   "metadata": {
    "collapsed": false
   }
  },
  {
   "cell_type": "code",
   "execution_count": 155,
   "outputs": [],
   "source": [
    "from sklearn.feature_extraction.text import TfidfVectorizer\n",
    "from sklearn.linear_model import LogisticRegression\n",
    "from sklearn.ensemble import RandomForestClassifier\n",
    "from sklearn.svm import SVC\n",
    "from sklearn.metrics import accuracy_score, precision_score, recall_score, f1_score, roc_auc_score\n",
    "from sklearn.pipeline import Pipeline\n",
    "from xgboost import XGBClassifier\n",
    "from sklearn.preprocessing import LabelEncoder\n",
    "from sklearn.metrics import classification_report\n",
    "from sklearn.model_selection import cross_val_score, StratifiedKFold"
   ],
   "metadata": {
    "collapsed": false
   }
  },
  {
   "cell_type": "code",
   "execution_count": 169,
   "outputs": [],
   "source": [
    "tfidf_vect = TfidfVectorizer()\n",
    "bow_vect = CountVectorizer()"
   ],
   "metadata": {
    "collapsed": false
   }
  },
  {
   "cell_type": "code",
   "execution_count": 141,
   "outputs": [],
   "source": [],
   "metadata": {
    "collapsed": false
   }
  },
  {
   "cell_type": "code",
   "execution_count": null,
   "outputs": [],
   "source": [
    "train_test(transcriptions_with_sex.groundtruth, transcriptions_with_sex.sex)\n",
    "train_test(tfidf_vect.fit_transform(transcriptions_with_sex.groundtruth), transcriptions_with_sex.sex)"
   ],
   "metadata": {
    "collapsed": false
   }
  },
  {
   "cell_type": "code",
   "execution_count": 142,
   "outputs": [],
   "source": [
    "vectorizers = {\n",
    "    \"BOW\": bow_vect,\n",
    "    \"TFIDF\": tfidf_vect\n",
    "}\n",
    "\n",
    "models = {\n",
    "    'Logistic Regression': LogisticRegression(),\n",
    "    'Random Forest': RandomForestClassifier(),\n",
    "    'SVM': SVC(),\n",
    "    'XGBoost': XGBClassifier()\n",
    "    #'LightGBM': LGBMClassifier()\n",
    "}"
   ],
   "metadata": {
    "collapsed": false
   }
  },
  {
   "cell_type": "code",
   "execution_count": 159,
   "outputs": [],
   "source": [
    "X_train, X_test, y_train, y_test = train_test(transcriptions_with_sex.groundtruth, transcriptions_with_sex.sex, 0.2)\n",
    "target_names = ['male', 'female', 'ambig']"
   ],
   "metadata": {
    "collapsed": false
   }
  },
  {
   "cell_type": "code",
   "execution_count": 160,
   "outputs": [
    {
     "name": "stderr",
     "output_type": "stream",
     "text": [
      "/var/folders/n_/mj2qn5sd20lb04k5gcvn8fbr0000gn/T/ipykernel_21919/1490417571.py:24: FutureWarning: The frame.append method is deprecated and will be removed from pandas in a future version. Use pandas.concat instead.\n",
      "  results_df = results_df.append({'Vectorizer': vec_name,\n",
      "/var/folders/n_/mj2qn5sd20lb04k5gcvn8fbr0000gn/T/ipykernel_21919/1490417571.py:24: FutureWarning: The frame.append method is deprecated and will be removed from pandas in a future version. Use pandas.concat instead.\n",
      "  results_df = results_df.append({'Vectorizer': vec_name,\n",
      "/var/folders/n_/mj2qn5sd20lb04k5gcvn8fbr0000gn/T/ipykernel_21919/1490417571.py:24: FutureWarning: The frame.append method is deprecated and will be removed from pandas in a future version. Use pandas.concat instead.\n",
      "  results_df = results_df.append({'Vectorizer': vec_name,\n",
      "/var/folders/n_/mj2qn5sd20lb04k5gcvn8fbr0000gn/T/ipykernel_21919/1490417571.py:24: FutureWarning: The frame.append method is deprecated and will be removed from pandas in a future version. Use pandas.concat instead.\n",
      "  results_df = results_df.append({'Vectorizer': vec_name,\n",
      "/var/folders/n_/mj2qn5sd20lb04k5gcvn8fbr0000gn/T/ipykernel_21919/1490417571.py:24: FutureWarning: The frame.append method is deprecated and will be removed from pandas in a future version. Use pandas.concat instead.\n",
      "  results_df = results_df.append({'Vectorizer': vec_name,\n",
      "/var/folders/n_/mj2qn5sd20lb04k5gcvn8fbr0000gn/T/ipykernel_21919/1490417571.py:24: FutureWarning: The frame.append method is deprecated and will be removed from pandas in a future version. Use pandas.concat instead.\n",
      "  results_df = results_df.append({'Vectorizer': vec_name,\n",
      "/var/folders/n_/mj2qn5sd20lb04k5gcvn8fbr0000gn/T/ipykernel_21919/1490417571.py:24: FutureWarning: The frame.append method is deprecated and will be removed from pandas in a future version. Use pandas.concat instead.\n",
      "  results_df = results_df.append({'Vectorizer': vec_name,\n"
     ]
    },
    {
     "name": "stdout",
     "output_type": "stream",
     "text": [
      "Results for Surname and Firstname Vectorization:\n"
     ]
    },
    {
     "name": "stderr",
     "output_type": "stream",
     "text": [
      "/var/folders/n_/mj2qn5sd20lb04k5gcvn8fbr0000gn/T/ipykernel_21919/1490417571.py:24: FutureWarning: The frame.append method is deprecated and will be removed from pandas in a future version. Use pandas.concat instead.\n",
      "  results_df = results_df.append({'Vectorizer': vec_name,\n"
     ]
    },
    {
     "data": {
      "text/plain": "  Vectorizer                Model  Accuracy Precision    Recall  F1-Score  \\\n0        BOW  Logistic Regression  0.836735  0.857143  0.782609  0.818182   \n1        BOW        Random Forest  0.877551  0.904762  0.826087  0.863636   \n2        BOW                  SVM  0.816327  0.818182  0.782609       0.8   \n3        BOW              XGBoost  0.897959  0.909091  0.869565  0.888889   \n4      TFIDF  Logistic Regression  0.897959      0.95  0.826087  0.883721   \n5      TFIDF        Random Forest  0.857143  0.833333  0.869565  0.851064   \n6      TFIDF                  SVM  0.918367  0.952381  0.869565  0.909091   \n7      TFIDF              XGBoost  0.734694  0.708333   0.73913  0.723404   \n\n    ROC-AUC  \n0  0.833612  \n1  0.874582  \n2  0.814381  \n3  0.896321  \n4  0.893813  \n5   0.85786  \n6  0.915552  \n7   0.73495  ",
      "text/html": "<div>\n<style scoped>\n    .dataframe tbody tr th:only-of-type {\n        vertical-align: middle;\n    }\n\n    .dataframe tbody tr th {\n        vertical-align: top;\n    }\n\n    .dataframe thead th {\n        text-align: right;\n    }\n</style>\n<table border=\"1\" class=\"dataframe\">\n  <thead>\n    <tr style=\"text-align: right;\">\n      <th></th>\n      <th>Vectorizer</th>\n      <th>Model</th>\n      <th>Accuracy</th>\n      <th>Precision</th>\n      <th>Recall</th>\n      <th>F1-Score</th>\n      <th>ROC-AUC</th>\n    </tr>\n  </thead>\n  <tbody>\n    <tr>\n      <th>0</th>\n      <td>BOW</td>\n      <td>Logistic Regression</td>\n      <td>0.836735</td>\n      <td>0.857143</td>\n      <td>0.782609</td>\n      <td>0.818182</td>\n      <td>0.833612</td>\n    </tr>\n    <tr>\n      <th>1</th>\n      <td>BOW</td>\n      <td>Random Forest</td>\n      <td>0.877551</td>\n      <td>0.904762</td>\n      <td>0.826087</td>\n      <td>0.863636</td>\n      <td>0.874582</td>\n    </tr>\n    <tr>\n      <th>2</th>\n      <td>BOW</td>\n      <td>SVM</td>\n      <td>0.816327</td>\n      <td>0.818182</td>\n      <td>0.782609</td>\n      <td>0.8</td>\n      <td>0.814381</td>\n    </tr>\n    <tr>\n      <th>3</th>\n      <td>BOW</td>\n      <td>XGBoost</td>\n      <td>0.897959</td>\n      <td>0.909091</td>\n      <td>0.869565</td>\n      <td>0.888889</td>\n      <td>0.896321</td>\n    </tr>\n    <tr>\n      <th>4</th>\n      <td>TFIDF</td>\n      <td>Logistic Regression</td>\n      <td>0.897959</td>\n      <td>0.95</td>\n      <td>0.826087</td>\n      <td>0.883721</td>\n      <td>0.893813</td>\n    </tr>\n    <tr>\n      <th>5</th>\n      <td>TFIDF</td>\n      <td>Random Forest</td>\n      <td>0.857143</td>\n      <td>0.833333</td>\n      <td>0.869565</td>\n      <td>0.851064</td>\n      <td>0.85786</td>\n    </tr>\n    <tr>\n      <th>6</th>\n      <td>TFIDF</td>\n      <td>SVM</td>\n      <td>0.918367</td>\n      <td>0.952381</td>\n      <td>0.869565</td>\n      <td>0.909091</td>\n      <td>0.915552</td>\n    </tr>\n    <tr>\n      <th>7</th>\n      <td>TFIDF</td>\n      <td>XGBoost</td>\n      <td>0.734694</td>\n      <td>0.708333</td>\n      <td>0.73913</td>\n      <td>0.723404</td>\n      <td>0.73495</td>\n    </tr>\n  </tbody>\n</table>\n</div>"
     },
     "metadata": {},
     "output_type": "display_data"
    }
   ],
   "source": [
    "results_df = pd.DataFrame(columns=['Vectorizer', 'Model', 'Accuracy', 'Precision', 'Recall', 'F1-Score', 'ROC-AUC'])\n",
    "\n",
    "for vec_name, vectorizer in vectorizers.items():\n",
    "    # Fit and transform vectorizer on training data\n",
    "    X_train_vec = vectorizer.fit_transform(X_train)\n",
    "    X_test_vec = vectorizer.transform(X_test)\n",
    "\n",
    "    # Iterate over models\n",
    "    for model_name, model in models.items():\n",
    "        # Fit model on vectorized data\n",
    "        model.fit(X_train_vec, y_train)\n",
    "\n",
    "        # Make predictions\n",
    "        y_pred = model.predict(X_test_vec)\n",
    "\n",
    "        # Calculate evaluation metrics\n",
    "        accuracy = accuracy_score(y_test, y_pred)\n",
    "        precision = precision_score(y_test, y_pred, average='binary')\n",
    "        recall = recall_score(y_test, y_pred, average='binary')\n",
    "        f1 = f1_score(y_test, y_pred, average='binary')\n",
    "        roc_auc = roc_auc_score(y_test, y_pred)\n",
    "\n",
    "        # Append results to dataframe\n",
    "        results_df = results_df.append({'Vectorizer': vec_name,\n",
    "                                        'Model': model_name,\n",
    "                                        'Accuracy': accuracy,\n",
    "                                        'Precision': precision,\n",
    "                                        'Recall': recall,\n",
    "                                        'F1-Score': f1,\n",
    "                                        'ROC-AUC': roc_auc},\n",
    "                                        ignore_index=True)\n",
    "        #print(classification_report(y_test, y_pred))\n",
    "\n",
    "# Display results dataframe\n",
    "print(\"Results for Surname and Firstname Vectorization:\")\n",
    "display(results_df)"
   ],
   "metadata": {
    "collapsed": false
   }
  },
  {
   "cell_type": "code",
   "execution_count": 172,
   "outputs": [
    {
     "data": {
      "text/plain": "<241x87 sparse matrix of type '<class 'numpy.float64'>'\n\twith 249 stored elements in Compressed Sparse Row format>"
     },
     "execution_count": 172,
     "metadata": {},
     "output_type": "execute_result"
    }
   ],
   "source": [
    "tfidf_firstname = tfidf_vect.fit_transform(df.firstname.values.astype('U'))\n",
    "tfidf_firstname"
   ],
   "metadata": {
    "collapsed": false
   }
  },
  {
   "cell_type": "code",
   "execution_count": 158,
   "outputs": [
    {
     "name": "stderr",
     "output_type": "stream",
     "text": [
      "/var/folders/n_/mj2qn5sd20lb04k5gcvn8fbr0000gn/T/ipykernel_21919/1423796153.py:23: FutureWarning: The frame.append method is deprecated and will be removed from pandas in a future version. Use pandas.concat instead.\n",
      "  results_df_kfold = results_df_kfold.append({'Vectorizer': vec_name,\n",
      "/var/folders/n_/mj2qn5sd20lb04k5gcvn8fbr0000gn/T/ipykernel_21919/1423796153.py:23: FutureWarning: The frame.append method is deprecated and will be removed from pandas in a future version. Use pandas.concat instead.\n",
      "  results_df_kfold = results_df_kfold.append({'Vectorizer': vec_name,\n",
      "/var/folders/n_/mj2qn5sd20lb04k5gcvn8fbr0000gn/T/ipykernel_21919/1423796153.py:23: FutureWarning: The frame.append method is deprecated and will be removed from pandas in a future version. Use pandas.concat instead.\n",
      "  results_df_kfold = results_df_kfold.append({'Vectorizer': vec_name,\n",
      "/var/folders/n_/mj2qn5sd20lb04k5gcvn8fbr0000gn/T/ipykernel_21919/1423796153.py:23: FutureWarning: The frame.append method is deprecated and will be removed from pandas in a future version. Use pandas.concat instead.\n",
      "  results_df_kfold = results_df_kfold.append({'Vectorizer': vec_name,\n",
      "/var/folders/n_/mj2qn5sd20lb04k5gcvn8fbr0000gn/T/ipykernel_21919/1423796153.py:23: FutureWarning: The frame.append method is deprecated and will be removed from pandas in a future version. Use pandas.concat instead.\n",
      "  results_df_kfold = results_df_kfold.append({'Vectorizer': vec_name,\n",
      "/var/folders/n_/mj2qn5sd20lb04k5gcvn8fbr0000gn/T/ipykernel_21919/1423796153.py:23: FutureWarning: The frame.append method is deprecated and will be removed from pandas in a future version. Use pandas.concat instead.\n",
      "  results_df_kfold = results_df_kfold.append({'Vectorizer': vec_name,\n",
      "/var/folders/n_/mj2qn5sd20lb04k5gcvn8fbr0000gn/T/ipykernel_21919/1423796153.py:23: FutureWarning: The frame.append method is deprecated and will be removed from pandas in a future version. Use pandas.concat instead.\n",
      "  results_df_kfold = results_df_kfold.append({'Vectorizer': vec_name,\n"
     ]
    },
    {
     "name": "stdout",
     "output_type": "stream",
     "text": [
      "\n",
      "Results for Surname and Firstname Vectorization with k-fold cross-validation:\n"
     ]
    },
    {
     "name": "stderr",
     "output_type": "stream",
     "text": [
      "/var/folders/n_/mj2qn5sd20lb04k5gcvn8fbr0000gn/T/ipykernel_21919/1423796153.py:23: FutureWarning: The frame.append method is deprecated and will be removed from pandas in a future version. Use pandas.concat instead.\n",
      "  results_df_kfold = results_df_kfold.append({'Vectorizer': vec_name,\n"
     ]
    },
    {
     "data": {
      "text/plain": "  Vectorizer                Model  Mean Accuracy  Std Accuracy\n0        BOW  Logistic Regression       0.854762      0.018672\n1        BOW        Random Forest       0.842347      0.031028\n2        BOW                  SVM       0.825850      0.033046\n3        BOW              XGBoost       0.854762      0.045659\n4      TFIDF  Logistic Regression       0.859014      0.030089\n5      TFIDF        Random Forest       0.821429      0.039168\n6      TFIDF                  SVM       0.850765      0.029706\n7      TFIDF              XGBoost       0.792517      0.045675",
      "text/html": "<div>\n<style scoped>\n    .dataframe tbody tr th:only-of-type {\n        vertical-align: middle;\n    }\n\n    .dataframe tbody tr th {\n        vertical-align: top;\n    }\n\n    .dataframe thead th {\n        text-align: right;\n    }\n</style>\n<table border=\"1\" class=\"dataframe\">\n  <thead>\n    <tr style=\"text-align: right;\">\n      <th></th>\n      <th>Vectorizer</th>\n      <th>Model</th>\n      <th>Mean Accuracy</th>\n      <th>Std Accuracy</th>\n    </tr>\n  </thead>\n  <tbody>\n    <tr>\n      <th>0</th>\n      <td>BOW</td>\n      <td>Logistic Regression</td>\n      <td>0.854762</td>\n      <td>0.018672</td>\n    </tr>\n    <tr>\n      <th>1</th>\n      <td>BOW</td>\n      <td>Random Forest</td>\n      <td>0.842347</td>\n      <td>0.031028</td>\n    </tr>\n    <tr>\n      <th>2</th>\n      <td>BOW</td>\n      <td>SVM</td>\n      <td>0.825850</td>\n      <td>0.033046</td>\n    </tr>\n    <tr>\n      <th>3</th>\n      <td>BOW</td>\n      <td>XGBoost</td>\n      <td>0.854762</td>\n      <td>0.045659</td>\n    </tr>\n    <tr>\n      <th>4</th>\n      <td>TFIDF</td>\n      <td>Logistic Regression</td>\n      <td>0.859014</td>\n      <td>0.030089</td>\n    </tr>\n    <tr>\n      <th>5</th>\n      <td>TFIDF</td>\n      <td>Random Forest</td>\n      <td>0.821429</td>\n      <td>0.039168</td>\n    </tr>\n    <tr>\n      <th>6</th>\n      <td>TFIDF</td>\n      <td>SVM</td>\n      <td>0.850765</td>\n      <td>0.029706</td>\n    </tr>\n    <tr>\n      <th>7</th>\n      <td>TFIDF</td>\n      <td>XGBoost</td>\n      <td>0.792517</td>\n      <td>0.045675</td>\n    </tr>\n  </tbody>\n</table>\n</div>"
     },
     "metadata": {},
     "output_type": "display_data"
    }
   ],
   "source": [
    "k_fold = StratifiedKFold(n_splits=5, shuffle=True, random_state=42)\n",
    "\n",
    "le = LabelEncoder()\n",
    "y = le.fit_transform(transcriptions_with_sex.sex)\n",
    "\n",
    "# Reset results dataframe for k-fold cross-validation\n",
    "results_df_kfold = pd.DataFrame()\n",
    "\n",
    "for vec_name, vectorizer in vectorizers.items():\n",
    "    # Fit and transform vectorizer on full data\n",
    "    X_vec = vectorizer.fit_transform(X)\n",
    "\n",
    "    # Iterate over models\n",
    "    for model_name, model in models.items():\n",
    "        # Perform k-fold cross-validation\n",
    "        cv_scores = cross_val_score(model, X_vec, y, cv=k_fold, scoring='accuracy', error_score='raise')\n",
    "\n",
    "        # Calculate mean and standard deviation of cross-validation scores\n",
    "        mean_accuracy = cv_scores.mean()\n",
    "        std_accuracy = cv_scores.std()\n",
    "\n",
    "        # Append results to dataframe\n",
    "        results_df_kfold = results_df_kfold.append({'Vectorizer': vec_name,\n",
    "                                                    'Model': model_name,\n",
    "                                                    'Mean Accuracy': mean_accuracy,\n",
    "                                                    'Std Accuracy': std_accuracy},\n",
    "                                                   ignore_index=True)\n",
    "\n",
    "# Display results dataframe for k-fold cross-validation\n",
    "print(\"\\nResults for Surname and Firstname Vectorization with k-fold cross-validation:\")\n",
    "display(results_df_kfold)"
   ],
   "metadata": {
    "collapsed": false
   }
  },
  {
   "cell_type": "code",
   "execution_count": null,
   "outputs": [],
   "source": [],
   "metadata": {
    "collapsed": false
   }
  },
  {
   "cell_type": "code",
   "execution_count": null,
   "outputs": [],
   "source": [],
   "metadata": {
    "collapsed": false
   }
  }
 ],
 "metadata": {
  "kernelspec": {
   "display_name": "Python 3",
   "language": "python",
   "name": "python3"
  },
  "language_info": {
   "codemirror_mode": {
    "name": "ipython",
    "version": 2
   },
   "file_extension": ".py",
   "mimetype": "text/x-python",
   "name": "python",
   "nbconvert_exporter": "python",
   "pygments_lexer": "ipython2",
   "version": "2.7.6"
  }
 },
 "nbformat": 4,
 "nbformat_minor": 0
}
