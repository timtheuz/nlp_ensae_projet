{
 "cells": [
  {
   "cell_type": "markdown",
   "source": [
    "# Project"
   ],
   "metadata": {
    "collapsed": false
   }
  },
  {
   "cell_type": "markdown",
   "source": [
    "__[Project Page](https://notes.teklia.com/s/AU3AEfOBr#)__"
   ],
   "metadata": {
    "collapsed": false
   }
  },
  {
   "cell_type": "code",
   "execution_count": 2,
   "metadata": {
    "collapsed": true
   },
   "outputs": [],
   "source": [
    "import pandas as pd\n",
    "import matplotlib.pyplot as plt\n",
    "from sklearn.feature_extraction.text import TfidfVectorizer, CountVectorizer\n",
    "from sklearn.model_selection import train_test_split"
   ]
  },
  {
   "cell_type": "markdown",
   "source": [],
   "metadata": {
    "collapsed": false
   }
  },
  {
   "cell_type": "code",
   "execution_count": 3,
   "outputs": [],
   "source": [
    "firstname_with_sex = pd.read_csv('firstname_with_sex.csv', sep=';')\n",
    "transcriptions_with_sex = pd.read_csv('transcriptions_with_sex.csv', sep=',')\n",
    "#transcriptions_with_sex = pd.read_csv('transcriptions_with_sex.csv', sep=';|:')"
   ],
   "metadata": {
    "collapsed": false
   }
  },
  {
   "cell_type": "code",
   "execution_count": 116,
   "outputs": [],
   "source": [
    "# A ratio closer to 1 means a name more used by males\n",
    "firstname_with_sex['total_count'] = firstname_with_sex.male + firstname_with_sex.female\n",
    "firstname_with_sex['ratio'] = firstname_with_sex['male'] / (firstname_with_sex['male'] + firstname_with_sex['female'])"
   ],
   "metadata": {
    "collapsed": false
   }
  },
  {
   "cell_type": "code",
   "execution_count": 117,
   "outputs": [
    {
     "data": {
      "text/plain": "     firstname     male   female     ratio  total_count\n0        marie    10145  2390322  0.004226      2400467\n1         jean  1869615     6476  0.996548      1876091\n2       pierre  1475841     5047  0.996592      1480888\n3       jeanne     1765  1097397  0.001606      1099162\n4     françois  1089009     5951  0.994565      1094960\n...        ...      ...      ...       ...          ...\n6941   winnocq       10        0  1.000000           10\n6942     xyste        9        1  0.900000           10\n6943      zara        0       10  0.000000           10\n6944  zéraphin       10        0  1.000000           10\n6945     zimle        0       10  0.000000           10\n\n[6946 rows x 5 columns]",
      "text/html": "<div>\n<style scoped>\n    .dataframe tbody tr th:only-of-type {\n        vertical-align: middle;\n    }\n\n    .dataframe tbody tr th {\n        vertical-align: top;\n    }\n\n    .dataframe thead th {\n        text-align: right;\n    }\n</style>\n<table border=\"1\" class=\"dataframe\">\n  <thead>\n    <tr style=\"text-align: right;\">\n      <th></th>\n      <th>firstname</th>\n      <th>male</th>\n      <th>female</th>\n      <th>ratio</th>\n      <th>total_count</th>\n    </tr>\n  </thead>\n  <tbody>\n    <tr>\n      <th>0</th>\n      <td>marie</td>\n      <td>10145</td>\n      <td>2390322</td>\n      <td>0.004226</td>\n      <td>2400467</td>\n    </tr>\n    <tr>\n      <th>1</th>\n      <td>jean</td>\n      <td>1869615</td>\n      <td>6476</td>\n      <td>0.996548</td>\n      <td>1876091</td>\n    </tr>\n    <tr>\n      <th>2</th>\n      <td>pierre</td>\n      <td>1475841</td>\n      <td>5047</td>\n      <td>0.996592</td>\n      <td>1480888</td>\n    </tr>\n    <tr>\n      <th>3</th>\n      <td>jeanne</td>\n      <td>1765</td>\n      <td>1097397</td>\n      <td>0.001606</td>\n      <td>1099162</td>\n    </tr>\n    <tr>\n      <th>4</th>\n      <td>françois</td>\n      <td>1089009</td>\n      <td>5951</td>\n      <td>0.994565</td>\n      <td>1094960</td>\n    </tr>\n    <tr>\n      <th>...</th>\n      <td>...</td>\n      <td>...</td>\n      <td>...</td>\n      <td>...</td>\n      <td>...</td>\n    </tr>\n    <tr>\n      <th>6941</th>\n      <td>winnocq</td>\n      <td>10</td>\n      <td>0</td>\n      <td>1.000000</td>\n      <td>10</td>\n    </tr>\n    <tr>\n      <th>6942</th>\n      <td>xyste</td>\n      <td>9</td>\n      <td>1</td>\n      <td>0.900000</td>\n      <td>10</td>\n    </tr>\n    <tr>\n      <th>6943</th>\n      <td>zara</td>\n      <td>0</td>\n      <td>10</td>\n      <td>0.000000</td>\n      <td>10</td>\n    </tr>\n    <tr>\n      <th>6944</th>\n      <td>zéraphin</td>\n      <td>10</td>\n      <td>0</td>\n      <td>1.000000</td>\n      <td>10</td>\n    </tr>\n    <tr>\n      <th>6945</th>\n      <td>zimle</td>\n      <td>0</td>\n      <td>10</td>\n      <td>0.000000</td>\n      <td>10</td>\n    </tr>\n  </tbody>\n</table>\n<p>6946 rows × 5 columns</p>\n</div>"
     },
     "execution_count": 117,
     "metadata": {},
     "output_type": "execute_result"
    }
   ],
   "source": [
    "firstname_with_sex"
   ],
   "metadata": {
    "collapsed": false
   }
  },
  {
   "cell_type": "code",
   "execution_count": 5,
   "outputs": [
    {
     "name": "stdout",
     "output_type": "stream",
     "text": [
      "<class 'pandas.core.frame.DataFrame'>\n",
      "RangeIndex: 6946 entries, 0 to 6945\n",
      "Data columns (total 3 columns):\n",
      " #   Column     Non-Null Count  Dtype \n",
      "---  ------     --------------  ----- \n",
      " 0   firstname  6946 non-null   object\n",
      " 1   male       6946 non-null   int64 \n",
      " 2   female     6946 non-null   int64 \n",
      "dtypes: int64(2), object(1)\n",
      "memory usage: 162.9+ KB\n"
     ]
    }
   ],
   "source": [
    "firstname_with_sex.info()"
   ],
   "metadata": {
    "collapsed": false
   }
  },
  {
   "cell_type": "code",
   "execution_count": 212,
   "outputs": [
    {
     "data": {
      "text/plain": "                             subject_line  \\\n0    ebb26ada-044c-4c62-9dbc-a9c8d505d31c   \n1    338496f5-e4ca-43ac-aa5c-429cb3f6ac00   \n2    e6a279da-9b6f-4f49-b498-64857bc50d1e   \n3    7534deca-39e8-4f00-be17-c12460015de1   \n4    ef334a66-a504-418a-9872-e7c9db923488   \n..                                    ...   \n236  1d92738a-cffe-4aee-ab10-db04c37f7405   \n237  09440055-7972-4135-a537-e6c5a1f2aeb2   \n238  4d387278-12c3-410c-bdf0-c5c603479764   \n239  623b95de-f87c-4844-a7f7-361088eed83a   \n240  26d7839c-16a1-486e-9736-83e500fb72e5   \n\n                                           groundtruth  \\\n0    surname: Chardon firstname: Marie occupation: ...   \n1    surname: Lhopital firstname: Louis-Jean occupa...   \n2    surname: Papin firstname: Marie occupation: id...   \n3    surname: Lavocat firstname: Marie link: femme ...   \n4        surname: Benne firstname: Marguerite age: 78    \n..                                                 ...   \n236  surname: Burlurut firstname: Pétronille occupa...   \n237  surname: Combey firstname: Alexandre occupatio...   \n238  surname: Collin firstname: Marguerite occupati...   \n239  surname: Dumont firstname: Etienne link: fils ...   \n240  surname: Renaut firstname: Antoinette link: be...   \n\n                                            prediction    sex  \\\n0    nom: Chardon prénom: Marie date_naissance: 30 ...  femme   \n1    nom: Lhopital prénom: Louis Jean date_naissanc...  homme   \n2    nom: Pyrin prénom: Marie date_naissance: 55 re...  femme   \n3    nom: Lavocat prénom: Marie date_naissance: 187...  femme   \n4    nom: Benne prénom: Marguerite date_naissance: ...  femme   \n..                                                 ...    ...   \n236  nom: Burlurut prénom: Gihromille date_naissanc...  femme   \n237  nom: Comberf prénom: Alexandre date_naissance:...  homme   \n238  nom: Collin prénom: Marguerite date_naissance:...  femme   \n239  nom: Dumont prénom: Etienne date_naissance: 19...  homme   \n240  nom: Renaut prénom: Antoinette date_naissance:...  femme   \n\n     groundtruth_length  prediction_length  \n0                    71                 65  \n1                    74                 88  \n2                    83                 56  \n3                    74                 86  \n4                    45                 82  \n..                  ...                ...  \n236                  93                 95  \n237                  77                100  \n238                  91                 87  \n239                  73                 69  \n240                  83                 96  \n\n[241 rows x 6 columns]",
      "text/html": "<div>\n<style scoped>\n    .dataframe tbody tr th:only-of-type {\n        vertical-align: middle;\n    }\n\n    .dataframe tbody tr th {\n        vertical-align: top;\n    }\n\n    .dataframe thead th {\n        text-align: right;\n    }\n</style>\n<table border=\"1\" class=\"dataframe\">\n  <thead>\n    <tr style=\"text-align: right;\">\n      <th></th>\n      <th>subject_line</th>\n      <th>groundtruth</th>\n      <th>prediction</th>\n      <th>sex</th>\n      <th>groundtruth_length</th>\n      <th>prediction_length</th>\n    </tr>\n  </thead>\n  <tbody>\n    <tr>\n      <th>0</th>\n      <td>ebb26ada-044c-4c62-9dbc-a9c8d505d31c</td>\n      <td>surname: Chardon firstname: Marie occupation: ...</td>\n      <td>nom: Chardon prénom: Marie date_naissance: 30 ...</td>\n      <td>femme</td>\n      <td>71</td>\n      <td>65</td>\n    </tr>\n    <tr>\n      <th>1</th>\n      <td>338496f5-e4ca-43ac-aa5c-429cb3f6ac00</td>\n      <td>surname: Lhopital firstname: Louis-Jean occupa...</td>\n      <td>nom: Lhopital prénom: Louis Jean date_naissanc...</td>\n      <td>homme</td>\n      <td>74</td>\n      <td>88</td>\n    </tr>\n    <tr>\n      <th>2</th>\n      <td>e6a279da-9b6f-4f49-b498-64857bc50d1e</td>\n      <td>surname: Papin firstname: Marie occupation: id...</td>\n      <td>nom: Pyrin prénom: Marie date_naissance: 55 re...</td>\n      <td>femme</td>\n      <td>83</td>\n      <td>56</td>\n    </tr>\n    <tr>\n      <th>3</th>\n      <td>7534deca-39e8-4f00-be17-c12460015de1</td>\n      <td>surname: Lavocat firstname: Marie link: femme ...</td>\n      <td>nom: Lavocat prénom: Marie date_naissance: 187...</td>\n      <td>femme</td>\n      <td>74</td>\n      <td>86</td>\n    </tr>\n    <tr>\n      <th>4</th>\n      <td>ef334a66-a504-418a-9872-e7c9db923488</td>\n      <td>surname: Benne firstname: Marguerite age: 78</td>\n      <td>nom: Benne prénom: Marguerite date_naissance: ...</td>\n      <td>femme</td>\n      <td>45</td>\n      <td>82</td>\n    </tr>\n    <tr>\n      <th>...</th>\n      <td>...</td>\n      <td>...</td>\n      <td>...</td>\n      <td>...</td>\n      <td>...</td>\n      <td>...</td>\n    </tr>\n    <tr>\n      <th>236</th>\n      <td>1d92738a-cffe-4aee-ab10-db04c37f7405</td>\n      <td>surname: Burlurut firstname: Pétronille occupa...</td>\n      <td>nom: Burlurut prénom: Gihromille date_naissanc...</td>\n      <td>femme</td>\n      <td>93</td>\n      <td>95</td>\n    </tr>\n    <tr>\n      <th>237</th>\n      <td>09440055-7972-4135-a537-e6c5a1f2aeb2</td>\n      <td>surname: Combey firstname: Alexandre occupatio...</td>\n      <td>nom: Comberf prénom: Alexandre date_naissance:...</td>\n      <td>homme</td>\n      <td>77</td>\n      <td>100</td>\n    </tr>\n    <tr>\n      <th>238</th>\n      <td>4d387278-12c3-410c-bdf0-c5c603479764</td>\n      <td>surname: Collin firstname: Marguerite occupati...</td>\n      <td>nom: Collin prénom: Marguerite date_naissance:...</td>\n      <td>femme</td>\n      <td>91</td>\n      <td>87</td>\n    </tr>\n    <tr>\n      <th>239</th>\n      <td>623b95de-f87c-4844-a7f7-361088eed83a</td>\n      <td>surname: Dumont firstname: Etienne link: fils ...</td>\n      <td>nom: Dumont prénom: Etienne date_naissance: 19...</td>\n      <td>homme</td>\n      <td>73</td>\n      <td>69</td>\n    </tr>\n    <tr>\n      <th>240</th>\n      <td>26d7839c-16a1-486e-9736-83e500fb72e5</td>\n      <td>surname: Renaut firstname: Antoinette link: be...</td>\n      <td>nom: Renaut prénom: Antoinette date_naissance:...</td>\n      <td>femme</td>\n      <td>83</td>\n      <td>96</td>\n    </tr>\n  </tbody>\n</table>\n<p>241 rows × 6 columns</p>\n</div>"
     },
     "execution_count": 212,
     "metadata": {},
     "output_type": "execute_result"
    }
   ],
   "source": [
    "transcriptions_with_sex"
   ],
   "metadata": {
    "collapsed": false
   }
  },
  {
   "cell_type": "markdown",
   "source": [
    "### Descriptive Statistics"
   ],
   "metadata": {
    "collapsed": false
   }
  },
  {
   "cell_type": "code",
   "execution_count": 8,
   "outputs": [
    {
     "data": {
      "text/plain": "<AxesSubplot:>"
     },
     "execution_count": 8,
     "metadata": {},
     "output_type": "execute_result"
    },
    {
     "data": {
      "text/plain": "<Figure size 432x288 with 2 Axes>",
      "image/png": "[encoded data removed]"
     },
     "metadata": {
      "needs_background": "light"
     },
     "output_type": "display_data"
    }
   ],
   "source": [
    "fig, ax = plt.subplots(1, 2, sharey=False, tight_layout=True)\n",
    "\n",
    "ax[0].hist(firstname_with_sex['ratio'], bins=20)\n",
    "ax[1].hist(firstname_with_sex['ratio'], bins=20, range=(0.05, 0.95))\n",
    "ax[0]"
   ],
   "metadata": {
    "collapsed": false
   }
  },
  {
   "cell_type": "code",
   "execution_count": 9,
   "outputs": [
    {
     "data": {
      "text/plain": "<AxesSubplot:>"
     },
     "execution_count": 9,
     "metadata": {},
     "output_type": "execute_result"
    },
    {
     "data": {
      "text/plain": "<Figure size 432x288 with 1 Axes>",
      "image/png": "[encoded data removed]"
     },
     "metadata": {
      "needs_background": "light"
     },
     "output_type": "display_data"
    }
   ],
   "source": [
    "firstname_with_sex['ratio'].hist(bins=20, range=(0.05, 0.95),log=False)"
   ],
   "metadata": {
    "collapsed": false
   }
  },
  {
   "cell_type": "code",
   "execution_count": 29,
   "outputs": [],
   "source": [
    "attributes_list = ['surname', 'firstname', 'occupation', 'link', 'age', 'civil_status', 'birth_date', 'observation', 'employer']\n",
    "attributes_list_doublepoint = ['surname:', 'firstname:', 'occupation:', 'link:', 'age:', 'civil_status:', 'birth_date:', 'observation:', 'employer:', 'lob:']"
   ],
   "metadata": {
    "collapsed": false
   }
  },
  {
   "cell_type": "markdown",
   "source": [
    "The groundtruth column contains multiple interesting information. We split it to obtain deeper understanding into the available data."
   ],
   "metadata": {
    "collapsed": false
   }
  },
  {
   "cell_type": "code",
   "execution_count": 188,
   "outputs": [],
   "source": [
    "def key_value(s):\n",
    "    key = None\n",
    "    value = []\n",
    "    for token in s.split():\n",
    "        if token[-1] == \":\":\n",
    "            if key is not None:\n",
    "                yield key, \" \".join(value)\n",
    "            key = token[:-1]\n",
    "            value = []\n",
    "        else:\n",
    "            value.append(token)\n",
    "    if key is not None:\n",
    "        yield key, \" \".join(value)"
   ],
   "metadata": {
    "collapsed": false
   }
  },
  {
   "cell_type": "code",
   "execution_count": 198,
   "outputs": [
    {
     "data": {
      "text/plain": "      surname   firstname       occupation        link     age employer  \\\n0     Chardon       Marie             idem       fille      30      NaN   \n1    Lhopital  Louis-Jean               sp        chef      67      NaN   \n2       Papin       Marie             idem        idem      15     idem   \n3     Lavocat       Marie              NaN       femme     NaN      NaN   \n4       Benne  Marguerite              NaN         NaN      78      NaN   \n..        ...         ...              ...         ...     ...      ...   \n236  Burlurut  Pétronille  sans profession      épouse  61 ans      NaN   \n237    Combey   Alexandre             idem    son fils      39      NaN   \n238    Collin  Marguerite             idem      épouse      38     idem   \n239    Dumont     Etienne              NaN        fils     NaN      NaN   \n240    Renaut  Antoinette              NaN  belle-mère     NaN      NaN   \n\n    birth_date    lob civil_status observation  \n0          NaN    NaN          NaN         NaN  \n1          NaN    NaN          NaN         NaN  \n2          NaN    NaN          NaN         NaN  \n3         1875  Rigny          NaN         NaN  \n4          NaN    NaN          NaN         NaN  \n..         ...    ...          ...         ...  \n236        NaN    NaN          NaN         NaN  \n237        NaN    NaN          NaN         NaN  \n238        NaN    NaN          NaN         NaN  \n239       1900   idem          NaN         NaN  \n240       1849  Rigny          NaN         NaN  \n\n[241 rows x 10 columns]",
      "text/html": "<div>\n<style scoped>\n    .dataframe tbody tr th:only-of-type {\n        vertical-align: middle;\n    }\n\n    .dataframe tbody tr th {\n        vertical-align: top;\n    }\n\n    .dataframe thead th {\n        text-align: right;\n    }\n</style>\n<table border=\"1\" class=\"dataframe\">\n  <thead>\n    <tr style=\"text-align: right;\">\n      <th></th>\n      <th>surname</th>\n      <th>firstname</th>\n      <th>occupation</th>\n      <th>link</th>\n      <th>age</th>\n      <th>employer</th>\n      <th>birth_date</th>\n      <th>lob</th>\n      <th>civil_status</th>\n      <th>observation</th>\n    </tr>\n  </thead>\n  <tbody>\n    <tr>\n      <th>0</th>\n      <td>Chardon</td>\n      <td>Marie</td>\n      <td>idem</td>\n      <td>fille</td>\n      <td>30</td>\n      <td>NaN</td>\n      <td>NaN</td>\n      <td>NaN</td>\n      <td>NaN</td>\n      <td>NaN</td>\n    </tr>\n    <tr>\n      <th>1</th>\n      <td>Lhopital</td>\n      <td>Louis-Jean</td>\n      <td>sp</td>\n      <td>chef</td>\n      <td>67</td>\n      <td>NaN</td>\n      <td>NaN</td>\n      <td>NaN</td>\n      <td>NaN</td>\n      <td>NaN</td>\n    </tr>\n    <tr>\n      <th>2</th>\n      <td>Papin</td>\n      <td>Marie</td>\n      <td>idem</td>\n      <td>idem</td>\n      <td>15</td>\n      <td>idem</td>\n      <td>NaN</td>\n      <td>NaN</td>\n      <td>NaN</td>\n      <td>NaN</td>\n    </tr>\n    <tr>\n      <th>3</th>\n      <td>Lavocat</td>\n      <td>Marie</td>\n      <td>NaN</td>\n      <td>femme</td>\n      <td>NaN</td>\n      <td>NaN</td>\n      <td>1875</td>\n      <td>Rigny</td>\n      <td>NaN</td>\n      <td>NaN</td>\n    </tr>\n    <tr>\n      <th>4</th>\n      <td>Benne</td>\n      <td>Marguerite</td>\n      <td>NaN</td>\n      <td>NaN</td>\n      <td>78</td>\n      <td>NaN</td>\n      <td>NaN</td>\n      <td>NaN</td>\n      <td>NaN</td>\n      <td>NaN</td>\n    </tr>\n    <tr>\n      <th>...</th>\n      <td>...</td>\n      <td>...</td>\n      <td>...</td>\n      <td>...</td>\n      <td>...</td>\n      <td>...</td>\n      <td>...</td>\n      <td>...</td>\n      <td>...</td>\n      <td>...</td>\n    </tr>\n    <tr>\n      <th>236</th>\n      <td>Burlurut</td>\n      <td>Pétronille</td>\n      <td>sans profession</td>\n      <td>épouse</td>\n      <td>61 ans</td>\n      <td>NaN</td>\n      <td>NaN</td>\n      <td>NaN</td>\n      <td>NaN</td>\n      <td>NaN</td>\n    </tr>\n    <tr>\n      <th>237</th>\n      <td>Combey</td>\n      <td>Alexandre</td>\n      <td>idem</td>\n      <td>son fils</td>\n      <td>39</td>\n      <td>NaN</td>\n      <td>NaN</td>\n      <td>NaN</td>\n      <td>NaN</td>\n      <td>NaN</td>\n    </tr>\n    <tr>\n      <th>238</th>\n      <td>Collin</td>\n      <td>Marguerite</td>\n      <td>idem</td>\n      <td>épouse</td>\n      <td>38</td>\n      <td>idem</td>\n      <td>NaN</td>\n      <td>NaN</td>\n      <td>NaN</td>\n      <td>NaN</td>\n    </tr>\n    <tr>\n      <th>239</th>\n      <td>Dumont</td>\n      <td>Etienne</td>\n      <td>NaN</td>\n      <td>fils</td>\n      <td>NaN</td>\n      <td>NaN</td>\n      <td>1900</td>\n      <td>idem</td>\n      <td>NaN</td>\n      <td>NaN</td>\n    </tr>\n    <tr>\n      <th>240</th>\n      <td>Renaut</td>\n      <td>Antoinette</td>\n      <td>NaN</td>\n      <td>belle-mère</td>\n      <td>NaN</td>\n      <td>NaN</td>\n      <td>1849</td>\n      <td>Rigny</td>\n      <td>NaN</td>\n      <td>NaN</td>\n    </tr>\n  </tbody>\n</table>\n<p>241 rows × 10 columns</p>\n</div>"
     },
     "execution_count": 198,
     "metadata": {},
     "output_type": "execute_result"
    }
   ],
   "source": [
    "df = pd.DataFrame({key: value for key, value in key_value(string)} for string in transcriptions_with_sex.groundtruth)\n",
    "df"
   ],
   "metadata": {
    "collapsed": false
   }
  },
  {
   "cell_type": "code",
   "execution_count": 199,
   "outputs": [
    {
     "data": {
      "text/plain": "      surname   firstname       occupation        link     age employer  \\\n0     Chardon       Marie             idem       fille      30      NaN   \n1    Lhopital  Louis-Jean               sp        chef      67      NaN   \n2       Papin       Marie             idem        idem      15     idem   \n3     Lavocat       Marie              NaN       femme     NaN      NaN   \n4       Benne  Marguerite              NaN         NaN      78      NaN   \n..        ...         ...              ...         ...     ...      ...   \n236  Burlurut  Pétronille  sans profession      épouse  61 ans      NaN   \n237    Combey   Alexandre             idem    son fils      39      NaN   \n238    Collin  Marguerite             idem      épouse      38     idem   \n239    Dumont     Etienne              NaN        fils     NaN      NaN   \n240    Renaut  Antoinette              NaN  belle-mère     NaN      NaN   \n\n    birth_date    lob civil_status observation    sex  \n0          NaN    NaN          NaN         NaN  femme  \n1          NaN    NaN          NaN         NaN  homme  \n2          NaN    NaN          NaN         NaN  femme  \n3         1875  Rigny          NaN         NaN  femme  \n4          NaN    NaN          NaN         NaN  femme  \n..         ...    ...          ...         ...    ...  \n236        NaN    NaN          NaN         NaN  femme  \n237        NaN    NaN          NaN         NaN  homme  \n238        NaN    NaN          NaN         NaN  femme  \n239       1900   idem          NaN         NaN  homme  \n240       1849  Rigny          NaN         NaN  femme  \n\n[241 rows x 11 columns]",
      "text/html": "<div>\n<style scoped>\n    .dataframe tbody tr th:only-of-type {\n        vertical-align: middle;\n    }\n\n    .dataframe tbody tr th {\n        vertical-align: top;\n    }\n\n    .dataframe thead th {\n        text-align: right;\n    }\n</style>\n<table border=\"1\" class=\"dataframe\">\n  <thead>\n    <tr style=\"text-align: right;\">\n      <th></th>\n      <th>surname</th>\n      <th>firstname</th>\n      <th>occupation</th>\n      <th>link</th>\n      <th>age</th>\n      <th>employer</th>\n      <th>birth_date</th>\n      <th>lob</th>\n      <th>civil_status</th>\n      <th>observation</th>\n      <th>sex</th>\n    </tr>\n  </thead>\n  <tbody>\n    <tr>\n      <th>0</th>\n      <td>Chardon</td>\n      <td>Marie</td>\n      <td>idem</td>\n      <td>fille</td>\n      <td>30</td>\n      <td>NaN</td>\n      <td>NaN</td>\n      <td>NaN</td>\n      <td>NaN</td>\n      <td>NaN</td>\n      <td>femme</td>\n    </tr>\n    <tr>\n      <th>1</th>\n      <td>Lhopital</td>\n      <td>Louis-Jean</td>\n      <td>sp</td>\n      <td>chef</td>\n      <td>67</td>\n      <td>NaN</td>\n      <td>NaN</td>\n      <td>NaN</td>\n      <td>NaN</td>\n      <td>NaN</td>\n      <td>homme</td>\n    </tr>\n    <tr>\n      <th>2</th>\n      <td>Papin</td>\n      <td>Marie</td>\n      <td>idem</td>\n      <td>idem</td>\n      <td>15</td>\n      <td>idem</td>\n      <td>NaN</td>\n      <td>NaN</td>\n      <td>NaN</td>\n      <td>NaN</td>\n      <td>femme</td>\n    </tr>\n    <tr>\n      <th>3</th>\n      <td>Lavocat</td>\n      <td>Marie</td>\n      <td>NaN</td>\n      <td>femme</td>\n      <td>NaN</td>\n      <td>NaN</td>\n      <td>1875</td>\n      <td>Rigny</td>\n      <td>NaN</td>\n      <td>NaN</td>\n      <td>femme</td>\n    </tr>\n    <tr>\n      <th>4</th>\n      <td>Benne</td>\n      <td>Marguerite</td>\n      <td>NaN</td>\n      <td>NaN</td>\n      <td>78</td>\n      <td>NaN</td>\n      <td>NaN</td>\n      <td>NaN</td>\n      <td>NaN</td>\n      <td>NaN</td>\n      <td>femme</td>\n    </tr>\n    <tr>\n      <th>...</th>\n      <td>...</td>\n      <td>...</td>\n      <td>...</td>\n      <td>...</td>\n      <td>...</td>\n      <td>...</td>\n      <td>...</td>\n      <td>...</td>\n      <td>...</td>\n      <td>...</td>\n      <td>...</td>\n    </tr>\n    <tr>\n      <th>236</th>\n      <td>Burlurut</td>\n      <td>Pétronille</td>\n      <td>sans profession</td>\n      <td>épouse</td>\n      <td>61 ans</td>\n      <td>NaN</td>\n      <td>NaN</td>\n      <td>NaN</td>\n      <td>NaN</td>\n      <td>NaN</td>\n      <td>femme</td>\n    </tr>\n    <tr>\n      <th>237</th>\n      <td>Combey</td>\n      <td>Alexandre</td>\n      <td>idem</td>\n      <td>son fils</td>\n      <td>39</td>\n      <td>NaN</td>\n      <td>NaN</td>\n      <td>NaN</td>\n      <td>NaN</td>\n      <td>NaN</td>\n      <td>homme</td>\n    </tr>\n    <tr>\n      <th>238</th>\n      <td>Collin</td>\n      <td>Marguerite</td>\n      <td>idem</td>\n      <td>épouse</td>\n      <td>38</td>\n      <td>idem</td>\n      <td>NaN</td>\n      <td>NaN</td>\n      <td>NaN</td>\n      <td>NaN</td>\n      <td>femme</td>\n    </tr>\n    <tr>\n      <th>239</th>\n      <td>Dumont</td>\n      <td>Etienne</td>\n      <td>NaN</td>\n      <td>fils</td>\n      <td>NaN</td>\n      <td>NaN</td>\n      <td>1900</td>\n      <td>idem</td>\n      <td>NaN</td>\n      <td>NaN</td>\n      <td>homme</td>\n    </tr>\n    <tr>\n      <th>240</th>\n      <td>Renaut</td>\n      <td>Antoinette</td>\n      <td>NaN</td>\n      <td>belle-mère</td>\n      <td>NaN</td>\n      <td>NaN</td>\n      <td>1849</td>\n      <td>Rigny</td>\n      <td>NaN</td>\n      <td>NaN</td>\n      <td>femme</td>\n    </tr>\n  </tbody>\n</table>\n<p>241 rows × 11 columns</p>\n</div>"
     },
     "execution_count": 199,
     "metadata": {},
     "output_type": "execute_result"
    }
   ],
   "source": [
    "df['sex'] = transcriptions_with_sex.sex\n",
    "df"
   ],
   "metadata": {
    "collapsed": false
   }
  },
  {
   "cell_type": "code",
   "execution_count": 90,
   "outputs": [
    {
     "data": {
      "text/plain": "      surname   firstname       occupation        link     age employer  \\\n0     Chardon       Marie             idem       fille      30      NaN   \n1    Lhopital  Louis-Jean               sp        chef      67      NaN   \n2       Papin       Marie             idem        idem      15     idem   \n3     Lavocat       Marie              NaN       femme     NaN      NaN   \n4       Benne  Marguerite              NaN         NaN      78      NaN   \n..        ...         ...              ...         ...     ...      ...   \n236  Burlurut  Pétronille  sans profession      épouse  61 ans      NaN   \n237    Combey   Alexandre             idem    son fils      39      NaN   \n238    Collin  Marguerite             idem      épouse      38     idem   \n239    Dumont     Etienne              NaN        fils     NaN      NaN   \n240    Renaut  Antoinette              NaN  belle-mère     NaN      NaN   \n\n    birth_date    lob civil_status observation    sex  \\\n0          NaN    NaN          NaN         NaN  femme   \n1          NaN    NaN          NaN         NaN  homme   \n2          NaN    NaN          NaN         NaN  femme   \n3         1875  Rigny          NaN         NaN  femme   \n4          NaN    NaN          NaN         NaN  femme   \n..         ...    ...          ...         ...    ...   \n236        NaN    NaN          NaN         NaN  femme   \n237        NaN    NaN          NaN         NaN  homme   \n238        NaN    NaN          NaN         NaN  femme   \n239       1900   idem          NaN         NaN  homme   \n240       1849  Rigny          NaN         NaN  femme   \n\n                                              combined  \n0      firstname: Marie, link: fille, occupation: idem  \n1    firstname: Louis-Jean, link: chef, occupation: sp  \n2       firstname: Marie, link: idem, occupation: idem  \n3          firstname: Marie, link: femme, occupation:   \n4          firstname: Marguerite, link: , occupation:   \n..                                                 ...  \n236  firstname: Pétronille, link: épouse, occupatio...  \n237  firstname: Alexandre, link: son fils, occupati...  \n238  firstname: Marguerite, link: épouse, occupatio...  \n239       firstname: Etienne, link: fils, occupation:   \n240  firstname: Antoinette, link: belle-mère, occup...  \n\n[241 rows x 12 columns]",
      "text/html": "<div>\n<style scoped>\n    .dataframe tbody tr th:only-of-type {\n        vertical-align: middle;\n    }\n\n    .dataframe tbody tr th {\n        vertical-align: top;\n    }\n\n    .dataframe thead th {\n        text-align: right;\n    }\n</style>\n<table border=\"1\" class=\"dataframe\">\n  <thead>\n    <tr style=\"text-align: right;\">\n      <th></th>\n      <th>surname</th>\n      <th>firstname</th>\n      <th>occupation</th>\n      <th>link</th>\n      <th>age</th>\n      <th>employer</th>\n      <th>birth_date</th>\n      <th>lob</th>\n      <th>civil_status</th>\n      <th>observation</th>\n      <th>sex</th>\n      <th>combined</th>\n    </tr>\n  </thead>\n  <tbody>\n    <tr>\n      <th>0</th>\n      <td>Chardon</td>\n      <td>Marie</td>\n      <td>idem</td>\n      <td>fille</td>\n      <td>30</td>\n      <td>NaN</td>\n      <td>NaN</td>\n      <td>NaN</td>\n      <td>NaN</td>\n      <td>NaN</td>\n      <td>femme</td>\n      <td>firstname: Marie, link: fille, occupation: idem</td>\n    </tr>\n    <tr>\n      <th>1</th>\n      <td>Lhopital</td>\n      <td>Louis-Jean</td>\n      <td>sp</td>\n      <td>chef</td>\n      <td>67</td>\n      <td>NaN</td>\n      <td>NaN</td>\n      <td>NaN</td>\n      <td>NaN</td>\n      <td>NaN</td>\n      <td>homme</td>\n      <td>firstname: Louis-Jean, link: chef, occupation: sp</td>\n    </tr>\n    <tr>\n      <th>2</th>\n      <td>Papin</td>\n      <td>Marie</td>\n      <td>idem</td>\n      <td>idem</td>\n      <td>15</td>\n      <td>idem</td>\n      <td>NaN</td>\n      <td>NaN</td>\n      <td>NaN</td>\n      <td>NaN</td>\n      <td>femme</td>\n      <td>firstname: Marie, link: idem, occupation: idem</td>\n    </tr>\n    <tr>\n      <th>3</th>\n      <td>Lavocat</td>\n      <td>Marie</td>\n      <td>NaN</td>\n      <td>femme</td>\n      <td>NaN</td>\n      <td>NaN</td>\n      <td>1875</td>\n      <td>Rigny</td>\n      <td>NaN</td>\n      <td>NaN</td>\n      <td>femme</td>\n      <td>firstname: Marie, link: femme, occupation:</td>\n    </tr>\n    <tr>\n      <th>4</th>\n      <td>Benne</td>\n      <td>Marguerite</td>\n      <td>NaN</td>\n      <td>NaN</td>\n      <td>78</td>\n      <td>NaN</td>\n      <td>NaN</td>\n      <td>NaN</td>\n      <td>NaN</td>\n      <td>NaN</td>\n      <td>femme</td>\n      <td>firstname: Marguerite, link: , occupation:</td>\n    </tr>\n    <tr>\n      <th>...</th>\n      <td>...</td>\n      <td>...</td>\n      <td>...</td>\n      <td>...</td>\n      <td>...</td>\n      <td>...</td>\n      <td>...</td>\n      <td>...</td>\n      <td>...</td>\n      <td>...</td>\n      <td>...</td>\n      <td>...</td>\n    </tr>\n    <tr>\n      <th>236</th>\n      <td>Burlurut</td>\n      <td>Pétronille</td>\n      <td>sans profession</td>\n      <td>épouse</td>\n      <td>61 ans</td>\n      <td>NaN</td>\n      <td>NaN</td>\n      <td>NaN</td>\n      <td>NaN</td>\n      <td>NaN</td>\n      <td>femme</td>\n      <td>firstname: Pétronille, link: épouse, occupatio...</td>\n    </tr>\n    <tr>\n      <th>237</th>\n      <td>Combey</td>\n      <td>Alexandre</td>\n      <td>idem</td>\n      <td>son fils</td>\n      <td>39</td>\n      <td>NaN</td>\n      <td>NaN</td>\n      <td>NaN</td>\n      <td>NaN</td>\n      <td>NaN</td>\n      <td>homme</td>\n      <td>firstname: Alexandre, link: son fils, occupati...</td>\n    </tr>\n    <tr>\n      <th>238</th>\n      <td>Collin</td>\n      <td>Marguerite</td>\n      <td>idem</td>\n      <td>épouse</td>\n      <td>38</td>\n      <td>idem</td>\n      <td>NaN</td>\n      <td>NaN</td>\n      <td>NaN</td>\n      <td>NaN</td>\n      <td>femme</td>\n      <td>firstname: Marguerite, link: épouse, occupatio...</td>\n    </tr>\n    <tr>\n      <th>239</th>\n      <td>Dumont</td>\n      <td>Etienne</td>\n      <td>NaN</td>\n      <td>fils</td>\n      <td>NaN</td>\n      <td>NaN</td>\n      <td>1900</td>\n      <td>idem</td>\n      <td>NaN</td>\n      <td>NaN</td>\n      <td>homme</td>\n      <td>firstname: Etienne, link: fils, occupation:</td>\n    </tr>\n    <tr>\n      <th>240</th>\n      <td>Renaut</td>\n      <td>Antoinette</td>\n      <td>NaN</td>\n      <td>belle-mère</td>\n      <td>NaN</td>\n      <td>NaN</td>\n      <td>1849</td>\n      <td>Rigny</td>\n      <td>NaN</td>\n      <td>NaN</td>\n      <td>femme</td>\n      <td>firstname: Antoinette, link: belle-mère, occup...</td>\n    </tr>\n  </tbody>\n</table>\n<p>241 rows × 12 columns</p>\n</div>"
     },
     "execution_count": 90,
     "metadata": {},
     "output_type": "execute_result"
    }
   ],
   "source": [
    "df_copy = df.fillna('', inplace=False)\n",
    "df['combined'] = 'firstname: ' + df_copy['firstname'] + ', link: ' + df_copy['link'] + ', occupation: ' + df_copy['occupation']\n",
    "df"
   ],
   "metadata": {
    "collapsed": false
   }
  },
  {
   "cell_type": "code",
   "execution_count": 160,
   "outputs": [
    {
     "data": {
      "text/plain": "chef                   50\nidem                   29\nenfant                 23\nfemme                  19\nfils                   17\népouse                 16\nfille                  13\nleur fils               5\ndomestique              4\nsa femme                4\nChef                    3\nbru                     3\nbelle-mère              3\nch. m                   3\nmère de famille         2\npetit-fils              2\nfrère                   2\nSa femme                2\nchef de ménage          2\nson fils                2\nmère                    2\nép                      2\nmére de famille         1\nassisté de la S.        1\nchef de famille         1\nSchouer                 1\nleur fille              1\nouvrier                 1\nassisté                 1\nsa brue                 1\nSon fils                1\npensionnaire            1\nép e                    1\nfils de la bonne        1\nenf                     1\nLeur fils               1\nfemme de chambre        1\ndomestique de ferme     1\npetite-fille            1\npère                    1\nFils                    1\nDomestique              1\npère de famille         1\ndomest.                 1\nName: link, dtype: int64"
     },
     "execution_count": 160,
     "metadata": {},
     "output_type": "execute_result"
    }
   ],
   "source": [
    "df.link.value_counts()"
   ],
   "metadata": {
    "collapsed": false
   }
  },
  {
   "cell_type": "code",
   "execution_count": 161,
   "outputs": [
    {
     "data": {
      "text/plain": "Marie         28\nJean          19\nMarguerite    10\nJeanne         9\nPierre         9\n              ..\nEmile          1\nStanislas      1\nGervais        1\nAmélie         1\nPétronille     1\nName: firstname, Length: 92, dtype: int64"
     },
     "execution_count": 161,
     "metadata": {},
     "output_type": "execute_result"
    }
   ],
   "source": [
    "df.firstname.value_counts()"
   ],
   "metadata": {
    "collapsed": false
   }
  },
  {
   "cell_type": "code",
   "execution_count": 162,
   "outputs": [
    {
     "data": {
      "text/plain": "idem                  54\nnéant                 15\ncultivateur           12\nsp                    10\ns.p                   10\n                      ..\nclerc de nptaire       1\nquincaillier           1\ncharcutier             1\nsellier                1\ncultiv eur fermier     1\nName: occupation, Length: 70, dtype: int64"
     },
     "execution_count": 162,
     "metadata": {},
     "output_type": "execute_result"
    }
   ],
   "source": [
    "df.occupation.value_counts()"
   ],
   "metadata": {
    "collapsed": false
   }
  },
  {
   "cell_type": "code",
   "execution_count": 163,
   "outputs": [
    {
     "data": {
      "text/plain": "Garçon         2\nHomme marié    1\nName: civil_status, dtype: int64"
     },
     "execution_count": 163,
     "metadata": {},
     "output_type": "execute_result"
    }
   ],
   "source": [
    "df.civil_status.value_counts()"
   ],
   "metadata": {
    "collapsed": false
   }
  },
  {
   "cell_type": "code",
   "execution_count": 164,
   "outputs": [
    {
     "data": {
      "text/plain": "idem             14\npatron           11\nLabage            2\nTroussière        2\nChoussy           2\nLavocat           2\nnéant             2\nDebord            1\nLavany            1\nMargottas         1\nCie f re          1\nDubuisson         1\nChene             1\nLefebure          1\nGoudier           1\nBonnichou         1\nhorticulteur      1\nChabet            1\nGouvernaire       1\nBruel             1\nchemin de fer     1\nName: employer, dtype: int64"
     },
     "execution_count": 164,
     "metadata": {},
     "output_type": "execute_result"
    }
   ],
   "source": [
    "df.employer.value_counts()"
   ],
   "metadata": {
    "collapsed": false
   }
  },
  {
   "cell_type": "code",
   "execution_count": 128,
   "outputs": [
    {
     "data": {
      "text/plain": "                  nan  ratio_nan\nsurname             1   0.004149\nfirstname           1   0.004149\noccupation         42   0.174274\nlink               11   0.045643\nage                43   0.178423\nemployer          192   0.796680\nbirth_date        194   0.804979\nlob               206   0.854772\ncivil_status      238   0.987552\nobservation       240   0.995851\nsex                 0   0.000000\ncombined            0   0.000000\npredicted_gender    0   0.000000",
      "text/html": "<div>\n<style scoped>\n    .dataframe tbody tr th:only-of-type {\n        vertical-align: middle;\n    }\n\n    .dataframe tbody tr th {\n        vertical-align: top;\n    }\n\n    .dataframe thead th {\n        text-align: right;\n    }\n</style>\n<table border=\"1\" class=\"dataframe\">\n  <thead>\n    <tr style=\"text-align: right;\">\n      <th></th>\n      <th>nan</th>\n      <th>ratio_nan</th>\n    </tr>\n  </thead>\n  <tbody>\n    <tr>\n      <th>surname</th>\n      <td>1</td>\n      <td>0.004149</td>\n    </tr>\n    <tr>\n      <th>firstname</th>\n      <td>1</td>\n      <td>0.004149</td>\n    </tr>\n    <tr>\n      <th>occupation</th>\n      <td>42</td>\n      <td>0.174274</td>\n    </tr>\n    <tr>\n      <th>link</th>\n      <td>11</td>\n      <td>0.045643</td>\n    </tr>\n    <tr>\n      <th>age</th>\n      <td>43</td>\n      <td>0.178423</td>\n    </tr>\n    <tr>\n      <th>employer</th>\n      <td>192</td>\n      <td>0.796680</td>\n    </tr>\n    <tr>\n      <th>birth_date</th>\n      <td>194</td>\n      <td>0.804979</td>\n    </tr>\n    <tr>\n      <th>lob</th>\n      <td>206</td>\n      <td>0.854772</td>\n    </tr>\n    <tr>\n      <th>civil_status</th>\n      <td>238</td>\n      <td>0.987552</td>\n    </tr>\n    <tr>\n      <th>observation</th>\n      <td>240</td>\n      <td>0.995851</td>\n    </tr>\n    <tr>\n      <th>sex</th>\n      <td>0</td>\n      <td>0.000000</td>\n    </tr>\n    <tr>\n      <th>combined</th>\n      <td>0</td>\n      <td>0.000000</td>\n    </tr>\n    <tr>\n      <th>predicted_gender</th>\n      <td>0</td>\n      <td>0.000000</td>\n    </tr>\n  </tbody>\n</table>\n</div>"
     },
     "execution_count": 128,
     "metadata": {},
     "output_type": "execute_result"
    }
   ],
   "source": [
    "df_descriptive = pd.DataFrame()\n",
    "df_descriptive['nan'] = df.isna().sum()\n",
    "df_descriptive['ratio_nan'] = df_descriptive.nan / 241\n",
    "df_descriptive"
   ],
   "metadata": {
    "collapsed": false
   }
  },
  {
   "cell_type": "code",
   "execution_count": 150,
   "outputs": [
    {
     "data": {
      "text/plain": "            Features  nan  ratio_nan\n0            surname    1   0.004149\n1          firstname    1   0.004149\n2         occupation   42   0.174274\n3               link   11   0.045643\n4                age   43   0.178423\n5           employer  192   0.796680\n6         birth_date  194   0.804979\n7                lob  206   0.854772\n8       civil_status  238   0.987552\n9        observation  240   0.995851\n10               sex    0   0.000000\n11          combined    0   0.000000\n12  predicted_gender    0   0.000000",
      "text/html": "<div>\n<style scoped>\n    .dataframe tbody tr th:only-of-type {\n        vertical-align: middle;\n    }\n\n    .dataframe tbody tr th {\n        vertical-align: top;\n    }\n\n    .dataframe thead th {\n        text-align: right;\n    }\n</style>\n<table border=\"1\" class=\"dataframe\">\n  <thead>\n    <tr style=\"text-align: right;\">\n      <th></th>\n      <th>Features</th>\n      <th>nan</th>\n      <th>ratio_nan</th>\n    </tr>\n  </thead>\n  <tbody>\n    <tr>\n      <th>0</th>\n      <td>surname</td>\n      <td>1</td>\n      <td>0.004149</td>\n    </tr>\n    <tr>\n      <th>1</th>\n      <td>firstname</td>\n      <td>1</td>\n      <td>0.004149</td>\n    </tr>\n    <tr>\n      <th>2</th>\n      <td>occupation</td>\n      <td>42</td>\n      <td>0.174274</td>\n    </tr>\n    <tr>\n      <th>3</th>\n      <td>link</td>\n      <td>11</td>\n      <td>0.045643</td>\n    </tr>\n    <tr>\n      <th>4</th>\n      <td>age</td>\n      <td>43</td>\n      <td>0.178423</td>\n    </tr>\n    <tr>\n      <th>5</th>\n      <td>employer</td>\n      <td>192</td>\n      <td>0.796680</td>\n    </tr>\n    <tr>\n      <th>6</th>\n      <td>birth_date</td>\n      <td>194</td>\n      <td>0.804979</td>\n    </tr>\n    <tr>\n      <th>7</th>\n      <td>lob</td>\n      <td>206</td>\n      <td>0.854772</td>\n    </tr>\n    <tr>\n      <th>8</th>\n      <td>civil_status</td>\n      <td>238</td>\n      <td>0.987552</td>\n    </tr>\n    <tr>\n      <th>9</th>\n      <td>observation</td>\n      <td>240</td>\n      <td>0.995851</td>\n    </tr>\n    <tr>\n      <th>10</th>\n      <td>sex</td>\n      <td>0</td>\n      <td>0.000000</td>\n    </tr>\n    <tr>\n      <th>11</th>\n      <td>combined</td>\n      <td>0</td>\n      <td>0.000000</td>\n    </tr>\n    <tr>\n      <th>12</th>\n      <td>predicted_gender</td>\n      <td>0</td>\n      <td>0.000000</td>\n    </tr>\n  </tbody>\n</table>\n</div>"
     },
     "execution_count": 150,
     "metadata": {},
     "output_type": "execute_result"
    }
   ],
   "source": [
    "df_descriptive.index.name = 'Features'\n",
    "df_descriptive.reset_index(inplace=True)\n",
    "df_descriptive"
   ],
   "metadata": {
    "collapsed": false
   }
  },
  {
   "cell_type": "markdown",
   "source": [
    "We only use the features 'surname', 'firstname', 'occupation', 'link', 'age' from the groundtruth, as the others have more than 75% of NaN values and are hence not suited for prediction tasks. The other columns also don't contain indicative information helpful for training a model, as indicated using the .value_counts() function"
   ],
   "metadata": {
    "collapsed": false
   }
  },
  {
   "cell_type": "code",
   "execution_count": 169,
   "outputs": [
    {
     "data": {
      "text/plain": "<Figure size 432x288 with 2 Axes>",
      "image/png": "[encoded data removed]"
     },
     "metadata": {
      "needs_background": "light"
     },
     "output_type": "display_data"
    }
   ],
   "source": [
    "# Plot\n",
    "fig, ax1 = plt.subplots()\n",
    "\n",
    "# Bar plot\n",
    "color = 'tab:blue'\n",
    "#ax1.set_xlabel('Bla')\n",
    "ax1.set_ylabel('Count', color=color)\n",
    "ax1.bar(df_descriptive.Features, df_descriptive['nan'], color=color)\n",
    "ax1.tick_params(axis='y', labelcolor=color)\n",
    "\n",
    "# Twin axes\n",
    "ax2 = ax1.twinx()\n",
    "color = 'tab:red'\n",
    "ax2.set_ylabel('Ratio', color=color)\n",
    "ax2.plot(df_descriptive.Features, df_descriptive['ratio_nan'], color=color, marker='o')\n",
    "ax2.tick_params(axis='y', labelcolor=color)\n",
    "\n",
    "# Title and labels\n",
    "plt.title('Count and Ratio of NaN in groundtruth')\n",
    "plt.xlabel('Feature')\n",
    "plt.xticks(rotation=75)\n",
    "\n",
    "# Display the plot\n",
    "plt.show()"
   ],
   "metadata": {
    "collapsed": false
   }
  },
  {
   "cell_type": "code",
   "execution_count": 91,
   "outputs": [
    {
     "data": {
      "text/plain": "      surname   firstname       occupation        link     age employer  \\\n0     Chardon       Marie             idem       fille      30            \n1    Lhopital  Louis-Jean               sp        chef      67            \n2       Papin       Marie             idem        idem      15     idem   \n3     Lavocat       Marie                        femme                    \n4       Benne  Marguerite                                   78            \n..        ...         ...              ...         ...     ...      ...   \n236  Burlurut  Pétronille  sans profession      épouse  61 ans            \n237    Combey   Alexandre             idem    son fils      39            \n238    Collin  Marguerite             idem      épouse      38     idem   \n239    Dumont     Etienne                         fils                    \n240    Renaut  Antoinette                   belle-mère                    \n\n    birth_date    lob civil_status observation    sex  \n0                                               femme  \n1                                               homme  \n2                                               femme  \n3         1875  Rigny                           femme  \n4                                               femme  \n..         ...    ...          ...         ...    ...  \n236                                             femme  \n237                                             homme  \n238                                             femme  \n239       1900   idem                           homme  \n240       1849  Rigny                           femme  \n\n[241 rows x 11 columns]",
      "text/html": "<div>\n<style scoped>\n    .dataframe tbody tr th:only-of-type {\n        vertical-align: middle;\n    }\n\n    .dataframe tbody tr th {\n        vertical-align: top;\n    }\n\n    .dataframe thead th {\n        text-align: right;\n    }\n</style>\n<table border=\"1\" class=\"dataframe\">\n  <thead>\n    <tr style=\"text-align: right;\">\n      <th></th>\n      <th>surname</th>\n      <th>firstname</th>\n      <th>occupation</th>\n      <th>link</th>\n      <th>age</th>\n      <th>employer</th>\n      <th>birth_date</th>\n      <th>lob</th>\n      <th>civil_status</th>\n      <th>observation</th>\n      <th>sex</th>\n    </tr>\n  </thead>\n  <tbody>\n    <tr>\n      <th>0</th>\n      <td>Chardon</td>\n      <td>Marie</td>\n      <td>idem</td>\n      <td>fille</td>\n      <td>30</td>\n      <td></td>\n      <td></td>\n      <td></td>\n      <td></td>\n      <td></td>\n      <td>femme</td>\n    </tr>\n    <tr>\n      <th>1</th>\n      <td>Lhopital</td>\n      <td>Louis-Jean</td>\n      <td>sp</td>\n      <td>chef</td>\n      <td>67</td>\n      <td></td>\n      <td></td>\n      <td></td>\n      <td></td>\n      <td></td>\n      <td>homme</td>\n    </tr>\n    <tr>\n      <th>2</th>\n      <td>Papin</td>\n      <td>Marie</td>\n      <td>idem</td>\n      <td>idem</td>\n      <td>15</td>\n      <td>idem</td>\n      <td></td>\n      <td></td>\n      <td></td>\n      <td></td>\n      <td>femme</td>\n    </tr>\n    <tr>\n      <th>3</th>\n      <td>Lavocat</td>\n      <td>Marie</td>\n      <td></td>\n      <td>femme</td>\n      <td></td>\n      <td></td>\n      <td>1875</td>\n      <td>Rigny</td>\n      <td></td>\n      <td></td>\n      <td>femme</td>\n    </tr>\n    <tr>\n      <th>4</th>\n      <td>Benne</td>\n      <td>Marguerite</td>\n      <td></td>\n      <td></td>\n      <td>78</td>\n      <td></td>\n      <td></td>\n      <td></td>\n      <td></td>\n      <td></td>\n      <td>femme</td>\n    </tr>\n    <tr>\n      <th>...</th>\n      <td>...</td>\n      <td>...</td>\n      <td>...</td>\n      <td>...</td>\n      <td>...</td>\n      <td>...</td>\n      <td>...</td>\n      <td>...</td>\n      <td>...</td>\n      <td>...</td>\n      <td>...</td>\n    </tr>\n    <tr>\n      <th>236</th>\n      <td>Burlurut</td>\n      <td>Pétronille</td>\n      <td>sans profession</td>\n      <td>épouse</td>\n      <td>61 ans</td>\n      <td></td>\n      <td></td>\n      <td></td>\n      <td></td>\n      <td></td>\n      <td>femme</td>\n    </tr>\n    <tr>\n      <th>237</th>\n      <td>Combey</td>\n      <td>Alexandre</td>\n      <td>idem</td>\n      <td>son fils</td>\n      <td>39</td>\n      <td></td>\n      <td></td>\n      <td></td>\n      <td></td>\n      <td></td>\n      <td>homme</td>\n    </tr>\n    <tr>\n      <th>238</th>\n      <td>Collin</td>\n      <td>Marguerite</td>\n      <td>idem</td>\n      <td>épouse</td>\n      <td>38</td>\n      <td>idem</td>\n      <td></td>\n      <td></td>\n      <td></td>\n      <td></td>\n      <td>femme</td>\n    </tr>\n    <tr>\n      <th>239</th>\n      <td>Dumont</td>\n      <td>Etienne</td>\n      <td></td>\n      <td>fils</td>\n      <td></td>\n      <td></td>\n      <td>1900</td>\n      <td>idem</td>\n      <td></td>\n      <td></td>\n      <td>homme</td>\n    </tr>\n    <tr>\n      <th>240</th>\n      <td>Renaut</td>\n      <td>Antoinette</td>\n      <td></td>\n      <td>belle-mère</td>\n      <td></td>\n      <td></td>\n      <td>1849</td>\n      <td>Rigny</td>\n      <td></td>\n      <td></td>\n      <td>femme</td>\n    </tr>\n  </tbody>\n</table>\n<p>241 rows × 11 columns</p>\n</div>"
     },
     "execution_count": 91,
     "metadata": {},
     "output_type": "execute_result"
    }
   ],
   "source": [
    "df_copy"
   ],
   "metadata": {
    "collapsed": false
   }
  },
  {
   "cell_type": "code",
   "execution_count": 64,
   "outputs": [
    {
     "data": {
      "text/plain": "                             subject_line  \\\n0    ebb26ada-044c-4c62-9dbc-a9c8d505d31c   \n1    338496f5-e4ca-43ac-aa5c-429cb3f6ac00   \n2    e6a279da-9b6f-4f49-b498-64857bc50d1e   \n3    7534deca-39e8-4f00-be17-c12460015de1   \n4    ef334a66-a504-418a-9872-e7c9db923488   \n..                                    ...   \n236  1d92738a-cffe-4aee-ab10-db04c37f7405   \n237  09440055-7972-4135-a537-e6c5a1f2aeb2   \n238  4d387278-12c3-410c-bdf0-c5c603479764   \n239  623b95de-f87c-4844-a7f7-361088eed83a   \n240  26d7839c-16a1-486e-9736-83e500fb72e5   \n\n                                           groundtruth  \\\n0    surname: Chardon firstname: Marie occupation: ...   \n1    surname: Lhopital firstname: Louis-Jean occupa...   \n2    surname: Papin firstname: Marie occupation: id...   \n3    surname: Lavocat firstname: Marie link: femme ...   \n4        surname: Benne firstname: Marguerite age: 78    \n..                                                 ...   \n236  surname: Burlurut firstname: Pétronille occupa...   \n237  surname: Combey firstname: Alexandre occupatio...   \n238  surname: Collin firstname: Marguerite occupati...   \n239  surname: Dumont firstname: Etienne link: fils ...   \n240  surname: Renaut firstname: Antoinette link: be...   \n\n                                            prediction    sex  \\\n0    nom: Chardon prénom: Marie date_naissance: 30 ...  femme   \n1    nom: Lhopital prénom: Louis Jean date_naissanc...  homme   \n2    nom: Pyrin prénom: Marie date_naissance: 55 re...  femme   \n3    nom: Lavocat prénom: Marie date_naissance: 187...  femme   \n4    nom: Benne prénom: Marguerite date_naissance: ...  femme   \n..                                                 ...    ...   \n236  nom: Burlurut prénom: Gihromille date_naissanc...  femme   \n237  nom: Comberf prénom: Alexandre date_naissance:...  homme   \n238  nom: Collin prénom: Marguerite date_naissance:...  femme   \n239  nom: Dumont prénom: Etienne date_naissance: 19...  homme   \n240  nom: Renaut prénom: Antoinette date_naissance:...  femme   \n\n     groundtruth_length  prediction_length  \n0                    71                 65  \n1                    74                 88  \n2                    83                 56  \n3                    74                 86  \n4                    45                 82  \n..                  ...                ...  \n236                  93                 95  \n237                  77                100  \n238                  91                 87  \n239                  73                 69  \n240                  83                 96  \n\n[241 rows x 6 columns]",
      "text/html": "<div>\n<style scoped>\n    .dataframe tbody tr th:only-of-type {\n        vertical-align: middle;\n    }\n\n    .dataframe tbody tr th {\n        vertical-align: top;\n    }\n\n    .dataframe thead th {\n        text-align: right;\n    }\n</style>\n<table border=\"1\" class=\"dataframe\">\n  <thead>\n    <tr style=\"text-align: right;\">\n      <th></th>\n      <th>subject_line</th>\n      <th>groundtruth</th>\n      <th>prediction</th>\n      <th>sex</th>\n      <th>groundtruth_length</th>\n      <th>prediction_length</th>\n    </tr>\n  </thead>\n  <tbody>\n    <tr>\n      <th>0</th>\n      <td>ebb26ada-044c-4c62-9dbc-a9c8d505d31c</td>\n      <td>surname: Chardon firstname: Marie occupation: ...</td>\n      <td>nom: Chardon prénom: Marie date_naissance: 30 ...</td>\n      <td>femme</td>\n      <td>71</td>\n      <td>65</td>\n    </tr>\n    <tr>\n      <th>1</th>\n      <td>338496f5-e4ca-43ac-aa5c-429cb3f6ac00</td>\n      <td>surname: Lhopital firstname: Louis-Jean occupa...</td>\n      <td>nom: Lhopital prénom: Louis Jean date_naissanc...</td>\n      <td>homme</td>\n      <td>74</td>\n      <td>88</td>\n    </tr>\n    <tr>\n      <th>2</th>\n      <td>e6a279da-9b6f-4f49-b498-64857bc50d1e</td>\n      <td>surname: Papin firstname: Marie occupation: id...</td>\n      <td>nom: Pyrin prénom: Marie date_naissance: 55 re...</td>\n      <td>femme</td>\n      <td>83</td>\n      <td>56</td>\n    </tr>\n    <tr>\n      <th>3</th>\n      <td>7534deca-39e8-4f00-be17-c12460015de1</td>\n      <td>surname: Lavocat firstname: Marie link: femme ...</td>\n      <td>nom: Lavocat prénom: Marie date_naissance: 187...</td>\n      <td>femme</td>\n      <td>74</td>\n      <td>86</td>\n    </tr>\n    <tr>\n      <th>4</th>\n      <td>ef334a66-a504-418a-9872-e7c9db923488</td>\n      <td>surname: Benne firstname: Marguerite age: 78</td>\n      <td>nom: Benne prénom: Marguerite date_naissance: ...</td>\n      <td>femme</td>\n      <td>45</td>\n      <td>82</td>\n    </tr>\n    <tr>\n      <th>...</th>\n      <td>...</td>\n      <td>...</td>\n      <td>...</td>\n      <td>...</td>\n      <td>...</td>\n      <td>...</td>\n    </tr>\n    <tr>\n      <th>236</th>\n      <td>1d92738a-cffe-4aee-ab10-db04c37f7405</td>\n      <td>surname: Burlurut firstname: Pétronille occupa...</td>\n      <td>nom: Burlurut prénom: Gihromille date_naissanc...</td>\n      <td>femme</td>\n      <td>93</td>\n      <td>95</td>\n    </tr>\n    <tr>\n      <th>237</th>\n      <td>09440055-7972-4135-a537-e6c5a1f2aeb2</td>\n      <td>surname: Combey firstname: Alexandre occupatio...</td>\n      <td>nom: Comberf prénom: Alexandre date_naissance:...</td>\n      <td>homme</td>\n      <td>77</td>\n      <td>100</td>\n    </tr>\n    <tr>\n      <th>238</th>\n      <td>4d387278-12c3-410c-bdf0-c5c603479764</td>\n      <td>surname: Collin firstname: Marguerite occupati...</td>\n      <td>nom: Collin prénom: Marguerite date_naissance:...</td>\n      <td>femme</td>\n      <td>91</td>\n      <td>87</td>\n    </tr>\n    <tr>\n      <th>239</th>\n      <td>623b95de-f87c-4844-a7f7-361088eed83a</td>\n      <td>surname: Dumont firstname: Etienne link: fils ...</td>\n      <td>nom: Dumont prénom: Etienne date_naissance: 19...</td>\n      <td>homme</td>\n      <td>73</td>\n      <td>69</td>\n    </tr>\n    <tr>\n      <th>240</th>\n      <td>26d7839c-16a1-486e-9736-83e500fb72e5</td>\n      <td>surname: Renaut firstname: Antoinette link: be...</td>\n      <td>nom: Renaut prénom: Antoinette date_naissance:...</td>\n      <td>femme</td>\n      <td>83</td>\n      <td>96</td>\n    </tr>\n  </tbody>\n</table>\n<p>241 rows × 6 columns</p>\n</div>"
     },
     "execution_count": 64,
     "metadata": {},
     "output_type": "execute_result"
    }
   ],
   "source": [
    "transcriptions_with_sex"
   ],
   "metadata": {
    "collapsed": false
   }
  },
  {
   "cell_type": "markdown",
   "source": [
    "#### Transcriptions Descriptive Analysis"
   ],
   "metadata": {
    "collapsed": false
   }
  },
  {
   "cell_type": "code",
   "execution_count": 40,
   "outputs": [
    {
     "data": {
      "text/plain": "homme     125\nfemme     107\nambigu      9\nName: sex, dtype: int64"
     },
     "execution_count": 40,
     "metadata": {},
     "output_type": "execute_result"
    }
   ],
   "source": [
    "df.sex.value_counts()"
   ],
   "metadata": {
    "collapsed": false
   }
  },
  {
   "cell_type": "code",
   "execution_count": 113,
   "outputs": [
    {
     "data": {
      "text/plain": "<Figure size 432x288 with 2 Axes>",
      "image/png": "[encoded data removed]"
     },
     "metadata": {
      "needs_background": "light"
     },
     "output_type": "display_data"
    }
   ],
   "source": [
    "import matplotlib.pyplot as plt\n",
    "import numpy as np\n",
    "\n",
    "# Data\n",
    "sex = ['homme', 'femme', 'ambigu']\n",
    "counts = [125, 107, 9]\n",
    "\n",
    "# Calculate total count\n",
    "total_count = sum(counts)\n",
    "\n",
    "# Calculate percentages\n",
    "percentages = [(count / total_count) * 100 for count in counts]\n",
    "\n",
    "# Create figure and axes\n",
    "fig, ax1 = plt.subplots()\n",
    "\n",
    "# Create bar plot for counts\n",
    "color = 'black'\n",
    "ax1.bar(sex, counts, color=np.linspace(0, 1, len(sex)), edgecolor=color)\n",
    "ax1.set_xlabel('Sex')\n",
    "ax1.set_ylabel('#', color=color)\n",
    "ax1.tick_params(axis='y', labelcolor=color)\n",
    "\n",
    "# Create twin axes for percentages\n",
    "ax2 = ax1.twinx()\n",
    "color = 'black'\n",
    "ax2.bar(sex, percentages, color=np.linspace(0, 1, len(sex)), alpha=0.5, edgecolor=color)\n",
    "ax2.set_ylabel('Percentage (%)', color=color)\n",
    "ax2.tick_params(axis='y', labelcolor=color)\n",
    "\n",
    "# Adding title\n",
    "plt.title('Sex Distribution in groundtruth in # and %')\n",
    "\n",
    "# Show plot\n",
    "plt.show()"
   ],
   "metadata": {
    "collapsed": false
   }
  },
  {
   "cell_type": "code",
   "execution_count": 49,
   "outputs": [
    {
     "name": "stdout",
     "output_type": "stream",
     "text": [
      "       groundtruth_length  prediction_length\n",
      "count          241.000000         241.000000\n",
      "mean            80.435685          88.099585\n",
      "std             17.058142          20.820424\n",
      "min             43.000000          43.000000\n",
      "25%             71.000000          73.000000\n",
      "50%             76.000000          85.000000\n",
      "75%             86.000000          97.000000\n",
      "max            144.000000         168.000000\n"
     ]
    },
    {
     "data": {
      "text/plain": "<Figure size 576x360 with 1 Axes>",
      "image/png": "[encoded data removed]"
     },
     "metadata": {
      "needs_background": "light"
     },
     "output_type": "display_data"
    }
   ],
   "source": [
    "# Calculate the length of text in 'groundtruth' and 'prediction'\n",
    "transcriptions_with_sex['groundtruth_length'] = transcriptions_with_sex['groundtruth'].apply(len)\n",
    "transcriptions_with_sex['prediction_length'] = transcriptions_with_sex['prediction'].apply(len)\n",
    "\n",
    "# Descriptive statistics for text lengths\n",
    "print(transcriptions_with_sex[['groundtruth_length', 'prediction_length']].describe())\n",
    "\n",
    "# Visualize the distribution of text lengths\n",
    "plt.figure(figsize=(8, 5))\n",
    "plt.hist(transcriptions_with_sex['groundtruth_length'], bins=20, alpha=0.5, label='Groundtruth Length')\n",
    "plt.hist(transcriptions_with_sex['prediction_length'], bins=20, alpha=0.5, label='Prediction Length')\n",
    "plt.title('Distribution of Text Lengths in Groundtruth and Prediction')\n",
    "plt.xlabel('Length of Text')\n",
    "plt.ylabel('Frequency')\n",
    "plt.legend()\n",
    "plt.show()"
   ],
   "metadata": {
    "collapsed": false
   }
  },
  {
   "cell_type": "markdown",
   "source": [
    "### First models"
   ],
   "metadata": {
    "collapsed": false
   }
  },
  {
   "cell_type": "markdown",
   "source": [
    "#### Text models"
   ],
   "metadata": {
    "collapsed": false
   }
  },
  {
   "cell_type": "code",
   "execution_count": 118,
   "outputs": [
    {
     "data": {
      "text/plain": "     firstname     male   female     ratio  total_count\n0        marie    10145  2390322  0.004226      2400467\n1         jean  1869615     6476  0.996548      1876091\n2       pierre  1475841     5047  0.996592      1480888\n3       jeanne     1765  1097397  0.001606      1099162\n4     françois  1089009     5951  0.994565      1094960\n...        ...      ...      ...       ...          ...\n6941   winnocq       10        0  1.000000           10\n6942     xyste        9        1  0.900000           10\n6943      zara        0       10  0.000000           10\n6944  zéraphin       10        0  1.000000           10\n6945     zimle        0       10  0.000000           10\n\n[6946 rows x 5 columns]",
      "text/html": "<div>\n<style scoped>\n    .dataframe tbody tr th:only-of-type {\n        vertical-align: middle;\n    }\n\n    .dataframe tbody tr th {\n        vertical-align: top;\n    }\n\n    .dataframe thead th {\n        text-align: right;\n    }\n</style>\n<table border=\"1\" class=\"dataframe\">\n  <thead>\n    <tr style=\"text-align: right;\">\n      <th></th>\n      <th>firstname</th>\n      <th>male</th>\n      <th>female</th>\n      <th>ratio</th>\n      <th>total_count</th>\n    </tr>\n  </thead>\n  <tbody>\n    <tr>\n      <th>0</th>\n      <td>marie</td>\n      <td>10145</td>\n      <td>2390322</td>\n      <td>0.004226</td>\n      <td>2400467</td>\n    </tr>\n    <tr>\n      <th>1</th>\n      <td>jean</td>\n      <td>1869615</td>\n      <td>6476</td>\n      <td>0.996548</td>\n      <td>1876091</td>\n    </tr>\n    <tr>\n      <th>2</th>\n      <td>pierre</td>\n      <td>1475841</td>\n      <td>5047</td>\n      <td>0.996592</td>\n      <td>1480888</td>\n    </tr>\n    <tr>\n      <th>3</th>\n      <td>jeanne</td>\n      <td>1765</td>\n      <td>1097397</td>\n      <td>0.001606</td>\n      <td>1099162</td>\n    </tr>\n    <tr>\n      <th>4</th>\n      <td>françois</td>\n      <td>1089009</td>\n      <td>5951</td>\n      <td>0.994565</td>\n      <td>1094960</td>\n    </tr>\n    <tr>\n      <th>...</th>\n      <td>...</td>\n      <td>...</td>\n      <td>...</td>\n      <td>...</td>\n      <td>...</td>\n    </tr>\n    <tr>\n      <th>6941</th>\n      <td>winnocq</td>\n      <td>10</td>\n      <td>0</td>\n      <td>1.000000</td>\n      <td>10</td>\n    </tr>\n    <tr>\n      <th>6942</th>\n      <td>xyste</td>\n      <td>9</td>\n      <td>1</td>\n      <td>0.900000</td>\n      <td>10</td>\n    </tr>\n    <tr>\n      <th>6943</th>\n      <td>zara</td>\n      <td>0</td>\n      <td>10</td>\n      <td>0.000000</td>\n      <td>10</td>\n    </tr>\n    <tr>\n      <th>6944</th>\n      <td>zéraphin</td>\n      <td>10</td>\n      <td>0</td>\n      <td>1.000000</td>\n      <td>10</td>\n    </tr>\n    <tr>\n      <th>6945</th>\n      <td>zimle</td>\n      <td>0</td>\n      <td>10</td>\n      <td>0.000000</td>\n      <td>10</td>\n    </tr>\n  </tbody>\n</table>\n<p>6946 rows × 5 columns</p>\n</div>"
     },
     "execution_count": 118,
     "metadata": {},
     "output_type": "execute_result"
    }
   ],
   "source": [
    "firstname_with_sex"
   ],
   "metadata": {
    "collapsed": false
   }
  },
  {
   "cell_type": "code",
   "execution_count": 192,
   "outputs": [
    {
     "data": {
      "text/plain": "      surname   firstname       occupation        link     age employer  \\\n0     Chardon       Marie             idem       fille      30            \n1    Lhopital  Louis-Jean               sp        chef      67            \n2       Papin       Marie             idem        idem      15     idem   \n3     Lavocat       Marie                        femme                    \n4       Benne  Marguerite                                   78            \n..        ...         ...              ...         ...     ...      ...   \n236  Burlurut  Pétronille  sans profession      épouse  61 ans            \n237    Combey   Alexandre             idem    son fils      39            \n238    Collin  Marguerite             idem      épouse      38     idem   \n239    Dumont     Etienne                         fils                    \n240    Renaut  Antoinette                   belle-mère                    \n\n    birth_date    lob civil_status observation    sex  \n0                                               femme  \n1                                               homme  \n2                                               femme  \n3         1875  Rigny                           femme  \n4                                               femme  \n..         ...    ...          ...         ...    ...  \n236                                             femme  \n237                                             homme  \n238                                             femme  \n239       1900   idem                           homme  \n240       1849  Rigny                           femme  \n\n[241 rows x 11 columns]",
      "text/html": "<div>\n<style scoped>\n    .dataframe tbody tr th:only-of-type {\n        vertical-align: middle;\n    }\n\n    .dataframe tbody tr th {\n        vertical-align: top;\n    }\n\n    .dataframe thead th {\n        text-align: right;\n    }\n</style>\n<table border=\"1\" class=\"dataframe\">\n  <thead>\n    <tr style=\"text-align: right;\">\n      <th></th>\n      <th>surname</th>\n      <th>firstname</th>\n      <th>occupation</th>\n      <th>link</th>\n      <th>age</th>\n      <th>employer</th>\n      <th>birth_date</th>\n      <th>lob</th>\n      <th>civil_status</th>\n      <th>observation</th>\n      <th>sex</th>\n    </tr>\n  </thead>\n  <tbody>\n    <tr>\n      <th>0</th>\n      <td>Chardon</td>\n      <td>Marie</td>\n      <td>idem</td>\n      <td>fille</td>\n      <td>30</td>\n      <td></td>\n      <td></td>\n      <td></td>\n      <td></td>\n      <td></td>\n      <td>femme</td>\n    </tr>\n    <tr>\n      <th>1</th>\n      <td>Lhopital</td>\n      <td>Louis-Jean</td>\n      <td>sp</td>\n      <td>chef</td>\n      <td>67</td>\n      <td></td>\n      <td></td>\n      <td></td>\n      <td></td>\n      <td></td>\n      <td>homme</td>\n    </tr>\n    <tr>\n      <th>2</th>\n      <td>Papin</td>\n      <td>Marie</td>\n      <td>idem</td>\n      <td>idem</td>\n      <td>15</td>\n      <td>idem</td>\n      <td></td>\n      <td></td>\n      <td></td>\n      <td></td>\n      <td>femme</td>\n    </tr>\n    <tr>\n      <th>3</th>\n      <td>Lavocat</td>\n      <td>Marie</td>\n      <td></td>\n      <td>femme</td>\n      <td></td>\n      <td></td>\n      <td>1875</td>\n      <td>Rigny</td>\n      <td></td>\n      <td></td>\n      <td>femme</td>\n    </tr>\n    <tr>\n      <th>4</th>\n      <td>Benne</td>\n      <td>Marguerite</td>\n      <td></td>\n      <td></td>\n      <td>78</td>\n      <td></td>\n      <td></td>\n      <td></td>\n      <td></td>\n      <td></td>\n      <td>femme</td>\n    </tr>\n    <tr>\n      <th>...</th>\n      <td>...</td>\n      <td>...</td>\n      <td>...</td>\n      <td>...</td>\n      <td>...</td>\n      <td>...</td>\n      <td>...</td>\n      <td>...</td>\n      <td>...</td>\n      <td>...</td>\n      <td>...</td>\n    </tr>\n    <tr>\n      <th>236</th>\n      <td>Burlurut</td>\n      <td>Pétronille</td>\n      <td>sans profession</td>\n      <td>épouse</td>\n      <td>61 ans</td>\n      <td></td>\n      <td></td>\n      <td></td>\n      <td></td>\n      <td></td>\n      <td>femme</td>\n    </tr>\n    <tr>\n      <th>237</th>\n      <td>Combey</td>\n      <td>Alexandre</td>\n      <td>idem</td>\n      <td>son fils</td>\n      <td>39</td>\n      <td></td>\n      <td></td>\n      <td></td>\n      <td></td>\n      <td></td>\n      <td>homme</td>\n    </tr>\n    <tr>\n      <th>238</th>\n      <td>Collin</td>\n      <td>Marguerite</td>\n      <td>idem</td>\n      <td>épouse</td>\n      <td>38</td>\n      <td>idem</td>\n      <td></td>\n      <td></td>\n      <td></td>\n      <td></td>\n      <td>femme</td>\n    </tr>\n    <tr>\n      <th>239</th>\n      <td>Dumont</td>\n      <td>Etienne</td>\n      <td></td>\n      <td>fils</td>\n      <td></td>\n      <td></td>\n      <td>1900</td>\n      <td>idem</td>\n      <td></td>\n      <td></td>\n      <td>homme</td>\n    </tr>\n    <tr>\n      <th>240</th>\n      <td>Renaut</td>\n      <td>Antoinette</td>\n      <td></td>\n      <td>belle-mère</td>\n      <td></td>\n      <td></td>\n      <td>1849</td>\n      <td>Rigny</td>\n      <td></td>\n      <td></td>\n      <td>femme</td>\n    </tr>\n  </tbody>\n</table>\n<p>241 rows × 11 columns</p>\n</div>"
     },
     "execution_count": 192,
     "metadata": {},
     "output_type": "execute_result"
    }
   ],
   "source": [
    "df_copy"
   ],
   "metadata": {
    "collapsed": false
   }
  },
  {
   "cell_type": "code",
   "execution_count": 190,
   "outputs": [],
   "source": [
    "# Function to determine predicted sex\n",
    "def predict_sex(row):\n",
    "    firstname = row['firstname'].lower()\n",
    "    match = firstname_with_sex[firstname_with_sex['firstname'] == firstname]\n",
    "    if len(match) > 0:\n",
    "        if match['male'].iloc[0] > match['female'].iloc[0]:\n",
    "            return 'homme'\n",
    "        else:\n",
    "            return 'femme'\n",
    "    else:\n",
    "        return None"
   ],
   "metadata": {
    "collapsed": false
   }
  },
  {
   "cell_type": "code",
   "execution_count": 193,
   "outputs": [
    {
     "data": {
      "text/plain": "      surname   firstname       occupation        link     age employer  \\\n0     Chardon       Marie             idem       fille      30            \n1    Lhopital  Louis-Jean               sp        chef      67            \n2       Papin       Marie             idem        idem      15     idem   \n3     Lavocat       Marie                        femme                    \n4       Benne  Marguerite                                   78            \n..        ...         ...              ...         ...     ...      ...   \n236  Burlurut  Pétronille  sans profession      épouse  61 ans            \n237    Combey   Alexandre             idem    son fils      39            \n238    Collin  Marguerite             idem      épouse      38     idem   \n239    Dumont     Etienne                         fils                    \n240    Renaut  Antoinette                   belle-mère                    \n\n    birth_date    lob civil_status observation    sex pred_sex  \n0                                               femme    femme  \n1                                               homme     None  \n2                                               femme    femme  \n3         1875  Rigny                           femme    femme  \n4                                               femme    femme  \n..         ...    ...          ...         ...    ...      ...  \n236                                             femme    femme  \n237                                             homme    homme  \n238                                             femme    femme  \n239       1900   idem                           homme    homme  \n240       1849  Rigny                           femme    femme  \n\n[241 rows x 12 columns]",
      "text/html": "<div>\n<style scoped>\n    .dataframe tbody tr th:only-of-type {\n        vertical-align: middle;\n    }\n\n    .dataframe tbody tr th {\n        vertical-align: top;\n    }\n\n    .dataframe thead th {\n        text-align: right;\n    }\n</style>\n<table border=\"1\" class=\"dataframe\">\n  <thead>\n    <tr style=\"text-align: right;\">\n      <th></th>\n      <th>surname</th>\n      <th>firstname</th>\n      <th>occupation</th>\n      <th>link</th>\n      <th>age</th>\n      <th>employer</th>\n      <th>birth_date</th>\n      <th>lob</th>\n      <th>civil_status</th>\n      <th>observation</th>\n      <th>sex</th>\n      <th>pred_sex</th>\n    </tr>\n  </thead>\n  <tbody>\n    <tr>\n      <th>0</th>\n      <td>Chardon</td>\n      <td>Marie</td>\n      <td>idem</td>\n      <td>fille</td>\n      <td>30</td>\n      <td></td>\n      <td></td>\n      <td></td>\n      <td></td>\n      <td></td>\n      <td>femme</td>\n      <td>femme</td>\n    </tr>\n    <tr>\n      <th>1</th>\n      <td>Lhopital</td>\n      <td>Louis-Jean</td>\n      <td>sp</td>\n      <td>chef</td>\n      <td>67</td>\n      <td></td>\n      <td></td>\n      <td></td>\n      <td></td>\n      <td></td>\n      <td>homme</td>\n      <td>None</td>\n    </tr>\n    <tr>\n      <th>2</th>\n      <td>Papin</td>\n      <td>Marie</td>\n      <td>idem</td>\n      <td>idem</td>\n      <td>15</td>\n      <td>idem</td>\n      <td></td>\n      <td></td>\n      <td></td>\n      <td></td>\n      <td>femme</td>\n      <td>femme</td>\n    </tr>\n    <tr>\n      <th>3</th>\n      <td>Lavocat</td>\n      <td>Marie</td>\n      <td></td>\n      <td>femme</td>\n      <td></td>\n      <td></td>\n      <td>1875</td>\n      <td>Rigny</td>\n      <td></td>\n      <td></td>\n      <td>femme</td>\n      <td>femme</td>\n    </tr>\n    <tr>\n      <th>4</th>\n      <td>Benne</td>\n      <td>Marguerite</td>\n      <td></td>\n      <td></td>\n      <td>78</td>\n      <td></td>\n      <td></td>\n      <td></td>\n      <td></td>\n      <td></td>\n      <td>femme</td>\n      <td>femme</td>\n    </tr>\n    <tr>\n      <th>...</th>\n      <td>...</td>\n      <td>...</td>\n      <td>...</td>\n      <td>...</td>\n      <td>...</td>\n      <td>...</td>\n      <td>...</td>\n      <td>...</td>\n      <td>...</td>\n      <td>...</td>\n      <td>...</td>\n      <td>...</td>\n    </tr>\n    <tr>\n      <th>236</th>\n      <td>Burlurut</td>\n      <td>Pétronille</td>\n      <td>sans profession</td>\n      <td>épouse</td>\n      <td>61 ans</td>\n      <td></td>\n      <td></td>\n      <td></td>\n      <td></td>\n      <td></td>\n      <td>femme</td>\n      <td>femme</td>\n    </tr>\n    <tr>\n      <th>237</th>\n      <td>Combey</td>\n      <td>Alexandre</td>\n      <td>idem</td>\n      <td>son fils</td>\n      <td>39</td>\n      <td></td>\n      <td></td>\n      <td></td>\n      <td></td>\n      <td></td>\n      <td>homme</td>\n      <td>homme</td>\n    </tr>\n    <tr>\n      <th>238</th>\n      <td>Collin</td>\n      <td>Marguerite</td>\n      <td>idem</td>\n      <td>épouse</td>\n      <td>38</td>\n      <td>idem</td>\n      <td></td>\n      <td></td>\n      <td></td>\n      <td></td>\n      <td>femme</td>\n      <td>femme</td>\n    </tr>\n    <tr>\n      <th>239</th>\n      <td>Dumont</td>\n      <td>Etienne</td>\n      <td></td>\n      <td>fils</td>\n      <td></td>\n      <td></td>\n      <td>1900</td>\n      <td>idem</td>\n      <td></td>\n      <td></td>\n      <td>homme</td>\n      <td>homme</td>\n    </tr>\n    <tr>\n      <th>240</th>\n      <td>Renaut</td>\n      <td>Antoinette</td>\n      <td></td>\n      <td>belle-mère</td>\n      <td></td>\n      <td></td>\n      <td>1849</td>\n      <td>Rigny</td>\n      <td></td>\n      <td></td>\n      <td>femme</td>\n      <td>femme</td>\n    </tr>\n  </tbody>\n</table>\n<p>241 rows × 12 columns</p>\n</div>"
     },
     "execution_count": 193,
     "metadata": {},
     "output_type": "execute_result"
    }
   ],
   "source": [
    "# Apply function to create 'pred_sex' column\n",
    "df_copy['pred_sex'] = df_copy.apply(predict_sex, axis=1)\n",
    "\n",
    "df_copy"
   ],
   "metadata": {
    "collapsed": false
   }
  },
  {
   "cell_type": "code",
   "execution_count": 195,
   "outputs": [
    {
     "name": "stdout",
     "output_type": "stream",
     "text": [
      "Accuracy: 0.9128630705394191\n"
     ]
    }
   ],
   "source": [
    "#df_copy['pred_sex'] = df_copy.apply(predict_sex, axis=1)\n",
    "correct_predictions = (df_copy['pred_sex'] == df_copy['sex']).sum()\n",
    "total_predictions = len(df_copy)\n",
    "accuracy = correct_predictions / total_predictions\n",
    "\n",
    "print(\"Accuracy:\", accuracy)"
   ],
   "metadata": {
    "collapsed": false
   }
  },
  {
   "cell_type": "code",
   "execution_count": 185,
   "outputs": [
    {
     "name": "stdout",
     "output_type": "stream",
     "text": [
      "<class 'pandas.core.frame.DataFrame'>\n",
      "RangeIndex: 241 entries, 0 to 240\n",
      "Data columns (total 14 columns):\n",
      " #   Column            Non-Null Count  Dtype \n",
      "---  ------            --------------  ----- \n",
      " 0   surname           240 non-null    object\n",
      " 1   firstname         240 non-null    object\n",
      " 2   occupation        199 non-null    object\n",
      " 3   link              230 non-null    object\n",
      " 4   age               198 non-null    object\n",
      " 5   employer          49 non-null     object\n",
      " 6   birth_date        47 non-null     object\n",
      " 7   lob               35 non-null     object\n",
      " 8   civil_status      3 non-null      object\n",
      " 9   observation       1 non-null      object\n",
      " 10  sex               241 non-null    object\n",
      " 11  combined          241 non-null    object\n",
      " 12  predicted_gender  241 non-null    object\n",
      " 13  name_found        241 non-null    bool  \n",
      "dtypes: bool(1), object(13)\n",
      "memory usage: 24.8+ KB\n"
     ]
    }
   ],
   "source": [
    "df.info()"
   ],
   "metadata": {
    "collapsed": false
   }
  },
  {
   "cell_type": "code",
   "execution_count": 197,
   "outputs": [
    {
     "data": {
      "text/plain": "      surname   firstname       occupation        link     age employer  \\\n0     Chardon       Marie             idem       fille      30      NaN   \n1    Lhopital  Louis-Jean               sp        chef      67      NaN   \n2       Papin       Marie             idem        idem      15     idem   \n3     Lavocat       Marie              NaN       femme     NaN      NaN   \n4       Benne  Marguerite              NaN         NaN      78      NaN   \n..        ...         ...              ...         ...     ...      ...   \n236  Burlurut  Pétronille  sans profession      épouse  61 ans      NaN   \n237    Combey   Alexandre             idem    son fils      39      NaN   \n238    Collin  Marguerite             idem      épouse      38     idem   \n239    Dumont     Etienne              NaN        fils     NaN      NaN   \n240    Renaut  Antoinette              NaN  belle-mère     NaN      NaN   \n\n    birth_date    lob civil_status observation  \n0          NaN    NaN          NaN         NaN  \n1          NaN    NaN          NaN         NaN  \n2          NaN    NaN          NaN         NaN  \n3         1875  Rigny          NaN         NaN  \n4          NaN    NaN          NaN         NaN  \n..         ...    ...          ...         ...  \n236        NaN    NaN          NaN         NaN  \n237        NaN    NaN          NaN         NaN  \n238        NaN    NaN          NaN         NaN  \n239       1900   idem          NaN         NaN  \n240       1849  Rigny          NaN         NaN  \n\n[241 rows x 10 columns]",
      "text/html": "<div>\n<style scoped>\n    .dataframe tbody tr th:only-of-type {\n        vertical-align: middle;\n    }\n\n    .dataframe tbody tr th {\n        vertical-align: top;\n    }\n\n    .dataframe thead th {\n        text-align: right;\n    }\n</style>\n<table border=\"1\" class=\"dataframe\">\n  <thead>\n    <tr style=\"text-align: right;\">\n      <th></th>\n      <th>surname</th>\n      <th>firstname</th>\n      <th>occupation</th>\n      <th>link</th>\n      <th>age</th>\n      <th>employer</th>\n      <th>birth_date</th>\n      <th>lob</th>\n      <th>civil_status</th>\n      <th>observation</th>\n    </tr>\n  </thead>\n  <tbody>\n    <tr>\n      <th>0</th>\n      <td>Chardon</td>\n      <td>Marie</td>\n      <td>idem</td>\n      <td>fille</td>\n      <td>30</td>\n      <td>NaN</td>\n      <td>NaN</td>\n      <td>NaN</td>\n      <td>NaN</td>\n      <td>NaN</td>\n    </tr>\n    <tr>\n      <th>1</th>\n      <td>Lhopital</td>\n      <td>Louis-Jean</td>\n      <td>sp</td>\n      <td>chef</td>\n      <td>67</td>\n      <td>NaN</td>\n      <td>NaN</td>\n      <td>NaN</td>\n      <td>NaN</td>\n      <td>NaN</td>\n    </tr>\n    <tr>\n      <th>2</th>\n      <td>Papin</td>\n      <td>Marie</td>\n      <td>idem</td>\n      <td>idem</td>\n      <td>15</td>\n      <td>idem</td>\n      <td>NaN</td>\n      <td>NaN</td>\n      <td>NaN</td>\n      <td>NaN</td>\n    </tr>\n    <tr>\n      <th>3</th>\n      <td>Lavocat</td>\n      <td>Marie</td>\n      <td>NaN</td>\n      <td>femme</td>\n      <td>NaN</td>\n      <td>NaN</td>\n      <td>1875</td>\n      <td>Rigny</td>\n      <td>NaN</td>\n      <td>NaN</td>\n    </tr>\n    <tr>\n      <th>4</th>\n      <td>Benne</td>\n      <td>Marguerite</td>\n      <td>NaN</td>\n      <td>NaN</td>\n      <td>78</td>\n      <td>NaN</td>\n      <td>NaN</td>\n      <td>NaN</td>\n      <td>NaN</td>\n      <td>NaN</td>\n    </tr>\n    <tr>\n      <th>...</th>\n      <td>...</td>\n      <td>...</td>\n      <td>...</td>\n      <td>...</td>\n      <td>...</td>\n      <td>...</td>\n      <td>...</td>\n      <td>...</td>\n      <td>...</td>\n      <td>...</td>\n    </tr>\n    <tr>\n      <th>236</th>\n      <td>Burlurut</td>\n      <td>Pétronille</td>\n      <td>sans profession</td>\n      <td>épouse</td>\n      <td>61 ans</td>\n      <td>NaN</td>\n      <td>NaN</td>\n      <td>NaN</td>\n      <td>NaN</td>\n      <td>NaN</td>\n    </tr>\n    <tr>\n      <th>237</th>\n      <td>Combey</td>\n      <td>Alexandre</td>\n      <td>idem</td>\n      <td>son fils</td>\n      <td>39</td>\n      <td>NaN</td>\n      <td>NaN</td>\n      <td>NaN</td>\n      <td>NaN</td>\n      <td>NaN</td>\n    </tr>\n    <tr>\n      <th>238</th>\n      <td>Collin</td>\n      <td>Marguerite</td>\n      <td>idem</td>\n      <td>épouse</td>\n      <td>38</td>\n      <td>idem</td>\n      <td>NaN</td>\n      <td>NaN</td>\n      <td>NaN</td>\n      <td>NaN</td>\n    </tr>\n    <tr>\n      <th>239</th>\n      <td>Dumont</td>\n      <td>Etienne</td>\n      <td>NaN</td>\n      <td>fils</td>\n      <td>NaN</td>\n      <td>NaN</td>\n      <td>1900</td>\n      <td>idem</td>\n      <td>NaN</td>\n      <td>NaN</td>\n    </tr>\n    <tr>\n      <th>240</th>\n      <td>Renaut</td>\n      <td>Antoinette</td>\n      <td>NaN</td>\n      <td>belle-mère</td>\n      <td>NaN</td>\n      <td>NaN</td>\n      <td>1849</td>\n      <td>Rigny</td>\n      <td>NaN</td>\n      <td>NaN</td>\n    </tr>\n  </tbody>\n</table>\n<p>241 rows × 10 columns</p>\n</div>"
     },
     "execution_count": 197,
     "metadata": {},
     "output_type": "execute_result"
    }
   ],
   "source": [
    "df"
   ],
   "metadata": {
    "collapsed": false
   }
  },
  {
   "cell_type": "code",
   "execution_count": 200,
   "outputs": [
    {
     "data": {
      "text/plain": "      surname firstname   occupation    link     age employer birth_date  lob  \\\n17     Daniel    Claude   journalier    chef      33      NaN        NaN  NaN   \n59   Gorbinet    Jeanne         idem    chef      66      NaN        NaN  NaN   \n94    Roumeau    Claude  cultivateur    chef  30 ans      NaN        NaN  NaN   \n123   Chardon     Marie         idem    chef  84 ans      NaN        NaN  NaN   \n124    Grillé     Emile         idem    idem       2     idem        NaN  NaN   \n130    Martin     Marie         idem    idem      45      NaN        NaN  NaN   \n196     Pénot    Claude          s.p  enfant      13      NaN        NaN  NaN   \n204       Coq   Antonie         idem    idem      16     idem        NaN  NaN   \n230   Clayeux    Claude         idem    idem      13     idem        NaN  NaN   \n\n    civil_status observation     sex  \n17           NaN         NaN  ambigu  \n59           NaN         NaN  ambigu  \n94           NaN         NaN  ambigu  \n123          NaN         NaN  ambigu  \n124          NaN         NaN  ambigu  \n130          NaN         NaN  ambigu  \n196          NaN         NaN  ambigu  \n204          NaN         NaN  ambigu  \n230          NaN         NaN  ambigu  ",
      "text/html": "<div>\n<style scoped>\n    .dataframe tbody tr th:only-of-type {\n        vertical-align: middle;\n    }\n\n    .dataframe tbody tr th {\n        vertical-align: top;\n    }\n\n    .dataframe thead th {\n        text-align: right;\n    }\n</style>\n<table border=\"1\" class=\"dataframe\">\n  <thead>\n    <tr style=\"text-align: right;\">\n      <th></th>\n      <th>surname</th>\n      <th>firstname</th>\n      <th>occupation</th>\n      <th>link</th>\n      <th>age</th>\n      <th>employer</th>\n      <th>birth_date</th>\n      <th>lob</th>\n      <th>civil_status</th>\n      <th>observation</th>\n      <th>sex</th>\n    </tr>\n  </thead>\n  <tbody>\n    <tr>\n      <th>17</th>\n      <td>Daniel</td>\n      <td>Claude</td>\n      <td>journalier</td>\n      <td>chef</td>\n      <td>33</td>\n      <td>NaN</td>\n      <td>NaN</td>\n      <td>NaN</td>\n      <td>NaN</td>\n      <td>NaN</td>\n      <td>ambigu</td>\n    </tr>\n    <tr>\n      <th>59</th>\n      <td>Gorbinet</td>\n      <td>Jeanne</td>\n      <td>idem</td>\n      <td>chef</td>\n      <td>66</td>\n      <td>NaN</td>\n      <td>NaN</td>\n      <td>NaN</td>\n      <td>NaN</td>\n      <td>NaN</td>\n      <td>ambigu</td>\n    </tr>\n    <tr>\n      <th>94</th>\n      <td>Roumeau</td>\n      <td>Claude</td>\n      <td>cultivateur</td>\n      <td>chef</td>\n      <td>30 ans</td>\n      <td>NaN</td>\n      <td>NaN</td>\n      <td>NaN</td>\n      <td>NaN</td>\n      <td>NaN</td>\n      <td>ambigu</td>\n    </tr>\n    <tr>\n      <th>123</th>\n      <td>Chardon</td>\n      <td>Marie</td>\n      <td>idem</td>\n      <td>chef</td>\n      <td>84 ans</td>\n      <td>NaN</td>\n      <td>NaN</td>\n      <td>NaN</td>\n      <td>NaN</td>\n      <td>NaN</td>\n      <td>ambigu</td>\n    </tr>\n    <tr>\n      <th>124</th>\n      <td>Grillé</td>\n      <td>Emile</td>\n      <td>idem</td>\n      <td>idem</td>\n      <td>2</td>\n      <td>idem</td>\n      <td>NaN</td>\n      <td>NaN</td>\n      <td>NaN</td>\n      <td>NaN</td>\n      <td>ambigu</td>\n    </tr>\n    <tr>\n      <th>130</th>\n      <td>Martin</td>\n      <td>Marie</td>\n      <td>idem</td>\n      <td>idem</td>\n      <td>45</td>\n      <td>NaN</td>\n      <td>NaN</td>\n      <td>NaN</td>\n      <td>NaN</td>\n      <td>NaN</td>\n      <td>ambigu</td>\n    </tr>\n    <tr>\n      <th>196</th>\n      <td>Pénot</td>\n      <td>Claude</td>\n      <td>s.p</td>\n      <td>enfant</td>\n      <td>13</td>\n      <td>NaN</td>\n      <td>NaN</td>\n      <td>NaN</td>\n      <td>NaN</td>\n      <td>NaN</td>\n      <td>ambigu</td>\n    </tr>\n    <tr>\n      <th>204</th>\n      <td>Coq</td>\n      <td>Antonie</td>\n      <td>idem</td>\n      <td>idem</td>\n      <td>16</td>\n      <td>idem</td>\n      <td>NaN</td>\n      <td>NaN</td>\n      <td>NaN</td>\n      <td>NaN</td>\n      <td>ambigu</td>\n    </tr>\n    <tr>\n      <th>230</th>\n      <td>Clayeux</td>\n      <td>Claude</td>\n      <td>idem</td>\n      <td>idem</td>\n      <td>13</td>\n      <td>idem</td>\n      <td>NaN</td>\n      <td>NaN</td>\n      <td>NaN</td>\n      <td>NaN</td>\n      <td>ambigu</td>\n    </tr>\n  </tbody>\n</table>\n</div>"
     },
     "execution_count": 200,
     "metadata": {},
     "output_type": "execute_result"
    }
   ],
   "source": [
    "df_drop = df.loc[df['sex'] == 'ambigu']\n",
    "df_drop"
   ],
   "metadata": {
    "collapsed": false
   }
  },
  {
   "cell_type": "code",
   "execution_count": 203,
   "outputs": [
    {
     "data": {
      "text/plain": "      surname   firstname       occupation        link     age employer  \\\n0     Chardon       Marie             idem       fille      30      NaN   \n1    Lhopital  Louis-Jean               sp        chef      67      NaN   \n2       Papin       Marie             idem        idem      15     idem   \n3     Lavocat       Marie              NaN       femme     NaN      NaN   \n4       Benne  Marguerite              NaN         NaN      78      NaN   \n..        ...         ...              ...         ...     ...      ...   \n236  Burlurut  Pétronille  sans profession      épouse  61 ans      NaN   \n237    Combey   Alexandre             idem    son fils      39      NaN   \n238    Collin  Marguerite             idem      épouse      38     idem   \n239    Dumont     Etienne              NaN        fils     NaN      NaN   \n240    Renaut  Antoinette              NaN  belle-mère     NaN      NaN   \n\n    birth_date    lob civil_status observation    sex  \n0          NaN    NaN          NaN         NaN  femme  \n1          NaN    NaN          NaN         NaN  homme  \n2          NaN    NaN          NaN         NaN  femme  \n3         1875  Rigny          NaN         NaN  femme  \n4          NaN    NaN          NaN         NaN  femme  \n..         ...    ...          ...         ...    ...  \n236        NaN    NaN          NaN         NaN  femme  \n237        NaN    NaN          NaN         NaN  homme  \n238        NaN    NaN          NaN         NaN  femme  \n239       1900   idem          NaN         NaN  homme  \n240       1849  Rigny          NaN         NaN  femme  \n\n[232 rows x 11 columns]",
      "text/html": "<div>\n<style scoped>\n    .dataframe tbody tr th:only-of-type {\n        vertical-align: middle;\n    }\n\n    .dataframe tbody tr th {\n        vertical-align: top;\n    }\n\n    .dataframe thead th {\n        text-align: right;\n    }\n</style>\n<table border=\"1\" class=\"dataframe\">\n  <thead>\n    <tr style=\"text-align: right;\">\n      <th></th>\n      <th>surname</th>\n      <th>firstname</th>\n      <th>occupation</th>\n      <th>link</th>\n      <th>age</th>\n      <th>employer</th>\n      <th>birth_date</th>\n      <th>lob</th>\n      <th>civil_status</th>\n      <th>observation</th>\n      <th>sex</th>\n    </tr>\n  </thead>\n  <tbody>\n    <tr>\n      <th>0</th>\n      <td>Chardon</td>\n      <td>Marie</td>\n      <td>idem</td>\n      <td>fille</td>\n      <td>30</td>\n      <td>NaN</td>\n      <td>NaN</td>\n      <td>NaN</td>\n      <td>NaN</td>\n      <td>NaN</td>\n      <td>femme</td>\n    </tr>\n    <tr>\n      <th>1</th>\n      <td>Lhopital</td>\n      <td>Louis-Jean</td>\n      <td>sp</td>\n      <td>chef</td>\n      <td>67</td>\n      <td>NaN</td>\n      <td>NaN</td>\n      <td>NaN</td>\n      <td>NaN</td>\n      <td>NaN</td>\n      <td>homme</td>\n    </tr>\n    <tr>\n      <th>2</th>\n      <td>Papin</td>\n      <td>Marie</td>\n      <td>idem</td>\n      <td>idem</td>\n      <td>15</td>\n      <td>idem</td>\n      <td>NaN</td>\n      <td>NaN</td>\n      <td>NaN</td>\n      <td>NaN</td>\n      <td>femme</td>\n    </tr>\n    <tr>\n      <th>3</th>\n      <td>Lavocat</td>\n      <td>Marie</td>\n      <td>NaN</td>\n      <td>femme</td>\n      <td>NaN</td>\n      <td>NaN</td>\n      <td>1875</td>\n      <td>Rigny</td>\n      <td>NaN</td>\n      <td>NaN</td>\n      <td>femme</td>\n    </tr>\n    <tr>\n      <th>4</th>\n      <td>Benne</td>\n      <td>Marguerite</td>\n      <td>NaN</td>\n      <td>NaN</td>\n      <td>78</td>\n      <td>NaN</td>\n      <td>NaN</td>\n      <td>NaN</td>\n      <td>NaN</td>\n      <td>NaN</td>\n      <td>femme</td>\n    </tr>\n    <tr>\n      <th>...</th>\n      <td>...</td>\n      <td>...</td>\n      <td>...</td>\n      <td>...</td>\n      <td>...</td>\n      <td>...</td>\n      <td>...</td>\n      <td>...</td>\n      <td>...</td>\n      <td>...</td>\n      <td>...</td>\n    </tr>\n    <tr>\n      <th>236</th>\n      <td>Burlurut</td>\n      <td>Pétronille</td>\n      <td>sans profession</td>\n      <td>épouse</td>\n      <td>61 ans</td>\n      <td>NaN</td>\n      <td>NaN</td>\n      <td>NaN</td>\n      <td>NaN</td>\n      <td>NaN</td>\n      <td>femme</td>\n    </tr>\n    <tr>\n      <th>237</th>\n      <td>Combey</td>\n      <td>Alexandre</td>\n      <td>idem</td>\n      <td>son fils</td>\n      <td>39</td>\n      <td>NaN</td>\n      <td>NaN</td>\n      <td>NaN</td>\n      <td>NaN</td>\n      <td>NaN</td>\n      <td>homme</td>\n    </tr>\n    <tr>\n      <th>238</th>\n      <td>Collin</td>\n      <td>Marguerite</td>\n      <td>idem</td>\n      <td>épouse</td>\n      <td>38</td>\n      <td>idem</td>\n      <td>NaN</td>\n      <td>NaN</td>\n      <td>NaN</td>\n      <td>NaN</td>\n      <td>femme</td>\n    </tr>\n    <tr>\n      <th>239</th>\n      <td>Dumont</td>\n      <td>Etienne</td>\n      <td>NaN</td>\n      <td>fils</td>\n      <td>NaN</td>\n      <td>NaN</td>\n      <td>1900</td>\n      <td>idem</td>\n      <td>NaN</td>\n      <td>NaN</td>\n      <td>homme</td>\n    </tr>\n    <tr>\n      <th>240</th>\n      <td>Renaut</td>\n      <td>Antoinette</td>\n      <td>NaN</td>\n      <td>belle-mère</td>\n      <td>NaN</td>\n      <td>NaN</td>\n      <td>1849</td>\n      <td>Rigny</td>\n      <td>NaN</td>\n      <td>NaN</td>\n      <td>femme</td>\n    </tr>\n  </tbody>\n</table>\n<p>232 rows × 11 columns</p>\n</div>"
     },
     "execution_count": 203,
     "metadata": {},
     "output_type": "execute_result"
    }
   ],
   "source": [
    "df_copy = df\n",
    "df_copy\n",
    "\n",
    "mask = (df_copy['sex'] == 'ambigu')\n",
    "\n",
    "# Use the mask to drop the sub-dataframe\n",
    "df_copy = df_copy.drop(df_copy[mask].index)\n",
    "df_copy"
   ],
   "metadata": {
    "collapsed": false
   }
  },
  {
   "cell_type": "code",
   "execution_count": 205,
   "outputs": [
    {
     "name": "stdout",
     "output_type": "stream",
     "text": [
      "Accuracy: 0.9482758620689655\n"
     ]
    }
   ],
   "source": [
    "df_copy = df_copy.fillna('', inplace=False)\n",
    "df_copy['pred_sex'] = df_copy.apply(predict_sex, axis=1)\n",
    "correct_predictions = (df_copy['pred_sex'] == df_copy['sex']).sum()\n",
    "total_predictions = len(df_copy)\n",
    "accuracy = correct_predictions / total_predictions\n",
    "\n",
    "print(\"Accuracy:\", accuracy)"
   ],
   "metadata": {
    "collapsed": false
   }
  },
  {
   "cell_type": "markdown",
   "source": [
    "Removing the 'ambigu' entries increases accuracy"
   ],
   "metadata": {
    "collapsed": false
   }
  },
  {
   "cell_type": "code",
   "execution_count": 208,
   "outputs": [
    {
     "name": "stdout",
     "output_type": "stream",
     "text": [
      "Misclassified rows:\n",
      "       surname         firstname           occupation                 link  \\\n",
      "1     Lhopital        Louis-Jean                   sp                 chef   \n",
      "52      Lognon           Anroine                 idem                 Fils   \n",
      "62      Daviot        Jean-Marie  domestique de ferme  domestique de ferme   \n",
      "102    Vichard        Jean-Marie                 idem                 fils   \n",
      "121  Kaermazek         Branislav            manoeuvre                frère   \n",
      "129       idem                              imprimeur               enfant   \n",
      "146     Tessin             Marie         cultivatrice           domestique   \n",
      "200       Mély  François Antoine            menuisier                ch. m   \n",
      "205      Foury     Jean-Baptiste             tourneur                 chef   \n",
      "211      Thély       Jean-Claude                 idem                 idem   \n",
      "218     Cognet      Jean Raymond            manoeuvre                ch. m   \n",
      "229      RIBET      Marie-Louise                 idem                fille   \n",
      "\n",
      "    age       employer birth_date              lob civil_status observation  \\\n",
      "1    67                                                                       \n",
      "52    8                                                                       \n",
      "62   25                                                                       \n",
      "102   5                                                                       \n",
      "121             Labage       1908  Wlanica Pologne                            \n",
      "129  27                                                                       \n",
      "146            Lavocat       1891        Coulanges                            \n",
      "200             Debord       1898            Vichy                            \n",
      "205  26  chemin de fer                                                        \n",
      "211               idem       1892        Coulanges                            \n",
      "218             Labage       1901        St Priest                            \n",
      "229   5                                                                       \n",
      "\n",
      "       sex pred_sex  correct_prediction  \n",
      "1    homme     None               False  \n",
      "52   homme     None               False  \n",
      "62   homme     None               False  \n",
      "102  homme     None               False  \n",
      "121  homme     None               False  \n",
      "129  homme     None               False  \n",
      "146  homme    femme               False  \n",
      "200  homme     None               False  \n",
      "205  homme     None               False  \n",
      "211  homme     None               False  \n",
      "218  homme     None               False  \n",
      "229  femme     None               False  \n"
     ]
    }
   ],
   "source": [
    "# Create a new column to indicate correct or incorrect prediction\n",
    "df_copy['correct_prediction'] = df_copy['pred_sex'] == df_copy['sex']\n",
    "\n",
    "# Filter dataframe to show misclassified rows\n",
    "misclassified_rows = df_copy[df_copy['correct_prediction'] == False]\n",
    "\n",
    "print(\"Misclassified rows:\")\n",
    "print(misclassified_rows)"
   ],
   "metadata": {
    "collapsed": false
   }
  },
  {
   "cell_type": "code",
   "execution_count": 209,
   "outputs": [
    {
     "data": {
      "text/plain": "      surname   firstname       occupation        link     age employer  \\\n0     Chardon       Marie             idem       fille      30            \n1    Lhopital  Louis-Jean               sp        chef      67            \n2       Papin       Marie             idem        idem      15     idem   \n3     Lavocat       Marie                        femme                    \n4       Benne  Marguerite                                   78            \n..        ...         ...              ...         ...     ...      ...   \n236  Burlurut  Pétronille  sans profession      épouse  61 ans            \n237    Combey   Alexandre             idem    son fils      39            \n238    Collin  Marguerite             idem      épouse      38     idem   \n239    Dumont     Etienne                         fils                    \n240    Renaut  Antoinette                   belle-mère                    \n\n    birth_date    lob civil_status observation    sex pred_sex  \\\n0                                               femme    femme   \n1                                               homme     None   \n2                                               femme    femme   \n3         1875  Rigny                           femme    femme   \n4                                               femme    femme   \n..         ...    ...          ...         ...    ...      ...   \n236                                             femme    femme   \n237                                             homme    homme   \n238                                             femme    femme   \n239       1900   idem                           homme    homme   \n240       1849  Rigny                           femme    femme   \n\n     correct_prediction  \n0                  True  \n1                 False  \n2                  True  \n3                  True  \n4                  True  \n..                  ...  \n236                True  \n237                True  \n238                True  \n239                True  \n240                True  \n\n[232 rows x 13 columns]",
      "text/html": "<div>\n<style scoped>\n    .dataframe tbody tr th:only-of-type {\n        vertical-align: middle;\n    }\n\n    .dataframe tbody tr th {\n        vertical-align: top;\n    }\n\n    .dataframe thead th {\n        text-align: right;\n    }\n</style>\n<table border=\"1\" class=\"dataframe\">\n  <thead>\n    <tr style=\"text-align: right;\">\n      <th></th>\n      <th>surname</th>\n      <th>firstname</th>\n      <th>occupation</th>\n      <th>link</th>\n      <th>age</th>\n      <th>employer</th>\n      <th>birth_date</th>\n      <th>lob</th>\n      <th>civil_status</th>\n      <th>observation</th>\n      <th>sex</th>\n      <th>pred_sex</th>\n      <th>correct_prediction</th>\n    </tr>\n  </thead>\n  <tbody>\n    <tr>\n      <th>0</th>\n      <td>Chardon</td>\n      <td>Marie</td>\n      <td>idem</td>\n      <td>fille</td>\n      <td>30</td>\n      <td></td>\n      <td></td>\n      <td></td>\n      <td></td>\n      <td></td>\n      <td>femme</td>\n      <td>femme</td>\n      <td>True</td>\n    </tr>\n    <tr>\n      <th>1</th>\n      <td>Lhopital</td>\n      <td>Louis-Jean</td>\n      <td>sp</td>\n      <td>chef</td>\n      <td>67</td>\n      <td></td>\n      <td></td>\n      <td></td>\n      <td></td>\n      <td></td>\n      <td>homme</td>\n      <td>None</td>\n      <td>False</td>\n    </tr>\n    <tr>\n      <th>2</th>\n      <td>Papin</td>\n      <td>Marie</td>\n      <td>idem</td>\n      <td>idem</td>\n      <td>15</td>\n      <td>idem</td>\n      <td></td>\n      <td></td>\n      <td></td>\n      <td></td>\n      <td>femme</td>\n      <td>femme</td>\n      <td>True</td>\n    </tr>\n    <tr>\n      <th>3</th>\n      <td>Lavocat</td>\n      <td>Marie</td>\n      <td></td>\n      <td>femme</td>\n      <td></td>\n      <td></td>\n      <td>1875</td>\n      <td>Rigny</td>\n      <td></td>\n      <td></td>\n      <td>femme</td>\n      <td>femme</td>\n      <td>True</td>\n    </tr>\n    <tr>\n      <th>4</th>\n      <td>Benne</td>\n      <td>Marguerite</td>\n      <td></td>\n      <td></td>\n      <td>78</td>\n      <td></td>\n      <td></td>\n      <td></td>\n      <td></td>\n      <td></td>\n      <td>femme</td>\n      <td>femme</td>\n      <td>True</td>\n    </tr>\n    <tr>\n      <th>...</th>\n      <td>...</td>\n      <td>...</td>\n      <td>...</td>\n      <td>...</td>\n      <td>...</td>\n      <td>...</td>\n      <td>...</td>\n      <td>...</td>\n      <td>...</td>\n      <td>...</td>\n      <td>...</td>\n      <td>...</td>\n      <td>...</td>\n    </tr>\n    <tr>\n      <th>236</th>\n      <td>Burlurut</td>\n      <td>Pétronille</td>\n      <td>sans profession</td>\n      <td>épouse</td>\n      <td>61 ans</td>\n      <td></td>\n      <td></td>\n      <td></td>\n      <td></td>\n      <td></td>\n      <td>femme</td>\n      <td>femme</td>\n      <td>True</td>\n    </tr>\n    <tr>\n      <th>237</th>\n      <td>Combey</td>\n      <td>Alexandre</td>\n      <td>idem</td>\n      <td>son fils</td>\n      <td>39</td>\n      <td></td>\n      <td></td>\n      <td></td>\n      <td></td>\n      <td></td>\n      <td>homme</td>\n      <td>homme</td>\n      <td>True</td>\n    </tr>\n    <tr>\n      <th>238</th>\n      <td>Collin</td>\n      <td>Marguerite</td>\n      <td>idem</td>\n      <td>épouse</td>\n      <td>38</td>\n      <td>idem</td>\n      <td></td>\n      <td></td>\n      <td></td>\n      <td></td>\n      <td>femme</td>\n      <td>femme</td>\n      <td>True</td>\n    </tr>\n    <tr>\n      <th>239</th>\n      <td>Dumont</td>\n      <td>Etienne</td>\n      <td></td>\n      <td>fils</td>\n      <td></td>\n      <td></td>\n      <td>1900</td>\n      <td>idem</td>\n      <td></td>\n      <td></td>\n      <td>homme</td>\n      <td>homme</td>\n      <td>True</td>\n    </tr>\n    <tr>\n      <th>240</th>\n      <td>Renaut</td>\n      <td>Antoinette</td>\n      <td></td>\n      <td>belle-mère</td>\n      <td></td>\n      <td></td>\n      <td>1849</td>\n      <td>Rigny</td>\n      <td></td>\n      <td></td>\n      <td>femme</td>\n      <td>femme</td>\n      <td>True</td>\n    </tr>\n  </tbody>\n</table>\n<p>232 rows × 13 columns</p>\n</div>"
     },
     "execution_count": 209,
     "metadata": {},
     "output_type": "execute_result"
    }
   ],
   "source": [
    "df_copy"
   ],
   "metadata": {
    "collapsed": false
   }
  },
  {
   "cell_type": "code",
   "execution_count": 207,
   "outputs": [
    {
     "data": {
      "text/plain": "      surname firstname   occupation    link     age employer birth_date  lob  \\\n17     Daniel    Claude   journalier    chef      33      NaN        NaN  NaN   \n59   Gorbinet    Jeanne         idem    chef      66      NaN        NaN  NaN   \n94    Roumeau    Claude  cultivateur    chef  30 ans      NaN        NaN  NaN   \n123   Chardon     Marie         idem    chef  84 ans      NaN        NaN  NaN   \n124    Grillé     Emile         idem    idem       2     idem        NaN  NaN   \n130    Martin     Marie         idem    idem      45      NaN        NaN  NaN   \n196     Pénot    Claude          s.p  enfant      13      NaN        NaN  NaN   \n204       Coq   Antonie         idem    idem      16     idem        NaN  NaN   \n230   Clayeux    Claude         idem    idem      13     idem        NaN  NaN   \n\n    civil_status observation     sex  \n17           NaN         NaN  ambigu  \n59           NaN         NaN  ambigu  \n94           NaN         NaN  ambigu  \n123          NaN         NaN  ambigu  \n124          NaN         NaN  ambigu  \n130          NaN         NaN  ambigu  \n196          NaN         NaN  ambigu  \n204          NaN         NaN  ambigu  \n230          NaN         NaN  ambigu  ",
      "text/html": "<div>\n<style scoped>\n    .dataframe tbody tr th:only-of-type {\n        vertical-align: middle;\n    }\n\n    .dataframe tbody tr th {\n        vertical-align: top;\n    }\n\n    .dataframe thead th {\n        text-align: right;\n    }\n</style>\n<table border=\"1\" class=\"dataframe\">\n  <thead>\n    <tr style=\"text-align: right;\">\n      <th></th>\n      <th>surname</th>\n      <th>firstname</th>\n      <th>occupation</th>\n      <th>link</th>\n      <th>age</th>\n      <th>employer</th>\n      <th>birth_date</th>\n      <th>lob</th>\n      <th>civil_status</th>\n      <th>observation</th>\n      <th>sex</th>\n    </tr>\n  </thead>\n  <tbody>\n    <tr>\n      <th>17</th>\n      <td>Daniel</td>\n      <td>Claude</td>\n      <td>journalier</td>\n      <td>chef</td>\n      <td>33</td>\n      <td>NaN</td>\n      <td>NaN</td>\n      <td>NaN</td>\n      <td>NaN</td>\n      <td>NaN</td>\n      <td>ambigu</td>\n    </tr>\n    <tr>\n      <th>59</th>\n      <td>Gorbinet</td>\n      <td>Jeanne</td>\n      <td>idem</td>\n      <td>chef</td>\n      <td>66</td>\n      <td>NaN</td>\n      <td>NaN</td>\n      <td>NaN</td>\n      <td>NaN</td>\n      <td>NaN</td>\n      <td>ambigu</td>\n    </tr>\n    <tr>\n      <th>94</th>\n      <td>Roumeau</td>\n      <td>Claude</td>\n      <td>cultivateur</td>\n      <td>chef</td>\n      <td>30 ans</td>\n      <td>NaN</td>\n      <td>NaN</td>\n      <td>NaN</td>\n      <td>NaN</td>\n      <td>NaN</td>\n      <td>ambigu</td>\n    </tr>\n    <tr>\n      <th>123</th>\n      <td>Chardon</td>\n      <td>Marie</td>\n      <td>idem</td>\n      <td>chef</td>\n      <td>84 ans</td>\n      <td>NaN</td>\n      <td>NaN</td>\n      <td>NaN</td>\n      <td>NaN</td>\n      <td>NaN</td>\n      <td>ambigu</td>\n    </tr>\n    <tr>\n      <th>124</th>\n      <td>Grillé</td>\n      <td>Emile</td>\n      <td>idem</td>\n      <td>idem</td>\n      <td>2</td>\n      <td>idem</td>\n      <td>NaN</td>\n      <td>NaN</td>\n      <td>NaN</td>\n      <td>NaN</td>\n      <td>ambigu</td>\n    </tr>\n    <tr>\n      <th>130</th>\n      <td>Martin</td>\n      <td>Marie</td>\n      <td>idem</td>\n      <td>idem</td>\n      <td>45</td>\n      <td>NaN</td>\n      <td>NaN</td>\n      <td>NaN</td>\n      <td>NaN</td>\n      <td>NaN</td>\n      <td>ambigu</td>\n    </tr>\n    <tr>\n      <th>196</th>\n      <td>Pénot</td>\n      <td>Claude</td>\n      <td>s.p</td>\n      <td>enfant</td>\n      <td>13</td>\n      <td>NaN</td>\n      <td>NaN</td>\n      <td>NaN</td>\n      <td>NaN</td>\n      <td>NaN</td>\n      <td>ambigu</td>\n    </tr>\n    <tr>\n      <th>204</th>\n      <td>Coq</td>\n      <td>Antonie</td>\n      <td>idem</td>\n      <td>idem</td>\n      <td>16</td>\n      <td>idem</td>\n      <td>NaN</td>\n      <td>NaN</td>\n      <td>NaN</td>\n      <td>NaN</td>\n      <td>ambigu</td>\n    </tr>\n    <tr>\n      <th>230</th>\n      <td>Clayeux</td>\n      <td>Claude</td>\n      <td>idem</td>\n      <td>idem</td>\n      <td>13</td>\n      <td>idem</td>\n      <td>NaN</td>\n      <td>NaN</td>\n      <td>NaN</td>\n      <td>NaN</td>\n      <td>ambigu</td>\n    </tr>\n  </tbody>\n</table>\n</div>"
     },
     "execution_count": 207,
     "metadata": {},
     "output_type": "execute_result"
    }
   ],
   "source": [
    "df_drop"
   ],
   "metadata": {
    "collapsed": false
   }
  },
  {
   "cell_type": "code",
   "execution_count": 211,
   "outputs": [
    {
     "data": {
      "text/plain": "0          marie\n1           jean\n2         pierre\n3         jeanne\n4       françois\n          ...   \n6941     winnocq\n6942       xyste\n6943        zara\n6944    zéraphin\n6945       zimle\nName: firstname, Length: 6946, dtype: object"
     },
     "execution_count": 211,
     "metadata": {},
     "output_type": "execute_result"
    }
   ],
   "source": [
    "firstname_with_sex.firstname"
   ],
   "metadata": {
    "collapsed": false
   }
  },
  {
   "cell_type": "code",
   "execution_count": 214,
   "outputs": [],
   "source": [
    "df_copy_pre = df_copy\n",
    "# Lowercase the column values\n",
    "df_copy_pre['firstname'] = df_copy_pre['firstname'].str.lower()\n",
    "\n",
    "# Remove spaces and hyphens\n",
    "df_copy_pre['firstname'] = df_copy_pre['firstname'].str.replace(' ', '').str.replace('-', '')"
   ],
   "metadata": {
    "collapsed": false
   }
  },
  {
   "cell_type": "code",
   "execution_count": 222,
   "outputs": [
    {
     "data": {
      "text/plain": "      surname   firstname       occupation        link     age employer  \\\n0     Chardon       marie             idem       fille      30            \n1    Lhopital   louisjean               sp        chef      67            \n2       Papin       marie             idem        idem      15     idem   \n3     Lavocat       marie                        femme                    \n4       Benne  marguerite                                   78            \n..        ...         ...              ...         ...     ...      ...   \n236  Burlurut  pétronille  sans profession      épouse  61 ans            \n237    Combey   alexandre             idem    son fils      39            \n238    Collin  marguerite             idem      épouse      38     idem   \n239    Dumont     etienne                         fils                    \n240    Renaut  antoinette                   belle-mère                    \n\n    birth_date    lob civil_status observation    sex pred_sex  \\\n0                                               femme    femme   \n1                                               homme     None   \n2                                               femme    femme   \n3         1875  Rigny                           femme    femme   \n4                                               femme    femme   \n..         ...    ...          ...         ...    ...      ...   \n236                                             femme    femme   \n237                                             homme    homme   \n238                                             femme    femme   \n239       1900   idem                           homme    homme   \n240       1849  Rigny                           femme    femme   \n\n     correct_prediction  \n0                  True  \n1                 False  \n2                  True  \n3                  True  \n4                  True  \n..                  ...  \n236                True  \n237                True  \n238                True  \n239                True  \n240                True  \n\n[232 rows x 13 columns]",
      "text/html": "<div>\n<style scoped>\n    .dataframe tbody tr th:only-of-type {\n        vertical-align: middle;\n    }\n\n    .dataframe tbody tr th {\n        vertical-align: top;\n    }\n\n    .dataframe thead th {\n        text-align: right;\n    }\n</style>\n<table border=\"1\" class=\"dataframe\">\n  <thead>\n    <tr style=\"text-align: right;\">\n      <th></th>\n      <th>surname</th>\n      <th>firstname</th>\n      <th>occupation</th>\n      <th>link</th>\n      <th>age</th>\n      <th>employer</th>\n      <th>birth_date</th>\n      <th>lob</th>\n      <th>civil_status</th>\n      <th>observation</th>\n      <th>sex</th>\n      <th>pred_sex</th>\n      <th>correct_prediction</th>\n    </tr>\n  </thead>\n  <tbody>\n    <tr>\n      <th>0</th>\n      <td>Chardon</td>\n      <td>marie</td>\n      <td>idem</td>\n      <td>fille</td>\n      <td>30</td>\n      <td></td>\n      <td></td>\n      <td></td>\n      <td></td>\n      <td></td>\n      <td>femme</td>\n      <td>femme</td>\n      <td>True</td>\n    </tr>\n    <tr>\n      <th>1</th>\n      <td>Lhopital</td>\n      <td>louisjean</td>\n      <td>sp</td>\n      <td>chef</td>\n      <td>67</td>\n      <td></td>\n      <td></td>\n      <td></td>\n      <td></td>\n      <td></td>\n      <td>homme</td>\n      <td>None</td>\n      <td>False</td>\n    </tr>\n    <tr>\n      <th>2</th>\n      <td>Papin</td>\n      <td>marie</td>\n      <td>idem</td>\n      <td>idem</td>\n      <td>15</td>\n      <td>idem</td>\n      <td></td>\n      <td></td>\n      <td></td>\n      <td></td>\n      <td>femme</td>\n      <td>femme</td>\n      <td>True</td>\n    </tr>\n    <tr>\n      <th>3</th>\n      <td>Lavocat</td>\n      <td>marie</td>\n      <td></td>\n      <td>femme</td>\n      <td></td>\n      <td></td>\n      <td>1875</td>\n      <td>Rigny</td>\n      <td></td>\n      <td></td>\n      <td>femme</td>\n      <td>femme</td>\n      <td>True</td>\n    </tr>\n    <tr>\n      <th>4</th>\n      <td>Benne</td>\n      <td>marguerite</td>\n      <td></td>\n      <td></td>\n      <td>78</td>\n      <td></td>\n      <td></td>\n      <td></td>\n      <td></td>\n      <td></td>\n      <td>femme</td>\n      <td>femme</td>\n      <td>True</td>\n    </tr>\n    <tr>\n      <th>...</th>\n      <td>...</td>\n      <td>...</td>\n      <td>...</td>\n      <td>...</td>\n      <td>...</td>\n      <td>...</td>\n      <td>...</td>\n      <td>...</td>\n      <td>...</td>\n      <td>...</td>\n      <td>...</td>\n      <td>...</td>\n      <td>...</td>\n    </tr>\n    <tr>\n      <th>236</th>\n      <td>Burlurut</td>\n      <td>pétronille</td>\n      <td>sans profession</td>\n      <td>épouse</td>\n      <td>61 ans</td>\n      <td></td>\n      <td></td>\n      <td></td>\n      <td></td>\n      <td></td>\n      <td>femme</td>\n      <td>femme</td>\n      <td>True</td>\n    </tr>\n    <tr>\n      <th>237</th>\n      <td>Combey</td>\n      <td>alexandre</td>\n      <td>idem</td>\n      <td>son fils</td>\n      <td>39</td>\n      <td></td>\n      <td></td>\n      <td></td>\n      <td></td>\n      <td></td>\n      <td>homme</td>\n      <td>homme</td>\n      <td>True</td>\n    </tr>\n    <tr>\n      <th>238</th>\n      <td>Collin</td>\n      <td>marguerite</td>\n      <td>idem</td>\n      <td>épouse</td>\n      <td>38</td>\n      <td>idem</td>\n      <td></td>\n      <td></td>\n      <td></td>\n      <td></td>\n      <td>femme</td>\n      <td>femme</td>\n      <td>True</td>\n    </tr>\n    <tr>\n      <th>239</th>\n      <td>Dumont</td>\n      <td>etienne</td>\n      <td></td>\n      <td>fils</td>\n      <td></td>\n      <td></td>\n      <td>1900</td>\n      <td>idem</td>\n      <td></td>\n      <td></td>\n      <td>homme</td>\n      <td>homme</td>\n      <td>True</td>\n    </tr>\n    <tr>\n      <th>240</th>\n      <td>Renaut</td>\n      <td>antoinette</td>\n      <td></td>\n      <td>belle-mère</td>\n      <td></td>\n      <td></td>\n      <td>1849</td>\n      <td>Rigny</td>\n      <td></td>\n      <td></td>\n      <td>femme</td>\n      <td>femme</td>\n      <td>True</td>\n    </tr>\n  </tbody>\n</table>\n<p>232 rows × 13 columns</p>\n</div>"
     },
     "execution_count": 222,
     "metadata": {},
     "output_type": "execute_result"
    }
   ],
   "source": [
    "df_copy_pre"
   ],
   "metadata": {
    "collapsed": false
   }
  },
  {
   "cell_type": "code",
   "execution_count": 220,
   "outputs": [
    {
     "name": "stdout",
     "output_type": "stream",
     "text": [
      "Accuracy: 0.9568965517241379\n"
     ]
    }
   ],
   "source": [
    "df_copy_pre = df_copy_pre.fillna('', inplace=False)\n",
    "df_copy_pre['pred_sex'] = df_copy_pre.apply(predict_sex, axis=1)\n",
    "correct_predictions = (df_copy_pre['pred_sex'] == df_copy_pre['sex']).sum()\n",
    "total_predictions = len(df_copy_pre)\n",
    "accuracy = correct_predictions / total_predictions\n",
    "\n",
    "print(\"Accuracy:\", accuracy)"
   ],
   "metadata": {
    "collapsed": false
   }
  },
  {
   "cell_type": "code",
   "execution_count": 221,
   "outputs": [
    {
     "name": "stdout",
     "output_type": "stream",
     "text": [
      "Misclassified rows:\n",
      "       surname        firstname           occupation                 link age  \\\n",
      "1     Lhopital        louisjean                   sp                 chef  67   \n",
      "52      Lognon          anroine                 idem                 Fils   8   \n",
      "62      Daviot        jeanmarie  domestique de ferme  domestique de ferme  25   \n",
      "102    Vichard        jeanmarie                 idem                 fils   5   \n",
      "121  Kaermazek        branislav            manoeuvre                frère       \n",
      "129       idem                             imprimeur               enfant  27   \n",
      "146     Tessin            marie         cultivatrice           domestique       \n",
      "200       Mély  françoisantoine            menuisier                ch. m       \n",
      "211      Thély       jeanclaude                 idem                 idem       \n",
      "218     Cognet      jeanraymond            manoeuvre                ch. m       \n",
      "\n",
      "    employer birth_date              lob civil_status observation    sex  \\\n",
      "1                                                                  homme   \n",
      "52                                                                 homme   \n",
      "62                                                                 homme   \n",
      "102                                                                homme   \n",
      "121   Labage       1908  Wlanica Pologne                           homme   \n",
      "129                                                                homme   \n",
      "146  Lavocat       1891        Coulanges                           homme   \n",
      "200   Debord       1898            Vichy                           homme   \n",
      "211     idem       1892        Coulanges                           homme   \n",
      "218   Labage       1901        St Priest                           homme   \n",
      "\n",
      "    pred_sex  correct_prediction  \n",
      "1       None               False  \n",
      "52      None               False  \n",
      "62      None               False  \n",
      "102     None               False  \n",
      "121     None               False  \n",
      "129     None               False  \n",
      "146    femme               False  \n",
      "200     None               False  \n",
      "211     None               False  \n",
      "218     None               False  \n"
     ]
    }
   ],
   "source": [
    "# Create a new column to indicate correct or incorrect prediction\n",
    "df_copy_pre['correct_prediction'] = df_copy_pre['pred_sex'] == df_copy_pre['sex']\n",
    "\n",
    "# Filter dataframe to show misclassified rows\n",
    "misclassified_rows = df_copy_pre[df_copy_pre['correct_prediction'] == False]\n",
    "\n",
    "print(\"Misclassified rows:\")\n",
    "print(misclassified_rows)"
   ],
   "metadata": {
    "collapsed": false
   }
  },
  {
   "cell_type": "code",
   "execution_count": 236,
   "outputs": [
    {
     "data": {
      "text/plain": "                            Approach  Accuracy\n0                   basic prediction  0.912863\n1                          no ambigu  0.948276\n2  preprocessed firstname, no ambigu  0.956897",
      "text/html": "<div>\n<style scoped>\n    .dataframe tbody tr th:only-of-type {\n        vertical-align: middle;\n    }\n\n    .dataframe tbody tr th {\n        vertical-align: top;\n    }\n\n    .dataframe thead th {\n        text-align: right;\n    }\n</style>\n<table border=\"1\" class=\"dataframe\">\n  <thead>\n    <tr style=\"text-align: right;\">\n      <th></th>\n      <th>Approach</th>\n      <th>Accuracy</th>\n    </tr>\n  </thead>\n  <tbody>\n    <tr>\n      <th>0</th>\n      <td>basic prediction</td>\n      <td>0.912863</td>\n    </tr>\n    <tr>\n      <th>1</th>\n      <td>no ambigu</td>\n      <td>0.948276</td>\n    </tr>\n    <tr>\n      <th>2</th>\n      <td>preprocessed firstname, no ambigu</td>\n      <td>0.956897</td>\n    </tr>\n  </tbody>\n</table>\n</div>"
     },
     "execution_count": 236,
     "metadata": {},
     "output_type": "execute_result"
    }
   ],
   "source": [
    "data = {'Approach': ['basic prediction', 'no ambigu', 'preprocessed firstname, no ambigu'],\n",
    "        'Accuracy': [0.9128630705394191, 0.9482758620689655, 0.9568965517241379]}\n",
    "\n",
    "# Create DataFrame\n",
    "df_results_simple_approach = pd.DataFrame(data)\n",
    "df_results_simple_approach"
   ],
   "metadata": {
    "collapsed": false
   }
  },
  {
   "cell_type": "markdown",
   "source": [
    "We find that the misclassified results are mostly not existent in the firstname_with_sex database. 'Branislav' or 'Anroine' might be too specific whereas 'louisjean' exists only as 'jeanlouis' in the dataset.\n",
    "Using the additional information (e.g., 'cultivatrice', 'fils', 'frère') is a promising approach to further increase classifier performance."
   ],
   "metadata": {
    "collapsed": false
   }
  },
  {
   "cell_type": "markdown",
   "source": [
    "#### Vectorizer"
   ],
   "metadata": {
    "collapsed": false
   }
  },
  {
   "cell_type": "code",
   "execution_count": 59,
   "outputs": [],
   "source": [
    "from sklearn.feature_extraction.text import TfidfVectorizer\n",
    "from sklearn.linear_model import LogisticRegression\n",
    "from sklearn.ensemble import RandomForestClassifier\n",
    "from sklearn.svm import SVC\n",
    "from sklearn.metrics import accuracy_score, precision_score, recall_score, f1_score, roc_auc_score\n",
    "from sklearn.pipeline import Pipeline\n",
    "from xgboost import XGBClassifier\n",
    "from sklearn.preprocessing import LabelEncoder\n",
    "from sklearn.metrics import classification_report\n",
    "from sklearn.model_selection import cross_val_score, StratifiedKFold\n",
    "from sklearn.naive_bayes import MultinomialNB\n",
    "from sklearn.model_selection import GridSearchCV\n",
    "from gensim.models import Word2Vec\n",
    "from gensim.scripts.glove2word2vec import glove2word2vec\n",
    "from gensim.models import KeyedVectors"
   ],
   "metadata": {
    "collapsed": false
   }
  },
  {
   "cell_type": "code",
   "execution_count": 93,
   "outputs": [],
   "source": [
    "def train_test(input, target, test_size):\n",
    "    X = input\n",
    "    le = LabelEncoder()\n",
    "    y = le.fit_transform(target)\n",
    "    X_train, X_test, y_train, y_test = train_test_split(X, y, test_size=test_size, random_state=42)\n",
    "    return X_train, X_test, y_train, y_test"
   ],
   "metadata": {
    "collapsed": false
   }
  },
  {
   "cell_type": "code",
   "execution_count": 61,
   "outputs": [],
   "source": [
    "tfidf_vect = TfidfVectorizer()\n",
    "bow_vect = CountVectorizer()\n",
    "word2vec = Word2Vec(transcriptions_with_sex.groundtruth, vector_size=100, window=5, min_count=1, workers=4)"
   ],
   "metadata": {
    "collapsed": false
   }
  },
  {
   "cell_type": "code",
   "execution_count": 60,
   "outputs": [
    {
     "name": "stderr",
     "output_type": "stream",
     "text": [
      "/var/folders/n_/mj2qn5sd20lb04k5gcvn8fbr0000gn/T/ipykernel_23964/1589711486.py:7: DeprecationWarning: Call to deprecated `glove2word2vec` (KeyedVectors.load_word2vec_format(.., binary=False, no_header=True) loads GLoVE text vectors.).\n",
      "  glove2word2vec(glove_input_file, word2vec_output_file)\n"
     ]
    },
    {
     "ename": "FileNotFoundError",
     "evalue": "[Errno 2] No such file or directory: 'glove.6B.100d.txt'",
     "output_type": "error",
     "traceback": [
      "\u001B[0;31m---------------------------------------------------------------------------\u001B[0m",
      "\u001B[0;31mFileNotFoundError\u001B[0m                         Traceback (most recent call last)",
      "Input \u001B[0;32mIn [60]\u001B[0m, in \u001B[0;36m<cell line: 7>\u001B[0;34m()\u001B[0m\n\u001B[1;32m      5\u001B[0m glove_input_file \u001B[38;5;241m=\u001B[39m \u001B[38;5;124m'\u001B[39m\u001B[38;5;124mglove.6B.100d.txt\u001B[39m\u001B[38;5;124m'\u001B[39m\n\u001B[1;32m      6\u001B[0m word2vec_output_file \u001B[38;5;241m=\u001B[39m \u001B[38;5;124m'\u001B[39m\u001B[38;5;124mglove.6B.100d.word2vec.txt\u001B[39m\u001B[38;5;124m'\u001B[39m\n\u001B[0;32m----> 7\u001B[0m \u001B[43mglove2word2vec\u001B[49m\u001B[43m(\u001B[49m\u001B[43mglove_input_file\u001B[49m\u001B[43m,\u001B[49m\u001B[43m \u001B[49m\u001B[43mword2vec_output_file\u001B[49m\u001B[43m)\u001B[49m\n\u001B[1;32m      9\u001B[0m \u001B[38;5;66;03m# Load the GloVe model\u001B[39;00m\n\u001B[1;32m     10\u001B[0m glove_model \u001B[38;5;241m=\u001B[39m KeyedVectors\u001B[38;5;241m.\u001B[39mload_word2vec_format(word2vec_output_file, binary\u001B[38;5;241m=\u001B[39m\u001B[38;5;28;01mFalse\u001B[39;00m)\n",
      "File \u001B[0;32m~/opt/anaconda3/lib/python3.9/site-packages/gensim/utils.py:1521\u001B[0m, in \u001B[0;36mdeprecated.<locals>.decorator.<locals>.new_func1\u001B[0;34m(*args, **kwargs)\u001B[0m\n\u001B[1;32m   1514\u001B[0m \u001B[38;5;129m@wraps\u001B[39m(func)\n\u001B[1;32m   1515\u001B[0m \u001B[38;5;28;01mdef\u001B[39;00m \u001B[38;5;21mnew_func1\u001B[39m(\u001B[38;5;241m*\u001B[39margs, \u001B[38;5;241m*\u001B[39m\u001B[38;5;241m*\u001B[39mkwargs):\n\u001B[1;32m   1516\u001B[0m     warnings\u001B[38;5;241m.\u001B[39mwarn(\n\u001B[1;32m   1517\u001B[0m         fmt\u001B[38;5;241m.\u001B[39mformat(name\u001B[38;5;241m=\u001B[39mfunc\u001B[38;5;241m.\u001B[39m\u001B[38;5;18m__name__\u001B[39m, reason\u001B[38;5;241m=\u001B[39mreason),\n\u001B[1;32m   1518\u001B[0m         category\u001B[38;5;241m=\u001B[39m\u001B[38;5;167;01mDeprecationWarning\u001B[39;00m,\n\u001B[1;32m   1519\u001B[0m         stacklevel\u001B[38;5;241m=\u001B[39m\u001B[38;5;241m2\u001B[39m\n\u001B[1;32m   1520\u001B[0m     )\n\u001B[0;32m-> 1521\u001B[0m     \u001B[38;5;28;01mreturn\u001B[39;00m \u001B[43mfunc\u001B[49m\u001B[43m(\u001B[49m\u001B[38;5;241;43m*\u001B[39;49m\u001B[43margs\u001B[49m\u001B[43m,\u001B[49m\u001B[43m \u001B[49m\u001B[38;5;241;43m*\u001B[39;49m\u001B[38;5;241;43m*\u001B[39;49m\u001B[43mkwargs\u001B[49m\u001B[43m)\u001B[49m\n",
      "File \u001B[0;32m~/opt/anaconda3/lib/python3.9/site-packages/gensim/scripts/glove2word2vec.py:109\u001B[0m, in \u001B[0;36mglove2word2vec\u001B[0;34m(glove_input_file, word2vec_output_file)\u001B[0m\n\u001B[1;32m     92\u001B[0m \u001B[38;5;129m@deprecated\u001B[39m(\u001B[38;5;124m\"\u001B[39m\u001B[38;5;124mKeyedVectors.load_word2vec_format(.., binary=False, no_header=True) loads GLoVE text vectors.\u001B[39m\u001B[38;5;124m\"\u001B[39m)\n\u001B[1;32m     93\u001B[0m \u001B[38;5;28;01mdef\u001B[39;00m \u001B[38;5;21mglove2word2vec\u001B[39m(glove_input_file, word2vec_output_file):\n\u001B[1;32m     94\u001B[0m     \u001B[38;5;124;03m\"\"\"Convert `glove_input_file` in GloVe format to word2vec format and write it to `word2vec_output_file`.\u001B[39;00m\n\u001B[1;32m     95\u001B[0m \n\u001B[1;32m     96\u001B[0m \u001B[38;5;124;03m    Parameters\u001B[39;00m\n\u001B[0;32m   (...)\u001B[0m\n\u001B[1;32m    107\u001B[0m \n\u001B[1;32m    108\u001B[0m \u001B[38;5;124;03m    \"\"\"\u001B[39;00m\n\u001B[0;32m--> 109\u001B[0m     glovekv \u001B[38;5;241m=\u001B[39m \u001B[43mKeyedVectors\u001B[49m\u001B[38;5;241;43m.\u001B[39;49m\u001B[43mload_word2vec_format\u001B[49m\u001B[43m(\u001B[49m\u001B[43mglove_input_file\u001B[49m\u001B[43m,\u001B[49m\u001B[43m \u001B[49m\u001B[43mbinary\u001B[49m\u001B[38;5;241;43m=\u001B[39;49m\u001B[38;5;28;43;01mFalse\u001B[39;49;00m\u001B[43m,\u001B[49m\u001B[43m \u001B[49m\u001B[43mno_header\u001B[49m\u001B[38;5;241;43m=\u001B[39;49m\u001B[38;5;28;43;01mTrue\u001B[39;49;00m\u001B[43m)\u001B[49m\n\u001B[1;32m    111\u001B[0m     num_lines, num_dims \u001B[38;5;241m=\u001B[39m \u001B[38;5;28mlen\u001B[39m(glovekv), glovekv\u001B[38;5;241m.\u001B[39mvector_size\n\u001B[1;32m    112\u001B[0m     logger\u001B[38;5;241m.\u001B[39minfo(\u001B[38;5;124m\"\u001B[39m\u001B[38;5;124mconverting \u001B[39m\u001B[38;5;132;01m%i\u001B[39;00m\u001B[38;5;124m vectors from \u001B[39m\u001B[38;5;132;01m%s\u001B[39;00m\u001B[38;5;124m to \u001B[39m\u001B[38;5;132;01m%s\u001B[39;00m\u001B[38;5;124m\"\u001B[39m, num_lines, glove_input_file, word2vec_output_file)\n",
      "File \u001B[0;32m~/opt/anaconda3/lib/python3.9/site-packages/gensim/models/keyedvectors.py:1629\u001B[0m, in \u001B[0;36mKeyedVectors.load_word2vec_format\u001B[0;34m(cls, fname, fvocab, binary, encoding, unicode_errors, limit, datatype, no_header)\u001B[0m\n\u001B[1;32m   1582\u001B[0m \u001B[38;5;129m@classmethod\u001B[39m\n\u001B[1;32m   1583\u001B[0m \u001B[38;5;28;01mdef\u001B[39;00m \u001B[38;5;21mload_word2vec_format\u001B[39m(\n\u001B[1;32m   1584\u001B[0m         \u001B[38;5;28mcls\u001B[39m, fname, fvocab\u001B[38;5;241m=\u001B[39m\u001B[38;5;28;01mNone\u001B[39;00m, binary\u001B[38;5;241m=\u001B[39m\u001B[38;5;28;01mFalse\u001B[39;00m, encoding\u001B[38;5;241m=\u001B[39m\u001B[38;5;124m'\u001B[39m\u001B[38;5;124mutf8\u001B[39m\u001B[38;5;124m'\u001B[39m, unicode_errors\u001B[38;5;241m=\u001B[39m\u001B[38;5;124m'\u001B[39m\u001B[38;5;124mstrict\u001B[39m\u001B[38;5;124m'\u001B[39m,\n\u001B[1;32m   1585\u001B[0m         limit\u001B[38;5;241m=\u001B[39m\u001B[38;5;28;01mNone\u001B[39;00m, datatype\u001B[38;5;241m=\u001B[39mREAL, no_header\u001B[38;5;241m=\u001B[39m\u001B[38;5;28;01mFalse\u001B[39;00m,\n\u001B[1;32m   1586\u001B[0m     ):\n\u001B[1;32m   1587\u001B[0m     \u001B[38;5;124;03m\"\"\"Load KeyedVectors from a file produced by the original C word2vec-tool format.\u001B[39;00m\n\u001B[1;32m   1588\u001B[0m \n\u001B[1;32m   1589\u001B[0m \u001B[38;5;124;03m    Warnings\u001B[39;00m\n\u001B[0;32m   (...)\u001B[0m\n\u001B[1;32m   1627\u001B[0m \n\u001B[1;32m   1628\u001B[0m \u001B[38;5;124;03m    \"\"\"\u001B[39;00m\n\u001B[0;32m-> 1629\u001B[0m     \u001B[38;5;28;01mreturn\u001B[39;00m \u001B[43m_load_word2vec_format\u001B[49m\u001B[43m(\u001B[49m\n\u001B[1;32m   1630\u001B[0m \u001B[43m        \u001B[49m\u001B[38;5;28;43mcls\u001B[39;49m\u001B[43m,\u001B[49m\u001B[43m \u001B[49m\u001B[43mfname\u001B[49m\u001B[43m,\u001B[49m\u001B[43m \u001B[49m\u001B[43mfvocab\u001B[49m\u001B[38;5;241;43m=\u001B[39;49m\u001B[43mfvocab\u001B[49m\u001B[43m,\u001B[49m\u001B[43m \u001B[49m\u001B[43mbinary\u001B[49m\u001B[38;5;241;43m=\u001B[39;49m\u001B[43mbinary\u001B[49m\u001B[43m,\u001B[49m\u001B[43m \u001B[49m\u001B[43mencoding\u001B[49m\u001B[38;5;241;43m=\u001B[39;49m\u001B[43mencoding\u001B[49m\u001B[43m,\u001B[49m\u001B[43m \u001B[49m\u001B[43municode_errors\u001B[49m\u001B[38;5;241;43m=\u001B[39;49m\u001B[43municode_errors\u001B[49m\u001B[43m,\u001B[49m\n\u001B[1;32m   1631\u001B[0m \u001B[43m        \u001B[49m\u001B[43mlimit\u001B[49m\u001B[38;5;241;43m=\u001B[39;49m\u001B[43mlimit\u001B[49m\u001B[43m,\u001B[49m\u001B[43m \u001B[49m\u001B[43mdatatype\u001B[49m\u001B[38;5;241;43m=\u001B[39;49m\u001B[43mdatatype\u001B[49m\u001B[43m,\u001B[49m\u001B[43m \u001B[49m\u001B[43mno_header\u001B[49m\u001B[38;5;241;43m=\u001B[39;49m\u001B[43mno_header\u001B[49m\u001B[43m,\u001B[49m\n\u001B[1;32m   1632\u001B[0m \u001B[43m    \u001B[49m\u001B[43m)\u001B[49m\n",
      "File \u001B[0;32m~/opt/anaconda3/lib/python3.9/site-packages/gensim/models/keyedvectors.py:1955\u001B[0m, in \u001B[0;36m_load_word2vec_format\u001B[0;34m(cls, fname, fvocab, binary, encoding, unicode_errors, limit, datatype, no_header, binary_chunk_size)\u001B[0m\n\u001B[1;32m   1952\u001B[0m             counts[word] \u001B[38;5;241m=\u001B[39m \u001B[38;5;28mint\u001B[39m(count)\n\u001B[1;32m   1954\u001B[0m logger\u001B[38;5;241m.\u001B[39minfo(\u001B[38;5;124m\"\u001B[39m\u001B[38;5;124mloading projection weights from \u001B[39m\u001B[38;5;132;01m%s\u001B[39;00m\u001B[38;5;124m\"\u001B[39m, fname)\n\u001B[0;32m-> 1955\u001B[0m \u001B[38;5;28;01mwith\u001B[39;00m \u001B[43mutils\u001B[49m\u001B[38;5;241;43m.\u001B[39;49m\u001B[43mopen\u001B[49m\u001B[43m(\u001B[49m\u001B[43mfname\u001B[49m\u001B[43m,\u001B[49m\u001B[43m \u001B[49m\u001B[38;5;124;43m'\u001B[39;49m\u001B[38;5;124;43mrb\u001B[39;49m\u001B[38;5;124;43m'\u001B[39;49m\u001B[43m)\u001B[49m \u001B[38;5;28;01mas\u001B[39;00m fin:\n\u001B[1;32m   1956\u001B[0m     \u001B[38;5;28;01mif\u001B[39;00m no_header:\n\u001B[1;32m   1957\u001B[0m         \u001B[38;5;66;03m# deduce both vocab_size & vector_size from 1st pass over file\u001B[39;00m\n\u001B[1;32m   1958\u001B[0m         \u001B[38;5;28;01mif\u001B[39;00m binary:\n",
      "File \u001B[0;32m~/opt/anaconda3/lib/python3.9/site-packages/smart_open/smart_open_lib.py:177\u001B[0m, in \u001B[0;36mopen\u001B[0;34m(uri, mode, buffering, encoding, errors, newline, closefd, opener, compression, transport_params)\u001B[0m\n\u001B[1;32m    174\u001B[0m \u001B[38;5;28;01mif\u001B[39;00m transport_params \u001B[38;5;129;01mis\u001B[39;00m \u001B[38;5;28;01mNone\u001B[39;00m:\n\u001B[1;32m    175\u001B[0m     transport_params \u001B[38;5;241m=\u001B[39m {}\n\u001B[0;32m--> 177\u001B[0m fobj \u001B[38;5;241m=\u001B[39m \u001B[43m_shortcut_open\u001B[49m\u001B[43m(\u001B[49m\n\u001B[1;32m    178\u001B[0m \u001B[43m    \u001B[49m\u001B[43muri\u001B[49m\u001B[43m,\u001B[49m\n\u001B[1;32m    179\u001B[0m \u001B[43m    \u001B[49m\u001B[43mmode\u001B[49m\u001B[43m,\u001B[49m\n\u001B[1;32m    180\u001B[0m \u001B[43m    \u001B[49m\u001B[43mcompression\u001B[49m\u001B[38;5;241;43m=\u001B[39;49m\u001B[43mcompression\u001B[49m\u001B[43m,\u001B[49m\n\u001B[1;32m    181\u001B[0m \u001B[43m    \u001B[49m\u001B[43mbuffering\u001B[49m\u001B[38;5;241;43m=\u001B[39;49m\u001B[43mbuffering\u001B[49m\u001B[43m,\u001B[49m\n\u001B[1;32m    182\u001B[0m \u001B[43m    \u001B[49m\u001B[43mencoding\u001B[49m\u001B[38;5;241;43m=\u001B[39;49m\u001B[43mencoding\u001B[49m\u001B[43m,\u001B[49m\n\u001B[1;32m    183\u001B[0m \u001B[43m    \u001B[49m\u001B[43merrors\u001B[49m\u001B[38;5;241;43m=\u001B[39;49m\u001B[43merrors\u001B[49m\u001B[43m,\u001B[49m\n\u001B[1;32m    184\u001B[0m \u001B[43m    \u001B[49m\u001B[43mnewline\u001B[49m\u001B[38;5;241;43m=\u001B[39;49m\u001B[43mnewline\u001B[49m\u001B[43m,\u001B[49m\n\u001B[1;32m    185\u001B[0m \u001B[43m\u001B[49m\u001B[43m)\u001B[49m\n\u001B[1;32m    186\u001B[0m \u001B[38;5;28;01mif\u001B[39;00m fobj \u001B[38;5;129;01mis\u001B[39;00m \u001B[38;5;129;01mnot\u001B[39;00m \u001B[38;5;28;01mNone\u001B[39;00m:\n\u001B[1;32m    187\u001B[0m     \u001B[38;5;28;01mreturn\u001B[39;00m fobj\n",
      "File \u001B[0;32m~/opt/anaconda3/lib/python3.9/site-packages/smart_open/smart_open_lib.py:363\u001B[0m, in \u001B[0;36m_shortcut_open\u001B[0;34m(uri, mode, compression, buffering, encoding, errors, newline)\u001B[0m\n\u001B[1;32m    360\u001B[0m \u001B[38;5;28;01mif\u001B[39;00m errors \u001B[38;5;129;01mand\u001B[39;00m \u001B[38;5;124m'\u001B[39m\u001B[38;5;124mb\u001B[39m\u001B[38;5;124m'\u001B[39m \u001B[38;5;129;01mnot\u001B[39;00m \u001B[38;5;129;01min\u001B[39;00m mode:\n\u001B[1;32m    361\u001B[0m     open_kwargs[\u001B[38;5;124m'\u001B[39m\u001B[38;5;124merrors\u001B[39m\u001B[38;5;124m'\u001B[39m] \u001B[38;5;241m=\u001B[39m errors\n\u001B[0;32m--> 363\u001B[0m \u001B[38;5;28;01mreturn\u001B[39;00m \u001B[43m_builtin_open\u001B[49m\u001B[43m(\u001B[49m\u001B[43mlocal_path\u001B[49m\u001B[43m,\u001B[49m\u001B[43m \u001B[49m\u001B[43mmode\u001B[49m\u001B[43m,\u001B[49m\u001B[43m \u001B[49m\u001B[43mbuffering\u001B[49m\u001B[38;5;241;43m=\u001B[39;49m\u001B[43mbuffering\u001B[49m\u001B[43m,\u001B[49m\u001B[43m \u001B[49m\u001B[38;5;241;43m*\u001B[39;49m\u001B[38;5;241;43m*\u001B[39;49m\u001B[43mopen_kwargs\u001B[49m\u001B[43m)\u001B[49m\n",
      "\u001B[0;31mFileNotFoundError\u001B[0m: [Errno 2] No such file or directory: 'glove.6B.100d.txt'"
     ]
    }
   ],
   "source": [
    "from gensim.scripts.glove2word2vec import glove2word2vec\n",
    "from gensim.models import KeyedVectors\n",
    "\n",
    "# Convert GloVe format to Word2Vec format\n",
    "glove_input_file = 'glove.6B.100d.txt'\n",
    "word2vec_output_file = 'glove.6B.100d.word2vec.txt'\n",
    "glove2word2vec(glove_input_file, word2vec_output_file)\n",
    "\n",
    "# Load the GloVe model\n",
    "glove_model = KeyedVectors.load_word2vec_format(word2vec_output_file, binary=False)"
   ],
   "metadata": {
    "collapsed": false
   }
  },
  {
   "cell_type": "code",
   "execution_count": 17,
   "outputs": [
    {
     "ename": "TypeError",
     "evalue": "train_test() missing 1 required positional argument: 'test_size'",
     "output_type": "error",
     "traceback": [
      "\u001B[0;31m---------------------------------------------------------------------------\u001B[0m",
      "\u001B[0;31mTypeError\u001B[0m                                 Traceback (most recent call last)",
      "Input \u001B[0;32mIn [17]\u001B[0m, in \u001B[0;36m<cell line: 1>\u001B[0;34m()\u001B[0m\n\u001B[0;32m----> 1\u001B[0m \u001B[43mtrain_test\u001B[49m\u001B[43m(\u001B[49m\u001B[43mtranscriptions_with_sex\u001B[49m\u001B[38;5;241;43m.\u001B[39;49m\u001B[43mgroundtruth\u001B[49m\u001B[43m,\u001B[49m\u001B[43m \u001B[49m\u001B[43mtranscriptions_with_sex\u001B[49m\u001B[38;5;241;43m.\u001B[39;49m\u001B[43msex\u001B[49m\u001B[43m)\u001B[49m\n\u001B[1;32m      2\u001B[0m train_test(tfidf_vect\u001B[38;5;241m.\u001B[39mfit_transform(transcriptions_with_sex\u001B[38;5;241m.\u001B[39mgroundtruth), transcriptions_with_sex\u001B[38;5;241m.\u001B[39msex)\n",
      "\u001B[0;31mTypeError\u001B[0m: train_test() missing 1 required positional argument: 'test_size'"
     ]
    }
   ],
   "source": [
    "train_test(transcriptions_with_sex.groundtruth, transcriptions_with_sex.sex)\n",
    "train_test(tfidf_vect.fit_transform(transcriptions_with_sex.groundtruth), transcriptions_with_sex.sex)"
   ],
   "metadata": {
    "collapsed": false
   }
  },
  {
   "cell_type": "code",
   "execution_count": 72,
   "outputs": [
    {
     "data": {
      "text/plain": "      firstname       occupation        link\n0         Marie             idem       fille\n1    Louis-Jean               sp        chef\n2         Marie             idem        idem\n3         Marie              NaN       femme\n4    Marguerite              NaN         NaN\n..          ...              ...         ...\n236  Pétronille  sans profession      épouse\n237   Alexandre             idem    son fils\n238  Marguerite             idem      épouse\n239     Etienne              NaN        fils\n240  Antoinette              NaN  belle-mère\n\n[241 rows x 3 columns]",
      "text/html": "<div>\n<style scoped>\n    .dataframe tbody tr th:only-of-type {\n        vertical-align: middle;\n    }\n\n    .dataframe tbody tr th {\n        vertical-align: top;\n    }\n\n    .dataframe thead th {\n        text-align: right;\n    }\n</style>\n<table border=\"1\" class=\"dataframe\">\n  <thead>\n    <tr style=\"text-align: right;\">\n      <th></th>\n      <th>firstname</th>\n      <th>occupation</th>\n      <th>link</th>\n    </tr>\n  </thead>\n  <tbody>\n    <tr>\n      <th>0</th>\n      <td>Marie</td>\n      <td>idem</td>\n      <td>fille</td>\n    </tr>\n    <tr>\n      <th>1</th>\n      <td>Louis-Jean</td>\n      <td>sp</td>\n      <td>chef</td>\n    </tr>\n    <tr>\n      <th>2</th>\n      <td>Marie</td>\n      <td>idem</td>\n      <td>idem</td>\n    </tr>\n    <tr>\n      <th>3</th>\n      <td>Marie</td>\n      <td>NaN</td>\n      <td>femme</td>\n    </tr>\n    <tr>\n      <th>4</th>\n      <td>Marguerite</td>\n      <td>NaN</td>\n      <td>NaN</td>\n    </tr>\n    <tr>\n      <th>...</th>\n      <td>...</td>\n      <td>...</td>\n      <td>...</td>\n    </tr>\n    <tr>\n      <th>236</th>\n      <td>Pétronille</td>\n      <td>sans profession</td>\n      <td>épouse</td>\n    </tr>\n    <tr>\n      <th>237</th>\n      <td>Alexandre</td>\n      <td>idem</td>\n      <td>son fils</td>\n    </tr>\n    <tr>\n      <th>238</th>\n      <td>Marguerite</td>\n      <td>idem</td>\n      <td>épouse</td>\n    </tr>\n    <tr>\n      <th>239</th>\n      <td>Etienne</td>\n      <td>NaN</td>\n      <td>fils</td>\n    </tr>\n    <tr>\n      <th>240</th>\n      <td>Antoinette</td>\n      <td>NaN</td>\n      <td>belle-mère</td>\n    </tr>\n  </tbody>\n</table>\n<p>241 rows × 3 columns</p>\n</div>"
     },
     "execution_count": 72,
     "metadata": {},
     "output_type": "execute_result"
    }
   ],
   "source": [
    "gt_selected = pd.DataFrame()\n",
    "gt_selected = df[['firstname', 'occupation', 'link']].copy()\n",
    "gt_selected"
   ],
   "metadata": {
    "collapsed": false
   }
  },
  {
   "cell_type": "code",
   "execution_count": 237,
   "outputs": [
    {
     "data": {
      "text/plain": "      surname   firstname       occupation        link     age employer  \\\n0     Chardon       Marie             idem       fille      30            \n1    Lhopital  Louis-Jean               sp        chef      67            \n2       Papin       Marie             idem        idem      15     idem   \n3     Lavocat       Marie                        femme                    \n4       Benne  Marguerite                                   78            \n..        ...         ...              ...         ...     ...      ...   \n236  Burlurut  Pétronille  sans profession      épouse  61 ans            \n237    Combey   Alexandre             idem    son fils      39            \n238    Collin  Marguerite             idem      épouse      38     idem   \n239    Dumont     Etienne                         fils                    \n240    Renaut  Antoinette                   belle-mère                    \n\n    birth_date    lob civil_status observation    sex  \\\n0                                               femme   \n1                                               homme   \n2                                               femme   \n3         1875  Rigny                           femme   \n4                                               femme   \n..         ...    ...          ...         ...    ...   \n236                                             femme   \n237                                             homme   \n238                                             femme   \n239       1900   idem                           homme   \n240       1849  Rigny                           femme   \n\n                                              combined  \n0      firstname: marie, link: fille, occupation: idem  \n1     firstname: louisjean, link: chef, occupation: sp  \n2       firstname: marie, link: idem, occupation: idem  \n3          firstname: marie, link: femme, occupation:   \n4          firstname: marguerite, link: , occupation:   \n..                                                 ...  \n236  firstname: pétronille, link: épouse, occupatio...  \n237  firstname: alexandre, link: son fils, occupati...  \n238  firstname: marguerite, link: épouse, occupatio...  \n239       firstname: etienne, link: fils, occupation:   \n240  firstname: antoinette, link: belle-mère, occup...  \n\n[241 rows x 12 columns]",
      "text/html": "<div>\n<style scoped>\n    .dataframe tbody tr th:only-of-type {\n        vertical-align: middle;\n    }\n\n    .dataframe tbody tr th {\n        vertical-align: top;\n    }\n\n    .dataframe thead th {\n        text-align: right;\n    }\n</style>\n<table border=\"1\" class=\"dataframe\">\n  <thead>\n    <tr style=\"text-align: right;\">\n      <th></th>\n      <th>surname</th>\n      <th>firstname</th>\n      <th>occupation</th>\n      <th>link</th>\n      <th>age</th>\n      <th>employer</th>\n      <th>birth_date</th>\n      <th>lob</th>\n      <th>civil_status</th>\n      <th>observation</th>\n      <th>sex</th>\n      <th>combined</th>\n    </tr>\n  </thead>\n  <tbody>\n    <tr>\n      <th>0</th>\n      <td>Chardon</td>\n      <td>Marie</td>\n      <td>idem</td>\n      <td>fille</td>\n      <td>30</td>\n      <td></td>\n      <td></td>\n      <td></td>\n      <td></td>\n      <td></td>\n      <td>femme</td>\n      <td>firstname: marie, link: fille, occupation: idem</td>\n    </tr>\n    <tr>\n      <th>1</th>\n      <td>Lhopital</td>\n      <td>Louis-Jean</td>\n      <td>sp</td>\n      <td>chef</td>\n      <td>67</td>\n      <td></td>\n      <td></td>\n      <td></td>\n      <td></td>\n      <td></td>\n      <td>homme</td>\n      <td>firstname: louisjean, link: chef, occupation: sp</td>\n    </tr>\n    <tr>\n      <th>2</th>\n      <td>Papin</td>\n      <td>Marie</td>\n      <td>idem</td>\n      <td>idem</td>\n      <td>15</td>\n      <td>idem</td>\n      <td></td>\n      <td></td>\n      <td></td>\n      <td></td>\n      <td>femme</td>\n      <td>firstname: marie, link: idem, occupation: idem</td>\n    </tr>\n    <tr>\n      <th>3</th>\n      <td>Lavocat</td>\n      <td>Marie</td>\n      <td></td>\n      <td>femme</td>\n      <td></td>\n      <td></td>\n      <td>1875</td>\n      <td>Rigny</td>\n      <td></td>\n      <td></td>\n      <td>femme</td>\n      <td>firstname: marie, link: femme, occupation:</td>\n    </tr>\n    <tr>\n      <th>4</th>\n      <td>Benne</td>\n      <td>Marguerite</td>\n      <td></td>\n      <td></td>\n      <td>78</td>\n      <td></td>\n      <td></td>\n      <td></td>\n      <td></td>\n      <td></td>\n      <td>femme</td>\n      <td>firstname: marguerite, link: , occupation:</td>\n    </tr>\n    <tr>\n      <th>...</th>\n      <td>...</td>\n      <td>...</td>\n      <td>...</td>\n      <td>...</td>\n      <td>...</td>\n      <td>...</td>\n      <td>...</td>\n      <td>...</td>\n      <td>...</td>\n      <td>...</td>\n      <td>...</td>\n      <td>...</td>\n    </tr>\n    <tr>\n      <th>236</th>\n      <td>Burlurut</td>\n      <td>Pétronille</td>\n      <td>sans profession</td>\n      <td>épouse</td>\n      <td>61 ans</td>\n      <td></td>\n      <td></td>\n      <td></td>\n      <td></td>\n      <td></td>\n      <td>femme</td>\n      <td>firstname: pétronille, link: épouse, occupatio...</td>\n    </tr>\n    <tr>\n      <th>237</th>\n      <td>Combey</td>\n      <td>Alexandre</td>\n      <td>idem</td>\n      <td>son fils</td>\n      <td>39</td>\n      <td></td>\n      <td></td>\n      <td></td>\n      <td></td>\n      <td></td>\n      <td>homme</td>\n      <td>firstname: alexandre, link: son fils, occupati...</td>\n    </tr>\n    <tr>\n      <th>238</th>\n      <td>Collin</td>\n      <td>Marguerite</td>\n      <td>idem</td>\n      <td>épouse</td>\n      <td>38</td>\n      <td>idem</td>\n      <td></td>\n      <td></td>\n      <td></td>\n      <td></td>\n      <td>femme</td>\n      <td>firstname: marguerite, link: épouse, occupatio...</td>\n    </tr>\n    <tr>\n      <th>239</th>\n      <td>Dumont</td>\n      <td>Etienne</td>\n      <td></td>\n      <td>fils</td>\n      <td></td>\n      <td></td>\n      <td>1900</td>\n      <td>idem</td>\n      <td></td>\n      <td></td>\n      <td>homme</td>\n      <td>firstname: etienne, link: fils, occupation:</td>\n    </tr>\n    <tr>\n      <th>240</th>\n      <td>Renaut</td>\n      <td>Antoinette</td>\n      <td></td>\n      <td>belle-mère</td>\n      <td></td>\n      <td></td>\n      <td>1849</td>\n      <td>Rigny</td>\n      <td></td>\n      <td></td>\n      <td>femme</td>\n      <td>firstname: antoinette, link: belle-mère, occup...</td>\n    </tr>\n  </tbody>\n</table>\n<p>241 rows × 12 columns</p>\n</div>"
     },
     "execution_count": 237,
     "metadata": {},
     "output_type": "execute_result"
    }
   ],
   "source": [
    "df.fillna('', inplace=True)\n",
    "df['combined'] = 'firstname: ' + df_copy['firstname'] + ', link: ' + df_copy['link'] + ', occupation: ' + df_copy['occupation']\n",
    "df"
   ],
   "metadata": {
    "collapsed": false
   }
  },
  {
   "cell_type": "code",
   "execution_count": 238,
   "outputs": [
    {
     "data": {
      "text/plain": "      surname   firstname       occupation        link     age employer  \\\n0     Chardon       marie             idem       fille      30            \n1    Lhopital   louisjean               sp        chef      67            \n2       Papin       marie             idem        idem      15     idem   \n3     Lavocat       marie                        femme                    \n4       Benne  marguerite                                   78            \n..        ...         ...              ...         ...     ...      ...   \n236  Burlurut  pétronille  sans profession      épouse  61 ans            \n237    Combey   alexandre             idem    son fils      39            \n238    Collin  marguerite             idem      épouse      38     idem   \n239    Dumont     etienne                         fils                    \n240    Renaut  antoinette                   belle-mère                    \n\n    birth_date    lob civil_status observation    sex pred_sex  \\\n0                                               femme    femme   \n1                                               homme            \n2                                               femme    femme   \n3         1875  Rigny                           femme    femme   \n4                                               femme    femme   \n..         ...    ...          ...         ...    ...      ...   \n236                                             femme    femme   \n237                                             homme    homme   \n238                                             femme    femme   \n239       1900   idem                           homme    homme   \n240       1849  Rigny                           femme    femme   \n\n     correct_prediction                                           combined  \n0                  True    firstname: marie, link: fille, occupation: idem  \n1                 False   firstname: louisjean, link: chef, occupation: sp  \n2                  True     firstname: marie, link: idem, occupation: idem  \n3                  True        firstname: marie, link: femme, occupation:   \n4                  True        firstname: marguerite, link: , occupation:   \n..                  ...                                                ...  \n236                True  firstname: pétronille, link: épouse, occupatio...  \n237                True  firstname: alexandre, link: son fils, occupati...  \n238                True  firstname: marguerite, link: épouse, occupatio...  \n239                True       firstname: etienne, link: fils, occupation:   \n240                True  firstname: antoinette, link: belle-mère, occup...  \n\n[232 rows x 14 columns]",
      "text/html": "<div>\n<style scoped>\n    .dataframe tbody tr th:only-of-type {\n        vertical-align: middle;\n    }\n\n    .dataframe tbody tr th {\n        vertical-align: top;\n    }\n\n    .dataframe thead th {\n        text-align: right;\n    }\n</style>\n<table border=\"1\" class=\"dataframe\">\n  <thead>\n    <tr style=\"text-align: right;\">\n      <th></th>\n      <th>surname</th>\n      <th>firstname</th>\n      <th>occupation</th>\n      <th>link</th>\n      <th>age</th>\n      <th>employer</th>\n      <th>birth_date</th>\n      <th>lob</th>\n      <th>civil_status</th>\n      <th>observation</th>\n      <th>sex</th>\n      <th>pred_sex</th>\n      <th>correct_prediction</th>\n      <th>combined</th>\n    </tr>\n  </thead>\n  <tbody>\n    <tr>\n      <th>0</th>\n      <td>Chardon</td>\n      <td>marie</td>\n      <td>idem</td>\n      <td>fille</td>\n      <td>30</td>\n      <td></td>\n      <td></td>\n      <td></td>\n      <td></td>\n      <td></td>\n      <td>femme</td>\n      <td>femme</td>\n      <td>True</td>\n      <td>firstname: marie, link: fille, occupation: idem</td>\n    </tr>\n    <tr>\n      <th>1</th>\n      <td>Lhopital</td>\n      <td>louisjean</td>\n      <td>sp</td>\n      <td>chef</td>\n      <td>67</td>\n      <td></td>\n      <td></td>\n      <td></td>\n      <td></td>\n      <td></td>\n      <td>homme</td>\n      <td></td>\n      <td>False</td>\n      <td>firstname: louisjean, link: chef, occupation: sp</td>\n    </tr>\n    <tr>\n      <th>2</th>\n      <td>Papin</td>\n      <td>marie</td>\n      <td>idem</td>\n      <td>idem</td>\n      <td>15</td>\n      <td>idem</td>\n      <td></td>\n      <td></td>\n      <td></td>\n      <td></td>\n      <td>femme</td>\n      <td>femme</td>\n      <td>True</td>\n      <td>firstname: marie, link: idem, occupation: idem</td>\n    </tr>\n    <tr>\n      <th>3</th>\n      <td>Lavocat</td>\n      <td>marie</td>\n      <td></td>\n      <td>femme</td>\n      <td></td>\n      <td></td>\n      <td>1875</td>\n      <td>Rigny</td>\n      <td></td>\n      <td></td>\n      <td>femme</td>\n      <td>femme</td>\n      <td>True</td>\n      <td>firstname: marie, link: femme, occupation:</td>\n    </tr>\n    <tr>\n      <th>4</th>\n      <td>Benne</td>\n      <td>marguerite</td>\n      <td></td>\n      <td></td>\n      <td>78</td>\n      <td></td>\n      <td></td>\n      <td></td>\n      <td></td>\n      <td></td>\n      <td>femme</td>\n      <td>femme</td>\n      <td>True</td>\n      <td>firstname: marguerite, link: , occupation:</td>\n    </tr>\n    <tr>\n      <th>...</th>\n      <td>...</td>\n      <td>...</td>\n      <td>...</td>\n      <td>...</td>\n      <td>...</td>\n      <td>...</td>\n      <td>...</td>\n      <td>...</td>\n      <td>...</td>\n      <td>...</td>\n      <td>...</td>\n      <td>...</td>\n      <td>...</td>\n      <td>...</td>\n    </tr>\n    <tr>\n      <th>236</th>\n      <td>Burlurut</td>\n      <td>pétronille</td>\n      <td>sans profession</td>\n      <td>épouse</td>\n      <td>61 ans</td>\n      <td></td>\n      <td></td>\n      <td></td>\n      <td></td>\n      <td></td>\n      <td>femme</td>\n      <td>femme</td>\n      <td>True</td>\n      <td>firstname: pétronille, link: épouse, occupatio...</td>\n    </tr>\n    <tr>\n      <th>237</th>\n      <td>Combey</td>\n      <td>alexandre</td>\n      <td>idem</td>\n      <td>son fils</td>\n      <td>39</td>\n      <td></td>\n      <td></td>\n      <td></td>\n      <td></td>\n      <td></td>\n      <td>homme</td>\n      <td>homme</td>\n      <td>True</td>\n      <td>firstname: alexandre, link: son fils, occupati...</td>\n    </tr>\n    <tr>\n      <th>238</th>\n      <td>Collin</td>\n      <td>marguerite</td>\n      <td>idem</td>\n      <td>épouse</td>\n      <td>38</td>\n      <td>idem</td>\n      <td></td>\n      <td></td>\n      <td></td>\n      <td></td>\n      <td>femme</td>\n      <td>femme</td>\n      <td>True</td>\n      <td>firstname: marguerite, link: épouse, occupatio...</td>\n    </tr>\n    <tr>\n      <th>239</th>\n      <td>Dumont</td>\n      <td>etienne</td>\n      <td></td>\n      <td>fils</td>\n      <td></td>\n      <td></td>\n      <td>1900</td>\n      <td>idem</td>\n      <td></td>\n      <td></td>\n      <td>homme</td>\n      <td>homme</td>\n      <td>True</td>\n      <td>firstname: etienne, link: fils, occupation:</td>\n    </tr>\n    <tr>\n      <th>240</th>\n      <td>Renaut</td>\n      <td>antoinette</td>\n      <td></td>\n      <td>belle-mère</td>\n      <td></td>\n      <td></td>\n      <td>1849</td>\n      <td>Rigny</td>\n      <td></td>\n      <td></td>\n      <td>femme</td>\n      <td>femme</td>\n      <td>True</td>\n      <td>firstname: antoinette, link: belle-mère, occup...</td>\n    </tr>\n  </tbody>\n</table>\n<p>232 rows × 14 columns</p>\n</div>"
     },
     "execution_count": 238,
     "metadata": {},
     "output_type": "execute_result"
    }
   ],
   "source": [
    "df_copy_pre.fillna('', inplace=True)\n",
    "df_copy_pre['combined'] = 'firstname: ' + df_copy['firstname'] + ', link: ' + df_copy['link'] + ', occupation: ' + df_copy['occupation']\n",
    "df_copy_pre"
   ],
   "metadata": {
    "collapsed": false
   }
  },
  {
   "cell_type": "code",
   "execution_count": 245,
   "outputs": [],
   "source": [
    "datasets = {\n",
    "    \"Groundtruth\": transcriptions_with_sex.groundtruth,\n",
    "    \"Prediction\": transcriptions_with_sex.prediction,\n",
    "    \"gt_firstname_occupation_link\": df.combined\n",
    "    #\"gt_noambigu_firstname_occupation_link\": df_copy_pre.combined\n",
    "}\n",
    "\n",
    "vectorizers = {\n",
    "    \"BOW\": bow_vect,\n",
    "    \"TFIDF\": tfidf_vect\n",
    "   # \"Word2Vec\": word2vec\n",
    "}\n",
    "\n",
    "models = {\n",
    "    'Logistic Regression': LogisticRegression(),\n",
    "    'Random Forest': RandomForestClassifier(),\n",
    "    'SVM': SVC(),\n",
    "    'XGBoost': XGBClassifier(),\n",
    "    'Naive Bayes': MultinomialNB()\n",
    "    #'LightGBM': LGBMClassifier()\n",
    "}"
   ],
   "metadata": {
    "collapsed": false
   }
  },
  {
   "cell_type": "code",
   "execution_count": 70,
   "outputs": [],
   "source": [
    "X_train, X_test, y_train, y_test = train_test(transcriptions_with_sex.groundtruth, transcriptions_with_sex.sex, 0.2)\n",
    "target_names = ['male', 'female', 'ambig']"
   ],
   "metadata": {
    "collapsed": false
   }
  },
  {
   "cell_type": "code",
   "execution_count": 96,
   "outputs": [
    {
     "name": "stderr",
     "output_type": "stream",
     "text": [
      "/var/folders/n_/mj2qn5sd20lb04k5gcvn8fbr0000gn/T/ipykernel_23964/2604268862.py:27: FutureWarning: The frame.append method is deprecated and will be removed from pandas in a future version. Use pandas.concat instead.\n",
      "  results_df = results_df.append({'Dataset': data_name,\n",
      "/var/folders/n_/mj2qn5sd20lb04k5gcvn8fbr0000gn/T/ipykernel_23964/2604268862.py:27: FutureWarning: The frame.append method is deprecated and will be removed from pandas in a future version. Use pandas.concat instead.\n",
      "  results_df = results_df.append({'Dataset': data_name,\n",
      "/var/folders/n_/mj2qn5sd20lb04k5gcvn8fbr0000gn/T/ipykernel_23964/2604268862.py:27: FutureWarning: The frame.append method is deprecated and will be removed from pandas in a future version. Use pandas.concat instead.\n",
      "  results_df = results_df.append({'Dataset': data_name,\n",
      "/var/folders/n_/mj2qn5sd20lb04k5gcvn8fbr0000gn/T/ipykernel_23964/2604268862.py:27: FutureWarning: The frame.append method is deprecated and will be removed from pandas in a future version. Use pandas.concat instead.\n",
      "  results_df = results_df.append({'Dataset': data_name,\n",
      "/var/folders/n_/mj2qn5sd20lb04k5gcvn8fbr0000gn/T/ipykernel_23964/2604268862.py:27: FutureWarning: The frame.append method is deprecated and will be removed from pandas in a future version. Use pandas.concat instead.\n",
      "  results_df = results_df.append({'Dataset': data_name,\n",
      "/var/folders/n_/mj2qn5sd20lb04k5gcvn8fbr0000gn/T/ipykernel_23964/2604268862.py:27: FutureWarning: The frame.append method is deprecated and will be removed from pandas in a future version. Use pandas.concat instead.\n",
      "  results_df = results_df.append({'Dataset': data_name,\n",
      "/var/folders/n_/mj2qn5sd20lb04k5gcvn8fbr0000gn/T/ipykernel_23964/2604268862.py:27: FutureWarning: The frame.append method is deprecated and will be removed from pandas in a future version. Use pandas.concat instead.\n",
      "  results_df = results_df.append({'Dataset': data_name,\n",
      "/var/folders/n_/mj2qn5sd20lb04k5gcvn8fbr0000gn/T/ipykernel_23964/2604268862.py:27: FutureWarning: The frame.append method is deprecated and will be removed from pandas in a future version. Use pandas.concat instead.\n",
      "  results_df = results_df.append({'Dataset': data_name,\n",
      "/var/folders/n_/mj2qn5sd20lb04k5gcvn8fbr0000gn/T/ipykernel_23964/2604268862.py:27: FutureWarning: The frame.append method is deprecated and will be removed from pandas in a future version. Use pandas.concat instead.\n",
      "  results_df = results_df.append({'Dataset': data_name,\n",
      "/var/folders/n_/mj2qn5sd20lb04k5gcvn8fbr0000gn/T/ipykernel_23964/2604268862.py:27: FutureWarning: The frame.append method is deprecated and will be removed from pandas in a future version. Use pandas.concat instead.\n",
      "  results_df = results_df.append({'Dataset': data_name,\n",
      "/var/folders/n_/mj2qn5sd20lb04k5gcvn8fbr0000gn/T/ipykernel_23964/2604268862.py:27: FutureWarning: The frame.append method is deprecated and will be removed from pandas in a future version. Use pandas.concat instead.\n",
      "  results_df = results_df.append({'Dataset': data_name,\n",
      "/var/folders/n_/mj2qn5sd20lb04k5gcvn8fbr0000gn/T/ipykernel_23964/2604268862.py:27: FutureWarning: The frame.append method is deprecated and will be removed from pandas in a future version. Use pandas.concat instead.\n",
      "  results_df = results_df.append({'Dataset': data_name,\n",
      "/var/folders/n_/mj2qn5sd20lb04k5gcvn8fbr0000gn/T/ipykernel_23964/2604268862.py:27: FutureWarning: The frame.append method is deprecated and will be removed from pandas in a future version. Use pandas.concat instead.\n",
      "  results_df = results_df.append({'Dataset': data_name,\n",
      "/var/folders/n_/mj2qn5sd20lb04k5gcvn8fbr0000gn/T/ipykernel_23964/2604268862.py:27: FutureWarning: The frame.append method is deprecated and will be removed from pandas in a future version. Use pandas.concat instead.\n",
      "  results_df = results_df.append({'Dataset': data_name,\n",
      "/var/folders/n_/mj2qn5sd20lb04k5gcvn8fbr0000gn/T/ipykernel_23964/2604268862.py:27: FutureWarning: The frame.append method is deprecated and will be removed from pandas in a future version. Use pandas.concat instead.\n",
      "  results_df = results_df.append({'Dataset': data_name,\n",
      "/var/folders/n_/mj2qn5sd20lb04k5gcvn8fbr0000gn/T/ipykernel_23964/2604268862.py:27: FutureWarning: The frame.append method is deprecated and will be removed from pandas in a future version. Use pandas.concat instead.\n",
      "  results_df = results_df.append({'Dataset': data_name,\n",
      "/var/folders/n_/mj2qn5sd20lb04k5gcvn8fbr0000gn/T/ipykernel_23964/2604268862.py:27: FutureWarning: The frame.append method is deprecated and will be removed from pandas in a future version. Use pandas.concat instead.\n",
      "  results_df = results_df.append({'Dataset': data_name,\n",
      "/var/folders/n_/mj2qn5sd20lb04k5gcvn8fbr0000gn/T/ipykernel_23964/2604268862.py:27: FutureWarning: The frame.append method is deprecated and will be removed from pandas in a future version. Use pandas.concat instead.\n",
      "  results_df = results_df.append({'Dataset': data_name,\n",
      "/var/folders/n_/mj2qn5sd20lb04k5gcvn8fbr0000gn/T/ipykernel_23964/2604268862.py:27: FutureWarning: The frame.append method is deprecated and will be removed from pandas in a future version. Use pandas.concat instead.\n",
      "  results_df = results_df.append({'Dataset': data_name,\n",
      "/var/folders/n_/mj2qn5sd20lb04k5gcvn8fbr0000gn/T/ipykernel_23964/2604268862.py:27: FutureWarning: The frame.append method is deprecated and will be removed from pandas in a future version. Use pandas.concat instead.\n",
      "  results_df = results_df.append({'Dataset': data_name,\n",
      "/var/folders/n_/mj2qn5sd20lb04k5gcvn8fbr0000gn/T/ipykernel_23964/2604268862.py:27: FutureWarning: The frame.append method is deprecated and will be removed from pandas in a future version. Use pandas.concat instead.\n",
      "  results_df = results_df.append({'Dataset': data_name,\n",
      "/var/folders/n_/mj2qn5sd20lb04k5gcvn8fbr0000gn/T/ipykernel_23964/2604268862.py:27: FutureWarning: The frame.append method is deprecated and will be removed from pandas in a future version. Use pandas.concat instead.\n",
      "  results_df = results_df.append({'Dataset': data_name,\n",
      "/var/folders/n_/mj2qn5sd20lb04k5gcvn8fbr0000gn/T/ipykernel_23964/2604268862.py:27: FutureWarning: The frame.append method is deprecated and will be removed from pandas in a future version. Use pandas.concat instead.\n",
      "  results_df = results_df.append({'Dataset': data_name,\n",
      "/var/folders/n_/mj2qn5sd20lb04k5gcvn8fbr0000gn/T/ipykernel_23964/2604268862.py:27: FutureWarning: The frame.append method is deprecated and will be removed from pandas in a future version. Use pandas.concat instead.\n",
      "  results_df = results_df.append({'Dataset': data_name,\n",
      "/var/folders/n_/mj2qn5sd20lb04k5gcvn8fbr0000gn/T/ipykernel_23964/2604268862.py:27: FutureWarning: The frame.append method is deprecated and will be removed from pandas in a future version. Use pandas.concat instead.\n",
      "  results_df = results_df.append({'Dataset': data_name,\n",
      "/var/folders/n_/mj2qn5sd20lb04k5gcvn8fbr0000gn/T/ipykernel_23964/2604268862.py:27: FutureWarning: The frame.append method is deprecated and will be removed from pandas in a future version. Use pandas.concat instead.\n",
      "  results_df = results_df.append({'Dataset': data_name,\n",
      "/var/folders/n_/mj2qn5sd20lb04k5gcvn8fbr0000gn/T/ipykernel_23964/2604268862.py:27: FutureWarning: The frame.append method is deprecated and will be removed from pandas in a future version. Use pandas.concat instead.\n",
      "  results_df = results_df.append({'Dataset': data_name,\n",
      "/var/folders/n_/mj2qn5sd20lb04k5gcvn8fbr0000gn/T/ipykernel_23964/2604268862.py:27: FutureWarning: The frame.append method is deprecated and will be removed from pandas in a future version. Use pandas.concat instead.\n",
      "  results_df = results_df.append({'Dataset': data_name,\n"
     ]
    },
    {
     "name": "stdout",
     "output_type": "stream",
     "text": [
      "Results for Surname and Firstname Vectorization:\n"
     ]
    },
    {
     "name": "stderr",
     "output_type": "stream",
     "text": [
      "/var/folders/n_/mj2qn5sd20lb04k5gcvn8fbr0000gn/T/ipykernel_23964/2604268862.py:27: FutureWarning: The frame.append method is deprecated and will be removed from pandas in a future version. Use pandas.concat instead.\n",
      "  results_df = results_df.append({'Dataset': data_name,\n",
      "/var/folders/n_/mj2qn5sd20lb04k5gcvn8fbr0000gn/T/ipykernel_23964/2604268862.py:27: FutureWarning: The frame.append method is deprecated and will be removed from pandas in a future version. Use pandas.concat instead.\n",
      "  results_df = results_df.append({'Dataset': data_name,\n"
     ]
    },
    {
     "data": {
      "text/plain": "                         Dataset Vectorizer                Model  Accuracy  \\\n0                    Groundtruth        BOW  Logistic Regression  0.836735   \n1                    Groundtruth        BOW        Random Forest  0.857143   \n2                    Groundtruth        BOW                  SVM  0.816327   \n3                    Groundtruth        BOW              XGBoost  0.897959   \n4                    Groundtruth        BOW          Naive Bayes  0.938776   \n5                    Groundtruth      TFIDF  Logistic Regression  0.897959   \n6                    Groundtruth      TFIDF        Random Forest  0.857143   \n7                    Groundtruth      TFIDF                  SVM  0.918367   \n8                    Groundtruth      TFIDF              XGBoost  0.734694   \n9                    Groundtruth      TFIDF          Naive Bayes  0.918367   \n10                    Prediction        BOW  Logistic Regression  0.816327   \n11                    Prediction        BOW        Random Forest  0.795918   \n12                    Prediction        BOW                  SVM  0.816327   \n13                    Prediction        BOW              XGBoost  0.755102   \n14                    Prediction        BOW          Naive Bayes  0.816327   \n15                    Prediction      TFIDF  Logistic Regression  0.795918   \n16                    Prediction      TFIDF        Random Forest  0.714286   \n17                    Prediction      TFIDF                  SVM  0.795918   \n18                    Prediction      TFIDF              XGBoost  0.653061   \n19                    Prediction      TFIDF          Naive Bayes   0.77551   \n20  gt_firstname_occupation_link        BOW  Logistic Regression  0.918367   \n21  gt_firstname_occupation_link        BOW        Random Forest  0.918367   \n22  gt_firstname_occupation_link        BOW                  SVM  0.897959   \n23  gt_firstname_occupation_link        BOW              XGBoost  0.897959   \n24  gt_firstname_occupation_link        BOW          Naive Bayes  0.938776   \n25  gt_firstname_occupation_link      TFIDF  Logistic Regression  0.918367   \n26  gt_firstname_occupation_link      TFIDF        Random Forest  0.938776   \n27  gt_firstname_occupation_link      TFIDF                  SVM  0.938776   \n28  gt_firstname_occupation_link      TFIDF              XGBoost  0.918367   \n29  gt_firstname_occupation_link      TFIDF          Naive Bayes  0.938776   \n\n   Precision    Recall  F1-Score   ROC-AUC  \n0   0.836735  0.836735  0.836735  0.833612  \n1   0.857143  0.857143  0.857143  0.852843  \n2   0.816327  0.816327  0.816327  0.814381  \n3   0.897959  0.897959  0.897959  0.896321  \n4   0.938776  0.938776  0.938776  0.937291  \n5   0.897959  0.897959  0.897959  0.893813  \n6   0.857143  0.857143  0.857143  0.855351  \n7   0.918367  0.918367  0.918367  0.915552  \n8   0.734694  0.734694  0.734694   0.73495  \n9   0.918367  0.918367  0.918367  0.915552  \n10  0.816327  0.816327  0.816327  0.814381  \n11  0.795918  0.795918  0.795918  0.792642  \n12  0.816327  0.816327  0.816327  0.811873  \n13  0.755102  0.755102  0.755102  0.754181  \n14  0.816327  0.816327  0.816327  0.811873  \n15  0.795918  0.795918  0.795918  0.790134  \n16  0.714286  0.714286  0.714286  0.717391  \n17  0.795918  0.795918  0.795918  0.790134  \n18  0.653061  0.653061  0.653061  0.720736  \n19   0.77551   0.77551   0.77551  0.765886  \n20  0.918367  0.918367  0.918367  0.915552  \n21  0.918367  0.918367  0.918367  0.915552  \n22  0.897959  0.897959  0.897959  0.896321  \n23  0.897959  0.897959  0.897959  0.896321  \n24  0.938776  0.938776  0.938776  0.937291  \n25  0.918367  0.918367  0.918367  0.915552  \n26  0.938776  0.938776  0.938776  0.937291  \n27  0.938776  0.938776  0.938776  0.937291  \n28  0.918367  0.918367  0.918367  0.913043  \n29  0.938776  0.938776  0.938776  0.937291  ",
      "text/html": "<div>\n<style scoped>\n    .dataframe tbody tr th:only-of-type {\n        vertical-align: middle;\n    }\n\n    .dataframe tbody tr th {\n        vertical-align: top;\n    }\n\n    .dataframe thead th {\n        text-align: right;\n    }\n</style>\n<table border=\"1\" class=\"dataframe\">\n  <thead>\n    <tr style=\"text-align: right;\">\n      <th></th>\n      <th>Dataset</th>\n      <th>Vectorizer</th>\n      <th>Model</th>\n      <th>Accuracy</th>\n      <th>Precision</th>\n      <th>Recall</th>\n      <th>F1-Score</th>\n      <th>ROC-AUC</th>\n    </tr>\n  </thead>\n  <tbody>\n    <tr>\n      <th>0</th>\n      <td>Groundtruth</td>\n      <td>BOW</td>\n      <td>Logistic Regression</td>\n      <td>0.836735</td>\n      <td>0.836735</td>\n      <td>0.836735</td>\n      <td>0.836735</td>\n      <td>0.833612</td>\n    </tr>\n    <tr>\n      <th>1</th>\n      <td>Groundtruth</td>\n      <td>BOW</td>\n      <td>Random Forest</td>\n      <td>0.857143</td>\n      <td>0.857143</td>\n      <td>0.857143</td>\n      <td>0.857143</td>\n      <td>0.852843</td>\n    </tr>\n    <tr>\n      <th>2</th>\n      <td>Groundtruth</td>\n      <td>BOW</td>\n      <td>SVM</td>\n      <td>0.816327</td>\n      <td>0.816327</td>\n      <td>0.816327</td>\n      <td>0.816327</td>\n      <td>0.814381</td>\n    </tr>\n    <tr>\n      <th>3</th>\n      <td>Groundtruth</td>\n      <td>BOW</td>\n      <td>XGBoost</td>\n      <td>0.897959</td>\n      <td>0.897959</td>\n      <td>0.897959</td>\n      <td>0.897959</td>\n      <td>0.896321</td>\n    </tr>\n    <tr>\n      <th>4</th>\n      <td>Groundtruth</td>\n      <td>BOW</td>\n      <td>Naive Bayes</td>\n      <td>0.938776</td>\n      <td>0.938776</td>\n      <td>0.938776</td>\n      <td>0.938776</td>\n      <td>0.937291</td>\n    </tr>\n    <tr>\n      <th>5</th>\n      <td>Groundtruth</td>\n      <td>TFIDF</td>\n      <td>Logistic Regression</td>\n      <td>0.897959</td>\n      <td>0.897959</td>\n      <td>0.897959</td>\n      <td>0.897959</td>\n      <td>0.893813</td>\n    </tr>\n    <tr>\n      <th>6</th>\n      <td>Groundtruth</td>\n      <td>TFIDF</td>\n      <td>Random Forest</td>\n      <td>0.857143</td>\n      <td>0.857143</td>\n      <td>0.857143</td>\n      <td>0.857143</td>\n      <td>0.855351</td>\n    </tr>\n    <tr>\n      <th>7</th>\n      <td>Groundtruth</td>\n      <td>TFIDF</td>\n      <td>SVM</td>\n      <td>0.918367</td>\n      <td>0.918367</td>\n      <td>0.918367</td>\n      <td>0.918367</td>\n      <td>0.915552</td>\n    </tr>\n    <tr>\n      <th>8</th>\n      <td>Groundtruth</td>\n      <td>TFIDF</td>\n      <td>XGBoost</td>\n      <td>0.734694</td>\n      <td>0.734694</td>\n      <td>0.734694</td>\n      <td>0.734694</td>\n      <td>0.73495</td>\n    </tr>\n    <tr>\n      <th>9</th>\n      <td>Groundtruth</td>\n      <td>TFIDF</td>\n      <td>Naive Bayes</td>\n      <td>0.918367</td>\n      <td>0.918367</td>\n      <td>0.918367</td>\n      <td>0.918367</td>\n      <td>0.915552</td>\n    </tr>\n    <tr>\n      <th>10</th>\n      <td>Prediction</td>\n      <td>BOW</td>\n      <td>Logistic Regression</td>\n      <td>0.816327</td>\n      <td>0.816327</td>\n      <td>0.816327</td>\n      <td>0.816327</td>\n      <td>0.814381</td>\n    </tr>\n    <tr>\n      <th>11</th>\n      <td>Prediction</td>\n      <td>BOW</td>\n      <td>Random Forest</td>\n      <td>0.795918</td>\n      <td>0.795918</td>\n      <td>0.795918</td>\n      <td>0.795918</td>\n      <td>0.792642</td>\n    </tr>\n    <tr>\n      <th>12</th>\n      <td>Prediction</td>\n      <td>BOW</td>\n      <td>SVM</td>\n      <td>0.816327</td>\n      <td>0.816327</td>\n      <td>0.816327</td>\n      <td>0.816327</td>\n      <td>0.811873</td>\n    </tr>\n    <tr>\n      <th>13</th>\n      <td>Prediction</td>\n      <td>BOW</td>\n      <td>XGBoost</td>\n      <td>0.755102</td>\n      <td>0.755102</td>\n      <td>0.755102</td>\n      <td>0.755102</td>\n      <td>0.754181</td>\n    </tr>\n    <tr>\n      <th>14</th>\n      <td>Prediction</td>\n      <td>BOW</td>\n      <td>Naive Bayes</td>\n      <td>0.816327</td>\n      <td>0.816327</td>\n      <td>0.816327</td>\n      <td>0.816327</td>\n      <td>0.811873</td>\n    </tr>\n    <tr>\n      <th>15</th>\n      <td>Prediction</td>\n      <td>TFIDF</td>\n      <td>Logistic Regression</td>\n      <td>0.795918</td>\n      <td>0.795918</td>\n      <td>0.795918</td>\n      <td>0.795918</td>\n      <td>0.790134</td>\n    </tr>\n    <tr>\n      <th>16</th>\n      <td>Prediction</td>\n      <td>TFIDF</td>\n      <td>Random Forest</td>\n      <td>0.714286</td>\n      <td>0.714286</td>\n      <td>0.714286</td>\n      <td>0.714286</td>\n      <td>0.717391</td>\n    </tr>\n    <tr>\n      <th>17</th>\n      <td>Prediction</td>\n      <td>TFIDF</td>\n      <td>SVM</td>\n      <td>0.795918</td>\n      <td>0.795918</td>\n      <td>0.795918</td>\n      <td>0.795918</td>\n      <td>0.790134</td>\n    </tr>\n    <tr>\n      <th>18</th>\n      <td>Prediction</td>\n      <td>TFIDF</td>\n      <td>XGBoost</td>\n      <td>0.653061</td>\n      <td>0.653061</td>\n      <td>0.653061</td>\n      <td>0.653061</td>\n      <td>0.720736</td>\n    </tr>\n    <tr>\n      <th>19</th>\n      <td>Prediction</td>\n      <td>TFIDF</td>\n      <td>Naive Bayes</td>\n      <td>0.77551</td>\n      <td>0.77551</td>\n      <td>0.77551</td>\n      <td>0.77551</td>\n      <td>0.765886</td>\n    </tr>\n    <tr>\n      <th>20</th>\n      <td>gt_firstname_occupation_link</td>\n      <td>BOW</td>\n      <td>Logistic Regression</td>\n      <td>0.918367</td>\n      <td>0.918367</td>\n      <td>0.918367</td>\n      <td>0.918367</td>\n      <td>0.915552</td>\n    </tr>\n    <tr>\n      <th>21</th>\n      <td>gt_firstname_occupation_link</td>\n      <td>BOW</td>\n      <td>Random Forest</td>\n      <td>0.918367</td>\n      <td>0.918367</td>\n      <td>0.918367</td>\n      <td>0.918367</td>\n      <td>0.915552</td>\n    </tr>\n    <tr>\n      <th>22</th>\n      <td>gt_firstname_occupation_link</td>\n      <td>BOW</td>\n      <td>SVM</td>\n      <td>0.897959</td>\n      <td>0.897959</td>\n      <td>0.897959</td>\n      <td>0.897959</td>\n      <td>0.896321</td>\n    </tr>\n    <tr>\n      <th>23</th>\n      <td>gt_firstname_occupation_link</td>\n      <td>BOW</td>\n      <td>XGBoost</td>\n      <td>0.897959</td>\n      <td>0.897959</td>\n      <td>0.897959</td>\n      <td>0.897959</td>\n      <td>0.896321</td>\n    </tr>\n    <tr>\n      <th>24</th>\n      <td>gt_firstname_occupation_link</td>\n      <td>BOW</td>\n      <td>Naive Bayes</td>\n      <td>0.938776</td>\n      <td>0.938776</td>\n      <td>0.938776</td>\n      <td>0.938776</td>\n      <td>0.937291</td>\n    </tr>\n    <tr>\n      <th>25</th>\n      <td>gt_firstname_occupation_link</td>\n      <td>TFIDF</td>\n      <td>Logistic Regression</td>\n      <td>0.918367</td>\n      <td>0.918367</td>\n      <td>0.918367</td>\n      <td>0.918367</td>\n      <td>0.915552</td>\n    </tr>\n    <tr>\n      <th>26</th>\n      <td>gt_firstname_occupation_link</td>\n      <td>TFIDF</td>\n      <td>Random Forest</td>\n      <td>0.938776</td>\n      <td>0.938776</td>\n      <td>0.938776</td>\n      <td>0.938776</td>\n      <td>0.937291</td>\n    </tr>\n    <tr>\n      <th>27</th>\n      <td>gt_firstname_occupation_link</td>\n      <td>TFIDF</td>\n      <td>SVM</td>\n      <td>0.938776</td>\n      <td>0.938776</td>\n      <td>0.938776</td>\n      <td>0.938776</td>\n      <td>0.937291</td>\n    </tr>\n    <tr>\n      <th>28</th>\n      <td>gt_firstname_occupation_link</td>\n      <td>TFIDF</td>\n      <td>XGBoost</td>\n      <td>0.918367</td>\n      <td>0.918367</td>\n      <td>0.918367</td>\n      <td>0.918367</td>\n      <td>0.913043</td>\n    </tr>\n    <tr>\n      <th>29</th>\n      <td>gt_firstname_occupation_link</td>\n      <td>TFIDF</td>\n      <td>Naive Bayes</td>\n      <td>0.938776</td>\n      <td>0.938776</td>\n      <td>0.938776</td>\n      <td>0.938776</td>\n      <td>0.937291</td>\n    </tr>\n  </tbody>\n</table>\n</div>"
     },
     "metadata": {},
     "output_type": "display_data"
    }
   ],
   "source": [
    "results_df = pd.DataFrame(columns=['Dataset', 'Vectorizer', 'Model', 'Accuracy', 'Precision', 'Recall', 'F1-Score', 'ROC-AUC'])\n",
    "\n",
    "for data_name, data in datasets.items():\n",
    "    X_train, X_test, y_train, y_test = train_test(data, transcriptions_with_sex.sex, 0.2)\n",
    "\n",
    "    for vec_name, vectorizer in vectorizers.items():\n",
    "        # Fit and transform vectorizer on training data\n",
    "        X_train_vec = vectorizer.fit_transform(X_train)\n",
    "        X_test_vec = vectorizer.transform(X_test)\n",
    "\n",
    "        # Iterate over models\n",
    "        for model_name, model in models.items():\n",
    "            # Fit model on vectorized data\n",
    "            model.fit(X_train_vec, y_train)\n",
    "\n",
    "            # Make predictions\n",
    "            y_pred = model.predict(X_test_vec)\n",
    "\n",
    "            # Calculate evaluation metrics\n",
    "            accuracy = accuracy_score(y_test, y_pred)\n",
    "            precision = precision_score(y_test, y_pred, average='micro')\n",
    "            recall = recall_score(y_test, y_pred, average='micro')\n",
    "            f1 = f1_score(y_test, y_pred, average='micro')\n",
    "            roc_auc = roc_auc_score(y_test, y_pred)\n",
    "\n",
    "            # Append results to dataframe\n",
    "            results_df = results_df.append({'Dataset': data_name,\n",
    "                                            'Vectorizer': vec_name,\n",
    "                                            'Model': model_name,\n",
    "                                            'Accuracy': accuracy,\n",
    "                                            'Precision': precision,\n",
    "                                            'Recall': recall,\n",
    "                                            'F1-Score': f1,\n",
    "                                            'ROC-AUC': roc_auc},\n",
    "                                            ignore_index=True)\n",
    "            #print(classification_report(y_test, y_pred))\n",
    "\n",
    "# Display results dataframe"
   ],
   "metadata": {
    "collapsed": false
   }
  },
  {
   "cell_type": "code",
   "execution_count": 172,
   "outputs": [
    {
     "name": "stdout",
     "output_type": "stream",
     "text": [
      "Results for Surname and Firstname Vectorization:\n"
     ]
    },
    {
     "data": {
      "text/plain": "                         Dataset Vectorizer                Model  Accuracy  \\\n0                    Groundtruth        BOW  Logistic Regression  0.836735   \n1                    Groundtruth        BOW        Random Forest  0.857143   \n2                    Groundtruth        BOW                  SVM  0.816327   \n3                    Groundtruth        BOW              XGBoost  0.897959   \n4                    Groundtruth        BOW          Naive Bayes  0.938776   \n5                    Groundtruth      TFIDF  Logistic Regression  0.897959   \n6                    Groundtruth      TFIDF        Random Forest  0.857143   \n7                    Groundtruth      TFIDF                  SVM  0.918367   \n8                    Groundtruth      TFIDF              XGBoost  0.734694   \n9                    Groundtruth      TFIDF          Naive Bayes  0.918367   \n10                    Prediction        BOW  Logistic Regression  0.816327   \n11                    Prediction        BOW        Random Forest  0.795918   \n12                    Prediction        BOW                  SVM  0.816327   \n13                    Prediction        BOW              XGBoost  0.755102   \n14                    Prediction        BOW          Naive Bayes  0.816327   \n15                    Prediction      TFIDF  Logistic Regression  0.795918   \n16                    Prediction      TFIDF        Random Forest  0.714286   \n17                    Prediction      TFIDF                  SVM  0.795918   \n18                    Prediction      TFIDF              XGBoost  0.653061   \n19                    Prediction      TFIDF          Naive Bayes   0.77551   \n20  gt_firstname_occupation_link        BOW  Logistic Regression  0.918367   \n21  gt_firstname_occupation_link        BOW        Random Forest  0.918367   \n22  gt_firstname_occupation_link        BOW                  SVM  0.897959   \n23  gt_firstname_occupation_link        BOW              XGBoost  0.897959   \n24  gt_firstname_occupation_link        BOW          Naive Bayes  0.938776   \n25  gt_firstname_occupation_link      TFIDF  Logistic Regression  0.918367   \n26  gt_firstname_occupation_link      TFIDF        Random Forest  0.938776   \n27  gt_firstname_occupation_link      TFIDF                  SVM  0.938776   \n28  gt_firstname_occupation_link      TFIDF              XGBoost  0.918367   \n29  gt_firstname_occupation_link      TFIDF          Naive Bayes  0.938776   \n\n   Precision    Recall  F1-Score   ROC-AUC  \n0   0.836735  0.836735  0.836735  0.833612  \n1   0.857143  0.857143  0.857143  0.852843  \n2   0.816327  0.816327  0.816327  0.814381  \n3   0.897959  0.897959  0.897959  0.896321  \n4   0.938776  0.938776  0.938776  0.937291  \n5   0.897959  0.897959  0.897959  0.893813  \n6   0.857143  0.857143  0.857143  0.855351  \n7   0.918367  0.918367  0.918367  0.915552  \n8   0.734694  0.734694  0.734694   0.73495  \n9   0.918367  0.918367  0.918367  0.915552  \n10  0.816327  0.816327  0.816327  0.814381  \n11  0.795918  0.795918  0.795918  0.792642  \n12  0.816327  0.816327  0.816327  0.811873  \n13  0.755102  0.755102  0.755102  0.754181  \n14  0.816327  0.816327  0.816327  0.811873  \n15  0.795918  0.795918  0.795918  0.790134  \n16  0.714286  0.714286  0.714286  0.717391  \n17  0.795918  0.795918  0.795918  0.790134  \n18  0.653061  0.653061  0.653061  0.720736  \n19   0.77551   0.77551   0.77551  0.765886  \n20  0.918367  0.918367  0.918367  0.915552  \n21  0.918367  0.918367  0.918367  0.915552  \n22  0.897959  0.897959  0.897959  0.896321  \n23  0.897959  0.897959  0.897959  0.896321  \n24  0.938776  0.938776  0.938776  0.937291  \n25  0.918367  0.918367  0.918367  0.915552  \n26  0.938776  0.938776  0.938776  0.937291  \n27  0.938776  0.938776  0.938776  0.937291  \n28  0.918367  0.918367  0.918367  0.913043  \n29  0.938776  0.938776  0.938776  0.937291  ",
      "text/html": "<div>\n<style scoped>\n    .dataframe tbody tr th:only-of-type {\n        vertical-align: middle;\n    }\n\n    .dataframe tbody tr th {\n        vertical-align: top;\n    }\n\n    .dataframe thead th {\n        text-align: right;\n    }\n</style>\n<table border=\"1\" class=\"dataframe\">\n  <thead>\n    <tr style=\"text-align: right;\">\n      <th></th>\n      <th>Dataset</th>\n      <th>Vectorizer</th>\n      <th>Model</th>\n      <th>Accuracy</th>\n      <th>Precision</th>\n      <th>Recall</th>\n      <th>F1-Score</th>\n      <th>ROC-AUC</th>\n    </tr>\n  </thead>\n  <tbody>\n    <tr>\n      <th>0</th>\n      <td>Groundtruth</td>\n      <td>BOW</td>\n      <td>Logistic Regression</td>\n      <td>0.836735</td>\n      <td>0.836735</td>\n      <td>0.836735</td>\n      <td>0.836735</td>\n      <td>0.833612</td>\n    </tr>\n    <tr>\n      <th>1</th>\n      <td>Groundtruth</td>\n      <td>BOW</td>\n      <td>Random Forest</td>\n      <td>0.857143</td>\n      <td>0.857143</td>\n      <td>0.857143</td>\n      <td>0.857143</td>\n      <td>0.852843</td>\n    </tr>\n    <tr>\n      <th>2</th>\n      <td>Groundtruth</td>\n      <td>BOW</td>\n      <td>SVM</td>\n      <td>0.816327</td>\n      <td>0.816327</td>\n      <td>0.816327</td>\n      <td>0.816327</td>\n      <td>0.814381</td>\n    </tr>\n    <tr>\n      <th>3</th>\n      <td>Groundtruth</td>\n      <td>BOW</td>\n      <td>XGBoost</td>\n      <td>0.897959</td>\n      <td>0.897959</td>\n      <td>0.897959</td>\n      <td>0.897959</td>\n      <td>0.896321</td>\n    </tr>\n    <tr>\n      <th>4</th>\n      <td>Groundtruth</td>\n      <td>BOW</td>\n      <td>Naive Bayes</td>\n      <td>0.938776</td>\n      <td>0.938776</td>\n      <td>0.938776</td>\n      <td>0.938776</td>\n      <td>0.937291</td>\n    </tr>\n    <tr>\n      <th>5</th>\n      <td>Groundtruth</td>\n      <td>TFIDF</td>\n      <td>Logistic Regression</td>\n      <td>0.897959</td>\n      <td>0.897959</td>\n      <td>0.897959</td>\n      <td>0.897959</td>\n      <td>0.893813</td>\n    </tr>\n    <tr>\n      <th>6</th>\n      <td>Groundtruth</td>\n      <td>TFIDF</td>\n      <td>Random Forest</td>\n      <td>0.857143</td>\n      <td>0.857143</td>\n      <td>0.857143</td>\n      <td>0.857143</td>\n      <td>0.855351</td>\n    </tr>\n    <tr>\n      <th>7</th>\n      <td>Groundtruth</td>\n      <td>TFIDF</td>\n      <td>SVM</td>\n      <td>0.918367</td>\n      <td>0.918367</td>\n      <td>0.918367</td>\n      <td>0.918367</td>\n      <td>0.915552</td>\n    </tr>\n    <tr>\n      <th>8</th>\n      <td>Groundtruth</td>\n      <td>TFIDF</td>\n      <td>XGBoost</td>\n      <td>0.734694</td>\n      <td>0.734694</td>\n      <td>0.734694</td>\n      <td>0.734694</td>\n      <td>0.73495</td>\n    </tr>\n    <tr>\n      <th>9</th>\n      <td>Groundtruth</td>\n      <td>TFIDF</td>\n      <td>Naive Bayes</td>\n      <td>0.918367</td>\n      <td>0.918367</td>\n      <td>0.918367</td>\n      <td>0.918367</td>\n      <td>0.915552</td>\n    </tr>\n    <tr>\n      <th>10</th>\n      <td>Prediction</td>\n      <td>BOW</td>\n      <td>Logistic Regression</td>\n      <td>0.816327</td>\n      <td>0.816327</td>\n      <td>0.816327</td>\n      <td>0.816327</td>\n      <td>0.814381</td>\n    </tr>\n    <tr>\n      <th>11</th>\n      <td>Prediction</td>\n      <td>BOW</td>\n      <td>Random Forest</td>\n      <td>0.795918</td>\n      <td>0.795918</td>\n      <td>0.795918</td>\n      <td>0.795918</td>\n      <td>0.792642</td>\n    </tr>\n    <tr>\n      <th>12</th>\n      <td>Prediction</td>\n      <td>BOW</td>\n      <td>SVM</td>\n      <td>0.816327</td>\n      <td>0.816327</td>\n      <td>0.816327</td>\n      <td>0.816327</td>\n      <td>0.811873</td>\n    </tr>\n    <tr>\n      <th>13</th>\n      <td>Prediction</td>\n      <td>BOW</td>\n      <td>XGBoost</td>\n      <td>0.755102</td>\n      <td>0.755102</td>\n      <td>0.755102</td>\n      <td>0.755102</td>\n      <td>0.754181</td>\n    </tr>\n    <tr>\n      <th>14</th>\n      <td>Prediction</td>\n      <td>BOW</td>\n      <td>Naive Bayes</td>\n      <td>0.816327</td>\n      <td>0.816327</td>\n      <td>0.816327</td>\n      <td>0.816327</td>\n      <td>0.811873</td>\n    </tr>\n    <tr>\n      <th>15</th>\n      <td>Prediction</td>\n      <td>TFIDF</td>\n      <td>Logistic Regression</td>\n      <td>0.795918</td>\n      <td>0.795918</td>\n      <td>0.795918</td>\n      <td>0.795918</td>\n      <td>0.790134</td>\n    </tr>\n    <tr>\n      <th>16</th>\n      <td>Prediction</td>\n      <td>TFIDF</td>\n      <td>Random Forest</td>\n      <td>0.714286</td>\n      <td>0.714286</td>\n      <td>0.714286</td>\n      <td>0.714286</td>\n      <td>0.717391</td>\n    </tr>\n    <tr>\n      <th>17</th>\n      <td>Prediction</td>\n      <td>TFIDF</td>\n      <td>SVM</td>\n      <td>0.795918</td>\n      <td>0.795918</td>\n      <td>0.795918</td>\n      <td>0.795918</td>\n      <td>0.790134</td>\n    </tr>\n    <tr>\n      <th>18</th>\n      <td>Prediction</td>\n      <td>TFIDF</td>\n      <td>XGBoost</td>\n      <td>0.653061</td>\n      <td>0.653061</td>\n      <td>0.653061</td>\n      <td>0.653061</td>\n      <td>0.720736</td>\n    </tr>\n    <tr>\n      <th>19</th>\n      <td>Prediction</td>\n      <td>TFIDF</td>\n      <td>Naive Bayes</td>\n      <td>0.77551</td>\n      <td>0.77551</td>\n      <td>0.77551</td>\n      <td>0.77551</td>\n      <td>0.765886</td>\n    </tr>\n    <tr>\n      <th>20</th>\n      <td>gt_firstname_occupation_link</td>\n      <td>BOW</td>\n      <td>Logistic Regression</td>\n      <td>0.918367</td>\n      <td>0.918367</td>\n      <td>0.918367</td>\n      <td>0.918367</td>\n      <td>0.915552</td>\n    </tr>\n    <tr>\n      <th>21</th>\n      <td>gt_firstname_occupation_link</td>\n      <td>BOW</td>\n      <td>Random Forest</td>\n      <td>0.918367</td>\n      <td>0.918367</td>\n      <td>0.918367</td>\n      <td>0.918367</td>\n      <td>0.915552</td>\n    </tr>\n    <tr>\n      <th>22</th>\n      <td>gt_firstname_occupation_link</td>\n      <td>BOW</td>\n      <td>SVM</td>\n      <td>0.897959</td>\n      <td>0.897959</td>\n      <td>0.897959</td>\n      <td>0.897959</td>\n      <td>0.896321</td>\n    </tr>\n    <tr>\n      <th>23</th>\n      <td>gt_firstname_occupation_link</td>\n      <td>BOW</td>\n      <td>XGBoost</td>\n      <td>0.897959</td>\n      <td>0.897959</td>\n      <td>0.897959</td>\n      <td>0.897959</td>\n      <td>0.896321</td>\n    </tr>\n    <tr>\n      <th>24</th>\n      <td>gt_firstname_occupation_link</td>\n      <td>BOW</td>\n      <td>Naive Bayes</td>\n      <td>0.938776</td>\n      <td>0.938776</td>\n      <td>0.938776</td>\n      <td>0.938776</td>\n      <td>0.937291</td>\n    </tr>\n    <tr>\n      <th>25</th>\n      <td>gt_firstname_occupation_link</td>\n      <td>TFIDF</td>\n      <td>Logistic Regression</td>\n      <td>0.918367</td>\n      <td>0.918367</td>\n      <td>0.918367</td>\n      <td>0.918367</td>\n      <td>0.915552</td>\n    </tr>\n    <tr>\n      <th>26</th>\n      <td>gt_firstname_occupation_link</td>\n      <td>TFIDF</td>\n      <td>Random Forest</td>\n      <td>0.938776</td>\n      <td>0.938776</td>\n      <td>0.938776</td>\n      <td>0.938776</td>\n      <td>0.937291</td>\n    </tr>\n    <tr>\n      <th>27</th>\n      <td>gt_firstname_occupation_link</td>\n      <td>TFIDF</td>\n      <td>SVM</td>\n      <td>0.938776</td>\n      <td>0.938776</td>\n      <td>0.938776</td>\n      <td>0.938776</td>\n      <td>0.937291</td>\n    </tr>\n    <tr>\n      <th>28</th>\n      <td>gt_firstname_occupation_link</td>\n      <td>TFIDF</td>\n      <td>XGBoost</td>\n      <td>0.918367</td>\n      <td>0.918367</td>\n      <td>0.918367</td>\n      <td>0.918367</td>\n      <td>0.913043</td>\n    </tr>\n    <tr>\n      <th>29</th>\n      <td>gt_firstname_occupation_link</td>\n      <td>TFIDF</td>\n      <td>Naive Bayes</td>\n      <td>0.938776</td>\n      <td>0.938776</td>\n      <td>0.938776</td>\n      <td>0.938776</td>\n      <td>0.937291</td>\n    </tr>\n  </tbody>\n</table>\n</div>"
     },
     "execution_count": 172,
     "metadata": {},
     "output_type": "execute_result"
    }
   ],
   "source": [
    "print(\"Results for TrainTestSplit Vectorization:\")\n",
    "results_df"
   ],
   "metadata": {
    "collapsed": false
   }
  },
  {
   "cell_type": "code",
   "execution_count": 244,
   "outputs": [
    {
     "name": "stderr",
     "output_type": "stream",
     "text": [
      "/var/folders/n_/mj2qn5sd20lb04k5gcvn8fbr0000gn/T/ipykernel_23964/962011091.py:29: FutureWarning: The frame.append method is deprecated and will be removed from pandas in a future version. Use pandas.concat instead.\n",
      "  results_df_kfold = results_df_kfold.append({'Data': data_name,\n",
      "/var/folders/n_/mj2qn5sd20lb04k5gcvn8fbr0000gn/T/ipykernel_23964/962011091.py:29: FutureWarning: The frame.append method is deprecated and will be removed from pandas in a future version. Use pandas.concat instead.\n",
      "  results_df_kfold = results_df_kfold.append({'Data': data_name,\n",
      "/var/folders/n_/mj2qn5sd20lb04k5gcvn8fbr0000gn/T/ipykernel_23964/962011091.py:29: FutureWarning: The frame.append method is deprecated and will be removed from pandas in a future version. Use pandas.concat instead.\n",
      "  results_df_kfold = results_df_kfold.append({'Data': data_name,\n",
      "/var/folders/n_/mj2qn5sd20lb04k5gcvn8fbr0000gn/T/ipykernel_23964/962011091.py:29: FutureWarning: The frame.append method is deprecated and will be removed from pandas in a future version. Use pandas.concat instead.\n",
      "  results_df_kfold = results_df_kfold.append({'Data': data_name,\n",
      "/var/folders/n_/mj2qn5sd20lb04k5gcvn8fbr0000gn/T/ipykernel_23964/962011091.py:29: FutureWarning: The frame.append method is deprecated and will be removed from pandas in a future version. Use pandas.concat instead.\n",
      "  results_df_kfold = results_df_kfold.append({'Data': data_name,\n",
      "/var/folders/n_/mj2qn5sd20lb04k5gcvn8fbr0000gn/T/ipykernel_23964/962011091.py:29: FutureWarning: The frame.append method is deprecated and will be removed from pandas in a future version. Use pandas.concat instead.\n",
      "  results_df_kfold = results_df_kfold.append({'Data': data_name,\n",
      "/var/folders/n_/mj2qn5sd20lb04k5gcvn8fbr0000gn/T/ipykernel_23964/962011091.py:29: FutureWarning: The frame.append method is deprecated and will be removed from pandas in a future version. Use pandas.concat instead.\n",
      "  results_df_kfold = results_df_kfold.append({'Data': data_name,\n",
      "/var/folders/n_/mj2qn5sd20lb04k5gcvn8fbr0000gn/T/ipykernel_23964/962011091.py:29: FutureWarning: The frame.append method is deprecated and will be removed from pandas in a future version. Use pandas.concat instead.\n",
      "  results_df_kfold = results_df_kfold.append({'Data': data_name,\n",
      "/var/folders/n_/mj2qn5sd20lb04k5gcvn8fbr0000gn/T/ipykernel_23964/962011091.py:29: FutureWarning: The frame.append method is deprecated and will be removed from pandas in a future version. Use pandas.concat instead.\n",
      "  results_df_kfold = results_df_kfold.append({'Data': data_name,\n",
      "/var/folders/n_/mj2qn5sd20lb04k5gcvn8fbr0000gn/T/ipykernel_23964/962011091.py:29: FutureWarning: The frame.append method is deprecated and will be removed from pandas in a future version. Use pandas.concat instead.\n",
      "  results_df_kfold = results_df_kfold.append({'Data': data_name,\n",
      "/var/folders/n_/mj2qn5sd20lb04k5gcvn8fbr0000gn/T/ipykernel_23964/962011091.py:29: FutureWarning: The frame.append method is deprecated and will be removed from pandas in a future version. Use pandas.concat instead.\n",
      "  results_df_kfold = results_df_kfold.append({'Data': data_name,\n",
      "/var/folders/n_/mj2qn5sd20lb04k5gcvn8fbr0000gn/T/ipykernel_23964/962011091.py:29: FutureWarning: The frame.append method is deprecated and will be removed from pandas in a future version. Use pandas.concat instead.\n",
      "  results_df_kfold = results_df_kfold.append({'Data': data_name,\n",
      "/var/folders/n_/mj2qn5sd20lb04k5gcvn8fbr0000gn/T/ipykernel_23964/962011091.py:29: FutureWarning: The frame.append method is deprecated and will be removed from pandas in a future version. Use pandas.concat instead.\n",
      "  results_df_kfold = results_df_kfold.append({'Data': data_name,\n",
      "/var/folders/n_/mj2qn5sd20lb04k5gcvn8fbr0000gn/T/ipykernel_23964/962011091.py:29: FutureWarning: The frame.append method is deprecated and will be removed from pandas in a future version. Use pandas.concat instead.\n",
      "  results_df_kfold = results_df_kfold.append({'Data': data_name,\n",
      "/var/folders/n_/mj2qn5sd20lb04k5gcvn8fbr0000gn/T/ipykernel_23964/962011091.py:29: FutureWarning: The frame.append method is deprecated and will be removed from pandas in a future version. Use pandas.concat instead.\n",
      "  results_df_kfold = results_df_kfold.append({'Data': data_name,\n",
      "/var/folders/n_/mj2qn5sd20lb04k5gcvn8fbr0000gn/T/ipykernel_23964/962011091.py:29: FutureWarning: The frame.append method is deprecated and will be removed from pandas in a future version. Use pandas.concat instead.\n",
      "  results_df_kfold = results_df_kfold.append({'Data': data_name,\n",
      "/var/folders/n_/mj2qn5sd20lb04k5gcvn8fbr0000gn/T/ipykernel_23964/962011091.py:29: FutureWarning: The frame.append method is deprecated and will be removed from pandas in a future version. Use pandas.concat instead.\n",
      "  results_df_kfold = results_df_kfold.append({'Data': data_name,\n",
      "/var/folders/n_/mj2qn5sd20lb04k5gcvn8fbr0000gn/T/ipykernel_23964/962011091.py:29: FutureWarning: The frame.append method is deprecated and will be removed from pandas in a future version. Use pandas.concat instead.\n",
      "  results_df_kfold = results_df_kfold.append({'Data': data_name,\n",
      "/var/folders/n_/mj2qn5sd20lb04k5gcvn8fbr0000gn/T/ipykernel_23964/962011091.py:29: FutureWarning: The frame.append method is deprecated and will be removed from pandas in a future version. Use pandas.concat instead.\n",
      "  results_df_kfold = results_df_kfold.append({'Data': data_name,\n",
      "/var/folders/n_/mj2qn5sd20lb04k5gcvn8fbr0000gn/T/ipykernel_23964/962011091.py:29: FutureWarning: The frame.append method is deprecated and will be removed from pandas in a future version. Use pandas.concat instead.\n",
      "  results_df_kfold = results_df_kfold.append({'Data': data_name,\n"
     ]
    },
    {
     "ename": "ValueError",
     "evalue": "np.nan is an invalid document, expected byte or unicode string.",
     "output_type": "error",
     "traceback": [
      "\u001B[0;31m---------------------------------------------------------------------------\u001B[0m",
      "\u001B[0;31mValueError\u001B[0m                                Traceback (most recent call last)",
      "Input \u001B[0;32mIn [244]\u001B[0m, in \u001B[0;36m<cell line: 9>\u001B[0;34m()\u001B[0m\n\u001B[1;32m     13\u001B[0m \u001B[38;5;28;01mfor\u001B[39;00m data_name, data \u001B[38;5;129;01min\u001B[39;00m datasets\u001B[38;5;241m.\u001B[39mitems():\n\u001B[1;32m     15\u001B[0m     \u001B[38;5;28;01mfor\u001B[39;00m vec_name, vectorizer \u001B[38;5;129;01min\u001B[39;00m vectorizers\u001B[38;5;241m.\u001B[39mitems():\n\u001B[1;32m     16\u001B[0m         \u001B[38;5;66;03m# Fit and transform vectorizer on full data\u001B[39;00m\n\u001B[0;32m---> 17\u001B[0m         X_vec \u001B[38;5;241m=\u001B[39m \u001B[43mvectorizer\u001B[49m\u001B[38;5;241;43m.\u001B[39;49m\u001B[43mfit_transform\u001B[49m\u001B[43m(\u001B[49m\u001B[43mdata\u001B[49m\u001B[43m)\u001B[49m\n\u001B[1;32m     19\u001B[0m         \u001B[38;5;66;03m# Iterate over models\u001B[39;00m\n\u001B[1;32m     20\u001B[0m         \u001B[38;5;28;01mfor\u001B[39;00m model_name, model \u001B[38;5;129;01min\u001B[39;00m models\u001B[38;5;241m.\u001B[39mitems():\n\u001B[1;32m     21\u001B[0m             \u001B[38;5;66;03m# Perform k-fold cross-validation\u001B[39;00m\n",
      "File \u001B[0;32m~/opt/anaconda3/lib/python3.9/site-packages/sklearn/feature_extraction/text.py:1330\u001B[0m, in \u001B[0;36mCountVectorizer.fit_transform\u001B[0;34m(self, raw_documents, y)\u001B[0m\n\u001B[1;32m   1322\u001B[0m             warnings\u001B[38;5;241m.\u001B[39mwarn(\n\u001B[1;32m   1323\u001B[0m                 \u001B[38;5;124m\"\u001B[39m\u001B[38;5;124mUpper case characters found in\u001B[39m\u001B[38;5;124m\"\u001B[39m\n\u001B[1;32m   1324\u001B[0m                 \u001B[38;5;124m\"\u001B[39m\u001B[38;5;124m vocabulary while \u001B[39m\u001B[38;5;124m'\u001B[39m\u001B[38;5;124mlowercase\u001B[39m\u001B[38;5;124m'\u001B[39m\u001B[38;5;124m\"\u001B[39m\n\u001B[1;32m   1325\u001B[0m                 \u001B[38;5;124m\"\u001B[39m\u001B[38;5;124m is True. These entries will not\u001B[39m\u001B[38;5;124m\"\u001B[39m\n\u001B[1;32m   1326\u001B[0m                 \u001B[38;5;124m\"\u001B[39m\u001B[38;5;124m be matched with any documents\u001B[39m\u001B[38;5;124m\"\u001B[39m\n\u001B[1;32m   1327\u001B[0m             )\n\u001B[1;32m   1328\u001B[0m             \u001B[38;5;28;01mbreak\u001B[39;00m\n\u001B[0;32m-> 1330\u001B[0m vocabulary, X \u001B[38;5;241m=\u001B[39m \u001B[38;5;28;43mself\u001B[39;49m\u001B[38;5;241;43m.\u001B[39;49m\u001B[43m_count_vocab\u001B[49m\u001B[43m(\u001B[49m\u001B[43mraw_documents\u001B[49m\u001B[43m,\u001B[49m\u001B[43m \u001B[49m\u001B[38;5;28;43mself\u001B[39;49m\u001B[38;5;241;43m.\u001B[39;49m\u001B[43mfixed_vocabulary_\u001B[49m\u001B[43m)\u001B[49m\n\u001B[1;32m   1332\u001B[0m \u001B[38;5;28;01mif\u001B[39;00m \u001B[38;5;28mself\u001B[39m\u001B[38;5;241m.\u001B[39mbinary:\n\u001B[1;32m   1333\u001B[0m     X\u001B[38;5;241m.\u001B[39mdata\u001B[38;5;241m.\u001B[39mfill(\u001B[38;5;241m1\u001B[39m)\n",
      "File \u001B[0;32m~/opt/anaconda3/lib/python3.9/site-packages/sklearn/feature_extraction/text.py:1201\u001B[0m, in \u001B[0;36mCountVectorizer._count_vocab\u001B[0;34m(self, raw_documents, fixed_vocab)\u001B[0m\n\u001B[1;32m   1199\u001B[0m \u001B[38;5;28;01mfor\u001B[39;00m doc \u001B[38;5;129;01min\u001B[39;00m raw_documents:\n\u001B[1;32m   1200\u001B[0m     feature_counter \u001B[38;5;241m=\u001B[39m {}\n\u001B[0;32m-> 1201\u001B[0m     \u001B[38;5;28;01mfor\u001B[39;00m feature \u001B[38;5;129;01min\u001B[39;00m \u001B[43manalyze\u001B[49m\u001B[43m(\u001B[49m\u001B[43mdoc\u001B[49m\u001B[43m)\u001B[49m:\n\u001B[1;32m   1202\u001B[0m         \u001B[38;5;28;01mtry\u001B[39;00m:\n\u001B[1;32m   1203\u001B[0m             feature_idx \u001B[38;5;241m=\u001B[39m vocabulary[feature]\n",
      "File \u001B[0;32m~/opt/anaconda3/lib/python3.9/site-packages/sklearn/feature_extraction/text.py:108\u001B[0m, in \u001B[0;36m_analyze\u001B[0;34m(doc, analyzer, tokenizer, ngrams, preprocessor, decoder, stop_words)\u001B[0m\n\u001B[1;32m     86\u001B[0m \u001B[38;5;124;03m\"\"\"Chain together an optional series of text processing steps to go from\u001B[39;00m\n\u001B[1;32m     87\u001B[0m \u001B[38;5;124;03ma single document to ngrams, with or without tokenizing or preprocessing.\u001B[39;00m\n\u001B[1;32m     88\u001B[0m \n\u001B[0;32m   (...)\u001B[0m\n\u001B[1;32m    104\u001B[0m \u001B[38;5;124;03m    A sequence of tokens, possibly with pairs, triples, etc.\u001B[39;00m\n\u001B[1;32m    105\u001B[0m \u001B[38;5;124;03m\"\"\"\u001B[39;00m\n\u001B[1;32m    107\u001B[0m \u001B[38;5;28;01mif\u001B[39;00m decoder \u001B[38;5;129;01mis\u001B[39;00m \u001B[38;5;129;01mnot\u001B[39;00m \u001B[38;5;28;01mNone\u001B[39;00m:\n\u001B[0;32m--> 108\u001B[0m     doc \u001B[38;5;241m=\u001B[39m \u001B[43mdecoder\u001B[49m\u001B[43m(\u001B[49m\u001B[43mdoc\u001B[49m\u001B[43m)\u001B[49m\n\u001B[1;32m    109\u001B[0m \u001B[38;5;28;01mif\u001B[39;00m analyzer \u001B[38;5;129;01mis\u001B[39;00m \u001B[38;5;129;01mnot\u001B[39;00m \u001B[38;5;28;01mNone\u001B[39;00m:\n\u001B[1;32m    110\u001B[0m     doc \u001B[38;5;241m=\u001B[39m analyzer(doc)\n",
      "File \u001B[0;32m~/opt/anaconda3/lib/python3.9/site-packages/sklearn/feature_extraction/text.py:226\u001B[0m, in \u001B[0;36m_VectorizerMixin.decode\u001B[0;34m(self, doc)\u001B[0m\n\u001B[1;32m    223\u001B[0m     doc \u001B[38;5;241m=\u001B[39m doc\u001B[38;5;241m.\u001B[39mdecode(\u001B[38;5;28mself\u001B[39m\u001B[38;5;241m.\u001B[39mencoding, \u001B[38;5;28mself\u001B[39m\u001B[38;5;241m.\u001B[39mdecode_error)\n\u001B[1;32m    225\u001B[0m \u001B[38;5;28;01mif\u001B[39;00m doc \u001B[38;5;129;01mis\u001B[39;00m np\u001B[38;5;241m.\u001B[39mnan:\n\u001B[0;32m--> 226\u001B[0m     \u001B[38;5;28;01mraise\u001B[39;00m \u001B[38;5;167;01mValueError\u001B[39;00m(\n\u001B[1;32m    227\u001B[0m         \u001B[38;5;124m\"\u001B[39m\u001B[38;5;124mnp.nan is an invalid document, expected byte or unicode string.\u001B[39m\u001B[38;5;124m\"\u001B[39m\n\u001B[1;32m    228\u001B[0m     )\n\u001B[1;32m    230\u001B[0m \u001B[38;5;28;01mreturn\u001B[39;00m doc\n",
      "\u001B[0;31mValueError\u001B[0m: np.nan is an invalid document, expected byte or unicode string."
     ]
    }
   ],
   "source": [
    "le = LabelEncoder()\n",
    "y = le.fit_transform(transcriptions_with_sex.sex)\n",
    "\n",
    "# Reset results dataframe for k-fold cross-validation\n",
    "results_df_kfold = pd.DataFrame()\n",
    "\n",
    "num_folds = [3, 5, 10]\n",
    "\n",
    "for fold in num_folds:\n",
    "    # Define the cross-validator\n",
    "    k_fold = StratifiedKFold(n_splits=fold, shuffle=True, random_state=42)\n",
    "\n",
    "    for data_name, data in datasets.items():\n",
    "\n",
    "        for vec_name, vectorizer in vectorizers.items():\n",
    "            # Fit and transform vectorizer on full data\n",
    "            X_vec = vectorizer.fit_transform(data)\n",
    "\n",
    "            # Iterate over models\n",
    "            for model_name, model in models.items():\n",
    "                # Perform k-fold cross-validation\n",
    "                cv_scores = cross_val_score(model, X_vec, y, cv=k_fold, scoring='accuracy', error_score='raise')\n",
    "\n",
    "                # Calculate mean and standard deviation of cross-validation scores\n",
    "                mean_accuracy = cv_scores.mean()\n",
    "                std_accuracy = cv_scores.std()\n",
    "\n",
    "                # Append results to dataframe\n",
    "                results_df_kfold = results_df_kfold.append({'Data': data_name,\n",
    "                                                            'Folds': fold,\n",
    "                                                            'Vectorizer': vec_name,\n",
    "                                                            'Model': model_name,\n",
    "                                                            'Mean Accuracy': mean_accuracy,\n",
    "                                                            'Mean Std': std_accuracy},\n",
    "                                                           ignore_index=True)\n",
    "\n",
    "# Display results dataframe for k-fold cross-validation\n",
    "print(\"\\nResults for Surname and Firstname Vectorization with k-fold cross-validation:\")\n",
    "#results_df_kfold.to_csv('Results_kFold.csv')\n",
    "display(results_df_kfold)"
   ],
   "metadata": {
    "collapsed": false
   }
  },
  {
   "cell_type": "code",
   "execution_count": 112,
   "outputs": [
    {
     "data": {
      "text/plain": "                            Data  Folds Vectorizer                Model  \\\n0                    Groundtruth      3        BOW  Logistic Regression   \n1                    Groundtruth      3        BOW        Random Forest   \n2                    Groundtruth      3        BOW                  SVM   \n3                    Groundtruth      3        BOW              XGBoost   \n4                    Groundtruth      3        BOW          Naive Bayes   \n..                           ...    ...        ...                  ...   \n85  gt_firstname_occupation_link     10      TFIDF  Logistic Regression   \n86  gt_firstname_occupation_link     10      TFIDF        Random Forest   \n87  gt_firstname_occupation_link     10      TFIDF                  SVM   \n88  gt_firstname_occupation_link     10      TFIDF              XGBoost   \n89  gt_firstname_occupation_link     10      TFIDF          Naive Bayes   \n\n    Mean Accuracy  Std Accuracy  \n0        0.834053      0.020986  \n1        0.842284      0.021504  \n2        0.817387      0.006911  \n3        0.825720      0.010257  \n4        0.863117      0.009460  \n..            ...           ...  \n85       0.892000      0.038419  \n86       0.846500      0.055944  \n87       0.892000      0.020841  \n88       0.780167      0.036836  \n89       0.908667      0.040905  \n\n[90 rows x 6 columns]",
      "text/html": "<div>\n<style scoped>\n    .dataframe tbody tr th:only-of-type {\n        vertical-align: middle;\n    }\n\n    .dataframe tbody tr th {\n        vertical-align: top;\n    }\n\n    .dataframe thead th {\n        text-align: right;\n    }\n</style>\n<table border=\"1\" class=\"dataframe\">\n  <thead>\n    <tr style=\"text-align: right;\">\n      <th></th>\n      <th>Data</th>\n      <th>Folds</th>\n      <th>Vectorizer</th>\n      <th>Model</th>\n      <th>Mean Accuracy</th>\n      <th>Std Accuracy</th>\n    </tr>\n  </thead>\n  <tbody>\n    <tr>\n      <th>0</th>\n      <td>Groundtruth</td>\n      <td>3</td>\n      <td>BOW</td>\n      <td>Logistic Regression</td>\n      <td>0.834053</td>\n      <td>0.020986</td>\n    </tr>\n    <tr>\n      <th>1</th>\n      <td>Groundtruth</td>\n      <td>3</td>\n      <td>BOW</td>\n      <td>Random Forest</td>\n      <td>0.842284</td>\n      <td>0.021504</td>\n    </tr>\n    <tr>\n      <th>2</th>\n      <td>Groundtruth</td>\n      <td>3</td>\n      <td>BOW</td>\n      <td>SVM</td>\n      <td>0.817387</td>\n      <td>0.006911</td>\n    </tr>\n    <tr>\n      <th>3</th>\n      <td>Groundtruth</td>\n      <td>3</td>\n      <td>BOW</td>\n      <td>XGBoost</td>\n      <td>0.825720</td>\n      <td>0.010257</td>\n    </tr>\n    <tr>\n      <th>4</th>\n      <td>Groundtruth</td>\n      <td>3</td>\n      <td>BOW</td>\n      <td>Naive Bayes</td>\n      <td>0.863117</td>\n      <td>0.009460</td>\n    </tr>\n    <tr>\n      <th>...</th>\n      <td>...</td>\n      <td>...</td>\n      <td>...</td>\n      <td>...</td>\n      <td>...</td>\n      <td>...</td>\n    </tr>\n    <tr>\n      <th>85</th>\n      <td>gt_firstname_occupation_link</td>\n      <td>10</td>\n      <td>TFIDF</td>\n      <td>Logistic Regression</td>\n      <td>0.892000</td>\n      <td>0.038419</td>\n    </tr>\n    <tr>\n      <th>86</th>\n      <td>gt_firstname_occupation_link</td>\n      <td>10</td>\n      <td>TFIDF</td>\n      <td>Random Forest</td>\n      <td>0.846500</td>\n      <td>0.055944</td>\n    </tr>\n    <tr>\n      <th>87</th>\n      <td>gt_firstname_occupation_link</td>\n      <td>10</td>\n      <td>TFIDF</td>\n      <td>SVM</td>\n      <td>0.892000</td>\n      <td>0.020841</td>\n    </tr>\n    <tr>\n      <th>88</th>\n      <td>gt_firstname_occupation_link</td>\n      <td>10</td>\n      <td>TFIDF</td>\n      <td>XGBoost</td>\n      <td>0.780167</td>\n      <td>0.036836</td>\n    </tr>\n    <tr>\n      <th>89</th>\n      <td>gt_firstname_occupation_link</td>\n      <td>10</td>\n      <td>TFIDF</td>\n      <td>Naive Bayes</td>\n      <td>0.908667</td>\n      <td>0.040905</td>\n    </tr>\n  </tbody>\n</table>\n<p>90 rows × 6 columns</p>\n</div>"
     },
     "execution_count": 112,
     "metadata": {},
     "output_type": "execute_result"
    }
   ],
   "source": [
    "results_df_kfold"
   ],
   "metadata": {
    "collapsed": false
   }
  },
  {
   "cell_type": "markdown",
   "source": [
    "We remove the 'ambigu' values as well and run the benchmarking for this dataset as well."
   ],
   "metadata": {
    "collapsed": false
   }
  },
  {
   "cell_type": "code",
   "execution_count": null,
   "outputs": [],
   "source": [],
   "metadata": {
    "collapsed": false
   }
  },
  {
   "cell_type": "markdown",
   "source": [
    "The best results are using the reduced, vectorized firstname_occupation_link data. The best performing models are the \"simpler\" models Naive Bayes and Logistic Regression.\n",
    "We go forward with these two models for the hyperparameter tuning."
   ],
   "metadata": {
    "collapsed": false
   }
  },
  {
   "cell_type": "markdown",
   "source": [
    "### Hyperparameter Tuning"
   ],
   "metadata": {
    "collapsed": false
   }
  },
  {
   "cell_type": "markdown",
   "source": [
    "We use CountVectorizer, as usage of different vectorizers didn't bring significant performance differences."
   ],
   "metadata": {
    "collapsed": false
   }
  },
  {
   "cell_type": "code",
   "execution_count": 106,
   "outputs": [],
   "source": [
    "vectorizer = CountVectorizer()\n",
    "X_vec = vectorizer.fit_transform(df.combined)"
   ],
   "metadata": {
    "collapsed": false
   }
  },
  {
   "cell_type": "code",
   "execution_count": 109,
   "outputs": [
    {
     "name": "stderr",
     "output_type": "stream",
     "text": [
      "[I 2024-04-30 10:45:31,214] A new study created in memory with name: no-name-927c699f-60bd-43a6-91bd-6e0c6ac4969e\n",
      "/var/folders/n_/mj2qn5sd20lb04k5gcvn8fbr0000gn/T/ipykernel_23964/169037695.py:13: FutureWarning: suggest_loguniform has been deprecated in v3.0.0. This feature will be removed in v6.0.0. See https://github.com/optuna/optuna/releases/tag/v3.0.0. Use suggest_float(..., log=True) instead.\n",
      "  'alpha': trial.suggest_loguniform('alpha', 1e-10, 1)\n",
      "[I 2024-04-30 10:45:31,223] Trial 0 finished with value: 0.8633503401360544 and parameters: {'alpha': 0.000103051327643847}. Best is trial 0 with value: 0.8633503401360544.\n",
      "/var/folders/n_/mj2qn5sd20lb04k5gcvn8fbr0000gn/T/ipykernel_23964/169037695.py:13: FutureWarning: suggest_loguniform has been deprecated in v3.0.0. This feature will be removed in v6.0.0. See https://github.com/optuna/optuna/releases/tag/v3.0.0. Use suggest_float(..., log=True) instead.\n",
      "  'alpha': trial.suggest_loguniform('alpha', 1e-10, 1)\n",
      "[I 2024-04-30 10:45:31,230] Trial 1 finished with value: 0.8633503401360544 and parameters: {'alpha': 9.705788749543179e-09}. Best is trial 0 with value: 0.8633503401360544.\n",
      "/var/folders/n_/mj2qn5sd20lb04k5gcvn8fbr0000gn/T/ipykernel_23964/169037695.py:13: FutureWarning: suggest_loguniform has been deprecated in v3.0.0. This feature will be removed in v6.0.0. See https://github.com/optuna/optuna/releases/tag/v3.0.0. Use suggest_float(..., log=True) instead.\n",
      "  'alpha': trial.suggest_loguniform('alpha', 1e-10, 1)\n",
      "[I 2024-04-30 10:45:31,237] Trial 2 finished with value: 0.8591836734693878 and parameters: {'alpha': 0.0040414612688991994}. Best is trial 0 with value: 0.8633503401360544.\n",
      "/var/folders/n_/mj2qn5sd20lb04k5gcvn8fbr0000gn/T/ipykernel_23964/169037695.py:13: FutureWarning: suggest_loguniform has been deprecated in v3.0.0. This feature will be removed in v6.0.0. See https://github.com/optuna/optuna/releases/tag/v3.0.0. Use suggest_float(..., log=True) instead.\n",
      "  'alpha': trial.suggest_loguniform('alpha', 1e-10, 1)\n",
      "[I 2024-04-30 10:45:31,244] Trial 3 finished with value: 0.8880952380952382 and parameters: {'alpha': 0.49223689497943834}. Best is trial 3 with value: 0.8880952380952382.\n",
      "/var/folders/n_/mj2qn5sd20lb04k5gcvn8fbr0000gn/T/ipykernel_23964/169037695.py:13: FutureWarning: suggest_loguniform has been deprecated in v3.0.0. This feature will be removed in v6.0.0. See https://github.com/optuna/optuna/releases/tag/v3.0.0. Use suggest_float(..., log=True) instead.\n",
      "  'alpha': trial.suggest_loguniform('alpha', 1e-10, 1)\n",
      "[I 2024-04-30 10:45:31,250] Trial 4 finished with value: 0.8256802721088435 and parameters: {'alpha': 0.05627964941562297}. Best is trial 3 with value: 0.8880952380952382.\n",
      "/var/folders/n_/mj2qn5sd20lb04k5gcvn8fbr0000gn/T/ipykernel_23964/169037695.py:13: FutureWarning: suggest_loguniform has been deprecated in v3.0.0. This feature will be removed in v6.0.0. See https://github.com/optuna/optuna/releases/tag/v3.0.0. Use suggest_float(..., log=True) instead.\n",
      "  'alpha': trial.suggest_loguniform('alpha', 1e-10, 1)\n",
      "[I 2024-04-30 10:45:31,256] Trial 5 finished with value: 0.8633503401360544 and parameters: {'alpha': 3.718741563731193e-05}. Best is trial 3 with value: 0.8880952380952382.\n",
      "/var/folders/n_/mj2qn5sd20lb04k5gcvn8fbr0000gn/T/ipykernel_23964/169037695.py:13: FutureWarning: suggest_loguniform has been deprecated in v3.0.0. This feature will be removed in v6.0.0. See https://github.com/optuna/optuna/releases/tag/v3.0.0. Use suggest_float(..., log=True) instead.\n",
      "  'alpha': trial.suggest_loguniform('alpha', 1e-10, 1)\n",
      "[I 2024-04-30 10:45:31,262] Trial 6 finished with value: 0.8633503401360544 and parameters: {'alpha': 1.4885676468600173e-10}. Best is trial 3 with value: 0.8880952380952382.\n",
      "/var/folders/n_/mj2qn5sd20lb04k5gcvn8fbr0000gn/T/ipykernel_23964/169037695.py:13: FutureWarning: suggest_loguniform has been deprecated in v3.0.0. This feature will be removed in v6.0.0. See https://github.com/optuna/optuna/releases/tag/v3.0.0. Use suggest_float(..., log=True) instead.\n",
      "  'alpha': trial.suggest_loguniform('alpha', 1e-10, 1)\n",
      "[I 2024-04-30 10:45:31,268] Trial 7 finished with value: 0.8633503401360544 and parameters: {'alpha': 4.528567215434128e-05}. Best is trial 3 with value: 0.8880952380952382.\n",
      "/var/folders/n_/mj2qn5sd20lb04k5gcvn8fbr0000gn/T/ipykernel_23964/169037695.py:13: FutureWarning: suggest_loguniform has been deprecated in v3.0.0. This feature will be removed in v6.0.0. See https://github.com/optuna/optuna/releases/tag/v3.0.0. Use suggest_float(..., log=True) instead.\n",
      "  'alpha': trial.suggest_loguniform('alpha', 1e-10, 1)\n",
      "[I 2024-04-30 10:45:31,273] Trial 8 finished with value: 0.8633503401360544 and parameters: {'alpha': 6.586590135245672e-07}. Best is trial 3 with value: 0.8880952380952382.\n",
      "/var/folders/n_/mj2qn5sd20lb04k5gcvn8fbr0000gn/T/ipykernel_23964/169037695.py:13: FutureWarning: suggest_loguniform has been deprecated in v3.0.0. This feature will be removed in v6.0.0. See https://github.com/optuna/optuna/releases/tag/v3.0.0. Use suggest_float(..., log=True) instead.\n",
      "  'alpha': trial.suggest_loguniform('alpha', 1e-10, 1)\n",
      "[I 2024-04-30 10:45:31,281] Trial 9 finished with value: 0.8589285714285714 and parameters: {'alpha': 0.18541868395580957}. Best is trial 3 with value: 0.8880952380952382.\n",
      "/var/folders/n_/mj2qn5sd20lb04k5gcvn8fbr0000gn/T/ipykernel_23964/169037695.py:13: FutureWarning: suggest_loguniform has been deprecated in v3.0.0. This feature will be removed in v6.0.0. See https://github.com/optuna/optuna/releases/tag/v3.0.0. Use suggest_float(..., log=True) instead.\n",
      "  'alpha': trial.suggest_loguniform('alpha', 1e-10, 1)\n",
      "[I 2024-04-30 10:45:31,291] Trial 10 finished with value: 0.8965136054421767 and parameters: {'alpha': 0.7829384045620411}. Best is trial 10 with value: 0.8965136054421767.\n",
      "/var/folders/n_/mj2qn5sd20lb04k5gcvn8fbr0000gn/T/ipykernel_23964/169037695.py:13: FutureWarning: suggest_loguniform has been deprecated in v3.0.0. This feature will be removed in v6.0.0. See https://github.com/optuna/optuna/releases/tag/v3.0.0. Use suggest_float(..., log=True) instead.\n",
      "  'alpha': trial.suggest_loguniform('alpha', 1e-10, 1)\n",
      "[I 2024-04-30 10:45:31,301] Trial 11 finished with value: 0.9005952380952381 and parameters: {'alpha': 0.6423321842897731}. Best is trial 11 with value: 0.9005952380952381.\n",
      "/var/folders/n_/mj2qn5sd20lb04k5gcvn8fbr0000gn/T/ipykernel_23964/169037695.py:13: FutureWarning: suggest_loguniform has been deprecated in v3.0.0. This feature will be removed in v6.0.0. See https://github.com/optuna/optuna/releases/tag/v3.0.0. Use suggest_float(..., log=True) instead.\n",
      "  'alpha': trial.suggest_loguniform('alpha', 1e-10, 1)\n",
      "[I 2024-04-30 10:45:31,311] Trial 12 finished with value: 0.8508503401360545 and parameters: {'alpha': 0.00895109866185416}. Best is trial 11 with value: 0.9005952380952381.\n",
      "/var/folders/n_/mj2qn5sd20lb04k5gcvn8fbr0000gn/T/ipykernel_23964/169037695.py:13: FutureWarning: suggest_loguniform has been deprecated in v3.0.0. This feature will be removed in v6.0.0. See https://github.com/optuna/optuna/releases/tag/v3.0.0. Use suggest_float(..., log=True) instead.\n",
      "  'alpha': trial.suggest_loguniform('alpha', 1e-10, 1)\n",
      "[I 2024-04-30 10:45:31,321] Trial 13 finished with value: 0.8591836734693878 and parameters: {'alpha': 0.002267283896501672}. Best is trial 11 with value: 0.9005952380952381.\n",
      "/var/folders/n_/mj2qn5sd20lb04k5gcvn8fbr0000gn/T/ipykernel_23964/169037695.py:13: FutureWarning: suggest_loguniform has been deprecated in v3.0.0. This feature will be removed in v6.0.0. See https://github.com/optuna/optuna/releases/tag/v3.0.0. Use suggest_float(..., log=True) instead.\n",
      "  'alpha': trial.suggest_loguniform('alpha', 1e-10, 1)\n",
      "[I 2024-04-30 10:45:31,330] Trial 14 finished with value: 0.8965136054421767 and parameters: {'alpha': 0.7602086865517854}. Best is trial 11 with value: 0.9005952380952381.\n",
      "/var/folders/n_/mj2qn5sd20lb04k5gcvn8fbr0000gn/T/ipykernel_23964/169037695.py:13: FutureWarning: suggest_loguniform has been deprecated in v3.0.0. This feature will be removed in v6.0.0. See https://github.com/optuna/optuna/releases/tag/v3.0.0. Use suggest_float(..., log=True) instead.\n",
      "  'alpha': trial.suggest_loguniform('alpha', 1e-10, 1)\n",
      "[I 2024-04-30 10:45:31,340] Trial 15 finished with value: 0.8633503401360544 and parameters: {'alpha': 7.965381033776582e-07}. Best is trial 11 with value: 0.9005952380952381.\n",
      "/var/folders/n_/mj2qn5sd20lb04k5gcvn8fbr0000gn/T/ipykernel_23964/169037695.py:13: FutureWarning: suggest_loguniform has been deprecated in v3.0.0. This feature will be removed in v6.0.0. See https://github.com/optuna/optuna/releases/tag/v3.0.0. Use suggest_float(..., log=True) instead.\n",
      "  'alpha': trial.suggest_loguniform('alpha', 1e-10, 1)\n",
      "[I 2024-04-30 10:45:31,350] Trial 16 finished with value: 0.8633503401360544 and parameters: {'alpha': 0.0005493506551305238}. Best is trial 11 with value: 0.9005952380952381.\n",
      "/var/folders/n_/mj2qn5sd20lb04k5gcvn8fbr0000gn/T/ipykernel_23964/169037695.py:13: FutureWarning: suggest_loguniform has been deprecated in v3.0.0. This feature will be removed in v6.0.0. See https://github.com/optuna/optuna/releases/tag/v3.0.0. Use suggest_float(..., log=True) instead.\n",
      "  'alpha': trial.suggest_loguniform('alpha', 1e-10, 1)\n",
      "[I 2024-04-30 10:45:31,361] Trial 17 finished with value: 0.8215986394557824 and parameters: {'alpha': 0.031394642292978434}. Best is trial 11 with value: 0.9005952380952381.\n",
      "/var/folders/n_/mj2qn5sd20lb04k5gcvn8fbr0000gn/T/ipykernel_23964/169037695.py:13: FutureWarning: suggest_loguniform has been deprecated in v3.0.0. This feature will be removed in v6.0.0. See https://github.com/optuna/optuna/releases/tag/v3.0.0. Use suggest_float(..., log=True) instead.\n",
      "  'alpha': trial.suggest_loguniform('alpha', 1e-10, 1)\n",
      "[I 2024-04-30 10:45:31,371] Trial 18 finished with value: 0.8633503401360544 and parameters: {'alpha': 5.232546063858268e-06}. Best is trial 11 with value: 0.9005952380952381.\n",
      "/var/folders/n_/mj2qn5sd20lb04k5gcvn8fbr0000gn/T/ipykernel_23964/169037695.py:13: FutureWarning: suggest_loguniform has been deprecated in v3.0.0. This feature will be removed in v6.0.0. See https://github.com/optuna/optuna/releases/tag/v3.0.0. Use suggest_float(..., log=True) instead.\n",
      "  'alpha': trial.suggest_loguniform('alpha', 1e-10, 1)\n",
      "[I 2024-04-30 10:45:31,380] Trial 19 finished with value: 0.8633503401360544 and parameters: {'alpha': 0.0007715319359746885}. Best is trial 11 with value: 0.9005952380952381.\n",
      "/var/folders/n_/mj2qn5sd20lb04k5gcvn8fbr0000gn/T/ipykernel_23964/169037695.py:13: FutureWarning: suggest_loguniform has been deprecated in v3.0.0. This feature will be removed in v6.0.0. See https://github.com/optuna/optuna/releases/tag/v3.0.0. Use suggest_float(..., log=True) instead.\n",
      "  'alpha': trial.suggest_loguniform('alpha', 1e-10, 1)\n",
      "[I 2024-04-30 10:45:31,389] Trial 20 finished with value: 0.8215986394557824 and parameters: {'alpha': 0.04824046167754478}. Best is trial 11 with value: 0.9005952380952381.\n",
      "/var/folders/n_/mj2qn5sd20lb04k5gcvn8fbr0000gn/T/ipykernel_23964/169037695.py:13: FutureWarning: suggest_loguniform has been deprecated in v3.0.0. This feature will be removed in v6.0.0. See https://github.com/optuna/optuna/releases/tag/v3.0.0. Use suggest_float(..., log=True) instead.\n",
      "  'alpha': trial.suggest_loguniform('alpha', 1e-10, 1)\n",
      "[I 2024-04-30 10:45:31,399] Trial 21 finished with value: 0.8965136054421767 and parameters: {'alpha': 0.8195047666714389}. Best is trial 11 with value: 0.9005952380952381.\n",
      "/var/folders/n_/mj2qn5sd20lb04k5gcvn8fbr0000gn/T/ipykernel_23964/169037695.py:13: FutureWarning: suggest_loguniform has been deprecated in v3.0.0. This feature will be removed in v6.0.0. See https://github.com/optuna/optuna/releases/tag/v3.0.0. Use suggest_float(..., log=True) instead.\n",
      "  'alpha': trial.suggest_loguniform('alpha', 1e-10, 1)\n",
      "[I 2024-04-30 10:45:31,409] Trial 22 finished with value: 0.8965136054421767 and parameters: {'alpha': 0.9584099466894037}. Best is trial 11 with value: 0.9005952380952381.\n",
      "/var/folders/n_/mj2qn5sd20lb04k5gcvn8fbr0000gn/T/ipykernel_23964/169037695.py:13: FutureWarning: suggest_loguniform has been deprecated in v3.0.0. This feature will be removed in v6.0.0. See https://github.com/optuna/optuna/releases/tag/v3.0.0. Use suggest_float(..., log=True) instead.\n",
      "  'alpha': trial.suggest_loguniform('alpha', 1e-10, 1)\n",
      "[I 2024-04-30 10:45:31,420] Trial 23 finished with value: 0.8381802721088436 and parameters: {'alpha': 0.09146900442311459}. Best is trial 11 with value: 0.9005952380952381.\n",
      "/var/folders/n_/mj2qn5sd20lb04k5gcvn8fbr0000gn/T/ipykernel_23964/169037695.py:13: FutureWarning: suggest_loguniform has been deprecated in v3.0.0. This feature will be removed in v6.0.0. See https://github.com/optuna/optuna/releases/tag/v3.0.0. Use suggest_float(..., log=True) instead.\n",
      "  'alpha': trial.suggest_loguniform('alpha', 1e-10, 1)\n",
      "[I 2024-04-30 10:45:31,430] Trial 24 finished with value: 0.8508503401360545 and parameters: {'alpha': 0.013050048831593183}. Best is trial 11 with value: 0.9005952380952381.\n",
      "/var/folders/n_/mj2qn5sd20lb04k5gcvn8fbr0000gn/T/ipykernel_23964/169037695.py:13: FutureWarning: suggest_loguniform has been deprecated in v3.0.0. This feature will be removed in v6.0.0. See https://github.com/optuna/optuna/releases/tag/v3.0.0. Use suggest_float(..., log=True) instead.\n",
      "  'alpha': trial.suggest_loguniform('alpha', 1e-10, 1)\n",
      "[I 2024-04-30 10:45:31,440] Trial 25 finished with value: 0.8630952380952379 and parameters: {'alpha': 0.18790870905098583}. Best is trial 11 with value: 0.9005952380952381.\n",
      "/var/folders/n_/mj2qn5sd20lb04k5gcvn8fbr0000gn/T/ipykernel_23964/169037695.py:13: FutureWarning: suggest_loguniform has been deprecated in v3.0.0. This feature will be removed in v6.0.0. See https://github.com/optuna/optuna/releases/tag/v3.0.0. Use suggest_float(..., log=True) instead.\n",
      "  'alpha': trial.suggest_loguniform('alpha', 1e-10, 1)\n",
      "[I 2024-04-30 10:45:31,451] Trial 26 finished with value: 0.8633503401360544 and parameters: {'alpha': 3.349468631526681e-08}. Best is trial 11 with value: 0.9005952380952381.\n",
      "/var/folders/n_/mj2qn5sd20lb04k5gcvn8fbr0000gn/T/ipykernel_23964/169037695.py:13: FutureWarning: suggest_loguniform has been deprecated in v3.0.0. This feature will be removed in v6.0.0. See https://github.com/optuna/optuna/releases/tag/v3.0.0. Use suggest_float(..., log=True) instead.\n",
      "  'alpha': trial.suggest_loguniform('alpha', 1e-10, 1)\n",
      "[I 2024-04-30 10:45:31,461] Trial 27 finished with value: 0.8965136054421767 and parameters: {'alpha': 0.8566368746954895}. Best is trial 11 with value: 0.9005952380952381.\n",
      "/var/folders/n_/mj2qn5sd20lb04k5gcvn8fbr0000gn/T/ipykernel_23964/169037695.py:13: FutureWarning: suggest_loguniform has been deprecated in v3.0.0. This feature will be removed in v6.0.0. See https://github.com/optuna/optuna/releases/tag/v3.0.0. Use suggest_float(..., log=True) instead.\n",
      "  'alpha': trial.suggest_loguniform('alpha', 1e-10, 1)\n",
      "[I 2024-04-30 10:45:31,473] Trial 28 finished with value: 0.8633503401360544 and parameters: {'alpha': 0.0007396195581570403}. Best is trial 11 with value: 0.9005952380952381.\n",
      "/var/folders/n_/mj2qn5sd20lb04k5gcvn8fbr0000gn/T/ipykernel_23964/169037695.py:13: FutureWarning: suggest_loguniform has been deprecated in v3.0.0. This feature will be removed in v6.0.0. See https://github.com/optuna/optuna/releases/tag/v3.0.0. Use suggest_float(..., log=True) instead.\n",
      "  'alpha': trial.suggest_loguniform('alpha', 1e-10, 1)\n",
      "[I 2024-04-30 10:45:31,483] Trial 29 finished with value: 0.8633503401360544 and parameters: {'alpha': 0.00019495328561425874}. Best is trial 11 with value: 0.9005952380952381.\n",
      "/var/folders/n_/mj2qn5sd20lb04k5gcvn8fbr0000gn/T/ipykernel_23964/169037695.py:13: FutureWarning: suggest_loguniform has been deprecated in v3.0.0. This feature will be removed in v6.0.0. See https://github.com/optuna/optuna/releases/tag/v3.0.0. Use suggest_float(..., log=True) instead.\n",
      "  'alpha': trial.suggest_loguniform('alpha', 1e-10, 1)\n",
      "[I 2024-04-30 10:45:31,494] Trial 30 finished with value: 0.8299319727891156 and parameters: {'alpha': 0.020881713254633182}. Best is trial 11 with value: 0.9005952380952381.\n",
      "/var/folders/n_/mj2qn5sd20lb04k5gcvn8fbr0000gn/T/ipykernel_23964/169037695.py:13: FutureWarning: suggest_loguniform has been deprecated in v3.0.0. This feature will be removed in v6.0.0. See https://github.com/optuna/optuna/releases/tag/v3.0.0. Use suggest_float(..., log=True) instead.\n",
      "  'alpha': trial.suggest_loguniform('alpha', 1e-10, 1)\n",
      "[I 2024-04-30 10:45:31,505] Trial 31 finished with value: 0.8880952380952382 and parameters: {'alpha': 0.39504373704393797}. Best is trial 11 with value: 0.9005952380952381.\n",
      "/var/folders/n_/mj2qn5sd20lb04k5gcvn8fbr0000gn/T/ipykernel_23964/169037695.py:13: FutureWarning: suggest_loguniform has been deprecated in v3.0.0. This feature will be removed in v6.0.0. See https://github.com/optuna/optuna/releases/tag/v3.0.0. Use suggest_float(..., log=True) instead.\n",
      "  'alpha': trial.suggest_loguniform('alpha', 1e-10, 1)\n",
      "[I 2024-04-30 10:45:31,516] Trial 32 finished with value: 0.8423469387755101 and parameters: {'alpha': 0.15350700561651667}. Best is trial 11 with value: 0.9005952380952381.\n",
      "/var/folders/n_/mj2qn5sd20lb04k5gcvn8fbr0000gn/T/ipykernel_23964/169037695.py:13: FutureWarning: suggest_loguniform has been deprecated in v3.0.0. This feature will be removed in v6.0.0. See https://github.com/optuna/optuna/releases/tag/v3.0.0. Use suggest_float(..., log=True) instead.\n",
      "  'alpha': trial.suggest_loguniform('alpha', 1e-10, 1)\n",
      "[I 2024-04-30 10:45:31,527] Trial 33 finished with value: 0.8965136054421767 and parameters: {'alpha': 0.9124095378156895}. Best is trial 11 with value: 0.9005952380952381.\n",
      "/var/folders/n_/mj2qn5sd20lb04k5gcvn8fbr0000gn/T/ipykernel_23964/169037695.py:13: FutureWarning: suggest_loguniform has been deprecated in v3.0.0. This feature will be removed in v6.0.0. See https://github.com/optuna/optuna/releases/tag/v3.0.0. Use suggest_float(..., log=True) instead.\n",
      "  'alpha': trial.suggest_loguniform('alpha', 1e-10, 1)\n",
      "[I 2024-04-30 10:45:31,538] Trial 34 finished with value: 0.8591836734693878 and parameters: {'alpha': 0.003587064909139776}. Best is trial 11 with value: 0.9005952380952381.\n",
      "/var/folders/n_/mj2qn5sd20lb04k5gcvn8fbr0000gn/T/ipykernel_23964/169037695.py:13: FutureWarning: suggest_loguniform has been deprecated in v3.0.0. This feature will be removed in v6.0.0. See https://github.com/optuna/optuna/releases/tag/v3.0.0. Use suggest_float(..., log=True) instead.\n",
      "  'alpha': trial.suggest_loguniform('alpha', 1e-10, 1)\n",
      "[I 2024-04-30 10:45:31,549] Trial 35 finished with value: 0.8381802721088436 and parameters: {'alpha': 0.13066199744120865}. Best is trial 11 with value: 0.9005952380952381.\n",
      "/var/folders/n_/mj2qn5sd20lb04k5gcvn8fbr0000gn/T/ipykernel_23964/169037695.py:13: FutureWarning: suggest_loguniform has been deprecated in v3.0.0. This feature will be removed in v6.0.0. See https://github.com/optuna/optuna/releases/tag/v3.0.0. Use suggest_float(..., log=True) instead.\n",
      "  'alpha': trial.suggest_loguniform('alpha', 1e-10, 1)\n",
      "[I 2024-04-30 10:45:31,560] Trial 36 finished with value: 0.8508503401360545 and parameters: {'alpha': 0.010775048255348892}. Best is trial 11 with value: 0.9005952380952381.\n",
      "/var/folders/n_/mj2qn5sd20lb04k5gcvn8fbr0000gn/T/ipykernel_23964/169037695.py:13: FutureWarning: suggest_loguniform has been deprecated in v3.0.0. This feature will be removed in v6.0.0. See https://github.com/optuna/optuna/releases/tag/v3.0.0. Use suggest_float(..., log=True) instead.\n",
      "  'alpha': trial.suggest_loguniform('alpha', 1e-10, 1)\n",
      "[I 2024-04-30 10:45:31,570] Trial 37 finished with value: 0.8880952380952382 and parameters: {'alpha': 0.3408873627437573}. Best is trial 11 with value: 0.9005952380952381.\n",
      "/var/folders/n_/mj2qn5sd20lb04k5gcvn8fbr0000gn/T/ipykernel_23964/169037695.py:13: FutureWarning: suggest_loguniform has been deprecated in v3.0.0. This feature will be removed in v6.0.0. See https://github.com/optuna/optuna/releases/tag/v3.0.0. Use suggest_float(..., log=True) instead.\n",
      "  'alpha': trial.suggest_loguniform('alpha', 1e-10, 1)\n",
      "[I 2024-04-30 10:45:31,579] Trial 38 finished with value: 0.8633503401360544 and parameters: {'alpha': 1.0657990589208136e-09}. Best is trial 11 with value: 0.9005952380952381.\n",
      "/var/folders/n_/mj2qn5sd20lb04k5gcvn8fbr0000gn/T/ipykernel_23964/169037695.py:13: FutureWarning: suggest_loguniform has been deprecated in v3.0.0. This feature will be removed in v6.0.0. See https://github.com/optuna/optuna/releases/tag/v3.0.0. Use suggest_float(..., log=True) instead.\n",
      "  'alpha': trial.suggest_loguniform('alpha', 1e-10, 1)\n",
      "[I 2024-04-30 10:45:31,589] Trial 39 finished with value: 0.8215986394557824 and parameters: {'alpha': 0.035061857335418826}. Best is trial 11 with value: 0.9005952380952381.\n",
      "/var/folders/n_/mj2qn5sd20lb04k5gcvn8fbr0000gn/T/ipykernel_23964/169037695.py:13: FutureWarning: suggest_loguniform has been deprecated in v3.0.0. This feature will be removed in v6.0.0. See https://github.com/optuna/optuna/releases/tag/v3.0.0. Use suggest_float(..., log=True) instead.\n",
      "  'alpha': trial.suggest_loguniform('alpha', 1e-10, 1)\n",
      "[I 2024-04-30 10:45:31,600] Trial 40 finished with value: 0.834013605442177 and parameters: {'alpha': 0.0741002946618188}. Best is trial 11 with value: 0.9005952380952381.\n",
      "/var/folders/n_/mj2qn5sd20lb04k5gcvn8fbr0000gn/T/ipykernel_23964/169037695.py:13: FutureWarning: suggest_loguniform has been deprecated in v3.0.0. This feature will be removed in v6.0.0. See https://github.com/optuna/optuna/releases/tag/v3.0.0. Use suggest_float(..., log=True) instead.\n",
      "  'alpha': trial.suggest_loguniform('alpha', 1e-10, 1)\n",
      "[I 2024-04-30 10:45:31,609] Trial 41 finished with value: 0.8965136054421767 and parameters: {'alpha': 0.8841735194367765}. Best is trial 11 with value: 0.9005952380952381.\n",
      "/var/folders/n_/mj2qn5sd20lb04k5gcvn8fbr0000gn/T/ipykernel_23964/169037695.py:13: FutureWarning: suggest_loguniform has been deprecated in v3.0.0. This feature will be removed in v6.0.0. See https://github.com/optuna/optuna/releases/tag/v3.0.0. Use suggest_float(..., log=True) instead.\n",
      "  'alpha': trial.suggest_loguniform('alpha', 1e-10, 1)\n",
      "[I 2024-04-30 10:45:31,620] Trial 42 finished with value: 0.8880952380952382 and parameters: {'alpha': 0.366685940932984}. Best is trial 11 with value: 0.9005952380952381.\n",
      "/var/folders/n_/mj2qn5sd20lb04k5gcvn8fbr0000gn/T/ipykernel_23964/169037695.py:13: FutureWarning: suggest_loguniform has been deprecated in v3.0.0. This feature will be removed in v6.0.0. See https://github.com/optuna/optuna/releases/tag/v3.0.0. Use suggest_float(..., log=True) instead.\n",
      "  'alpha': trial.suggest_loguniform('alpha', 1e-10, 1)\n",
      "[I 2024-04-30 10:45:31,630] Trial 43 finished with value: 0.8839285714285714 and parameters: {'alpha': 0.27945265746703707}. Best is trial 11 with value: 0.9005952380952381.\n",
      "/var/folders/n_/mj2qn5sd20lb04k5gcvn8fbr0000gn/T/ipykernel_23964/169037695.py:13: FutureWarning: suggest_loguniform has been deprecated in v3.0.0. This feature will be removed in v6.0.0. See https://github.com/optuna/optuna/releases/tag/v3.0.0. Use suggest_float(..., log=True) instead.\n",
      "  'alpha': trial.suggest_loguniform('alpha', 1e-10, 1)\n",
      "[I 2024-04-30 10:45:31,640] Trial 44 finished with value: 0.8965136054421767 and parameters: {'alpha': 0.6992407028121306}. Best is trial 11 with value: 0.9005952380952381.\n",
      "/var/folders/n_/mj2qn5sd20lb04k5gcvn8fbr0000gn/T/ipykernel_23964/169037695.py:13: FutureWarning: suggest_loguniform has been deprecated in v3.0.0. This feature will be removed in v6.0.0. See https://github.com/optuna/optuna/releases/tag/v3.0.0. Use suggest_float(..., log=True) instead.\n",
      "  'alpha': trial.suggest_loguniform('alpha', 1e-10, 1)\n",
      "[I 2024-04-30 10:45:31,650] Trial 45 finished with value: 0.8591836734693878 and parameters: {'alpha': 0.005637854594586405}. Best is trial 11 with value: 0.9005952380952381.\n",
      "/var/folders/n_/mj2qn5sd20lb04k5gcvn8fbr0000gn/T/ipykernel_23964/169037695.py:13: FutureWarning: suggest_loguniform has been deprecated in v3.0.0. This feature will be removed in v6.0.0. See https://github.com/optuna/optuna/releases/tag/v3.0.0. Use suggest_float(..., log=True) instead.\n",
      "  'alpha': trial.suggest_loguniform('alpha', 1e-10, 1)\n",
      "[I 2024-04-30 10:45:31,660] Trial 46 finished with value: 0.8256802721088435 and parameters: {'alpha': 0.0540290562293072}. Best is trial 11 with value: 0.9005952380952381.\n",
      "/var/folders/n_/mj2qn5sd20lb04k5gcvn8fbr0000gn/T/ipykernel_23964/169037695.py:13: FutureWarning: suggest_loguniform has been deprecated in v3.0.0. This feature will be removed in v6.0.0. See https://github.com/optuna/optuna/releases/tag/v3.0.0. Use suggest_float(..., log=True) instead.\n",
      "  'alpha': trial.suggest_loguniform('alpha', 1e-10, 1)\n",
      "[I 2024-04-30 10:45:31,669] Trial 47 finished with value: 0.8423469387755101 and parameters: {'alpha': 0.14015754363932453}. Best is trial 11 with value: 0.9005952380952381.\n",
      "/var/folders/n_/mj2qn5sd20lb04k5gcvn8fbr0000gn/T/ipykernel_23964/169037695.py:13: FutureWarning: suggest_loguniform has been deprecated in v3.0.0. This feature will be removed in v6.0.0. See https://github.com/optuna/optuna/releases/tag/v3.0.0. Use suggest_float(..., log=True) instead.\n",
      "  'alpha': trial.suggest_loguniform('alpha', 1e-10, 1)\n",
      "[I 2024-04-30 10:45:31,680] Trial 48 finished with value: 0.8633503401360544 and parameters: {'alpha': 6.135222074790375e-06}. Best is trial 11 with value: 0.9005952380952381.\n",
      "/var/folders/n_/mj2qn5sd20lb04k5gcvn8fbr0000gn/T/ipykernel_23964/169037695.py:13: FutureWarning: suggest_loguniform has been deprecated in v3.0.0. This feature will be removed in v6.0.0. See https://github.com/optuna/optuna/releases/tag/v3.0.0. Use suggest_float(..., log=True) instead.\n",
      "  'alpha': trial.suggest_loguniform('alpha', 1e-10, 1)\n",
      "[I 2024-04-30 10:45:31,692] Trial 49 finished with value: 0.8591836734693878 and parameters: {'alpha': 0.00186105459012655}. Best is trial 11 with value: 0.9005952380952381.\n",
      "/var/folders/n_/mj2qn5sd20lb04k5gcvn8fbr0000gn/T/ipykernel_23964/169037695.py:13: FutureWarning: suggest_loguniform has been deprecated in v3.0.0. This feature will be removed in v6.0.0. See https://github.com/optuna/optuna/releases/tag/v3.0.0. Use suggest_float(..., log=True) instead.\n",
      "  'alpha': trial.suggest_loguniform('alpha', 1e-10, 1)\n",
      "[I 2024-04-30 10:45:31,703] Trial 50 finished with value: 0.8215986394557824 and parameters: {'alpha': 0.024442799996807027}. Best is trial 11 with value: 0.9005952380952381.\n",
      "/var/folders/n_/mj2qn5sd20lb04k5gcvn8fbr0000gn/T/ipykernel_23964/169037695.py:13: FutureWarning: suggest_loguniform has been deprecated in v3.0.0. This feature will be removed in v6.0.0. See https://github.com/optuna/optuna/releases/tag/v3.0.0. Use suggest_float(..., log=True) instead.\n",
      "  'alpha': trial.suggest_loguniform('alpha', 1e-10, 1)\n",
      "[I 2024-04-30 10:45:31,713] Trial 51 finished with value: 0.8965136054421767 and parameters: {'alpha': 0.9628583779609873}. Best is trial 11 with value: 0.9005952380952381.\n",
      "/var/folders/n_/mj2qn5sd20lb04k5gcvn8fbr0000gn/T/ipykernel_23964/169037695.py:13: FutureWarning: suggest_loguniform has been deprecated in v3.0.0. This feature will be removed in v6.0.0. See https://github.com/optuna/optuna/releases/tag/v3.0.0. Use suggest_float(..., log=True) instead.\n",
      "  'alpha': trial.suggest_loguniform('alpha', 1e-10, 1)\n",
      "[I 2024-04-30 10:45:31,723] Trial 52 finished with value: 0.8880952380952382 and parameters: {'alpha': 0.34383126735922936}. Best is trial 11 with value: 0.9005952380952381.\n",
      "/var/folders/n_/mj2qn5sd20lb04k5gcvn8fbr0000gn/T/ipykernel_23964/169037695.py:13: FutureWarning: suggest_loguniform has been deprecated in v3.0.0. This feature will be removed in v6.0.0. See https://github.com/optuna/optuna/releases/tag/v3.0.0. Use suggest_float(..., log=True) instead.\n",
      "  'alpha': trial.suggest_loguniform('alpha', 1e-10, 1)\n",
      "[I 2024-04-30 10:45:31,734] Trial 53 finished with value: 0.8381802721088436 and parameters: {'alpha': 0.0970879003887452}. Best is trial 11 with value: 0.9005952380952381.\n",
      "/var/folders/n_/mj2qn5sd20lb04k5gcvn8fbr0000gn/T/ipykernel_23964/169037695.py:13: FutureWarning: suggest_loguniform has been deprecated in v3.0.0. This feature will be removed in v6.0.0. See https://github.com/optuna/optuna/releases/tag/v3.0.0. Use suggest_float(..., log=True) instead.\n",
      "  'alpha': trial.suggest_loguniform('alpha', 1e-10, 1)\n",
      "[I 2024-04-30 10:45:31,745] Trial 54 finished with value: 0.8965136054421767 and parameters: {'alpha': 0.8336766247940316}. Best is trial 11 with value: 0.9005952380952381.\n",
      "/var/folders/n_/mj2qn5sd20lb04k5gcvn8fbr0000gn/T/ipykernel_23964/169037695.py:13: FutureWarning: suggest_loguniform has been deprecated in v3.0.0. This feature will be removed in v6.0.0. See https://github.com/optuna/optuna/releases/tag/v3.0.0. Use suggest_float(..., log=True) instead.\n",
      "  'alpha': trial.suggest_loguniform('alpha', 1e-10, 1)\n",
      "[I 2024-04-30 10:45:31,755] Trial 55 finished with value: 0.8839285714285714 and parameters: {'alpha': 0.259048948357929}. Best is trial 11 with value: 0.9005952380952381.\n",
      "/var/folders/n_/mj2qn5sd20lb04k5gcvn8fbr0000gn/T/ipykernel_23964/169037695.py:13: FutureWarning: suggest_loguniform has been deprecated in v3.0.0. This feature will be removed in v6.0.0. See https://github.com/optuna/optuna/releases/tag/v3.0.0. Use suggest_float(..., log=True) instead.\n",
      "  'alpha': trial.suggest_loguniform('alpha', 1e-10, 1)\n",
      "[I 2024-04-30 10:45:31,765] Trial 56 finished with value: 0.8633503401360544 and parameters: {'alpha': 6.306351465229617e-08}. Best is trial 11 with value: 0.9005952380952381.\n",
      "/var/folders/n_/mj2qn5sd20lb04k5gcvn8fbr0000gn/T/ipykernel_23964/169037695.py:13: FutureWarning: suggest_loguniform has been deprecated in v3.0.0. This feature will be removed in v6.0.0. See https://github.com/optuna/optuna/releases/tag/v3.0.0. Use suggest_float(..., log=True) instead.\n",
      "  'alpha': trial.suggest_loguniform('alpha', 1e-10, 1)\n",
      "[I 2024-04-30 10:45:31,776] Trial 57 finished with value: 0.8256802721088435 and parameters: {'alpha': 0.06037312085542012}. Best is trial 11 with value: 0.9005952380952381.\n",
      "/var/folders/n_/mj2qn5sd20lb04k5gcvn8fbr0000gn/T/ipykernel_23964/169037695.py:13: FutureWarning: suggest_loguniform has been deprecated in v3.0.0. This feature will be removed in v6.0.0. See https://github.com/optuna/optuna/releases/tag/v3.0.0. Use suggest_float(..., log=True) instead.\n",
      "  'alpha': trial.suggest_loguniform('alpha', 1e-10, 1)\n",
      "[I 2024-04-30 10:45:31,786] Trial 58 finished with value: 0.8633503401360544 and parameters: {'alpha': 4.468364689197706e-05}. Best is trial 11 with value: 0.9005952380952381.\n",
      "/var/folders/n_/mj2qn5sd20lb04k5gcvn8fbr0000gn/T/ipykernel_23964/169037695.py:13: FutureWarning: suggest_loguniform has been deprecated in v3.0.0. This feature will be removed in v6.0.0. See https://github.com/optuna/optuna/releases/tag/v3.0.0. Use suggest_float(..., log=True) instead.\n",
      "  'alpha': trial.suggest_loguniform('alpha', 1e-10, 1)\n",
      "[I 2024-04-30 10:45:31,797] Trial 59 finished with value: 0.8633503401360544 and parameters: {'alpha': 1.5532811072648958e-06}. Best is trial 11 with value: 0.9005952380952381.\n",
      "/var/folders/n_/mj2qn5sd20lb04k5gcvn8fbr0000gn/T/ipykernel_23964/169037695.py:13: FutureWarning: suggest_loguniform has been deprecated in v3.0.0. This feature will be removed in v6.0.0. See https://github.com/optuna/optuna/releases/tag/v3.0.0. Use suggest_float(..., log=True) instead.\n",
      "  'alpha': trial.suggest_loguniform('alpha', 1e-10, 1)\n",
      "[I 2024-04-30 10:45:31,807] Trial 60 finished with value: 0.838265306122449 and parameters: {'alpha': 0.016672782953962507}. Best is trial 11 with value: 0.9005952380952381.\n",
      "/var/folders/n_/mj2qn5sd20lb04k5gcvn8fbr0000gn/T/ipykernel_23964/169037695.py:13: FutureWarning: suggest_loguniform has been deprecated in v3.0.0. This feature will be removed in v6.0.0. See https://github.com/optuna/optuna/releases/tag/v3.0.0. Use suggest_float(..., log=True) instead.\n",
      "  'alpha': trial.suggest_loguniform('alpha', 1e-10, 1)\n",
      "[I 2024-04-30 10:45:31,818] Trial 61 finished with value: 0.8965136054421767 and parameters: {'alpha': 0.9223701569516194}. Best is trial 11 with value: 0.9005952380952381.\n",
      "/var/folders/n_/mj2qn5sd20lb04k5gcvn8fbr0000gn/T/ipykernel_23964/169037695.py:13: FutureWarning: suggest_loguniform has been deprecated in v3.0.0. This feature will be removed in v6.0.0. See https://github.com/optuna/optuna/releases/tag/v3.0.0. Use suggest_float(..., log=True) instead.\n",
      "  'alpha': trial.suggest_loguniform('alpha', 1e-10, 1)\n",
      "[I 2024-04-30 10:45:31,829] Trial 62 finished with value: 0.8880952380952382 and parameters: {'alpha': 0.4046882344985246}. Best is trial 11 with value: 0.9005952380952381.\n",
      "/var/folders/n_/mj2qn5sd20lb04k5gcvn8fbr0000gn/T/ipykernel_23964/169037695.py:13: FutureWarning: suggest_loguniform has been deprecated in v3.0.0. This feature will be removed in v6.0.0. See https://github.com/optuna/optuna/releases/tag/v3.0.0. Use suggest_float(..., log=True) instead.\n",
      "  'alpha': trial.suggest_loguniform('alpha', 1e-10, 1)\n",
      "[I 2024-04-30 10:45:31,840] Trial 63 finished with value: 0.8547619047619047 and parameters: {'alpha': 0.17552786426652864}. Best is trial 11 with value: 0.9005952380952381.\n",
      "/var/folders/n_/mj2qn5sd20lb04k5gcvn8fbr0000gn/T/ipykernel_23964/169037695.py:13: FutureWarning: suggest_loguniform has been deprecated in v3.0.0. This feature will be removed in v6.0.0. See https://github.com/optuna/optuna/releases/tag/v3.0.0. Use suggest_float(..., log=True) instead.\n",
      "  'alpha': trial.suggest_loguniform('alpha', 1e-10, 1)\n",
      "[I 2024-04-30 10:45:31,850] Trial 64 finished with value: 0.8922619047619047 and parameters: {'alpha': 0.5636929935417339}. Best is trial 11 with value: 0.9005952380952381.\n",
      "/var/folders/n_/mj2qn5sd20lb04k5gcvn8fbr0000gn/T/ipykernel_23964/169037695.py:13: FutureWarning: suggest_loguniform has been deprecated in v3.0.0. This feature will be removed in v6.0.0. See https://github.com/optuna/optuna/releases/tag/v3.0.0. Use suggest_float(..., log=True) instead.\n",
      "  'alpha': trial.suggest_loguniform('alpha', 1e-10, 1)\n",
      "[I 2024-04-30 10:45:31,862] Trial 65 finished with value: 0.8423469387755101 and parameters: {'alpha': 0.11591545246022074}. Best is trial 11 with value: 0.9005952380952381.\n",
      "/var/folders/n_/mj2qn5sd20lb04k5gcvn8fbr0000gn/T/ipykernel_23964/169037695.py:13: FutureWarning: suggest_loguniform has been deprecated in v3.0.0. This feature will be removed in v6.0.0. See https://github.com/optuna/optuna/releases/tag/v3.0.0. Use suggest_float(..., log=True) instead.\n",
      "  'alpha': trial.suggest_loguniform('alpha', 1e-10, 1)\n",
      "[I 2024-04-30 10:45:31,872] Trial 66 finished with value: 0.8880952380952382 and parameters: {'alpha': 0.46895453309517177}. Best is trial 11 with value: 0.9005952380952381.\n",
      "/var/folders/n_/mj2qn5sd20lb04k5gcvn8fbr0000gn/T/ipykernel_23964/169037695.py:13: FutureWarning: suggest_loguniform has been deprecated in v3.0.0. This feature will be removed in v6.0.0. See https://github.com/optuna/optuna/releases/tag/v3.0.0. Use suggest_float(..., log=True) instead.\n",
      "  'alpha': trial.suggest_loguniform('alpha', 1e-10, 1)\n",
      "[I 2024-04-30 10:45:31,883] Trial 67 finished with value: 0.875595238095238 and parameters: {'alpha': 0.20080841463260812}. Best is trial 11 with value: 0.9005952380952381.\n",
      "/var/folders/n_/mj2qn5sd20lb04k5gcvn8fbr0000gn/T/ipykernel_23964/169037695.py:13: FutureWarning: suggest_loguniform has been deprecated in v3.0.0. This feature will be removed in v6.0.0. See https://github.com/optuna/optuna/releases/tag/v3.0.0. Use suggest_float(..., log=True) instead.\n",
      "  'alpha': trial.suggest_loguniform('alpha', 1e-10, 1)\n",
      "[I 2024-04-30 10:45:31,893] Trial 68 finished with value: 0.8215986394557824 and parameters: {'alpha': 0.029589886381868817}. Best is trial 11 with value: 0.9005952380952381.\n",
      "/var/folders/n_/mj2qn5sd20lb04k5gcvn8fbr0000gn/T/ipykernel_23964/169037695.py:13: FutureWarning: suggest_loguniform has been deprecated in v3.0.0. This feature will be removed in v6.0.0. See https://github.com/optuna/optuna/releases/tag/v3.0.0. Use suggest_float(..., log=True) instead.\n",
      "  'alpha': trial.suggest_loguniform('alpha', 1e-10, 1)\n",
      "[I 2024-04-30 10:45:31,905] Trial 69 finished with value: 0.8633503401360544 and parameters: {'alpha': 0.00014745886480023402}. Best is trial 11 with value: 0.9005952380952381.\n",
      "/var/folders/n_/mj2qn5sd20lb04k5gcvn8fbr0000gn/T/ipykernel_23964/169037695.py:13: FutureWarning: suggest_loguniform has been deprecated in v3.0.0. This feature will be removed in v6.0.0. See https://github.com/optuna/optuna/releases/tag/v3.0.0. Use suggest_float(..., log=True) instead.\n",
      "  'alpha': trial.suggest_loguniform('alpha', 1e-10, 1)\n",
      "[I 2024-04-30 10:45:31,916] Trial 70 finished with value: 0.8965136054421767 and parameters: {'alpha': 0.9929760478898405}. Best is trial 11 with value: 0.9005952380952381.\n",
      "/var/folders/n_/mj2qn5sd20lb04k5gcvn8fbr0000gn/T/ipykernel_23964/169037695.py:13: FutureWarning: suggest_loguniform has been deprecated in v3.0.0. This feature will be removed in v6.0.0. See https://github.com/optuna/optuna/releases/tag/v3.0.0. Use suggest_float(..., log=True) instead.\n",
      "  'alpha': trial.suggest_loguniform('alpha', 1e-10, 1)\n",
      "[I 2024-04-30 10:45:31,926] Trial 71 finished with value: 0.8880952380952382 and parameters: {'alpha': 0.49768760811400126}. Best is trial 11 with value: 0.9005952380952381.\n",
      "/var/folders/n_/mj2qn5sd20lb04k5gcvn8fbr0000gn/T/ipykernel_23964/169037695.py:13: FutureWarning: suggest_loguniform has been deprecated in v3.0.0. This feature will be removed in v6.0.0. See https://github.com/optuna/optuna/releases/tag/v3.0.0. Use suggest_float(..., log=True) instead.\n",
      "  'alpha': trial.suggest_loguniform('alpha', 1e-10, 1)\n",
      "[I 2024-04-30 10:45:31,936] Trial 72 finished with value: 0.8965136054421767 and parameters: {'alpha': 0.9955211928189434}. Best is trial 11 with value: 0.9005952380952381.\n",
      "/var/folders/n_/mj2qn5sd20lb04k5gcvn8fbr0000gn/T/ipykernel_23964/169037695.py:13: FutureWarning: suggest_loguniform has been deprecated in v3.0.0. This feature will be removed in v6.0.0. See https://github.com/optuna/optuna/releases/tag/v3.0.0. Use suggest_float(..., log=True) instead.\n",
      "  'alpha': trial.suggest_loguniform('alpha', 1e-10, 1)\n",
      "[I 2024-04-30 10:45:31,946] Trial 73 finished with value: 0.8256802721088435 and parameters: {'alpha': 0.05910245897201233}. Best is trial 11 with value: 0.9005952380952381.\n",
      "/var/folders/n_/mj2qn5sd20lb04k5gcvn8fbr0000gn/T/ipykernel_23964/169037695.py:13: FutureWarning: suggest_loguniform has been deprecated in v3.0.0. This feature will be removed in v6.0.0. See https://github.com/optuna/optuna/releases/tag/v3.0.0. Use suggest_float(..., log=True) instead.\n",
      "  'alpha': trial.suggest_loguniform('alpha', 1e-10, 1)\n",
      "[I 2024-04-30 10:45:31,958] Trial 74 finished with value: 0.875595238095238 and parameters: {'alpha': 0.21769678832133602}. Best is trial 11 with value: 0.9005952380952381.\n",
      "/var/folders/n_/mj2qn5sd20lb04k5gcvn8fbr0000gn/T/ipykernel_23964/169037695.py:13: FutureWarning: suggest_loguniform has been deprecated in v3.0.0. This feature will be removed in v6.0.0. See https://github.com/optuna/optuna/releases/tag/v3.0.0. Use suggest_float(..., log=True) instead.\n",
      "  'alpha': trial.suggest_loguniform('alpha', 1e-10, 1)\n",
      "[I 2024-04-30 10:45:31,968] Trial 75 finished with value: 0.8633503401360544 and parameters: {'alpha': 1.83316370351149e-05}. Best is trial 11 with value: 0.9005952380952381.\n",
      "/var/folders/n_/mj2qn5sd20lb04k5gcvn8fbr0000gn/T/ipykernel_23964/169037695.py:13: FutureWarning: suggest_loguniform has been deprecated in v3.0.0. This feature will be removed in v6.0.0. See https://github.com/optuna/optuna/releases/tag/v3.0.0. Use suggest_float(..., log=True) instead.\n",
      "  'alpha': trial.suggest_loguniform('alpha', 1e-10, 1)\n",
      "[I 2024-04-30 10:45:31,978] Trial 76 finished with value: 0.8381802721088436 and parameters: {'alpha': 0.10749713919035239}. Best is trial 11 with value: 0.9005952380952381.\n",
      "/var/folders/n_/mj2qn5sd20lb04k5gcvn8fbr0000gn/T/ipykernel_23964/169037695.py:13: FutureWarning: suggest_loguniform has been deprecated in v3.0.0. This feature will be removed in v6.0.0. See https://github.com/optuna/optuna/releases/tag/v3.0.0. Use suggest_float(..., log=True) instead.\n",
      "  'alpha': trial.suggest_loguniform('alpha', 1e-10, 1)\n",
      "[I 2024-04-30 10:45:31,989] Trial 77 finished with value: 0.8880952380952382 and parameters: {'alpha': 0.5151045079371632}. Best is trial 11 with value: 0.9005952380952381.\n",
      "/var/folders/n_/mj2qn5sd20lb04k5gcvn8fbr0000gn/T/ipykernel_23964/169037695.py:13: FutureWarning: suggest_loguniform has been deprecated in v3.0.0. This feature will be removed in v6.0.0. See https://github.com/optuna/optuna/releases/tag/v3.0.0. Use suggest_float(..., log=True) instead.\n",
      "  'alpha': trial.suggest_loguniform('alpha', 1e-10, 1)\n",
      "[I 2024-04-30 10:45:32,004] Trial 78 finished with value: 0.8797619047619047 and parameters: {'alpha': 0.22564189503574844}. Best is trial 11 with value: 0.9005952380952381.\n",
      "/var/folders/n_/mj2qn5sd20lb04k5gcvn8fbr0000gn/T/ipykernel_23964/169037695.py:13: FutureWarning: suggest_loguniform has been deprecated in v3.0.0. This feature will be removed in v6.0.0. See https://github.com/optuna/optuna/releases/tag/v3.0.0. Use suggest_float(..., log=True) instead.\n",
      "  'alpha': trial.suggest_loguniform('alpha', 1e-10, 1)\n",
      "[I 2024-04-30 10:45:32,016] Trial 79 finished with value: 0.8880952380952382 and parameters: {'alpha': 0.41752701846008516}. Best is trial 11 with value: 0.9005952380952381.\n",
      "/var/folders/n_/mj2qn5sd20lb04k5gcvn8fbr0000gn/T/ipykernel_23964/169037695.py:13: FutureWarning: suggest_loguniform has been deprecated in v3.0.0. This feature will be removed in v6.0.0. See https://github.com/optuna/optuna/releases/tag/v3.0.0. Use suggest_float(..., log=True) instead.\n",
      "  'alpha': trial.suggest_loguniform('alpha', 1e-10, 1)\n",
      "[I 2024-04-30 10:45:32,027] Trial 80 finished with value: 0.8215986394557824 and parameters: {'alpha': 0.044705145465480566}. Best is trial 11 with value: 0.9005952380952381.\n",
      "/var/folders/n_/mj2qn5sd20lb04k5gcvn8fbr0000gn/T/ipykernel_23964/169037695.py:13: FutureWarning: suggest_loguniform has been deprecated in v3.0.0. This feature will be removed in v6.0.0. See https://github.com/optuna/optuna/releases/tag/v3.0.0. Use suggest_float(..., log=True) instead.\n",
      "  'alpha': trial.suggest_loguniform('alpha', 1e-10, 1)\n",
      "[I 2024-04-30 10:45:32,040] Trial 81 finished with value: 0.8633503401360544 and parameters: {'alpha': 1.0736180094177391e-10}. Best is trial 11 with value: 0.9005952380952381.\n",
      "/var/folders/n_/mj2qn5sd20lb04k5gcvn8fbr0000gn/T/ipykernel_23964/169037695.py:13: FutureWarning: suggest_loguniform has been deprecated in v3.0.0. This feature will be removed in v6.0.0. See https://github.com/optuna/optuna/releases/tag/v3.0.0. Use suggest_float(..., log=True) instead.\n",
      "  'alpha': trial.suggest_loguniform('alpha', 1e-10, 1)\n",
      "[I 2024-04-30 10:45:32,050] Trial 82 finished with value: 0.9005952380952381 and parameters: {'alpha': 0.6214674568269489}. Best is trial 11 with value: 0.9005952380952381.\n",
      "/var/folders/n_/mj2qn5sd20lb04k5gcvn8fbr0000gn/T/ipykernel_23964/169037695.py:13: FutureWarning: suggest_loguniform has been deprecated in v3.0.0. This feature will be removed in v6.0.0. See https://github.com/optuna/optuna/releases/tag/v3.0.0. Use suggest_float(..., log=True) instead.\n",
      "  'alpha': trial.suggest_loguniform('alpha', 1e-10, 1)\n",
      "[I 2024-04-30 10:45:32,060] Trial 83 finished with value: 0.8922619047619047 and parameters: {'alpha': 0.5656773301656899}. Best is trial 11 with value: 0.9005952380952381.\n",
      "/var/folders/n_/mj2qn5sd20lb04k5gcvn8fbr0000gn/T/ipykernel_23964/169037695.py:13: FutureWarning: suggest_loguniform has been deprecated in v3.0.0. This feature will be removed in v6.0.0. See https://github.com/optuna/optuna/releases/tag/v3.0.0. Use suggest_float(..., log=True) instead.\n",
      "  'alpha': trial.suggest_loguniform('alpha', 1e-10, 1)\n",
      "[I 2024-04-30 10:45:32,070] Trial 84 finished with value: 0.8839285714285714 and parameters: {'alpha': 0.28260954808252736}. Best is trial 11 with value: 0.9005952380952381.\n",
      "/var/folders/n_/mj2qn5sd20lb04k5gcvn8fbr0000gn/T/ipykernel_23964/169037695.py:13: FutureWarning: suggest_loguniform has been deprecated in v3.0.0. This feature will be removed in v6.0.0. See https://github.com/optuna/optuna/releases/tag/v3.0.0. Use suggest_float(..., log=True) instead.\n",
      "  'alpha': trial.suggest_loguniform('alpha', 1e-10, 1)\n",
      "[I 2024-04-30 10:45:32,080] Trial 85 finished with value: 0.8381802721088436 and parameters: {'alpha': 0.09295412263135548}. Best is trial 11 with value: 0.9005952380952381.\n",
      "/var/folders/n_/mj2qn5sd20lb04k5gcvn8fbr0000gn/T/ipykernel_23964/169037695.py:13: FutureWarning: suggest_loguniform has been deprecated in v3.0.0. This feature will be removed in v6.0.0. See https://github.com/optuna/optuna/releases/tag/v3.0.0. Use suggest_float(..., log=True) instead.\n",
      "  'alpha': trial.suggest_loguniform('alpha', 1e-10, 1)\n",
      "[I 2024-04-30 10:45:32,090] Trial 86 finished with value: 0.8423469387755101 and parameters: {'alpha': 0.15782450760986}. Best is trial 11 with value: 0.9005952380952381.\n",
      "/var/folders/n_/mj2qn5sd20lb04k5gcvn8fbr0000gn/T/ipykernel_23964/169037695.py:13: FutureWarning: suggest_loguniform has been deprecated in v3.0.0. This feature will be removed in v6.0.0. See https://github.com/optuna/optuna/releases/tag/v3.0.0. Use suggest_float(..., log=True) instead.\n",
      "  'alpha': trial.suggest_loguniform('alpha', 1e-10, 1)\n",
      "[I 2024-04-30 10:45:32,100] Trial 87 finished with value: 0.8922619047619047 and parameters: {'alpha': 0.5792884357011866}. Best is trial 11 with value: 0.9005952380952381.\n",
      "/var/folders/n_/mj2qn5sd20lb04k5gcvn8fbr0000gn/T/ipykernel_23964/169037695.py:13: FutureWarning: suggest_loguniform has been deprecated in v3.0.0. This feature will be removed in v6.0.0. See https://github.com/optuna/optuna/releases/tag/v3.0.0. Use suggest_float(..., log=True) instead.\n",
      "  'alpha': trial.suggest_loguniform('alpha', 1e-10, 1)\n",
      "[I 2024-04-30 10:45:32,110] Trial 88 finished with value: 0.8839285714285714 and parameters: {'alpha': 0.2715826453719671}. Best is trial 11 with value: 0.9005952380952381.\n",
      "/var/folders/n_/mj2qn5sd20lb04k5gcvn8fbr0000gn/T/ipykernel_23964/169037695.py:13: FutureWarning: suggest_loguniform has been deprecated in v3.0.0. This feature will be removed in v6.0.0. See https://github.com/optuna/optuna/releases/tag/v3.0.0. Use suggest_float(..., log=True) instead.\n",
      "  'alpha': trial.suggest_loguniform('alpha', 1e-10, 1)\n",
      "[I 2024-04-30 10:45:32,121] Trial 89 finished with value: 0.8965136054421767 and parameters: {'alpha': 0.9848301194044025}. Best is trial 11 with value: 0.9005952380952381.\n",
      "/var/folders/n_/mj2qn5sd20lb04k5gcvn8fbr0000gn/T/ipykernel_23964/169037695.py:13: FutureWarning: suggest_loguniform has been deprecated in v3.0.0. This feature will be removed in v6.0.0. See https://github.com/optuna/optuna/releases/tag/v3.0.0. Use suggest_float(..., log=True) instead.\n",
      "  'alpha': trial.suggest_loguniform('alpha', 1e-10, 1)\n",
      "[I 2024-04-30 10:45:32,132] Trial 90 finished with value: 0.8508503401360545 and parameters: {'alpha': 0.008729678985789746}. Best is trial 11 with value: 0.9005952380952381.\n",
      "/var/folders/n_/mj2qn5sd20lb04k5gcvn8fbr0000gn/T/ipykernel_23964/169037695.py:13: FutureWarning: suggest_loguniform has been deprecated in v3.0.0. This feature will be removed in v6.0.0. See https://github.com/optuna/optuna/releases/tag/v3.0.0. Use suggest_float(..., log=True) instead.\n",
      "  'alpha': trial.suggest_loguniform('alpha', 1e-10, 1)\n",
      "[I 2024-04-30 10:45:32,142] Trial 91 finished with value: 0.9005952380952381 and parameters: {'alpha': 0.633190030202743}. Best is trial 11 with value: 0.9005952380952381.\n",
      "/var/folders/n_/mj2qn5sd20lb04k5gcvn8fbr0000gn/T/ipykernel_23964/169037695.py:13: FutureWarning: suggest_loguniform has been deprecated in v3.0.0. This feature will be removed in v6.0.0. See https://github.com/optuna/optuna/releases/tag/v3.0.0. Use suggest_float(..., log=True) instead.\n",
      "  'alpha': trial.suggest_loguniform('alpha', 1e-10, 1)\n",
      "[I 2024-04-30 10:45:32,153] Trial 92 finished with value: 0.8633503401360544 and parameters: {'alpha': 9.261707810343064e-10}. Best is trial 11 with value: 0.9005952380952381.\n",
      "/var/folders/n_/mj2qn5sd20lb04k5gcvn8fbr0000gn/T/ipykernel_23964/169037695.py:13: FutureWarning: suggest_loguniform has been deprecated in v3.0.0. This feature will be removed in v6.0.0. See https://github.com/optuna/optuna/releases/tag/v3.0.0. Use suggest_float(..., log=True) instead.\n",
      "  'alpha': trial.suggest_loguniform('alpha', 1e-10, 1)\n",
      "[I 2024-04-30 10:45:32,164] Trial 93 finished with value: 0.9005952380952381 and parameters: {'alpha': 0.64362958355729}. Best is trial 11 with value: 0.9005952380952381.\n",
      "/var/folders/n_/mj2qn5sd20lb04k5gcvn8fbr0000gn/T/ipykernel_23964/169037695.py:13: FutureWarning: suggest_loguniform has been deprecated in v3.0.0. This feature will be removed in v6.0.0. See https://github.com/optuna/optuna/releases/tag/v3.0.0. Use suggest_float(..., log=True) instead.\n",
      "  'alpha': trial.suggest_loguniform('alpha', 1e-10, 1)\n",
      "[I 2024-04-30 10:45:32,174] Trial 94 finished with value: 0.8922619047619047 and parameters: {'alpha': 0.5961742879766825}. Best is trial 11 with value: 0.9005952380952381.\n",
      "/var/folders/n_/mj2qn5sd20lb04k5gcvn8fbr0000gn/T/ipykernel_23964/169037695.py:13: FutureWarning: suggest_loguniform has been deprecated in v3.0.0. This feature will be removed in v6.0.0. See https://github.com/optuna/optuna/releases/tag/v3.0.0. Use suggest_float(..., log=True) instead.\n",
      "  'alpha': trial.suggest_loguniform('alpha', 1e-10, 1)\n",
      "[I 2024-04-30 10:45:32,186] Trial 95 finished with value: 0.8839285714285714 and parameters: {'alpha': 0.30719183228904146}. Best is trial 11 with value: 0.9005952380952381.\n",
      "/var/folders/n_/mj2qn5sd20lb04k5gcvn8fbr0000gn/T/ipykernel_23964/169037695.py:13: FutureWarning: suggest_loguniform has been deprecated in v3.0.0. This feature will be removed in v6.0.0. See https://github.com/optuna/optuna/releases/tag/v3.0.0. Use suggest_float(..., log=True) instead.\n",
      "  'alpha': trial.suggest_loguniform('alpha', 1e-10, 1)\n",
      "[I 2024-04-30 10:45:32,197] Trial 96 finished with value: 0.8381802721088436 and parameters: {'alpha': 0.1250737443505575}. Best is trial 11 with value: 0.9005952380952381.\n",
      "/var/folders/n_/mj2qn5sd20lb04k5gcvn8fbr0000gn/T/ipykernel_23964/169037695.py:13: FutureWarning: suggest_loguniform has been deprecated in v3.0.0. This feature will be removed in v6.0.0. See https://github.com/optuna/optuna/releases/tag/v3.0.0. Use suggest_float(..., log=True) instead.\n",
      "  'alpha': trial.suggest_loguniform('alpha', 1e-10, 1)\n",
      "[I 2024-04-30 10:45:32,209] Trial 97 finished with value: 0.8633503401360544 and parameters: {'alpha': 1.1686252763831411e-07}. Best is trial 11 with value: 0.9005952380952381.\n",
      "/var/folders/n_/mj2qn5sd20lb04k5gcvn8fbr0000gn/T/ipykernel_23964/169037695.py:13: FutureWarning: suggest_loguniform has been deprecated in v3.0.0. This feature will be removed in v6.0.0. See https://github.com/optuna/optuna/releases/tag/v3.0.0. Use suggest_float(..., log=True) instead.\n",
      "  'alpha': trial.suggest_loguniform('alpha', 1e-10, 1)\n",
      "[I 2024-04-30 10:45:32,219] Trial 98 finished with value: 0.8547619047619047 and parameters: {'alpha': 0.16768066916778002}. Best is trial 11 with value: 0.9005952380952381.\n",
      "/var/folders/n_/mj2qn5sd20lb04k5gcvn8fbr0000gn/T/ipykernel_23964/169037695.py:13: FutureWarning: suggest_loguniform has been deprecated in v3.0.0. This feature will be removed in v6.0.0. See https://github.com/optuna/optuna/releases/tag/v3.0.0. Use suggest_float(..., log=True) instead.\n",
      "  'alpha': trial.suggest_loguniform('alpha', 1e-10, 1)\n",
      "[I 2024-04-30 10:45:32,230] Trial 99 finished with value: 0.8839285714285714 and parameters: {'alpha': 0.3191722239659357}. Best is trial 11 with value: 0.9005952380952381.\n"
     ]
    },
    {
     "name": "stdout",
     "output_type": "stream",
     "text": [
      "Best parameters found: {'alpha': 0.6423321842897731}\n",
      "Best accuracy found: 0.9005952380952381\n"
     ]
    }
   ],
   "source": [
    "import optuna\n",
    "import numpy as np\n",
    "from sklearn.model_selection import cross_val_score\n",
    "from sklearn.metrics import accuracy_score\n",
    "from sklearn.ensemble import RandomForestClassifier\n",
    "from sklearn.svm import SVC\n",
    "from xgboost import XGBClassifier\n",
    "\n",
    "# Define objective function\n",
    "def objective(trial):\n",
    "    # Define hyperparameters to be tuned\n",
    "    params = {\n",
    "        'alpha': trial.suggest_loguniform('alpha', 1e-10, 1)\n",
    "    }\n",
    "\n",
    "    # Initialize and train the model\n",
    "    model = MultinomialNB(**params)\n",
    "\n",
    "    # Alternatively, you can use other classifiers like SVM, XGBoost, or LightGBM\n",
    "    # model = SVC(C=trial.suggest_loguniform('C', 1e-5, 100), gamma='auto')\n",
    "    # model = XGBClassifier(learning_rate=trial.suggest_loguniform('learning_rate', 0.001, 1.0), n_estimators=trial.suggest_int('n_estimators', 100, 1000))\n",
    "    # model = LGBMClassifier(learning_rate=trial.suggest_loguniform('learning_rate', 0.001, 1.0), n_estimators=trial.suggest_int('n_estimators', 100, 1000))\n",
    "\n",
    "    # Evaluate the model using cross-validation\n",
    "    cv_scores = cross_val_score(model, X_vec, y, cv=5)\n",
    "    accuracy = np.mean(cv_scores)\n",
    "    return accuracy\n",
    "\n",
    "# Define the study\n",
    "study = optuna.create_study(direction='maximize')\n",
    "\n",
    "# Run the optimization\n",
    "study.optimize(objective, n_trials=100)\n",
    "\n",
    "# Print the best parameters and objective value\n",
    "print(\"Best parameters found:\", study.best_params)\n",
    "print(\"Best accuracy found:\", study.best_value)"
   ],
   "metadata": {
    "collapsed": false
   }
  },
  {
   "cell_type": "code",
   "execution_count": 173,
   "outputs": [
    {
     "name": "stderr",
     "output_type": "stream",
     "text": [
      "[I 2024-04-30 14:23:33,082] A new study created in memory with name: no-name-ed29bcdf-6b6f-4f02-8ab0-22be5ea9393d\n",
      "/var/folders/n_/mj2qn5sd20lb04k5gcvn8fbr0000gn/T/ipykernel_23964/1484248660.py:5: FutureWarning: suggest_loguniform has been deprecated in v3.0.0. This feature will be removed in v6.0.0. See https://github.com/optuna/optuna/releases/tag/v3.0.0. Use suggest_float(..., log=True) instead.\n",
      "  'C': trial.suggest_loguniform('C', 0.001, 10),\n",
      "/Users/tgumpp/opt/anaconda3/lib/python3.9/site-packages/sklearn/linear_model/_sag.py:352: ConvergenceWarning: The max_iter was reached which means the coef_ did not converge\n",
      "  warnings.warn(\n",
      "/Users/tgumpp/opt/anaconda3/lib/python3.9/site-packages/sklearn/linear_model/_sag.py:352: ConvergenceWarning: The max_iter was reached which means the coef_ did not converge\n",
      "  warnings.warn(\n",
      "/Users/tgumpp/opt/anaconda3/lib/python3.9/site-packages/sklearn/linear_model/_sag.py:352: ConvergenceWarning: The max_iter was reached which means the coef_ did not converge\n",
      "  warnings.warn(\n",
      "/Users/tgumpp/opt/anaconda3/lib/python3.9/site-packages/sklearn/linear_model/_sag.py:352: ConvergenceWarning: The max_iter was reached which means the coef_ did not converge\n",
      "  warnings.warn(\n",
      "/Users/tgumpp/opt/anaconda3/lib/python3.9/site-packages/sklearn/linear_model/_sag.py:352: ConvergenceWarning: The max_iter was reached which means the coef_ did not converge\n",
      "  warnings.warn(\n",
      "[I 2024-04-30 14:23:33,256] Trial 0 finished with value: 0.884013605442177 and parameters: {'penalty': 'l1', 'C': 6.416498597608327, 'solver': 'saga'}. Best is trial 0 with value: 0.884013605442177.\n",
      "/var/folders/n_/mj2qn5sd20lb04k5gcvn8fbr0000gn/T/ipykernel_23964/1484248660.py:5: FutureWarning: suggest_loguniform has been deprecated in v3.0.0. This feature will be removed in v6.0.0. See https://github.com/optuna/optuna/releases/tag/v3.0.0. Use suggest_float(..., log=True) instead.\n",
      "  'C': trial.suggest_loguniform('C', 0.001, 10),\n",
      "[I 2024-04-30 14:23:33,273] Trial 1 finished with value: 0.755357142857143 and parameters: {'penalty': 'l1', 'C': 0.48430580776733756, 'solver': 'liblinear'}. Best is trial 0 with value: 0.884013605442177.\n",
      "/var/folders/n_/mj2qn5sd20lb04k5gcvn8fbr0000gn/T/ipykernel_23964/1484248660.py:5: FutureWarning: suggest_loguniform has been deprecated in v3.0.0. This feature will be removed in v6.0.0. See https://github.com/optuna/optuna/releases/tag/v3.0.0. Use suggest_float(..., log=True) instead.\n",
      "  'C': trial.suggest_loguniform('C', 0.001, 10),\n",
      "[I 2024-04-30 14:23:33,297] Trial 2 finished with value: 0.9006802721088436 and parameters: {'penalty': 'l2', 'C': 5.913827609125245, 'solver': 'liblinear'}. Best is trial 2 with value: 0.9006802721088436.\n",
      "/var/folders/n_/mj2qn5sd20lb04k5gcvn8fbr0000gn/T/ipykernel_23964/1484248660.py:5: FutureWarning: suggest_loguniform has been deprecated in v3.0.0. This feature will be removed in v6.0.0. See https://github.com/optuna/optuna/releases/tag/v3.0.0. Use suggest_float(..., log=True) instead.\n",
      "  'C': trial.suggest_loguniform('C', 0.001, 10),\n",
      "/Users/tgumpp/opt/anaconda3/lib/python3.9/site-packages/sklearn/linear_model/_sag.py:352: ConvergenceWarning: The max_iter was reached which means the coef_ did not converge\n",
      "  warnings.warn(\n",
      "/Users/tgumpp/opt/anaconda3/lib/python3.9/site-packages/sklearn/linear_model/_sag.py:352: ConvergenceWarning: The max_iter was reached which means the coef_ did not converge\n",
      "  warnings.warn(\n",
      "/Users/tgumpp/opt/anaconda3/lib/python3.9/site-packages/sklearn/linear_model/_sag.py:352: ConvergenceWarning: The max_iter was reached which means the coef_ did not converge\n",
      "  warnings.warn(\n",
      "/Users/tgumpp/opt/anaconda3/lib/python3.9/site-packages/sklearn/linear_model/_sag.py:352: ConvergenceWarning: The max_iter was reached which means the coef_ did not converge\n",
      "  warnings.warn(\n",
      "/Users/tgumpp/opt/anaconda3/lib/python3.9/site-packages/sklearn/linear_model/_sag.py:352: ConvergenceWarning: The max_iter was reached which means the coef_ did not converge\n",
      "  warnings.warn(\n",
      "[I 2024-04-30 14:23:33,326] Trial 3 finished with value: 0.5187074829931974 and parameters: {'penalty': 'l2', 'C': 0.005420276545193854, 'solver': 'saga'}. Best is trial 2 with value: 0.9006802721088436.\n",
      "/var/folders/n_/mj2qn5sd20lb04k5gcvn8fbr0000gn/T/ipykernel_23964/1484248660.py:5: FutureWarning: suggest_loguniform has been deprecated in v3.0.0. This feature will be removed in v6.0.0. See https://github.com/optuna/optuna/releases/tag/v3.0.0. Use suggest_float(..., log=True) instead.\n",
      "  'C': trial.suggest_loguniform('C', 0.001, 10),\n",
      "/Users/tgumpp/opt/anaconda3/lib/python3.9/site-packages/sklearn/linear_model/_sag.py:352: ConvergenceWarning: The max_iter was reached which means the coef_ did not converge\n",
      "  warnings.warn(\n",
      "/Users/tgumpp/opt/anaconda3/lib/python3.9/site-packages/sklearn/linear_model/_sag.py:352: ConvergenceWarning: The max_iter was reached which means the coef_ did not converge\n",
      "  warnings.warn(\n",
      "/Users/tgumpp/opt/anaconda3/lib/python3.9/site-packages/sklearn/linear_model/_sag.py:352: ConvergenceWarning: The max_iter was reached which means the coef_ did not converge\n",
      "  warnings.warn(\n",
      "/Users/tgumpp/opt/anaconda3/lib/python3.9/site-packages/sklearn/linear_model/_sag.py:352: ConvergenceWarning: The max_iter was reached which means the coef_ did not converge\n",
      "  warnings.warn(\n",
      "/Users/tgumpp/opt/anaconda3/lib/python3.9/site-packages/sklearn/linear_model/_sag.py:352: ConvergenceWarning: The max_iter was reached which means the coef_ did not converge\n",
      "  warnings.warn(\n",
      "[I 2024-04-30 14:23:33,358] Trial 4 finished with value: 0.5187074829931974 and parameters: {'penalty': 'l2', 'C': 0.001097057711857255, 'solver': 'saga'}. Best is trial 2 with value: 0.9006802721088436.\n",
      "/var/folders/n_/mj2qn5sd20lb04k5gcvn8fbr0000gn/T/ipykernel_23964/1484248660.py:5: FutureWarning: suggest_loguniform has been deprecated in v3.0.0. This feature will be removed in v6.0.0. See https://github.com/optuna/optuna/releases/tag/v3.0.0. Use suggest_float(..., log=True) instead.\n",
      "  'C': trial.suggest_loguniform('C', 0.001, 10),\n",
      "[I 2024-04-30 14:23:33,366] Trial 5 finished with value: 0.5187074829931974 and parameters: {'penalty': 'l2', 'C': 0.001477675585168624, 'solver': 'liblinear'}. Best is trial 2 with value: 0.9006802721088436.\n",
      "/var/folders/n_/mj2qn5sd20lb04k5gcvn8fbr0000gn/T/ipykernel_23964/1484248660.py:5: FutureWarning: suggest_loguniform has been deprecated in v3.0.0. This feature will be removed in v6.0.0. See https://github.com/optuna/optuna/releases/tag/v3.0.0. Use suggest_float(..., log=True) instead.\n",
      "  'C': trial.suggest_loguniform('C', 0.001, 10),\n",
      "[I 2024-04-30 14:23:33,374] Trial 6 finished with value: 0.5020408163265306 and parameters: {'penalty': 'l1', 'C': 0.0011540701052467658, 'solver': 'saga'}. Best is trial 2 with value: 0.9006802721088436.\n",
      "/var/folders/n_/mj2qn5sd20lb04k5gcvn8fbr0000gn/T/ipykernel_23964/1484248660.py:5: FutureWarning: suggest_loguniform has been deprecated in v3.0.0. This feature will be removed in v6.0.0. See https://github.com/optuna/optuna/releases/tag/v3.0.0. Use suggest_float(..., log=True) instead.\n",
      "  'C': trial.suggest_loguniform('C', 0.001, 10),\n",
      "/Users/tgumpp/opt/anaconda3/lib/python3.9/site-packages/sklearn/linear_model/_sag.py:352: ConvergenceWarning: The max_iter was reached which means the coef_ did not converge\n",
      "  warnings.warn(\n",
      "/Users/tgumpp/opt/anaconda3/lib/python3.9/site-packages/sklearn/linear_model/_sag.py:352: ConvergenceWarning: The max_iter was reached which means the coef_ did not converge\n",
      "  warnings.warn(\n",
      "/Users/tgumpp/opt/anaconda3/lib/python3.9/site-packages/sklearn/linear_model/_sag.py:352: ConvergenceWarning: The max_iter was reached which means the coef_ did not converge\n",
      "  warnings.warn(\n",
      "/Users/tgumpp/opt/anaconda3/lib/python3.9/site-packages/sklearn/linear_model/_sag.py:352: ConvergenceWarning: The max_iter was reached which means the coef_ did not converge\n",
      "  warnings.warn(\n",
      "/Users/tgumpp/opt/anaconda3/lib/python3.9/site-packages/sklearn/linear_model/_sag.py:352: ConvergenceWarning: The max_iter was reached which means the coef_ did not converge\n",
      "  warnings.warn(\n",
      "[I 2024-04-30 14:23:33,415] Trial 7 finished with value: 0.8467687074829933 and parameters: {'penalty': 'l1', 'C': 1.5959756479022589, 'solver': 'saga'}. Best is trial 2 with value: 0.9006802721088436.\n",
      "/var/folders/n_/mj2qn5sd20lb04k5gcvn8fbr0000gn/T/ipykernel_23964/1484248660.py:5: FutureWarning: suggest_loguniform has been deprecated in v3.0.0. This feature will be removed in v6.0.0. See https://github.com/optuna/optuna/releases/tag/v3.0.0. Use suggest_float(..., log=True) instead.\n",
      "  'C': trial.suggest_loguniform('C', 0.001, 10),\n",
      "/Users/tgumpp/opt/anaconda3/lib/python3.9/site-packages/sklearn/linear_model/_sag.py:352: ConvergenceWarning: The max_iter was reached which means the coef_ did not converge\n",
      "  warnings.warn(\n",
      "/Users/tgumpp/opt/anaconda3/lib/python3.9/site-packages/sklearn/linear_model/_sag.py:352: ConvergenceWarning: The max_iter was reached which means the coef_ did not converge\n",
      "  warnings.warn(\n",
      "/Users/tgumpp/opt/anaconda3/lib/python3.9/site-packages/sklearn/linear_model/_sag.py:352: ConvergenceWarning: The max_iter was reached which means the coef_ did not converge\n",
      "  warnings.warn(\n",
      "/Users/tgumpp/opt/anaconda3/lib/python3.9/site-packages/sklearn/linear_model/_sag.py:352: ConvergenceWarning: The max_iter was reached which means the coef_ did not converge\n",
      "  warnings.warn(\n",
      "/Users/tgumpp/opt/anaconda3/lib/python3.9/site-packages/sklearn/linear_model/_sag.py:352: ConvergenceWarning: The max_iter was reached which means the coef_ did not converge\n",
      "  warnings.warn(\n",
      "[I 2024-04-30 14:23:33,451] Trial 8 finished with value: 0.7928571428571429 and parameters: {'penalty': 'l1', 'C': 0.7394452747460115, 'solver': 'saga'}. Best is trial 2 with value: 0.9006802721088436.\n",
      "/var/folders/n_/mj2qn5sd20lb04k5gcvn8fbr0000gn/T/ipykernel_23964/1484248660.py:5: FutureWarning: suggest_loguniform has been deprecated in v3.0.0. This feature will be removed in v6.0.0. See https://github.com/optuna/optuna/releases/tag/v3.0.0. Use suggest_float(..., log=True) instead.\n",
      "  'C': trial.suggest_loguniform('C', 0.001, 10),\n",
      "[I 2024-04-30 14:23:33,458] Trial 9 finished with value: 0.8135204081632652 and parameters: {'penalty': 'l2', 'C': 0.09893688905544755, 'solver': 'liblinear'}. Best is trial 2 with value: 0.9006802721088436.\n",
      "/var/folders/n_/mj2qn5sd20lb04k5gcvn8fbr0000gn/T/ipykernel_23964/1484248660.py:5: FutureWarning: suggest_loguniform has been deprecated in v3.0.0. This feature will be removed in v6.0.0. See https://github.com/optuna/optuna/releases/tag/v3.0.0. Use suggest_float(..., log=True) instead.\n",
      "  'C': trial.suggest_loguniform('C', 0.001, 10),\n",
      "[I 2024-04-30 14:23:33,482] Trial 10 finished with value: 0.7678571428571428 and parameters: {'penalty': 'l2', 'C': 0.06561531628964055, 'solver': 'liblinear'}. Best is trial 2 with value: 0.9006802721088436.\n",
      "/var/folders/n_/mj2qn5sd20lb04k5gcvn8fbr0000gn/T/ipykernel_23964/1484248660.py:5: FutureWarning: suggest_loguniform has been deprecated in v3.0.0. This feature will be removed in v6.0.0. See https://github.com/optuna/optuna/releases/tag/v3.0.0. Use suggest_float(..., log=True) instead.\n",
      "  'C': trial.suggest_loguniform('C', 0.001, 10),\n",
      "[I 2024-04-30 14:23:33,498] Trial 11 finished with value: 0.875765306122449 and parameters: {'penalty': 'l1', 'C': 6.593535088502431, 'solver': 'liblinear'}. Best is trial 2 with value: 0.9006802721088436.\n",
      "/var/folders/n_/mj2qn5sd20lb04k5gcvn8fbr0000gn/T/ipykernel_23964/1484248660.py:5: FutureWarning: suggest_loguniform has been deprecated in v3.0.0. This feature will be removed in v6.0.0. See https://github.com/optuna/optuna/releases/tag/v3.0.0. Use suggest_float(..., log=True) instead.\n",
      "  'C': trial.suggest_loguniform('C', 0.001, 10),\n",
      "[I 2024-04-30 14:23:33,513] Trial 12 finished with value: 0.8798469387755101 and parameters: {'penalty': 'l1', 'C': 7.6107289247381065, 'solver': 'liblinear'}. Best is trial 2 with value: 0.9006802721088436.\n",
      "/var/folders/n_/mj2qn5sd20lb04k5gcvn8fbr0000gn/T/ipykernel_23964/1484248660.py:5: FutureWarning: suggest_loguniform has been deprecated in v3.0.0. This feature will be removed in v6.0.0. See https://github.com/optuna/optuna/releases/tag/v3.0.0. Use suggest_float(..., log=True) instead.\n",
      "  'C': trial.suggest_loguniform('C', 0.001, 10),\n",
      "/Users/tgumpp/opt/anaconda3/lib/python3.9/site-packages/sklearn/linear_model/_sag.py:352: ConvergenceWarning: The max_iter was reached which means the coef_ did not converge\n",
      "  warnings.warn(\n",
      "/Users/tgumpp/opt/anaconda3/lib/python3.9/site-packages/sklearn/linear_model/_sag.py:352: ConvergenceWarning: The max_iter was reached which means the coef_ did not converge\n",
      "  warnings.warn(\n",
      "/Users/tgumpp/opt/anaconda3/lib/python3.9/site-packages/sklearn/linear_model/_sag.py:352: ConvergenceWarning: The max_iter was reached which means the coef_ did not converge\n",
      "  warnings.warn(\n",
      "/Users/tgumpp/opt/anaconda3/lib/python3.9/site-packages/sklearn/linear_model/_sag.py:352: ConvergenceWarning: The max_iter was reached which means the coef_ did not converge\n",
      "  warnings.warn(\n",
      "/Users/tgumpp/opt/anaconda3/lib/python3.9/site-packages/sklearn/linear_model/_sag.py:352: ConvergenceWarning: The max_iter was reached which means the coef_ did not converge\n",
      "  warnings.warn(\n",
      "[I 2024-04-30 14:23:33,551] Trial 13 finished with value: 0.9006802721088436 and parameters: {'penalty': 'l2', 'C': 3.132916064203857, 'solver': 'saga'}. Best is trial 2 with value: 0.9006802721088436.\n",
      "/var/folders/n_/mj2qn5sd20lb04k5gcvn8fbr0000gn/T/ipykernel_23964/1484248660.py:5: FutureWarning: suggest_loguniform has been deprecated in v3.0.0. This feature will be removed in v6.0.0. See https://github.com/optuna/optuna/releases/tag/v3.0.0. Use suggest_float(..., log=True) instead.\n",
      "  'C': trial.suggest_loguniform('C', 0.001, 10),\n",
      "/Users/tgumpp/opt/anaconda3/lib/python3.9/site-packages/sklearn/linear_model/_sag.py:352: ConvergenceWarning: The max_iter was reached which means the coef_ did not converge\n",
      "  warnings.warn(\n",
      "/Users/tgumpp/opt/anaconda3/lib/python3.9/site-packages/sklearn/linear_model/_sag.py:352: ConvergenceWarning: The max_iter was reached which means the coef_ did not converge\n",
      "  warnings.warn(\n",
      "/Users/tgumpp/opt/anaconda3/lib/python3.9/site-packages/sklearn/linear_model/_sag.py:352: ConvergenceWarning: The max_iter was reached which means the coef_ did not converge\n",
      "  warnings.warn(\n",
      "/Users/tgumpp/opt/anaconda3/lib/python3.9/site-packages/sklearn/linear_model/_sag.py:352: ConvergenceWarning: The max_iter was reached which means the coef_ did not converge\n",
      "  warnings.warn(\n",
      "/Users/tgumpp/opt/anaconda3/lib/python3.9/site-packages/sklearn/linear_model/_sag.py:352: ConvergenceWarning: The max_iter was reached which means the coef_ did not converge\n",
      "  warnings.warn(\n",
      "[I 2024-04-30 14:23:33,583] Trial 14 finished with value: 0.9006802721088436 and parameters: {'penalty': 'l2', 'C': 1.84593231181125, 'solver': 'saga'}. Best is trial 2 with value: 0.9006802721088436.\n",
      "/var/folders/n_/mj2qn5sd20lb04k5gcvn8fbr0000gn/T/ipykernel_23964/1484248660.py:5: FutureWarning: suggest_loguniform has been deprecated in v3.0.0. This feature will be removed in v6.0.0. See https://github.com/optuna/optuna/releases/tag/v3.0.0. Use suggest_float(..., log=True) instead.\n",
      "  'C': trial.suggest_loguniform('C', 0.001, 10),\n",
      "[I 2024-04-30 14:23:33,595] Trial 15 finished with value: 0.8550170068027212 and parameters: {'penalty': 'l2', 'C': 0.35048816762317386, 'solver': 'liblinear'}. Best is trial 2 with value: 0.9006802721088436.\n",
      "/var/folders/n_/mj2qn5sd20lb04k5gcvn8fbr0000gn/T/ipykernel_23964/1484248660.py:5: FutureWarning: suggest_loguniform has been deprecated in v3.0.0. This feature will be removed in v6.0.0. See https://github.com/optuna/optuna/releases/tag/v3.0.0. Use suggest_float(..., log=True) instead.\n",
      "  'C': trial.suggest_loguniform('C', 0.001, 10),\n",
      "[I 2024-04-30 14:23:33,607] Trial 16 finished with value: 0.6890306122448979 and parameters: {'penalty': 'l2', 'C': 0.03024887305516764, 'solver': 'liblinear'}. Best is trial 2 with value: 0.9006802721088436.\n",
      "/var/folders/n_/mj2qn5sd20lb04k5gcvn8fbr0000gn/T/ipykernel_23964/1484248660.py:5: FutureWarning: suggest_loguniform has been deprecated in v3.0.0. This feature will be removed in v6.0.0. See https://github.com/optuna/optuna/releases/tag/v3.0.0. Use suggest_float(..., log=True) instead.\n",
      "  'C': trial.suggest_loguniform('C', 0.001, 10),\n",
      "/Users/tgumpp/opt/anaconda3/lib/python3.9/site-packages/sklearn/linear_model/_sag.py:352: ConvergenceWarning: The max_iter was reached which means the coef_ did not converge\n",
      "  warnings.warn(\n",
      "/Users/tgumpp/opt/anaconda3/lib/python3.9/site-packages/sklearn/linear_model/_sag.py:352: ConvergenceWarning: The max_iter was reached which means the coef_ did not converge\n",
      "  warnings.warn(\n",
      "/Users/tgumpp/opt/anaconda3/lib/python3.9/site-packages/sklearn/linear_model/_sag.py:352: ConvergenceWarning: The max_iter was reached which means the coef_ did not converge\n",
      "  warnings.warn(\n",
      "/Users/tgumpp/opt/anaconda3/lib/python3.9/site-packages/sklearn/linear_model/_sag.py:352: ConvergenceWarning: The max_iter was reached which means the coef_ did not converge\n",
      "  warnings.warn(\n",
      "/Users/tgumpp/opt/anaconda3/lib/python3.9/site-packages/sklearn/linear_model/_sag.py:352: ConvergenceWarning: The max_iter was reached which means the coef_ did not converge\n",
      "  warnings.warn(\n",
      "[I 2024-04-30 14:23:33,642] Trial 17 finished with value: 0.9006802721088436 and parameters: {'penalty': 'l2', 'C': 2.370649633854576, 'solver': 'saga'}. Best is trial 2 with value: 0.9006802721088436.\n",
      "/var/folders/n_/mj2qn5sd20lb04k5gcvn8fbr0000gn/T/ipykernel_23964/1484248660.py:5: FutureWarning: suggest_loguniform has been deprecated in v3.0.0. This feature will be removed in v6.0.0. See https://github.com/optuna/optuna/releases/tag/v3.0.0. Use suggest_float(..., log=True) instead.\n",
      "  'C': trial.suggest_loguniform('C', 0.001, 10),\n",
      "[I 2024-04-30 14:23:33,655] Trial 18 finished with value: 0.8508503401360544 and parameters: {'penalty': 'l2', 'C': 0.23536494381094078, 'solver': 'liblinear'}. Best is trial 2 with value: 0.9006802721088436.\n",
      "/var/folders/n_/mj2qn5sd20lb04k5gcvn8fbr0000gn/T/ipykernel_23964/1484248660.py:5: FutureWarning: suggest_loguniform has been deprecated in v3.0.0. This feature will be removed in v6.0.0. See https://github.com/optuna/optuna/releases/tag/v3.0.0. Use suggest_float(..., log=True) instead.\n",
      "  'C': trial.suggest_loguniform('C', 0.001, 10),\n",
      "/Users/tgumpp/opt/anaconda3/lib/python3.9/site-packages/sklearn/linear_model/_sag.py:352: ConvergenceWarning: The max_iter was reached which means the coef_ did not converge\n",
      "  warnings.warn(\n",
      "/Users/tgumpp/opt/anaconda3/lib/python3.9/site-packages/sklearn/linear_model/_sag.py:352: ConvergenceWarning: The max_iter was reached which means the coef_ did not converge\n",
      "  warnings.warn(\n",
      "/Users/tgumpp/opt/anaconda3/lib/python3.9/site-packages/sklearn/linear_model/_sag.py:352: ConvergenceWarning: The max_iter was reached which means the coef_ did not converge\n",
      "  warnings.warn(\n",
      "/Users/tgumpp/opt/anaconda3/lib/python3.9/site-packages/sklearn/linear_model/_sag.py:352: ConvergenceWarning: The max_iter was reached which means the coef_ did not converge\n",
      "  warnings.warn(\n",
      "/Users/tgumpp/opt/anaconda3/lib/python3.9/site-packages/sklearn/linear_model/_sag.py:352: ConvergenceWarning: The max_iter was reached which means the coef_ did not converge\n",
      "  warnings.warn(\n",
      "[I 2024-04-30 14:23:33,687] Trial 19 finished with value: 0.9006802721088436 and parameters: {'penalty': 'l2', 'C': 3.1051006216881234, 'solver': 'saga'}. Best is trial 2 with value: 0.9006802721088436.\n",
      "/var/folders/n_/mj2qn5sd20lb04k5gcvn8fbr0000gn/T/ipykernel_23964/1484248660.py:5: FutureWarning: suggest_loguniform has been deprecated in v3.0.0. This feature will be removed in v6.0.0. See https://github.com/optuna/optuna/releases/tag/v3.0.0. Use suggest_float(..., log=True) instead.\n",
      "  'C': trial.suggest_loguniform('C', 0.001, 10),\n",
      "[I 2024-04-30 14:23:33,700] Trial 20 finished with value: 0.6598639455782312 and parameters: {'penalty': 'l2', 'C': 0.023171809688346718, 'solver': 'liblinear'}. Best is trial 2 with value: 0.9006802721088436.\n",
      "/var/folders/n_/mj2qn5sd20lb04k5gcvn8fbr0000gn/T/ipykernel_23964/1484248660.py:5: FutureWarning: suggest_loguniform has been deprecated in v3.0.0. This feature will be removed in v6.0.0. See https://github.com/optuna/optuna/releases/tag/v3.0.0. Use suggest_float(..., log=True) instead.\n",
      "  'C': trial.suggest_loguniform('C', 0.001, 10),\n",
      "/Users/tgumpp/opt/anaconda3/lib/python3.9/site-packages/sklearn/linear_model/_sag.py:352: ConvergenceWarning: The max_iter was reached which means the coef_ did not converge\n",
      "  warnings.warn(\n",
      "/Users/tgumpp/opt/anaconda3/lib/python3.9/site-packages/sklearn/linear_model/_sag.py:352: ConvergenceWarning: The max_iter was reached which means the coef_ did not converge\n",
      "  warnings.warn(\n",
      "/Users/tgumpp/opt/anaconda3/lib/python3.9/site-packages/sklearn/linear_model/_sag.py:352: ConvergenceWarning: The max_iter was reached which means the coef_ did not converge\n",
      "  warnings.warn(\n",
      "/Users/tgumpp/opt/anaconda3/lib/python3.9/site-packages/sklearn/linear_model/_sag.py:352: ConvergenceWarning: The max_iter was reached which means the coef_ did not converge\n",
      "  warnings.warn(\n",
      "/Users/tgumpp/opt/anaconda3/lib/python3.9/site-packages/sklearn/linear_model/_sag.py:352: ConvergenceWarning: The max_iter was reached which means the coef_ did not converge\n",
      "  warnings.warn(\n",
      "[I 2024-04-30 14:23:33,731] Trial 21 finished with value: 0.9006802721088436 and parameters: {'penalty': 'l2', 'C': 1.1122237007590352, 'solver': 'saga'}. Best is trial 2 with value: 0.9006802721088436.\n",
      "/var/folders/n_/mj2qn5sd20lb04k5gcvn8fbr0000gn/T/ipykernel_23964/1484248660.py:5: FutureWarning: suggest_loguniform has been deprecated in v3.0.0. This feature will be removed in v6.0.0. See https://github.com/optuna/optuna/releases/tag/v3.0.0. Use suggest_float(..., log=True) instead.\n",
      "  'C': trial.suggest_loguniform('C', 0.001, 10),\n",
      "/Users/tgumpp/opt/anaconda3/lib/python3.9/site-packages/sklearn/linear_model/_sag.py:352: ConvergenceWarning: The max_iter was reached which means the coef_ did not converge\n",
      "  warnings.warn(\n",
      "/Users/tgumpp/opt/anaconda3/lib/python3.9/site-packages/sklearn/linear_model/_sag.py:352: ConvergenceWarning: The max_iter was reached which means the coef_ did not converge\n",
      "  warnings.warn(\n",
      "/Users/tgumpp/opt/anaconda3/lib/python3.9/site-packages/sklearn/linear_model/_sag.py:352: ConvergenceWarning: The max_iter was reached which means the coef_ did not converge\n",
      "  warnings.warn(\n",
      "/Users/tgumpp/opt/anaconda3/lib/python3.9/site-packages/sklearn/linear_model/_sag.py:352: ConvergenceWarning: The max_iter was reached which means the coef_ did not converge\n",
      "  warnings.warn(\n",
      "/Users/tgumpp/opt/anaconda3/lib/python3.9/site-packages/sklearn/linear_model/_sag.py:352: ConvergenceWarning: The max_iter was reached which means the coef_ did not converge\n",
      "  warnings.warn(\n",
      "[I 2024-04-30 14:23:33,764] Trial 22 finished with value: 0.9006802721088436 and parameters: {'penalty': 'l2', 'C': 3.241368331749486, 'solver': 'saga'}. Best is trial 2 with value: 0.9006802721088436.\n",
      "/var/folders/n_/mj2qn5sd20lb04k5gcvn8fbr0000gn/T/ipykernel_23964/1484248660.py:5: FutureWarning: suggest_loguniform has been deprecated in v3.0.0. This feature will be removed in v6.0.0. See https://github.com/optuna/optuna/releases/tag/v3.0.0. Use suggest_float(..., log=True) instead.\n",
      "  'C': trial.suggest_loguniform('C', 0.001, 10),\n",
      "/Users/tgumpp/opt/anaconda3/lib/python3.9/site-packages/sklearn/linear_model/_sag.py:352: ConvergenceWarning: The max_iter was reached which means the coef_ did not converge\n",
      "  warnings.warn(\n",
      "/Users/tgumpp/opt/anaconda3/lib/python3.9/site-packages/sklearn/linear_model/_sag.py:352: ConvergenceWarning: The max_iter was reached which means the coef_ did not converge\n",
      "  warnings.warn(\n",
      "/Users/tgumpp/opt/anaconda3/lib/python3.9/site-packages/sklearn/linear_model/_sag.py:352: ConvergenceWarning: The max_iter was reached which means the coef_ did not converge\n",
      "  warnings.warn(\n",
      "/Users/tgumpp/opt/anaconda3/lib/python3.9/site-packages/sklearn/linear_model/_sag.py:352: ConvergenceWarning: The max_iter was reached which means the coef_ did not converge\n",
      "  warnings.warn(\n",
      "/Users/tgumpp/opt/anaconda3/lib/python3.9/site-packages/sklearn/linear_model/_sag.py:352: ConvergenceWarning: The max_iter was reached which means the coef_ did not converge\n",
      "  warnings.warn(\n",
      "[I 2024-04-30 14:23:33,803] Trial 23 finished with value: 0.9047619047619048 and parameters: {'penalty': 'l2', 'C': 8.970046082806062, 'solver': 'saga'}. Best is trial 23 with value: 0.9047619047619048.\n",
      "/var/folders/n_/mj2qn5sd20lb04k5gcvn8fbr0000gn/T/ipykernel_23964/1484248660.py:5: FutureWarning: suggest_loguniform has been deprecated in v3.0.0. This feature will be removed in v6.0.0. See https://github.com/optuna/optuna/releases/tag/v3.0.0. Use suggest_float(..., log=True) instead.\n",
      "  'C': trial.suggest_loguniform('C', 0.001, 10),\n",
      "/Users/tgumpp/opt/anaconda3/lib/python3.9/site-packages/sklearn/linear_model/_sag.py:352: ConvergenceWarning: The max_iter was reached which means the coef_ did not converge\n",
      "  warnings.warn(\n",
      "/Users/tgumpp/opt/anaconda3/lib/python3.9/site-packages/sklearn/linear_model/_sag.py:352: ConvergenceWarning: The max_iter was reached which means the coef_ did not converge\n",
      "  warnings.warn(\n",
      "/Users/tgumpp/opt/anaconda3/lib/python3.9/site-packages/sklearn/linear_model/_sag.py:352: ConvergenceWarning: The max_iter was reached which means the coef_ did not converge\n",
      "  warnings.warn(\n",
      "/Users/tgumpp/opt/anaconda3/lib/python3.9/site-packages/sklearn/linear_model/_sag.py:352: ConvergenceWarning: The max_iter was reached which means the coef_ did not converge\n",
      "  warnings.warn(\n",
      "/Users/tgumpp/opt/anaconda3/lib/python3.9/site-packages/sklearn/linear_model/_sag.py:352: ConvergenceWarning: The max_iter was reached which means the coef_ did not converge\n",
      "  warnings.warn(\n",
      "[I 2024-04-30 14:23:33,842] Trial 24 finished with value: 0.9047619047619048 and parameters: {'penalty': 'l2', 'C': 9.212367270482849, 'solver': 'saga'}. Best is trial 23 with value: 0.9047619047619048.\n",
      "/var/folders/n_/mj2qn5sd20lb04k5gcvn8fbr0000gn/T/ipykernel_23964/1484248660.py:5: FutureWarning: suggest_loguniform has been deprecated in v3.0.0. This feature will be removed in v6.0.0. See https://github.com/optuna/optuna/releases/tag/v3.0.0. Use suggest_float(..., log=True) instead.\n",
      "  'C': trial.suggest_loguniform('C', 0.001, 10),\n",
      "/Users/tgumpp/opt/anaconda3/lib/python3.9/site-packages/sklearn/linear_model/_sag.py:352: ConvergenceWarning: The max_iter was reached which means the coef_ did not converge\n",
      "  warnings.warn(\n",
      "/Users/tgumpp/opt/anaconda3/lib/python3.9/site-packages/sklearn/linear_model/_sag.py:352: ConvergenceWarning: The max_iter was reached which means the coef_ did not converge\n",
      "  warnings.warn(\n",
      "/Users/tgumpp/opt/anaconda3/lib/python3.9/site-packages/sklearn/linear_model/_sag.py:352: ConvergenceWarning: The max_iter was reached which means the coef_ did not converge\n",
      "  warnings.warn(\n",
      "/Users/tgumpp/opt/anaconda3/lib/python3.9/site-packages/sklearn/linear_model/_sag.py:352: ConvergenceWarning: The max_iter was reached which means the coef_ did not converge\n",
      "  warnings.warn(\n",
      "/Users/tgumpp/opt/anaconda3/lib/python3.9/site-packages/sklearn/linear_model/_sag.py:352: ConvergenceWarning: The max_iter was reached which means the coef_ did not converge\n",
      "  warnings.warn(\n",
      "[I 2024-04-30 14:23:33,878] Trial 25 finished with value: 0.9005952380952381 and parameters: {'penalty': 'l2', 'C': 6.710041534604255, 'solver': 'saga'}. Best is trial 23 with value: 0.9047619047619048.\n",
      "/var/folders/n_/mj2qn5sd20lb04k5gcvn8fbr0000gn/T/ipykernel_23964/1484248660.py:5: FutureWarning: suggest_loguniform has been deprecated in v3.0.0. This feature will be removed in v6.0.0. See https://github.com/optuna/optuna/releases/tag/v3.0.0. Use suggest_float(..., log=True) instead.\n",
      "  'C': trial.suggest_loguniform('C', 0.001, 10),\n",
      "/Users/tgumpp/opt/anaconda3/lib/python3.9/site-packages/sklearn/linear_model/_sag.py:352: ConvergenceWarning: The max_iter was reached which means the coef_ did not converge\n",
      "  warnings.warn(\n",
      "/Users/tgumpp/opt/anaconda3/lib/python3.9/site-packages/sklearn/linear_model/_sag.py:352: ConvergenceWarning: The max_iter was reached which means the coef_ did not converge\n",
      "  warnings.warn(\n",
      "/Users/tgumpp/opt/anaconda3/lib/python3.9/site-packages/sklearn/linear_model/_sag.py:352: ConvergenceWarning: The max_iter was reached which means the coef_ did not converge\n",
      "  warnings.warn(\n",
      "/Users/tgumpp/opt/anaconda3/lib/python3.9/site-packages/sklearn/linear_model/_sag.py:352: ConvergenceWarning: The max_iter was reached which means the coef_ did not converge\n",
      "  warnings.warn(\n",
      "/Users/tgumpp/opt/anaconda3/lib/python3.9/site-packages/sklearn/linear_model/_sag.py:352: ConvergenceWarning: The max_iter was reached which means the coef_ did not converge\n",
      "  warnings.warn(\n",
      "[I 2024-04-30 14:23:33,914] Trial 26 finished with value: 0.9005952380952381 and parameters: {'penalty': 'l2', 'C': 8.47102029907149, 'solver': 'saga'}. Best is trial 23 with value: 0.9047619047619048.\n",
      "/var/folders/n_/mj2qn5sd20lb04k5gcvn8fbr0000gn/T/ipykernel_23964/1484248660.py:5: FutureWarning: suggest_loguniform has been deprecated in v3.0.0. This feature will be removed in v6.0.0. See https://github.com/optuna/optuna/releases/tag/v3.0.0. Use suggest_float(..., log=True) instead.\n",
      "  'C': trial.suggest_loguniform('C', 0.001, 10),\n",
      "/Users/tgumpp/opt/anaconda3/lib/python3.9/site-packages/sklearn/linear_model/_sag.py:352: ConvergenceWarning: The max_iter was reached which means the coef_ did not converge\n",
      "  warnings.warn(\n",
      "/Users/tgumpp/opt/anaconda3/lib/python3.9/site-packages/sklearn/linear_model/_sag.py:352: ConvergenceWarning: The max_iter was reached which means the coef_ did not converge\n",
      "  warnings.warn(\n",
      "/Users/tgumpp/opt/anaconda3/lib/python3.9/site-packages/sklearn/linear_model/_sag.py:352: ConvergenceWarning: The max_iter was reached which means the coef_ did not converge\n",
      "  warnings.warn(\n",
      "/Users/tgumpp/opt/anaconda3/lib/python3.9/site-packages/sklearn/linear_model/_sag.py:352: ConvergenceWarning: The max_iter was reached which means the coef_ did not converge\n",
      "  warnings.warn(\n",
      "/Users/tgumpp/opt/anaconda3/lib/python3.9/site-packages/sklearn/linear_model/_sag.py:352: ConvergenceWarning: The max_iter was reached which means the coef_ did not converge\n",
      "  warnings.warn(\n",
      "[I 2024-04-30 14:23:33,949] Trial 27 finished with value: 0.9005952380952381 and parameters: {'penalty': 'l2', 'C': 0.8803203179692665, 'solver': 'saga'}. Best is trial 23 with value: 0.9047619047619048.\n",
      "/var/folders/n_/mj2qn5sd20lb04k5gcvn8fbr0000gn/T/ipykernel_23964/1484248660.py:5: FutureWarning: suggest_loguniform has been deprecated in v3.0.0. This feature will be removed in v6.0.0. See https://github.com/optuna/optuna/releases/tag/v3.0.0. Use suggest_float(..., log=True) instead.\n",
      "  'C': trial.suggest_loguniform('C', 0.001, 10),\n",
      "[I 2024-04-30 14:23:33,962] Trial 28 finished with value: 0.8466836734693878 and parameters: {'penalty': 'l2', 'C': 0.2184596267362318, 'solver': 'liblinear'}. Best is trial 23 with value: 0.9047619047619048.\n",
      "/var/folders/n_/mj2qn5sd20lb04k5gcvn8fbr0000gn/T/ipykernel_23964/1484248660.py:5: FutureWarning: suggest_loguniform has been deprecated in v3.0.0. This feature will be removed in v6.0.0. See https://github.com/optuna/optuna/releases/tag/v3.0.0. Use suggest_float(..., log=True) instead.\n",
      "  'C': trial.suggest_loguniform('C', 0.001, 10),\n",
      "/Users/tgumpp/opt/anaconda3/lib/python3.9/site-packages/sklearn/linear_model/_sag.py:352: ConvergenceWarning: The max_iter was reached which means the coef_ did not converge\n",
      "  warnings.warn(\n",
      "/Users/tgumpp/opt/anaconda3/lib/python3.9/site-packages/sklearn/linear_model/_sag.py:352: ConvergenceWarning: The max_iter was reached which means the coef_ did not converge\n",
      "  warnings.warn(\n",
      "/Users/tgumpp/opt/anaconda3/lib/python3.9/site-packages/sklearn/linear_model/_sag.py:352: ConvergenceWarning: The max_iter was reached which means the coef_ did not converge\n",
      "  warnings.warn(\n",
      "/Users/tgumpp/opt/anaconda3/lib/python3.9/site-packages/sklearn/linear_model/_sag.py:352: ConvergenceWarning: The max_iter was reached which means the coef_ did not converge\n",
      "  warnings.warn(\n",
      "/Users/tgumpp/opt/anaconda3/lib/python3.9/site-packages/sklearn/linear_model/_sag.py:352: ConvergenceWarning: The max_iter was reached which means the coef_ did not converge\n",
      "  warnings.warn(\n",
      "[I 2024-04-30 14:23:33,997] Trial 29 finished with value: 0.9047619047619048 and parameters: {'penalty': 'l2', 'C': 3.8751756130441786, 'solver': 'saga'}. Best is trial 23 with value: 0.9047619047619048.\n",
      "/var/folders/n_/mj2qn5sd20lb04k5gcvn8fbr0000gn/T/ipykernel_23964/1484248660.py:5: FutureWarning: suggest_loguniform has been deprecated in v3.0.0. This feature will be removed in v6.0.0. See https://github.com/optuna/optuna/releases/tag/v3.0.0. Use suggest_float(..., log=True) instead.\n",
      "  'C': trial.suggest_loguniform('C', 0.001, 10),\n",
      "/Users/tgumpp/opt/anaconda3/lib/python3.9/site-packages/sklearn/linear_model/_sag.py:352: ConvergenceWarning: The max_iter was reached which means the coef_ did not converge\n",
      "  warnings.warn(\n",
      "/Users/tgumpp/opt/anaconda3/lib/python3.9/site-packages/sklearn/linear_model/_sag.py:352: ConvergenceWarning: The max_iter was reached which means the coef_ did not converge\n",
      "  warnings.warn(\n",
      "/Users/tgumpp/opt/anaconda3/lib/python3.9/site-packages/sklearn/linear_model/_sag.py:352: ConvergenceWarning: The max_iter was reached which means the coef_ did not converge\n",
      "  warnings.warn(\n",
      "/Users/tgumpp/opt/anaconda3/lib/python3.9/site-packages/sklearn/linear_model/_sag.py:352: ConvergenceWarning: The max_iter was reached which means the coef_ did not converge\n",
      "  warnings.warn(\n",
      "/Users/tgumpp/opt/anaconda3/lib/python3.9/site-packages/sklearn/linear_model/_sag.py:352: ConvergenceWarning: The max_iter was reached which means the coef_ did not converge\n",
      "  warnings.warn(\n",
      "[I 2024-04-30 14:23:34,031] Trial 30 finished with value: 0.9005952380952381 and parameters: {'penalty': 'l2', 'C': 5.152234908596011, 'solver': 'saga'}. Best is trial 23 with value: 0.9047619047619048.\n",
      "/var/folders/n_/mj2qn5sd20lb04k5gcvn8fbr0000gn/T/ipykernel_23964/1484248660.py:5: FutureWarning: suggest_loguniform has been deprecated in v3.0.0. This feature will be removed in v6.0.0. See https://github.com/optuna/optuna/releases/tag/v3.0.0. Use suggest_float(..., log=True) instead.\n",
      "  'C': trial.suggest_loguniform('C', 0.001, 10),\n",
      "/Users/tgumpp/opt/anaconda3/lib/python3.9/site-packages/sklearn/linear_model/_sag.py:352: ConvergenceWarning: The max_iter was reached which means the coef_ did not converge\n",
      "  warnings.warn(\n",
      "/Users/tgumpp/opt/anaconda3/lib/python3.9/site-packages/sklearn/linear_model/_sag.py:352: ConvergenceWarning: The max_iter was reached which means the coef_ did not converge\n",
      "  warnings.warn(\n",
      "/Users/tgumpp/opt/anaconda3/lib/python3.9/site-packages/sklearn/linear_model/_sag.py:352: ConvergenceWarning: The max_iter was reached which means the coef_ did not converge\n",
      "  warnings.warn(\n",
      "/Users/tgumpp/opt/anaconda3/lib/python3.9/site-packages/sklearn/linear_model/_sag.py:352: ConvergenceWarning: The max_iter was reached which means the coef_ did not converge\n",
      "  warnings.warn(\n",
      "/Users/tgumpp/opt/anaconda3/lib/python3.9/site-packages/sklearn/linear_model/_sag.py:352: ConvergenceWarning: The max_iter was reached which means the coef_ did not converge\n",
      "  warnings.warn(\n",
      "[I 2024-04-30 14:23:34,068] Trial 31 finished with value: 0.9089285714285715 and parameters: {'penalty': 'l2', 'C': 4.321318105419841, 'solver': 'saga'}. Best is trial 31 with value: 0.9089285714285715.\n",
      "/var/folders/n_/mj2qn5sd20lb04k5gcvn8fbr0000gn/T/ipykernel_23964/1484248660.py:5: FutureWarning: suggest_loguniform has been deprecated in v3.0.0. This feature will be removed in v6.0.0. See https://github.com/optuna/optuna/releases/tag/v3.0.0. Use suggest_float(..., log=True) instead.\n",
      "  'C': trial.suggest_loguniform('C', 0.001, 10),\n",
      "/Users/tgumpp/opt/anaconda3/lib/python3.9/site-packages/sklearn/linear_model/_sag.py:352: ConvergenceWarning: The max_iter was reached which means the coef_ did not converge\n",
      "  warnings.warn(\n",
      "/Users/tgumpp/opt/anaconda3/lib/python3.9/site-packages/sklearn/linear_model/_sag.py:352: ConvergenceWarning: The max_iter was reached which means the coef_ did not converge\n",
      "  warnings.warn(\n",
      "/Users/tgumpp/opt/anaconda3/lib/python3.9/site-packages/sklearn/linear_model/_sag.py:352: ConvergenceWarning: The max_iter was reached which means the coef_ did not converge\n",
      "  warnings.warn(\n",
      "/Users/tgumpp/opt/anaconda3/lib/python3.9/site-packages/sklearn/linear_model/_sag.py:352: ConvergenceWarning: The max_iter was reached which means the coef_ did not converge\n",
      "  warnings.warn(\n",
      "/Users/tgumpp/opt/anaconda3/lib/python3.9/site-packages/sklearn/linear_model/_sag.py:352: ConvergenceWarning: The max_iter was reached which means the coef_ did not converge\n",
      "  warnings.warn(\n",
      "[I 2024-04-30 14:23:34,107] Trial 32 finished with value: 0.9047619047619048 and parameters: {'penalty': 'l2', 'C': 9.581215741196806, 'solver': 'saga'}. Best is trial 31 with value: 0.9089285714285715.\n",
      "/var/folders/n_/mj2qn5sd20lb04k5gcvn8fbr0000gn/T/ipykernel_23964/1484248660.py:5: FutureWarning: suggest_loguniform has been deprecated in v3.0.0. This feature will be removed in v6.0.0. See https://github.com/optuna/optuna/releases/tag/v3.0.0. Use suggest_float(..., log=True) instead.\n",
      "  'C': trial.suggest_loguniform('C', 0.001, 10),\n",
      "/Users/tgumpp/opt/anaconda3/lib/python3.9/site-packages/sklearn/linear_model/_sag.py:352: ConvergenceWarning: The max_iter was reached which means the coef_ did not converge\n",
      "  warnings.warn(\n",
      "/Users/tgumpp/opt/anaconda3/lib/python3.9/site-packages/sklearn/linear_model/_sag.py:352: ConvergenceWarning: The max_iter was reached which means the coef_ did not converge\n",
      "  warnings.warn(\n",
      "/Users/tgumpp/opt/anaconda3/lib/python3.9/site-packages/sklearn/linear_model/_sag.py:352: ConvergenceWarning: The max_iter was reached which means the coef_ did not converge\n",
      "  warnings.warn(\n",
      "/Users/tgumpp/opt/anaconda3/lib/python3.9/site-packages/sklearn/linear_model/_sag.py:352: ConvergenceWarning: The max_iter was reached which means the coef_ did not converge\n",
      "  warnings.warn(\n",
      "/Users/tgumpp/opt/anaconda3/lib/python3.9/site-packages/sklearn/linear_model/_sag.py:352: ConvergenceWarning: The max_iter was reached which means the coef_ did not converge\n",
      "  warnings.warn(\n",
      "[I 2024-04-30 14:23:34,148] Trial 33 finished with value: 0.9006802721088436 and parameters: {'penalty': 'l2', 'C': 3.997368703113335, 'solver': 'saga'}. Best is trial 31 with value: 0.9089285714285715.\n",
      "/var/folders/n_/mj2qn5sd20lb04k5gcvn8fbr0000gn/T/ipykernel_23964/1484248660.py:5: FutureWarning: suggest_loguniform has been deprecated in v3.0.0. This feature will be removed in v6.0.0. See https://github.com/optuna/optuna/releases/tag/v3.0.0. Use suggest_float(..., log=True) instead.\n",
      "  'C': trial.suggest_loguniform('C', 0.001, 10),\n",
      "/Users/tgumpp/opt/anaconda3/lib/python3.9/site-packages/sklearn/linear_model/_sag.py:352: ConvergenceWarning: The max_iter was reached which means the coef_ did not converge\n",
      "  warnings.warn(\n",
      "/Users/tgumpp/opt/anaconda3/lib/python3.9/site-packages/sklearn/linear_model/_sag.py:352: ConvergenceWarning: The max_iter was reached which means the coef_ did not converge\n",
      "  warnings.warn(\n",
      "/Users/tgumpp/opt/anaconda3/lib/python3.9/site-packages/sklearn/linear_model/_sag.py:352: ConvergenceWarning: The max_iter was reached which means the coef_ did not converge\n",
      "  warnings.warn(\n",
      "/Users/tgumpp/opt/anaconda3/lib/python3.9/site-packages/sklearn/linear_model/_sag.py:352: ConvergenceWarning: The max_iter was reached which means the coef_ did not converge\n",
      "  warnings.warn(\n",
      "/Users/tgumpp/opt/anaconda3/lib/python3.9/site-packages/sklearn/linear_model/_sag.py:352: ConvergenceWarning: The max_iter was reached which means the coef_ did not converge\n",
      "  warnings.warn(\n",
      "[I 2024-04-30 14:23:34,186] Trial 34 finished with value: 0.9006802721088436 and parameters: {'penalty': 'l2', 'C': 1.675096126832083, 'solver': 'saga'}. Best is trial 31 with value: 0.9089285714285715.\n",
      "/var/folders/n_/mj2qn5sd20lb04k5gcvn8fbr0000gn/T/ipykernel_23964/1484248660.py:5: FutureWarning: suggest_loguniform has been deprecated in v3.0.0. This feature will be removed in v6.0.0. See https://github.com/optuna/optuna/releases/tag/v3.0.0. Use suggest_float(..., log=True) instead.\n",
      "  'C': trial.suggest_loguniform('C', 0.001, 10),\n",
      "/Users/tgumpp/opt/anaconda3/lib/python3.9/site-packages/sklearn/linear_model/_sag.py:352: ConvergenceWarning: The max_iter was reached which means the coef_ did not converge\n",
      "  warnings.warn(\n",
      "/Users/tgumpp/opt/anaconda3/lib/python3.9/site-packages/sklearn/linear_model/_sag.py:352: ConvergenceWarning: The max_iter was reached which means the coef_ did not converge\n",
      "  warnings.warn(\n",
      "/Users/tgumpp/opt/anaconda3/lib/python3.9/site-packages/sklearn/linear_model/_sag.py:352: ConvergenceWarning: The max_iter was reached which means the coef_ did not converge\n",
      "  warnings.warn(\n",
      "/Users/tgumpp/opt/anaconda3/lib/python3.9/site-packages/sklearn/linear_model/_sag.py:352: ConvergenceWarning: The max_iter was reached which means the coef_ did not converge\n",
      "  warnings.warn(\n",
      "/Users/tgumpp/opt/anaconda3/lib/python3.9/site-packages/sklearn/linear_model/_sag.py:352: ConvergenceWarning: The max_iter was reached which means the coef_ did not converge\n",
      "  warnings.warn(\n",
      "[I 2024-04-30 14:23:34,222] Trial 35 finished with value: 0.9047619047619048 and parameters: {'penalty': 'l2', 'C': 4.489538553752235, 'solver': 'saga'}. Best is trial 31 with value: 0.9089285714285715.\n",
      "/var/folders/n_/mj2qn5sd20lb04k5gcvn8fbr0000gn/T/ipykernel_23964/1484248660.py:5: FutureWarning: suggest_loguniform has been deprecated in v3.0.0. This feature will be removed in v6.0.0. See https://github.com/optuna/optuna/releases/tag/v3.0.0. Use suggest_float(..., log=True) instead.\n",
      "  'C': trial.suggest_loguniform('C', 0.001, 10),\n",
      "/Users/tgumpp/opt/anaconda3/lib/python3.9/site-packages/sklearn/linear_model/_sag.py:352: ConvergenceWarning: The max_iter was reached which means the coef_ did not converge\n",
      "  warnings.warn(\n",
      "/Users/tgumpp/opt/anaconda3/lib/python3.9/site-packages/sklearn/linear_model/_sag.py:352: ConvergenceWarning: The max_iter was reached which means the coef_ did not converge\n",
      "  warnings.warn(\n",
      "/Users/tgumpp/opt/anaconda3/lib/python3.9/site-packages/sklearn/linear_model/_sag.py:352: ConvergenceWarning: The max_iter was reached which means the coef_ did not converge\n",
      "  warnings.warn(\n",
      "/Users/tgumpp/opt/anaconda3/lib/python3.9/site-packages/sklearn/linear_model/_sag.py:352: ConvergenceWarning: The max_iter was reached which means the coef_ did not converge\n",
      "  warnings.warn(\n",
      "/Users/tgumpp/opt/anaconda3/lib/python3.9/site-packages/sklearn/linear_model/_sag.py:352: ConvergenceWarning: The max_iter was reached which means the coef_ did not converge\n",
      "  warnings.warn(\n",
      "[I 2024-04-30 14:23:34,263] Trial 36 finished with value: 0.7928571428571429 and parameters: {'penalty': 'l1', 'C': 0.6217337176513893, 'solver': 'saga'}. Best is trial 31 with value: 0.9089285714285715.\n",
      "/var/folders/n_/mj2qn5sd20lb04k5gcvn8fbr0000gn/T/ipykernel_23964/1484248660.py:5: FutureWarning: suggest_loguniform has been deprecated in v3.0.0. This feature will be removed in v6.0.0. See https://github.com/optuna/optuna/releases/tag/v3.0.0. Use suggest_float(..., log=True) instead.\n",
      "  'C': trial.suggest_loguniform('C', 0.001, 10),\n",
      "/Users/tgumpp/opt/anaconda3/lib/python3.9/site-packages/sklearn/linear_model/_sag.py:352: ConvergenceWarning: The max_iter was reached which means the coef_ did not converge\n",
      "  warnings.warn(\n",
      "/Users/tgumpp/opt/anaconda3/lib/python3.9/site-packages/sklearn/linear_model/_sag.py:352: ConvergenceWarning: The max_iter was reached which means the coef_ did not converge\n",
      "  warnings.warn(\n",
      "/Users/tgumpp/opt/anaconda3/lib/python3.9/site-packages/sklearn/linear_model/_sag.py:352: ConvergenceWarning: The max_iter was reached which means the coef_ did not converge\n",
      "  warnings.warn(\n",
      "/Users/tgumpp/opt/anaconda3/lib/python3.9/site-packages/sklearn/linear_model/_sag.py:352: ConvergenceWarning: The max_iter was reached which means the coef_ did not converge\n",
      "  warnings.warn(\n",
      "/Users/tgumpp/opt/anaconda3/lib/python3.9/site-packages/sklearn/linear_model/_sag.py:352: ConvergenceWarning: The max_iter was reached which means the coef_ did not converge\n",
      "  warnings.warn(\n",
      "[I 2024-04-30 14:23:34,298] Trial 37 finished with value: 0.9047619047619048 and parameters: {'penalty': 'l2', 'C': 9.807651356818893, 'solver': 'saga'}. Best is trial 31 with value: 0.9089285714285715.\n",
      "/var/folders/n_/mj2qn5sd20lb04k5gcvn8fbr0000gn/T/ipykernel_23964/1484248660.py:5: FutureWarning: suggest_loguniform has been deprecated in v3.0.0. This feature will be removed in v6.0.0. See https://github.com/optuna/optuna/releases/tag/v3.0.0. Use suggest_float(..., log=True) instead.\n",
      "  'C': trial.suggest_loguniform('C', 0.001, 10),\n",
      "/Users/tgumpp/opt/anaconda3/lib/python3.9/site-packages/sklearn/linear_model/_sag.py:352: ConvergenceWarning: The max_iter was reached which means the coef_ did not converge\n",
      "  warnings.warn(\n",
      "/Users/tgumpp/opt/anaconda3/lib/python3.9/site-packages/sklearn/linear_model/_sag.py:352: ConvergenceWarning: The max_iter was reached which means the coef_ did not converge\n",
      "  warnings.warn(\n",
      "/Users/tgumpp/opt/anaconda3/lib/python3.9/site-packages/sklearn/linear_model/_sag.py:352: ConvergenceWarning: The max_iter was reached which means the coef_ did not converge\n",
      "  warnings.warn(\n",
      "/Users/tgumpp/opt/anaconda3/lib/python3.9/site-packages/sklearn/linear_model/_sag.py:352: ConvergenceWarning: The max_iter was reached which means the coef_ did not converge\n",
      "  warnings.warn(\n",
      "/Users/tgumpp/opt/anaconda3/lib/python3.9/site-packages/sklearn/linear_model/_sag.py:352: ConvergenceWarning: The max_iter was reached which means the coef_ did not converge\n",
      "  warnings.warn(\n",
      "[I 2024-04-30 14:23:34,334] Trial 38 finished with value: 0.5187074829931974 and parameters: {'penalty': 'l2', 'C': 0.003283144204249364, 'solver': 'saga'}. Best is trial 31 with value: 0.9089285714285715.\n",
      "/var/folders/n_/mj2qn5sd20lb04k5gcvn8fbr0000gn/T/ipykernel_23964/1484248660.py:5: FutureWarning: suggest_loguniform has been deprecated in v3.0.0. This feature will be removed in v6.0.0. See https://github.com/optuna/optuna/releases/tag/v3.0.0. Use suggest_float(..., log=True) instead.\n",
      "  'C': trial.suggest_loguniform('C', 0.001, 10),\n",
      "/Users/tgumpp/opt/anaconda3/lib/python3.9/site-packages/sklearn/linear_model/_sag.py:352: ConvergenceWarning: The max_iter was reached which means the coef_ did not converge\n",
      "  warnings.warn(\n",
      "/Users/tgumpp/opt/anaconda3/lib/python3.9/site-packages/sklearn/linear_model/_sag.py:352: ConvergenceWarning: The max_iter was reached which means the coef_ did not converge\n",
      "  warnings.warn(\n",
      "/Users/tgumpp/opt/anaconda3/lib/python3.9/site-packages/sklearn/linear_model/_sag.py:352: ConvergenceWarning: The max_iter was reached which means the coef_ did not converge\n",
      "  warnings.warn(\n",
      "/Users/tgumpp/opt/anaconda3/lib/python3.9/site-packages/sklearn/linear_model/_sag.py:352: ConvergenceWarning: The max_iter was reached which means the coef_ did not converge\n",
      "  warnings.warn(\n",
      "/Users/tgumpp/opt/anaconda3/lib/python3.9/site-packages/sklearn/linear_model/_sag.py:352: ConvergenceWarning: The max_iter was reached which means the coef_ did not converge\n",
      "  warnings.warn(\n",
      "[I 2024-04-30 14:23:34,377] Trial 39 finished with value: 0.8259353741496598 and parameters: {'penalty': 'l1', 'C': 1.2829612061902838, 'solver': 'saga'}. Best is trial 31 with value: 0.9089285714285715.\n",
      "/var/folders/n_/mj2qn5sd20lb04k5gcvn8fbr0000gn/T/ipykernel_23964/1484248660.py:5: FutureWarning: suggest_loguniform has been deprecated in v3.0.0. This feature will be removed in v6.0.0. See https://github.com/optuna/optuna/releases/tag/v3.0.0. Use suggest_float(..., log=True) instead.\n",
      "  'C': trial.suggest_loguniform('C', 0.001, 10),\n",
      "/Users/tgumpp/opt/anaconda3/lib/python3.9/site-packages/sklearn/linear_model/_sag.py:352: ConvergenceWarning: The max_iter was reached which means the coef_ did not converge\n",
      "  warnings.warn(\n",
      "/Users/tgumpp/opt/anaconda3/lib/python3.9/site-packages/sklearn/linear_model/_sag.py:352: ConvergenceWarning: The max_iter was reached which means the coef_ did not converge\n",
      "  warnings.warn(\n",
      "/Users/tgumpp/opt/anaconda3/lib/python3.9/site-packages/sklearn/linear_model/_sag.py:352: ConvergenceWarning: The max_iter was reached which means the coef_ did not converge\n",
      "  warnings.warn(\n",
      "/Users/tgumpp/opt/anaconda3/lib/python3.9/site-packages/sklearn/linear_model/_sag.py:352: ConvergenceWarning: The max_iter was reached which means the coef_ did not converge\n",
      "  warnings.warn(\n",
      "/Users/tgumpp/opt/anaconda3/lib/python3.9/site-packages/sklearn/linear_model/_sag.py:352: ConvergenceWarning: The max_iter was reached which means the coef_ did not converge\n",
      "  warnings.warn(\n",
      "[I 2024-04-30 14:23:34,410] Trial 40 finished with value: 0.8715986394557822 and parameters: {'penalty': 'l2', 'C': 0.43483551590587266, 'solver': 'saga'}. Best is trial 31 with value: 0.9089285714285715.\n",
      "/var/folders/n_/mj2qn5sd20lb04k5gcvn8fbr0000gn/T/ipykernel_23964/1484248660.py:5: FutureWarning: suggest_loguniform has been deprecated in v3.0.0. This feature will be removed in v6.0.0. See https://github.com/optuna/optuna/releases/tag/v3.0.0. Use suggest_float(..., log=True) instead.\n",
      "  'C': trial.suggest_loguniform('C', 0.001, 10),\n",
      "/Users/tgumpp/opt/anaconda3/lib/python3.9/site-packages/sklearn/linear_model/_sag.py:352: ConvergenceWarning: The max_iter was reached which means the coef_ did not converge\n",
      "  warnings.warn(\n",
      "/Users/tgumpp/opt/anaconda3/lib/python3.9/site-packages/sklearn/linear_model/_sag.py:352: ConvergenceWarning: The max_iter was reached which means the coef_ did not converge\n",
      "  warnings.warn(\n",
      "/Users/tgumpp/opt/anaconda3/lib/python3.9/site-packages/sklearn/linear_model/_sag.py:352: ConvergenceWarning: The max_iter was reached which means the coef_ did not converge\n",
      "  warnings.warn(\n",
      "/Users/tgumpp/opt/anaconda3/lib/python3.9/site-packages/sklearn/linear_model/_sag.py:352: ConvergenceWarning: The max_iter was reached which means the coef_ did not converge\n",
      "  warnings.warn(\n",
      "/Users/tgumpp/opt/anaconda3/lib/python3.9/site-packages/sklearn/linear_model/_sag.py:352: ConvergenceWarning: The max_iter was reached which means the coef_ did not converge\n",
      "  warnings.warn(\n",
      "[I 2024-04-30 14:23:34,446] Trial 41 finished with value: 0.9047619047619048 and parameters: {'penalty': 'l2', 'C': 9.46047648521111, 'solver': 'saga'}. Best is trial 31 with value: 0.9089285714285715.\n",
      "/var/folders/n_/mj2qn5sd20lb04k5gcvn8fbr0000gn/T/ipykernel_23964/1484248660.py:5: FutureWarning: suggest_loguniform has been deprecated in v3.0.0. This feature will be removed in v6.0.0. See https://github.com/optuna/optuna/releases/tag/v3.0.0. Use suggest_float(..., log=True) instead.\n",
      "  'C': trial.suggest_loguniform('C', 0.001, 10),\n",
      "/Users/tgumpp/opt/anaconda3/lib/python3.9/site-packages/sklearn/linear_model/_sag.py:352: ConvergenceWarning: The max_iter was reached which means the coef_ did not converge\n",
      "  warnings.warn(\n",
      "/Users/tgumpp/opt/anaconda3/lib/python3.9/site-packages/sklearn/linear_model/_sag.py:352: ConvergenceWarning: The max_iter was reached which means the coef_ did not converge\n",
      "  warnings.warn(\n",
      "/Users/tgumpp/opt/anaconda3/lib/python3.9/site-packages/sklearn/linear_model/_sag.py:352: ConvergenceWarning: The max_iter was reached which means the coef_ did not converge\n",
      "  warnings.warn(\n",
      "/Users/tgumpp/opt/anaconda3/lib/python3.9/site-packages/sklearn/linear_model/_sag.py:352: ConvergenceWarning: The max_iter was reached which means the coef_ did not converge\n",
      "  warnings.warn(\n",
      "/Users/tgumpp/opt/anaconda3/lib/python3.9/site-packages/sklearn/linear_model/_sag.py:352: ConvergenceWarning: The max_iter was reached which means the coef_ did not converge\n",
      "  warnings.warn(\n",
      "[I 2024-04-30 14:23:34,481] Trial 42 finished with value: 0.9089285714285715 and parameters: {'penalty': 'l2', 'C': 4.8393285365356, 'solver': 'saga'}. Best is trial 31 with value: 0.9089285714285715.\n",
      "/var/folders/n_/mj2qn5sd20lb04k5gcvn8fbr0000gn/T/ipykernel_23964/1484248660.py:5: FutureWarning: suggest_loguniform has been deprecated in v3.0.0. This feature will be removed in v6.0.0. See https://github.com/optuna/optuna/releases/tag/v3.0.0. Use suggest_float(..., log=True) instead.\n",
      "  'C': trial.suggest_loguniform('C', 0.001, 10),\n",
      "/Users/tgumpp/opt/anaconda3/lib/python3.9/site-packages/sklearn/linear_model/_sag.py:352: ConvergenceWarning: The max_iter was reached which means the coef_ did not converge\n",
      "  warnings.warn(\n",
      "/Users/tgumpp/opt/anaconda3/lib/python3.9/site-packages/sklearn/linear_model/_sag.py:352: ConvergenceWarning: The max_iter was reached which means the coef_ did not converge\n",
      "  warnings.warn(\n",
      "/Users/tgumpp/opt/anaconda3/lib/python3.9/site-packages/sklearn/linear_model/_sag.py:352: ConvergenceWarning: The max_iter was reached which means the coef_ did not converge\n",
      "  warnings.warn(\n",
      "/Users/tgumpp/opt/anaconda3/lib/python3.9/site-packages/sklearn/linear_model/_sag.py:352: ConvergenceWarning: The max_iter was reached which means the coef_ did not converge\n",
      "  warnings.warn(\n",
      "/Users/tgumpp/opt/anaconda3/lib/python3.9/site-packages/sklearn/linear_model/_sag.py:352: ConvergenceWarning: The max_iter was reached which means the coef_ did not converge\n",
      "  warnings.warn(\n",
      "[I 2024-04-30 14:23:34,518] Trial 43 finished with value: 0.9048469387755101 and parameters: {'penalty': 'l2', 'C': 2.161963240274043, 'solver': 'saga'}. Best is trial 31 with value: 0.9089285714285715.\n",
      "/var/folders/n_/mj2qn5sd20lb04k5gcvn8fbr0000gn/T/ipykernel_23964/1484248660.py:5: FutureWarning: suggest_loguniform has been deprecated in v3.0.0. This feature will be removed in v6.0.0. See https://github.com/optuna/optuna/releases/tag/v3.0.0. Use suggest_float(..., log=True) instead.\n",
      "  'C': trial.suggest_loguniform('C', 0.001, 10),\n",
      "/Users/tgumpp/opt/anaconda3/lib/python3.9/site-packages/sklearn/linear_model/_sag.py:352: ConvergenceWarning: The max_iter was reached which means the coef_ did not converge\n",
      "  warnings.warn(\n",
      "/Users/tgumpp/opt/anaconda3/lib/python3.9/site-packages/sklearn/linear_model/_sag.py:352: ConvergenceWarning: The max_iter was reached which means the coef_ did not converge\n",
      "  warnings.warn(\n",
      "/Users/tgumpp/opt/anaconda3/lib/python3.9/site-packages/sklearn/linear_model/_sag.py:352: ConvergenceWarning: The max_iter was reached which means the coef_ did not converge\n",
      "  warnings.warn(\n",
      "/Users/tgumpp/opt/anaconda3/lib/python3.9/site-packages/sklearn/linear_model/_sag.py:352: ConvergenceWarning: The max_iter was reached which means the coef_ did not converge\n",
      "  warnings.warn(\n",
      "/Users/tgumpp/opt/anaconda3/lib/python3.9/site-packages/sklearn/linear_model/_sag.py:352: ConvergenceWarning: The max_iter was reached which means the coef_ did not converge\n",
      "  warnings.warn(\n",
      "[I 2024-04-30 14:23:34,552] Trial 44 finished with value: 0.9006802721088436 and parameters: {'penalty': 'l2', 'C': 2.679442481228972, 'solver': 'saga'}. Best is trial 31 with value: 0.9089285714285715.\n",
      "/var/folders/n_/mj2qn5sd20lb04k5gcvn8fbr0000gn/T/ipykernel_23964/1484248660.py:5: FutureWarning: suggest_loguniform has been deprecated in v3.0.0. This feature will be removed in v6.0.0. See https://github.com/optuna/optuna/releases/tag/v3.0.0. Use suggest_float(..., log=True) instead.\n",
      "  'C': trial.suggest_loguniform('C', 0.001, 10),\n",
      "/Users/tgumpp/opt/anaconda3/lib/python3.9/site-packages/sklearn/linear_model/_sag.py:352: ConvergenceWarning: The max_iter was reached which means the coef_ did not converge\n",
      "  warnings.warn(\n",
      "/Users/tgumpp/opt/anaconda3/lib/python3.9/site-packages/sklearn/linear_model/_sag.py:352: ConvergenceWarning: The max_iter was reached which means the coef_ did not converge\n",
      "  warnings.warn(\n",
      "/Users/tgumpp/opt/anaconda3/lib/python3.9/site-packages/sklearn/linear_model/_sag.py:352: ConvergenceWarning: The max_iter was reached which means the coef_ did not converge\n",
      "  warnings.warn(\n",
      "/Users/tgumpp/opt/anaconda3/lib/python3.9/site-packages/sklearn/linear_model/_sag.py:352: ConvergenceWarning: The max_iter was reached which means the coef_ did not converge\n",
      "  warnings.warn(\n",
      "/Users/tgumpp/opt/anaconda3/lib/python3.9/site-packages/sklearn/linear_model/_sag.py:352: ConvergenceWarning: The max_iter was reached which means the coef_ did not converge\n",
      "  warnings.warn(\n",
      "[I 2024-04-30 14:23:34,585] Trial 45 finished with value: 0.9005952380952381 and parameters: {'penalty': 'l2', 'C': 5.7080204421686025, 'solver': 'saga'}. Best is trial 31 with value: 0.9089285714285715.\n",
      "/var/folders/n_/mj2qn5sd20lb04k5gcvn8fbr0000gn/T/ipykernel_23964/1484248660.py:5: FutureWarning: suggest_loguniform has been deprecated in v3.0.0. This feature will be removed in v6.0.0. See https://github.com/optuna/optuna/releases/tag/v3.0.0. Use suggest_float(..., log=True) instead.\n",
      "  'C': trial.suggest_loguniform('C', 0.001, 10),\n",
      "/Users/tgumpp/opt/anaconda3/lib/python3.9/site-packages/sklearn/linear_model/_sag.py:352: ConvergenceWarning: The max_iter was reached which means the coef_ did not converge\n",
      "  warnings.warn(\n",
      "/Users/tgumpp/opt/anaconda3/lib/python3.9/site-packages/sklearn/linear_model/_sag.py:352: ConvergenceWarning: The max_iter was reached which means the coef_ did not converge\n",
      "  warnings.warn(\n",
      "/Users/tgumpp/opt/anaconda3/lib/python3.9/site-packages/sklearn/linear_model/_sag.py:352: ConvergenceWarning: The max_iter was reached which means the coef_ did not converge\n",
      "  warnings.warn(\n",
      "/Users/tgumpp/opt/anaconda3/lib/python3.9/site-packages/sklearn/linear_model/_sag.py:352: ConvergenceWarning: The max_iter was reached which means the coef_ did not converge\n",
      "  warnings.warn(\n",
      "/Users/tgumpp/opt/anaconda3/lib/python3.9/site-packages/sklearn/linear_model/_sag.py:352: ConvergenceWarning: The max_iter was reached which means the coef_ did not converge\n",
      "  warnings.warn(\n",
      "[I 2024-04-30 14:23:34,637] Trial 46 finished with value: 0.8342687074829932 and parameters: {'penalty': 'l1', 'C': 2.006293793505674, 'solver': 'saga'}. Best is trial 31 with value: 0.9089285714285715.\n",
      "/var/folders/n_/mj2qn5sd20lb04k5gcvn8fbr0000gn/T/ipykernel_23964/1484248660.py:5: FutureWarning: suggest_loguniform has been deprecated in v3.0.0. This feature will be removed in v6.0.0. See https://github.com/optuna/optuna/releases/tag/v3.0.0. Use suggest_float(..., log=True) instead.\n",
      "  'C': trial.suggest_loguniform('C', 0.001, 10),\n",
      "/Users/tgumpp/opt/anaconda3/lib/python3.9/site-packages/sklearn/linear_model/_sag.py:352: ConvergenceWarning: The max_iter was reached which means the coef_ did not converge\n",
      "  warnings.warn(\n",
      "/Users/tgumpp/opt/anaconda3/lib/python3.9/site-packages/sklearn/linear_model/_sag.py:352: ConvergenceWarning: The max_iter was reached which means the coef_ did not converge\n",
      "  warnings.warn(\n",
      "/Users/tgumpp/opt/anaconda3/lib/python3.9/site-packages/sklearn/linear_model/_sag.py:352: ConvergenceWarning: The max_iter was reached which means the coef_ did not converge\n",
      "  warnings.warn(\n",
      "/Users/tgumpp/opt/anaconda3/lib/python3.9/site-packages/sklearn/linear_model/_sag.py:352: ConvergenceWarning: The max_iter was reached which means the coef_ did not converge\n",
      "  warnings.warn(\n",
      "/Users/tgumpp/opt/anaconda3/lib/python3.9/site-packages/sklearn/linear_model/_sag.py:352: ConvergenceWarning: The max_iter was reached which means the coef_ did not converge\n",
      "  warnings.warn(\n",
      "[I 2024-04-30 14:23:34,680] Trial 47 finished with value: 0.9005952380952381 and parameters: {'penalty': 'l2', 'C': 5.695486199119044, 'solver': 'saga'}. Best is trial 31 with value: 0.9089285714285715.\n",
      "/var/folders/n_/mj2qn5sd20lb04k5gcvn8fbr0000gn/T/ipykernel_23964/1484248660.py:5: FutureWarning: suggest_loguniform has been deprecated in v3.0.0. This feature will be removed in v6.0.0. See https://github.com/optuna/optuna/releases/tag/v3.0.0. Use suggest_float(..., log=True) instead.\n",
      "  'C': trial.suggest_loguniform('C', 0.001, 10),\n",
      "/Users/tgumpp/opt/anaconda3/lib/python3.9/site-packages/sklearn/linear_model/_sag.py:352: ConvergenceWarning: The max_iter was reached which means the coef_ did not converge\n",
      "  warnings.warn(\n",
      "/Users/tgumpp/opt/anaconda3/lib/python3.9/site-packages/sklearn/linear_model/_sag.py:352: ConvergenceWarning: The max_iter was reached which means the coef_ did not converge\n",
      "  warnings.warn(\n",
      "/Users/tgumpp/opt/anaconda3/lib/python3.9/site-packages/sklearn/linear_model/_sag.py:352: ConvergenceWarning: The max_iter was reached which means the coef_ did not converge\n",
      "  warnings.warn(\n",
      "/Users/tgumpp/opt/anaconda3/lib/python3.9/site-packages/sklearn/linear_model/_sag.py:352: ConvergenceWarning: The max_iter was reached which means the coef_ did not converge\n",
      "  warnings.warn(\n",
      "/Users/tgumpp/opt/anaconda3/lib/python3.9/site-packages/sklearn/linear_model/_sag.py:352: ConvergenceWarning: The max_iter was reached which means the coef_ did not converge\n",
      "  warnings.warn(\n",
      "[I 2024-04-30 14:23:34,726] Trial 48 finished with value: 0.9006802721088436 and parameters: {'penalty': 'l2', 'C': 1.2690631710545972, 'solver': 'saga'}. Best is trial 31 with value: 0.9089285714285715.\n",
      "/var/folders/n_/mj2qn5sd20lb04k5gcvn8fbr0000gn/T/ipykernel_23964/1484248660.py:5: FutureWarning: suggest_loguniform has been deprecated in v3.0.0. This feature will be removed in v6.0.0. See https://github.com/optuna/optuna/releases/tag/v3.0.0. Use suggest_float(..., log=True) instead.\n",
      "  'C': trial.suggest_loguniform('C', 0.001, 10),\n",
      "/Users/tgumpp/opt/anaconda3/lib/python3.9/site-packages/sklearn/linear_model/_sag.py:352: ConvergenceWarning: The max_iter was reached which means the coef_ did not converge\n",
      "  warnings.warn(\n",
      "/Users/tgumpp/opt/anaconda3/lib/python3.9/site-packages/sklearn/linear_model/_sag.py:352: ConvergenceWarning: The max_iter was reached which means the coef_ did not converge\n",
      "  warnings.warn(\n",
      "/Users/tgumpp/opt/anaconda3/lib/python3.9/site-packages/sklearn/linear_model/_sag.py:352: ConvergenceWarning: The max_iter was reached which means the coef_ did not converge\n",
      "  warnings.warn(\n",
      "/Users/tgumpp/opt/anaconda3/lib/python3.9/site-packages/sklearn/linear_model/_sag.py:352: ConvergenceWarning: The max_iter was reached which means the coef_ did not converge\n",
      "  warnings.warn(\n",
      "/Users/tgumpp/opt/anaconda3/lib/python3.9/site-packages/sklearn/linear_model/_sag.py:352: ConvergenceWarning: The max_iter was reached which means the coef_ did not converge\n",
      "  warnings.warn(\n",
      "[I 2024-04-30 14:23:34,783] Trial 49 finished with value: 0.867517006802721 and parameters: {'penalty': 'l1', 'C': 2.435607388932247, 'solver': 'saga'}. Best is trial 31 with value: 0.9089285714285715.\n",
      "/var/folders/n_/mj2qn5sd20lb04k5gcvn8fbr0000gn/T/ipykernel_23964/1484248660.py:5: FutureWarning: suggest_loguniform has been deprecated in v3.0.0. This feature will be removed in v6.0.0. See https://github.com/optuna/optuna/releases/tag/v3.0.0. Use suggest_float(..., log=True) instead.\n",
      "  'C': trial.suggest_loguniform('C', 0.001, 10),\n",
      "/Users/tgumpp/opt/anaconda3/lib/python3.9/site-packages/sklearn/linear_model/_sag.py:352: ConvergenceWarning: The max_iter was reached which means the coef_ did not converge\n",
      "  warnings.warn(\n",
      "/Users/tgumpp/opt/anaconda3/lib/python3.9/site-packages/sklearn/linear_model/_sag.py:352: ConvergenceWarning: The max_iter was reached which means the coef_ did not converge\n",
      "  warnings.warn(\n",
      "/Users/tgumpp/opt/anaconda3/lib/python3.9/site-packages/sklearn/linear_model/_sag.py:352: ConvergenceWarning: The max_iter was reached which means the coef_ did not converge\n",
      "  warnings.warn(\n",
      "/Users/tgumpp/opt/anaconda3/lib/python3.9/site-packages/sklearn/linear_model/_sag.py:352: ConvergenceWarning: The max_iter was reached which means the coef_ did not converge\n",
      "  warnings.warn(\n",
      "/Users/tgumpp/opt/anaconda3/lib/python3.9/site-packages/sklearn/linear_model/_sag.py:352: ConvergenceWarning: The max_iter was reached which means the coef_ did not converge\n",
      "  warnings.warn(\n",
      "[I 2024-04-30 14:23:34,819] Trial 50 finished with value: 0.9047619047619048 and parameters: {'penalty': 'l2', 'C': 4.202266885103843, 'solver': 'saga'}. Best is trial 31 with value: 0.9089285714285715.\n",
      "/var/folders/n_/mj2qn5sd20lb04k5gcvn8fbr0000gn/T/ipykernel_23964/1484248660.py:5: FutureWarning: suggest_loguniform has been deprecated in v3.0.0. This feature will be removed in v6.0.0. See https://github.com/optuna/optuna/releases/tag/v3.0.0. Use suggest_float(..., log=True) instead.\n",
      "  'C': trial.suggest_loguniform('C', 0.001, 10),\n",
      "/Users/tgumpp/opt/anaconda3/lib/python3.9/site-packages/sklearn/linear_model/_sag.py:352: ConvergenceWarning: The max_iter was reached which means the coef_ did not converge\n",
      "  warnings.warn(\n",
      "/Users/tgumpp/opt/anaconda3/lib/python3.9/site-packages/sklearn/linear_model/_sag.py:352: ConvergenceWarning: The max_iter was reached which means the coef_ did not converge\n",
      "  warnings.warn(\n",
      "/Users/tgumpp/opt/anaconda3/lib/python3.9/site-packages/sklearn/linear_model/_sag.py:352: ConvergenceWarning: The max_iter was reached which means the coef_ did not converge\n",
      "  warnings.warn(\n",
      "/Users/tgumpp/opt/anaconda3/lib/python3.9/site-packages/sklearn/linear_model/_sag.py:352: ConvergenceWarning: The max_iter was reached which means the coef_ did not converge\n",
      "  warnings.warn(\n",
      "/Users/tgumpp/opt/anaconda3/lib/python3.9/site-packages/sklearn/linear_model/_sag.py:352: ConvergenceWarning: The max_iter was reached which means the coef_ did not converge\n",
      "  warnings.warn(\n",
      "[I 2024-04-30 14:23:34,856] Trial 51 finished with value: 0.9047619047619048 and parameters: {'penalty': 'l2', 'C': 3.9774063249296003, 'solver': 'saga'}. Best is trial 31 with value: 0.9089285714285715.\n",
      "/var/folders/n_/mj2qn5sd20lb04k5gcvn8fbr0000gn/T/ipykernel_23964/1484248660.py:5: FutureWarning: suggest_loguniform has been deprecated in v3.0.0. This feature will be removed in v6.0.0. See https://github.com/optuna/optuna/releases/tag/v3.0.0. Use suggest_float(..., log=True) instead.\n",
      "  'C': trial.suggest_loguniform('C', 0.001, 10),\n",
      "/Users/tgumpp/opt/anaconda3/lib/python3.9/site-packages/sklearn/linear_model/_sag.py:352: ConvergenceWarning: The max_iter was reached which means the coef_ did not converge\n",
      "  warnings.warn(\n",
      "/Users/tgumpp/opt/anaconda3/lib/python3.9/site-packages/sklearn/linear_model/_sag.py:352: ConvergenceWarning: The max_iter was reached which means the coef_ did not converge\n",
      "  warnings.warn(\n",
      "/Users/tgumpp/opt/anaconda3/lib/python3.9/site-packages/sklearn/linear_model/_sag.py:352: ConvergenceWarning: The max_iter was reached which means the coef_ did not converge\n",
      "  warnings.warn(\n",
      "/Users/tgumpp/opt/anaconda3/lib/python3.9/site-packages/sklearn/linear_model/_sag.py:352: ConvergenceWarning: The max_iter was reached which means the coef_ did not converge\n",
      "  warnings.warn(\n",
      "/Users/tgumpp/opt/anaconda3/lib/python3.9/site-packages/sklearn/linear_model/_sag.py:352: ConvergenceWarning: The max_iter was reached which means the coef_ did not converge\n",
      "  warnings.warn(\n",
      "[I 2024-04-30 14:23:34,890] Trial 52 finished with value: 0.9047619047619048 and parameters: {'penalty': 'l2', 'C': 6.457085764119676, 'solver': 'saga'}. Best is trial 31 with value: 0.9089285714285715.\n",
      "/var/folders/n_/mj2qn5sd20lb04k5gcvn8fbr0000gn/T/ipykernel_23964/1484248660.py:5: FutureWarning: suggest_loguniform has been deprecated in v3.0.0. This feature will be removed in v6.0.0. See https://github.com/optuna/optuna/releases/tag/v3.0.0. Use suggest_float(..., log=True) instead.\n",
      "  'C': trial.suggest_loguniform('C', 0.001, 10),\n",
      "/Users/tgumpp/opt/anaconda3/lib/python3.9/site-packages/sklearn/linear_model/_sag.py:352: ConvergenceWarning: The max_iter was reached which means the coef_ did not converge\n",
      "  warnings.warn(\n",
      "/Users/tgumpp/opt/anaconda3/lib/python3.9/site-packages/sklearn/linear_model/_sag.py:352: ConvergenceWarning: The max_iter was reached which means the coef_ did not converge\n",
      "  warnings.warn(\n",
      "/Users/tgumpp/opt/anaconda3/lib/python3.9/site-packages/sklearn/linear_model/_sag.py:352: ConvergenceWarning: The max_iter was reached which means the coef_ did not converge\n",
      "  warnings.warn(\n",
      "/Users/tgumpp/opt/anaconda3/lib/python3.9/site-packages/sklearn/linear_model/_sag.py:352: ConvergenceWarning: The max_iter was reached which means the coef_ did not converge\n",
      "  warnings.warn(\n",
      "/Users/tgumpp/opt/anaconda3/lib/python3.9/site-packages/sklearn/linear_model/_sag.py:352: ConvergenceWarning: The max_iter was reached which means the coef_ did not converge\n",
      "  warnings.warn(\n",
      "[I 2024-04-30 14:23:34,926] Trial 53 finished with value: 0.9006802721088436 and parameters: {'penalty': 'l2', 'C': 3.281453927759513, 'solver': 'saga'}. Best is trial 31 with value: 0.9089285714285715.\n",
      "/var/folders/n_/mj2qn5sd20lb04k5gcvn8fbr0000gn/T/ipykernel_23964/1484248660.py:5: FutureWarning: suggest_loguniform has been deprecated in v3.0.0. This feature will be removed in v6.0.0. See https://github.com/optuna/optuna/releases/tag/v3.0.0. Use suggest_float(..., log=True) instead.\n",
      "  'C': trial.suggest_loguniform('C', 0.001, 10),\n",
      "/Users/tgumpp/opt/anaconda3/lib/python3.9/site-packages/sklearn/linear_model/_sag.py:352: ConvergenceWarning: The max_iter was reached which means the coef_ did not converge\n",
      "  warnings.warn(\n",
      "/Users/tgumpp/opt/anaconda3/lib/python3.9/site-packages/sklearn/linear_model/_sag.py:352: ConvergenceWarning: The max_iter was reached which means the coef_ did not converge\n",
      "  warnings.warn(\n",
      "/Users/tgumpp/opt/anaconda3/lib/python3.9/site-packages/sklearn/linear_model/_sag.py:352: ConvergenceWarning: The max_iter was reached which means the coef_ did not converge\n",
      "  warnings.warn(\n",
      "/Users/tgumpp/opt/anaconda3/lib/python3.9/site-packages/sklearn/linear_model/_sag.py:352: ConvergenceWarning: The max_iter was reached which means the coef_ did not converge\n",
      "  warnings.warn(\n",
      "/Users/tgumpp/opt/anaconda3/lib/python3.9/site-packages/sklearn/linear_model/_sag.py:352: ConvergenceWarning: The max_iter was reached which means the coef_ did not converge\n",
      "  warnings.warn(\n",
      "[I 2024-04-30 14:23:34,962] Trial 54 finished with value: 0.5269557823129253 and parameters: {'penalty': 'l2', 'C': 0.012963586299879036, 'solver': 'saga'}. Best is trial 31 with value: 0.9089285714285715.\n",
      "/var/folders/n_/mj2qn5sd20lb04k5gcvn8fbr0000gn/T/ipykernel_23964/1484248660.py:5: FutureWarning: suggest_loguniform has been deprecated in v3.0.0. This feature will be removed in v6.0.0. See https://github.com/optuna/optuna/releases/tag/v3.0.0. Use suggest_float(..., log=True) instead.\n",
      "  'C': trial.suggest_loguniform('C', 0.001, 10),\n",
      "/Users/tgumpp/opt/anaconda3/lib/python3.9/site-packages/sklearn/linear_model/_sag.py:352: ConvergenceWarning: The max_iter was reached which means the coef_ did not converge\n",
      "  warnings.warn(\n",
      "/Users/tgumpp/opt/anaconda3/lib/python3.9/site-packages/sklearn/linear_model/_sag.py:352: ConvergenceWarning: The max_iter was reached which means the coef_ did not converge\n",
      "  warnings.warn(\n",
      "/Users/tgumpp/opt/anaconda3/lib/python3.9/site-packages/sklearn/linear_model/_sag.py:352: ConvergenceWarning: The max_iter was reached which means the coef_ did not converge\n",
      "  warnings.warn(\n",
      "/Users/tgumpp/opt/anaconda3/lib/python3.9/site-packages/sklearn/linear_model/_sag.py:352: ConvergenceWarning: The max_iter was reached which means the coef_ did not converge\n",
      "  warnings.warn(\n",
      "/Users/tgumpp/opt/anaconda3/lib/python3.9/site-packages/sklearn/linear_model/_sag.py:352: ConvergenceWarning: The max_iter was reached which means the coef_ did not converge\n",
      "  warnings.warn(\n",
      "[I 2024-04-30 14:23:34,998] Trial 55 finished with value: 0.9006802721088436 and parameters: {'penalty': 'l2', 'C': 2.074740058028006, 'solver': 'saga'}. Best is trial 31 with value: 0.9089285714285715.\n",
      "/var/folders/n_/mj2qn5sd20lb04k5gcvn8fbr0000gn/T/ipykernel_23964/1484248660.py:5: FutureWarning: suggest_loguniform has been deprecated in v3.0.0. This feature will be removed in v6.0.0. See https://github.com/optuna/optuna/releases/tag/v3.0.0. Use suggest_float(..., log=True) instead.\n",
      "  'C': trial.suggest_loguniform('C', 0.001, 10),\n",
      "/Users/tgumpp/opt/anaconda3/lib/python3.9/site-packages/sklearn/linear_model/_sag.py:352: ConvergenceWarning: The max_iter was reached which means the coef_ did not converge\n",
      "  warnings.warn(\n",
      "/Users/tgumpp/opt/anaconda3/lib/python3.9/site-packages/sklearn/linear_model/_sag.py:352: ConvergenceWarning: The max_iter was reached which means the coef_ did not converge\n",
      "  warnings.warn(\n",
      "/Users/tgumpp/opt/anaconda3/lib/python3.9/site-packages/sklearn/linear_model/_sag.py:352: ConvergenceWarning: The max_iter was reached which means the coef_ did not converge\n",
      "  warnings.warn(\n",
      "/Users/tgumpp/opt/anaconda3/lib/python3.9/site-packages/sklearn/linear_model/_sag.py:352: ConvergenceWarning: The max_iter was reached which means the coef_ did not converge\n",
      "  warnings.warn(\n",
      "/Users/tgumpp/opt/anaconda3/lib/python3.9/site-packages/sklearn/linear_model/_sag.py:352: ConvergenceWarning: The max_iter was reached which means the coef_ did not converge\n",
      "  warnings.warn(\n",
      "[I 2024-04-30 14:23:35,033] Trial 56 finished with value: 0.9005952380952381 and parameters: {'penalty': 'l2', 'C': 6.736923873862657, 'solver': 'saga'}. Best is trial 31 with value: 0.9089285714285715.\n",
      "/var/folders/n_/mj2qn5sd20lb04k5gcvn8fbr0000gn/T/ipykernel_23964/1484248660.py:5: FutureWarning: suggest_loguniform has been deprecated in v3.0.0. This feature will be removed in v6.0.0. See https://github.com/optuna/optuna/releases/tag/v3.0.0. Use suggest_float(..., log=True) instead.\n",
      "  'C': trial.suggest_loguniform('C', 0.001, 10),\n",
      "/Users/tgumpp/opt/anaconda3/lib/python3.9/site-packages/sklearn/linear_model/_sag.py:352: ConvergenceWarning: The max_iter was reached which means the coef_ did not converge\n",
      "  warnings.warn(\n",
      "/Users/tgumpp/opt/anaconda3/lib/python3.9/site-packages/sklearn/linear_model/_sag.py:352: ConvergenceWarning: The max_iter was reached which means the coef_ did not converge\n",
      "  warnings.warn(\n",
      "/Users/tgumpp/opt/anaconda3/lib/python3.9/site-packages/sklearn/linear_model/_sag.py:352: ConvergenceWarning: The max_iter was reached which means the coef_ did not converge\n",
      "  warnings.warn(\n",
      "/Users/tgumpp/opt/anaconda3/lib/python3.9/site-packages/sklearn/linear_model/_sag.py:352: ConvergenceWarning: The max_iter was reached which means the coef_ did not converge\n",
      "  warnings.warn(\n",
      "/Users/tgumpp/opt/anaconda3/lib/python3.9/site-packages/sklearn/linear_model/_sag.py:352: ConvergenceWarning: The max_iter was reached which means the coef_ did not converge\n",
      "  warnings.warn(\n",
      "[I 2024-04-30 14:23:35,069] Trial 57 finished with value: 0.9047619047619048 and parameters: {'penalty': 'l2', 'C': 4.564734082225762, 'solver': 'saga'}. Best is trial 31 with value: 0.9089285714285715.\n",
      "/var/folders/n_/mj2qn5sd20lb04k5gcvn8fbr0000gn/T/ipykernel_23964/1484248660.py:5: FutureWarning: suggest_loguniform has been deprecated in v3.0.0. This feature will be removed in v6.0.0. See https://github.com/optuna/optuna/releases/tag/v3.0.0. Use suggest_float(..., log=True) instead.\n",
      "  'C': trial.suggest_loguniform('C', 0.001, 10),\n",
      "/Users/tgumpp/opt/anaconda3/lib/python3.9/site-packages/sklearn/linear_model/_sag.py:352: ConvergenceWarning: The max_iter was reached which means the coef_ did not converge\n",
      "  warnings.warn(\n",
      "/Users/tgumpp/opt/anaconda3/lib/python3.9/site-packages/sklearn/linear_model/_sag.py:352: ConvergenceWarning: The max_iter was reached which means the coef_ did not converge\n",
      "  warnings.warn(\n",
      "/Users/tgumpp/opt/anaconda3/lib/python3.9/site-packages/sklearn/linear_model/_sag.py:352: ConvergenceWarning: The max_iter was reached which means the coef_ did not converge\n",
      "  warnings.warn(\n",
      "/Users/tgumpp/opt/anaconda3/lib/python3.9/site-packages/sklearn/linear_model/_sag.py:352: ConvergenceWarning: The max_iter was reached which means the coef_ did not converge\n",
      "  warnings.warn(\n",
      "/Users/tgumpp/opt/anaconda3/lib/python3.9/site-packages/sklearn/linear_model/_sag.py:352: ConvergenceWarning: The max_iter was reached which means the coef_ did not converge\n",
      "  warnings.warn(\n",
      "[I 2024-04-30 14:23:35,104] Trial 58 finished with value: 0.9048469387755101 and parameters: {'penalty': 'l2', 'C': 1.6166691838294895, 'solver': 'saga'}. Best is trial 31 with value: 0.9089285714285715.\n",
      "/var/folders/n_/mj2qn5sd20lb04k5gcvn8fbr0000gn/T/ipykernel_23964/1484248660.py:5: FutureWarning: suggest_loguniform has been deprecated in v3.0.0. This feature will be removed in v6.0.0. See https://github.com/optuna/optuna/releases/tag/v3.0.0. Use suggest_float(..., log=True) instead.\n",
      "  'C': trial.suggest_loguniform('C', 0.001, 10),\n",
      "[I 2024-04-30 14:23:35,120] Trial 59 finished with value: 0.8715986394557822 and parameters: {'penalty': 'l2', 'C': 0.8391389540556369, 'solver': 'liblinear'}. Best is trial 31 with value: 0.9089285714285715.\n",
      "/var/folders/n_/mj2qn5sd20lb04k5gcvn8fbr0000gn/T/ipykernel_23964/1484248660.py:5: FutureWarning: suggest_loguniform has been deprecated in v3.0.0. This feature will be removed in v6.0.0. See https://github.com/optuna/optuna/releases/tag/v3.0.0. Use suggest_float(..., log=True) instead.\n",
      "  'C': trial.suggest_loguniform('C', 0.001, 10),\n",
      "[I 2024-04-30 14:23:35,135] Trial 60 finished with value: 0.5187074829931974 and parameters: {'penalty': 'l1', 'C': 0.1506695388509393, 'solver': 'saga'}. Best is trial 31 with value: 0.9089285714285715.\n",
      "/var/folders/n_/mj2qn5sd20lb04k5gcvn8fbr0000gn/T/ipykernel_23964/1484248660.py:5: FutureWarning: suggest_loguniform has been deprecated in v3.0.0. This feature will be removed in v6.0.0. See https://github.com/optuna/optuna/releases/tag/v3.0.0. Use suggest_float(..., log=True) instead.\n",
      "  'C': trial.suggest_loguniform('C', 0.001, 10),\n",
      "/Users/tgumpp/opt/anaconda3/lib/python3.9/site-packages/sklearn/linear_model/_sag.py:352: ConvergenceWarning: The max_iter was reached which means the coef_ did not converge\n",
      "  warnings.warn(\n",
      "/Users/tgumpp/opt/anaconda3/lib/python3.9/site-packages/sklearn/linear_model/_sag.py:352: ConvergenceWarning: The max_iter was reached which means the coef_ did not converge\n",
      "  warnings.warn(\n",
      "/Users/tgumpp/opt/anaconda3/lib/python3.9/site-packages/sklearn/linear_model/_sag.py:352: ConvergenceWarning: The max_iter was reached which means the coef_ did not converge\n",
      "  warnings.warn(\n",
      "/Users/tgumpp/opt/anaconda3/lib/python3.9/site-packages/sklearn/linear_model/_sag.py:352: ConvergenceWarning: The max_iter was reached which means the coef_ did not converge\n",
      "  warnings.warn(\n",
      "/Users/tgumpp/opt/anaconda3/lib/python3.9/site-packages/sklearn/linear_model/_sag.py:352: ConvergenceWarning: The max_iter was reached which means the coef_ did not converge\n",
      "  warnings.warn(\n",
      "[I 2024-04-30 14:23:35,170] Trial 61 finished with value: 0.9006802721088436 and parameters: {'penalty': 'l2', 'C': 3.297563076025224, 'solver': 'saga'}. Best is trial 31 with value: 0.9089285714285715.\n",
      "/var/folders/n_/mj2qn5sd20lb04k5gcvn8fbr0000gn/T/ipykernel_23964/1484248660.py:5: FutureWarning: suggest_loguniform has been deprecated in v3.0.0. This feature will be removed in v6.0.0. See https://github.com/optuna/optuna/releases/tag/v3.0.0. Use suggest_float(..., log=True) instead.\n",
      "  'C': trial.suggest_loguniform('C', 0.001, 10),\n",
      "/Users/tgumpp/opt/anaconda3/lib/python3.9/site-packages/sklearn/linear_model/_sag.py:352: ConvergenceWarning: The max_iter was reached which means the coef_ did not converge\n",
      "  warnings.warn(\n",
      "/Users/tgumpp/opt/anaconda3/lib/python3.9/site-packages/sklearn/linear_model/_sag.py:352: ConvergenceWarning: The max_iter was reached which means the coef_ did not converge\n",
      "  warnings.warn(\n",
      "/Users/tgumpp/opt/anaconda3/lib/python3.9/site-packages/sklearn/linear_model/_sag.py:352: ConvergenceWarning: The max_iter was reached which means the coef_ did not converge\n",
      "  warnings.warn(\n",
      "/Users/tgumpp/opt/anaconda3/lib/python3.9/site-packages/sklearn/linear_model/_sag.py:352: ConvergenceWarning: The max_iter was reached which means the coef_ did not converge\n",
      "  warnings.warn(\n",
      "/Users/tgumpp/opt/anaconda3/lib/python3.9/site-packages/sklearn/linear_model/_sag.py:352: ConvergenceWarning: The max_iter was reached which means the coef_ did not converge\n",
      "  warnings.warn(\n",
      "[I 2024-04-30 14:23:35,206] Trial 62 finished with value: 0.9006802721088436 and parameters: {'penalty': 'l2', 'C': 1.45892629764968, 'solver': 'saga'}. Best is trial 31 with value: 0.9089285714285715.\n",
      "/var/folders/n_/mj2qn5sd20lb04k5gcvn8fbr0000gn/T/ipykernel_23964/1484248660.py:5: FutureWarning: suggest_loguniform has been deprecated in v3.0.0. This feature will be removed in v6.0.0. See https://github.com/optuna/optuna/releases/tag/v3.0.0. Use suggest_float(..., log=True) instead.\n",
      "  'C': trial.suggest_loguniform('C', 0.001, 10),\n",
      "/Users/tgumpp/opt/anaconda3/lib/python3.9/site-packages/sklearn/linear_model/_sag.py:352: ConvergenceWarning: The max_iter was reached which means the coef_ did not converge\n",
      "  warnings.warn(\n",
      "/Users/tgumpp/opt/anaconda3/lib/python3.9/site-packages/sklearn/linear_model/_sag.py:352: ConvergenceWarning: The max_iter was reached which means the coef_ did not converge\n",
      "  warnings.warn(\n",
      "/Users/tgumpp/opt/anaconda3/lib/python3.9/site-packages/sklearn/linear_model/_sag.py:352: ConvergenceWarning: The max_iter was reached which means the coef_ did not converge\n",
      "  warnings.warn(\n",
      "/Users/tgumpp/opt/anaconda3/lib/python3.9/site-packages/sklearn/linear_model/_sag.py:352: ConvergenceWarning: The max_iter was reached which means the coef_ did not converge\n",
      "  warnings.warn(\n",
      "/Users/tgumpp/opt/anaconda3/lib/python3.9/site-packages/sklearn/linear_model/_sag.py:352: ConvergenceWarning: The max_iter was reached which means the coef_ did not converge\n",
      "  warnings.warn(\n",
      "[I 2024-04-30 14:23:35,240] Trial 63 finished with value: 0.9089285714285715 and parameters: {'penalty': 'l2', 'C': 7.463348316232315, 'solver': 'saga'}. Best is trial 31 with value: 0.9089285714285715.\n",
      "/var/folders/n_/mj2qn5sd20lb04k5gcvn8fbr0000gn/T/ipykernel_23964/1484248660.py:5: FutureWarning: suggest_loguniform has been deprecated in v3.0.0. This feature will be removed in v6.0.0. See https://github.com/optuna/optuna/releases/tag/v3.0.0. Use suggest_float(..., log=True) instead.\n",
      "  'C': trial.suggest_loguniform('C', 0.001, 10),\n",
      "/Users/tgumpp/opt/anaconda3/lib/python3.9/site-packages/sklearn/linear_model/_sag.py:352: ConvergenceWarning: The max_iter was reached which means the coef_ did not converge\n",
      "  warnings.warn(\n",
      "/Users/tgumpp/opt/anaconda3/lib/python3.9/site-packages/sklearn/linear_model/_sag.py:352: ConvergenceWarning: The max_iter was reached which means the coef_ did not converge\n",
      "  warnings.warn(\n",
      "/Users/tgumpp/opt/anaconda3/lib/python3.9/site-packages/sklearn/linear_model/_sag.py:352: ConvergenceWarning: The max_iter was reached which means the coef_ did not converge\n",
      "  warnings.warn(\n",
      "/Users/tgumpp/opt/anaconda3/lib/python3.9/site-packages/sklearn/linear_model/_sag.py:352: ConvergenceWarning: The max_iter was reached which means the coef_ did not converge\n",
      "  warnings.warn(\n",
      "/Users/tgumpp/opt/anaconda3/lib/python3.9/site-packages/sklearn/linear_model/_sag.py:352: ConvergenceWarning: The max_iter was reached which means the coef_ did not converge\n",
      "  warnings.warn(\n",
      "[I 2024-04-30 14:23:35,275] Trial 64 finished with value: 0.9005952380952381 and parameters: {'penalty': 'l2', 'C': 7.761695450951587, 'solver': 'saga'}. Best is trial 31 with value: 0.9089285714285715.\n",
      "/var/folders/n_/mj2qn5sd20lb04k5gcvn8fbr0000gn/T/ipykernel_23964/1484248660.py:5: FutureWarning: suggest_loguniform has been deprecated in v3.0.0. This feature will be removed in v6.0.0. See https://github.com/optuna/optuna/releases/tag/v3.0.0. Use suggest_float(..., log=True) instead.\n",
      "  'C': trial.suggest_loguniform('C', 0.001, 10),\n",
      "/Users/tgumpp/opt/anaconda3/lib/python3.9/site-packages/sklearn/linear_model/_sag.py:352: ConvergenceWarning: The max_iter was reached which means the coef_ did not converge\n",
      "  warnings.warn(\n",
      "/Users/tgumpp/opt/anaconda3/lib/python3.9/site-packages/sklearn/linear_model/_sag.py:352: ConvergenceWarning: The max_iter was reached which means the coef_ did not converge\n",
      "  warnings.warn(\n",
      "/Users/tgumpp/opt/anaconda3/lib/python3.9/site-packages/sklearn/linear_model/_sag.py:352: ConvergenceWarning: The max_iter was reached which means the coef_ did not converge\n",
      "  warnings.warn(\n",
      "/Users/tgumpp/opt/anaconda3/lib/python3.9/site-packages/sklearn/linear_model/_sag.py:352: ConvergenceWarning: The max_iter was reached which means the coef_ did not converge\n",
      "  warnings.warn(\n",
      "/Users/tgumpp/opt/anaconda3/lib/python3.9/site-packages/sklearn/linear_model/_sag.py:352: ConvergenceWarning: The max_iter was reached which means the coef_ did not converge\n",
      "  warnings.warn(\n",
      "[I 2024-04-30 14:23:35,309] Trial 65 finished with value: 0.9006802721088436 and parameters: {'penalty': 'l2', 'C': 2.622251259689051, 'solver': 'saga'}. Best is trial 31 with value: 0.9089285714285715.\n",
      "/var/folders/n_/mj2qn5sd20lb04k5gcvn8fbr0000gn/T/ipykernel_23964/1484248660.py:5: FutureWarning: suggest_loguniform has been deprecated in v3.0.0. This feature will be removed in v6.0.0. See https://github.com/optuna/optuna/releases/tag/v3.0.0. Use suggest_float(..., log=True) instead.\n",
      "  'C': trial.suggest_loguniform('C', 0.001, 10),\n",
      "/Users/tgumpp/opt/anaconda3/lib/python3.9/site-packages/sklearn/linear_model/_sag.py:352: ConvergenceWarning: The max_iter was reached which means the coef_ did not converge\n",
      "  warnings.warn(\n",
      "/Users/tgumpp/opt/anaconda3/lib/python3.9/site-packages/sklearn/linear_model/_sag.py:352: ConvergenceWarning: The max_iter was reached which means the coef_ did not converge\n",
      "  warnings.warn(\n",
      "/Users/tgumpp/opt/anaconda3/lib/python3.9/site-packages/sklearn/linear_model/_sag.py:352: ConvergenceWarning: The max_iter was reached which means the coef_ did not converge\n",
      "  warnings.warn(\n",
      "/Users/tgumpp/opt/anaconda3/lib/python3.9/site-packages/sklearn/linear_model/_sag.py:352: ConvergenceWarning: The max_iter was reached which means the coef_ did not converge\n",
      "  warnings.warn(\n",
      "/Users/tgumpp/opt/anaconda3/lib/python3.9/site-packages/sklearn/linear_model/_sag.py:352: ConvergenceWarning: The max_iter was reached which means the coef_ did not converge\n",
      "  warnings.warn(\n",
      "[I 2024-04-30 14:23:35,342] Trial 66 finished with value: 0.7803571428571429 and parameters: {'penalty': 'l2', 'C': 0.05207703142034676, 'solver': 'saga'}. Best is trial 31 with value: 0.9089285714285715.\n",
      "/var/folders/n_/mj2qn5sd20lb04k5gcvn8fbr0000gn/T/ipykernel_23964/1484248660.py:5: FutureWarning: suggest_loguniform has been deprecated in v3.0.0. This feature will be removed in v6.0.0. See https://github.com/optuna/optuna/releases/tag/v3.0.0. Use suggest_float(..., log=True) instead.\n",
      "  'C': trial.suggest_loguniform('C', 0.001, 10),\n",
      "[I 2024-04-30 14:23:35,358] Trial 67 finished with value: 0.9047619047619048 and parameters: {'penalty': 'l2', 'C': 7.345209191481356, 'solver': 'liblinear'}. Best is trial 31 with value: 0.9089285714285715.\n",
      "/var/folders/n_/mj2qn5sd20lb04k5gcvn8fbr0000gn/T/ipykernel_23964/1484248660.py:5: FutureWarning: suggest_loguniform has been deprecated in v3.0.0. This feature will be removed in v6.0.0. See https://github.com/optuna/optuna/releases/tag/v3.0.0. Use suggest_float(..., log=True) instead.\n",
      "  'C': trial.suggest_loguniform('C', 0.001, 10),\n",
      "/Users/tgumpp/opt/anaconda3/lib/python3.9/site-packages/sklearn/linear_model/_sag.py:352: ConvergenceWarning: The max_iter was reached which means the coef_ did not converge\n",
      "  warnings.warn(\n",
      "/Users/tgumpp/opt/anaconda3/lib/python3.9/site-packages/sklearn/linear_model/_sag.py:352: ConvergenceWarning: The max_iter was reached which means the coef_ did not converge\n",
      "  warnings.warn(\n",
      "/Users/tgumpp/opt/anaconda3/lib/python3.9/site-packages/sklearn/linear_model/_sag.py:352: ConvergenceWarning: The max_iter was reached which means the coef_ did not converge\n",
      "  warnings.warn(\n",
      "/Users/tgumpp/opt/anaconda3/lib/python3.9/site-packages/sklearn/linear_model/_sag.py:352: ConvergenceWarning: The max_iter was reached which means the coef_ did not converge\n",
      "  warnings.warn(\n",
      "/Users/tgumpp/opt/anaconda3/lib/python3.9/site-packages/sklearn/linear_model/_sag.py:352: ConvergenceWarning: The max_iter was reached which means the coef_ did not converge\n",
      "  warnings.warn(\n",
      "[I 2024-04-30 14:23:35,393] Trial 68 finished with value: 0.9005952380952381 and parameters: {'penalty': 'l2', 'C': 5.490930719933861, 'solver': 'saga'}. Best is trial 31 with value: 0.9089285714285715.\n",
      "/var/folders/n_/mj2qn5sd20lb04k5gcvn8fbr0000gn/T/ipykernel_23964/1484248660.py:5: FutureWarning: suggest_loguniform has been deprecated in v3.0.0. This feature will be removed in v6.0.0. See https://github.com/optuna/optuna/releases/tag/v3.0.0. Use suggest_float(..., log=True) instead.\n",
      "  'C': trial.suggest_loguniform('C', 0.001, 10),\n",
      "/Users/tgumpp/opt/anaconda3/lib/python3.9/site-packages/sklearn/linear_model/_sag.py:352: ConvergenceWarning: The max_iter was reached which means the coef_ did not converge\n",
      "  warnings.warn(\n",
      "/Users/tgumpp/opt/anaconda3/lib/python3.9/site-packages/sklearn/linear_model/_sag.py:352: ConvergenceWarning: The max_iter was reached which means the coef_ did not converge\n",
      "  warnings.warn(\n",
      "/Users/tgumpp/opt/anaconda3/lib/python3.9/site-packages/sklearn/linear_model/_sag.py:352: ConvergenceWarning: The max_iter was reached which means the coef_ did not converge\n",
      "  warnings.warn(\n",
      "/Users/tgumpp/opt/anaconda3/lib/python3.9/site-packages/sklearn/linear_model/_sag.py:352: ConvergenceWarning: The max_iter was reached which means the coef_ did not converge\n",
      "  warnings.warn(\n",
      "/Users/tgumpp/opt/anaconda3/lib/python3.9/site-packages/sklearn/linear_model/_sag.py:352: ConvergenceWarning: The max_iter was reached which means the coef_ did not converge\n",
      "  warnings.warn(\n",
      "[I 2024-04-30 14:23:35,427] Trial 69 finished with value: 0.9006802721088436 and parameters: {'penalty': 'l2', 'C': 1.8734461981267296, 'solver': 'saga'}. Best is trial 31 with value: 0.9089285714285715.\n",
      "/var/folders/n_/mj2qn5sd20lb04k5gcvn8fbr0000gn/T/ipykernel_23964/1484248660.py:5: FutureWarning: suggest_loguniform has been deprecated in v3.0.0. This feature will be removed in v6.0.0. See https://github.com/optuna/optuna/releases/tag/v3.0.0. Use suggest_float(..., log=True) instead.\n",
      "  'C': trial.suggest_loguniform('C', 0.001, 10),\n",
      "/Users/tgumpp/opt/anaconda3/lib/python3.9/site-packages/sklearn/linear_model/_sag.py:352: ConvergenceWarning: The max_iter was reached which means the coef_ did not converge\n",
      "  warnings.warn(\n",
      "/Users/tgumpp/opt/anaconda3/lib/python3.9/site-packages/sklearn/linear_model/_sag.py:352: ConvergenceWarning: The max_iter was reached which means the coef_ did not converge\n",
      "  warnings.warn(\n",
      "/Users/tgumpp/opt/anaconda3/lib/python3.9/site-packages/sklearn/linear_model/_sag.py:352: ConvergenceWarning: The max_iter was reached which means the coef_ did not converge\n",
      "  warnings.warn(\n",
      "/Users/tgumpp/opt/anaconda3/lib/python3.9/site-packages/sklearn/linear_model/_sag.py:352: ConvergenceWarning: The max_iter was reached which means the coef_ did not converge\n",
      "  warnings.warn(\n",
      "/Users/tgumpp/opt/anaconda3/lib/python3.9/site-packages/sklearn/linear_model/_sag.py:352: ConvergenceWarning: The max_iter was reached which means the coef_ did not converge\n",
      "  warnings.warn(\n",
      "[I 2024-04-30 14:23:35,461] Trial 70 finished with value: 0.9047619047619048 and parameters: {'penalty': 'l2', 'C': 0.9432837815362043, 'solver': 'saga'}. Best is trial 31 with value: 0.9089285714285715.\n",
      "/var/folders/n_/mj2qn5sd20lb04k5gcvn8fbr0000gn/T/ipykernel_23964/1484248660.py:5: FutureWarning: suggest_loguniform has been deprecated in v3.0.0. This feature will be removed in v6.0.0. See https://github.com/optuna/optuna/releases/tag/v3.0.0. Use suggest_float(..., log=True) instead.\n",
      "  'C': trial.suggest_loguniform('C', 0.001, 10),\n",
      "/Users/tgumpp/opt/anaconda3/lib/python3.9/site-packages/sklearn/linear_model/_sag.py:352: ConvergenceWarning: The max_iter was reached which means the coef_ did not converge\n",
      "  warnings.warn(\n",
      "/Users/tgumpp/opt/anaconda3/lib/python3.9/site-packages/sklearn/linear_model/_sag.py:352: ConvergenceWarning: The max_iter was reached which means the coef_ did not converge\n",
      "  warnings.warn(\n",
      "/Users/tgumpp/opt/anaconda3/lib/python3.9/site-packages/sklearn/linear_model/_sag.py:352: ConvergenceWarning: The max_iter was reached which means the coef_ did not converge\n",
      "  warnings.warn(\n",
      "/Users/tgumpp/opt/anaconda3/lib/python3.9/site-packages/sklearn/linear_model/_sag.py:352: ConvergenceWarning: The max_iter was reached which means the coef_ did not converge\n",
      "  warnings.warn(\n",
      "/Users/tgumpp/opt/anaconda3/lib/python3.9/site-packages/sklearn/linear_model/_sag.py:352: ConvergenceWarning: The max_iter was reached which means the coef_ did not converge\n",
      "  warnings.warn(\n",
      "[I 2024-04-30 14:23:35,496] Trial 71 finished with value: 0.9006802721088436 and parameters: {'penalty': 'l2', 'C': 3.705962964266678, 'solver': 'saga'}. Best is trial 31 with value: 0.9089285714285715.\n",
      "/var/folders/n_/mj2qn5sd20lb04k5gcvn8fbr0000gn/T/ipykernel_23964/1484248660.py:5: FutureWarning: suggest_loguniform has been deprecated in v3.0.0. This feature will be removed in v6.0.0. See https://github.com/optuna/optuna/releases/tag/v3.0.0. Use suggest_float(..., log=True) instead.\n",
      "  'C': trial.suggest_loguniform('C', 0.001, 10),\n",
      "/Users/tgumpp/opt/anaconda3/lib/python3.9/site-packages/sklearn/linear_model/_sag.py:352: ConvergenceWarning: The max_iter was reached which means the coef_ did not converge\n",
      "  warnings.warn(\n",
      "/Users/tgumpp/opt/anaconda3/lib/python3.9/site-packages/sklearn/linear_model/_sag.py:352: ConvergenceWarning: The max_iter was reached which means the coef_ did not converge\n",
      "  warnings.warn(\n",
      "/Users/tgumpp/opt/anaconda3/lib/python3.9/site-packages/sklearn/linear_model/_sag.py:352: ConvergenceWarning: The max_iter was reached which means the coef_ did not converge\n",
      "  warnings.warn(\n",
      "/Users/tgumpp/opt/anaconda3/lib/python3.9/site-packages/sklearn/linear_model/_sag.py:352: ConvergenceWarning: The max_iter was reached which means the coef_ did not converge\n",
      "  warnings.warn(\n",
      "/Users/tgumpp/opt/anaconda3/lib/python3.9/site-packages/sklearn/linear_model/_sag.py:352: ConvergenceWarning: The max_iter was reached which means the coef_ did not converge\n",
      "  warnings.warn(\n",
      "[I 2024-04-30 14:23:35,533] Trial 72 finished with value: 0.9005952380952381 and parameters: {'penalty': 'l2', 'C': 5.107114833458371, 'solver': 'saga'}. Best is trial 31 with value: 0.9089285714285715.\n",
      "/var/folders/n_/mj2qn5sd20lb04k5gcvn8fbr0000gn/T/ipykernel_23964/1484248660.py:5: FutureWarning: suggest_loguniform has been deprecated in v3.0.0. This feature will be removed in v6.0.0. See https://github.com/optuna/optuna/releases/tag/v3.0.0. Use suggest_float(..., log=True) instead.\n",
      "  'C': trial.suggest_loguniform('C', 0.001, 10),\n",
      "/Users/tgumpp/opt/anaconda3/lib/python3.9/site-packages/sklearn/linear_model/_sag.py:352: ConvergenceWarning: The max_iter was reached which means the coef_ did not converge\n",
      "  warnings.warn(\n",
      "/Users/tgumpp/opt/anaconda3/lib/python3.9/site-packages/sklearn/linear_model/_sag.py:352: ConvergenceWarning: The max_iter was reached which means the coef_ did not converge\n",
      "  warnings.warn(\n",
      "/Users/tgumpp/opt/anaconda3/lib/python3.9/site-packages/sklearn/linear_model/_sag.py:352: ConvergenceWarning: The max_iter was reached which means the coef_ did not converge\n",
      "  warnings.warn(\n",
      "/Users/tgumpp/opt/anaconda3/lib/python3.9/site-packages/sklearn/linear_model/_sag.py:352: ConvergenceWarning: The max_iter was reached which means the coef_ did not converge\n",
      "  warnings.warn(\n",
      "/Users/tgumpp/opt/anaconda3/lib/python3.9/site-packages/sklearn/linear_model/_sag.py:352: ConvergenceWarning: The max_iter was reached which means the coef_ did not converge\n",
      "  warnings.warn(\n",
      "[I 2024-04-30 14:23:35,566] Trial 73 finished with value: 0.9047619047619048 and parameters: {'penalty': 'l2', 'C': 9.65113493479308, 'solver': 'saga'}. Best is trial 31 with value: 0.9089285714285715.\n",
      "/var/folders/n_/mj2qn5sd20lb04k5gcvn8fbr0000gn/T/ipykernel_23964/1484248660.py:5: FutureWarning: suggest_loguniform has been deprecated in v3.0.0. This feature will be removed in v6.0.0. See https://github.com/optuna/optuna/releases/tag/v3.0.0. Use suggest_float(..., log=True) instead.\n",
      "  'C': trial.suggest_loguniform('C', 0.001, 10),\n",
      "/Users/tgumpp/opt/anaconda3/lib/python3.9/site-packages/sklearn/linear_model/_sag.py:352: ConvergenceWarning: The max_iter was reached which means the coef_ did not converge\n",
      "  warnings.warn(\n",
      "/Users/tgumpp/opt/anaconda3/lib/python3.9/site-packages/sklearn/linear_model/_sag.py:352: ConvergenceWarning: The max_iter was reached which means the coef_ did not converge\n",
      "  warnings.warn(\n",
      "/Users/tgumpp/opt/anaconda3/lib/python3.9/site-packages/sklearn/linear_model/_sag.py:352: ConvergenceWarning: The max_iter was reached which means the coef_ did not converge\n",
      "  warnings.warn(\n",
      "/Users/tgumpp/opt/anaconda3/lib/python3.9/site-packages/sklearn/linear_model/_sag.py:352: ConvergenceWarning: The max_iter was reached which means the coef_ did not converge\n",
      "  warnings.warn(\n",
      "/Users/tgumpp/opt/anaconda3/lib/python3.9/site-packages/sklearn/linear_model/_sag.py:352: ConvergenceWarning: The max_iter was reached which means the coef_ did not converge\n",
      "  warnings.warn(\n",
      "[I 2024-04-30 14:23:35,605] Trial 74 finished with value: 0.9006802721088436 and parameters: {'penalty': 'l2', 'C': 2.8562265161344276, 'solver': 'saga'}. Best is trial 31 with value: 0.9089285714285715.\n",
      "/var/folders/n_/mj2qn5sd20lb04k5gcvn8fbr0000gn/T/ipykernel_23964/1484248660.py:5: FutureWarning: suggest_loguniform has been deprecated in v3.0.0. This feature will be removed in v6.0.0. See https://github.com/optuna/optuna/releases/tag/v3.0.0. Use suggest_float(..., log=True) instead.\n",
      "  'C': trial.suggest_loguniform('C', 0.001, 10),\n",
      "/Users/tgumpp/opt/anaconda3/lib/python3.9/site-packages/sklearn/linear_model/_sag.py:352: ConvergenceWarning: The max_iter was reached which means the coef_ did not converge\n",
      "  warnings.warn(\n",
      "/Users/tgumpp/opt/anaconda3/lib/python3.9/site-packages/sklearn/linear_model/_sag.py:352: ConvergenceWarning: The max_iter was reached which means the coef_ did not converge\n",
      "  warnings.warn(\n",
      "/Users/tgumpp/opt/anaconda3/lib/python3.9/site-packages/sklearn/linear_model/_sag.py:352: ConvergenceWarning: The max_iter was reached which means the coef_ did not converge\n",
      "  warnings.warn(\n",
      "/Users/tgumpp/opt/anaconda3/lib/python3.9/site-packages/sklearn/linear_model/_sag.py:352: ConvergenceWarning: The max_iter was reached which means the coef_ did not converge\n",
      "  warnings.warn(\n",
      "/Users/tgumpp/opt/anaconda3/lib/python3.9/site-packages/sklearn/linear_model/_sag.py:352: ConvergenceWarning: The max_iter was reached which means the coef_ did not converge\n",
      "  warnings.warn(\n",
      "[I 2024-04-30 14:23:35,643] Trial 75 finished with value: 0.888265306122449 and parameters: {'penalty': 'l2', 'C': 0.6233926403699275, 'solver': 'saga'}. Best is trial 31 with value: 0.9089285714285715.\n",
      "/var/folders/n_/mj2qn5sd20lb04k5gcvn8fbr0000gn/T/ipykernel_23964/1484248660.py:5: FutureWarning: suggest_loguniform has been deprecated in v3.0.0. This feature will be removed in v6.0.0. See https://github.com/optuna/optuna/releases/tag/v3.0.0. Use suggest_float(..., log=True) instead.\n",
      "  'C': trial.suggest_loguniform('C', 0.001, 10),\n",
      "/Users/tgumpp/opt/anaconda3/lib/python3.9/site-packages/sklearn/linear_model/_sag.py:352: ConvergenceWarning: The max_iter was reached which means the coef_ did not converge\n",
      "  warnings.warn(\n",
      "/Users/tgumpp/opt/anaconda3/lib/python3.9/site-packages/sklearn/linear_model/_sag.py:352: ConvergenceWarning: The max_iter was reached which means the coef_ did not converge\n",
      "  warnings.warn(\n",
      "/Users/tgumpp/opt/anaconda3/lib/python3.9/site-packages/sklearn/linear_model/_sag.py:352: ConvergenceWarning: The max_iter was reached which means the coef_ did not converge\n",
      "  warnings.warn(\n",
      "/Users/tgumpp/opt/anaconda3/lib/python3.9/site-packages/sklearn/linear_model/_sag.py:352: ConvergenceWarning: The max_iter was reached which means the coef_ did not converge\n",
      "  warnings.warn(\n",
      "/Users/tgumpp/opt/anaconda3/lib/python3.9/site-packages/sklearn/linear_model/_sag.py:352: ConvergenceWarning: The max_iter was reached which means the coef_ did not converge\n",
      "  warnings.warn(\n",
      "[I 2024-04-30 14:23:35,677] Trial 76 finished with value: 0.9005952380952381 and parameters: {'penalty': 'l2', 'C': 7.5154205402406555, 'solver': 'saga'}. Best is trial 31 with value: 0.9089285714285715.\n",
      "/var/folders/n_/mj2qn5sd20lb04k5gcvn8fbr0000gn/T/ipykernel_23964/1484248660.py:5: FutureWarning: suggest_loguniform has been deprecated in v3.0.0. This feature will be removed in v6.0.0. See https://github.com/optuna/optuna/releases/tag/v3.0.0. Use suggest_float(..., log=True) instead.\n",
      "  'C': trial.suggest_loguniform('C', 0.001, 10),\n",
      "[I 2024-04-30 14:23:35,691] Trial 77 finished with value: 0.9006802721088436 and parameters: {'penalty': 'l2', 'C': 4.4417628224564405, 'solver': 'liblinear'}. Best is trial 31 with value: 0.9089285714285715.\n",
      "/var/folders/n_/mj2qn5sd20lb04k5gcvn8fbr0000gn/T/ipykernel_23964/1484248660.py:5: FutureWarning: suggest_loguniform has been deprecated in v3.0.0. This feature will be removed in v6.0.0. See https://github.com/optuna/optuna/releases/tag/v3.0.0. Use suggest_float(..., log=True) instead.\n",
      "  'C': trial.suggest_loguniform('C', 0.001, 10),\n",
      "/Users/tgumpp/opt/anaconda3/lib/python3.9/site-packages/sklearn/linear_model/_sag.py:352: ConvergenceWarning: The max_iter was reached which means the coef_ did not converge\n",
      "  warnings.warn(\n",
      "/Users/tgumpp/opt/anaconda3/lib/python3.9/site-packages/sklearn/linear_model/_sag.py:352: ConvergenceWarning: The max_iter was reached which means the coef_ did not converge\n",
      "  warnings.warn(\n",
      "/Users/tgumpp/opt/anaconda3/lib/python3.9/site-packages/sklearn/linear_model/_sag.py:352: ConvergenceWarning: The max_iter was reached which means the coef_ did not converge\n",
      "  warnings.warn(\n",
      "/Users/tgumpp/opt/anaconda3/lib/python3.9/site-packages/sklearn/linear_model/_sag.py:352: ConvergenceWarning: The max_iter was reached which means the coef_ did not converge\n",
      "  warnings.warn(\n",
      "/Users/tgumpp/opt/anaconda3/lib/python3.9/site-packages/sklearn/linear_model/_sag.py:352: ConvergenceWarning: The max_iter was reached which means the coef_ did not converge\n",
      "  warnings.warn(\n",
      "[I 2024-04-30 14:23:35,744] Trial 78 finished with value: 0.867517006802721 and parameters: {'penalty': 'l1', 'C': 2.2555192328875027, 'solver': 'saga'}. Best is trial 31 with value: 0.9089285714285715.\n",
      "/var/folders/n_/mj2qn5sd20lb04k5gcvn8fbr0000gn/T/ipykernel_23964/1484248660.py:5: FutureWarning: suggest_loguniform has been deprecated in v3.0.0. This feature will be removed in v6.0.0. See https://github.com/optuna/optuna/releases/tag/v3.0.0. Use suggest_float(..., log=True) instead.\n",
      "  'C': trial.suggest_loguniform('C', 0.001, 10),\n",
      "/Users/tgumpp/opt/anaconda3/lib/python3.9/site-packages/sklearn/linear_model/_sag.py:352: ConvergenceWarning: The max_iter was reached which means the coef_ did not converge\n",
      "  warnings.warn(\n",
      "/Users/tgumpp/opt/anaconda3/lib/python3.9/site-packages/sklearn/linear_model/_sag.py:352: ConvergenceWarning: The max_iter was reached which means the coef_ did not converge\n",
      "  warnings.warn(\n",
      "/Users/tgumpp/opt/anaconda3/lib/python3.9/site-packages/sklearn/linear_model/_sag.py:352: ConvergenceWarning: The max_iter was reached which means the coef_ did not converge\n",
      "  warnings.warn(\n",
      "/Users/tgumpp/opt/anaconda3/lib/python3.9/site-packages/sklearn/linear_model/_sag.py:352: ConvergenceWarning: The max_iter was reached which means the coef_ did not converge\n",
      "  warnings.warn(\n",
      "/Users/tgumpp/opt/anaconda3/lib/python3.9/site-packages/sklearn/linear_model/_sag.py:352: ConvergenceWarning: The max_iter was reached which means the coef_ did not converge\n",
      "  warnings.warn(\n",
      "[I 2024-04-30 14:23:35,778] Trial 79 finished with value: 0.9005952380952381 and parameters: {'penalty': 'l2', 'C': 6.13555357922884, 'solver': 'saga'}. Best is trial 31 with value: 0.9089285714285715.\n",
      "/var/folders/n_/mj2qn5sd20lb04k5gcvn8fbr0000gn/T/ipykernel_23964/1484248660.py:5: FutureWarning: suggest_loguniform has been deprecated in v3.0.0. This feature will be removed in v6.0.0. See https://github.com/optuna/optuna/releases/tag/v3.0.0. Use suggest_float(..., log=True) instead.\n",
      "  'C': trial.suggest_loguniform('C', 0.001, 10),\n",
      "/Users/tgumpp/opt/anaconda3/lib/python3.9/site-packages/sklearn/linear_model/_sag.py:352: ConvergenceWarning: The max_iter was reached which means the coef_ did not converge\n",
      "  warnings.warn(\n",
      "/Users/tgumpp/opt/anaconda3/lib/python3.9/site-packages/sklearn/linear_model/_sag.py:352: ConvergenceWarning: The max_iter was reached which means the coef_ did not converge\n",
      "  warnings.warn(\n",
      "/Users/tgumpp/opt/anaconda3/lib/python3.9/site-packages/sklearn/linear_model/_sag.py:352: ConvergenceWarning: The max_iter was reached which means the coef_ did not converge\n",
      "  warnings.warn(\n",
      "/Users/tgumpp/opt/anaconda3/lib/python3.9/site-packages/sklearn/linear_model/_sag.py:352: ConvergenceWarning: The max_iter was reached which means the coef_ did not converge\n",
      "  warnings.warn(\n",
      "/Users/tgumpp/opt/anaconda3/lib/python3.9/site-packages/sklearn/linear_model/_sag.py:352: ConvergenceWarning: The max_iter was reached which means the coef_ did not converge\n",
      "  warnings.warn(\n",
      "[I 2024-04-30 14:23:35,813] Trial 80 finished with value: 0.9047619047619048 and parameters: {'penalty': 'l2', 'C': 8.125760228417061, 'solver': 'saga'}. Best is trial 31 with value: 0.9089285714285715.\n",
      "/var/folders/n_/mj2qn5sd20lb04k5gcvn8fbr0000gn/T/ipykernel_23964/1484248660.py:5: FutureWarning: suggest_loguniform has been deprecated in v3.0.0. This feature will be removed in v6.0.0. See https://github.com/optuna/optuna/releases/tag/v3.0.0. Use suggest_float(..., log=True) instead.\n",
      "  'C': trial.suggest_loguniform('C', 0.001, 10),\n",
      "/Users/tgumpp/opt/anaconda3/lib/python3.9/site-packages/sklearn/linear_model/_sag.py:352: ConvergenceWarning: The max_iter was reached which means the coef_ did not converge\n",
      "  warnings.warn(\n",
      "/Users/tgumpp/opt/anaconda3/lib/python3.9/site-packages/sklearn/linear_model/_sag.py:352: ConvergenceWarning: The max_iter was reached which means the coef_ did not converge\n",
      "  warnings.warn(\n",
      "/Users/tgumpp/opt/anaconda3/lib/python3.9/site-packages/sklearn/linear_model/_sag.py:352: ConvergenceWarning: The max_iter was reached which means the coef_ did not converge\n",
      "  warnings.warn(\n",
      "/Users/tgumpp/opt/anaconda3/lib/python3.9/site-packages/sklearn/linear_model/_sag.py:352: ConvergenceWarning: The max_iter was reached which means the coef_ did not converge\n",
      "  warnings.warn(\n",
      "/Users/tgumpp/opt/anaconda3/lib/python3.9/site-packages/sklearn/linear_model/_sag.py:352: ConvergenceWarning: The max_iter was reached which means the coef_ did not converge\n",
      "  warnings.warn(\n",
      "[I 2024-04-30 14:23:35,864] Trial 81 finished with value: 0.9047619047619048 and parameters: {'penalty': 'l2', 'C': 8.791209108201947, 'solver': 'saga'}. Best is trial 31 with value: 0.9089285714285715.\n",
      "/var/folders/n_/mj2qn5sd20lb04k5gcvn8fbr0000gn/T/ipykernel_23964/1484248660.py:5: FutureWarning: suggest_loguniform has been deprecated in v3.0.0. This feature will be removed in v6.0.0. See https://github.com/optuna/optuna/releases/tag/v3.0.0. Use suggest_float(..., log=True) instead.\n",
      "  'C': trial.suggest_loguniform('C', 0.001, 10),\n",
      "/Users/tgumpp/opt/anaconda3/lib/python3.9/site-packages/sklearn/linear_model/_sag.py:352: ConvergenceWarning: The max_iter was reached which means the coef_ did not converge\n",
      "  warnings.warn(\n",
      "/Users/tgumpp/opt/anaconda3/lib/python3.9/site-packages/sklearn/linear_model/_sag.py:352: ConvergenceWarning: The max_iter was reached which means the coef_ did not converge\n",
      "  warnings.warn(\n",
      "/Users/tgumpp/opt/anaconda3/lib/python3.9/site-packages/sklearn/linear_model/_sag.py:352: ConvergenceWarning: The max_iter was reached which means the coef_ did not converge\n",
      "  warnings.warn(\n",
      "/Users/tgumpp/opt/anaconda3/lib/python3.9/site-packages/sklearn/linear_model/_sag.py:352: ConvergenceWarning: The max_iter was reached which means the coef_ did not converge\n",
      "  warnings.warn(\n",
      "/Users/tgumpp/opt/anaconda3/lib/python3.9/site-packages/sklearn/linear_model/_sag.py:352: ConvergenceWarning: The max_iter was reached which means the coef_ did not converge\n",
      "  warnings.warn(\n",
      "[I 2024-04-30 14:23:35,902] Trial 82 finished with value: 0.9006802721088436 and parameters: {'penalty': 'l2', 'C': 3.6271898677467935, 'solver': 'saga'}. Best is trial 31 with value: 0.9089285714285715.\n",
      "/var/folders/n_/mj2qn5sd20lb04k5gcvn8fbr0000gn/T/ipykernel_23964/1484248660.py:5: FutureWarning: suggest_loguniform has been deprecated in v3.0.0. This feature will be removed in v6.0.0. See https://github.com/optuna/optuna/releases/tag/v3.0.0. Use suggest_float(..., log=True) instead.\n",
      "  'C': trial.suggest_loguniform('C', 0.001, 10),\n",
      "/Users/tgumpp/opt/anaconda3/lib/python3.9/site-packages/sklearn/linear_model/_sag.py:352: ConvergenceWarning: The max_iter was reached which means the coef_ did not converge\n",
      "  warnings.warn(\n",
      "/Users/tgumpp/opt/anaconda3/lib/python3.9/site-packages/sklearn/linear_model/_sag.py:352: ConvergenceWarning: The max_iter was reached which means the coef_ did not converge\n",
      "  warnings.warn(\n",
      "/Users/tgumpp/opt/anaconda3/lib/python3.9/site-packages/sklearn/linear_model/_sag.py:352: ConvergenceWarning: The max_iter was reached which means the coef_ did not converge\n",
      "  warnings.warn(\n",
      "/Users/tgumpp/opt/anaconda3/lib/python3.9/site-packages/sklearn/linear_model/_sag.py:352: ConvergenceWarning: The max_iter was reached which means the coef_ did not converge\n",
      "  warnings.warn(\n",
      "/Users/tgumpp/opt/anaconda3/lib/python3.9/site-packages/sklearn/linear_model/_sag.py:352: ConvergenceWarning: The max_iter was reached which means the coef_ did not converge\n",
      "  warnings.warn(\n",
      "[I 2024-04-30 14:23:35,935] Trial 83 finished with value: 0.9005952380952381 and parameters: {'penalty': 'l2', 'C': 5.26686400385444, 'solver': 'saga'}. Best is trial 31 with value: 0.9089285714285715.\n",
      "/var/folders/n_/mj2qn5sd20lb04k5gcvn8fbr0000gn/T/ipykernel_23964/1484248660.py:5: FutureWarning: suggest_loguniform has been deprecated in v3.0.0. This feature will be removed in v6.0.0. See https://github.com/optuna/optuna/releases/tag/v3.0.0. Use suggest_float(..., log=True) instead.\n",
      "  'C': trial.suggest_loguniform('C', 0.001, 10),\n",
      "/Users/tgumpp/opt/anaconda3/lib/python3.9/site-packages/sklearn/linear_model/_sag.py:352: ConvergenceWarning: The max_iter was reached which means the coef_ did not converge\n",
      "  warnings.warn(\n",
      "/Users/tgumpp/opt/anaconda3/lib/python3.9/site-packages/sklearn/linear_model/_sag.py:352: ConvergenceWarning: The max_iter was reached which means the coef_ did not converge\n",
      "  warnings.warn(\n",
      "/Users/tgumpp/opt/anaconda3/lib/python3.9/site-packages/sklearn/linear_model/_sag.py:352: ConvergenceWarning: The max_iter was reached which means the coef_ did not converge\n",
      "  warnings.warn(\n",
      "/Users/tgumpp/opt/anaconda3/lib/python3.9/site-packages/sklearn/linear_model/_sag.py:352: ConvergenceWarning: The max_iter was reached which means the coef_ did not converge\n",
      "  warnings.warn(\n",
      "/Users/tgumpp/opt/anaconda3/lib/python3.9/site-packages/sklearn/linear_model/_sag.py:352: ConvergenceWarning: The max_iter was reached which means the coef_ did not converge\n",
      "  warnings.warn(\n",
      "[I 2024-04-30 14:23:35,970] Trial 84 finished with value: 0.9047619047619048 and parameters: {'penalty': 'l2', 'C': 9.815099101725545, 'solver': 'saga'}. Best is trial 31 with value: 0.9089285714285715.\n",
      "/var/folders/n_/mj2qn5sd20lb04k5gcvn8fbr0000gn/T/ipykernel_23964/1484248660.py:5: FutureWarning: suggest_loguniform has been deprecated in v3.0.0. This feature will be removed in v6.0.0. See https://github.com/optuna/optuna/releases/tag/v3.0.0. Use suggest_float(..., log=True) instead.\n",
      "  'C': trial.suggest_loguniform('C', 0.001, 10),\n",
      "/Users/tgumpp/opt/anaconda3/lib/python3.9/site-packages/sklearn/linear_model/_sag.py:352: ConvergenceWarning: The max_iter was reached which means the coef_ did not converge\n",
      "  warnings.warn(\n",
      "/Users/tgumpp/opt/anaconda3/lib/python3.9/site-packages/sklearn/linear_model/_sag.py:352: ConvergenceWarning: The max_iter was reached which means the coef_ did not converge\n",
      "  warnings.warn(\n",
      "/Users/tgumpp/opt/anaconda3/lib/python3.9/site-packages/sklearn/linear_model/_sag.py:352: ConvergenceWarning: The max_iter was reached which means the coef_ did not converge\n",
      "  warnings.warn(\n",
      "/Users/tgumpp/opt/anaconda3/lib/python3.9/site-packages/sklearn/linear_model/_sag.py:352: ConvergenceWarning: The max_iter was reached which means the coef_ did not converge\n",
      "  warnings.warn(\n",
      "/Users/tgumpp/opt/anaconda3/lib/python3.9/site-packages/sklearn/linear_model/_sag.py:352: ConvergenceWarning: The max_iter was reached which means the coef_ did not converge\n",
      "  warnings.warn(\n",
      "[I 2024-04-30 14:23:36,005] Trial 85 finished with value: 0.9048469387755101 and parameters: {'penalty': 'l2', 'C': 1.5007995383440271, 'solver': 'saga'}. Best is trial 31 with value: 0.9089285714285715.\n",
      "/var/folders/n_/mj2qn5sd20lb04k5gcvn8fbr0000gn/T/ipykernel_23964/1484248660.py:5: FutureWarning: suggest_loguniform has been deprecated in v3.0.0. This feature will be removed in v6.0.0. See https://github.com/optuna/optuna/releases/tag/v3.0.0. Use suggest_float(..., log=True) instead.\n",
      "  'C': trial.suggest_loguniform('C', 0.001, 10),\n",
      "/Users/tgumpp/opt/anaconda3/lib/python3.9/site-packages/sklearn/linear_model/_sag.py:352: ConvergenceWarning: The max_iter was reached which means the coef_ did not converge\n",
      "  warnings.warn(\n",
      "/Users/tgumpp/opt/anaconda3/lib/python3.9/site-packages/sklearn/linear_model/_sag.py:352: ConvergenceWarning: The max_iter was reached which means the coef_ did not converge\n",
      "  warnings.warn(\n",
      "/Users/tgumpp/opt/anaconda3/lib/python3.9/site-packages/sklearn/linear_model/_sag.py:352: ConvergenceWarning: The max_iter was reached which means the coef_ did not converge\n",
      "  warnings.warn(\n",
      "/Users/tgumpp/opt/anaconda3/lib/python3.9/site-packages/sklearn/linear_model/_sag.py:352: ConvergenceWarning: The max_iter was reached which means the coef_ did not converge\n",
      "  warnings.warn(\n",
      "/Users/tgumpp/opt/anaconda3/lib/python3.9/site-packages/sklearn/linear_model/_sag.py:352: ConvergenceWarning: The max_iter was reached which means the coef_ did not converge\n",
      "  warnings.warn(\n",
      "[I 2024-04-30 14:23:36,041] Trial 86 finished with value: 0.9048469387755101 and parameters: {'penalty': 'l2', 'C': 1.325899650209685, 'solver': 'saga'}. Best is trial 31 with value: 0.9089285714285715.\n",
      "/var/folders/n_/mj2qn5sd20lb04k5gcvn8fbr0000gn/T/ipykernel_23964/1484248660.py:5: FutureWarning: suggest_loguniform has been deprecated in v3.0.0. This feature will be removed in v6.0.0. See https://github.com/optuna/optuna/releases/tag/v3.0.0. Use suggest_float(..., log=True) instead.\n",
      "  'C': trial.suggest_loguniform('C', 0.001, 10),\n",
      "/Users/tgumpp/opt/anaconda3/lib/python3.9/site-packages/sklearn/linear_model/_sag.py:352: ConvergenceWarning: The max_iter was reached which means the coef_ did not converge\n",
      "  warnings.warn(\n",
      "/Users/tgumpp/opt/anaconda3/lib/python3.9/site-packages/sklearn/linear_model/_sag.py:352: ConvergenceWarning: The max_iter was reached which means the coef_ did not converge\n",
      "  warnings.warn(\n",
      "/Users/tgumpp/opt/anaconda3/lib/python3.9/site-packages/sklearn/linear_model/_sag.py:352: ConvergenceWarning: The max_iter was reached which means the coef_ did not converge\n",
      "  warnings.warn(\n",
      "/Users/tgumpp/opt/anaconda3/lib/python3.9/site-packages/sklearn/linear_model/_sag.py:352: ConvergenceWarning: The max_iter was reached which means the coef_ did not converge\n",
      "  warnings.warn(\n",
      "/Users/tgumpp/opt/anaconda3/lib/python3.9/site-packages/sklearn/linear_model/_sag.py:352: ConvergenceWarning: The max_iter was reached which means the coef_ did not converge\n",
      "  warnings.warn(\n",
      "[I 2024-04-30 14:23:36,078] Trial 87 finished with value: 0.8715986394557822 and parameters: {'penalty': 'l2', 'C': 0.3134848307059449, 'solver': 'saga'}. Best is trial 31 with value: 0.9089285714285715.\n",
      "/var/folders/n_/mj2qn5sd20lb04k5gcvn8fbr0000gn/T/ipykernel_23964/1484248660.py:5: FutureWarning: suggest_loguniform has been deprecated in v3.0.0. This feature will be removed in v6.0.0. See https://github.com/optuna/optuna/releases/tag/v3.0.0. Use suggest_float(..., log=True) instead.\n",
      "  'C': trial.suggest_loguniform('C', 0.001, 10),\n",
      "/Users/tgumpp/opt/anaconda3/lib/python3.9/site-packages/sklearn/linear_model/_sag.py:352: ConvergenceWarning: The max_iter was reached which means the coef_ did not converge\n",
      "  warnings.warn(\n",
      "/Users/tgumpp/opt/anaconda3/lib/python3.9/site-packages/sklearn/linear_model/_sag.py:352: ConvergenceWarning: The max_iter was reached which means the coef_ did not converge\n",
      "  warnings.warn(\n",
      "/Users/tgumpp/opt/anaconda3/lib/python3.9/site-packages/sklearn/linear_model/_sag.py:352: ConvergenceWarning: The max_iter was reached which means the coef_ did not converge\n",
      "  warnings.warn(\n",
      "/Users/tgumpp/opt/anaconda3/lib/python3.9/site-packages/sklearn/linear_model/_sag.py:352: ConvergenceWarning: The max_iter was reached which means the coef_ did not converge\n",
      "  warnings.warn(\n",
      "/Users/tgumpp/opt/anaconda3/lib/python3.9/site-packages/sklearn/linear_model/_sag.py:352: ConvergenceWarning: The max_iter was reached which means the coef_ did not converge\n",
      "  warnings.warn(\n",
      "[I 2024-04-30 14:23:36,116] Trial 88 finished with value: 0.9047619047619048 and parameters: {'penalty': 'l2', 'C': 1.112349862852899, 'solver': 'saga'}. Best is trial 31 with value: 0.9089285714285715.\n",
      "/var/folders/n_/mj2qn5sd20lb04k5gcvn8fbr0000gn/T/ipykernel_23964/1484248660.py:5: FutureWarning: suggest_loguniform has been deprecated in v3.0.0. This feature will be removed in v6.0.0. See https://github.com/optuna/optuna/releases/tag/v3.0.0. Use suggest_float(..., log=True) instead.\n",
      "  'C': trial.suggest_loguniform('C', 0.001, 10),\n",
      "/Users/tgumpp/opt/anaconda3/lib/python3.9/site-packages/sklearn/linear_model/_sag.py:352: ConvergenceWarning: The max_iter was reached which means the coef_ did not converge\n",
      "  warnings.warn(\n",
      "/Users/tgumpp/opt/anaconda3/lib/python3.9/site-packages/sklearn/linear_model/_sag.py:352: ConvergenceWarning: The max_iter was reached which means the coef_ did not converge\n",
      "  warnings.warn(\n",
      "/Users/tgumpp/opt/anaconda3/lib/python3.9/site-packages/sklearn/linear_model/_sag.py:352: ConvergenceWarning: The max_iter was reached which means the coef_ did not converge\n",
      "  warnings.warn(\n",
      "/Users/tgumpp/opt/anaconda3/lib/python3.9/site-packages/sklearn/linear_model/_sag.py:352: ConvergenceWarning: The max_iter was reached which means the coef_ did not converge\n",
      "  warnings.warn(\n",
      "/Users/tgumpp/opt/anaconda3/lib/python3.9/site-packages/sklearn/linear_model/_sag.py:352: ConvergenceWarning: The max_iter was reached which means the coef_ did not converge\n",
      "  warnings.warn(\n",
      "[I 2024-04-30 14:23:36,152] Trial 89 finished with value: 0.9048469387755101 and parameters: {'penalty': 'l2', 'C': 1.4779093907916934, 'solver': 'saga'}. Best is trial 31 with value: 0.9089285714285715.\n",
      "/var/folders/n_/mj2qn5sd20lb04k5gcvn8fbr0000gn/T/ipykernel_23964/1484248660.py:5: FutureWarning: suggest_loguniform has been deprecated in v3.0.0. This feature will be removed in v6.0.0. See https://github.com/optuna/optuna/releases/tag/v3.0.0. Use suggest_float(..., log=True) instead.\n",
      "  'C': trial.suggest_loguniform('C', 0.001, 10),\n",
      "[I 2024-04-30 14:23:36,169] Trial 90 finished with value: 0.8301020408163264 and parameters: {'penalty': 'l1', 'C': 1.4958069645394574, 'solver': 'liblinear'}. Best is trial 31 with value: 0.9089285714285715.\n",
      "/var/folders/n_/mj2qn5sd20lb04k5gcvn8fbr0000gn/T/ipykernel_23964/1484248660.py:5: FutureWarning: suggest_loguniform has been deprecated in v3.0.0. This feature will be removed in v6.0.0. See https://github.com/optuna/optuna/releases/tag/v3.0.0. Use suggest_float(..., log=True) instead.\n",
      "  'C': trial.suggest_loguniform('C', 0.001, 10),\n",
      "/Users/tgumpp/opt/anaconda3/lib/python3.9/site-packages/sklearn/linear_model/_sag.py:352: ConvergenceWarning: The max_iter was reached which means the coef_ did not converge\n",
      "  warnings.warn(\n",
      "/Users/tgumpp/opt/anaconda3/lib/python3.9/site-packages/sklearn/linear_model/_sag.py:352: ConvergenceWarning: The max_iter was reached which means the coef_ did not converge\n",
      "  warnings.warn(\n",
      "/Users/tgumpp/opt/anaconda3/lib/python3.9/site-packages/sklearn/linear_model/_sag.py:352: ConvergenceWarning: The max_iter was reached which means the coef_ did not converge\n",
      "  warnings.warn(\n",
      "/Users/tgumpp/opt/anaconda3/lib/python3.9/site-packages/sklearn/linear_model/_sag.py:352: ConvergenceWarning: The max_iter was reached which means the coef_ did not converge\n",
      "  warnings.warn(\n",
      "/Users/tgumpp/opt/anaconda3/lib/python3.9/site-packages/sklearn/linear_model/_sag.py:352: ConvergenceWarning: The max_iter was reached which means the coef_ did not converge\n",
      "  warnings.warn(\n",
      "[I 2024-04-30 14:23:36,207] Trial 91 finished with value: 0.8923469387755102 and parameters: {'penalty': 'l2', 'C': 0.6648229322857773, 'solver': 'saga'}. Best is trial 31 with value: 0.9089285714285715.\n",
      "/var/folders/n_/mj2qn5sd20lb04k5gcvn8fbr0000gn/T/ipykernel_23964/1484248660.py:5: FutureWarning: suggest_loguniform has been deprecated in v3.0.0. This feature will be removed in v6.0.0. See https://github.com/optuna/optuna/releases/tag/v3.0.0. Use suggest_float(..., log=True) instead.\n",
      "  'C': trial.suggest_loguniform('C', 0.001, 10),\n",
      "/Users/tgumpp/opt/anaconda3/lib/python3.9/site-packages/sklearn/linear_model/_sag.py:352: ConvergenceWarning: The max_iter was reached which means the coef_ did not converge\n",
      "  warnings.warn(\n",
      "/Users/tgumpp/opt/anaconda3/lib/python3.9/site-packages/sklearn/linear_model/_sag.py:352: ConvergenceWarning: The max_iter was reached which means the coef_ did not converge\n",
      "  warnings.warn(\n",
      "/Users/tgumpp/opt/anaconda3/lib/python3.9/site-packages/sklearn/linear_model/_sag.py:352: ConvergenceWarning: The max_iter was reached which means the coef_ did not converge\n",
      "  warnings.warn(\n",
      "/Users/tgumpp/opt/anaconda3/lib/python3.9/site-packages/sklearn/linear_model/_sag.py:352: ConvergenceWarning: The max_iter was reached which means the coef_ did not converge\n",
      "  warnings.warn(\n",
      "/Users/tgumpp/opt/anaconda3/lib/python3.9/site-packages/sklearn/linear_model/_sag.py:352: ConvergenceWarning: The max_iter was reached which means the coef_ did not converge\n",
      "  warnings.warn(\n",
      "[I 2024-04-30 14:23:36,248] Trial 92 finished with value: 0.9006802721088436 and parameters: {'penalty': 'l2', 'C': 1.7128601282059224, 'solver': 'saga'}. Best is trial 31 with value: 0.9089285714285715.\n",
      "/var/folders/n_/mj2qn5sd20lb04k5gcvn8fbr0000gn/T/ipykernel_23964/1484248660.py:5: FutureWarning: suggest_loguniform has been deprecated in v3.0.0. This feature will be removed in v6.0.0. See https://github.com/optuna/optuna/releases/tag/v3.0.0. Use suggest_float(..., log=True) instead.\n",
      "  'C': trial.suggest_loguniform('C', 0.001, 10),\n",
      "/Users/tgumpp/opt/anaconda3/lib/python3.9/site-packages/sklearn/linear_model/_sag.py:352: ConvergenceWarning: The max_iter was reached which means the coef_ did not converge\n",
      "  warnings.warn(\n",
      "/Users/tgumpp/opt/anaconda3/lib/python3.9/site-packages/sklearn/linear_model/_sag.py:352: ConvergenceWarning: The max_iter was reached which means the coef_ did not converge\n",
      "  warnings.warn(\n",
      "/Users/tgumpp/opt/anaconda3/lib/python3.9/site-packages/sklearn/linear_model/_sag.py:352: ConvergenceWarning: The max_iter was reached which means the coef_ did not converge\n",
      "  warnings.warn(\n",
      "/Users/tgumpp/opt/anaconda3/lib/python3.9/site-packages/sklearn/linear_model/_sag.py:352: ConvergenceWarning: The max_iter was reached which means the coef_ did not converge\n",
      "  warnings.warn(\n",
      "/Users/tgumpp/opt/anaconda3/lib/python3.9/site-packages/sklearn/linear_model/_sag.py:352: ConvergenceWarning: The max_iter was reached which means the coef_ did not converge\n",
      "  warnings.warn(\n",
      "[I 2024-04-30 14:23:36,287] Trial 93 finished with value: 0.9047619047619048 and parameters: {'penalty': 'l2', 'C': 1.0571288534961838, 'solver': 'saga'}. Best is trial 31 with value: 0.9089285714285715.\n",
      "/var/folders/n_/mj2qn5sd20lb04k5gcvn8fbr0000gn/T/ipykernel_23964/1484248660.py:5: FutureWarning: suggest_loguniform has been deprecated in v3.0.0. This feature will be removed in v6.0.0. See https://github.com/optuna/optuna/releases/tag/v3.0.0. Use suggest_float(..., log=True) instead.\n",
      "  'C': trial.suggest_loguniform('C', 0.001, 10),\n",
      "/Users/tgumpp/opt/anaconda3/lib/python3.9/site-packages/sklearn/linear_model/_sag.py:352: ConvergenceWarning: The max_iter was reached which means the coef_ did not converge\n",
      "  warnings.warn(\n",
      "/Users/tgumpp/opt/anaconda3/lib/python3.9/site-packages/sklearn/linear_model/_sag.py:352: ConvergenceWarning: The max_iter was reached which means the coef_ did not converge\n",
      "  warnings.warn(\n",
      "/Users/tgumpp/opt/anaconda3/lib/python3.9/site-packages/sklearn/linear_model/_sag.py:352: ConvergenceWarning: The max_iter was reached which means the coef_ did not converge\n",
      "  warnings.warn(\n",
      "/Users/tgumpp/opt/anaconda3/lib/python3.9/site-packages/sklearn/linear_model/_sag.py:352: ConvergenceWarning: The max_iter was reached which means the coef_ did not converge\n",
      "  warnings.warn(\n",
      "/Users/tgumpp/opt/anaconda3/lib/python3.9/site-packages/sklearn/linear_model/_sag.py:352: ConvergenceWarning: The max_iter was reached which means the coef_ did not converge\n",
      "  warnings.warn(\n",
      "[I 2024-04-30 14:23:36,324] Trial 94 finished with value: 0.8715986394557822 and parameters: {'penalty': 'l2', 'C': 0.4540881843722294, 'solver': 'saga'}. Best is trial 31 with value: 0.9089285714285715.\n",
      "/var/folders/n_/mj2qn5sd20lb04k5gcvn8fbr0000gn/T/ipykernel_23964/1484248660.py:5: FutureWarning: suggest_loguniform has been deprecated in v3.0.0. This feature will be removed in v6.0.0. See https://github.com/optuna/optuna/releases/tag/v3.0.0. Use suggest_float(..., log=True) instead.\n",
      "  'C': trial.suggest_loguniform('C', 0.001, 10),\n",
      "/Users/tgumpp/opt/anaconda3/lib/python3.9/site-packages/sklearn/linear_model/_sag.py:352: ConvergenceWarning: The max_iter was reached which means the coef_ did not converge\n",
      "  warnings.warn(\n",
      "/Users/tgumpp/opt/anaconda3/lib/python3.9/site-packages/sklearn/linear_model/_sag.py:352: ConvergenceWarning: The max_iter was reached which means the coef_ did not converge\n",
      "  warnings.warn(\n",
      "/Users/tgumpp/opt/anaconda3/lib/python3.9/site-packages/sklearn/linear_model/_sag.py:352: ConvergenceWarning: The max_iter was reached which means the coef_ did not converge\n",
      "  warnings.warn(\n",
      "/Users/tgumpp/opt/anaconda3/lib/python3.9/site-packages/sklearn/linear_model/_sag.py:352: ConvergenceWarning: The max_iter was reached which means the coef_ did not converge\n",
      "  warnings.warn(\n",
      "/Users/tgumpp/opt/anaconda3/lib/python3.9/site-packages/sklearn/linear_model/_sag.py:352: ConvergenceWarning: The max_iter was reached which means the coef_ did not converge\n",
      "  warnings.warn(\n",
      "[I 2024-04-30 14:23:36,360] Trial 95 finished with value: 0.896513605442177 and parameters: {'penalty': 'l2', 'C': 1.2854187661325518, 'solver': 'saga'}. Best is trial 31 with value: 0.9089285714285715.\n",
      "/var/folders/n_/mj2qn5sd20lb04k5gcvn8fbr0000gn/T/ipykernel_23964/1484248660.py:5: FutureWarning: suggest_loguniform has been deprecated in v3.0.0. This feature will be removed in v6.0.0. See https://github.com/optuna/optuna/releases/tag/v3.0.0. Use suggest_float(..., log=True) instead.\n",
      "  'C': trial.suggest_loguniform('C', 0.001, 10),\n",
      "/Users/tgumpp/opt/anaconda3/lib/python3.9/site-packages/sklearn/linear_model/_sag.py:352: ConvergenceWarning: The max_iter was reached which means the coef_ did not converge\n",
      "  warnings.warn(\n",
      "/Users/tgumpp/opt/anaconda3/lib/python3.9/site-packages/sklearn/linear_model/_sag.py:352: ConvergenceWarning: The max_iter was reached which means the coef_ did not converge\n",
      "  warnings.warn(\n",
      "/Users/tgumpp/opt/anaconda3/lib/python3.9/site-packages/sklearn/linear_model/_sag.py:352: ConvergenceWarning: The max_iter was reached which means the coef_ did not converge\n",
      "  warnings.warn(\n",
      "/Users/tgumpp/opt/anaconda3/lib/python3.9/site-packages/sklearn/linear_model/_sag.py:352: ConvergenceWarning: The max_iter was reached which means the coef_ did not converge\n",
      "  warnings.warn(\n",
      "/Users/tgumpp/opt/anaconda3/lib/python3.9/site-packages/sklearn/linear_model/_sag.py:352: ConvergenceWarning: The max_iter was reached which means the coef_ did not converge\n",
      "  warnings.warn(\n",
      "[I 2024-04-30 14:23:36,397] Trial 96 finished with value: 0.9006802721088436 and parameters: {'penalty': 'l2', 'C': 2.556484240577256, 'solver': 'saga'}. Best is trial 31 with value: 0.9089285714285715.\n",
      "/var/folders/n_/mj2qn5sd20lb04k5gcvn8fbr0000gn/T/ipykernel_23964/1484248660.py:5: FutureWarning: suggest_loguniform has been deprecated in v3.0.0. This feature will be removed in v6.0.0. See https://github.com/optuna/optuna/releases/tag/v3.0.0. Use suggest_float(..., log=True) instead.\n",
      "  'C': trial.suggest_loguniform('C', 0.001, 10),\n",
      "/Users/tgumpp/opt/anaconda3/lib/python3.9/site-packages/sklearn/linear_model/_sag.py:352: ConvergenceWarning: The max_iter was reached which means the coef_ did not converge\n",
      "  warnings.warn(\n",
      "/Users/tgumpp/opt/anaconda3/lib/python3.9/site-packages/sklearn/linear_model/_sag.py:352: ConvergenceWarning: The max_iter was reached which means the coef_ did not converge\n",
      "  warnings.warn(\n",
      "/Users/tgumpp/opt/anaconda3/lib/python3.9/site-packages/sklearn/linear_model/_sag.py:352: ConvergenceWarning: The max_iter was reached which means the coef_ did not converge\n",
      "  warnings.warn(\n",
      "/Users/tgumpp/opt/anaconda3/lib/python3.9/site-packages/sklearn/linear_model/_sag.py:352: ConvergenceWarning: The max_iter was reached which means the coef_ did not converge\n",
      "  warnings.warn(\n",
      "/Users/tgumpp/opt/anaconda3/lib/python3.9/site-packages/sklearn/linear_model/_sag.py:352: ConvergenceWarning: The max_iter was reached which means the coef_ did not converge\n",
      "  warnings.warn(\n",
      "[I 2024-04-30 14:23:36,435] Trial 97 finished with value: 0.9006802721088436 and parameters: {'penalty': 'l2', 'C': 2.1649287323367483, 'solver': 'saga'}. Best is trial 31 with value: 0.9089285714285715.\n",
      "/var/folders/n_/mj2qn5sd20lb04k5gcvn8fbr0000gn/T/ipykernel_23964/1484248660.py:5: FutureWarning: suggest_loguniform has been deprecated in v3.0.0. This feature will be removed in v6.0.0. See https://github.com/optuna/optuna/releases/tag/v3.0.0. Use suggest_float(..., log=True) instead.\n",
      "  'C': trial.suggest_loguniform('C', 0.001, 10),\n",
      "/Users/tgumpp/opt/anaconda3/lib/python3.9/site-packages/sklearn/linear_model/_sag.py:352: ConvergenceWarning: The max_iter was reached which means the coef_ did not converge\n",
      "  warnings.warn(\n",
      "/Users/tgumpp/opt/anaconda3/lib/python3.9/site-packages/sklearn/linear_model/_sag.py:352: ConvergenceWarning: The max_iter was reached which means the coef_ did not converge\n",
      "  warnings.warn(\n",
      "/Users/tgumpp/opt/anaconda3/lib/python3.9/site-packages/sklearn/linear_model/_sag.py:352: ConvergenceWarning: The max_iter was reached which means the coef_ did not converge\n",
      "  warnings.warn(\n",
      "/Users/tgumpp/opt/anaconda3/lib/python3.9/site-packages/sklearn/linear_model/_sag.py:352: ConvergenceWarning: The max_iter was reached which means the coef_ did not converge\n",
      "  warnings.warn(\n",
      "/Users/tgumpp/opt/anaconda3/lib/python3.9/site-packages/sklearn/linear_model/_sag.py:352: ConvergenceWarning: The max_iter was reached which means the coef_ did not converge\n",
      "  warnings.warn(\n",
      "[I 2024-04-30 14:23:36,473] Trial 98 finished with value: 0.9047619047619048 and parameters: {'penalty': 'l2', 'C': 0.7925325997280583, 'solver': 'saga'}. Best is trial 31 with value: 0.9089285714285715.\n",
      "/var/folders/n_/mj2qn5sd20lb04k5gcvn8fbr0000gn/T/ipykernel_23964/1484248660.py:5: FutureWarning: suggest_loguniform has been deprecated in v3.0.0. This feature will be removed in v6.0.0. See https://github.com/optuna/optuna/releases/tag/v3.0.0. Use suggest_float(..., log=True) instead.\n",
      "  'C': trial.suggest_loguniform('C', 0.001, 10),\n",
      "/Users/tgumpp/opt/anaconda3/lib/python3.9/site-packages/sklearn/linear_model/_sag.py:352: ConvergenceWarning: The max_iter was reached which means the coef_ did not converge\n",
      "  warnings.warn(\n",
      "/Users/tgumpp/opt/anaconda3/lib/python3.9/site-packages/sklearn/linear_model/_sag.py:352: ConvergenceWarning: The max_iter was reached which means the coef_ did not converge\n",
      "  warnings.warn(\n",
      "/Users/tgumpp/opt/anaconda3/lib/python3.9/site-packages/sklearn/linear_model/_sag.py:352: ConvergenceWarning: The max_iter was reached which means the coef_ did not converge\n",
      "  warnings.warn(\n",
      "/Users/tgumpp/opt/anaconda3/lib/python3.9/site-packages/sklearn/linear_model/_sag.py:352: ConvergenceWarning: The max_iter was reached which means the coef_ did not converge\n",
      "  warnings.warn(\n",
      "/Users/tgumpp/opt/anaconda3/lib/python3.9/site-packages/sklearn/linear_model/_sag.py:352: ConvergenceWarning: The max_iter was reached which means the coef_ did not converge\n",
      "  warnings.warn(\n",
      "[I 2024-04-30 14:23:36,513] Trial 99 finished with value: 0.9048469387755101 and parameters: {'penalty': 'l2', 'C': 3.1639173901025233, 'solver': 'saga'}. Best is trial 31 with value: 0.9089285714285715.\n"
     ]
    },
    {
     "name": "stdout",
     "output_type": "stream",
     "text": [
      "Best parameters found: {'penalty': 'l2', 'C': 4.321318105419841, 'solver': 'saga'}\n",
      "Best accuracy found: 0.9089285714285715\n"
     ]
    }
   ],
   "source": [
    "def objective(trial):\n",
    "    # Define hyperparameters to be tuned\n",
    "    params = {\n",
    "        'penalty': trial.suggest_categorical('penalty', ['l1', 'l2']),\n",
    "        'C': trial.suggest_loguniform('C', 0.001, 10),\n",
    "        'solver': trial.suggest_categorical('solver', ['liblinear', 'saga'])\n",
    "    }\n",
    "\n",
    "    # Initialize and train the model\n",
    "    model = LogisticRegression(**params)\n",
    "\n",
    "    # Alternatively, you can use other classifiers like SVM, XGBoost, or LightGBM\n",
    "    # model = SVC(C=trial.suggest_loguniform('C', 1e-5, 100), gamma='auto')\n",
    "    # model = XGBClassifier(learning_rate=trial.suggest_loguniform('learning_rate', 0.001, 1.0), n_estimators=trial.suggest_int('n_estimators', 100, 1000))\n",
    "    # model = LGBMClassifier(learning_rate=trial.suggest_loguniform('learning_rate', 0.001, 1.0), n_estimators=trial.suggest_int('n_estimators', 100, 1000))\n",
    "\n",
    "    # Evaluate the model using cross-validation\n",
    "    cv_scores = cross_val_score(model, X_vec, y, cv=5)\n",
    "    accuracy = np.mean(cv_scores)\n",
    "    return accuracy\n",
    "\n",
    "# Define the study\n",
    "study = optuna.create_study(direction='maximize')\n",
    "\n",
    "# Run the optimization\n",
    "study.optimize(objective, n_trials=100)\n",
    "\n",
    "# Print the best parameters and objective value\n",
    "print(\"Best parameters found:\", study.best_params)\n",
    "print(\"Best accuracy found:\", study.best_value)"
   ],
   "metadata": {
    "collapsed": false
   }
  },
  {
   "cell_type": "markdown",
   "source": [
    "Using the found hyperparameters, we change our model input parameters. Next, we select the best performing dataset as well as the prediction one for comparison and run our k-fold cross-validation again."
   ],
   "metadata": {
    "collapsed": false
   }
  },
  {
   "cell_type": "code",
   "execution_count": 176,
   "outputs": [],
   "source": [
    "datasets = {\n",
    "    \"gt_firstname_occupation_link\": df.combined\n",
    "}\n",
    "\n",
    "vectorizers = {\n",
    "    \"BOW\": bow_vect,\n",
    "    \"TFIDF\": tfidf_vect\n",
    "    # \"Word2Vec\": word2vec\n",
    "}\n",
    "\n",
    "models = {\n",
    "    'Logistic Regression': LogisticRegression(penalty='l2', C=4.321318105419841, solver='saga'),\n",
    "    'Naive Bayes': MultinomialNB(alpha = 0.6423321842897731)\n",
    "}"
   ],
   "metadata": {
    "collapsed": false
   }
  },
  {
   "cell_type": "code",
   "execution_count": 177,
   "outputs": [
    {
     "name": "stderr",
     "output_type": "stream",
     "text": [
      "/Users/tgumpp/opt/anaconda3/lib/python3.9/site-packages/sklearn/linear_model/_sag.py:352: ConvergenceWarning: The max_iter was reached which means the coef_ did not converge\n",
      "  warnings.warn(\n",
      "/Users/tgumpp/opt/anaconda3/lib/python3.9/site-packages/sklearn/linear_model/_sag.py:352: ConvergenceWarning: The max_iter was reached which means the coef_ did not converge\n",
      "  warnings.warn(\n",
      "/Users/tgumpp/opt/anaconda3/lib/python3.9/site-packages/sklearn/linear_model/_sag.py:352: ConvergenceWarning: The max_iter was reached which means the coef_ did not converge\n",
      "  warnings.warn(\n",
      "/Users/tgumpp/opt/anaconda3/lib/python3.9/site-packages/sklearn/linear_model/_sag.py:352: ConvergenceWarning: The max_iter was reached which means the coef_ did not converge\n",
      "  warnings.warn(\n",
      "/Users/tgumpp/opt/anaconda3/lib/python3.9/site-packages/sklearn/linear_model/_sag.py:352: ConvergenceWarning: The max_iter was reached which means the coef_ did not converge\n",
      "  warnings.warn(\n",
      "/var/folders/n_/mj2qn5sd20lb04k5gcvn8fbr0000gn/T/ipykernel_23964/761159036.py:29: FutureWarning: The frame.append method is deprecated and will be removed from pandas in a future version. Use pandas.concat instead.\n",
      "  results_df_kfold = results_df_kfold.append({'Data': data_name,\n",
      "/var/folders/n_/mj2qn5sd20lb04k5gcvn8fbr0000gn/T/ipykernel_23964/761159036.py:29: FutureWarning: The frame.append method is deprecated and will be removed from pandas in a future version. Use pandas.concat instead.\n",
      "  results_df_kfold = results_df_kfold.append({'Data': data_name,\n",
      "/Users/tgumpp/opt/anaconda3/lib/python3.9/site-packages/sklearn/linear_model/_sag.py:352: ConvergenceWarning: The max_iter was reached which means the coef_ did not converge\n",
      "  warnings.warn(\n",
      "/Users/tgumpp/opt/anaconda3/lib/python3.9/site-packages/sklearn/linear_model/_sag.py:352: ConvergenceWarning: The max_iter was reached which means the coef_ did not converge\n",
      "  warnings.warn(\n",
      "/Users/tgumpp/opt/anaconda3/lib/python3.9/site-packages/sklearn/linear_model/_sag.py:352: ConvergenceWarning: The max_iter was reached which means the coef_ did not converge\n",
      "  warnings.warn(\n",
      "/Users/tgumpp/opt/anaconda3/lib/python3.9/site-packages/sklearn/linear_model/_sag.py:352: ConvergenceWarning: The max_iter was reached which means the coef_ did not converge\n",
      "  warnings.warn(\n",
      "/Users/tgumpp/opt/anaconda3/lib/python3.9/site-packages/sklearn/linear_model/_sag.py:352: ConvergenceWarning: The max_iter was reached which means the coef_ did not converge\n",
      "  warnings.warn(\n",
      "/var/folders/n_/mj2qn5sd20lb04k5gcvn8fbr0000gn/T/ipykernel_23964/761159036.py:29: FutureWarning: The frame.append method is deprecated and will be removed from pandas in a future version. Use pandas.concat instead.\n",
      "  results_df_kfold = results_df_kfold.append({'Data': data_name,\n",
      "/var/folders/n_/mj2qn5sd20lb04k5gcvn8fbr0000gn/T/ipykernel_23964/761159036.py:29: FutureWarning: The frame.append method is deprecated and will be removed from pandas in a future version. Use pandas.concat instead.\n",
      "  results_df_kfold = results_df_kfold.append({'Data': data_name,\n",
      "/Users/tgumpp/opt/anaconda3/lib/python3.9/site-packages/sklearn/model_selection/_split.py:676: UserWarning: The least populated class in y has only 9 members, which is less than n_splits=10.\n",
      "  warnings.warn(\n",
      "/Users/tgumpp/opt/anaconda3/lib/python3.9/site-packages/sklearn/linear_model/_sag.py:352: ConvergenceWarning: The max_iter was reached which means the coef_ did not converge\n",
      "  warnings.warn(\n",
      "/Users/tgumpp/opt/anaconda3/lib/python3.9/site-packages/sklearn/linear_model/_sag.py:352: ConvergenceWarning: The max_iter was reached which means the coef_ did not converge\n",
      "  warnings.warn(\n",
      "/Users/tgumpp/opt/anaconda3/lib/python3.9/site-packages/sklearn/linear_model/_sag.py:352: ConvergenceWarning: The max_iter was reached which means the coef_ did not converge\n",
      "  warnings.warn(\n",
      "/Users/tgumpp/opt/anaconda3/lib/python3.9/site-packages/sklearn/linear_model/_sag.py:352: ConvergenceWarning: The max_iter was reached which means the coef_ did not converge\n",
      "  warnings.warn(\n",
      "/Users/tgumpp/opt/anaconda3/lib/python3.9/site-packages/sklearn/linear_model/_sag.py:352: ConvergenceWarning: The max_iter was reached which means the coef_ did not converge\n",
      "  warnings.warn(\n",
      "/Users/tgumpp/opt/anaconda3/lib/python3.9/site-packages/sklearn/linear_model/_sag.py:352: ConvergenceWarning: The max_iter was reached which means the coef_ did not converge\n",
      "  warnings.warn(\n",
      "/Users/tgumpp/opt/anaconda3/lib/python3.9/site-packages/sklearn/linear_model/_sag.py:352: ConvergenceWarning: The max_iter was reached which means the coef_ did not converge\n",
      "  warnings.warn(\n",
      "/Users/tgumpp/opt/anaconda3/lib/python3.9/site-packages/sklearn/linear_model/_sag.py:352: ConvergenceWarning: The max_iter was reached which means the coef_ did not converge\n",
      "  warnings.warn(\n",
      "/Users/tgumpp/opt/anaconda3/lib/python3.9/site-packages/sklearn/linear_model/_sag.py:352: ConvergenceWarning: The max_iter was reached which means the coef_ did not converge\n",
      "  warnings.warn(\n",
      "/Users/tgumpp/opt/anaconda3/lib/python3.9/site-packages/sklearn/linear_model/_sag.py:352: ConvergenceWarning: The max_iter was reached which means the coef_ did not converge\n",
      "  warnings.warn(\n",
      "/var/folders/n_/mj2qn5sd20lb04k5gcvn8fbr0000gn/T/ipykernel_23964/761159036.py:29: FutureWarning: The frame.append method is deprecated and will be removed from pandas in a future version. Use pandas.concat instead.\n",
      "  results_df_kfold = results_df_kfold.append({'Data': data_name,\n",
      "/Users/tgumpp/opt/anaconda3/lib/python3.9/site-packages/sklearn/model_selection/_split.py:676: UserWarning: The least populated class in y has only 9 members, which is less than n_splits=10.\n",
      "  warnings.warn(\n",
      "/var/folders/n_/mj2qn5sd20lb04k5gcvn8fbr0000gn/T/ipykernel_23964/761159036.py:29: FutureWarning: The frame.append method is deprecated and will be removed from pandas in a future version. Use pandas.concat instead.\n",
      "  results_df_kfold = results_df_kfold.append({'Data': data_name,\n",
      "/Users/tgumpp/opt/anaconda3/lib/python3.9/site-packages/sklearn/model_selection/_split.py:676: UserWarning: The least populated class in y has only 9 members, which is less than n_splits=10.\n",
      "  warnings.warn(\n",
      "/Users/tgumpp/opt/anaconda3/lib/python3.9/site-packages/sklearn/linear_model/_sag.py:352: ConvergenceWarning: The max_iter was reached which means the coef_ did not converge\n",
      "  warnings.warn(\n",
      "/Users/tgumpp/opt/anaconda3/lib/python3.9/site-packages/sklearn/linear_model/_sag.py:352: ConvergenceWarning: The max_iter was reached which means the coef_ did not converge\n",
      "  warnings.warn(\n",
      "/Users/tgumpp/opt/anaconda3/lib/python3.9/site-packages/sklearn/linear_model/_sag.py:352: ConvergenceWarning: The max_iter was reached which means the coef_ did not converge\n",
      "  warnings.warn(\n",
      "/Users/tgumpp/opt/anaconda3/lib/python3.9/site-packages/sklearn/linear_model/_sag.py:352: ConvergenceWarning: The max_iter was reached which means the coef_ did not converge\n",
      "  warnings.warn(\n",
      "/Users/tgumpp/opt/anaconda3/lib/python3.9/site-packages/sklearn/linear_model/_sag.py:352: ConvergenceWarning: The max_iter was reached which means the coef_ did not converge\n",
      "  warnings.warn(\n",
      "/Users/tgumpp/opt/anaconda3/lib/python3.9/site-packages/sklearn/linear_model/_sag.py:352: ConvergenceWarning: The max_iter was reached which means the coef_ did not converge\n",
      "  warnings.warn(\n",
      "/Users/tgumpp/opt/anaconda3/lib/python3.9/site-packages/sklearn/linear_model/_sag.py:352: ConvergenceWarning: The max_iter was reached which means the coef_ did not converge\n",
      "  warnings.warn(\n",
      "/Users/tgumpp/opt/anaconda3/lib/python3.9/site-packages/sklearn/linear_model/_sag.py:352: ConvergenceWarning: The max_iter was reached which means the coef_ did not converge\n",
      "  warnings.warn(\n",
      "/Users/tgumpp/opt/anaconda3/lib/python3.9/site-packages/sklearn/linear_model/_sag.py:352: ConvergenceWarning: The max_iter was reached which means the coef_ did not converge\n",
      "  warnings.warn(\n",
      "/Users/tgumpp/opt/anaconda3/lib/python3.9/site-packages/sklearn/linear_model/_sag.py:352: ConvergenceWarning: The max_iter was reached which means the coef_ did not converge\n",
      "  warnings.warn(\n",
      "/var/folders/n_/mj2qn5sd20lb04k5gcvn8fbr0000gn/T/ipykernel_23964/761159036.py:29: FutureWarning: The frame.append method is deprecated and will be removed from pandas in a future version. Use pandas.concat instead.\n",
      "  results_df_kfold = results_df_kfold.append({'Data': data_name,\n",
      "/Users/tgumpp/opt/anaconda3/lib/python3.9/site-packages/sklearn/model_selection/_split.py:676: UserWarning: The least populated class in y has only 9 members, which is less than n_splits=10.\n",
      "  warnings.warn(\n"
     ]
    },
    {
     "name": "stdout",
     "output_type": "stream",
     "text": [
      "\n",
      "Results for Surname and Firstname Vectorization with k-fold cross-validation:\n"
     ]
    },
    {
     "name": "stderr",
     "output_type": "stream",
     "text": [
      "/var/folders/n_/mj2qn5sd20lb04k5gcvn8fbr0000gn/T/ipykernel_23964/761159036.py:29: FutureWarning: The frame.append method is deprecated and will be removed from pandas in a future version. Use pandas.concat instead.\n",
      "  results_df_kfold = results_df_kfold.append({'Data': data_name,\n"
     ]
    }
   ],
   "source": [
    "le = LabelEncoder()\n",
    "y = le.fit_transform(transcriptions_with_sex.sex)\n",
    "\n",
    "# Reset results dataframe for k-fold cross-validation\n",
    "results_df_kfold = pd.DataFrame()\n",
    "\n",
    "num_folds = [5, 10]\n",
    "\n",
    "for fold in num_folds:\n",
    "    # Define the cross-validator\n",
    "    k_fold = StratifiedKFold(n_splits=fold, shuffle=True, random_state=42)\n",
    "\n",
    "    for data_name, data in datasets.items():\n",
    "\n",
    "        for vec_name, vectorizer in vectorizers.items():\n",
    "            # Fit and transform vectorizer on full data\n",
    "            X_vec = vectorizer.fit_transform(data)\n",
    "\n",
    "            # Iterate over models\n",
    "            for model_name, model in models.items():\n",
    "                # Perform k-fold cross-validation\n",
    "                cv_scores = cross_val_score(model, X_vec, y, cv=k_fold, scoring='accuracy', error_score='raise')\n",
    "\n",
    "                # Calculate mean and standard deviation of cross-validation scores\n",
    "                mean_accuracy = cv_scores.mean()\n",
    "                std_accuracy = cv_scores.std()\n",
    "\n",
    "                # Append results to dataframe\n",
    "                results_df_kfold = results_df_kfold.append({'Data': data_name,\n",
    "                                                            'Folds': fold,\n",
    "                                                            'Vectorizer': vec_name,\n",
    "                                                            'Model': model_name,\n",
    "                                                            'Mean Accuracy': mean_accuracy,\n",
    "                                                            'Mean Std': std_accuracy},\n",
    "                                                           ignore_index=True)\n",
    "\n",
    "# Display results dataframe for k-fold cross-validation\n",
    "results_df_kfold.to_csv('Results_kFold_hyperparam_optimized.csv')"
   ],
   "metadata": {
    "collapsed": false
   }
  },
  {
   "cell_type": "code",
   "execution_count": 247,
   "outputs": [
    {
     "name": "stdout",
     "output_type": "stream",
     "text": [
      "\n",
      "Results for Surname and Firstname Vectorization with k-fold cross-validation:\n"
     ]
    },
    {
     "data": {
      "text/plain": "           Data  Folds Vectorizer                Model  Mean Accuracy  \\\n0   Groundtruth      3        BOW  Logistic Regression       0.834053   \n1   Groundtruth      3        BOW        Random Forest       0.842335   \n2   Groundtruth      3        BOW                  SVM       0.817387   \n3   Groundtruth      3        BOW              XGBoost       0.825720   \n4   Groundtruth      3        BOW          Naive Bayes       0.863117   \n5   Groundtruth      3      TFIDF  Logistic Regression       0.842233   \n6   Groundtruth      3      TFIDF        Random Forest       0.809156   \n7   Groundtruth      3      TFIDF                  SVM       0.825720   \n8   Groundtruth      3      TFIDF              XGBoost       0.742541   \n9   Groundtruth      3      TFIDF          Naive Bayes       0.854733   \n10   Prediction      3        BOW  Logistic Regression       0.784259   \n11   Prediction      3        BOW        Random Forest       0.751029   \n12   Prediction      3        BOW                  SVM       0.751132   \n13   Prediction      3        BOW              XGBoost       0.775926   \n14   Prediction      3        BOW          Naive Bayes       0.830093   \n15   Prediction      3      TFIDF  Logistic Regression       0.759465   \n16   Prediction      3      TFIDF        Random Forest       0.775926   \n17   Prediction      3      TFIDF                  SVM       0.738683   \n18   Prediction      3      TFIDF              XGBoost       0.701286   \n19   Prediction      3      TFIDF          Naive Bayes       0.788632   \n\n    Mean Std  \n0   0.020986  \n1   0.005481  \n2   0.006911  \n3   0.010257  \n4   0.009460  \n5   0.016348  \n6   0.004729  \n7   0.010257  \n8   0.049072  \n9   0.012205  \n10  0.011188  \n11  0.020464  \n12  0.034583  \n13  0.010290  \n14  0.037342  \n15  0.037685  \n16  0.001309  \n17  0.018982  \n18  0.056571  \n19  0.042898  ",
      "text/html": "<div>\n<style scoped>\n    .dataframe tbody tr th:only-of-type {\n        vertical-align: middle;\n    }\n\n    .dataframe tbody tr th {\n        vertical-align: top;\n    }\n\n    .dataframe thead th {\n        text-align: right;\n    }\n</style>\n<table border=\"1\" class=\"dataframe\">\n  <thead>\n    <tr style=\"text-align: right;\">\n      <th></th>\n      <th>Data</th>\n      <th>Folds</th>\n      <th>Vectorizer</th>\n      <th>Model</th>\n      <th>Mean Accuracy</th>\n      <th>Mean Std</th>\n    </tr>\n  </thead>\n  <tbody>\n    <tr>\n      <th>0</th>\n      <td>Groundtruth</td>\n      <td>3</td>\n      <td>BOW</td>\n      <td>Logistic Regression</td>\n      <td>0.834053</td>\n      <td>0.020986</td>\n    </tr>\n    <tr>\n      <th>1</th>\n      <td>Groundtruth</td>\n      <td>3</td>\n      <td>BOW</td>\n      <td>Random Forest</td>\n      <td>0.842335</td>\n      <td>0.005481</td>\n    </tr>\n    <tr>\n      <th>2</th>\n      <td>Groundtruth</td>\n      <td>3</td>\n      <td>BOW</td>\n      <td>SVM</td>\n      <td>0.817387</td>\n      <td>0.006911</td>\n    </tr>\n    <tr>\n      <th>3</th>\n      <td>Groundtruth</td>\n      <td>3</td>\n      <td>BOW</td>\n      <td>XGBoost</td>\n      <td>0.825720</td>\n      <td>0.010257</td>\n    </tr>\n    <tr>\n      <th>4</th>\n      <td>Groundtruth</td>\n      <td>3</td>\n      <td>BOW</td>\n      <td>Naive Bayes</td>\n      <td>0.863117</td>\n      <td>0.009460</td>\n    </tr>\n    <tr>\n      <th>5</th>\n      <td>Groundtruth</td>\n      <td>3</td>\n      <td>TFIDF</td>\n      <td>Logistic Regression</td>\n      <td>0.842233</td>\n      <td>0.016348</td>\n    </tr>\n    <tr>\n      <th>6</th>\n      <td>Groundtruth</td>\n      <td>3</td>\n      <td>TFIDF</td>\n      <td>Random Forest</td>\n      <td>0.809156</td>\n      <td>0.004729</td>\n    </tr>\n    <tr>\n      <th>7</th>\n      <td>Groundtruth</td>\n      <td>3</td>\n      <td>TFIDF</td>\n      <td>SVM</td>\n      <td>0.825720</td>\n      <td>0.010257</td>\n    </tr>\n    <tr>\n      <th>8</th>\n      <td>Groundtruth</td>\n      <td>3</td>\n      <td>TFIDF</td>\n      <td>XGBoost</td>\n      <td>0.742541</td>\n      <td>0.049072</td>\n    </tr>\n    <tr>\n      <th>9</th>\n      <td>Groundtruth</td>\n      <td>3</td>\n      <td>TFIDF</td>\n      <td>Naive Bayes</td>\n      <td>0.854733</td>\n      <td>0.012205</td>\n    </tr>\n    <tr>\n      <th>10</th>\n      <td>Prediction</td>\n      <td>3</td>\n      <td>BOW</td>\n      <td>Logistic Regression</td>\n      <td>0.784259</td>\n      <td>0.011188</td>\n    </tr>\n    <tr>\n      <th>11</th>\n      <td>Prediction</td>\n      <td>3</td>\n      <td>BOW</td>\n      <td>Random Forest</td>\n      <td>0.751029</td>\n      <td>0.020464</td>\n    </tr>\n    <tr>\n      <th>12</th>\n      <td>Prediction</td>\n      <td>3</td>\n      <td>BOW</td>\n      <td>SVM</td>\n      <td>0.751132</td>\n      <td>0.034583</td>\n    </tr>\n    <tr>\n      <th>13</th>\n      <td>Prediction</td>\n      <td>3</td>\n      <td>BOW</td>\n      <td>XGBoost</td>\n      <td>0.775926</td>\n      <td>0.010290</td>\n    </tr>\n    <tr>\n      <th>14</th>\n      <td>Prediction</td>\n      <td>3</td>\n      <td>BOW</td>\n      <td>Naive Bayes</td>\n      <td>0.830093</td>\n      <td>0.037342</td>\n    </tr>\n    <tr>\n      <th>15</th>\n      <td>Prediction</td>\n      <td>3</td>\n      <td>TFIDF</td>\n      <td>Logistic Regression</td>\n      <td>0.759465</td>\n      <td>0.037685</td>\n    </tr>\n    <tr>\n      <th>16</th>\n      <td>Prediction</td>\n      <td>3</td>\n      <td>TFIDF</td>\n      <td>Random Forest</td>\n      <td>0.775926</td>\n      <td>0.001309</td>\n    </tr>\n    <tr>\n      <th>17</th>\n      <td>Prediction</td>\n      <td>3</td>\n      <td>TFIDF</td>\n      <td>SVM</td>\n      <td>0.738683</td>\n      <td>0.018982</td>\n    </tr>\n    <tr>\n      <th>18</th>\n      <td>Prediction</td>\n      <td>3</td>\n      <td>TFIDF</td>\n      <td>XGBoost</td>\n      <td>0.701286</td>\n      <td>0.056571</td>\n    </tr>\n    <tr>\n      <th>19</th>\n      <td>Prediction</td>\n      <td>3</td>\n      <td>TFIDF</td>\n      <td>Naive Bayes</td>\n      <td>0.788632</td>\n      <td>0.042898</td>\n    </tr>\n  </tbody>\n</table>\n</div>"
     },
     "execution_count": 247,
     "metadata": {},
     "output_type": "execute_result"
    }
   ],
   "source": [
    "print(\"\\nResults for Surname and Firstname Vectorization with k-fold cross-validation:\")\n",
    "results_df_kfold"
   ],
   "metadata": {
    "collapsed": false
   }
  },
  {
   "cell_type": "markdown",
   "source": [
    "We observe slight increases in accuracy after applying the tuned models to our dataset and vectorizer preselection. However the improvements are minimal, hence we conclude only a small positive effect to hyperparamter tuning for this approach."
   ],
   "metadata": {
    "collapsed": false
   }
  },
  {
   "cell_type": "code",
   "execution_count": null,
   "outputs": [],
   "source": [],
   "metadata": {
    "collapsed": false
   }
  },
  {
   "cell_type": "code",
   "execution_count": null,
   "outputs": [],
   "source": [],
   "metadata": {
    "collapsed": false
   }
  },
  {
   "cell_type": "code",
   "execution_count": null,
   "outputs": [],
   "source": [],
   "metadata": {
    "collapsed": false
   }
  },
  {
   "cell_type": "code",
   "execution_count": null,
   "outputs": [],
   "source": [],
   "metadata": {
    "collapsed": false
   }
  }
 ],
 "metadata": {
  "kernelspec": {
   "display_name": "Python 3",
   "language": "python",
   "name": "python3"
  },
  "language_info": {
   "codemirror_mode": {
    "name": "ipython",
    "version": 2
   },
   "file_extension": ".py",
   "mimetype": "text/x-python",
   "name": "python",
   "nbconvert_exporter": "python",
   "pygments_lexer": "ipython2",
   "version": "2.7.6"
  }
 },
 "nbformat": 4,
 "nbformat_minor": 0
}
