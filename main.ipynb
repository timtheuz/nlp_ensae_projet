{
 "cells": [
  {
   "cell_type": "markdown",
   "source": [
    "# Project"
   ],
   "metadata": {
    "collapsed": false
   }
  },
  {
   "cell_type": "code",
   "execution_count": 43,
   "metadata": {
    "collapsed": true
   },
   "outputs": [],
   "source": [
    "import pandas as pd\n",
    "import matplotlib.pyplot as plt\n"
   ]
  },
  {
   "cell_type": "markdown",
   "source": [],
   "metadata": {
    "collapsed": false
   }
  },
  {
   "cell_type": "code",
   "execution_count": 20,
   "outputs": [],
   "source": [
    "firstname_with_sex = pd.read_csv('firstname_with_sex.csv', sep=';')\n",
    "transcriptions_with_sex = pd.read_csv('transcriptions_with_sex.csv', sep=',')\n",
    "#transcriptions_with_sex = pd.read_csv('transcriptions_with_sex.csv', sep=';|:')"
   ],
   "metadata": {
    "collapsed": false
   }
  },
  {
   "cell_type": "code",
   "execution_count": 34,
   "outputs": [
    {
     "data": {
      "text/plain": "     firstname     male   female\n0        marie    10145  2390322\n1         jean  1869615     6476\n2       pierre  1475841     5047\n3       jeanne     1765  1097397\n4     françois  1089009     5951\n...        ...      ...      ...\n6941   winnocq       10        0\n6942     xyste        9        1\n6943      zara        0       10\n6944  zéraphin       10        0\n6945     zimle        0       10\n\n[6946 rows x 3 columns]",
      "text/html": "<div>\n<style scoped>\n    .dataframe tbody tr th:only-of-type {\n        vertical-align: middle;\n    }\n\n    .dataframe tbody tr th {\n        vertical-align: top;\n    }\n\n    .dataframe thead th {\n        text-align: right;\n    }\n</style>\n<table border=\"1\" class=\"dataframe\">\n  <thead>\n    <tr style=\"text-align: right;\">\n      <th></th>\n      <th>firstname</th>\n      <th>male</th>\n      <th>female</th>\n    </tr>\n  </thead>\n  <tbody>\n    <tr>\n      <th>0</th>\n      <td>marie</td>\n      <td>10145</td>\n      <td>2390322</td>\n    </tr>\n    <tr>\n      <th>1</th>\n      <td>jean</td>\n      <td>1869615</td>\n      <td>6476</td>\n    </tr>\n    <tr>\n      <th>2</th>\n      <td>pierre</td>\n      <td>1475841</td>\n      <td>5047</td>\n    </tr>\n    <tr>\n      <th>3</th>\n      <td>jeanne</td>\n      <td>1765</td>\n      <td>1097397</td>\n    </tr>\n    <tr>\n      <th>4</th>\n      <td>françois</td>\n      <td>1089009</td>\n      <td>5951</td>\n    </tr>\n    <tr>\n      <th>...</th>\n      <td>...</td>\n      <td>...</td>\n      <td>...</td>\n    </tr>\n    <tr>\n      <th>6941</th>\n      <td>winnocq</td>\n      <td>10</td>\n      <td>0</td>\n    </tr>\n    <tr>\n      <th>6942</th>\n      <td>xyste</td>\n      <td>9</td>\n      <td>1</td>\n    </tr>\n    <tr>\n      <th>6943</th>\n      <td>zara</td>\n      <td>0</td>\n      <td>10</td>\n    </tr>\n    <tr>\n      <th>6944</th>\n      <td>zéraphin</td>\n      <td>10</td>\n      <td>0</td>\n    </tr>\n    <tr>\n      <th>6945</th>\n      <td>zimle</td>\n      <td>0</td>\n      <td>10</td>\n    </tr>\n  </tbody>\n</table>\n<p>6946 rows × 3 columns</p>\n</div>"
     },
     "execution_count": 34,
     "metadata": {},
     "output_type": "execute_result"
    }
   ],
   "source": [
    "firstname_with_sex"
   ],
   "metadata": {
    "collapsed": false
   }
  },
  {
   "cell_type": "code",
   "execution_count": 33,
   "outputs": [
    {
     "name": "stdout",
     "output_type": "stream",
     "text": [
      "<class 'pandas.core.frame.DataFrame'>\n",
      "RangeIndex: 6946 entries, 0 to 6945\n",
      "Data columns (total 3 columns):\n",
      " #   Column     Non-Null Count  Dtype \n",
      "---  ------     --------------  ----- \n",
      " 0   firstname  6946 non-null   object\n",
      " 1   male       6946 non-null   int64 \n",
      " 2   female     6946 non-null   int64 \n",
      "dtypes: int64(2), object(1)\n",
      "memory usage: 162.9+ KB\n"
     ]
    }
   ],
   "source": [
    "firstname_with_sex.info()"
   ],
   "metadata": {
    "collapsed": false
   }
  },
  {
   "cell_type": "code",
   "execution_count": 35,
   "outputs": [],
   "source": [
    "# A ratio closer to 1 means a name more used by males\n",
    "firstname_with_sex['ratio'] = firstname_with_sex['male'] / (firstname_with_sex['male'] + firstname_with_sex['female'])"
   ],
   "metadata": {
    "collapsed": false
   }
  },
  {
   "cell_type": "code",
   "execution_count": 36,
   "outputs": [
    {
     "data": {
      "text/plain": "  firstname     male   female     ratio\n0     marie    10145  2390322  0.004226\n1      jean  1869615     6476  0.996548\n2    pierre  1475841     5047  0.996592\n3    jeanne     1765  1097397  0.001606\n4  françois  1089009     5951  0.994565",
      "text/html": "<div>\n<style scoped>\n    .dataframe tbody tr th:only-of-type {\n        vertical-align: middle;\n    }\n\n    .dataframe tbody tr th {\n        vertical-align: top;\n    }\n\n    .dataframe thead th {\n        text-align: right;\n    }\n</style>\n<table border=\"1\" class=\"dataframe\">\n  <thead>\n    <tr style=\"text-align: right;\">\n      <th></th>\n      <th>firstname</th>\n      <th>male</th>\n      <th>female</th>\n      <th>ratio</th>\n    </tr>\n  </thead>\n  <tbody>\n    <tr>\n      <th>0</th>\n      <td>marie</td>\n      <td>10145</td>\n      <td>2390322</td>\n      <td>0.004226</td>\n    </tr>\n    <tr>\n      <th>1</th>\n      <td>jean</td>\n      <td>1869615</td>\n      <td>6476</td>\n      <td>0.996548</td>\n    </tr>\n    <tr>\n      <th>2</th>\n      <td>pierre</td>\n      <td>1475841</td>\n      <td>5047</td>\n      <td>0.996592</td>\n    </tr>\n    <tr>\n      <th>3</th>\n      <td>jeanne</td>\n      <td>1765</td>\n      <td>1097397</td>\n      <td>0.001606</td>\n    </tr>\n    <tr>\n      <th>4</th>\n      <td>françois</td>\n      <td>1089009</td>\n      <td>5951</td>\n      <td>0.994565</td>\n    </tr>\n  </tbody>\n</table>\n</div>"
     },
     "execution_count": 36,
     "metadata": {},
     "output_type": "execute_result"
    }
   ],
   "source": [
    "firstname_with_sex.head()"
   ],
   "metadata": {
    "collapsed": false
   }
  },
  {
   "cell_type": "code",
   "execution_count": 46,
   "outputs": [
    {
     "ename": "AttributeError",
     "evalue": "'str' object has no attribute 'sticky_edges'",
     "output_type": "error",
     "traceback": [
      "\u001B[0;31m---------------------------------------------------------------------------\u001B[0m",
      "\u001B[0;31mAttributeError\u001B[0m                            Traceback (most recent call last)",
      "File \u001B[0;32m~/opt/anaconda3/lib/python3.9/site-packages/matplotlib_inline/backend_inline.py:43\u001B[0m, in \u001B[0;36mshow\u001B[0;34m(close, block)\u001B[0m\n\u001B[1;32m     39\u001B[0m \u001B[38;5;28;01mtry\u001B[39;00m:\n\u001B[1;32m     40\u001B[0m     \u001B[38;5;28;01mfor\u001B[39;00m figure_manager \u001B[38;5;129;01min\u001B[39;00m Gcf\u001B[38;5;241m.\u001B[39mget_all_fig_managers():\n\u001B[1;32m     41\u001B[0m         display(\n\u001B[1;32m     42\u001B[0m             figure_manager\u001B[38;5;241m.\u001B[39mcanvas\u001B[38;5;241m.\u001B[39mfigure,\n\u001B[0;32m---> 43\u001B[0m             metadata\u001B[38;5;241m=\u001B[39m\u001B[43m_fetch_figure_metadata\u001B[49m\u001B[43m(\u001B[49m\u001B[43mfigure_manager\u001B[49m\u001B[38;5;241;43m.\u001B[39;49m\u001B[43mcanvas\u001B[49m\u001B[38;5;241;43m.\u001B[39;49m\u001B[43mfigure\u001B[49m\u001B[43m)\u001B[49m\n\u001B[1;32m     44\u001B[0m         )\n\u001B[1;32m     45\u001B[0m \u001B[38;5;28;01mfinally\u001B[39;00m:\n\u001B[1;32m     46\u001B[0m     show\u001B[38;5;241m.\u001B[39m_to_draw \u001B[38;5;241m=\u001B[39m []\n",
      "File \u001B[0;32m~/opt/anaconda3/lib/python3.9/site-packages/matplotlib_inline/backend_inline.py:231\u001B[0m, in \u001B[0;36m_fetch_figure_metadata\u001B[0;34m(fig)\u001B[0m\n\u001B[1;32m    228\u001B[0m \u001B[38;5;66;03m# determine if a background is needed for legibility\u001B[39;00m\n\u001B[1;32m    229\u001B[0m \u001B[38;5;28;01mif\u001B[39;00m _is_transparent(fig\u001B[38;5;241m.\u001B[39mget_facecolor()):\n\u001B[1;32m    230\u001B[0m     \u001B[38;5;66;03m# the background is transparent\u001B[39;00m\n\u001B[0;32m--> 231\u001B[0m     ticksLight \u001B[38;5;241m=\u001B[39m _is_light([label\u001B[38;5;241m.\u001B[39mget_color()\n\u001B[1;32m    232\u001B[0m                             \u001B[38;5;28;01mfor\u001B[39;00m axes \u001B[38;5;129;01min\u001B[39;00m fig\u001B[38;5;241m.\u001B[39maxes\n\u001B[1;32m    233\u001B[0m                             \u001B[38;5;28;01mfor\u001B[39;00m axis \u001B[38;5;129;01min\u001B[39;00m (axes\u001B[38;5;241m.\u001B[39mxaxis, axes\u001B[38;5;241m.\u001B[39myaxis)\n\u001B[1;32m    234\u001B[0m                             \u001B[38;5;28;01mfor\u001B[39;00m label \u001B[38;5;129;01min\u001B[39;00m axis\u001B[38;5;241m.\u001B[39mget_ticklabels()])\n\u001B[1;32m    235\u001B[0m     \u001B[38;5;28;01mif\u001B[39;00m ticksLight\u001B[38;5;241m.\u001B[39msize \u001B[38;5;129;01mand\u001B[39;00m (ticksLight \u001B[38;5;241m==\u001B[39m ticksLight[\u001B[38;5;241m0\u001B[39m])\u001B[38;5;241m.\u001B[39mall():\n\u001B[1;32m    236\u001B[0m         \u001B[38;5;66;03m# there are one or more tick labels, all with the same lightness\u001B[39;00m\n\u001B[1;32m    237\u001B[0m         \u001B[38;5;28;01mreturn\u001B[39;00m {\u001B[38;5;124m'\u001B[39m\u001B[38;5;124mneeds_background\u001B[39m\u001B[38;5;124m'\u001B[39m: \u001B[38;5;124m'\u001B[39m\u001B[38;5;124mdark\u001B[39m\u001B[38;5;124m'\u001B[39m \u001B[38;5;28;01mif\u001B[39;00m ticksLight[\u001B[38;5;241m0\u001B[39m] \u001B[38;5;28;01melse\u001B[39;00m \u001B[38;5;124m'\u001B[39m\u001B[38;5;124mlight\u001B[39m\u001B[38;5;124m'\u001B[39m}\n",
      "File \u001B[0;32m~/opt/anaconda3/lib/python3.9/site-packages/matplotlib_inline/backend_inline.py:234\u001B[0m, in \u001B[0;36m<listcomp>\u001B[0;34m(.0)\u001B[0m\n\u001B[1;32m    228\u001B[0m \u001B[38;5;66;03m# determine if a background is needed for legibility\u001B[39;00m\n\u001B[1;32m    229\u001B[0m \u001B[38;5;28;01mif\u001B[39;00m _is_transparent(fig\u001B[38;5;241m.\u001B[39mget_facecolor()):\n\u001B[1;32m    230\u001B[0m     \u001B[38;5;66;03m# the background is transparent\u001B[39;00m\n\u001B[1;32m    231\u001B[0m     ticksLight \u001B[38;5;241m=\u001B[39m _is_light([label\u001B[38;5;241m.\u001B[39mget_color()\n\u001B[1;32m    232\u001B[0m                             \u001B[38;5;28;01mfor\u001B[39;00m axes \u001B[38;5;129;01min\u001B[39;00m fig\u001B[38;5;241m.\u001B[39maxes\n\u001B[1;32m    233\u001B[0m                             \u001B[38;5;28;01mfor\u001B[39;00m axis \u001B[38;5;129;01min\u001B[39;00m (axes\u001B[38;5;241m.\u001B[39mxaxis, axes\u001B[38;5;241m.\u001B[39myaxis)\n\u001B[0;32m--> 234\u001B[0m                             \u001B[38;5;28;01mfor\u001B[39;00m label \u001B[38;5;129;01min\u001B[39;00m \u001B[43maxis\u001B[49m\u001B[38;5;241;43m.\u001B[39;49m\u001B[43mget_ticklabels\u001B[49m\u001B[43m(\u001B[49m\u001B[43m)\u001B[49m])\n\u001B[1;32m    235\u001B[0m     \u001B[38;5;28;01mif\u001B[39;00m ticksLight\u001B[38;5;241m.\u001B[39msize \u001B[38;5;129;01mand\u001B[39;00m (ticksLight \u001B[38;5;241m==\u001B[39m ticksLight[\u001B[38;5;241m0\u001B[39m])\u001B[38;5;241m.\u001B[39mall():\n\u001B[1;32m    236\u001B[0m         \u001B[38;5;66;03m# there are one or more tick labels, all with the same lightness\u001B[39;00m\n\u001B[1;32m    237\u001B[0m         \u001B[38;5;28;01mreturn\u001B[39;00m {\u001B[38;5;124m'\u001B[39m\u001B[38;5;124mneeds_background\u001B[39m\u001B[38;5;124m'\u001B[39m: \u001B[38;5;124m'\u001B[39m\u001B[38;5;124mdark\u001B[39m\u001B[38;5;124m'\u001B[39m \u001B[38;5;28;01mif\u001B[39;00m ticksLight[\u001B[38;5;241m0\u001B[39m] \u001B[38;5;28;01melse\u001B[39;00m \u001B[38;5;124m'\u001B[39m\u001B[38;5;124mlight\u001B[39m\u001B[38;5;124m'\u001B[39m}\n",
      "File \u001B[0;32m~/opt/anaconda3/lib/python3.9/site-packages/matplotlib/axis.py:1249\u001B[0m, in \u001B[0;36mAxis.get_ticklabels\u001B[0;34m(self, minor, which)\u001B[0m\n\u001B[1;32m   1247\u001B[0m \u001B[38;5;28;01mif\u001B[39;00m minor:\n\u001B[1;32m   1248\u001B[0m     \u001B[38;5;28;01mreturn\u001B[39;00m \u001B[38;5;28mself\u001B[39m\u001B[38;5;241m.\u001B[39mget_minorticklabels()\n\u001B[0;32m-> 1249\u001B[0m \u001B[38;5;28;01mreturn\u001B[39;00m \u001B[38;5;28;43mself\u001B[39;49m\u001B[38;5;241;43m.\u001B[39;49m\u001B[43mget_majorticklabels\u001B[49m\u001B[43m(\u001B[49m\u001B[43m)\u001B[49m\n",
      "File \u001B[0;32m~/opt/anaconda3/lib/python3.9/site-packages/matplotlib/axis.py:1201\u001B[0m, in \u001B[0;36mAxis.get_majorticklabels\u001B[0;34m(self)\u001B[0m\n\u001B[1;32m   1199\u001B[0m \u001B[38;5;28;01mdef\u001B[39;00m \u001B[38;5;21mget_majorticklabels\u001B[39m(\u001B[38;5;28mself\u001B[39m):\n\u001B[1;32m   1200\u001B[0m     \u001B[38;5;124;03m\"\"\"Return this Axis' major tick labels, as a list of `~.text.Text`.\"\"\"\u001B[39;00m\n\u001B[0;32m-> 1201\u001B[0m     ticks \u001B[38;5;241m=\u001B[39m \u001B[38;5;28;43mself\u001B[39;49m\u001B[38;5;241;43m.\u001B[39;49m\u001B[43mget_major_ticks\u001B[49m\u001B[43m(\u001B[49m\u001B[43m)\u001B[49m\n\u001B[1;32m   1202\u001B[0m     labels1 \u001B[38;5;241m=\u001B[39m [tick\u001B[38;5;241m.\u001B[39mlabel1 \u001B[38;5;28;01mfor\u001B[39;00m tick \u001B[38;5;129;01min\u001B[39;00m ticks \u001B[38;5;28;01mif\u001B[39;00m tick\u001B[38;5;241m.\u001B[39mlabel1\u001B[38;5;241m.\u001B[39mget_visible()]\n\u001B[1;32m   1203\u001B[0m     labels2 \u001B[38;5;241m=\u001B[39m [tick\u001B[38;5;241m.\u001B[39mlabel2 \u001B[38;5;28;01mfor\u001B[39;00m tick \u001B[38;5;129;01min\u001B[39;00m ticks \u001B[38;5;28;01mif\u001B[39;00m tick\u001B[38;5;241m.\u001B[39mlabel2\u001B[38;5;241m.\u001B[39mget_visible()]\n",
      "File \u001B[0;32m~/opt/anaconda3/lib/python3.9/site-packages/matplotlib/axis.py:1371\u001B[0m, in \u001B[0;36mAxis.get_major_ticks\u001B[0;34m(self, numticks)\u001B[0m\n\u001B[1;32m   1369\u001B[0m \u001B[38;5;124mr\u001B[39m\u001B[38;5;124;03m\"\"\"Return the list of major `.Tick`\\s.\"\"\"\u001B[39;00m\n\u001B[1;32m   1370\u001B[0m \u001B[38;5;28;01mif\u001B[39;00m numticks \u001B[38;5;129;01mis\u001B[39;00m \u001B[38;5;28;01mNone\u001B[39;00m:\n\u001B[0;32m-> 1371\u001B[0m     numticks \u001B[38;5;241m=\u001B[39m \u001B[38;5;28mlen\u001B[39m(\u001B[38;5;28;43mself\u001B[39;49m\u001B[38;5;241;43m.\u001B[39;49m\u001B[43mget_majorticklocs\u001B[49m\u001B[43m(\u001B[49m\u001B[43m)\u001B[49m)\n\u001B[1;32m   1373\u001B[0m \u001B[38;5;28;01mwhile\u001B[39;00m \u001B[38;5;28mlen\u001B[39m(\u001B[38;5;28mself\u001B[39m\u001B[38;5;241m.\u001B[39mmajorTicks) \u001B[38;5;241m<\u001B[39m numticks:\n\u001B[1;32m   1374\u001B[0m     \u001B[38;5;66;03m# Update the new tick label properties from the old.\u001B[39;00m\n\u001B[1;32m   1375\u001B[0m     tick \u001B[38;5;241m=\u001B[39m \u001B[38;5;28mself\u001B[39m\u001B[38;5;241m.\u001B[39m_get_tick(major\u001B[38;5;241m=\u001B[39m\u001B[38;5;28;01mTrue\u001B[39;00m)\n",
      "File \u001B[0;32m~/opt/anaconda3/lib/python3.9/site-packages/matplotlib/axis.py:1277\u001B[0m, in \u001B[0;36mAxis.get_majorticklocs\u001B[0;34m(self)\u001B[0m\n\u001B[1;32m   1275\u001B[0m \u001B[38;5;28;01mdef\u001B[39;00m \u001B[38;5;21mget_majorticklocs\u001B[39m(\u001B[38;5;28mself\u001B[39m):\n\u001B[1;32m   1276\u001B[0m     \u001B[38;5;124;03m\"\"\"Return this Axis' major tick locations in data coordinates.\"\"\"\u001B[39;00m\n\u001B[0;32m-> 1277\u001B[0m     \u001B[38;5;28;01mreturn\u001B[39;00m \u001B[38;5;28;43mself\u001B[39;49m\u001B[38;5;241;43m.\u001B[39;49m\u001B[43mmajor\u001B[49m\u001B[38;5;241;43m.\u001B[39;49m\u001B[43mlocator\u001B[49m\u001B[43m(\u001B[49m\u001B[43m)\u001B[49m\n",
      "File \u001B[0;32m~/opt/anaconda3/lib/python3.9/site-packages/matplotlib/ticker.py:2113\u001B[0m, in \u001B[0;36mMaxNLocator.__call__\u001B[0;34m(self)\u001B[0m\n\u001B[1;32m   2112\u001B[0m \u001B[38;5;28;01mdef\u001B[39;00m \u001B[38;5;21m__call__\u001B[39m(\u001B[38;5;28mself\u001B[39m):\n\u001B[0;32m-> 2113\u001B[0m     vmin, vmax \u001B[38;5;241m=\u001B[39m \u001B[38;5;28;43mself\u001B[39;49m\u001B[38;5;241;43m.\u001B[39;49m\u001B[43maxis\u001B[49m\u001B[38;5;241;43m.\u001B[39;49m\u001B[43mget_view_interval\u001B[49m\u001B[43m(\u001B[49m\u001B[43m)\u001B[49m\n\u001B[1;32m   2114\u001B[0m     \u001B[38;5;28;01mreturn\u001B[39;00m \u001B[38;5;28mself\u001B[39m\u001B[38;5;241m.\u001B[39mtick_values(vmin, vmax)\n",
      "File \u001B[0;32m~/opt/anaconda3/lib/python3.9/site-packages/matplotlib/axis.py:1987\u001B[0m, in \u001B[0;36m_make_getset_interval.<locals>.getter\u001B[0;34m(self)\u001B[0m\n\u001B[1;32m   1985\u001B[0m \u001B[38;5;28;01mdef\u001B[39;00m \u001B[38;5;21mgetter\u001B[39m(\u001B[38;5;28mself\u001B[39m):\n\u001B[1;32m   1986\u001B[0m     \u001B[38;5;66;03m# docstring inherited.\u001B[39;00m\n\u001B[0;32m-> 1987\u001B[0m     \u001B[38;5;28;01mreturn\u001B[39;00m \u001B[38;5;28mgetattr\u001B[39m(\u001B[38;5;28;43mgetattr\u001B[39;49m\u001B[43m(\u001B[49m\u001B[38;5;28;43mself\u001B[39;49m\u001B[38;5;241;43m.\u001B[39;49m\u001B[43maxes\u001B[49m\u001B[43m,\u001B[49m\u001B[43m \u001B[49m\u001B[43mlim_name\u001B[49m\u001B[43m)\u001B[49m, attr_name)\n",
      "File \u001B[0;32m~/opt/anaconda3/lib/python3.9/site-packages/matplotlib/axes/_base.py:781\u001B[0m, in \u001B[0;36m_AxesBase.viewLim\u001B[0;34m(self)\u001B[0m\n\u001B[1;32m    779\u001B[0m \u001B[38;5;129m@property\u001B[39m\n\u001B[1;32m    780\u001B[0m \u001B[38;5;28;01mdef\u001B[39;00m \u001B[38;5;21mviewLim\u001B[39m(\u001B[38;5;28mself\u001B[39m):\n\u001B[0;32m--> 781\u001B[0m     \u001B[38;5;28;43mself\u001B[39;49m\u001B[38;5;241;43m.\u001B[39;49m\u001B[43m_unstale_viewLim\u001B[49m\u001B[43m(\u001B[49m\u001B[43m)\u001B[49m\n\u001B[1;32m    782\u001B[0m     \u001B[38;5;28;01mreturn\u001B[39;00m \u001B[38;5;28mself\u001B[39m\u001B[38;5;241m.\u001B[39m_viewLim\n",
      "File \u001B[0;32m~/opt/anaconda3/lib/python3.9/site-packages/matplotlib/axes/_base.py:776\u001B[0m, in \u001B[0;36m_AxesBase._unstale_viewLim\u001B[0;34m(self)\u001B[0m\n\u001B[1;32m    774\u001B[0m     \u001B[38;5;28;01mfor\u001B[39;00m ax \u001B[38;5;129;01min\u001B[39;00m \u001B[38;5;28mself\u001B[39m\u001B[38;5;241m.\u001B[39m_shared_axes[name]\u001B[38;5;241m.\u001B[39mget_siblings(\u001B[38;5;28mself\u001B[39m):\n\u001B[1;32m    775\u001B[0m         ax\u001B[38;5;241m.\u001B[39m_stale_viewlims[name] \u001B[38;5;241m=\u001B[39m \u001B[38;5;28;01mFalse\u001B[39;00m\n\u001B[0;32m--> 776\u001B[0m \u001B[38;5;28;43mself\u001B[39;49m\u001B[38;5;241;43m.\u001B[39;49m\u001B[43mautoscale_view\u001B[49m\u001B[43m(\u001B[49m\u001B[38;5;241;43m*\u001B[39;49m\u001B[38;5;241;43m*\u001B[39;49m\u001B[43m{\u001B[49m\u001B[38;5;124;43mf\u001B[39;49m\u001B[38;5;124;43m\"\u001B[39;49m\u001B[38;5;124;43mscale\u001B[39;49m\u001B[38;5;132;43;01m{\u001B[39;49;00m\u001B[43mname\u001B[49m\u001B[38;5;132;43;01m}\u001B[39;49;00m\u001B[38;5;124;43m\"\u001B[39;49m\u001B[43m:\u001B[49m\u001B[43m \u001B[49m\u001B[43mscale\u001B[49m\n\u001B[1;32m    777\u001B[0m \u001B[43m                       \u001B[49m\u001B[38;5;28;43;01mfor\u001B[39;49;00m\u001B[43m \u001B[49m\u001B[43mname\u001B[49m\u001B[43m,\u001B[49m\u001B[43m \u001B[49m\u001B[43mscale\u001B[49m\u001B[43m \u001B[49m\u001B[38;5;129;43;01min\u001B[39;49;00m\u001B[43m \u001B[49m\u001B[43mneed_scale\u001B[49m\u001B[38;5;241;43m.\u001B[39;49m\u001B[43mitems\u001B[49m\u001B[43m(\u001B[49m\u001B[43m)\u001B[49m\u001B[43m}\u001B[49m\u001B[43m)\u001B[49m\n",
      "File \u001B[0;32m~/opt/anaconda3/lib/python3.9/site-packages/matplotlib/axes/_base.py:2851\u001B[0m, in \u001B[0;36m_AxesBase.autoscale_view\u001B[0;34m(self, tight, scalex, scaley)\u001B[0m\n\u001B[1;32m   2844\u001B[0m \u001B[38;5;28;01mif\u001B[39;00m \u001B[38;5;28mself\u001B[39m\u001B[38;5;241m.\u001B[39muse_sticky_edges:\n\u001B[1;32m   2845\u001B[0m     \u001B[38;5;66;03m# Only iterate over Axes and artists if needed.  The check for\u001B[39;00m\n\u001B[1;32m   2846\u001B[0m     \u001B[38;5;66;03m# ``hasattr(ax, \"_children\")`` is necessary because this can be\u001B[39;00m\n\u001B[1;32m   2847\u001B[0m     \u001B[38;5;66;03m# called very early in the Axes init process (e.g., for twin axes)\u001B[39;00m\n\u001B[1;32m   2848\u001B[0m     \u001B[38;5;66;03m# when these attributes don't even exist yet, in which case\u001B[39;00m\n\u001B[1;32m   2849\u001B[0m     \u001B[38;5;66;03m# `get_children` would raise an AttributeError.\u001B[39;00m\n\u001B[1;32m   2850\u001B[0m     \u001B[38;5;28;01mif\u001B[39;00m \u001B[38;5;28mself\u001B[39m\u001B[38;5;241m.\u001B[39m_xmargin \u001B[38;5;129;01mand\u001B[39;00m scalex \u001B[38;5;129;01mand\u001B[39;00m \u001B[38;5;28mself\u001B[39m\u001B[38;5;241m.\u001B[39m_autoscaleXon:\n\u001B[0;32m-> 2851\u001B[0m         x_stickies \u001B[38;5;241m=\u001B[39m np\u001B[38;5;241m.\u001B[39msort(np\u001B[38;5;241m.\u001B[39mconcatenate([\n\u001B[1;32m   2852\u001B[0m             artist\u001B[38;5;241m.\u001B[39msticky_edges\u001B[38;5;241m.\u001B[39mx\n\u001B[1;32m   2853\u001B[0m             \u001B[38;5;28;01mfor\u001B[39;00m ax \u001B[38;5;129;01min\u001B[39;00m \u001B[38;5;28mself\u001B[39m\u001B[38;5;241m.\u001B[39m_shared_axes[\u001B[38;5;124m\"\u001B[39m\u001B[38;5;124mx\u001B[39m\u001B[38;5;124m\"\u001B[39m]\u001B[38;5;241m.\u001B[39mget_siblings(\u001B[38;5;28mself\u001B[39m)\n\u001B[1;32m   2854\u001B[0m             \u001B[38;5;28;01mif\u001B[39;00m \u001B[38;5;28mhasattr\u001B[39m(ax, \u001B[38;5;124m\"\u001B[39m\u001B[38;5;124m_children\u001B[39m\u001B[38;5;124m\"\u001B[39m)\n\u001B[1;32m   2855\u001B[0m             \u001B[38;5;28;01mfor\u001B[39;00m artist \u001B[38;5;129;01min\u001B[39;00m ax\u001B[38;5;241m.\u001B[39mget_children()]))\n\u001B[1;32m   2856\u001B[0m     \u001B[38;5;28;01mif\u001B[39;00m \u001B[38;5;28mself\u001B[39m\u001B[38;5;241m.\u001B[39m_ymargin \u001B[38;5;129;01mand\u001B[39;00m scaley \u001B[38;5;129;01mand\u001B[39;00m \u001B[38;5;28mself\u001B[39m\u001B[38;5;241m.\u001B[39m_autoscaleYon:\n\u001B[1;32m   2857\u001B[0m         y_stickies \u001B[38;5;241m=\u001B[39m np\u001B[38;5;241m.\u001B[39msort(np\u001B[38;5;241m.\u001B[39mconcatenate([\n\u001B[1;32m   2858\u001B[0m             artist\u001B[38;5;241m.\u001B[39msticky_edges\u001B[38;5;241m.\u001B[39my\n\u001B[1;32m   2859\u001B[0m             \u001B[38;5;28;01mfor\u001B[39;00m ax \u001B[38;5;129;01min\u001B[39;00m \u001B[38;5;28mself\u001B[39m\u001B[38;5;241m.\u001B[39m_shared_axes[\u001B[38;5;124m\"\u001B[39m\u001B[38;5;124my\u001B[39m\u001B[38;5;124m\"\u001B[39m]\u001B[38;5;241m.\u001B[39mget_siblings(\u001B[38;5;28mself\u001B[39m)\n\u001B[1;32m   2860\u001B[0m             \u001B[38;5;28;01mif\u001B[39;00m \u001B[38;5;28mhasattr\u001B[39m(ax, \u001B[38;5;124m\"\u001B[39m\u001B[38;5;124m_children\u001B[39m\u001B[38;5;124m\"\u001B[39m)\n\u001B[1;32m   2861\u001B[0m             \u001B[38;5;28;01mfor\u001B[39;00m artist \u001B[38;5;129;01min\u001B[39;00m ax\u001B[38;5;241m.\u001B[39mget_children()]))\n",
      "File \u001B[0;32m~/opt/anaconda3/lib/python3.9/site-packages/matplotlib/axes/_base.py:2852\u001B[0m, in \u001B[0;36m<listcomp>\u001B[0;34m(.0)\u001B[0m\n\u001B[1;32m   2844\u001B[0m \u001B[38;5;28;01mif\u001B[39;00m \u001B[38;5;28mself\u001B[39m\u001B[38;5;241m.\u001B[39muse_sticky_edges:\n\u001B[1;32m   2845\u001B[0m     \u001B[38;5;66;03m# Only iterate over Axes and artists if needed.  The check for\u001B[39;00m\n\u001B[1;32m   2846\u001B[0m     \u001B[38;5;66;03m# ``hasattr(ax, \"_children\")`` is necessary because this can be\u001B[39;00m\n\u001B[1;32m   2847\u001B[0m     \u001B[38;5;66;03m# called very early in the Axes init process (e.g., for twin axes)\u001B[39;00m\n\u001B[1;32m   2848\u001B[0m     \u001B[38;5;66;03m# when these attributes don't even exist yet, in which case\u001B[39;00m\n\u001B[1;32m   2849\u001B[0m     \u001B[38;5;66;03m# `get_children` would raise an AttributeError.\u001B[39;00m\n\u001B[1;32m   2850\u001B[0m     \u001B[38;5;28;01mif\u001B[39;00m \u001B[38;5;28mself\u001B[39m\u001B[38;5;241m.\u001B[39m_xmargin \u001B[38;5;129;01mand\u001B[39;00m scalex \u001B[38;5;129;01mand\u001B[39;00m \u001B[38;5;28mself\u001B[39m\u001B[38;5;241m.\u001B[39m_autoscaleXon:\n\u001B[1;32m   2851\u001B[0m         x_stickies \u001B[38;5;241m=\u001B[39m np\u001B[38;5;241m.\u001B[39msort(np\u001B[38;5;241m.\u001B[39mconcatenate([\n\u001B[0;32m-> 2852\u001B[0m             \u001B[43martist\u001B[49m\u001B[38;5;241;43m.\u001B[39;49m\u001B[43msticky_edges\u001B[49m\u001B[38;5;241m.\u001B[39mx\n\u001B[1;32m   2853\u001B[0m             \u001B[38;5;28;01mfor\u001B[39;00m ax \u001B[38;5;129;01min\u001B[39;00m \u001B[38;5;28mself\u001B[39m\u001B[38;5;241m.\u001B[39m_shared_axes[\u001B[38;5;124m\"\u001B[39m\u001B[38;5;124mx\u001B[39m\u001B[38;5;124m\"\u001B[39m]\u001B[38;5;241m.\u001B[39mget_siblings(\u001B[38;5;28mself\u001B[39m)\n\u001B[1;32m   2854\u001B[0m             \u001B[38;5;28;01mif\u001B[39;00m \u001B[38;5;28mhasattr\u001B[39m(ax, \u001B[38;5;124m\"\u001B[39m\u001B[38;5;124m_children\u001B[39m\u001B[38;5;124m\"\u001B[39m)\n\u001B[1;32m   2855\u001B[0m             \u001B[38;5;28;01mfor\u001B[39;00m artist \u001B[38;5;129;01min\u001B[39;00m ax\u001B[38;5;241m.\u001B[39mget_children()]))\n\u001B[1;32m   2856\u001B[0m     \u001B[38;5;28;01mif\u001B[39;00m \u001B[38;5;28mself\u001B[39m\u001B[38;5;241m.\u001B[39m_ymargin \u001B[38;5;129;01mand\u001B[39;00m scaley \u001B[38;5;129;01mand\u001B[39;00m \u001B[38;5;28mself\u001B[39m\u001B[38;5;241m.\u001B[39m_autoscaleYon:\n\u001B[1;32m   2857\u001B[0m         y_stickies \u001B[38;5;241m=\u001B[39m np\u001B[38;5;241m.\u001B[39msort(np\u001B[38;5;241m.\u001B[39mconcatenate([\n\u001B[1;32m   2858\u001B[0m             artist\u001B[38;5;241m.\u001B[39msticky_edges\u001B[38;5;241m.\u001B[39my\n\u001B[1;32m   2859\u001B[0m             \u001B[38;5;28;01mfor\u001B[39;00m ax \u001B[38;5;129;01min\u001B[39;00m \u001B[38;5;28mself\u001B[39m\u001B[38;5;241m.\u001B[39m_shared_axes[\u001B[38;5;124m\"\u001B[39m\u001B[38;5;124my\u001B[39m\u001B[38;5;124m\"\u001B[39m]\u001B[38;5;241m.\u001B[39mget_siblings(\u001B[38;5;28mself\u001B[39m)\n\u001B[1;32m   2860\u001B[0m             \u001B[38;5;28;01mif\u001B[39;00m \u001B[38;5;28mhasattr\u001B[39m(ax, \u001B[38;5;124m\"\u001B[39m\u001B[38;5;124m_children\u001B[39m\u001B[38;5;124m\"\u001B[39m)\n\u001B[1;32m   2861\u001B[0m             \u001B[38;5;28;01mfor\u001B[39;00m artist \u001B[38;5;129;01min\u001B[39;00m ax\u001B[38;5;241m.\u001B[39mget_children()]))\n",
      "\u001B[0;31mAttributeError\u001B[0m: 'str' object has no attribute 'sticky_edges'"
     ]
    }
   ],
   "source": [
    "fig, ax = plt.subplots(1, 2, sharey=False, tight_layout=True)\n",
    "\n",
    "ax[0].hist(firstname_with_sex['ratio'], bins=20)\n",
    "ax[1].hist(firstname_with_sex['ratio'], bins=20, range=(0.05, 0.95))\n",
    "ax[0]"
   ],
   "metadata": {
    "collapsed": false
   }
  },
  {
   "cell_type": "code",
   "execution_count": 41,
   "outputs": [
    {
     "data": {
      "text/plain": "<AxesSubplot:>"
     },
     "execution_count": 41,
     "metadata": {},
     "output_type": "execute_result"
    },
    {
     "data": {
      "text/plain": "<Figure size 432x288 with 1 Axes>",
      "image/png": "[encoded data removed]"
     },
     "metadata": {
      "needs_background": "light"
     },
     "output_type": "display_data"
    }
   ],
   "source": [
    "firstname_with_sex['ratio'].hist(bins=20, range=(0.05, 0.95),log=False)"
   ],
   "metadata": {
    "collapsed": false
   }
  },
  {
   "cell_type": "code",
   "execution_count": 52,
   "outputs": [
    {
     "data": {
      "text/plain": "                             subject_line  \\\n236  1d92738a-cffe-4aee-ab10-db04c37f7405   \n237  09440055-7972-4135-a537-e6c5a1f2aeb2   \n238  4d387278-12c3-410c-bdf0-c5c603479764   \n239  623b95de-f87c-4844-a7f7-361088eed83a   \n240  26d7839c-16a1-486e-9736-83e500fb72e5   \n\n                                           groundtruth  \\\n236  surname: Burlurut firstname: Pétronille occupa...   \n237  surname: Combey firstname: Alexandre occupatio...   \n238  surname: Collin firstname: Marguerite occupati...   \n239  surname: Dumont firstname: Etienne link: fils ...   \n240  surname: Renaut firstname: Antoinette link: be...   \n\n                                            prediction    sex  \n236  nom: Burlurut prénom: Gihromille date_naissanc...  femme  \n237  nom: Comberf prénom: Alexandre date_naissance:...  homme  \n238  nom: Collin prénom: Marguerite date_naissance:...  femme  \n239  nom: Dumont prénom: Etienne date_naissance: 19...  homme  \n240  nom: Renaut prénom: Antoinette date_naissance:...  femme  ",
      "text/html": "<div>\n<style scoped>\n    .dataframe tbody tr th:only-of-type {\n        vertical-align: middle;\n    }\n\n    .dataframe tbody tr th {\n        vertical-align: top;\n    }\n\n    .dataframe thead th {\n        text-align: right;\n    }\n</style>\n<table border=\"1\" class=\"dataframe\">\n  <thead>\n    <tr style=\"text-align: right;\">\n      <th></th>\n      <th>subject_line</th>\n      <th>groundtruth</th>\n      <th>prediction</th>\n      <th>sex</th>\n    </tr>\n  </thead>\n  <tbody>\n    <tr>\n      <th>236</th>\n      <td>1d92738a-cffe-4aee-ab10-db04c37f7405</td>\n      <td>surname: Burlurut firstname: Pétronille occupa...</td>\n      <td>nom: Burlurut prénom: Gihromille date_naissanc...</td>\n      <td>femme</td>\n    </tr>\n    <tr>\n      <th>237</th>\n      <td>09440055-7972-4135-a537-e6c5a1f2aeb2</td>\n      <td>surname: Combey firstname: Alexandre occupatio...</td>\n      <td>nom: Comberf prénom: Alexandre date_naissance:...</td>\n      <td>homme</td>\n    </tr>\n    <tr>\n      <th>238</th>\n      <td>4d387278-12c3-410c-bdf0-c5c603479764</td>\n      <td>surname: Collin firstname: Marguerite occupati...</td>\n      <td>nom: Collin prénom: Marguerite date_naissance:...</td>\n      <td>femme</td>\n    </tr>\n    <tr>\n      <th>239</th>\n      <td>623b95de-f87c-4844-a7f7-361088eed83a</td>\n      <td>surname: Dumont firstname: Etienne link: fils ...</td>\n      <td>nom: Dumont prénom: Etienne date_naissance: 19...</td>\n      <td>homme</td>\n    </tr>\n    <tr>\n      <th>240</th>\n      <td>26d7839c-16a1-486e-9736-83e500fb72e5</td>\n      <td>surname: Renaut firstname: Antoinette link: be...</td>\n      <td>nom: Renaut prénom: Antoinette date_naissance:...</td>\n      <td>femme</td>\n    </tr>\n  </tbody>\n</table>\n</div>"
     },
     "execution_count": 52,
     "metadata": {},
     "output_type": "execute_result"
    }
   ],
   "source": [
    "transcriptions_with_sex.tail()"
   ],
   "metadata": {
    "collapsed": false
   }
  },
  {
   "cell_type": "code",
   "execution_count": 23,
   "outputs": [
    {
     "name": "stdout",
     "output_type": "stream",
     "text": [
      "<class 'pandas.core.frame.DataFrame'>\n",
      "RangeIndex: 241 entries, 0 to 240\n",
      "Data columns (total 4 columns):\n",
      " #   Column        Non-Null Count  Dtype \n",
      "---  ------        --------------  ----- \n",
      " 0   subject_line  241 non-null    object\n",
      " 1   groundtruth   241 non-null    object\n",
      " 2   prediction    241 non-null    object\n",
      " 3   sex           241 non-null    object\n",
      "dtypes: object(4)\n",
      "memory usage: 7.7+ KB\n"
     ]
    }
   ],
   "source": [
    "transcriptions_with_sex.info()"
   ],
   "metadata": {
    "collapsed": false
   }
  },
  {
   "cell_type": "code",
   "execution_count": 50,
   "outputs": [
    {
     "data": {
      "text/plain": "236    [nom:, Burlurut, prénom:, Gihromille, date_nai...\n237    [nom:, Comberf, prénom:, Alexandre, date_naiss...\n238    [nom:, Collin, prénom:, Marguerite, date_naiss...\n239    [nom:, Dumont, prénom:, Etienne, date_naissanc...\n240    [nom:, Renaut, prénom:, Antoinette, date_naiss...\nName: prediction, dtype: object"
     },
     "execution_count": 50,
     "metadata": {},
     "output_type": "execute_result"
    }
   ],
   "source": [
    "groundtruth = transcriptions_with_sex['groundtruth'].str.split(' ')\n",
    "prediction = transcriptions_with_sex['prediction'].str.split(' ')\n",
    "groundtruth.head()\n",
    "prediction.tail()"
   ],
   "metadata": {
    "collapsed": false
   }
  },
  {
   "cell_type": "code",
   "execution_count": 51,
   "outputs": [
    {
     "data": {
      "text/plain": "236    [nom,  Burlurut prénom,  Gihromille date_naiss...\n237    [nom,  Comberf prénom,  Alexandre date_naissan...\n238    [nom,  Collin prénom,  Marguerite date_naissan...\n239    [nom,  Dumont prénom,  Etienne date_naissance,...\n240    [nom,  Renaut prénom,  Antoinette date_naissan...\nName: prediction, dtype: object"
     },
     "execution_count": 51,
     "metadata": {},
     "output_type": "execute_result"
    }
   ],
   "source": [
    "prediction = transcriptions_with_sex['prediction'].str.split(':')\n",
    "prediction.tail()"
   ],
   "metadata": {
    "collapsed": false
   }
  },
  {
   "cell_type": "code",
   "execution_count": 48,
   "outputs": [
    {
     "data": {
      "text/plain": "0    [surname:, Chardon, firstname:, Marie, occupat...\n1    [surname:, Lhopital, firstname:, Louis-Jean, o...\n2    [surname:, Papin, firstname:, Marie, occupatio...\n3    [surname:, Lavocat, firstname:, Marie, link:, ...\n4    [surname:, Benne, firstname:, Marguerite, age:...\nName: groundtruth, dtype: object"
     },
     "execution_count": 48,
     "metadata": {},
     "output_type": "execute_result"
    }
   ],
   "source": [
    "groundtruth.head()"
   ],
   "metadata": {
    "collapsed": false
   }
  },
  {
   "cell_type": "code",
   "execution_count": 53,
   "outputs": [
    {
     "ename": "IndexError",
     "evalue": "list index out of range",
     "output_type": "error",
     "traceback": [
      "\u001B[0;31m---------------------------------------------------------------------------\u001B[0m",
      "\u001B[0;31mIndexError\u001B[0m                                Traceback (most recent call last)",
      "Input \u001B[0;32mIn [53]\u001B[0m, in \u001B[0;36m<cell line: 5>\u001B[0;34m()\u001B[0m\n\u001B[1;32m      9\u001B[0m \u001B[38;5;28;01mfor\u001B[39;00m i \u001B[38;5;129;01min\u001B[39;00m \u001B[38;5;28mrange\u001B[39m(\u001B[38;5;241m0\u001B[39m, \u001B[38;5;28mlen\u001B[39m(row_list), \u001B[38;5;241m2\u001B[39m):\n\u001B[1;32m     10\u001B[0m     \u001B[38;5;66;03m# Extract column name and corresponding value\u001B[39;00m\n\u001B[1;32m     11\u001B[0m     column_name \u001B[38;5;241m=\u001B[39m row_list[i]\u001B[38;5;241m.\u001B[39mstrip(\u001B[38;5;124m'\u001B[39m\u001B[38;5;124m:\u001B[39m\u001B[38;5;124m'\u001B[39m)\n\u001B[0;32m---> 12\u001B[0m     value \u001B[38;5;241m=\u001B[39m \u001B[43mrow_list\u001B[49m\u001B[43m[\u001B[49m\u001B[43mi\u001B[49m\u001B[38;5;241;43m+\u001B[39;49m\u001B[38;5;241;43m1\u001B[39;49m\u001B[43m]\u001B[49m\n\u001B[1;32m     13\u001B[0m     \u001B[38;5;66;03m# Add the pair to the dictionary\u001B[39;00m\n\u001B[1;32m     14\u001B[0m     data_dict[column_name] \u001B[38;5;241m=\u001B[39m value\n",
      "\u001B[0;31mIndexError\u001B[0m: list index out of range"
     ]
    }
   ],
   "source": [
    "# Initialize an empty dictionary\n",
    "data_dicts = []\n",
    "\n",
    "# Iterate over each list in the column\n",
    "for row_list in groundtruth:\n",
    "    # Initialize an empty dictionary for each row\n",
    "    data_dict = {}\n",
    "    # Iterate over the list in steps of 2\n",
    "    for i in range(0, len(row_list), 2):\n",
    "        # Extract column name and corresponding value\n",
    "        column_name = row_list[i].strip(':')\n",
    "        value = row_list[i+1]\n",
    "        # Add the pair to the dictionary\n",
    "        data_dict[column_name] = value\n",
    "    # Append the dictionary to the list of dictionaries\n",
    "    data_dicts.append(data_dict)\n",
    "\n",
    "# Create DataFrame from the list of dictionaries\n",
    "result_df = pd.DataFrame(data_dicts)\n",
    "result_df"
   ],
   "metadata": {
    "collapsed": false
   }
  },
  {
   "cell_type": "code",
   "execution_count": 29,
   "outputs": [],
   "source": [
    "df = pd.read_csv('transcriptions_with_sex.csv', sep=',')\n",
    "\n",
    "# Define a function to extract information from the 'groundtruth' and 'prediction' columns\n",
    "def extract_info(row):\n",
    "    # Split the string based on ' ' and ':'\n",
    "    info_pairs = row.split(' ')\n",
    "    info_dict = {}\n",
    "    for pair in info_pairs:\n",
    "        if ':' in pair:\n",
    "            key, value = pair.split(':')\n",
    "            info_dict[key] = value.strip()\n",
    "    return pd.Series(info_dict)\n",
    "\n",
    "# Apply the function to 'groundtruth' and 'prediction' columns\n",
    "df_groundtruth = df['groundtruth'].apply(extract_info)\n",
    "df_prediction = df['prediction'].apply(extract_info)\n",
    "\n",
    "# Rename the columns to avoid conflicts when merging\n",
    "df_groundtruth.columns = ['groundtruth_' + col for col in df_groundtruth.columns]\n",
    "df_prediction.columns = ['prediction_' + col for col in df_prediction.columns]\n",
    "\n",
    "# Merge the extracted information with the original DataFrame\n",
    "df = pd.concat([df, df_groundtruth, df_prediction], axis=1)\n"
   ],
   "metadata": {
    "collapsed": false
   }
  },
  {
   "cell_type": "code",
   "execution_count": 30,
   "outputs": [
    {
     "data": {
      "text/plain": "                           subject_line  \\\n0  ebb26ada-044c-4c62-9dbc-a9c8d505d31c   \n1  338496f5-e4ca-43ac-aa5c-429cb3f6ac00   \n2  e6a279da-9b6f-4f49-b498-64857bc50d1e   \n3  7534deca-39e8-4f00-be17-c12460015de1   \n4  ef334a66-a504-418a-9872-e7c9db923488   \n\n                                         groundtruth  \\\n0  surname: Chardon firstname: Marie occupation: ...   \n1  surname: Lhopital firstname: Louis-Jean occupa...   \n2  surname: Papin firstname: Marie occupation: id...   \n3  surname: Lavocat firstname: Marie link: femme ...   \n4      surname: Benne firstname: Marguerite age: 78    \n\n                                          prediction    sex  \\\n0  nom: Chardon prénom: Marie date_naissance: 30 ...  femme   \n1  nom: Lhopital prénom: Louis Jean date_naissanc...  homme   \n2  nom: Pyrin prénom: Marie date_naissance: 55 re...  femme   \n3  nom: Lavocat prénom: Marie date_naissance: 187...  femme   \n4  nom: Benne prénom: Marguerite date_naissance: ...  femme   \n\n  groundtruth_surname groundtruth_firstname groundtruth_occupation  \\\n0                                                                    \n1                                                                    \n2                                                                    \n3                                                              NaN   \n4                                                              NaN   \n\n  groundtruth_link groundtruth_age groundtruth_employer  ...  \\\n0                                                   NaN  ...   \n1                                                   NaN  ...   \n2                                                        ...   \n3                              NaN                  NaN  ...   \n4              NaN                                  NaN  ...   \n\n  groundtruth_observation prediction_nom prediction_prénom  \\\n0                     NaN                                    \n1                     NaN                                    \n2                     NaN                                    \n3                     NaN                                    \n4                     NaN                                    \n\n  prediction_date_naissance prediction_lieux_naissance prediction_employeur  \\\n0                                                                       NaN   \n1                                                                             \n2                                                  NaN                  NaN   \n3                                                                       NaN   \n4                                                                       NaN   \n\n  prediction_relation prediction_profession prediction_état_civil  \\\n0                 NaN                   NaN                   NaN   \n1                 NaN                   NaN                   NaN   \n2                                       NaN                   NaN   \n3                 NaN                                         NaN   \n4                                       NaN                   NaN   \n\n  prediction_éducation  \n0                  NaN  \n1                  NaN  \n2                  NaN  \n3                  NaN  \n4                  NaN  \n\n[5 rows x 23 columns]",
      "text/html": "<div>\n<style scoped>\n    .dataframe tbody tr th:only-of-type {\n        vertical-align: middle;\n    }\n\n    .dataframe tbody tr th {\n        vertical-align: top;\n    }\n\n    .dataframe thead th {\n        text-align: right;\n    }\n</style>\n<table border=\"1\" class=\"dataframe\">\n  <thead>\n    <tr style=\"text-align: right;\">\n      <th></th>\n      <th>subject_line</th>\n      <th>groundtruth</th>\n      <th>prediction</th>\n      <th>sex</th>\n      <th>groundtruth_surname</th>\n      <th>groundtruth_firstname</th>\n      <th>groundtruth_occupation</th>\n      <th>groundtruth_link</th>\n      <th>groundtruth_age</th>\n      <th>groundtruth_employer</th>\n      <th>...</th>\n      <th>groundtruth_observation</th>\n      <th>prediction_nom</th>\n      <th>prediction_prénom</th>\n      <th>prediction_date_naissance</th>\n      <th>prediction_lieux_naissance</th>\n      <th>prediction_employeur</th>\n      <th>prediction_relation</th>\n      <th>prediction_profession</th>\n      <th>prediction_état_civil</th>\n      <th>prediction_éducation</th>\n    </tr>\n  </thead>\n  <tbody>\n    <tr>\n      <th>0</th>\n      <td>ebb26ada-044c-4c62-9dbc-a9c8d505d31c</td>\n      <td>surname: Chardon firstname: Marie occupation: ...</td>\n      <td>nom: Chardon prénom: Marie date_naissance: 30 ...</td>\n      <td>femme</td>\n      <td></td>\n      <td></td>\n      <td></td>\n      <td></td>\n      <td></td>\n      <td>NaN</td>\n      <td>...</td>\n      <td>NaN</td>\n      <td></td>\n      <td></td>\n      <td></td>\n      <td></td>\n      <td>NaN</td>\n      <td>NaN</td>\n      <td>NaN</td>\n      <td>NaN</td>\n      <td>NaN</td>\n    </tr>\n    <tr>\n      <th>1</th>\n      <td>338496f5-e4ca-43ac-aa5c-429cb3f6ac00</td>\n      <td>surname: Lhopital firstname: Louis-Jean occupa...</td>\n      <td>nom: Lhopital prénom: Louis Jean date_naissanc...</td>\n      <td>homme</td>\n      <td></td>\n      <td></td>\n      <td></td>\n      <td></td>\n      <td></td>\n      <td>NaN</td>\n      <td>...</td>\n      <td>NaN</td>\n      <td></td>\n      <td></td>\n      <td></td>\n      <td></td>\n      <td></td>\n      <td>NaN</td>\n      <td>NaN</td>\n      <td>NaN</td>\n      <td>NaN</td>\n    </tr>\n    <tr>\n      <th>2</th>\n      <td>e6a279da-9b6f-4f49-b498-64857bc50d1e</td>\n      <td>surname: Papin firstname: Marie occupation: id...</td>\n      <td>nom: Pyrin prénom: Marie date_naissance: 55 re...</td>\n      <td>femme</td>\n      <td></td>\n      <td></td>\n      <td></td>\n      <td></td>\n      <td></td>\n      <td></td>\n      <td>...</td>\n      <td>NaN</td>\n      <td></td>\n      <td></td>\n      <td></td>\n      <td>NaN</td>\n      <td>NaN</td>\n      <td></td>\n      <td>NaN</td>\n      <td>NaN</td>\n      <td>NaN</td>\n    </tr>\n    <tr>\n      <th>3</th>\n      <td>7534deca-39e8-4f00-be17-c12460015de1</td>\n      <td>surname: Lavocat firstname: Marie link: femme ...</td>\n      <td>nom: Lavocat prénom: Marie date_naissance: 187...</td>\n      <td>femme</td>\n      <td></td>\n      <td></td>\n      <td>NaN</td>\n      <td></td>\n      <td>NaN</td>\n      <td>NaN</td>\n      <td>...</td>\n      <td>NaN</td>\n      <td></td>\n      <td></td>\n      <td></td>\n      <td></td>\n      <td>NaN</td>\n      <td>NaN</td>\n      <td></td>\n      <td>NaN</td>\n      <td>NaN</td>\n    </tr>\n    <tr>\n      <th>4</th>\n      <td>ef334a66-a504-418a-9872-e7c9db923488</td>\n      <td>surname: Benne firstname: Marguerite age: 78</td>\n      <td>nom: Benne prénom: Marguerite date_naissance: ...</td>\n      <td>femme</td>\n      <td></td>\n      <td></td>\n      <td>NaN</td>\n      <td>NaN</td>\n      <td></td>\n      <td>NaN</td>\n      <td>...</td>\n      <td>NaN</td>\n      <td></td>\n      <td></td>\n      <td></td>\n      <td></td>\n      <td>NaN</td>\n      <td></td>\n      <td>NaN</td>\n      <td>NaN</td>\n      <td>NaN</td>\n    </tr>\n  </tbody>\n</table>\n<p>5 rows × 23 columns</p>\n</div>"
     },
     "execution_count": 30,
     "metadata": {},
     "output_type": "execute_result"
    }
   ],
   "source": [
    "df.head()"
   ],
   "metadata": {
    "collapsed": false
   }
  },
  {
   "cell_type": "code",
   "execution_count": 32,
   "outputs": [
    {
     "name": "stdout",
     "output_type": "stream",
     "text": [
      "              surname occupation  age              link    lob\n",
      "0   Chardon firstname  idem link   30               NaN    NaN\n",
      "1  Lhopital firstname    sp link   67               NaN    NaN\n",
      "2   Lavocat firstname        NaN  NaN  femme birth_date  Rigny\n"
     ]
    }
   ],
   "source": [
    "import pandas as pd\n",
    "import re\n",
    "\n",
    "# Define the input strings\n",
    "input_strings = [\n",
    "    \"surname: Chardon firstname: Marie occupation: idem link: fille age: 30\",\n",
    "    \"surname: Lhopital firstname: Louis-Jean occupation: sp link: chef age: 67\",\n",
    "    \"surname: Lavocat firstname: Marie link: femme birth_date: 1875 lob: Rigny\"\n",
    "]\n",
    "\n",
    "# Define a function to extract key-value pairs from each string\n",
    "def extract_info(s):\n",
    "    info_dict = {}\n",
    "    pairs = re.findall(r'(\\w+):\\s*([^:\\n]+)', s)\n",
    "    for key, value in pairs:\n",
    "        info_dict[key.strip()] = value.strip()\n",
    "    return info_dict\n",
    "\n",
    "# Extract key-value pairs from each string and create a list of dictionaries\n",
    "data = [extract_info(line) for line in input_strings]\n",
    "\n",
    "# Create DataFrame\n",
    "df = pd.DataFrame(data)\n",
    "\n",
    "# Reorder columns if necessary\n",
    "#df = df[['surname', 'firstname', 'occupation', 'link', 'age']]\n",
    "\n",
    "# Print the DataFrame\n",
    "print(df)"
   ],
   "metadata": {
    "collapsed": false
   }
  },
  {
   "cell_type": "code",
   "execution_count": null,
   "outputs": [],
   "source": [],
   "metadata": {
    "collapsed": false
   }
  }
 ],
 "metadata": {
  "kernelspec": {
   "display_name": "Python 3",
   "language": "python",
   "name": "python3"
  },
  "language_info": {
   "codemirror_mode": {
    "name": "ipython",
    "version": 2
   },
   "file_extension": ".py",
   "mimetype": "text/x-python",
   "name": "python",
   "nbconvert_exporter": "python",
   "pygments_lexer": "ipython2",
   "version": "2.7.6"
  }
 },
 "nbformat": 4,
 "nbformat_minor": 0
}
