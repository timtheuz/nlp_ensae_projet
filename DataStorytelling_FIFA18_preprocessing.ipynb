{
 "cells": [
  {
   "cell_type": "markdown",
   "source": [
    "### Import of datasets"
   ],
   "metadata": {
    "collapsed": false
   }
  },
  {
   "cell_type": "code",
   "execution_count": 1,
   "metadata": {
    "collapsed": true
   },
   "outputs": [],
   "source": [
    "import pandas as pd\n",
    "import os"
   ]
  },
  {
   "cell_type": "code",
   "execution_count": 2,
   "outputs": [
    {
     "name": "stdout",
     "output_type": "stream",
     "text": [
      "Path exists.\n",
      "It's a directory.\n"
     ]
    }
   ],
   "source": [
    "path = \"/Users/tgumpp/Downloads/80bf4d53f037d118e55a9a9520c5c0b6\"\n",
    "\n",
    "# Check if the path exists\n",
    "if os.path.exists(path):\n",
    "    print(\"Path exists.\")\n",
    "\n",
    "    # Check if it's a file or directory\n",
    "    if os.path.isfile(path):\n",
    "        print(\"It's a file.\")\n",
    "    elif os.path.isdir(path):\n",
    "        print(\"It's a directory.\")\n",
    "    else:\n",
    "        print(\"It's neither a file nor a directory.\")\n",
    "else:\n",
    "    print(\"Path does not exist.\")"
   ],
   "metadata": {
    "collapsed": false
   }
  },
  {
   "cell_type": "code",
   "execution_count": 3,
   "outputs": [
    {
     "data": {
      "text/plain": "'/Users/tgumpp/Downloads/80bf4d53f037d118e55a9a9520c5c0b6'"
     },
     "execution_count": 3,
     "metadata": {},
     "output_type": "execute_result"
    }
   ],
   "source": [
    "os.chdir(path)\n",
    "os.getcwd()"
   ],
   "metadata": {
    "collapsed": false
   }
  },
  {
   "cell_type": "markdown",
   "source": [
    "Import the original dataset from Pamplemousse."
   ],
   "metadata": {
    "collapsed": false
   }
  },
  {
   "cell_type": "code",
   "execution_count": 4,
   "outputs": [],
   "source": [
    "df = pd.read_excel(\"fifa18_clean.xlsx\")"
   ],
   "metadata": {
    "collapsed": false
   }
  },
  {
   "cell_type": "code",
   "execution_count": 5,
   "outputs": [
    {
     "data": {
      "text/plain": "       Wage (€)  Value (€)               Name  Age  \\\n0        565000   95500000  Cristiano Ronaldo   32   \n1        565000  105000000           L. Messi   30   \n2        280000  123000000             Neymar   25   \n3        510000   97000000          L. Suárez   30   \n4        230000   61000000           M. Neuer   31   \n...         ...        ...                ...  ...   \n17976      1000      50000          A. Kelsey   17   \n17977      1000          0      B. Richardson   47   \n17978      1000      60000           J. Young   17   \n17979      1000      60000       J. Lundstram   18   \n17980      1000      50000          L. Sackey   18   \n\n                                                 Photo Nationality  \\\n0       https://cdn.sofifa.org/48/18/players/20801.png    Portugal   \n1      https://cdn.sofifa.org/48/18/players/158023.png   Argentina   \n2      https://cdn.sofifa.org/48/18/players/190871.png      Brazil   \n3      https://cdn.sofifa.org/48/18/players/176580.png     Uruguay   \n4      https://cdn.sofifa.org/48/18/players/167495.png     Germany   \n...                                                ...         ...   \n17976  https://cdn.sofifa.org/48/18/players/237463.png     England   \n17977   https://cdn.sofifa.org/48/18/players/11728.png     England   \n17978  https://cdn.sofifa.org/48/18/players/231381.png    Scotland   \n17979  https://cdn.sofifa.org/48/18/players/238813.png     England   \n17980  https://cdn.sofifa.org/48/18/players/238308.png       Ghana   \n\n                                       Flag  Overall  Potential  \\\n0       https://cdn.sofifa.org/flags/38.png       94         94   \n1       https://cdn.sofifa.org/flags/52.png       93         93   \n2       https://cdn.sofifa.org/flags/54.png       92         94   \n3       https://cdn.sofifa.org/flags/60.png       92         92   \n4       https://cdn.sofifa.org/flags/21.png       92         92   \n...                                     ...      ...        ...   \n17976   https://cdn.sofifa.org/flags/14.png       46         63   \n17977   https://cdn.sofifa.org/flags/14.png       46         46   \n17978   https://cdn.sofifa.org/flags/42.png       46         61   \n17979   https://cdn.sofifa.org/flags/14.png       46         64   \n17980  https://cdn.sofifa.org/flags/117.png       46         64   \n\n                      Club  ...    RB   RCB   RCM   RDM    RF    RM    RS  \\\n0           Real Madrid CF  ...  61.0  53.0  82.0  62.0  91.0  89.0  92.0   \n1             FC Barcelona  ...  57.0  45.0  84.0  59.0  92.0  90.0  88.0   \n2      Paris Saint-Germain  ...  59.0  46.0  79.0  59.0  88.0  87.0  84.0   \n3             FC Barcelona  ...  64.0  58.0  80.0  65.0  88.0  85.0  88.0   \n4         FC Bayern Munich  ...   NaN   NaN   NaN   NaN   NaN   NaN   NaN   \n...                    ...  ...   ...   ...   ...   ...   ...   ...   ...   \n17976    Scunthorpe United  ...   NaN   NaN   NaN   NaN   NaN   NaN   NaN   \n17977    Wycombe Wanderers  ...   NaN   NaN   NaN   NaN   NaN   NaN   NaN   \n17978         Swindon Town  ...  31.0  28.0  38.0  29.0  45.0  42.0  45.0   \n17979      Crewe Alexandra  ...  47.0  46.0  45.0  47.0  43.0  45.0  41.0   \n17980    Scunthorpe United  ...  40.0  45.0  30.0  38.0  29.0  30.0  31.0   \n\n         RW   RWB    ST  \n0      91.0  66.0  92.0  \n1      91.0  62.0  88.0  \n2      89.0  64.0  84.0  \n3      87.0  68.0  88.0  \n4       NaN   NaN   NaN  \n...     ...   ...   ...  \n17976   NaN   NaN   NaN  \n17977   NaN   NaN   NaN  \n17978  44.0  32.0  45.0  \n17979  44.0  46.0  41.0  \n17980  29.0  38.0  31.0  \n\n[17981 rows x 74 columns]",
      "text/html": "<div>\n<style scoped>\n    .dataframe tbody tr th:only-of-type {\n        vertical-align: middle;\n    }\n\n    .dataframe tbody tr th {\n        vertical-align: top;\n    }\n\n    .dataframe thead th {\n        text-align: right;\n    }\n</style>\n<table border=\"1\" class=\"dataframe\">\n  <thead>\n    <tr style=\"text-align: right;\">\n      <th></th>\n      <th>Wage (€)</th>\n      <th>Value (€)</th>\n      <th>Name</th>\n      <th>Age</th>\n      <th>Photo</th>\n      <th>Nationality</th>\n      <th>Flag</th>\n      <th>Overall</th>\n      <th>Potential</th>\n      <th>Club</th>\n      <th>...</th>\n      <th>RB</th>\n      <th>RCB</th>\n      <th>RCM</th>\n      <th>RDM</th>\n      <th>RF</th>\n      <th>RM</th>\n      <th>RS</th>\n      <th>RW</th>\n      <th>RWB</th>\n      <th>ST</th>\n    </tr>\n  </thead>\n  <tbody>\n    <tr>\n      <th>0</th>\n      <td>565000</td>\n      <td>95500000</td>\n      <td>Cristiano Ronaldo</td>\n      <td>32</td>\n      <td>https://cdn.sofifa.org/48/18/players/20801.png</td>\n      <td>Portugal</td>\n      <td>https://cdn.sofifa.org/flags/38.png</td>\n      <td>94</td>\n      <td>94</td>\n      <td>Real Madrid CF</td>\n      <td>...</td>\n      <td>61.0</td>\n      <td>53.0</td>\n      <td>82.0</td>\n      <td>62.0</td>\n      <td>91.0</td>\n      <td>89.0</td>\n      <td>92.0</td>\n      <td>91.0</td>\n      <td>66.0</td>\n      <td>92.0</td>\n    </tr>\n    <tr>\n      <th>1</th>\n      <td>565000</td>\n      <td>105000000</td>\n      <td>L. Messi</td>\n      <td>30</td>\n      <td>https://cdn.sofifa.org/48/18/players/158023.png</td>\n      <td>Argentina</td>\n      <td>https://cdn.sofifa.org/flags/52.png</td>\n      <td>93</td>\n      <td>93</td>\n      <td>FC Barcelona</td>\n      <td>...</td>\n      <td>57.0</td>\n      <td>45.0</td>\n      <td>84.0</td>\n      <td>59.0</td>\n      <td>92.0</td>\n      <td>90.0</td>\n      <td>88.0</td>\n      <td>91.0</td>\n      <td>62.0</td>\n      <td>88.0</td>\n    </tr>\n    <tr>\n      <th>2</th>\n      <td>280000</td>\n      <td>123000000</td>\n      <td>Neymar</td>\n      <td>25</td>\n      <td>https://cdn.sofifa.org/48/18/players/190871.png</td>\n      <td>Brazil</td>\n      <td>https://cdn.sofifa.org/flags/54.png</td>\n      <td>92</td>\n      <td>94</td>\n      <td>Paris Saint-Germain</td>\n      <td>...</td>\n      <td>59.0</td>\n      <td>46.0</td>\n      <td>79.0</td>\n      <td>59.0</td>\n      <td>88.0</td>\n      <td>87.0</td>\n      <td>84.0</td>\n      <td>89.0</td>\n      <td>64.0</td>\n      <td>84.0</td>\n    </tr>\n    <tr>\n      <th>3</th>\n      <td>510000</td>\n      <td>97000000</td>\n      <td>L. Suárez</td>\n      <td>30</td>\n      <td>https://cdn.sofifa.org/48/18/players/176580.png</td>\n      <td>Uruguay</td>\n      <td>https://cdn.sofifa.org/flags/60.png</td>\n      <td>92</td>\n      <td>92</td>\n      <td>FC Barcelona</td>\n      <td>...</td>\n      <td>64.0</td>\n      <td>58.0</td>\n      <td>80.0</td>\n      <td>65.0</td>\n      <td>88.0</td>\n      <td>85.0</td>\n      <td>88.0</td>\n      <td>87.0</td>\n      <td>68.0</td>\n      <td>88.0</td>\n    </tr>\n    <tr>\n      <th>4</th>\n      <td>230000</td>\n      <td>61000000</td>\n      <td>M. Neuer</td>\n      <td>31</td>\n      <td>https://cdn.sofifa.org/48/18/players/167495.png</td>\n      <td>Germany</td>\n      <td>https://cdn.sofifa.org/flags/21.png</td>\n      <td>92</td>\n      <td>92</td>\n      <td>FC Bayern Munich</td>\n      <td>...</td>\n      <td>NaN</td>\n      <td>NaN</td>\n      <td>NaN</td>\n      <td>NaN</td>\n      <td>NaN</td>\n      <td>NaN</td>\n      <td>NaN</td>\n      <td>NaN</td>\n      <td>NaN</td>\n      <td>NaN</td>\n    </tr>\n    <tr>\n      <th>...</th>\n      <td>...</td>\n      <td>...</td>\n      <td>...</td>\n      <td>...</td>\n      <td>...</td>\n      <td>...</td>\n      <td>...</td>\n      <td>...</td>\n      <td>...</td>\n      <td>...</td>\n      <td>...</td>\n      <td>...</td>\n      <td>...</td>\n      <td>...</td>\n      <td>...</td>\n      <td>...</td>\n      <td>...</td>\n      <td>...</td>\n      <td>...</td>\n      <td>...</td>\n      <td>...</td>\n    </tr>\n    <tr>\n      <th>17976</th>\n      <td>1000</td>\n      <td>50000</td>\n      <td>A. Kelsey</td>\n      <td>17</td>\n      <td>https://cdn.sofifa.org/48/18/players/237463.png</td>\n      <td>England</td>\n      <td>https://cdn.sofifa.org/flags/14.png</td>\n      <td>46</td>\n      <td>63</td>\n      <td>Scunthorpe United</td>\n      <td>...</td>\n      <td>NaN</td>\n      <td>NaN</td>\n      <td>NaN</td>\n      <td>NaN</td>\n      <td>NaN</td>\n      <td>NaN</td>\n      <td>NaN</td>\n      <td>NaN</td>\n      <td>NaN</td>\n      <td>NaN</td>\n    </tr>\n    <tr>\n      <th>17977</th>\n      <td>1000</td>\n      <td>0</td>\n      <td>B. Richardson</td>\n      <td>47</td>\n      <td>https://cdn.sofifa.org/48/18/players/11728.png</td>\n      <td>England</td>\n      <td>https://cdn.sofifa.org/flags/14.png</td>\n      <td>46</td>\n      <td>46</td>\n      <td>Wycombe Wanderers</td>\n      <td>...</td>\n      <td>NaN</td>\n      <td>NaN</td>\n      <td>NaN</td>\n      <td>NaN</td>\n      <td>NaN</td>\n      <td>NaN</td>\n      <td>NaN</td>\n      <td>NaN</td>\n      <td>NaN</td>\n      <td>NaN</td>\n    </tr>\n    <tr>\n      <th>17978</th>\n      <td>1000</td>\n      <td>60000</td>\n      <td>J. Young</td>\n      <td>17</td>\n      <td>https://cdn.sofifa.org/48/18/players/231381.png</td>\n      <td>Scotland</td>\n      <td>https://cdn.sofifa.org/flags/42.png</td>\n      <td>46</td>\n      <td>61</td>\n      <td>Swindon Town</td>\n      <td>...</td>\n      <td>31.0</td>\n      <td>28.0</td>\n      <td>38.0</td>\n      <td>29.0</td>\n      <td>45.0</td>\n      <td>42.0</td>\n      <td>45.0</td>\n      <td>44.0</td>\n      <td>32.0</td>\n      <td>45.0</td>\n    </tr>\n    <tr>\n      <th>17979</th>\n      <td>1000</td>\n      <td>60000</td>\n      <td>J. Lundstram</td>\n      <td>18</td>\n      <td>https://cdn.sofifa.org/48/18/players/238813.png</td>\n      <td>England</td>\n      <td>https://cdn.sofifa.org/flags/14.png</td>\n      <td>46</td>\n      <td>64</td>\n      <td>Crewe Alexandra</td>\n      <td>...</td>\n      <td>47.0</td>\n      <td>46.0</td>\n      <td>45.0</td>\n      <td>47.0</td>\n      <td>43.0</td>\n      <td>45.0</td>\n      <td>41.0</td>\n      <td>44.0</td>\n      <td>46.0</td>\n      <td>41.0</td>\n    </tr>\n    <tr>\n      <th>17980</th>\n      <td>1000</td>\n      <td>50000</td>\n      <td>L. Sackey</td>\n      <td>18</td>\n      <td>https://cdn.sofifa.org/48/18/players/238308.png</td>\n      <td>Ghana</td>\n      <td>https://cdn.sofifa.org/flags/117.png</td>\n      <td>46</td>\n      <td>64</td>\n      <td>Scunthorpe United</td>\n      <td>...</td>\n      <td>40.0</td>\n      <td>45.0</td>\n      <td>30.0</td>\n      <td>38.0</td>\n      <td>29.0</td>\n      <td>30.0</td>\n      <td>31.0</td>\n      <td>29.0</td>\n      <td>38.0</td>\n      <td>31.0</td>\n    </tr>\n  </tbody>\n</table>\n<p>17981 rows × 74 columns</p>\n</div>"
     },
     "execution_count": 5,
     "metadata": {},
     "output_type": "execute_result"
    }
   ],
   "source": [
    "df"
   ],
   "metadata": {
    "collapsed": false
   }
  },
  {
   "cell_type": "code",
   "execution_count": 6,
   "outputs": [
    {
     "name": "stdout",
     "output_type": "stream",
     "text": [
      "<class 'pandas.core.frame.DataFrame'>\n",
      "RangeIndex: 17981 entries, 0 to 17980\n",
      "Data columns (total 74 columns):\n",
      " #   Column               Non-Null Count  Dtype  \n",
      "---  ------               --------------  -----  \n",
      " 0   Wage (€)             17981 non-null  int64  \n",
      " 1   Value (€)            17981 non-null  int64  \n",
      " 2   Name                 17981 non-null  object \n",
      " 3   Age                  17981 non-null  int64  \n",
      " 4   Photo                17981 non-null  object \n",
      " 5   Nationality          17981 non-null  object \n",
      " 6   Flag                 17981 non-null  object \n",
      " 7   Overall              17981 non-null  int64  \n",
      " 8   Potential            17981 non-null  int64  \n",
      " 9   Club                 17733 non-null  object \n",
      " 10  Club Logo            17981 non-null  object \n",
      " 11  Special              17981 non-null  int64  \n",
      " 12  Acceleration         17897 non-null  float64\n",
      " 13  Aggression           17913 non-null  float64\n",
      " 14  Agility              17910 non-null  float64\n",
      " 15  Balance              17924 non-null  float64\n",
      " 16  Ball control         17840 non-null  float64\n",
      " 17  Composure            17887 non-null  float64\n",
      " 18  Crossing             17885 non-null  float64\n",
      " 19  Curve                17908 non-null  float64\n",
      " 20  Dribbling            17850 non-null  float64\n",
      " 21  Finishing            17867 non-null  float64\n",
      " 22  Free kick accuracy   17932 non-null  float64\n",
      " 23  GK diving            17955 non-null  float64\n",
      " 24  GK handling          17954 non-null  float64\n",
      " 25  GK kicking           17962 non-null  float64\n",
      " 26  GK positioning       17955 non-null  float64\n",
      " 27  GK reflexes          17952 non-null  float64\n",
      " 28  Heading accuracy     17906 non-null  float64\n",
      " 29  Interceptions        17881 non-null  float64\n",
      " 30  Jumping              17911 non-null  float64\n",
      " 31  Long passing         17860 non-null  float64\n",
      " 32  Long shots           17898 non-null  float64\n",
      " 33  Marking              17869 non-null  float64\n",
      " 34  Penalties            17951 non-null  float64\n",
      " 35  Positioning          17886 non-null  float64\n",
      " 36  Reactions            17866 non-null  float64\n",
      " 37  Short passing        17832 non-null  float64\n",
      " 38  Shot power           17908 non-null  float64\n",
      " 39  Sliding tackle       17886 non-null  float64\n",
      " 40  Sprint speed         17867 non-null  float64\n",
      " 41  Stamina              17873 non-null  float64\n",
      " 42  Standing tackle      17857 non-null  float64\n",
      " 43  Strength             17877 non-null  float64\n",
      " 44  Vision               17874 non-null  float64\n",
      " 45  Volleys              17940 non-null  float64\n",
      " 46  CAM                  15952 non-null  float64\n",
      " 47  CB                   15952 non-null  float64\n",
      " 48  CDM                  15952 non-null  float64\n",
      " 49  CF                   15952 non-null  float64\n",
      " 50  CM                   15952 non-null  float64\n",
      " 51  ID                   17981 non-null  int64  \n",
      " 52  LAM                  15952 non-null  float64\n",
      " 53  LB                   15952 non-null  float64\n",
      " 54  LCB                  15952 non-null  float64\n",
      " 55  LCM                  15952 non-null  float64\n",
      " 56  LDM                  15952 non-null  float64\n",
      " 57  LF                   15952 non-null  float64\n",
      " 58  LM                   15952 non-null  float64\n",
      " 59  LS                   15952 non-null  float64\n",
      " 60  LW                   15952 non-null  float64\n",
      " 61  LWB                  15952 non-null  float64\n",
      " 62  Preferred Positions  17981 non-null  object \n",
      " 63  RAM                  15952 non-null  float64\n",
      " 64  RB                   15952 non-null  float64\n",
      " 65  RCB                  15952 non-null  float64\n",
      " 66  RCM                  15952 non-null  float64\n",
      " 67  RDM                  15952 non-null  float64\n",
      " 68  RF                   15952 non-null  float64\n",
      " 69  RM                   15952 non-null  float64\n",
      " 70  RS                   15952 non-null  float64\n",
      " 71  RW                   15952 non-null  float64\n",
      " 72  RWB                  15952 non-null  float64\n",
      " 73  ST                   15952 non-null  float64\n",
      "dtypes: float64(60), int64(7), object(7)\n",
      "memory usage: 10.2+ MB\n"
     ]
    }
   ],
   "source": [
    "df.info()"
   ],
   "metadata": {
    "collapsed": false
   }
  },
  {
   "cell_type": "markdown",
   "source": [
    "Import the augmented df from __[Kaggle](https://www.kaggle.com/datasets/kevinmh/fifa-18-more-complete-player-dataset?resource=download)__. The motivation for this step is found in the report."
   ],
   "metadata": {
    "collapsed": false
   }
  },
  {
   "cell_type": "code",
   "execution_count": 8,
   "outputs": [
    {
     "data": {
      "text/plain": "           ID               name                     full_name  \\\n0       20801  Cristiano Ronaldo  C. Ronaldo dos Santos Aveiro   \n1      158023           L. Messi                  Lionel Messi   \n2      190871             Neymar    Neymar da Silva Santos Jr.   \n3      176580          L. Suárez                   Luis Suárez   \n4      167495           M. Neuer                  Manuel Neuer   \n...       ...                ...                           ...   \n17989  237463          A. Kelsey                   Adam Kelsey   \n17990   11728      B. Richardson              Barry Richardson   \n17991  231381           J. Young                  Jordan Young   \n17992  238813       J. Lundstram                Josh Lundstram   \n17993  238308          L. Sackey                 Leslie Sackey   \n\n                      club                                 club_logo  special  \\\n0           Real Madrid CF   https://cdn.sofifa.org/18/teams/243.png     2228   \n1             FC Barcelona   https://cdn.sofifa.org/18/teams/241.png     2158   \n2      Paris Saint-Germain    https://cdn.sofifa.org/18/teams/73.png     2100   \n3             FC Barcelona   https://cdn.sofifa.org/18/teams/241.png     2291   \n4         FC Bayern Munich    https://cdn.sofifa.org/18/teams/21.png     1493   \n...                    ...                                       ...      ...   \n17989    Scunthorpe United  https://cdn.sofifa.org/18/teams/1949.png      755   \n17990    Wycombe Wanderers  https://cdn.sofifa.org/18/teams/1933.png      832   \n17991         Swindon Town  https://cdn.sofifa.org/18/teams/1934.png     1194   \n17992      Crewe Alexandra   https://cdn.sofifa.org/18/teams/121.png     1302   \n17993    Scunthorpe United  https://cdn.sofifa.org/18/teams/1949.png     1031   \n\n       age                    league  birth_date  height_cm  ...  prefers_cb  \\\n0       32  Spanish Primera División  1985-02-05      185.0  ...       False   \n1       30  Spanish Primera División  1987-06-24      170.0  ...       False   \n2       25            French Ligue 1  1992-02-05      175.0  ...       False   \n3       30  Spanish Primera División  1987-01-24      182.0  ...       False   \n4       31         German Bundesliga  1986-03-27      193.0  ...       False   \n...    ...                       ...         ...        ...  ...         ...   \n17989   17        English League One  1999-11-12      188.0  ...       False   \n17990   47        English League Two  1969-08-05      185.0  ...       False   \n17991   17        English League Two  1999-07-31      175.0  ...       False   \n17992   18        English League Two  1999-02-19      176.0  ...       False   \n17993   18        English League One  1998-11-29      182.0  ...        True   \n\n      prefers_lb  prefers_lwb prefers_ls prefers_lf prefers_lam  prefers_lcm  \\\n0          False        False      False      False       False        False   \n1          False        False      False      False       False        False   \n2          False        False      False      False       False        False   \n3          False        False      False      False       False        False   \n4          False        False      False      False       False        False   \n...          ...          ...        ...        ...         ...          ...   \n17989      False        False      False      False       False        False   \n17990      False        False      False      False       False        False   \n17991      False        False      False      False       False        False   \n17992      False        False      False      False       False        False   \n17993      False        False      False      False       False        False   \n\n       prefers_ldm  prefers_lcb  prefers_gk  \n0            False        False       False  \n1            False        False       False  \n2            False        False       False  \n3            False        False       False  \n4            False        False        True  \n...            ...          ...         ...  \n17989        False        False        True  \n17990        False        False        True  \n17991        False        False       False  \n17992        False        False       False  \n17993        False        False       False  \n\n[17994 rows x 185 columns]",
      "text/html": "<div>\n<style scoped>\n    .dataframe tbody tr th:only-of-type {\n        vertical-align: middle;\n    }\n\n    .dataframe tbody tr th {\n        vertical-align: top;\n    }\n\n    .dataframe thead th {\n        text-align: right;\n    }\n</style>\n<table border=\"1\" class=\"dataframe\">\n  <thead>\n    <tr style=\"text-align: right;\">\n      <th></th>\n      <th>ID</th>\n      <th>name</th>\n      <th>full_name</th>\n      <th>club</th>\n      <th>club_logo</th>\n      <th>special</th>\n      <th>age</th>\n      <th>league</th>\n      <th>birth_date</th>\n      <th>height_cm</th>\n      <th>...</th>\n      <th>prefers_cb</th>\n      <th>prefers_lb</th>\n      <th>prefers_lwb</th>\n      <th>prefers_ls</th>\n      <th>prefers_lf</th>\n      <th>prefers_lam</th>\n      <th>prefers_lcm</th>\n      <th>prefers_ldm</th>\n      <th>prefers_lcb</th>\n      <th>prefers_gk</th>\n    </tr>\n  </thead>\n  <tbody>\n    <tr>\n      <th>0</th>\n      <td>20801</td>\n      <td>Cristiano Ronaldo</td>\n      <td>C. Ronaldo dos Santos Aveiro</td>\n      <td>Real Madrid CF</td>\n      <td>https://cdn.sofifa.org/18/teams/243.png</td>\n      <td>2228</td>\n      <td>32</td>\n      <td>Spanish Primera División</td>\n      <td>1985-02-05</td>\n      <td>185.0</td>\n      <td>...</td>\n      <td>False</td>\n      <td>False</td>\n      <td>False</td>\n      <td>False</td>\n      <td>False</td>\n      <td>False</td>\n      <td>False</td>\n      <td>False</td>\n      <td>False</td>\n      <td>False</td>\n    </tr>\n    <tr>\n      <th>1</th>\n      <td>158023</td>\n      <td>L. Messi</td>\n      <td>Lionel Messi</td>\n      <td>FC Barcelona</td>\n      <td>https://cdn.sofifa.org/18/teams/241.png</td>\n      <td>2158</td>\n      <td>30</td>\n      <td>Spanish Primera División</td>\n      <td>1987-06-24</td>\n      <td>170.0</td>\n      <td>...</td>\n      <td>False</td>\n      <td>False</td>\n      <td>False</td>\n      <td>False</td>\n      <td>False</td>\n      <td>False</td>\n      <td>False</td>\n      <td>False</td>\n      <td>False</td>\n      <td>False</td>\n    </tr>\n    <tr>\n      <th>2</th>\n      <td>190871</td>\n      <td>Neymar</td>\n      <td>Neymar da Silva Santos Jr.</td>\n      <td>Paris Saint-Germain</td>\n      <td>https://cdn.sofifa.org/18/teams/73.png</td>\n      <td>2100</td>\n      <td>25</td>\n      <td>French Ligue 1</td>\n      <td>1992-02-05</td>\n      <td>175.0</td>\n      <td>...</td>\n      <td>False</td>\n      <td>False</td>\n      <td>False</td>\n      <td>False</td>\n      <td>False</td>\n      <td>False</td>\n      <td>False</td>\n      <td>False</td>\n      <td>False</td>\n      <td>False</td>\n    </tr>\n    <tr>\n      <th>3</th>\n      <td>176580</td>\n      <td>L. Suárez</td>\n      <td>Luis Suárez</td>\n      <td>FC Barcelona</td>\n      <td>https://cdn.sofifa.org/18/teams/241.png</td>\n      <td>2291</td>\n      <td>30</td>\n      <td>Spanish Primera División</td>\n      <td>1987-01-24</td>\n      <td>182.0</td>\n      <td>...</td>\n      <td>False</td>\n      <td>False</td>\n      <td>False</td>\n      <td>False</td>\n      <td>False</td>\n      <td>False</td>\n      <td>False</td>\n      <td>False</td>\n      <td>False</td>\n      <td>False</td>\n    </tr>\n    <tr>\n      <th>4</th>\n      <td>167495</td>\n      <td>M. Neuer</td>\n      <td>Manuel Neuer</td>\n      <td>FC Bayern Munich</td>\n      <td>https://cdn.sofifa.org/18/teams/21.png</td>\n      <td>1493</td>\n      <td>31</td>\n      <td>German Bundesliga</td>\n      <td>1986-03-27</td>\n      <td>193.0</td>\n      <td>...</td>\n      <td>False</td>\n      <td>False</td>\n      <td>False</td>\n      <td>False</td>\n      <td>False</td>\n      <td>False</td>\n      <td>False</td>\n      <td>False</td>\n      <td>False</td>\n      <td>True</td>\n    </tr>\n    <tr>\n      <th>...</th>\n      <td>...</td>\n      <td>...</td>\n      <td>...</td>\n      <td>...</td>\n      <td>...</td>\n      <td>...</td>\n      <td>...</td>\n      <td>...</td>\n      <td>...</td>\n      <td>...</td>\n      <td>...</td>\n      <td>...</td>\n      <td>...</td>\n      <td>...</td>\n      <td>...</td>\n      <td>...</td>\n      <td>...</td>\n      <td>...</td>\n      <td>...</td>\n      <td>...</td>\n      <td>...</td>\n    </tr>\n    <tr>\n      <th>17989</th>\n      <td>237463</td>\n      <td>A. Kelsey</td>\n      <td>Adam Kelsey</td>\n      <td>Scunthorpe United</td>\n      <td>https://cdn.sofifa.org/18/teams/1949.png</td>\n      <td>755</td>\n      <td>17</td>\n      <td>English League One</td>\n      <td>1999-11-12</td>\n      <td>188.0</td>\n      <td>...</td>\n      <td>False</td>\n      <td>False</td>\n      <td>False</td>\n      <td>False</td>\n      <td>False</td>\n      <td>False</td>\n      <td>False</td>\n      <td>False</td>\n      <td>False</td>\n      <td>True</td>\n    </tr>\n    <tr>\n      <th>17990</th>\n      <td>11728</td>\n      <td>B. Richardson</td>\n      <td>Barry Richardson</td>\n      <td>Wycombe Wanderers</td>\n      <td>https://cdn.sofifa.org/18/teams/1933.png</td>\n      <td>832</td>\n      <td>47</td>\n      <td>English League Two</td>\n      <td>1969-08-05</td>\n      <td>185.0</td>\n      <td>...</td>\n      <td>False</td>\n      <td>False</td>\n      <td>False</td>\n      <td>False</td>\n      <td>False</td>\n      <td>False</td>\n      <td>False</td>\n      <td>False</td>\n      <td>False</td>\n      <td>True</td>\n    </tr>\n    <tr>\n      <th>17991</th>\n      <td>231381</td>\n      <td>J. Young</td>\n      <td>Jordan Young</td>\n      <td>Swindon Town</td>\n      <td>https://cdn.sofifa.org/18/teams/1934.png</td>\n      <td>1194</td>\n      <td>17</td>\n      <td>English League Two</td>\n      <td>1999-07-31</td>\n      <td>175.0</td>\n      <td>...</td>\n      <td>False</td>\n      <td>False</td>\n      <td>False</td>\n      <td>False</td>\n      <td>False</td>\n      <td>False</td>\n      <td>False</td>\n      <td>False</td>\n      <td>False</td>\n      <td>False</td>\n    </tr>\n    <tr>\n      <th>17992</th>\n      <td>238813</td>\n      <td>J. Lundstram</td>\n      <td>Josh Lundstram</td>\n      <td>Crewe Alexandra</td>\n      <td>https://cdn.sofifa.org/18/teams/121.png</td>\n      <td>1302</td>\n      <td>18</td>\n      <td>English League Two</td>\n      <td>1999-02-19</td>\n      <td>176.0</td>\n      <td>...</td>\n      <td>False</td>\n      <td>False</td>\n      <td>False</td>\n      <td>False</td>\n      <td>False</td>\n      <td>False</td>\n      <td>False</td>\n      <td>False</td>\n      <td>False</td>\n      <td>False</td>\n    </tr>\n    <tr>\n      <th>17993</th>\n      <td>238308</td>\n      <td>L. Sackey</td>\n      <td>Leslie Sackey</td>\n      <td>Scunthorpe United</td>\n      <td>https://cdn.sofifa.org/18/teams/1949.png</td>\n      <td>1031</td>\n      <td>18</td>\n      <td>English League One</td>\n      <td>1998-11-29</td>\n      <td>182.0</td>\n      <td>...</td>\n      <td>True</td>\n      <td>False</td>\n      <td>False</td>\n      <td>False</td>\n      <td>False</td>\n      <td>False</td>\n      <td>False</td>\n      <td>False</td>\n      <td>False</td>\n      <td>False</td>\n    </tr>\n  </tbody>\n</table>\n<p>17994 rows × 185 columns</p>\n</div>"
     },
     "execution_count": 8,
     "metadata": {},
     "output_type": "execute_result"
    }
   ],
   "source": [
    "df1 = pd.read_csv(\"complete.csv\")\n",
    "df1"
   ],
   "metadata": {
    "collapsed": false
   }
  },
  {
   "cell_type": "code",
   "execution_count": 10,
   "outputs": [
    {
     "name": "stdout",
     "output_type": "stream",
     "text": [
      "<class 'pandas.core.frame.DataFrame'>\n",
      "RangeIndex: 17994 entries, 0 to 17993\n",
      "Columns: 185 entries, ID to prefers_gk\n",
      "dtypes: bool(92), float64(32), int64(48), object(13)\n",
      "memory usage: 14.3+ MB\n"
     ]
    }
   ],
   "source": [
    "df1.info()"
   ],
   "metadata": {
    "collapsed": false
   }
  },
  {
   "cell_type": "code",
   "execution_count": 11,
   "outputs": [
    {
     "data": {
      "text/plain": "Index(['ID', 'name', 'full_name', 'club', 'club_logo', 'special', 'age',\n       'league', 'birth_date', 'height_cm',\n       ...\n       'prefers_cb', 'prefers_lb', 'prefers_lwb', 'prefers_ls', 'prefers_lf',\n       'prefers_lam', 'prefers_lcm', 'prefers_ldm', 'prefers_lcb',\n       'prefers_gk'],\n      dtype='object', length=185)"
     },
     "execution_count": 11,
     "metadata": {},
     "output_type": "execute_result"
    }
   ],
   "source": [
    "df1.columns"
   ],
   "metadata": {
    "collapsed": false
   }
  },
  {
   "cell_type": "code",
   "execution_count": 12,
   "outputs": [],
   "source": [
    "df2 = df1[['league', 'birth_date', 'height_cm', 'weight_kg', 'eur_release_clause', 'weak_foot', 'preferred_foot', 'photo']]"
   ],
   "metadata": {
    "collapsed": false
   }
  },
  {
   "cell_type": "code",
   "execution_count": 26,
   "outputs": [],
   "source": [
    "df2.to_csv('fifa18_to-merge.csv')"
   ],
   "metadata": {
    "collapsed": false
   }
  },
  {
   "cell_type": "code",
   "execution_count": 13,
   "outputs": [
    {
     "name": "stdout",
     "output_type": "stream",
     "text": [
      "<class 'pandas.core.frame.DataFrame'>\n",
      "RangeIndex: 17994 entries, 0 to 17993\n",
      "Data columns (total 8 columns):\n",
      " #   Column              Non-Null Count  Dtype  \n",
      "---  ------              --------------  -----  \n",
      " 0   league              17741 non-null  object \n",
      " 1   birth_date          17994 non-null  object \n",
      " 2   height_cm           17994 non-null  float64\n",
      " 3   weight_kg           17994 non-null  float64\n",
      " 4   eur_release_clause  16500 non-null  float64\n",
      " 5   weak_foot           17994 non-null  int64  \n",
      " 6   preferred_foot      17994 non-null  object \n",
      " 7   photo               17994 non-null  object \n",
      "dtypes: float64(3), int64(1), object(4)\n",
      "memory usage: 1.1+ MB\n"
     ]
    }
   ],
   "source": [
    "df2.info()"
   ],
   "metadata": {
    "collapsed": false
   }
  },
  {
   "cell_type": "markdown",
   "source": [
    "### Preprocessing\n",
    "We slightly preprocess the dataframes to allow to merge them"
   ],
   "metadata": {
    "collapsed": false
   }
  },
  {
   "cell_type": "code",
   "execution_count": 14,
   "outputs": [],
   "source": [
    "df2 = df2.rename(columns={'photo': 'Photo'})"
   ],
   "metadata": {
    "collapsed": false
   }
  },
  {
   "cell_type": "code",
   "execution_count": 25,
   "outputs": [
    {
     "data": {
      "text/plain": "   Wage (€)  Value (€)               Name  Age  \\\n0    565000   95500000  Cristiano Ronaldo   32   \n1    565000  105000000           L. Messi   30   \n2    280000  123000000             Neymar   25   \n3    510000   97000000          L. Suárez   30   \n4    230000   61000000           M. Neuer   31   \n\n                                             Photo Nationality  \\\n0   https://cdn.sofifa.org/48/18/players/20801.png    Portugal   \n1  https://cdn.sofifa.org/48/18/players/158023.png   Argentina   \n2  https://cdn.sofifa.org/48/18/players/190871.png      Brazil   \n3  https://cdn.sofifa.org/48/18/players/176580.png     Uruguay   \n4  https://cdn.sofifa.org/48/18/players/167495.png     Germany   \n\n                                  Flag  Overall  Potential  \\\n0  https://cdn.sofifa.org/flags/38.png       94         94   \n1  https://cdn.sofifa.org/flags/52.png       93         93   \n2  https://cdn.sofifa.org/flags/54.png       92         94   \n3  https://cdn.sofifa.org/flags/60.png       92         92   \n4  https://cdn.sofifa.org/flags/21.png       92         92   \n\n                  Club  ...    RB   RCB   RCM   RDM    RF    RM    RS    RW  \\\n0       Real Madrid CF  ...  61.0  53.0  82.0  62.0  91.0  89.0  92.0  91.0   \n1         FC Barcelona  ...  57.0  45.0  84.0  59.0  92.0  90.0  88.0  91.0   \n2  Paris Saint-Germain  ...  59.0  46.0  79.0  59.0  88.0  87.0  84.0  89.0   \n3         FC Barcelona  ...  64.0  58.0  80.0  65.0  88.0  85.0  88.0  87.0   \n4     FC Bayern Munich  ...   NaN   NaN   NaN   NaN   NaN   NaN   NaN   NaN   \n\n    RWB    ST  \n0  66.0  92.0  \n1  62.0  88.0  \n2  64.0  84.0  \n3  68.0  88.0  \n4   NaN   NaN  \n\n[5 rows x 74 columns]",
      "text/html": "<div>\n<style scoped>\n    .dataframe tbody tr th:only-of-type {\n        vertical-align: middle;\n    }\n\n    .dataframe tbody tr th {\n        vertical-align: top;\n    }\n\n    .dataframe thead th {\n        text-align: right;\n    }\n</style>\n<table border=\"1\" class=\"dataframe\">\n  <thead>\n    <tr style=\"text-align: right;\">\n      <th></th>\n      <th>Wage (€)</th>\n      <th>Value (€)</th>\n      <th>Name</th>\n      <th>Age</th>\n      <th>Photo</th>\n      <th>Nationality</th>\n      <th>Flag</th>\n      <th>Overall</th>\n      <th>Potential</th>\n      <th>Club</th>\n      <th>...</th>\n      <th>RB</th>\n      <th>RCB</th>\n      <th>RCM</th>\n      <th>RDM</th>\n      <th>RF</th>\n      <th>RM</th>\n      <th>RS</th>\n      <th>RW</th>\n      <th>RWB</th>\n      <th>ST</th>\n    </tr>\n  </thead>\n  <tbody>\n    <tr>\n      <th>0</th>\n      <td>565000</td>\n      <td>95500000</td>\n      <td>Cristiano Ronaldo</td>\n      <td>32</td>\n      <td>https://cdn.sofifa.org/48/18/players/20801.png</td>\n      <td>Portugal</td>\n      <td>https://cdn.sofifa.org/flags/38.png</td>\n      <td>94</td>\n      <td>94</td>\n      <td>Real Madrid CF</td>\n      <td>...</td>\n      <td>61.0</td>\n      <td>53.0</td>\n      <td>82.0</td>\n      <td>62.0</td>\n      <td>91.0</td>\n      <td>89.0</td>\n      <td>92.0</td>\n      <td>91.0</td>\n      <td>66.0</td>\n      <td>92.0</td>\n    </tr>\n    <tr>\n      <th>1</th>\n      <td>565000</td>\n      <td>105000000</td>\n      <td>L. Messi</td>\n      <td>30</td>\n      <td>https://cdn.sofifa.org/48/18/players/158023.png</td>\n      <td>Argentina</td>\n      <td>https://cdn.sofifa.org/flags/52.png</td>\n      <td>93</td>\n      <td>93</td>\n      <td>FC Barcelona</td>\n      <td>...</td>\n      <td>57.0</td>\n      <td>45.0</td>\n      <td>84.0</td>\n      <td>59.0</td>\n      <td>92.0</td>\n      <td>90.0</td>\n      <td>88.0</td>\n      <td>91.0</td>\n      <td>62.0</td>\n      <td>88.0</td>\n    </tr>\n    <tr>\n      <th>2</th>\n      <td>280000</td>\n      <td>123000000</td>\n      <td>Neymar</td>\n      <td>25</td>\n      <td>https://cdn.sofifa.org/48/18/players/190871.png</td>\n      <td>Brazil</td>\n      <td>https://cdn.sofifa.org/flags/54.png</td>\n      <td>92</td>\n      <td>94</td>\n      <td>Paris Saint-Germain</td>\n      <td>...</td>\n      <td>59.0</td>\n      <td>46.0</td>\n      <td>79.0</td>\n      <td>59.0</td>\n      <td>88.0</td>\n      <td>87.0</td>\n      <td>84.0</td>\n      <td>89.0</td>\n      <td>64.0</td>\n      <td>84.0</td>\n    </tr>\n    <tr>\n      <th>3</th>\n      <td>510000</td>\n      <td>97000000</td>\n      <td>L. Suárez</td>\n      <td>30</td>\n      <td>https://cdn.sofifa.org/48/18/players/176580.png</td>\n      <td>Uruguay</td>\n      <td>https://cdn.sofifa.org/flags/60.png</td>\n      <td>92</td>\n      <td>92</td>\n      <td>FC Barcelona</td>\n      <td>...</td>\n      <td>64.0</td>\n      <td>58.0</td>\n      <td>80.0</td>\n      <td>65.0</td>\n      <td>88.0</td>\n      <td>85.0</td>\n      <td>88.0</td>\n      <td>87.0</td>\n      <td>68.0</td>\n      <td>88.0</td>\n    </tr>\n    <tr>\n      <th>4</th>\n      <td>230000</td>\n      <td>61000000</td>\n      <td>M. Neuer</td>\n      <td>31</td>\n      <td>https://cdn.sofifa.org/48/18/players/167495.png</td>\n      <td>Germany</td>\n      <td>https://cdn.sofifa.org/flags/21.png</td>\n      <td>92</td>\n      <td>92</td>\n      <td>FC Bayern Munich</td>\n      <td>...</td>\n      <td>NaN</td>\n      <td>NaN</td>\n      <td>NaN</td>\n      <td>NaN</td>\n      <td>NaN</td>\n      <td>NaN</td>\n      <td>NaN</td>\n      <td>NaN</td>\n      <td>NaN</td>\n      <td>NaN</td>\n    </tr>\n  </tbody>\n</table>\n<p>5 rows × 74 columns</p>\n</div>"
     },
     "execution_count": 25,
     "metadata": {},
     "output_type": "execute_result"
    }
   ],
   "source": [
    "df.head()"
   ],
   "metadata": {
    "collapsed": false
   }
  },
  {
   "cell_type": "code",
   "execution_count": 15,
   "outputs": [
    {
     "data": {
      "text/plain": "                     league  birth_date  height_cm  weight_kg  \\\n0  Spanish Primera División  1985-02-05      185.0       80.0   \n1  Spanish Primera División  1987-06-24      170.0       72.0   \n2            French Ligue 1  1992-02-05      175.0       68.0   \n3  Spanish Primera División  1987-01-24      182.0       86.0   \n4         German Bundesliga  1986-03-27      193.0       92.0   \n\n   eur_release_clause  weak_foot preferred_foot  \\\n0         195800000.0          4          Right   \n1         215300000.0          4           Left   \n2         236800000.0          5          Right   \n3         198900000.0          4          Right   \n4         100700000.0          4          Right   \n\n                                          Photo  \n0   https://cdn.sofifa.org/18/players/20801.png  \n1  https://cdn.sofifa.org/18/players/158023.png  \n2  https://cdn.sofifa.org/18/players/190871.png  \n3  https://cdn.sofifa.org/18/players/176580.png  \n4  https://cdn.sofifa.org/18/players/167495.png  ",
      "text/html": "<div>\n<style scoped>\n    .dataframe tbody tr th:only-of-type {\n        vertical-align: middle;\n    }\n\n    .dataframe tbody tr th {\n        vertical-align: top;\n    }\n\n    .dataframe thead th {\n        text-align: right;\n    }\n</style>\n<table border=\"1\" class=\"dataframe\">\n  <thead>\n    <tr style=\"text-align: right;\">\n      <th></th>\n      <th>league</th>\n      <th>birth_date</th>\n      <th>height_cm</th>\n      <th>weight_kg</th>\n      <th>eur_release_clause</th>\n      <th>weak_foot</th>\n      <th>preferred_foot</th>\n      <th>Photo</th>\n    </tr>\n  </thead>\n  <tbody>\n    <tr>\n      <th>0</th>\n      <td>Spanish Primera División</td>\n      <td>1985-02-05</td>\n      <td>185.0</td>\n      <td>80.0</td>\n      <td>195800000.0</td>\n      <td>4</td>\n      <td>Right</td>\n      <td>https://cdn.sofifa.org/18/players/20801.png</td>\n    </tr>\n    <tr>\n      <th>1</th>\n      <td>Spanish Primera División</td>\n      <td>1987-06-24</td>\n      <td>170.0</td>\n      <td>72.0</td>\n      <td>215300000.0</td>\n      <td>4</td>\n      <td>Left</td>\n      <td>https://cdn.sofifa.org/18/players/158023.png</td>\n    </tr>\n    <tr>\n      <th>2</th>\n      <td>French Ligue 1</td>\n      <td>1992-02-05</td>\n      <td>175.0</td>\n      <td>68.0</td>\n      <td>236800000.0</td>\n      <td>5</td>\n      <td>Right</td>\n      <td>https://cdn.sofifa.org/18/players/190871.png</td>\n    </tr>\n    <tr>\n      <th>3</th>\n      <td>Spanish Primera División</td>\n      <td>1987-01-24</td>\n      <td>182.0</td>\n      <td>86.0</td>\n      <td>198900000.0</td>\n      <td>4</td>\n      <td>Right</td>\n      <td>https://cdn.sofifa.org/18/players/176580.png</td>\n    </tr>\n    <tr>\n      <th>4</th>\n      <td>German Bundesliga</td>\n      <td>1986-03-27</td>\n      <td>193.0</td>\n      <td>92.0</td>\n      <td>100700000.0</td>\n      <td>4</td>\n      <td>Right</td>\n      <td>https://cdn.sofifa.org/18/players/167495.png</td>\n    </tr>\n  </tbody>\n</table>\n</div>"
     },
     "execution_count": 15,
     "metadata": {},
     "output_type": "execute_result"
    }
   ],
   "source": [
    "df2.head()"
   ],
   "metadata": {
    "collapsed": false
   }
  },
  {
   "cell_type": "code",
   "execution_count": 16,
   "outputs": [],
   "source": [
    "def insert_48(column_value):\n",
    "    return column_value.replace('cdn.sofifa.org/18/', 'cdn.sofifa.org/48/18/')\n",
    "\n",
    "# Apply the function to every entry in the column\n",
    "df2['Photo'] = df2['Photo'].apply(insert_48)"
   ],
   "metadata": {
    "collapsed": false
   }
  },
  {
   "cell_type": "code",
   "execution_count": 17,
   "outputs": [
    {
     "data": {
      "text/plain": "                     league  birth_date  height_cm  weight_kg  \\\n0  Spanish Primera División  1985-02-05      185.0       80.0   \n1  Spanish Primera División  1987-06-24      170.0       72.0   \n2            French Ligue 1  1992-02-05      175.0       68.0   \n3  Spanish Primera División  1987-01-24      182.0       86.0   \n4         German Bundesliga  1986-03-27      193.0       92.0   \n\n   eur_release_clause  weak_foot preferred_foot  \\\n0         195800000.0          4          Right   \n1         215300000.0          4           Left   \n2         236800000.0          5          Right   \n3         198900000.0          4          Right   \n4         100700000.0          4          Right   \n\n                                             Photo  \n0   https://cdn.sofifa.org/48/18/players/20801.png  \n1  https://cdn.sofifa.org/48/18/players/158023.png  \n2  https://cdn.sofifa.org/48/18/players/190871.png  \n3  https://cdn.sofifa.org/48/18/players/176580.png  \n4  https://cdn.sofifa.org/48/18/players/167495.png  ",
      "text/html": "<div>\n<style scoped>\n    .dataframe tbody tr th:only-of-type {\n        vertical-align: middle;\n    }\n\n    .dataframe tbody tr th {\n        vertical-align: top;\n    }\n\n    .dataframe thead th {\n        text-align: right;\n    }\n</style>\n<table border=\"1\" class=\"dataframe\">\n  <thead>\n    <tr style=\"text-align: right;\">\n      <th></th>\n      <th>league</th>\n      <th>birth_date</th>\n      <th>height_cm</th>\n      <th>weight_kg</th>\n      <th>eur_release_clause</th>\n      <th>weak_foot</th>\n      <th>preferred_foot</th>\n      <th>Photo</th>\n    </tr>\n  </thead>\n  <tbody>\n    <tr>\n      <th>0</th>\n      <td>Spanish Primera División</td>\n      <td>1985-02-05</td>\n      <td>185.0</td>\n      <td>80.0</td>\n      <td>195800000.0</td>\n      <td>4</td>\n      <td>Right</td>\n      <td>https://cdn.sofifa.org/48/18/players/20801.png</td>\n    </tr>\n    <tr>\n      <th>1</th>\n      <td>Spanish Primera División</td>\n      <td>1987-06-24</td>\n      <td>170.0</td>\n      <td>72.0</td>\n      <td>215300000.0</td>\n      <td>4</td>\n      <td>Left</td>\n      <td>https://cdn.sofifa.org/48/18/players/158023.png</td>\n    </tr>\n    <tr>\n      <th>2</th>\n      <td>French Ligue 1</td>\n      <td>1992-02-05</td>\n      <td>175.0</td>\n      <td>68.0</td>\n      <td>236800000.0</td>\n      <td>5</td>\n      <td>Right</td>\n      <td>https://cdn.sofifa.org/48/18/players/190871.png</td>\n    </tr>\n    <tr>\n      <th>3</th>\n      <td>Spanish Primera División</td>\n      <td>1987-01-24</td>\n      <td>182.0</td>\n      <td>86.0</td>\n      <td>198900000.0</td>\n      <td>4</td>\n      <td>Right</td>\n      <td>https://cdn.sofifa.org/48/18/players/176580.png</td>\n    </tr>\n    <tr>\n      <th>4</th>\n      <td>German Bundesliga</td>\n      <td>1986-03-27</td>\n      <td>193.0</td>\n      <td>92.0</td>\n      <td>100700000.0</td>\n      <td>4</td>\n      <td>Right</td>\n      <td>https://cdn.sofifa.org/48/18/players/167495.png</td>\n    </tr>\n  </tbody>\n</table>\n</div>"
     },
     "execution_count": 17,
     "metadata": {},
     "output_type": "execute_result"
    }
   ],
   "source": [
    "df2.head()"
   ],
   "metadata": {
    "collapsed": false
   }
  },
  {
   "cell_type": "markdown",
   "source": [
    "### Merging"
   ],
   "metadata": {
    "collapsed": false
   }
  },
  {
   "cell_type": "code",
   "execution_count": 18,
   "outputs": [],
   "source": [
    "merged_df = pd.merge(df, df2, on='Photo', how='inner')"
   ],
   "metadata": {
    "collapsed": false
   }
  },
  {
   "cell_type": "code",
   "execution_count": 19,
   "outputs": [
    {
     "data": {
      "text/plain": "       Wage (€)  Value (€)               Name  Age  \\\n0        565000   95500000  Cristiano Ronaldo   32   \n1        565000  105000000           L. Messi   30   \n2        280000  123000000             Neymar   25   \n3        510000   97000000          L. Suárez   30   \n4        230000   61000000           M. Neuer   31   \n...         ...        ...                ...  ...   \n17734      1000      50000          A. Kelsey   17   \n17735      1000          0      B. Richardson   47   \n17736      1000      60000           J. Young   17   \n17737      1000      60000       J. Lundstram   18   \n17738      1000      50000          L. Sackey   18   \n\n                                                 Photo Nationality  \\\n0       https://cdn.sofifa.org/48/18/players/20801.png    Portugal   \n1      https://cdn.sofifa.org/48/18/players/158023.png   Argentina   \n2      https://cdn.sofifa.org/48/18/players/190871.png      Brazil   \n3      https://cdn.sofifa.org/48/18/players/176580.png     Uruguay   \n4      https://cdn.sofifa.org/48/18/players/167495.png     Germany   \n...                                                ...         ...   \n17734  https://cdn.sofifa.org/48/18/players/237463.png     England   \n17735   https://cdn.sofifa.org/48/18/players/11728.png     England   \n17736  https://cdn.sofifa.org/48/18/players/231381.png    Scotland   \n17737  https://cdn.sofifa.org/48/18/players/238813.png     England   \n17738  https://cdn.sofifa.org/48/18/players/238308.png       Ghana   \n\n                                       Flag  Overall  Potential  \\\n0       https://cdn.sofifa.org/flags/38.png       94         94   \n1       https://cdn.sofifa.org/flags/52.png       93         93   \n2       https://cdn.sofifa.org/flags/54.png       92         94   \n3       https://cdn.sofifa.org/flags/60.png       92         92   \n4       https://cdn.sofifa.org/flags/21.png       92         92   \n...                                     ...      ...        ...   \n17734   https://cdn.sofifa.org/flags/14.png       46         63   \n17735   https://cdn.sofifa.org/flags/14.png       46         46   \n17736   https://cdn.sofifa.org/flags/42.png       46         61   \n17737   https://cdn.sofifa.org/flags/14.png       46         64   \n17738  https://cdn.sofifa.org/flags/117.png       46         64   \n\n                      Club  ...    RW   RWB    ST                    league  \\\n0           Real Madrid CF  ...  91.0  66.0  92.0  Spanish Primera División   \n1             FC Barcelona  ...  91.0  62.0  88.0  Spanish Primera División   \n2      Paris Saint-Germain  ...  89.0  64.0  84.0            French Ligue 1   \n3             FC Barcelona  ...  87.0  68.0  88.0  Spanish Primera División   \n4         FC Bayern Munich  ...   NaN   NaN   NaN         German Bundesliga   \n...                    ...  ...   ...   ...   ...                       ...   \n17734    Scunthorpe United  ...   NaN   NaN   NaN        English League One   \n17735    Wycombe Wanderers  ...   NaN   NaN   NaN        English League Two   \n17736         Swindon Town  ...  44.0  32.0  45.0        English League Two   \n17737      Crewe Alexandra  ...  44.0  46.0  41.0        English League Two   \n17738    Scunthorpe United  ...  29.0  38.0  31.0        English League One   \n\n       birth_date  height_cm  weight_kg  eur_release_clause  weak_foot  \\\n0      1985-02-05      185.0       80.0         195800000.0          4   \n1      1987-06-24      170.0       72.0         215300000.0          4   \n2      1992-02-05      175.0       68.0         236800000.0          5   \n3      1987-01-24      182.0       86.0         198900000.0          4   \n4      1986-03-27      193.0       92.0         100700000.0          4   \n...           ...        ...        ...                 ...        ...   \n17734  1999-11-12      188.0       74.0            119000.0          2   \n17735  1969-08-05      185.0       77.0                 NaN          2   \n17736  1999-07-31      175.0       71.0            143000.0          2   \n17737  1999-02-19      176.0       61.0            143000.0          2   \n17738  1998-11-29      182.0       72.0            119000.0          3   \n\n       preferred_foot  \n0               Right  \n1                Left  \n2               Right  \n3               Right  \n4               Right  \n...               ...  \n17734           Right  \n17735           Right  \n17736            Left  \n17737           Right  \n17738            Left  \n\n[17739 rows x 81 columns]",
      "text/html": "<div>\n<style scoped>\n    .dataframe tbody tr th:only-of-type {\n        vertical-align: middle;\n    }\n\n    .dataframe tbody tr th {\n        vertical-align: top;\n    }\n\n    .dataframe thead th {\n        text-align: right;\n    }\n</style>\n<table border=\"1\" class=\"dataframe\">\n  <thead>\n    <tr style=\"text-align: right;\">\n      <th></th>\n      <th>Wage (€)</th>\n      <th>Value (€)</th>\n      <th>Name</th>\n      <th>Age</th>\n      <th>Photo</th>\n      <th>Nationality</th>\n      <th>Flag</th>\n      <th>Overall</th>\n      <th>Potential</th>\n      <th>Club</th>\n      <th>...</th>\n      <th>RW</th>\n      <th>RWB</th>\n      <th>ST</th>\n      <th>league</th>\n      <th>birth_date</th>\n      <th>height_cm</th>\n      <th>weight_kg</th>\n      <th>eur_release_clause</th>\n      <th>weak_foot</th>\n      <th>preferred_foot</th>\n    </tr>\n  </thead>\n  <tbody>\n    <tr>\n      <th>0</th>\n      <td>565000</td>\n      <td>95500000</td>\n      <td>Cristiano Ronaldo</td>\n      <td>32</td>\n      <td>https://cdn.sofifa.org/48/18/players/20801.png</td>\n      <td>Portugal</td>\n      <td>https://cdn.sofifa.org/flags/38.png</td>\n      <td>94</td>\n      <td>94</td>\n      <td>Real Madrid CF</td>\n      <td>...</td>\n      <td>91.0</td>\n      <td>66.0</td>\n      <td>92.0</td>\n      <td>Spanish Primera División</td>\n      <td>1985-02-05</td>\n      <td>185.0</td>\n      <td>80.0</td>\n      <td>195800000.0</td>\n      <td>4</td>\n      <td>Right</td>\n    </tr>\n    <tr>\n      <th>1</th>\n      <td>565000</td>\n      <td>105000000</td>\n      <td>L. Messi</td>\n      <td>30</td>\n      <td>https://cdn.sofifa.org/48/18/players/158023.png</td>\n      <td>Argentina</td>\n      <td>https://cdn.sofifa.org/flags/52.png</td>\n      <td>93</td>\n      <td>93</td>\n      <td>FC Barcelona</td>\n      <td>...</td>\n      <td>91.0</td>\n      <td>62.0</td>\n      <td>88.0</td>\n      <td>Spanish Primera División</td>\n      <td>1987-06-24</td>\n      <td>170.0</td>\n      <td>72.0</td>\n      <td>215300000.0</td>\n      <td>4</td>\n      <td>Left</td>\n    </tr>\n    <tr>\n      <th>2</th>\n      <td>280000</td>\n      <td>123000000</td>\n      <td>Neymar</td>\n      <td>25</td>\n      <td>https://cdn.sofifa.org/48/18/players/190871.png</td>\n      <td>Brazil</td>\n      <td>https://cdn.sofifa.org/flags/54.png</td>\n      <td>92</td>\n      <td>94</td>\n      <td>Paris Saint-Germain</td>\n      <td>...</td>\n      <td>89.0</td>\n      <td>64.0</td>\n      <td>84.0</td>\n      <td>French Ligue 1</td>\n      <td>1992-02-05</td>\n      <td>175.0</td>\n      <td>68.0</td>\n      <td>236800000.0</td>\n      <td>5</td>\n      <td>Right</td>\n    </tr>\n    <tr>\n      <th>3</th>\n      <td>510000</td>\n      <td>97000000</td>\n      <td>L. Suárez</td>\n      <td>30</td>\n      <td>https://cdn.sofifa.org/48/18/players/176580.png</td>\n      <td>Uruguay</td>\n      <td>https://cdn.sofifa.org/flags/60.png</td>\n      <td>92</td>\n      <td>92</td>\n      <td>FC Barcelona</td>\n      <td>...</td>\n      <td>87.0</td>\n      <td>68.0</td>\n      <td>88.0</td>\n      <td>Spanish Primera División</td>\n      <td>1987-01-24</td>\n      <td>182.0</td>\n      <td>86.0</td>\n      <td>198900000.0</td>\n      <td>4</td>\n      <td>Right</td>\n    </tr>\n    <tr>\n      <th>4</th>\n      <td>230000</td>\n      <td>61000000</td>\n      <td>M. Neuer</td>\n      <td>31</td>\n      <td>https://cdn.sofifa.org/48/18/players/167495.png</td>\n      <td>Germany</td>\n      <td>https://cdn.sofifa.org/flags/21.png</td>\n      <td>92</td>\n      <td>92</td>\n      <td>FC Bayern Munich</td>\n      <td>...</td>\n      <td>NaN</td>\n      <td>NaN</td>\n      <td>NaN</td>\n      <td>German Bundesliga</td>\n      <td>1986-03-27</td>\n      <td>193.0</td>\n      <td>92.0</td>\n      <td>100700000.0</td>\n      <td>4</td>\n      <td>Right</td>\n    </tr>\n    <tr>\n      <th>...</th>\n      <td>...</td>\n      <td>...</td>\n      <td>...</td>\n      <td>...</td>\n      <td>...</td>\n      <td>...</td>\n      <td>...</td>\n      <td>...</td>\n      <td>...</td>\n      <td>...</td>\n      <td>...</td>\n      <td>...</td>\n      <td>...</td>\n      <td>...</td>\n      <td>...</td>\n      <td>...</td>\n      <td>...</td>\n      <td>...</td>\n      <td>...</td>\n      <td>...</td>\n      <td>...</td>\n    </tr>\n    <tr>\n      <th>17734</th>\n      <td>1000</td>\n      <td>50000</td>\n      <td>A. Kelsey</td>\n      <td>17</td>\n      <td>https://cdn.sofifa.org/48/18/players/237463.png</td>\n      <td>England</td>\n      <td>https://cdn.sofifa.org/flags/14.png</td>\n      <td>46</td>\n      <td>63</td>\n      <td>Scunthorpe United</td>\n      <td>...</td>\n      <td>NaN</td>\n      <td>NaN</td>\n      <td>NaN</td>\n      <td>English League One</td>\n      <td>1999-11-12</td>\n      <td>188.0</td>\n      <td>74.0</td>\n      <td>119000.0</td>\n      <td>2</td>\n      <td>Right</td>\n    </tr>\n    <tr>\n      <th>17735</th>\n      <td>1000</td>\n      <td>0</td>\n      <td>B. Richardson</td>\n      <td>47</td>\n      <td>https://cdn.sofifa.org/48/18/players/11728.png</td>\n      <td>England</td>\n      <td>https://cdn.sofifa.org/flags/14.png</td>\n      <td>46</td>\n      <td>46</td>\n      <td>Wycombe Wanderers</td>\n      <td>...</td>\n      <td>NaN</td>\n      <td>NaN</td>\n      <td>NaN</td>\n      <td>English League Two</td>\n      <td>1969-08-05</td>\n      <td>185.0</td>\n      <td>77.0</td>\n      <td>NaN</td>\n      <td>2</td>\n      <td>Right</td>\n    </tr>\n    <tr>\n      <th>17736</th>\n      <td>1000</td>\n      <td>60000</td>\n      <td>J. Young</td>\n      <td>17</td>\n      <td>https://cdn.sofifa.org/48/18/players/231381.png</td>\n      <td>Scotland</td>\n      <td>https://cdn.sofifa.org/flags/42.png</td>\n      <td>46</td>\n      <td>61</td>\n      <td>Swindon Town</td>\n      <td>...</td>\n      <td>44.0</td>\n      <td>32.0</td>\n      <td>45.0</td>\n      <td>English League Two</td>\n      <td>1999-07-31</td>\n      <td>175.0</td>\n      <td>71.0</td>\n      <td>143000.0</td>\n      <td>2</td>\n      <td>Left</td>\n    </tr>\n    <tr>\n      <th>17737</th>\n      <td>1000</td>\n      <td>60000</td>\n      <td>J. Lundstram</td>\n      <td>18</td>\n      <td>https://cdn.sofifa.org/48/18/players/238813.png</td>\n      <td>England</td>\n      <td>https://cdn.sofifa.org/flags/14.png</td>\n      <td>46</td>\n      <td>64</td>\n      <td>Crewe Alexandra</td>\n      <td>...</td>\n      <td>44.0</td>\n      <td>46.0</td>\n      <td>41.0</td>\n      <td>English League Two</td>\n      <td>1999-02-19</td>\n      <td>176.0</td>\n      <td>61.0</td>\n      <td>143000.0</td>\n      <td>2</td>\n      <td>Right</td>\n    </tr>\n    <tr>\n      <th>17738</th>\n      <td>1000</td>\n      <td>50000</td>\n      <td>L. Sackey</td>\n      <td>18</td>\n      <td>https://cdn.sofifa.org/48/18/players/238308.png</td>\n      <td>Ghana</td>\n      <td>https://cdn.sofifa.org/flags/117.png</td>\n      <td>46</td>\n      <td>64</td>\n      <td>Scunthorpe United</td>\n      <td>...</td>\n      <td>29.0</td>\n      <td>38.0</td>\n      <td>31.0</td>\n      <td>English League One</td>\n      <td>1998-11-29</td>\n      <td>182.0</td>\n      <td>72.0</td>\n      <td>119000.0</td>\n      <td>3</td>\n      <td>Left</td>\n    </tr>\n  </tbody>\n</table>\n<p>17739 rows × 81 columns</p>\n</div>"
     },
     "execution_count": 19,
     "metadata": {},
     "output_type": "execute_result"
    }
   ],
   "source": [
    "merged_df"
   ],
   "metadata": {
    "collapsed": false
   }
  },
  {
   "cell_type": "code",
   "execution_count": 20,
   "outputs": [
    {
     "name": "stdout",
     "output_type": "stream",
     "text": [
      "<class 'pandas.core.frame.DataFrame'>\n",
      "Int64Index: 17739 entries, 0 to 17738\n",
      "Data columns (total 81 columns):\n",
      " #   Column               Non-Null Count  Dtype  \n",
      "---  ------               --------------  -----  \n",
      " 0   Wage (€)             17739 non-null  int64  \n",
      " 1   Value (€)            17739 non-null  int64  \n",
      " 2   Name                 17739 non-null  object \n",
      " 3   Age                  17739 non-null  int64  \n",
      " 4   Photo                17739 non-null  object \n",
      " 5   Nationality          17739 non-null  object \n",
      " 6   Flag                 17739 non-null  object \n",
      " 7   Overall              17739 non-null  int64  \n",
      " 8   Potential            17739 non-null  int64  \n",
      " 9   Club                 17522 non-null  object \n",
      " 10  Club Logo            17739 non-null  object \n",
      " 11  Special              17739 non-null  int64  \n",
      " 12  Acceleration         17655 non-null  float64\n",
      " 13  Aggression           17672 non-null  float64\n",
      " 14  Agility              17669 non-null  float64\n",
      " 15  Balance              17683 non-null  float64\n",
      " 16  Ball control         17602 non-null  float64\n",
      " 17  Composure            17647 non-null  float64\n",
      " 18  Crossing             17643 non-null  float64\n",
      " 19  Curve                17666 non-null  float64\n",
      " 20  Dribbling            17613 non-null  float64\n",
      " 21  Finishing            17629 non-null  float64\n",
      " 22  Free kick accuracy   17690 non-null  float64\n",
      " 23  GK diving            17713 non-null  float64\n",
      " 24  GK handling          17712 non-null  float64\n",
      " 25  GK kicking           17720 non-null  float64\n",
      " 26  GK positioning       17713 non-null  float64\n",
      " 27  GK reflexes          17710 non-null  float64\n",
      " 28  Heading accuracy     17665 non-null  float64\n",
      " 29  Interceptions        17641 non-null  float64\n",
      " 30  Jumping              17670 non-null  float64\n",
      " 31  Long passing         17619 non-null  float64\n",
      " 32  Long shots           17658 non-null  float64\n",
      " 33  Marking              17628 non-null  float64\n",
      " 34  Penalties            17709 non-null  float64\n",
      " 35  Positioning          17645 non-null  float64\n",
      " 36  Reactions            17625 non-null  float64\n",
      " 37  Short passing        17593 non-null  float64\n",
      " 38  Shot power           17667 non-null  float64\n",
      " 39  Sliding tackle       17645 non-null  float64\n",
      " 40  Sprint speed         17625 non-null  float64\n",
      " 41  Stamina              17634 non-null  float64\n",
      " 42  Standing tackle      17616 non-null  float64\n",
      " 43  Strength             17637 non-null  float64\n",
      " 44  Vision               17632 non-null  float64\n",
      " 45  Volleys              17699 non-null  float64\n",
      " 46  CAM                  15742 non-null  float64\n",
      " 47  CB                   15742 non-null  float64\n",
      " 48  CDM                  15742 non-null  float64\n",
      " 49  CF                   15742 non-null  float64\n",
      " 50  CM                   15742 non-null  float64\n",
      " 51  ID                   17739 non-null  int64  \n",
      " 52  LAM                  15742 non-null  float64\n",
      " 53  LB                   15742 non-null  float64\n",
      " 54  LCB                  15742 non-null  float64\n",
      " 55  LCM                  15742 non-null  float64\n",
      " 56  LDM                  15742 non-null  float64\n",
      " 57  LF                   15742 non-null  float64\n",
      " 58  LM                   15742 non-null  float64\n",
      " 59  LS                   15742 non-null  float64\n",
      " 60  LW                   15742 non-null  float64\n",
      " 61  LWB                  15742 non-null  float64\n",
      " 62  Preferred Positions  17739 non-null  object \n",
      " 63  RAM                  15742 non-null  float64\n",
      " 64  RB                   15742 non-null  float64\n",
      " 65  RCB                  15742 non-null  float64\n",
      " 66  RCM                  15742 non-null  float64\n",
      " 67  RDM                  15742 non-null  float64\n",
      " 68  RF                   15742 non-null  float64\n",
      " 69  RM                   15742 non-null  float64\n",
      " 70  RS                   15742 non-null  float64\n",
      " 71  RW                   15742 non-null  float64\n",
      " 72  RWB                  15742 non-null  float64\n",
      " 73  ST                   15742 non-null  float64\n",
      " 74  league               17522 non-null  object \n",
      " 75  birth_date           17739 non-null  object \n",
      " 76  height_cm            17739 non-null  float64\n",
      " 77  weight_kg            17739 non-null  float64\n",
      " 78  eur_release_clause   16287 non-null  float64\n",
      " 79  weak_foot            17739 non-null  int64  \n",
      " 80  preferred_foot       17739 non-null  object \n",
      "dtypes: float64(63), int64(8), object(10)\n",
      "memory usage: 11.1+ MB\n"
     ]
    }
   ],
   "source": [
    "merged_df.info()"
   ],
   "metadata": {
    "collapsed": false
   }
  },
  {
   "cell_type": "code",
   "execution_count": 47,
   "outputs": [],
   "source": [
    "merged_df.to_csv('fifa18_merged.csv')"
   ],
   "metadata": {
    "collapsed": false
   }
  },
  {
   "cell_type": "markdown",
   "source": [
    "### Analysis of the unmerged columns\n",
    "We find that the dimensions of the original df and the merged one differ, hence we here investigate this difference"
   ],
   "metadata": {
    "collapsed": false
   }
  },
  {
   "cell_type": "code",
   "execution_count": 24,
   "outputs": [
    {
     "data": {
      "text/plain": "       Wage (€)  Value (€)              Name   Age  \\\n853      1000.0  4200000.0         G. Gillet  33.0   \n854     25000.0  5500000.0          L. López  34.0   \n856    120000.0  7000000.0      T. Vermaelen  31.0   \n857     80000.0  7500000.0          I. Abate  30.0   \n858     30000.0  9500000.0         J. Briand  31.0   \n...         ...        ...               ...   ...   \n17950    1000.0    60000.0           D. Amos  17.0   \n17953    1000.0    60000.0         K. Cotter  18.0   \n17960    1000.0    70000.0          L. Kiely  18.0   \n17961    5000.0    60000.0  J. Latibeaudiere  17.0   \n17962    1000.0    50000.0          J. Payne  18.0   \n\n                                                 Photo          Nationality  \\\n853    https://cdn.sofifa.org/48/18/players/163186.png              Belgium   \n854    https://cdn.sofifa.org/48/18/players/142707.png            Argentina   \n856    https://cdn.sofifa.org/48/18/players/157304.png              Belgium   \n857    https://cdn.sofifa.org/48/18/players/168312.png                Italy   \n858    https://cdn.sofifa.org/48/18/players/134779.png               France   \n...                                                ...                  ...   \n17950  https://cdn.sofifa.org/48/18/players/235994.png              England   \n17953  https://cdn.sofifa.org/48/18/players/238833.png              England   \n17960  https://cdn.sofifa.org/48/18/players/236597.png  Republic of Ireland   \n17961  https://cdn.sofifa.org/48/18/players/233047.png              England   \n17962  https://cdn.sofifa.org/48/18/players/236425.png              England   \n\n                                      Flag  Overall  Potential  \\\n853     https://cdn.sofifa.org/flags/7.png     78.0       78.0   \n854    https://cdn.sofifa.org/flags/52.png     78.0       78.0   \n856     https://cdn.sofifa.org/flags/7.png     78.0       78.0   \n857    https://cdn.sofifa.org/flags/27.png     78.0       78.0   \n858    https://cdn.sofifa.org/flags/18.png     78.0       78.0   \n...                                    ...      ...        ...   \n17950  https://cdn.sofifa.org/flags/14.png     48.0       74.0   \n17953  https://cdn.sofifa.org/flags/14.png     48.0       67.0   \n17960  https://cdn.sofifa.org/flags/25.png     47.0       69.0   \n17961  https://cdn.sofifa.org/flags/14.png     47.0       73.0   \n17962  https://cdn.sofifa.org/flags/14.png     47.0       63.0   \n\n                            Club  ...   RWB    ST  league  birth_date  \\\n853               Olympiakos CFP  ...  76.0  75.0     NaN         NaN   \n854    Racing Club de Avellaneda  ...  62.0  77.0     NaN         NaN   \n856                 FC Barcelona  ...  70.0  64.0     NaN         NaN   \n857                        Milan  ...  78.0  67.0     NaN         NaN   \n858         En Avant de Guingamp  ...  63.0  77.0     NaN         NaN   \n...                          ...  ...   ...   ...     ...         ...   \n17950           Doncaster Rovers  ...  48.0  44.0     NaN         NaN   \n17953                 Luton Town  ...  48.0  44.0     NaN         NaN   \n17960            Shamrock Rovers  ...  41.0  42.0     NaN         NaN   \n17961            Manchester City  ...  43.0  32.0     NaN         NaN   \n17962                     Barnet  ...  45.0  36.0     NaN         NaN   \n\n       height_cm  weight_kg  eur_release_clause  weak_foot  preferred_foot  \\\n853          NaN        NaN                 NaN        NaN             NaN   \n854          NaN        NaN                 NaN        NaN             NaN   \n856          NaN        NaN                 NaN        NaN             NaN   \n857          NaN        NaN                 NaN        NaN             NaN   \n858          NaN        NaN                 NaN        NaN             NaN   \n...          ...        ...                 ...        ...             ...   \n17950        NaN        NaN                 NaN        NaN             NaN   \n17953        NaN        NaN                 NaN        NaN             NaN   \n17960        NaN        NaN                 NaN        NaN             NaN   \n17961        NaN        NaN                 NaN        NaN             NaN   \n17962        NaN        NaN                 NaN        NaN             NaN   \n\n          _merge  \n853    left_only  \n854    left_only  \n856    left_only  \n857    left_only  \n858    left_only  \n...          ...  \n17950  left_only  \n17953  left_only  \n17960  left_only  \n17961  left_only  \n17962  left_only  \n\n[242 rows x 82 columns]",
      "text/html": "<div>\n<style scoped>\n    .dataframe tbody tr th:only-of-type {\n        vertical-align: middle;\n    }\n\n    .dataframe tbody tr th {\n        vertical-align: top;\n    }\n\n    .dataframe thead th {\n        text-align: right;\n    }\n</style>\n<table border=\"1\" class=\"dataframe\">\n  <thead>\n    <tr style=\"text-align: right;\">\n      <th></th>\n      <th>Wage (€)</th>\n      <th>Value (€)</th>\n      <th>Name</th>\n      <th>Age</th>\n      <th>Photo</th>\n      <th>Nationality</th>\n      <th>Flag</th>\n      <th>Overall</th>\n      <th>Potential</th>\n      <th>Club</th>\n      <th>...</th>\n      <th>RWB</th>\n      <th>ST</th>\n      <th>league</th>\n      <th>birth_date</th>\n      <th>height_cm</th>\n      <th>weight_kg</th>\n      <th>eur_release_clause</th>\n      <th>weak_foot</th>\n      <th>preferred_foot</th>\n      <th>_merge</th>\n    </tr>\n  </thead>\n  <tbody>\n    <tr>\n      <th>853</th>\n      <td>1000.0</td>\n      <td>4200000.0</td>\n      <td>G. Gillet</td>\n      <td>33.0</td>\n      <td>https://cdn.sofifa.org/48/18/players/163186.png</td>\n      <td>Belgium</td>\n      <td>https://cdn.sofifa.org/flags/7.png</td>\n      <td>78.0</td>\n      <td>78.0</td>\n      <td>Olympiakos CFP</td>\n      <td>...</td>\n      <td>76.0</td>\n      <td>75.0</td>\n      <td>NaN</td>\n      <td>NaN</td>\n      <td>NaN</td>\n      <td>NaN</td>\n      <td>NaN</td>\n      <td>NaN</td>\n      <td>NaN</td>\n      <td>left_only</td>\n    </tr>\n    <tr>\n      <th>854</th>\n      <td>25000.0</td>\n      <td>5500000.0</td>\n      <td>L. López</td>\n      <td>34.0</td>\n      <td>https://cdn.sofifa.org/48/18/players/142707.png</td>\n      <td>Argentina</td>\n      <td>https://cdn.sofifa.org/flags/52.png</td>\n      <td>78.0</td>\n      <td>78.0</td>\n      <td>Racing Club de Avellaneda</td>\n      <td>...</td>\n      <td>62.0</td>\n      <td>77.0</td>\n      <td>NaN</td>\n      <td>NaN</td>\n      <td>NaN</td>\n      <td>NaN</td>\n      <td>NaN</td>\n      <td>NaN</td>\n      <td>NaN</td>\n      <td>left_only</td>\n    </tr>\n    <tr>\n      <th>856</th>\n      <td>120000.0</td>\n      <td>7000000.0</td>\n      <td>T. Vermaelen</td>\n      <td>31.0</td>\n      <td>https://cdn.sofifa.org/48/18/players/157304.png</td>\n      <td>Belgium</td>\n      <td>https://cdn.sofifa.org/flags/7.png</td>\n      <td>78.0</td>\n      <td>78.0</td>\n      <td>FC Barcelona</td>\n      <td>...</td>\n      <td>70.0</td>\n      <td>64.0</td>\n      <td>NaN</td>\n      <td>NaN</td>\n      <td>NaN</td>\n      <td>NaN</td>\n      <td>NaN</td>\n      <td>NaN</td>\n      <td>NaN</td>\n      <td>left_only</td>\n    </tr>\n    <tr>\n      <th>857</th>\n      <td>80000.0</td>\n      <td>7500000.0</td>\n      <td>I. Abate</td>\n      <td>30.0</td>\n      <td>https://cdn.sofifa.org/48/18/players/168312.png</td>\n      <td>Italy</td>\n      <td>https://cdn.sofifa.org/flags/27.png</td>\n      <td>78.0</td>\n      <td>78.0</td>\n      <td>Milan</td>\n      <td>...</td>\n      <td>78.0</td>\n      <td>67.0</td>\n      <td>NaN</td>\n      <td>NaN</td>\n      <td>NaN</td>\n      <td>NaN</td>\n      <td>NaN</td>\n      <td>NaN</td>\n      <td>NaN</td>\n      <td>left_only</td>\n    </tr>\n    <tr>\n      <th>858</th>\n      <td>30000.0</td>\n      <td>9500000.0</td>\n      <td>J. Briand</td>\n      <td>31.0</td>\n      <td>https://cdn.sofifa.org/48/18/players/134779.png</td>\n      <td>France</td>\n      <td>https://cdn.sofifa.org/flags/18.png</td>\n      <td>78.0</td>\n      <td>78.0</td>\n      <td>En Avant de Guingamp</td>\n      <td>...</td>\n      <td>63.0</td>\n      <td>77.0</td>\n      <td>NaN</td>\n      <td>NaN</td>\n      <td>NaN</td>\n      <td>NaN</td>\n      <td>NaN</td>\n      <td>NaN</td>\n      <td>NaN</td>\n      <td>left_only</td>\n    </tr>\n    <tr>\n      <th>...</th>\n      <td>...</td>\n      <td>...</td>\n      <td>...</td>\n      <td>...</td>\n      <td>...</td>\n      <td>...</td>\n      <td>...</td>\n      <td>...</td>\n      <td>...</td>\n      <td>...</td>\n      <td>...</td>\n      <td>...</td>\n      <td>...</td>\n      <td>...</td>\n      <td>...</td>\n      <td>...</td>\n      <td>...</td>\n      <td>...</td>\n      <td>...</td>\n      <td>...</td>\n      <td>...</td>\n    </tr>\n    <tr>\n      <th>17950</th>\n      <td>1000.0</td>\n      <td>60000.0</td>\n      <td>D. Amos</td>\n      <td>17.0</td>\n      <td>https://cdn.sofifa.org/48/18/players/235994.png</td>\n      <td>England</td>\n      <td>https://cdn.sofifa.org/flags/14.png</td>\n      <td>48.0</td>\n      <td>74.0</td>\n      <td>Doncaster Rovers</td>\n      <td>...</td>\n      <td>48.0</td>\n      <td>44.0</td>\n      <td>NaN</td>\n      <td>NaN</td>\n      <td>NaN</td>\n      <td>NaN</td>\n      <td>NaN</td>\n      <td>NaN</td>\n      <td>NaN</td>\n      <td>left_only</td>\n    </tr>\n    <tr>\n      <th>17953</th>\n      <td>1000.0</td>\n      <td>60000.0</td>\n      <td>K. Cotter</td>\n      <td>18.0</td>\n      <td>https://cdn.sofifa.org/48/18/players/238833.png</td>\n      <td>England</td>\n      <td>https://cdn.sofifa.org/flags/14.png</td>\n      <td>48.0</td>\n      <td>67.0</td>\n      <td>Luton Town</td>\n      <td>...</td>\n      <td>48.0</td>\n      <td>44.0</td>\n      <td>NaN</td>\n      <td>NaN</td>\n      <td>NaN</td>\n      <td>NaN</td>\n      <td>NaN</td>\n      <td>NaN</td>\n      <td>NaN</td>\n      <td>left_only</td>\n    </tr>\n    <tr>\n      <th>17960</th>\n      <td>1000.0</td>\n      <td>70000.0</td>\n      <td>L. Kiely</td>\n      <td>18.0</td>\n      <td>https://cdn.sofifa.org/48/18/players/236597.png</td>\n      <td>Republic of Ireland</td>\n      <td>https://cdn.sofifa.org/flags/25.png</td>\n      <td>47.0</td>\n      <td>69.0</td>\n      <td>Shamrock Rovers</td>\n      <td>...</td>\n      <td>41.0</td>\n      <td>42.0</td>\n      <td>NaN</td>\n      <td>NaN</td>\n      <td>NaN</td>\n      <td>NaN</td>\n      <td>NaN</td>\n      <td>NaN</td>\n      <td>NaN</td>\n      <td>left_only</td>\n    </tr>\n    <tr>\n      <th>17961</th>\n      <td>5000.0</td>\n      <td>60000.0</td>\n      <td>J. Latibeaudiere</td>\n      <td>17.0</td>\n      <td>https://cdn.sofifa.org/48/18/players/233047.png</td>\n      <td>England</td>\n      <td>https://cdn.sofifa.org/flags/14.png</td>\n      <td>47.0</td>\n      <td>73.0</td>\n      <td>Manchester City</td>\n      <td>...</td>\n      <td>43.0</td>\n      <td>32.0</td>\n      <td>NaN</td>\n      <td>NaN</td>\n      <td>NaN</td>\n      <td>NaN</td>\n      <td>NaN</td>\n      <td>NaN</td>\n      <td>NaN</td>\n      <td>left_only</td>\n    </tr>\n    <tr>\n      <th>17962</th>\n      <td>1000.0</td>\n      <td>50000.0</td>\n      <td>J. Payne</td>\n      <td>18.0</td>\n      <td>https://cdn.sofifa.org/48/18/players/236425.png</td>\n      <td>England</td>\n      <td>https://cdn.sofifa.org/flags/14.png</td>\n      <td>47.0</td>\n      <td>63.0</td>\n      <td>Barnet</td>\n      <td>...</td>\n      <td>45.0</td>\n      <td>36.0</td>\n      <td>NaN</td>\n      <td>NaN</td>\n      <td>NaN</td>\n      <td>NaN</td>\n      <td>NaN</td>\n      <td>NaN</td>\n      <td>NaN</td>\n      <td>left_only</td>\n    </tr>\n  </tbody>\n</table>\n<p>242 rows × 82 columns</p>\n</div>"
     },
     "execution_count": 24,
     "metadata": {},
     "output_type": "execute_result"
    }
   ],
   "source": [
    "df_test = pd.merge(df,df2,on = ['Photo'], how=\"outer\", indicator=True)\n",
    "df_test = df_test[df_test['_merge'] == 'left_only']\n",
    "df_test"
   ],
   "metadata": {
    "collapsed": false
   }
  },
  {
   "cell_type": "code",
   "execution_count": 36,
   "outputs": [
    {
     "data": {
      "text/plain": "England                47\nKorea Republic         14\nSpain                  14\nArgentina              13\nFrance                 11\nBelgium                10\nScotland                9\nRepublic of Ireland     9\nSouth Africa            8\nSaudi Arabia            8\nEcuador                 7\nBrazil                  6\nBolivia                 6\nSwitzerland             5\nItaly                   5\nNetherlands             4\nPortugal                4\nPoland                  4\nAustralia               4\nGhana                   4\nPeru                    4\nDenmark                 3\nAustria                 3\nNorway                  3\nTurkey                  3\nIvory Coast             3\nGermany                 3\nGreece                  2\nCzech Republic          2\nChile                   2\nColombia                2\nSenegal                 2\nUnited States           1\nNorthern Ireland        1\nZimbabwe                1\nCanada                  1\nBrunei Darussalam       1\nCongo                   1\nAntigua & Barbuda       1\nParaguay                1\nMorocco                 1\nDR Congo                1\nIraq                    1\nNew Zealand             1\nSyria                   1\nGuinea Bissau           1\nChina PR                1\nCroatia                 1\nLatvia                  1\nFinland                 1\nName: Nationality, dtype: int64"
     },
     "execution_count": 36,
     "metadata": {},
     "output_type": "execute_result"
    }
   ],
   "source": [
    "df_test.Nationality.value_counts()"
   ],
   "metadata": {
    "collapsed": false
   }
  },
  {
   "cell_type": "code",
   "execution_count": 39,
   "outputs": [
    {
     "data": {
      "text/plain": "55.0    23\n78.0    22\n62.0    13\n53.0    13\n54.0    13\n56.0    13\n60.0    13\n61.0    12\n66.0    11\n63.0    11\n52.0     8\n48.0     7\n64.0     7\n69.0     7\n58.0     7\n57.0     6\n67.0     6\n51.0     6\n74.0     5\n70.0     5\n59.0     5\n50.0     4\n68.0     4\n73.0     4\n65.0     4\n71.0     3\n49.0     3\n47.0     3\n72.0     2\n75.0     2\nName: Overall, dtype: int64"
     },
     "execution_count": 39,
     "metadata": {},
     "output_type": "execute_result"
    }
   ],
   "source": [
    "df_test.Overall.value_counts()"
   ],
   "metadata": {
    "collapsed": false
   }
  },
  {
   "cell_type": "code",
   "execution_count": 26,
   "outputs": [
    {
     "data": {
      "text/plain": "       Wage (€)  Value (€)               Name  Age  \\\n0        565000   95500000  Cristiano Ronaldo   32   \n1        565000  105000000           L. Messi   30   \n2        280000  123000000             Neymar   25   \n3        510000   97000000          L. Suárez   30   \n4        230000   61000000           M. Neuer   31   \n...         ...        ...                ...  ...   \n17976      1000      50000          A. Kelsey   17   \n17977      1000          0      B. Richardson   47   \n17978      1000      60000           J. Young   17   \n17979      1000      60000       J. Lundstram   18   \n17980      1000      50000          L. Sackey   18   \n\n                                                 Photo Nationality  \\\n0       https://cdn.sofifa.org/48/18/players/20801.png    Portugal   \n1      https://cdn.sofifa.org/48/18/players/158023.png   Argentina   \n2      https://cdn.sofifa.org/48/18/players/190871.png      Brazil   \n3      https://cdn.sofifa.org/48/18/players/176580.png     Uruguay   \n4      https://cdn.sofifa.org/48/18/players/167495.png     Germany   \n...                                                ...         ...   \n17976  https://cdn.sofifa.org/48/18/players/237463.png     England   \n17977   https://cdn.sofifa.org/48/18/players/11728.png     England   \n17978  https://cdn.sofifa.org/48/18/players/231381.png    Scotland   \n17979  https://cdn.sofifa.org/48/18/players/238813.png     England   \n17980  https://cdn.sofifa.org/48/18/players/238308.png       Ghana   \n\n                                       Flag  Overall  Potential  \\\n0       https://cdn.sofifa.org/flags/38.png       94         94   \n1       https://cdn.sofifa.org/flags/52.png       93         93   \n2       https://cdn.sofifa.org/flags/54.png       92         94   \n3       https://cdn.sofifa.org/flags/60.png       92         92   \n4       https://cdn.sofifa.org/flags/21.png       92         92   \n...                                     ...      ...        ...   \n17976   https://cdn.sofifa.org/flags/14.png       46         63   \n17977   https://cdn.sofifa.org/flags/14.png       46         46   \n17978   https://cdn.sofifa.org/flags/42.png       46         61   \n17979   https://cdn.sofifa.org/flags/14.png       46         64   \n17980  https://cdn.sofifa.org/flags/117.png       46         64   \n\n                      Club  ...    RB   RCB   RCM   RDM    RF    RM    RS  \\\n0           Real Madrid CF  ...  61.0  53.0  82.0  62.0  91.0  89.0  92.0   \n1             FC Barcelona  ...  57.0  45.0  84.0  59.0  92.0  90.0  88.0   \n2      Paris Saint-Germain  ...  59.0  46.0  79.0  59.0  88.0  87.0  84.0   \n3             FC Barcelona  ...  64.0  58.0  80.0  65.0  88.0  85.0  88.0   \n4         FC Bayern Munich  ...   NaN   NaN   NaN   NaN   NaN   NaN   NaN   \n...                    ...  ...   ...   ...   ...   ...   ...   ...   ...   \n17976    Scunthorpe United  ...   NaN   NaN   NaN   NaN   NaN   NaN   NaN   \n17977    Wycombe Wanderers  ...   NaN   NaN   NaN   NaN   NaN   NaN   NaN   \n17978         Swindon Town  ...  31.0  28.0  38.0  29.0  45.0  42.0  45.0   \n17979      Crewe Alexandra  ...  47.0  46.0  45.0  47.0  43.0  45.0  41.0   \n17980    Scunthorpe United  ...  40.0  45.0  30.0  38.0  29.0  30.0  31.0   \n\n         RW   RWB    ST  \n0      91.0  66.0  92.0  \n1      91.0  62.0  88.0  \n2      89.0  64.0  84.0  \n3      87.0  68.0  88.0  \n4       NaN   NaN   NaN  \n...     ...   ...   ...  \n17976   NaN   NaN   NaN  \n17977   NaN   NaN   NaN  \n17978  44.0  32.0  45.0  \n17979  44.0  46.0  41.0  \n17980  29.0  38.0  31.0  \n\n[17981 rows x 74 columns]",
      "text/html": "<div>\n<style scoped>\n    .dataframe tbody tr th:only-of-type {\n        vertical-align: middle;\n    }\n\n    .dataframe tbody tr th {\n        vertical-align: top;\n    }\n\n    .dataframe thead th {\n        text-align: right;\n    }\n</style>\n<table border=\"1\" class=\"dataframe\">\n  <thead>\n    <tr style=\"text-align: right;\">\n      <th></th>\n      <th>Wage (€)</th>\n      <th>Value (€)</th>\n      <th>Name</th>\n      <th>Age</th>\n      <th>Photo</th>\n      <th>Nationality</th>\n      <th>Flag</th>\n      <th>Overall</th>\n      <th>Potential</th>\n      <th>Club</th>\n      <th>...</th>\n      <th>RB</th>\n      <th>RCB</th>\n      <th>RCM</th>\n      <th>RDM</th>\n      <th>RF</th>\n      <th>RM</th>\n      <th>RS</th>\n      <th>RW</th>\n      <th>RWB</th>\n      <th>ST</th>\n    </tr>\n  </thead>\n  <tbody>\n    <tr>\n      <th>0</th>\n      <td>565000</td>\n      <td>95500000</td>\n      <td>Cristiano Ronaldo</td>\n      <td>32</td>\n      <td>https://cdn.sofifa.org/48/18/players/20801.png</td>\n      <td>Portugal</td>\n      <td>https://cdn.sofifa.org/flags/38.png</td>\n      <td>94</td>\n      <td>94</td>\n      <td>Real Madrid CF</td>\n      <td>...</td>\n      <td>61.0</td>\n      <td>53.0</td>\n      <td>82.0</td>\n      <td>62.0</td>\n      <td>91.0</td>\n      <td>89.0</td>\n      <td>92.0</td>\n      <td>91.0</td>\n      <td>66.0</td>\n      <td>92.0</td>\n    </tr>\n    <tr>\n      <th>1</th>\n      <td>565000</td>\n      <td>105000000</td>\n      <td>L. Messi</td>\n      <td>30</td>\n      <td>https://cdn.sofifa.org/48/18/players/158023.png</td>\n      <td>Argentina</td>\n      <td>https://cdn.sofifa.org/flags/52.png</td>\n      <td>93</td>\n      <td>93</td>\n      <td>FC Barcelona</td>\n      <td>...</td>\n      <td>57.0</td>\n      <td>45.0</td>\n      <td>84.0</td>\n      <td>59.0</td>\n      <td>92.0</td>\n      <td>90.0</td>\n      <td>88.0</td>\n      <td>91.0</td>\n      <td>62.0</td>\n      <td>88.0</td>\n    </tr>\n    <tr>\n      <th>2</th>\n      <td>280000</td>\n      <td>123000000</td>\n      <td>Neymar</td>\n      <td>25</td>\n      <td>https://cdn.sofifa.org/48/18/players/190871.png</td>\n      <td>Brazil</td>\n      <td>https://cdn.sofifa.org/flags/54.png</td>\n      <td>92</td>\n      <td>94</td>\n      <td>Paris Saint-Germain</td>\n      <td>...</td>\n      <td>59.0</td>\n      <td>46.0</td>\n      <td>79.0</td>\n      <td>59.0</td>\n      <td>88.0</td>\n      <td>87.0</td>\n      <td>84.0</td>\n      <td>89.0</td>\n      <td>64.0</td>\n      <td>84.0</td>\n    </tr>\n    <tr>\n      <th>3</th>\n      <td>510000</td>\n      <td>97000000</td>\n      <td>L. Suárez</td>\n      <td>30</td>\n      <td>https://cdn.sofifa.org/48/18/players/176580.png</td>\n      <td>Uruguay</td>\n      <td>https://cdn.sofifa.org/flags/60.png</td>\n      <td>92</td>\n      <td>92</td>\n      <td>FC Barcelona</td>\n      <td>...</td>\n      <td>64.0</td>\n      <td>58.0</td>\n      <td>80.0</td>\n      <td>65.0</td>\n      <td>88.0</td>\n      <td>85.0</td>\n      <td>88.0</td>\n      <td>87.0</td>\n      <td>68.0</td>\n      <td>88.0</td>\n    </tr>\n    <tr>\n      <th>4</th>\n      <td>230000</td>\n      <td>61000000</td>\n      <td>M. Neuer</td>\n      <td>31</td>\n      <td>https://cdn.sofifa.org/48/18/players/167495.png</td>\n      <td>Germany</td>\n      <td>https://cdn.sofifa.org/flags/21.png</td>\n      <td>92</td>\n      <td>92</td>\n      <td>FC Bayern Munich</td>\n      <td>...</td>\n      <td>NaN</td>\n      <td>NaN</td>\n      <td>NaN</td>\n      <td>NaN</td>\n      <td>NaN</td>\n      <td>NaN</td>\n      <td>NaN</td>\n      <td>NaN</td>\n      <td>NaN</td>\n      <td>NaN</td>\n    </tr>\n    <tr>\n      <th>...</th>\n      <td>...</td>\n      <td>...</td>\n      <td>...</td>\n      <td>...</td>\n      <td>...</td>\n      <td>...</td>\n      <td>...</td>\n      <td>...</td>\n      <td>...</td>\n      <td>...</td>\n      <td>...</td>\n      <td>...</td>\n      <td>...</td>\n      <td>...</td>\n      <td>...</td>\n      <td>...</td>\n      <td>...</td>\n      <td>...</td>\n      <td>...</td>\n      <td>...</td>\n      <td>...</td>\n    </tr>\n    <tr>\n      <th>17976</th>\n      <td>1000</td>\n      <td>50000</td>\n      <td>A. Kelsey</td>\n      <td>17</td>\n      <td>https://cdn.sofifa.org/48/18/players/237463.png</td>\n      <td>England</td>\n      <td>https://cdn.sofifa.org/flags/14.png</td>\n      <td>46</td>\n      <td>63</td>\n      <td>Scunthorpe United</td>\n      <td>...</td>\n      <td>NaN</td>\n      <td>NaN</td>\n      <td>NaN</td>\n      <td>NaN</td>\n      <td>NaN</td>\n      <td>NaN</td>\n      <td>NaN</td>\n      <td>NaN</td>\n      <td>NaN</td>\n      <td>NaN</td>\n    </tr>\n    <tr>\n      <th>17977</th>\n      <td>1000</td>\n      <td>0</td>\n      <td>B. Richardson</td>\n      <td>47</td>\n      <td>https://cdn.sofifa.org/48/18/players/11728.png</td>\n      <td>England</td>\n      <td>https://cdn.sofifa.org/flags/14.png</td>\n      <td>46</td>\n      <td>46</td>\n      <td>Wycombe Wanderers</td>\n      <td>...</td>\n      <td>NaN</td>\n      <td>NaN</td>\n      <td>NaN</td>\n      <td>NaN</td>\n      <td>NaN</td>\n      <td>NaN</td>\n      <td>NaN</td>\n      <td>NaN</td>\n      <td>NaN</td>\n      <td>NaN</td>\n    </tr>\n    <tr>\n      <th>17978</th>\n      <td>1000</td>\n      <td>60000</td>\n      <td>J. Young</td>\n      <td>17</td>\n      <td>https://cdn.sofifa.org/48/18/players/231381.png</td>\n      <td>Scotland</td>\n      <td>https://cdn.sofifa.org/flags/42.png</td>\n      <td>46</td>\n      <td>61</td>\n      <td>Swindon Town</td>\n      <td>...</td>\n      <td>31.0</td>\n      <td>28.0</td>\n      <td>38.0</td>\n      <td>29.0</td>\n      <td>45.0</td>\n      <td>42.0</td>\n      <td>45.0</td>\n      <td>44.0</td>\n      <td>32.0</td>\n      <td>45.0</td>\n    </tr>\n    <tr>\n      <th>17979</th>\n      <td>1000</td>\n      <td>60000</td>\n      <td>J. Lundstram</td>\n      <td>18</td>\n      <td>https://cdn.sofifa.org/48/18/players/238813.png</td>\n      <td>England</td>\n      <td>https://cdn.sofifa.org/flags/14.png</td>\n      <td>46</td>\n      <td>64</td>\n      <td>Crewe Alexandra</td>\n      <td>...</td>\n      <td>47.0</td>\n      <td>46.0</td>\n      <td>45.0</td>\n      <td>47.0</td>\n      <td>43.0</td>\n      <td>45.0</td>\n      <td>41.0</td>\n      <td>44.0</td>\n      <td>46.0</td>\n      <td>41.0</td>\n    </tr>\n    <tr>\n      <th>17980</th>\n      <td>1000</td>\n      <td>50000</td>\n      <td>L. Sackey</td>\n      <td>18</td>\n      <td>https://cdn.sofifa.org/48/18/players/238308.png</td>\n      <td>Ghana</td>\n      <td>https://cdn.sofifa.org/flags/117.png</td>\n      <td>46</td>\n      <td>64</td>\n      <td>Scunthorpe United</td>\n      <td>...</td>\n      <td>40.0</td>\n      <td>45.0</td>\n      <td>30.0</td>\n      <td>38.0</td>\n      <td>29.0</td>\n      <td>30.0</td>\n      <td>31.0</td>\n      <td>29.0</td>\n      <td>38.0</td>\n      <td>31.0</td>\n    </tr>\n  </tbody>\n</table>\n<p>17981 rows × 74 columns</p>\n</div>"
     },
     "execution_count": 26,
     "metadata": {},
     "output_type": "execute_result"
    }
   ],
   "source": [
    "df"
   ],
   "metadata": {
    "collapsed": false
   }
  },
  {
   "cell_type": "code",
   "execution_count": 29,
   "outputs": [
    {
     "data": {
      "text/plain": "      ID               name                     full_name            club  \\\n0  20801  Cristiano Ronaldo  C. Ronaldo dos Santos Aveiro  Real Madrid CF   \n\n                                 club_logo  special  age  \\\n0  https://cdn.sofifa.org/18/teams/243.png     2228   32   \n\n                     league  birth_date  height_cm  ...  prefers_cb  \\\n0  Spanish Primera División  1985-02-05      185.0  ...       False   \n\n  prefers_lb  prefers_lwb prefers_ls prefers_lf prefers_lam  prefers_lcm  \\\n0      False        False      False      False       False        False   \n\n   prefers_ldm  prefers_lcb  prefers_gk  \n0        False        False       False  \n\n[1 rows x 185 columns]",
      "text/html": "<div>\n<style scoped>\n    .dataframe tbody tr th:only-of-type {\n        vertical-align: middle;\n    }\n\n    .dataframe tbody tr th {\n        vertical-align: top;\n    }\n\n    .dataframe thead th {\n        text-align: right;\n    }\n</style>\n<table border=\"1\" class=\"dataframe\">\n  <thead>\n    <tr style=\"text-align: right;\">\n      <th></th>\n      <th>ID</th>\n      <th>name</th>\n      <th>full_name</th>\n      <th>club</th>\n      <th>club_logo</th>\n      <th>special</th>\n      <th>age</th>\n      <th>league</th>\n      <th>birth_date</th>\n      <th>height_cm</th>\n      <th>...</th>\n      <th>prefers_cb</th>\n      <th>prefers_lb</th>\n      <th>prefers_lwb</th>\n      <th>prefers_ls</th>\n      <th>prefers_lf</th>\n      <th>prefers_lam</th>\n      <th>prefers_lcm</th>\n      <th>prefers_ldm</th>\n      <th>prefers_lcb</th>\n      <th>prefers_gk</th>\n    </tr>\n  </thead>\n  <tbody>\n    <tr>\n      <th>0</th>\n      <td>20801</td>\n      <td>Cristiano Ronaldo</td>\n      <td>C. Ronaldo dos Santos Aveiro</td>\n      <td>Real Madrid CF</td>\n      <td>https://cdn.sofifa.org/18/teams/243.png</td>\n      <td>2228</td>\n      <td>32</td>\n      <td>Spanish Primera División</td>\n      <td>1985-02-05</td>\n      <td>185.0</td>\n      <td>...</td>\n      <td>False</td>\n      <td>False</td>\n      <td>False</td>\n      <td>False</td>\n      <td>False</td>\n      <td>False</td>\n      <td>False</td>\n      <td>False</td>\n      <td>False</td>\n      <td>False</td>\n    </tr>\n  </tbody>\n</table>\n<p>1 rows × 185 columns</p>\n</div>"
     },
     "execution_count": 29,
     "metadata": {},
     "output_type": "execute_result"
    }
   ],
   "source": [
    "df1.head(1)"
   ],
   "metadata": {
    "collapsed": false
   }
  },
  {
   "cell_type": "code",
   "execution_count": 32,
   "outputs": [
    {
     "data": {
      "text/plain": "   Wage (€)  Value (€)               Name  Age  \\\n0    565000   95500000  Cristiano Ronaldo   32   \n\n                                            Photo Nationality  \\\n0  https://cdn.sofifa.org/48/18/players/20801.png    Portugal   \n\n                                  Flag  Overall  Potential            Club  \\\n0  https://cdn.sofifa.org/flags/38.png       94         94  Real Madrid CF   \n\n   ...    RB   RCB   RCM   RDM    RF    RM    RS    RW   RWB    ST  \n0  ...  61.0  53.0  82.0  62.0  91.0  89.0  92.0  91.0  66.0  92.0  \n\n[1 rows x 74 columns]",
      "text/html": "<div>\n<style scoped>\n    .dataframe tbody tr th:only-of-type {\n        vertical-align: middle;\n    }\n\n    .dataframe tbody tr th {\n        vertical-align: top;\n    }\n\n    .dataframe thead th {\n        text-align: right;\n    }\n</style>\n<table border=\"1\" class=\"dataframe\">\n  <thead>\n    <tr style=\"text-align: right;\">\n      <th></th>\n      <th>Wage (€)</th>\n      <th>Value (€)</th>\n      <th>Name</th>\n      <th>Age</th>\n      <th>Photo</th>\n      <th>Nationality</th>\n      <th>Flag</th>\n      <th>Overall</th>\n      <th>Potential</th>\n      <th>Club</th>\n      <th>...</th>\n      <th>RB</th>\n      <th>RCB</th>\n      <th>RCM</th>\n      <th>RDM</th>\n      <th>RF</th>\n      <th>RM</th>\n      <th>RS</th>\n      <th>RW</th>\n      <th>RWB</th>\n      <th>ST</th>\n    </tr>\n  </thead>\n  <tbody>\n    <tr>\n      <th>0</th>\n      <td>565000</td>\n      <td>95500000</td>\n      <td>Cristiano Ronaldo</td>\n      <td>32</td>\n      <td>https://cdn.sofifa.org/48/18/players/20801.png</td>\n      <td>Portugal</td>\n      <td>https://cdn.sofifa.org/flags/38.png</td>\n      <td>94</td>\n      <td>94</td>\n      <td>Real Madrid CF</td>\n      <td>...</td>\n      <td>61.0</td>\n      <td>53.0</td>\n      <td>82.0</td>\n      <td>62.0</td>\n      <td>91.0</td>\n      <td>89.0</td>\n      <td>92.0</td>\n      <td>91.0</td>\n      <td>66.0</td>\n      <td>92.0</td>\n    </tr>\n  </tbody>\n</table>\n<p>1 rows × 74 columns</p>\n</div>"
     },
     "execution_count": 32,
     "metadata": {},
     "output_type": "execute_result"
    }
   ],
   "source": [
    "df.head(1)"
   ],
   "metadata": {
    "collapsed": false
   }
  },
  {
   "cell_type": "code",
   "execution_count": 30,
   "outputs": [
    {
     "data": {
      "text/plain": "     Wage (€)  Value (€)         Name  Age  \\\n812     38000    2400000  Bruno Alves   35   \n\n                                               Photo Nationality  \\\n812  https://cdn.sofifa.org/48/18/players/138110.png    Portugal   \n\n                                    Flag  Overall  Potential     Club  ...  \\\n812  https://cdn.sofifa.org/flags/38.png       78         78  Rangers  ...   \n\n       RB   RCB   RCM   RDM    RF    RM    RS    RW   RWB    ST  \n812  69.0  77.0  68.0  73.0  65.0  65.0  68.0  65.0  69.0  68.0  \n\n[1 rows x 74 columns]",
      "text/html": "<div>\n<style scoped>\n    .dataframe tbody tr th:only-of-type {\n        vertical-align: middle;\n    }\n\n    .dataframe tbody tr th {\n        vertical-align: top;\n    }\n\n    .dataframe thead th {\n        text-align: right;\n    }\n</style>\n<table border=\"1\" class=\"dataframe\">\n  <thead>\n    <tr style=\"text-align: right;\">\n      <th></th>\n      <th>Wage (€)</th>\n      <th>Value (€)</th>\n      <th>Name</th>\n      <th>Age</th>\n      <th>Photo</th>\n      <th>Nationality</th>\n      <th>Flag</th>\n      <th>Overall</th>\n      <th>Potential</th>\n      <th>Club</th>\n      <th>...</th>\n      <th>RB</th>\n      <th>RCB</th>\n      <th>RCM</th>\n      <th>RDM</th>\n      <th>RF</th>\n      <th>RM</th>\n      <th>RS</th>\n      <th>RW</th>\n      <th>RWB</th>\n      <th>ST</th>\n    </tr>\n  </thead>\n  <tbody>\n    <tr>\n      <th>812</th>\n      <td>38000</td>\n      <td>2400000</td>\n      <td>Bruno Alves</td>\n      <td>35</td>\n      <td>https://cdn.sofifa.org/48/18/players/138110.png</td>\n      <td>Portugal</td>\n      <td>https://cdn.sofifa.org/flags/38.png</td>\n      <td>78</td>\n      <td>78</td>\n      <td>Rangers</td>\n      <td>...</td>\n      <td>69.0</td>\n      <td>77.0</td>\n      <td>68.0</td>\n      <td>73.0</td>\n      <td>65.0</td>\n      <td>65.0</td>\n      <td>68.0</td>\n      <td>65.0</td>\n      <td>69.0</td>\n      <td>68.0</td>\n    </tr>\n  </tbody>\n</table>\n<p>1 rows × 74 columns</p>\n</div>"
     },
     "execution_count": 30,
     "metadata": {},
     "output_type": "execute_result"
    }
   ],
   "source": [
    "df[df['Name'] == \"Bruno Alves\"]"
   ],
   "metadata": {
    "collapsed": false
   }
  },
  {
   "cell_type": "code",
   "execution_count": 31,
   "outputs": [
    {
     "data": {
      "text/plain": "Empty DataFrame\nColumns: [ID, name, full_name, club, club_logo, special, age, league, birth_date, height_cm, weight_kg, body_type, real_face, flag, nationality, photo, eur_value, eur_wage, eur_release_clause, overall, potential, pac, sho, pas, dri, def, phy, international_reputation, skill_moves, weak_foot, work_rate_att, work_rate_def, preferred_foot, crossing, finishing, heading_accuracy, short_passing, volleys, dribbling, curve, free_kick_accuracy, long_passing, ball_control, acceleration, sprint_speed, agility, reactions, balance, shot_power, jumping, stamina, strength, long_shots, aggression, interceptions, positioning, vision, penalties, composure, marking, standing_tackle, sliding_tackle, gk_diving, gk_handling, gk_kicking, gk_positioning, gk_reflexes, rs, rw, rf, ram, rcm, rm, rdm, rcb, rb, rwb, st, lw, cf, cam, cm, lm, cdm, cb, lb, lwb, ls, lf, lam, lcm, ldm, lcb, gk, 1_on_1_rush_trait, acrobatic_clearance_trait, argues_with_officials_trait, avoids_using_weaker_foot_trait, backs_into_player_trait, bicycle_kicks_trait, ...]\nIndex: []\n\n[0 rows x 185 columns]",
      "text/html": "<div>\n<style scoped>\n    .dataframe tbody tr th:only-of-type {\n        vertical-align: middle;\n    }\n\n    .dataframe tbody tr th {\n        vertical-align: top;\n    }\n\n    .dataframe thead th {\n        text-align: right;\n    }\n</style>\n<table border=\"1\" class=\"dataframe\">\n  <thead>\n    <tr style=\"text-align: right;\">\n      <th></th>\n      <th>ID</th>\n      <th>name</th>\n      <th>full_name</th>\n      <th>club</th>\n      <th>club_logo</th>\n      <th>special</th>\n      <th>age</th>\n      <th>league</th>\n      <th>birth_date</th>\n      <th>height_cm</th>\n      <th>...</th>\n      <th>prefers_cb</th>\n      <th>prefers_lb</th>\n      <th>prefers_lwb</th>\n      <th>prefers_ls</th>\n      <th>prefers_lf</th>\n      <th>prefers_lam</th>\n      <th>prefers_lcm</th>\n      <th>prefers_ldm</th>\n      <th>prefers_lcb</th>\n      <th>prefers_gk</th>\n    </tr>\n  </thead>\n  <tbody>\n  </tbody>\n</table>\n<p>0 rows × 185 columns</p>\n</div>"
     },
     "execution_count": 31,
     "metadata": {},
     "output_type": "execute_result"
    }
   ],
   "source": [
    "df1[df1['name'] == \"Bruno Alves\"]"
   ],
   "metadata": {
    "collapsed": false
   }
  }
 ],
 "metadata": {
  "kernelspec": {
   "display_name": "Python 3",
   "language": "python",
   "name": "python3"
  },
  "language_info": {
   "codemirror_mode": {
    "name": "ipython",
    "version": 2
   },
   "file_extension": ".py",
   "mimetype": "text/x-python",
   "name": "python",
   "nbconvert_exporter": "python",
   "pygments_lexer": "ipython2",
   "version": "2.7.6"
  }
 },
 "nbformat": 4,
 "nbformat_minor": 0
}
