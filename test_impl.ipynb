{
 "cells": [
  {
   "cell_type": "code",
   "execution_count": 1,
   "metadata": {
    "collapsed": true
   },
   "outputs": [
    {
     "data": {
      "text/plain": "    firstname    sex pred_sex\n0  Louis-Jean  homme     None\n1       Marie  femme    femme\n2       Marie  femme    femme\n3  Marguerite  femme     None\n4     Antoine  homme     None\n5       Louis  homme     None",
      "text/html": "<div>\n<style scoped>\n    .dataframe tbody tr th:only-of-type {\n        vertical-align: middle;\n    }\n\n    .dataframe tbody tr th {\n        vertical-align: top;\n    }\n\n    .dataframe thead th {\n        text-align: right;\n    }\n</style>\n<table border=\"1\" class=\"dataframe\">\n  <thead>\n    <tr style=\"text-align: right;\">\n      <th></th>\n      <th>firstname</th>\n      <th>sex</th>\n      <th>pred_sex</th>\n    </tr>\n  </thead>\n  <tbody>\n    <tr>\n      <th>0</th>\n      <td>Louis-Jean</td>\n      <td>homme</td>\n      <td>None</td>\n    </tr>\n    <tr>\n      <th>1</th>\n      <td>Marie</td>\n      <td>femme</td>\n      <td>femme</td>\n    </tr>\n    <tr>\n      <th>2</th>\n      <td>Marie</td>\n      <td>femme</td>\n      <td>femme</td>\n    </tr>\n    <tr>\n      <th>3</th>\n      <td>Marguerite</td>\n      <td>femme</td>\n      <td>None</td>\n    </tr>\n    <tr>\n      <th>4</th>\n      <td>Antoine</td>\n      <td>homme</td>\n      <td>None</td>\n    </tr>\n    <tr>\n      <th>5</th>\n      <td>Louis</td>\n      <td>homme</td>\n      <td>None</td>\n    </tr>\n  </tbody>\n</table>\n</div>"
     },
     "execution_count": 1,
     "metadata": {},
     "output_type": "execute_result"
    }
   ],
   "source": [
    "import pandas as pd\n",
    "\n",
    "# Assuming your dataframes are named firstname_sex and df\n",
    "\n",
    "# Sample data\n",
    "data_firstname_sex = {\n",
    "    'firstname': ['marie', 'jean', 'pierre'],\n",
    "    'male': [10145, 1869615, 1475841],\n",
    "    'female': [2390322, 6476, 5047]\n",
    "}\n",
    "\n",
    "data_df = {\n",
    "    'firstname': ['Louis-Jean', 'Marie', 'Marie', 'Marguerite', 'Antoine', 'Louis'],\n",
    "    'sex': ['homme', 'femme', 'femme', 'femme', 'homme', 'homme']\n",
    "}\n",
    "\n",
    "# Create dataframes\n",
    "firstname_sex = pd.DataFrame(data_firstname_sex)\n",
    "df = pd.DataFrame(data_df)\n",
    "\n",
    "# Function to determine predicted sex\n",
    "def predict_sex(row):\n",
    "    firstname = row['firstname'].lower()\n",
    "    match = firstname_sex[firstname_sex['firstname'] == firstname]\n",
    "    if len(match) > 0:\n",
    "        if match['male'].iloc[0] > match['female'].iloc[0]:\n",
    "            return 'homme'\n",
    "        else:\n",
    "            return 'femme'\n",
    "    else:\n",
    "        return None\n",
    "\n",
    "# Apply function to create 'pred_sex' column\n",
    "df['pred_sex'] = df.apply(predict_sex, axis=1)\n",
    "\n",
    "df"
   ]
  },
  {
   "cell_type": "code",
   "execution_count": null,
   "outputs": [],
   "source": [],
   "metadata": {
    "collapsed": false
   }
  },
  {
   "cell_type": "code",
   "execution_count": null,
   "outputs": [],
   "source": [],
   "metadata": {
    "collapsed": false
   }
  }
 ],
 "metadata": {
  "kernelspec": {
   "display_name": "Python 3",
   "language": "python",
   "name": "python3"
  },
  "language_info": {
   "codemirror_mode": {
    "name": "ipython",
    "version": 2
   },
   "file_extension": ".py",
   "mimetype": "text/x-python",
   "name": "python",
   "nbconvert_exporter": "python",
   "pygments_lexer": "ipython2",
   "version": "2.7.6"
  }
 },
 "nbformat": 4,
 "nbformat_minor": 0
}
